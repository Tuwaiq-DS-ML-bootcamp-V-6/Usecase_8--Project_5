{
 "cells": [
  {
   "cell_type": "code",
   "execution_count": 4,
   "id": "e69c4ba1-85f3-4a02-ae37-c64347a01803",
   "metadata": {},
   "outputs": [],
   "source": [
    "#Import all relevant libraries\n",
    "import numpy as np\n",
    "import pandas as pd\n",
    "import matplotlib.pyplot as plt\n",
    "import seaborn as sns\n",
    "from scipy.stats import zscore\n",
    "import plotly as px\n",
    " \n",
    "## This statement allows the visuals to render within your Jupyter Notebook.\n",
    "%matplotlib inline"
   ]
  },
  {
   "cell_type": "markdown",
   "id": "e395e8bf-b530-4720-8d0f-26811e927d6e",
   "metadata": {},
   "source": [
    "## Loading the data\n",
    "We can now load the dataset into pandas using the read_csv() function. This converts the CSV file into a Pandas dataframe."
   ]
  },
  {
   "cell_type": "code",
   "execution_count": 5,
   "id": "cf4030b0-aa7f-4bd7-8e9c-c1b7f4d202d0",
   "metadata": {},
   "outputs": [],
   "source": [
    "#Read in the csv file and convert to a Pandas dataframe\n",
    "df = pd.read_csv('merged_file.csv')"
   ]
  },
  {
   "cell_type": "markdown",
   "id": "ca5ed983-0f72-43eb-8168-6fafd48c562e",
   "metadata": {},
   "source": [
    "### Viewing the dataframe\n",
    "We can get a quick sense of the size of our dataset by using the shape method. This returns a tuple with the number of rows and columns in the dataset."
   ]
  },
  {
   "cell_type": "code",
   "execution_count": 6,
   "id": "bfde0b69-613c-4dd1-8ebf-e4d2e570e653",
   "metadata": {},
   "outputs": [
    {
     "data": {
      "text/html": [
       "<div>\n",
       "<style scoped>\n",
       "    .dataframe tbody tr th:only-of-type {\n",
       "        vertical-align: middle;\n",
       "    }\n",
       "\n",
       "    .dataframe tbody tr th {\n",
       "        vertical-align: top;\n",
       "    }\n",
       "\n",
       "    .dataframe thead th {\n",
       "        text-align: right;\n",
       "    }\n",
       "</style>\n",
       "<table border=\"1\" class=\"dataframe\">\n",
       "  <thead>\n",
       "    <tr style=\"text-align: right;\">\n",
       "      <th></th>\n",
       "      <th>Unnamed: 0</th>\n",
       "      <th>Name</th>\n",
       "      <th>Contact Information</th>\n",
       "      <th>Rating</th>\n",
       "      <th>Number of Ratings</th>\n",
       "      <th>Longitude</th>\n",
       "      <th>Latitude</th>\n",
       "      <th>Types</th>\n",
       "      <th>neighborhood</th>\n",
       "    </tr>\n",
       "  </thead>\n",
       "  <tbody>\n",
       "    <tr>\n",
       "      <th>0</th>\n",
       "      <td>0</td>\n",
       "      <td>فندق ميرا</td>\n",
       "      <td>9200 08155</td>\n",
       "      <td>3.7</td>\n",
       "      <td>1336.0</td>\n",
       "      <td>46.693985</td>\n",
       "      <td>24.701278</td>\n",
       "      <td>['lodging', 'restaurant', 'food', 'point_of_in...</td>\n",
       "      <td>حي الملز</td>\n",
       "    </tr>\n",
       "    <tr>\n",
       "      <th>1</th>\n",
       "      <td>1</td>\n",
       "      <td>مركز ماي كار لصيانة السيارات الاوروبية</td>\n",
       "      <td>NaN</td>\n",
       "      <td>3.5</td>\n",
       "      <td>2755.0</td>\n",
       "      <td>46.576437</td>\n",
       "      <td>24.851751</td>\n",
       "      <td>['restaurant', 'food', 'point_of_interest', 'e...</td>\n",
       "      <td>حي الملز</td>\n",
       "    </tr>\n",
       "    <tr>\n",
       "      <th>2</th>\n",
       "      <td>2</td>\n",
       "      <td>Luthan Hotel and Spa</td>\n",
       "      <td>011 480 7799</td>\n",
       "      <td>4.0</td>\n",
       "      <td>423.0</td>\n",
       "      <td>46.641709</td>\n",
       "      <td>24.706649</td>\n",
       "      <td>['spa', 'lodging', 'restaurant', 'food', 'poin...</td>\n",
       "      <td>حي الملز</td>\n",
       "    </tr>\n",
       "    <tr>\n",
       "      <th>3</th>\n",
       "      <td>3</td>\n",
       "      <td>Dining Hall</td>\n",
       "      <td>011 467 5591</td>\n",
       "      <td>3.0</td>\n",
       "      <td>27.0</td>\n",
       "      <td>46.619655</td>\n",
       "      <td>24.720989</td>\n",
       "      <td>['restaurant', 'point_of_interest', 'food', 'e...</td>\n",
       "      <td>حي الملز</td>\n",
       "    </tr>\n",
       "    <tr>\n",
       "      <th>4</th>\n",
       "      <td>4</td>\n",
       "      <td>Sushi Yoshi</td>\n",
       "      <td>011 812 0055</td>\n",
       "      <td>4.0</td>\n",
       "      <td>1721.0</td>\n",
       "      <td>46.706125</td>\n",
       "      <td>24.704821</td>\n",
       "      <td>['restaurant', 'point_of_interest', 'food', 'e...</td>\n",
       "      <td>حي الملز</td>\n",
       "    </tr>\n",
       "  </tbody>\n",
       "</table>\n",
       "</div>"
      ],
      "text/plain": [
       "   Unnamed: 0                                    Name Contact Information  \\\n",
       "0           0                               فندق ميرا          9200 08155   \n",
       "1           1  مركز ماي كار لصيانة السيارات الاوروبية                 NaN   \n",
       "2           2                    Luthan Hotel and Spa        011 480 7799   \n",
       "3           3                             Dining Hall        011 467 5591   \n",
       "4           4                             Sushi Yoshi        011 812 0055   \n",
       "\n",
       "   Rating  Number of Ratings  Longitude   Latitude  \\\n",
       "0     3.7             1336.0  46.693985  24.701278   \n",
       "1     3.5             2755.0  46.576437  24.851751   \n",
       "2     4.0              423.0  46.641709  24.706649   \n",
       "3     3.0               27.0  46.619655  24.720989   \n",
       "4     4.0             1721.0  46.706125  24.704821   \n",
       "\n",
       "                                               Types neighborhood  \n",
       "0  ['lodging', 'restaurant', 'food', 'point_of_in...     حي الملز  \n",
       "1  ['restaurant', 'food', 'point_of_interest', 'e...     حي الملز  \n",
       "2  ['spa', 'lodging', 'restaurant', 'food', 'poin...     حي الملز  \n",
       "3  ['restaurant', 'point_of_interest', 'food', 'e...     حي الملز  \n",
       "4  ['restaurant', 'point_of_interest', 'food', 'e...     حي الملز  "
      ]
     },
     "execution_count": 6,
     "metadata": {},
     "output_type": "execute_result"
    }
   ],
   "source": [
    "df.head()"
   ]
  },
  {
   "cell_type": "markdown",
   "id": "bd2b5bc4-db37-4432-b666-0714afd0c4ca",
   "metadata": {},
   "source": [
    "## 1. Data Profiling:\n",
    "Data profiling is a comprehensive process of examining the data available in an existing dataset and collecting statistics and information about that data. "
   ]
  },
  {
   "cell_type": "code",
   "execution_count": 7,
   "id": "672f2081-5a2c-4908-8cbd-29519fb3cac5",
   "metadata": {},
   "outputs": [
    {
     "data": {
      "text/html": [
       "<div>\n",
       "<style scoped>\n",
       "    .dataframe tbody tr th:only-of-type {\n",
       "        vertical-align: middle;\n",
       "    }\n",
       "\n",
       "    .dataframe tbody tr th {\n",
       "        vertical-align: top;\n",
       "    }\n",
       "\n",
       "    .dataframe thead th {\n",
       "        text-align: right;\n",
       "    }\n",
       "</style>\n",
       "<table border=\"1\" class=\"dataframe\">\n",
       "  <thead>\n",
       "    <tr style=\"text-align: right;\">\n",
       "      <th></th>\n",
       "      <th>Unnamed: 0</th>\n",
       "      <th>Name</th>\n",
       "      <th>Contact Information</th>\n",
       "      <th>Rating</th>\n",
       "      <th>Number of Ratings</th>\n",
       "      <th>Longitude</th>\n",
       "      <th>Latitude</th>\n",
       "      <th>Types</th>\n",
       "      <th>neighborhood</th>\n",
       "    </tr>\n",
       "  </thead>\n",
       "  <tbody>\n",
       "    <tr>\n",
       "      <th>0</th>\n",
       "      <td>0</td>\n",
       "      <td>فندق ميرا</td>\n",
       "      <td>9200 08155</td>\n",
       "      <td>3.7</td>\n",
       "      <td>1336.0</td>\n",
       "      <td>46.693985</td>\n",
       "      <td>24.701278</td>\n",
       "      <td>['lodging', 'restaurant', 'food', 'point_of_in...</td>\n",
       "      <td>حي الملز</td>\n",
       "    </tr>\n",
       "    <tr>\n",
       "      <th>1</th>\n",
       "      <td>1</td>\n",
       "      <td>مركز ماي كار لصيانة السيارات الاوروبية</td>\n",
       "      <td>NaN</td>\n",
       "      <td>3.5</td>\n",
       "      <td>2755.0</td>\n",
       "      <td>46.576437</td>\n",
       "      <td>24.851751</td>\n",
       "      <td>['restaurant', 'food', 'point_of_interest', 'e...</td>\n",
       "      <td>حي الملز</td>\n",
       "    </tr>\n",
       "    <tr>\n",
       "      <th>2</th>\n",
       "      <td>2</td>\n",
       "      <td>Luthan Hotel and Spa</td>\n",
       "      <td>011 480 7799</td>\n",
       "      <td>4.0</td>\n",
       "      <td>423.0</td>\n",
       "      <td>46.641709</td>\n",
       "      <td>24.706649</td>\n",
       "      <td>['spa', 'lodging', 'restaurant', 'food', 'poin...</td>\n",
       "      <td>حي الملز</td>\n",
       "    </tr>\n",
       "    <tr>\n",
       "      <th>3</th>\n",
       "      <td>3</td>\n",
       "      <td>Dining Hall</td>\n",
       "      <td>011 467 5591</td>\n",
       "      <td>3.0</td>\n",
       "      <td>27.0</td>\n",
       "      <td>46.619655</td>\n",
       "      <td>24.720989</td>\n",
       "      <td>['restaurant', 'point_of_interest', 'food', 'e...</td>\n",
       "      <td>حي الملز</td>\n",
       "    </tr>\n",
       "    <tr>\n",
       "      <th>4</th>\n",
       "      <td>4</td>\n",
       "      <td>Sushi Yoshi</td>\n",
       "      <td>011 812 0055</td>\n",
       "      <td>4.0</td>\n",
       "      <td>1721.0</td>\n",
       "      <td>46.706125</td>\n",
       "      <td>24.704821</td>\n",
       "      <td>['restaurant', 'point_of_interest', 'food', 'e...</td>\n",
       "      <td>حي الملز</td>\n",
       "    </tr>\n",
       "    <tr>\n",
       "      <th>...</th>\n",
       "      <td>...</td>\n",
       "      <td>...</td>\n",
       "      <td>...</td>\n",
       "      <td>...</td>\n",
       "      <td>...</td>\n",
       "      <td>...</td>\n",
       "      <td>...</td>\n",
       "      <td>...</td>\n",
       "      <td>...</td>\n",
       "    </tr>\n",
       "    <tr>\n",
       "      <th>1795</th>\n",
       "      <td>295</td>\n",
       "      <td>Al Romansiah</td>\n",
       "      <td>9200 00144</td>\n",
       "      <td>4.2</td>\n",
       "      <td>9460.0</td>\n",
       "      <td>46.792399</td>\n",
       "      <td>24.695811</td>\n",
       "      <td>['restaurant', 'point_of_interest', 'food', 'e...</td>\n",
       "      <td>حي الحمراء</td>\n",
       "    </tr>\n",
       "    <tr>\n",
       "      <th>1796</th>\n",
       "      <td>296</td>\n",
       "      <td>Herfy</td>\n",
       "      <td>9200 01111</td>\n",
       "      <td>3.8</td>\n",
       "      <td>1081.0</td>\n",
       "      <td>46.797511</td>\n",
       "      <td>24.780961</td>\n",
       "      <td>['restaurant', 'point_of_interest', 'food', 'e...</td>\n",
       "      <td>حي الحمراء</td>\n",
       "    </tr>\n",
       "    <tr>\n",
       "      <th>1797</th>\n",
       "      <td>297</td>\n",
       "      <td>KFC</td>\n",
       "      <td>9200 21111</td>\n",
       "      <td>3.5</td>\n",
       "      <td>1825.0</td>\n",
       "      <td>46.764410</td>\n",
       "      <td>24.732753</td>\n",
       "      <td>['restaurant', 'food', 'point_of_interest', 'e...</td>\n",
       "      <td>حي الحمراء</td>\n",
       "    </tr>\n",
       "    <tr>\n",
       "      <th>1798</th>\n",
       "      <td>298</td>\n",
       "      <td>Burger King - Rawdah</td>\n",
       "      <td>NaN</td>\n",
       "      <td>3.7</td>\n",
       "      <td>1370.0</td>\n",
       "      <td>46.762265</td>\n",
       "      <td>24.735643</td>\n",
       "      <td>['restaurant', 'food', 'point_of_interest', 'e...</td>\n",
       "      <td>حي الحمراء</td>\n",
       "    </tr>\n",
       "    <tr>\n",
       "      <th>1799</th>\n",
       "      <td>299</td>\n",
       "      <td>KFC</td>\n",
       "      <td>9200 21111</td>\n",
       "      <td>3.8</td>\n",
       "      <td>2246.0</td>\n",
       "      <td>46.664761</td>\n",
       "      <td>24.704578</td>\n",
       "      <td>['restaurant', 'food', 'point_of_interest', 'e...</td>\n",
       "      <td>حي الحمراء</td>\n",
       "    </tr>\n",
       "  </tbody>\n",
       "</table>\n",
       "<p>1800 rows × 9 columns</p>\n",
       "</div>"
      ],
      "text/plain": [
       "      Unnamed: 0                                    Name Contact Information  \\\n",
       "0              0                               فندق ميرا          9200 08155   \n",
       "1              1  مركز ماي كار لصيانة السيارات الاوروبية                 NaN   \n",
       "2              2                    Luthan Hotel and Spa        011 480 7799   \n",
       "3              3                             Dining Hall        011 467 5591   \n",
       "4              4                             Sushi Yoshi        011 812 0055   \n",
       "...          ...                                     ...                 ...   \n",
       "1795         295                            Al Romansiah          9200 00144   \n",
       "1796         296                                   Herfy          9200 01111   \n",
       "1797         297                                     KFC          9200 21111   \n",
       "1798         298                    Burger King - Rawdah                 NaN   \n",
       "1799         299                                     KFC          9200 21111   \n",
       "\n",
       "      Rating  Number of Ratings  Longitude   Latitude  \\\n",
       "0        3.7             1336.0  46.693985  24.701278   \n",
       "1        3.5             2755.0  46.576437  24.851751   \n",
       "2        4.0              423.0  46.641709  24.706649   \n",
       "3        3.0               27.0  46.619655  24.720989   \n",
       "4        4.0             1721.0  46.706125  24.704821   \n",
       "...      ...                ...        ...        ...   \n",
       "1795     4.2             9460.0  46.792399  24.695811   \n",
       "1796     3.8             1081.0  46.797511  24.780961   \n",
       "1797     3.5             1825.0  46.764410  24.732753   \n",
       "1798     3.7             1370.0  46.762265  24.735643   \n",
       "1799     3.8             2246.0  46.664761  24.704578   \n",
       "\n",
       "                                                  Types neighborhood  \n",
       "0     ['lodging', 'restaurant', 'food', 'point_of_in...     حي الملز  \n",
       "1     ['restaurant', 'food', 'point_of_interest', 'e...     حي الملز  \n",
       "2     ['spa', 'lodging', 'restaurant', 'food', 'poin...     حي الملز  \n",
       "3     ['restaurant', 'point_of_interest', 'food', 'e...     حي الملز  \n",
       "4     ['restaurant', 'point_of_interest', 'food', 'e...     حي الملز  \n",
       "...                                                 ...          ...  \n",
       "1795  ['restaurant', 'point_of_interest', 'food', 'e...   حي الحمراء  \n",
       "1796  ['restaurant', 'point_of_interest', 'food', 'e...   حي الحمراء  \n",
       "1797  ['restaurant', 'food', 'point_of_interest', 'e...   حي الحمراء  \n",
       "1798  ['restaurant', 'food', 'point_of_interest', 'e...   حي الحمراء  \n",
       "1799  ['restaurant', 'food', 'point_of_interest', 'e...   حي الحمراء  \n",
       "\n",
       "[1800 rows x 9 columns]"
      ]
     },
     "execution_count": 7,
     "metadata": {},
     "output_type": "execute_result"
    }
   ],
   "source": [
    "df"
   ]
  },
  {
   "cell_type": "markdown",
   "id": "834929aa-fd6a-4ec5-84d4-77c4b3c1a506",
   "metadata": {},
   "source": [
    "The process of profiling differs slightly for categorical and numerical variables due to their inherent differences.\n",
    "\n",
    "**The two main types of data are:**\n",
    "- Quantitative (numerical) data\n",
    "- Qualitative (categorical) data"
   ]
  },
  {
   "cell_type": "markdown",
   "id": "3a9954f5-6fbc-45b4-ad86-3e21b6e0ca2d",
   "metadata": {},
   "source": [
    "### Data Quality Checks\n",
    "Data quality checks involve the process of ensuring that the data is accurate, complete, consistent, relevant, and reliable. \n",
    "\n",
    "\n",
    "**Here are typical steps involved in checking data quality:**"
   ]
  },
  {
   "cell_type": "markdown",
   "id": "4818c876-173d-4e56-9e7d-b4334d2def25",
   "metadata": {},
   "source": [
    "#### 1. Reliability:\n",
    "Evaluate the data's source and collection process to determine its trustworthiness."
   ]
  },
  {
   "cell_type": "code",
   "execution_count": 8,
   "id": "9034ae7b-dc1d-4cba-8f9e-bb499d021cde",
   "metadata": {},
   "outputs": [],
   "source": [
    "# Scraping from google maps"
   ]
  },
  {
   "cell_type": "markdown",
   "id": "2ce0cc59-8c92-4acc-8d07-c40764e1a86b",
   "metadata": {},
   "source": [
    "#### 2. Timeliness: \n",
    "Ensure the data is up-to-date and reflective of the current situation or the period of interest for the analysis."
   ]
  },
  {
   "cell_type": "code",
   "execution_count": 9,
   "id": "4b78ae35-7226-4cb6-b8b2-a46c2ed17cf9",
   "metadata": {},
   "outputs": [],
   "source": [
    "# Up to date"
   ]
  },
  {
   "cell_type": "markdown",
   "id": "7fab0fe2-6624-4615-b9d8-3c3669056bf8",
   "metadata": {},
   "source": [
    "#### 3. Consistency: \n",
    "\n",
    "Confirm that the data is consistent within the dataset and across multiple data sources. For example, the same data point should not have different values in different places.\n"
   ]
  },
  {
   "cell_type": "code",
   "execution_count": 10,
   "id": "7fecc573-959f-4800-8ddd-a67985c68b18",
   "metadata": {},
   "outputs": [],
   "source": [
    "# The data have the same meannings and values across other data sources"
   ]
  },
  {
   "cell_type": "markdown",
   "id": "bec3d183-bba0-4b12-b963-487daab1e876",
   "metadata": {},
   "source": [
    "#### 4. Relevance: \n",
    "Assess whether the data is appropriate and applicable for the intended analysis. Data that is not relevant can skew results and lead to incorrect conclusions.\n",
    "\n",
    "**Key considerations for relevance include:**\n",
    "\n",
    "> 1. Sample Appropriateness: Confirm that your data sample aligns with your analysis objectives. For instance, utilizing data from the Northern region will not yield accurate insights for the Western region of the Kingdom.\n",
    ">\n",
    "> 2. Variable Selection: Any column will not be relevant for our analysis, we can get rid of these using the drop() method. We will set the “axis” argument to 1 since we’re dealing with columns, and set the “inplace” argument to True to make the change permanent.\n"
   ]
  },
  {
   "cell_type": "code",
   "execution_count": 11,
   "id": "50a934b7-a0cd-443f-8a27-f10e9a6e8647",
   "metadata": {
    "scrolled": true
   },
   "outputs": [],
   "source": [
    "# Variable selection\n",
    "df = df.drop('Contact Information', axis=1)\n",
    "df = df.drop('Unnamed: 0', axis=1)"
   ]
  },
  {
   "cell_type": "code",
   "execution_count": 12,
   "id": "cf0f7229",
   "metadata": {},
   "outputs": [],
   "source": [
    "df = df[df['Types'].str.contains('restaurant')]"
   ]
  },
  {
   "cell_type": "code",
   "execution_count": 13,
   "id": "38ae8e79",
   "metadata": {},
   "outputs": [
    {
     "data": {
      "text/html": [
       "<div>\n",
       "<style scoped>\n",
       "    .dataframe tbody tr th:only-of-type {\n",
       "        vertical-align: middle;\n",
       "    }\n",
       "\n",
       "    .dataframe tbody tr th {\n",
       "        vertical-align: top;\n",
       "    }\n",
       "\n",
       "    .dataframe thead th {\n",
       "        text-align: right;\n",
       "    }\n",
       "</style>\n",
       "<table border=\"1\" class=\"dataframe\">\n",
       "  <thead>\n",
       "    <tr style=\"text-align: right;\">\n",
       "      <th></th>\n",
       "      <th>Name</th>\n",
       "      <th>Rating</th>\n",
       "      <th>Number of Ratings</th>\n",
       "      <th>Longitude</th>\n",
       "      <th>Latitude</th>\n",
       "      <th>Types</th>\n",
       "      <th>neighborhood</th>\n",
       "    </tr>\n",
       "  </thead>\n",
       "  <tbody>\n",
       "    <tr>\n",
       "      <th>0</th>\n",
       "      <td>فندق ميرا</td>\n",
       "      <td>3.7</td>\n",
       "      <td>1336.0</td>\n",
       "      <td>46.693985</td>\n",
       "      <td>24.701278</td>\n",
       "      <td>['lodging', 'restaurant', 'food', 'point_of_in...</td>\n",
       "      <td>حي الملز</td>\n",
       "    </tr>\n",
       "    <tr>\n",
       "      <th>1</th>\n",
       "      <td>مركز ماي كار لصيانة السيارات الاوروبية</td>\n",
       "      <td>3.5</td>\n",
       "      <td>2755.0</td>\n",
       "      <td>46.576437</td>\n",
       "      <td>24.851751</td>\n",
       "      <td>['restaurant', 'food', 'point_of_interest', 'e...</td>\n",
       "      <td>حي الملز</td>\n",
       "    </tr>\n",
       "    <tr>\n",
       "      <th>2</th>\n",
       "      <td>Luthan Hotel and Spa</td>\n",
       "      <td>4.0</td>\n",
       "      <td>423.0</td>\n",
       "      <td>46.641709</td>\n",
       "      <td>24.706649</td>\n",
       "      <td>['spa', 'lodging', 'restaurant', 'food', 'poin...</td>\n",
       "      <td>حي الملز</td>\n",
       "    </tr>\n",
       "    <tr>\n",
       "      <th>3</th>\n",
       "      <td>Dining Hall</td>\n",
       "      <td>3.0</td>\n",
       "      <td>27.0</td>\n",
       "      <td>46.619655</td>\n",
       "      <td>24.720989</td>\n",
       "      <td>['restaurant', 'point_of_interest', 'food', 'e...</td>\n",
       "      <td>حي الملز</td>\n",
       "    </tr>\n",
       "    <tr>\n",
       "      <th>4</th>\n",
       "      <td>Sushi Yoshi</td>\n",
       "      <td>4.0</td>\n",
       "      <td>1721.0</td>\n",
       "      <td>46.706125</td>\n",
       "      <td>24.704821</td>\n",
       "      <td>['restaurant', 'point_of_interest', 'food', 'e...</td>\n",
       "      <td>حي الملز</td>\n",
       "    </tr>\n",
       "  </tbody>\n",
       "</table>\n",
       "</div>"
      ],
      "text/plain": [
       "                                     Name  Rating  Number of Ratings  \\\n",
       "0                               فندق ميرا     3.7             1336.0   \n",
       "1  مركز ماي كار لصيانة السيارات الاوروبية     3.5             2755.0   \n",
       "2                    Luthan Hotel and Spa     4.0              423.0   \n",
       "3                             Dining Hall     3.0               27.0   \n",
       "4                             Sushi Yoshi     4.0             1721.0   \n",
       "\n",
       "   Longitude   Latitude                                              Types  \\\n",
       "0  46.693985  24.701278  ['lodging', 'restaurant', 'food', 'point_of_in...   \n",
       "1  46.576437  24.851751  ['restaurant', 'food', 'point_of_interest', 'e...   \n",
       "2  46.641709  24.706649  ['spa', 'lodging', 'restaurant', 'food', 'poin...   \n",
       "3  46.619655  24.720989  ['restaurant', 'point_of_interest', 'food', 'e...   \n",
       "4  46.706125  24.704821  ['restaurant', 'point_of_interest', 'food', 'e...   \n",
       "\n",
       "  neighborhood  \n",
       "0     حي الملز  \n",
       "1     حي الملز  \n",
       "2     حي الملز  \n",
       "3     حي الملز  \n",
       "4     حي الملز  "
      ]
     },
     "execution_count": 13,
     "metadata": {},
     "output_type": "execute_result"
    }
   ],
   "source": [
    "df.head()"
   ]
  },
  {
   "cell_type": "code",
   "execution_count": 14,
   "id": "d9ad7ac4",
   "metadata": {},
   "outputs": [],
   "source": [
    "# Split the 'Types' column and expand into multiple columns\n",
    "types_split = df['Types'].str.strip('[]').str.replace(\"'\", \"\").str.split(',', expand=True)\n",
    "\n",
    "# Rename the new columns for better readability\n",
    "types_split.columns = [f'Type_{i+1}' for i in range(types_split.shape[1])]"
   ]
  },
  {
   "cell_type": "code",
   "execution_count": 15,
   "id": "ab67cafd",
   "metadata": {},
   "outputs": [
    {
     "data": {
      "text/html": [
       "<div>\n",
       "<style scoped>\n",
       "    .dataframe tbody tr th:only-of-type {\n",
       "        vertical-align: middle;\n",
       "    }\n",
       "\n",
       "    .dataframe tbody tr th {\n",
       "        vertical-align: top;\n",
       "    }\n",
       "\n",
       "    .dataframe thead th {\n",
       "        text-align: right;\n",
       "    }\n",
       "</style>\n",
       "<table border=\"1\" class=\"dataframe\">\n",
       "  <thead>\n",
       "    <tr style=\"text-align: right;\">\n",
       "      <th></th>\n",
       "      <th>Type_1</th>\n",
       "      <th>Type_2</th>\n",
       "      <th>Type_3</th>\n",
       "      <th>Type_4</th>\n",
       "      <th>Type_5</th>\n",
       "      <th>Type_6</th>\n",
       "      <th>Type_7</th>\n",
       "      <th>Type_8</th>\n",
       "    </tr>\n",
       "  </thead>\n",
       "  <tbody>\n",
       "    <tr>\n",
       "      <th>0</th>\n",
       "      <td>lodging</td>\n",
       "      <td>restaurant</td>\n",
       "      <td>food</td>\n",
       "      <td>point_of_interest</td>\n",
       "      <td>establishment</td>\n",
       "      <td>None</td>\n",
       "      <td>None</td>\n",
       "      <td>None</td>\n",
       "    </tr>\n",
       "    <tr>\n",
       "      <th>1</th>\n",
       "      <td>restaurant</td>\n",
       "      <td>food</td>\n",
       "      <td>point_of_interest</td>\n",
       "      <td>establishment</td>\n",
       "      <td>None</td>\n",
       "      <td>None</td>\n",
       "      <td>None</td>\n",
       "      <td>None</td>\n",
       "    </tr>\n",
       "    <tr>\n",
       "      <th>2</th>\n",
       "      <td>spa</td>\n",
       "      <td>lodging</td>\n",
       "      <td>restaurant</td>\n",
       "      <td>food</td>\n",
       "      <td>point_of_interest</td>\n",
       "      <td>establishment</td>\n",
       "      <td>None</td>\n",
       "      <td>None</td>\n",
       "    </tr>\n",
       "    <tr>\n",
       "      <th>3</th>\n",
       "      <td>restaurant</td>\n",
       "      <td>point_of_interest</td>\n",
       "      <td>food</td>\n",
       "      <td>establishment</td>\n",
       "      <td>None</td>\n",
       "      <td>None</td>\n",
       "      <td>None</td>\n",
       "      <td>None</td>\n",
       "    </tr>\n",
       "    <tr>\n",
       "      <th>4</th>\n",
       "      <td>restaurant</td>\n",
       "      <td>point_of_interest</td>\n",
       "      <td>food</td>\n",
       "      <td>establishment</td>\n",
       "      <td>None</td>\n",
       "      <td>None</td>\n",
       "      <td>None</td>\n",
       "      <td>None</td>\n",
       "    </tr>\n",
       "    <tr>\n",
       "      <th>...</th>\n",
       "      <td>...</td>\n",
       "      <td>...</td>\n",
       "      <td>...</td>\n",
       "      <td>...</td>\n",
       "      <td>...</td>\n",
       "      <td>...</td>\n",
       "      <td>...</td>\n",
       "      <td>...</td>\n",
       "    </tr>\n",
       "    <tr>\n",
       "      <th>1795</th>\n",
       "      <td>restaurant</td>\n",
       "      <td>point_of_interest</td>\n",
       "      <td>food</td>\n",
       "      <td>establishment</td>\n",
       "      <td>None</td>\n",
       "      <td>None</td>\n",
       "      <td>None</td>\n",
       "      <td>None</td>\n",
       "    </tr>\n",
       "    <tr>\n",
       "      <th>1796</th>\n",
       "      <td>restaurant</td>\n",
       "      <td>point_of_interest</td>\n",
       "      <td>food</td>\n",
       "      <td>establishment</td>\n",
       "      <td>None</td>\n",
       "      <td>None</td>\n",
       "      <td>None</td>\n",
       "      <td>None</td>\n",
       "    </tr>\n",
       "    <tr>\n",
       "      <th>1797</th>\n",
       "      <td>restaurant</td>\n",
       "      <td>food</td>\n",
       "      <td>point_of_interest</td>\n",
       "      <td>establishment</td>\n",
       "      <td>None</td>\n",
       "      <td>None</td>\n",
       "      <td>None</td>\n",
       "      <td>None</td>\n",
       "    </tr>\n",
       "    <tr>\n",
       "      <th>1798</th>\n",
       "      <td>restaurant</td>\n",
       "      <td>food</td>\n",
       "      <td>point_of_interest</td>\n",
       "      <td>establishment</td>\n",
       "      <td>None</td>\n",
       "      <td>None</td>\n",
       "      <td>None</td>\n",
       "      <td>None</td>\n",
       "    </tr>\n",
       "    <tr>\n",
       "      <th>1799</th>\n",
       "      <td>restaurant</td>\n",
       "      <td>food</td>\n",
       "      <td>point_of_interest</td>\n",
       "      <td>establishment</td>\n",
       "      <td>None</td>\n",
       "      <td>None</td>\n",
       "      <td>None</td>\n",
       "      <td>None</td>\n",
       "    </tr>\n",
       "  </tbody>\n",
       "</table>\n",
       "<p>1800 rows × 8 columns</p>\n",
       "</div>"
      ],
      "text/plain": [
       "          Type_1              Type_2              Type_3              Type_4  \\\n",
       "0        lodging          restaurant                food   point_of_interest   \n",
       "1     restaurant                food   point_of_interest       establishment   \n",
       "2            spa             lodging          restaurant                food   \n",
       "3     restaurant   point_of_interest                food       establishment   \n",
       "4     restaurant   point_of_interest                food       establishment   \n",
       "...          ...                 ...                 ...                 ...   \n",
       "1795  restaurant   point_of_interest                food       establishment   \n",
       "1796  restaurant   point_of_interest                food       establishment   \n",
       "1797  restaurant                food   point_of_interest       establishment   \n",
       "1798  restaurant                food   point_of_interest       establishment   \n",
       "1799  restaurant                food   point_of_interest       establishment   \n",
       "\n",
       "                  Type_5          Type_6 Type_7 Type_8  \n",
       "0          establishment            None   None   None  \n",
       "1                   None            None   None   None  \n",
       "2      point_of_interest   establishment   None   None  \n",
       "3                   None            None   None   None  \n",
       "4                   None            None   None   None  \n",
       "...                  ...             ...    ...    ...  \n",
       "1795                None            None   None   None  \n",
       "1796                None            None   None   None  \n",
       "1797                None            None   None   None  \n",
       "1798                None            None   None   None  \n",
       "1799                None            None   None   None  \n",
       "\n",
       "[1800 rows x 8 columns]"
      ]
     },
     "execution_count": 15,
     "metadata": {},
     "output_type": "execute_result"
    }
   ],
   "source": [
    "types_split"
   ]
  },
  {
   "cell_type": "code",
   "execution_count": 16,
   "id": "f0511af4",
   "metadata": {},
   "outputs": [],
   "source": [
    "df2 = df.join(types_split)\n"
   ]
  },
  {
   "cell_type": "code",
   "execution_count": 17,
   "id": "d07162b9",
   "metadata": {},
   "outputs": [
    {
     "data": {
      "text/html": [
       "<div>\n",
       "<style scoped>\n",
       "    .dataframe tbody tr th:only-of-type {\n",
       "        vertical-align: middle;\n",
       "    }\n",
       "\n",
       "    .dataframe tbody tr th {\n",
       "        vertical-align: top;\n",
       "    }\n",
       "\n",
       "    .dataframe thead th {\n",
       "        text-align: right;\n",
       "    }\n",
       "</style>\n",
       "<table border=\"1\" class=\"dataframe\">\n",
       "  <thead>\n",
       "    <tr style=\"text-align: right;\">\n",
       "      <th></th>\n",
       "      <th>Name</th>\n",
       "      <th>Rating</th>\n",
       "      <th>Number of Ratings</th>\n",
       "      <th>Longitude</th>\n",
       "      <th>Latitude</th>\n",
       "      <th>Types</th>\n",
       "      <th>neighborhood</th>\n",
       "      <th>Type_1</th>\n",
       "      <th>Type_2</th>\n",
       "      <th>Type_3</th>\n",
       "      <th>Type_4</th>\n",
       "      <th>Type_5</th>\n",
       "      <th>Type_6</th>\n",
       "      <th>Type_7</th>\n",
       "      <th>Type_8</th>\n",
       "    </tr>\n",
       "  </thead>\n",
       "  <tbody>\n",
       "    <tr>\n",
       "      <th>0</th>\n",
       "      <td>فندق ميرا</td>\n",
       "      <td>3.7</td>\n",
       "      <td>1336.0</td>\n",
       "      <td>46.693985</td>\n",
       "      <td>24.701278</td>\n",
       "      <td>['lodging', 'restaurant', 'food', 'point_of_in...</td>\n",
       "      <td>حي الملز</td>\n",
       "      <td>lodging</td>\n",
       "      <td>restaurant</td>\n",
       "      <td>food</td>\n",
       "      <td>point_of_interest</td>\n",
       "      <td>establishment</td>\n",
       "      <td>None</td>\n",
       "      <td>None</td>\n",
       "      <td>None</td>\n",
       "    </tr>\n",
       "    <tr>\n",
       "      <th>1</th>\n",
       "      <td>مركز ماي كار لصيانة السيارات الاوروبية</td>\n",
       "      <td>3.5</td>\n",
       "      <td>2755.0</td>\n",
       "      <td>46.576437</td>\n",
       "      <td>24.851751</td>\n",
       "      <td>['restaurant', 'food', 'point_of_interest', 'e...</td>\n",
       "      <td>حي الملز</td>\n",
       "      <td>restaurant</td>\n",
       "      <td>food</td>\n",
       "      <td>point_of_interest</td>\n",
       "      <td>establishment</td>\n",
       "      <td>None</td>\n",
       "      <td>None</td>\n",
       "      <td>None</td>\n",
       "      <td>None</td>\n",
       "    </tr>\n",
       "    <tr>\n",
       "      <th>2</th>\n",
       "      <td>Luthan Hotel and Spa</td>\n",
       "      <td>4.0</td>\n",
       "      <td>423.0</td>\n",
       "      <td>46.641709</td>\n",
       "      <td>24.706649</td>\n",
       "      <td>['spa', 'lodging', 'restaurant', 'food', 'poin...</td>\n",
       "      <td>حي الملز</td>\n",
       "      <td>spa</td>\n",
       "      <td>lodging</td>\n",
       "      <td>restaurant</td>\n",
       "      <td>food</td>\n",
       "      <td>point_of_interest</td>\n",
       "      <td>establishment</td>\n",
       "      <td>None</td>\n",
       "      <td>None</td>\n",
       "    </tr>\n",
       "    <tr>\n",
       "      <th>3</th>\n",
       "      <td>Dining Hall</td>\n",
       "      <td>3.0</td>\n",
       "      <td>27.0</td>\n",
       "      <td>46.619655</td>\n",
       "      <td>24.720989</td>\n",
       "      <td>['restaurant', 'point_of_interest', 'food', 'e...</td>\n",
       "      <td>حي الملز</td>\n",
       "      <td>restaurant</td>\n",
       "      <td>point_of_interest</td>\n",
       "      <td>food</td>\n",
       "      <td>establishment</td>\n",
       "      <td>None</td>\n",
       "      <td>None</td>\n",
       "      <td>None</td>\n",
       "      <td>None</td>\n",
       "    </tr>\n",
       "    <tr>\n",
       "      <th>4</th>\n",
       "      <td>Sushi Yoshi</td>\n",
       "      <td>4.0</td>\n",
       "      <td>1721.0</td>\n",
       "      <td>46.706125</td>\n",
       "      <td>24.704821</td>\n",
       "      <td>['restaurant', 'point_of_interest', 'food', 'e...</td>\n",
       "      <td>حي الملز</td>\n",
       "      <td>restaurant</td>\n",
       "      <td>point_of_interest</td>\n",
       "      <td>food</td>\n",
       "      <td>establishment</td>\n",
       "      <td>None</td>\n",
       "      <td>None</td>\n",
       "      <td>None</td>\n",
       "      <td>None</td>\n",
       "    </tr>\n",
       "    <tr>\n",
       "      <th>...</th>\n",
       "      <td>...</td>\n",
       "      <td>...</td>\n",
       "      <td>...</td>\n",
       "      <td>...</td>\n",
       "      <td>...</td>\n",
       "      <td>...</td>\n",
       "      <td>...</td>\n",
       "      <td>...</td>\n",
       "      <td>...</td>\n",
       "      <td>...</td>\n",
       "      <td>...</td>\n",
       "      <td>...</td>\n",
       "      <td>...</td>\n",
       "      <td>...</td>\n",
       "      <td>...</td>\n",
       "    </tr>\n",
       "    <tr>\n",
       "      <th>1795</th>\n",
       "      <td>Al Romansiah</td>\n",
       "      <td>4.2</td>\n",
       "      <td>9460.0</td>\n",
       "      <td>46.792399</td>\n",
       "      <td>24.695811</td>\n",
       "      <td>['restaurant', 'point_of_interest', 'food', 'e...</td>\n",
       "      <td>حي الحمراء</td>\n",
       "      <td>restaurant</td>\n",
       "      <td>point_of_interest</td>\n",
       "      <td>food</td>\n",
       "      <td>establishment</td>\n",
       "      <td>None</td>\n",
       "      <td>None</td>\n",
       "      <td>None</td>\n",
       "      <td>None</td>\n",
       "    </tr>\n",
       "    <tr>\n",
       "      <th>1796</th>\n",
       "      <td>Herfy</td>\n",
       "      <td>3.8</td>\n",
       "      <td>1081.0</td>\n",
       "      <td>46.797511</td>\n",
       "      <td>24.780961</td>\n",
       "      <td>['restaurant', 'point_of_interest', 'food', 'e...</td>\n",
       "      <td>حي الحمراء</td>\n",
       "      <td>restaurant</td>\n",
       "      <td>point_of_interest</td>\n",
       "      <td>food</td>\n",
       "      <td>establishment</td>\n",
       "      <td>None</td>\n",
       "      <td>None</td>\n",
       "      <td>None</td>\n",
       "      <td>None</td>\n",
       "    </tr>\n",
       "    <tr>\n",
       "      <th>1797</th>\n",
       "      <td>KFC</td>\n",
       "      <td>3.5</td>\n",
       "      <td>1825.0</td>\n",
       "      <td>46.764410</td>\n",
       "      <td>24.732753</td>\n",
       "      <td>['restaurant', 'food', 'point_of_interest', 'e...</td>\n",
       "      <td>حي الحمراء</td>\n",
       "      <td>restaurant</td>\n",
       "      <td>food</td>\n",
       "      <td>point_of_interest</td>\n",
       "      <td>establishment</td>\n",
       "      <td>None</td>\n",
       "      <td>None</td>\n",
       "      <td>None</td>\n",
       "      <td>None</td>\n",
       "    </tr>\n",
       "    <tr>\n",
       "      <th>1798</th>\n",
       "      <td>Burger King - Rawdah</td>\n",
       "      <td>3.7</td>\n",
       "      <td>1370.0</td>\n",
       "      <td>46.762265</td>\n",
       "      <td>24.735643</td>\n",
       "      <td>['restaurant', 'food', 'point_of_interest', 'e...</td>\n",
       "      <td>حي الحمراء</td>\n",
       "      <td>restaurant</td>\n",
       "      <td>food</td>\n",
       "      <td>point_of_interest</td>\n",
       "      <td>establishment</td>\n",
       "      <td>None</td>\n",
       "      <td>None</td>\n",
       "      <td>None</td>\n",
       "      <td>None</td>\n",
       "    </tr>\n",
       "    <tr>\n",
       "      <th>1799</th>\n",
       "      <td>KFC</td>\n",
       "      <td>3.8</td>\n",
       "      <td>2246.0</td>\n",
       "      <td>46.664761</td>\n",
       "      <td>24.704578</td>\n",
       "      <td>['restaurant', 'food', 'point_of_interest', 'e...</td>\n",
       "      <td>حي الحمراء</td>\n",
       "      <td>restaurant</td>\n",
       "      <td>food</td>\n",
       "      <td>point_of_interest</td>\n",
       "      <td>establishment</td>\n",
       "      <td>None</td>\n",
       "      <td>None</td>\n",
       "      <td>None</td>\n",
       "      <td>None</td>\n",
       "    </tr>\n",
       "  </tbody>\n",
       "</table>\n",
       "<p>1800 rows × 15 columns</p>\n",
       "</div>"
      ],
      "text/plain": [
       "                                        Name  Rating  Number of Ratings  \\\n",
       "0                                  فندق ميرا     3.7             1336.0   \n",
       "1     مركز ماي كار لصيانة السيارات الاوروبية     3.5             2755.0   \n",
       "2                       Luthan Hotel and Spa     4.0              423.0   \n",
       "3                                Dining Hall     3.0               27.0   \n",
       "4                                Sushi Yoshi     4.0             1721.0   \n",
       "...                                      ...     ...                ...   \n",
       "1795                            Al Romansiah     4.2             9460.0   \n",
       "1796                                   Herfy     3.8             1081.0   \n",
       "1797                                     KFC     3.5             1825.0   \n",
       "1798                    Burger King - Rawdah     3.7             1370.0   \n",
       "1799                                     KFC     3.8             2246.0   \n",
       "\n",
       "      Longitude   Latitude                                              Types  \\\n",
       "0     46.693985  24.701278  ['lodging', 'restaurant', 'food', 'point_of_in...   \n",
       "1     46.576437  24.851751  ['restaurant', 'food', 'point_of_interest', 'e...   \n",
       "2     46.641709  24.706649  ['spa', 'lodging', 'restaurant', 'food', 'poin...   \n",
       "3     46.619655  24.720989  ['restaurant', 'point_of_interest', 'food', 'e...   \n",
       "4     46.706125  24.704821  ['restaurant', 'point_of_interest', 'food', 'e...   \n",
       "...         ...        ...                                                ...   \n",
       "1795  46.792399  24.695811  ['restaurant', 'point_of_interest', 'food', 'e...   \n",
       "1796  46.797511  24.780961  ['restaurant', 'point_of_interest', 'food', 'e...   \n",
       "1797  46.764410  24.732753  ['restaurant', 'food', 'point_of_interest', 'e...   \n",
       "1798  46.762265  24.735643  ['restaurant', 'food', 'point_of_interest', 'e...   \n",
       "1799  46.664761  24.704578  ['restaurant', 'food', 'point_of_interest', 'e...   \n",
       "\n",
       "     neighborhood      Type_1              Type_2              Type_3  \\\n",
       "0        حي الملز     lodging          restaurant                food   \n",
       "1        حي الملز  restaurant                food   point_of_interest   \n",
       "2        حي الملز         spa             lodging          restaurant   \n",
       "3        حي الملز  restaurant   point_of_interest                food   \n",
       "4        حي الملز  restaurant   point_of_interest                food   \n",
       "...           ...         ...                 ...                 ...   \n",
       "1795   حي الحمراء  restaurant   point_of_interest                food   \n",
       "1796   حي الحمراء  restaurant   point_of_interest                food   \n",
       "1797   حي الحمراء  restaurant                food   point_of_interest   \n",
       "1798   حي الحمراء  restaurant                food   point_of_interest   \n",
       "1799   حي الحمراء  restaurant                food   point_of_interest   \n",
       "\n",
       "                  Type_4              Type_5          Type_6 Type_7 Type_8  \n",
       "0      point_of_interest       establishment            None   None   None  \n",
       "1          establishment                None            None   None   None  \n",
       "2                   food   point_of_interest   establishment   None   None  \n",
       "3          establishment                None            None   None   None  \n",
       "4          establishment                None            None   None   None  \n",
       "...                  ...                 ...             ...    ...    ...  \n",
       "1795       establishment                None            None   None   None  \n",
       "1796       establishment                None            None   None   None  \n",
       "1797       establishment                None            None   None   None  \n",
       "1798       establishment                None            None   None   None  \n",
       "1799       establishment                None            None   None   None  \n",
       "\n",
       "[1800 rows x 15 columns]"
      ]
     },
     "execution_count": 17,
     "metadata": {},
     "output_type": "execute_result"
    }
   ],
   "source": [
    "df2"
   ]
  },
  {
   "cell_type": "code",
   "execution_count": 18,
   "id": "5ff3462f",
   "metadata": {},
   "outputs": [],
   "source": [
    "df2 = df2.drop(df2[df2['neighborhood'] == 'حي الورود'].index)\n",
    "df2 = df2.drop(df2[df2['neighborhood'] == 'حي الربيع'].index)\n"
   ]
  },
  {
   "cell_type": "markdown",
   "id": "0f5e3a2a-bbb7-4d06-8220-c93277b70146",
   "metadata": {},
   "source": [
    "#### 5. Uniqueness: \n",
    "Check for and remove duplicate records to prevent skewed analysis results.\n"
   ]
  },
  {
   "cell_type": "code",
   "execution_count": 19,
   "id": "cfde8d68",
   "metadata": {},
   "outputs": [
    {
     "data": {
      "text/plain": [
       "38"
      ]
     },
     "execution_count": 19,
     "metadata": {},
     "output_type": "execute_result"
    }
   ],
   "source": [
    "df.duplicated().sum()"
   ]
  },
  {
   "cell_type": "code",
   "execution_count": 20,
   "id": "a509a7aa-58f4-4d39-8eb8-e8298a21f2a7",
   "metadata": {},
   "outputs": [
    {
     "data": {
      "text/html": [
       "<div>\n",
       "<style scoped>\n",
       "    .dataframe tbody tr th:only-of-type {\n",
       "        vertical-align: middle;\n",
       "    }\n",
       "\n",
       "    .dataframe tbody tr th {\n",
       "        vertical-align: top;\n",
       "    }\n",
       "\n",
       "    .dataframe thead th {\n",
       "        text-align: right;\n",
       "    }\n",
       "</style>\n",
       "<table border=\"1\" class=\"dataframe\">\n",
       "  <thead>\n",
       "    <tr style=\"text-align: right;\">\n",
       "      <th></th>\n",
       "      <th>Name</th>\n",
       "      <th>Rating</th>\n",
       "      <th>Number of Ratings</th>\n",
       "      <th>Longitude</th>\n",
       "      <th>Latitude</th>\n",
       "      <th>Types</th>\n",
       "      <th>neighborhood</th>\n",
       "    </tr>\n",
       "  </thead>\n",
       "  <tbody>\n",
       "    <tr>\n",
       "      <th>960</th>\n",
       "      <td>فندق ميرا</td>\n",
       "      <td>3.7</td>\n",
       "      <td>1336.0</td>\n",
       "      <td>46.693985</td>\n",
       "      <td>24.701278</td>\n",
       "      <td>['lodging', 'restaurant', 'food', 'point_of_in...</td>\n",
       "      <td>حي الندى</td>\n",
       "    </tr>\n",
       "    <tr>\n",
       "      <th>961</th>\n",
       "      <td>مركز ماي كار لصيانة السيارات الاوروبية</td>\n",
       "      <td>3.5</td>\n",
       "      <td>2755.0</td>\n",
       "      <td>46.576437</td>\n",
       "      <td>24.851751</td>\n",
       "      <td>['restaurant', 'food', 'point_of_interest', 'e...</td>\n",
       "      <td>حي الندى</td>\n",
       "    </tr>\n",
       "    <tr>\n",
       "      <th>962</th>\n",
       "      <td>Luthan Hotel and Spa</td>\n",
       "      <td>4.0</td>\n",
       "      <td>423.0</td>\n",
       "      <td>46.641709</td>\n",
       "      <td>24.706649</td>\n",
       "      <td>['spa', 'lodging', 'restaurant', 'food', 'poin...</td>\n",
       "      <td>حي الندى</td>\n",
       "    </tr>\n",
       "    <tr>\n",
       "      <th>963</th>\n",
       "      <td>Dining Hall</td>\n",
       "      <td>3.0</td>\n",
       "      <td>27.0</td>\n",
       "      <td>46.619655</td>\n",
       "      <td>24.720989</td>\n",
       "      <td>['restaurant', 'food', 'point_of_interest', 'e...</td>\n",
       "      <td>حي الندى</td>\n",
       "    </tr>\n",
       "    <tr>\n",
       "      <th>964</th>\n",
       "      <td>Sushi Yoshi</td>\n",
       "      <td>4.0</td>\n",
       "      <td>1721.0</td>\n",
       "      <td>46.706125</td>\n",
       "      <td>24.704821</td>\n",
       "      <td>['restaurant', 'point_of_interest', 'food', 'e...</td>\n",
       "      <td>حي الندى</td>\n",
       "    </tr>\n",
       "    <tr>\n",
       "      <th>965</th>\n",
       "      <td>Najd Village</td>\n",
       "      <td>3.9</td>\n",
       "      <td>11310.0</td>\n",
       "      <td>46.704695</td>\n",
       "      <td>24.742604</td>\n",
       "      <td>['restaurant', 'point_of_interest', 'food', 'e...</td>\n",
       "      <td>حي الندى</td>\n",
       "    </tr>\n",
       "    <tr>\n",
       "      <th>967</th>\n",
       "      <td>Najd Village</td>\n",
       "      <td>3.8</td>\n",
       "      <td>8468.0</td>\n",
       "      <td>46.669233</td>\n",
       "      <td>24.697688</td>\n",
       "      <td>['restaurant', 'food', 'point_of_interest', 'e...</td>\n",
       "      <td>حي الندى</td>\n",
       "    </tr>\n",
       "    <tr>\n",
       "      <th>969</th>\n",
       "      <td>McDonald's</td>\n",
       "      <td>3.9</td>\n",
       "      <td>2735.0</td>\n",
       "      <td>46.691384</td>\n",
       "      <td>24.570255</td>\n",
       "      <td>['restaurant', 'food', 'point_of_interest', 'e...</td>\n",
       "      <td>حي الندى</td>\n",
       "    </tr>\n",
       "    <tr>\n",
       "      <th>970</th>\n",
       "      <td>Domino's Pizza</td>\n",
       "      <td>3.8</td>\n",
       "      <td>589.0</td>\n",
       "      <td>46.604994</td>\n",
       "      <td>24.692347</td>\n",
       "      <td>['meal_delivery', 'meal_takeaway', 'restaurant...</td>\n",
       "      <td>حي الندى</td>\n",
       "    </tr>\n",
       "    <tr>\n",
       "      <th>973</th>\n",
       "      <td>Derati Restaurant</td>\n",
       "      <td>3.7</td>\n",
       "      <td>1331.0</td>\n",
       "      <td>46.588542</td>\n",
       "      <td>24.636875</td>\n",
       "      <td>['restaurant', 'food', 'point_of_interest', 'e...</td>\n",
       "      <td>حي الندى</td>\n",
       "    </tr>\n",
       "    <tr>\n",
       "      <th>976</th>\n",
       "      <td>Derati Restaurants &amp; Kitchens</td>\n",
       "      <td>3.8</td>\n",
       "      <td>994.0</td>\n",
       "      <td>46.669014</td>\n",
       "      <td>24.588178</td>\n",
       "      <td>['restaurant', 'food', 'point_of_interest', 'e...</td>\n",
       "      <td>حي الندى</td>\n",
       "    </tr>\n",
       "    <tr>\n",
       "      <th>978</th>\n",
       "      <td>KFC</td>\n",
       "      <td>3.5</td>\n",
       "      <td>975.0</td>\n",
       "      <td>46.644168</td>\n",
       "      <td>24.600407</td>\n",
       "      <td>['restaurant', 'point_of_interest', 'food', 'e...</td>\n",
       "      <td>حي الندى</td>\n",
       "    </tr>\n",
       "    <tr>\n",
       "      <th>981</th>\n",
       "      <td>Mama Noura</td>\n",
       "      <td>4.1</td>\n",
       "      <td>11464.0</td>\n",
       "      <td>46.665361</td>\n",
       "      <td>24.571747</td>\n",
       "      <td>['restaurant', 'point_of_interest', 'food', 'e...</td>\n",
       "      <td>حي الندى</td>\n",
       "    </tr>\n",
       "    <tr>\n",
       "      <th>983</th>\n",
       "      <td>Al Jalab Restaurant</td>\n",
       "      <td>4.3</td>\n",
       "      <td>1543.0</td>\n",
       "      <td>46.687001</td>\n",
       "      <td>24.733782</td>\n",
       "      <td>['restaurant', 'point_of_interest', 'food', 'e...</td>\n",
       "      <td>حي الندى</td>\n",
       "    </tr>\n",
       "    <tr>\n",
       "      <th>984</th>\n",
       "      <td>Al Romansiah</td>\n",
       "      <td>4.1</td>\n",
       "      <td>8499.0</td>\n",
       "      <td>46.814124</td>\n",
       "      <td>24.758718</td>\n",
       "      <td>['restaurant', 'food', 'point_of_interest', 'e...</td>\n",
       "      <td>حي الندى</td>\n",
       "    </tr>\n",
       "    <tr>\n",
       "      <th>985</th>\n",
       "      <td>Herfy</td>\n",
       "      <td>3.7</td>\n",
       "      <td>380.0</td>\n",
       "      <td>46.657525</td>\n",
       "      <td>24.755956</td>\n",
       "      <td>['restaurant', 'food', 'point_of_interest', 'e...</td>\n",
       "      <td>حي الندى</td>\n",
       "    </tr>\n",
       "    <tr>\n",
       "      <th>987</th>\n",
       "      <td>Kudu - Al Seteen Palace</td>\n",
       "      <td>3.9</td>\n",
       "      <td>2399.0</td>\n",
       "      <td>46.723174</td>\n",
       "      <td>24.690573</td>\n",
       "      <td>['restaurant', 'meal_delivery', 'meal_takeaway...</td>\n",
       "      <td>حي الندى</td>\n",
       "    </tr>\n",
       "    <tr>\n",
       "      <th>988</th>\n",
       "      <td>KFC</td>\n",
       "      <td>3.6</td>\n",
       "      <td>1452.0</td>\n",
       "      <td>46.792386</td>\n",
       "      <td>24.684026</td>\n",
       "      <td>['restaurant', 'food', 'point_of_interest', 'e...</td>\n",
       "      <td>حي الندى</td>\n",
       "    </tr>\n",
       "    <tr>\n",
       "      <th>989</th>\n",
       "      <td>Little Caesars Pizza! Pizza! !ليتل سيزرز بيتزا...</td>\n",
       "      <td>3.7</td>\n",
       "      <td>649.0</td>\n",
       "      <td>46.662546</td>\n",
       "      <td>24.757931</td>\n",
       "      <td>['meal_delivery', 'restaurant', 'food', 'point...</td>\n",
       "      <td>حي الندى</td>\n",
       "    </tr>\n",
       "    <tr>\n",
       "      <th>990</th>\n",
       "      <td>Burger King - Bin Turkey</td>\n",
       "      <td>3.7</td>\n",
       "      <td>681.0</td>\n",
       "      <td>46.619087</td>\n",
       "      <td>24.746228</td>\n",
       "      <td>['restaurant', 'food', 'point_of_interest', 'e...</td>\n",
       "      <td>حي الندى</td>\n",
       "    </tr>\n",
       "    <tr>\n",
       "      <th>992</th>\n",
       "      <td>Little Caesars Pizza! Pizza! !ليتل سيزرز بيتزا...</td>\n",
       "      <td>3.9</td>\n",
       "      <td>719.0</td>\n",
       "      <td>46.655867</td>\n",
       "      <td>24.724786</td>\n",
       "      <td>['meal_delivery', 'restaurant', 'food', 'point...</td>\n",
       "      <td>حي الندى</td>\n",
       "    </tr>\n",
       "    <tr>\n",
       "      <th>993</th>\n",
       "      <td>Al Nafoura Restaurant</td>\n",
       "      <td>3.3</td>\n",
       "      <td>1007.0</td>\n",
       "      <td>46.625147</td>\n",
       "      <td>24.588405</td>\n",
       "      <td>['restaurant', 'point_of_interest', 'food', 'e...</td>\n",
       "      <td>حي الندى</td>\n",
       "    </tr>\n",
       "    <tr>\n",
       "      <th>995</th>\n",
       "      <td>KFC</td>\n",
       "      <td>3.6</td>\n",
       "      <td>1311.0</td>\n",
       "      <td>46.713719</td>\n",
       "      <td>24.638209</td>\n",
       "      <td>['restaurant', 'food', 'point_of_interest', 'e...</td>\n",
       "      <td>حي الندى</td>\n",
       "    </tr>\n",
       "    <tr>\n",
       "      <th>996</th>\n",
       "      <td>Kudu - Al Wurud</td>\n",
       "      <td>4.0</td>\n",
       "      <td>1024.0</td>\n",
       "      <td>46.675824</td>\n",
       "      <td>24.732293</td>\n",
       "      <td>['restaurant', 'meal_delivery', 'meal_takeaway...</td>\n",
       "      <td>حي الندى</td>\n",
       "    </tr>\n",
       "    <tr>\n",
       "      <th>997</th>\n",
       "      <td>Little Caesars Pizza! Pizza! !ليتل سيزرز بيتزا...</td>\n",
       "      <td>3.9</td>\n",
       "      <td>790.0</td>\n",
       "      <td>46.630860</td>\n",
       "      <td>24.580274</td>\n",
       "      <td>['meal_delivery', 'restaurant', 'food', 'point...</td>\n",
       "      <td>حي الندى</td>\n",
       "    </tr>\n",
       "    <tr>\n",
       "      <th>999</th>\n",
       "      <td>Herfy</td>\n",
       "      <td>3.8</td>\n",
       "      <td>896.0</td>\n",
       "      <td>46.673613</td>\n",
       "      <td>24.760912</td>\n",
       "      <td>['restaurant', 'point_of_interest', 'food', 'e...</td>\n",
       "      <td>حي الندى</td>\n",
       "    </tr>\n",
       "    <tr>\n",
       "      <th>1001</th>\n",
       "      <td>برجر كاسل</td>\n",
       "      <td>4.1</td>\n",
       "      <td>1057.0</td>\n",
       "      <td>46.634509</td>\n",
       "      <td>24.714561</td>\n",
       "      <td>['restaurant', 'food', 'point_of_interest', 'e...</td>\n",
       "      <td>حي الندى</td>\n",
       "    </tr>\n",
       "    <tr>\n",
       "      <th>1002</th>\n",
       "      <td>Burger King - Exit 28</td>\n",
       "      <td>3.8</td>\n",
       "      <td>1294.0</td>\n",
       "      <td>46.621205</td>\n",
       "      <td>24.568127</td>\n",
       "      <td>['restaurant', 'food', 'point_of_interest', 'e...</td>\n",
       "      <td>حي الندى</td>\n",
       "    </tr>\n",
       "    <tr>\n",
       "      <th>1003</th>\n",
       "      <td>وايت قاردن</td>\n",
       "      <td>4.2</td>\n",
       "      <td>4534.0</td>\n",
       "      <td>46.683695</td>\n",
       "      <td>24.694308</td>\n",
       "      <td>['restaurant', 'night_club', 'bar', 'food', 'p...</td>\n",
       "      <td>حي الندى</td>\n",
       "    </tr>\n",
       "    <tr>\n",
       "      <th>1004</th>\n",
       "      <td>Al Tazaj</td>\n",
       "      <td>3.6</td>\n",
       "      <td>4796.0</td>\n",
       "      <td>46.644395</td>\n",
       "      <td>24.600221</td>\n",
       "      <td>['restaurant', 'food', 'point_of_interest', 'e...</td>\n",
       "      <td>حي الندى</td>\n",
       "    </tr>\n",
       "    <tr>\n",
       "      <th>1005</th>\n",
       "      <td>Al Romansiah</td>\n",
       "      <td>4.2</td>\n",
       "      <td>9584.0</td>\n",
       "      <td>46.706958</td>\n",
       "      <td>24.562093</td>\n",
       "      <td>['restaurant', 'food', 'point_of_interest', 'e...</td>\n",
       "      <td>حي الندى</td>\n",
       "    </tr>\n",
       "    <tr>\n",
       "      <th>1007</th>\n",
       "      <td>McDonald's</td>\n",
       "      <td>3.9</td>\n",
       "      <td>3568.0</td>\n",
       "      <td>46.794646</td>\n",
       "      <td>24.713222</td>\n",
       "      <td>['restaurant', 'food', 'point_of_interest', 'e...</td>\n",
       "      <td>حي الندى</td>\n",
       "    </tr>\n",
       "    <tr>\n",
       "      <th>1008</th>\n",
       "      <td>Herfy</td>\n",
       "      <td>3.5</td>\n",
       "      <td>746.0</td>\n",
       "      <td>46.675000</td>\n",
       "      <td>24.675556</td>\n",
       "      <td>['restaurant', 'point_of_interest', 'food', 'e...</td>\n",
       "      <td>حي الندى</td>\n",
       "    </tr>\n",
       "    <tr>\n",
       "      <th>1009</th>\n",
       "      <td>Fairmont Riyadh</td>\n",
       "      <td>4.7</td>\n",
       "      <td>5105.0</td>\n",
       "      <td>46.718289</td>\n",
       "      <td>24.808221</td>\n",
       "      <td>['lodging', 'restaurant', 'point_of_interest',...</td>\n",
       "      <td>حي الندى</td>\n",
       "    </tr>\n",
       "    <tr>\n",
       "      <th>1013</th>\n",
       "      <td>Al Romansiah Restaurant - Al Nasseem District</td>\n",
       "      <td>4.2</td>\n",
       "      <td>8154.0</td>\n",
       "      <td>46.814627</td>\n",
       "      <td>24.733515</td>\n",
       "      <td>['restaurant', 'food', 'point_of_interest', 'e...</td>\n",
       "      <td>حي الندى</td>\n",
       "    </tr>\n",
       "    <tr>\n",
       "      <th>1014</th>\n",
       "      <td>Herfy</td>\n",
       "      <td>3.6</td>\n",
       "      <td>872.0</td>\n",
       "      <td>46.750084</td>\n",
       "      <td>24.779546</td>\n",
       "      <td>['restaurant', 'food', 'point_of_interest', 'e...</td>\n",
       "      <td>حي الندى</td>\n",
       "    </tr>\n",
       "    <tr>\n",
       "      <th>1017</th>\n",
       "      <td>Al Romansiah</td>\n",
       "      <td>4.2</td>\n",
       "      <td>9460.0</td>\n",
       "      <td>46.792399</td>\n",
       "      <td>24.695811</td>\n",
       "      <td>['restaurant', 'food', 'point_of_interest', 'e...</td>\n",
       "      <td>حي الندى</td>\n",
       "    </tr>\n",
       "    <tr>\n",
       "      <th>1019</th>\n",
       "      <td>KFC</td>\n",
       "      <td>3.8</td>\n",
       "      <td>2246.0</td>\n",
       "      <td>46.664761</td>\n",
       "      <td>24.704578</td>\n",
       "      <td>['restaurant', 'food', 'point_of_interest', 'e...</td>\n",
       "      <td>حي الندى</td>\n",
       "    </tr>\n",
       "  </tbody>\n",
       "</table>\n",
       "</div>"
      ],
      "text/plain": [
       "                                                   Name  Rating  \\\n",
       "960                                           فندق ميرا     3.7   \n",
       "961              مركز ماي كار لصيانة السيارات الاوروبية     3.5   \n",
       "962                                Luthan Hotel and Spa     4.0   \n",
       "963                                         Dining Hall     3.0   \n",
       "964                                         Sushi Yoshi     4.0   \n",
       "965                                        Najd Village     3.9   \n",
       "967                                        Najd Village     3.8   \n",
       "969                                          McDonald's     3.9   \n",
       "970                                      Domino's Pizza     3.8   \n",
       "973                                   Derati Restaurant     3.7   \n",
       "976                       Derati Restaurants & Kitchens     3.8   \n",
       "978                                                 KFC     3.5   \n",
       "981                                          Mama Noura     4.1   \n",
       "983                                 Al Jalab Restaurant     4.3   \n",
       "984                                        Al Romansiah     4.1   \n",
       "985                                               Herfy     3.7   \n",
       "987                             Kudu - Al Seteen Palace     3.9   \n",
       "988                                                 KFC     3.6   \n",
       "989   Little Caesars Pizza! Pizza! !ليتل سيزرز بيتزا...     3.7   \n",
       "990                            Burger King - Bin Turkey     3.7   \n",
       "992   Little Caesars Pizza! Pizza! !ليتل سيزرز بيتزا...     3.9   \n",
       "993                               Al Nafoura Restaurant     3.3   \n",
       "995                                                 KFC     3.6   \n",
       "996                                     Kudu - Al Wurud     4.0   \n",
       "997   Little Caesars Pizza! Pizza! !ليتل سيزرز بيتزا...     3.9   \n",
       "999                                               Herfy     3.8   \n",
       "1001                                          برجر كاسل     4.1   \n",
       "1002                              Burger King - Exit 28     3.8   \n",
       "1003                                         وايت قاردن     4.2   \n",
       "1004                                           Al Tazaj     3.6   \n",
       "1005                                       Al Romansiah     4.2   \n",
       "1007                                         McDonald's     3.9   \n",
       "1008                                              Herfy     3.5   \n",
       "1009                                    Fairmont Riyadh     4.7   \n",
       "1013      Al Romansiah Restaurant - Al Nasseem District     4.2   \n",
       "1014                                              Herfy     3.6   \n",
       "1017                                       Al Romansiah     4.2   \n",
       "1019                                                KFC     3.8   \n",
       "\n",
       "      Number of Ratings  Longitude   Latitude  \\\n",
       "960              1336.0  46.693985  24.701278   \n",
       "961              2755.0  46.576437  24.851751   \n",
       "962               423.0  46.641709  24.706649   \n",
       "963                27.0  46.619655  24.720989   \n",
       "964              1721.0  46.706125  24.704821   \n",
       "965             11310.0  46.704695  24.742604   \n",
       "967              8468.0  46.669233  24.697688   \n",
       "969              2735.0  46.691384  24.570255   \n",
       "970               589.0  46.604994  24.692347   \n",
       "973              1331.0  46.588542  24.636875   \n",
       "976               994.0  46.669014  24.588178   \n",
       "978               975.0  46.644168  24.600407   \n",
       "981             11464.0  46.665361  24.571747   \n",
       "983              1543.0  46.687001  24.733782   \n",
       "984              8499.0  46.814124  24.758718   \n",
       "985               380.0  46.657525  24.755956   \n",
       "987              2399.0  46.723174  24.690573   \n",
       "988              1452.0  46.792386  24.684026   \n",
       "989               649.0  46.662546  24.757931   \n",
       "990               681.0  46.619087  24.746228   \n",
       "992               719.0  46.655867  24.724786   \n",
       "993              1007.0  46.625147  24.588405   \n",
       "995              1311.0  46.713719  24.638209   \n",
       "996              1024.0  46.675824  24.732293   \n",
       "997               790.0  46.630860  24.580274   \n",
       "999               896.0  46.673613  24.760912   \n",
       "1001             1057.0  46.634509  24.714561   \n",
       "1002             1294.0  46.621205  24.568127   \n",
       "1003             4534.0  46.683695  24.694308   \n",
       "1004             4796.0  46.644395  24.600221   \n",
       "1005             9584.0  46.706958  24.562093   \n",
       "1007             3568.0  46.794646  24.713222   \n",
       "1008              746.0  46.675000  24.675556   \n",
       "1009             5105.0  46.718289  24.808221   \n",
       "1013             8154.0  46.814627  24.733515   \n",
       "1014              872.0  46.750084  24.779546   \n",
       "1017             9460.0  46.792399  24.695811   \n",
       "1019             2246.0  46.664761  24.704578   \n",
       "\n",
       "                                                  Types neighborhood  \n",
       "960   ['lodging', 'restaurant', 'food', 'point_of_in...     حي الندى  \n",
       "961   ['restaurant', 'food', 'point_of_interest', 'e...     حي الندى  \n",
       "962   ['spa', 'lodging', 'restaurant', 'food', 'poin...     حي الندى  \n",
       "963   ['restaurant', 'food', 'point_of_interest', 'e...     حي الندى  \n",
       "964   ['restaurant', 'point_of_interest', 'food', 'e...     حي الندى  \n",
       "965   ['restaurant', 'point_of_interest', 'food', 'e...     حي الندى  \n",
       "967   ['restaurant', 'food', 'point_of_interest', 'e...     حي الندى  \n",
       "969   ['restaurant', 'food', 'point_of_interest', 'e...     حي الندى  \n",
       "970   ['meal_delivery', 'meal_takeaway', 'restaurant...     حي الندى  \n",
       "973   ['restaurant', 'food', 'point_of_interest', 'e...     حي الندى  \n",
       "976   ['restaurant', 'food', 'point_of_interest', 'e...     حي الندى  \n",
       "978   ['restaurant', 'point_of_interest', 'food', 'e...     حي الندى  \n",
       "981   ['restaurant', 'point_of_interest', 'food', 'e...     حي الندى  \n",
       "983   ['restaurant', 'point_of_interest', 'food', 'e...     حي الندى  \n",
       "984   ['restaurant', 'food', 'point_of_interest', 'e...     حي الندى  \n",
       "985   ['restaurant', 'food', 'point_of_interest', 'e...     حي الندى  \n",
       "987   ['restaurant', 'meal_delivery', 'meal_takeaway...     حي الندى  \n",
       "988   ['restaurant', 'food', 'point_of_interest', 'e...     حي الندى  \n",
       "989   ['meal_delivery', 'restaurant', 'food', 'point...     حي الندى  \n",
       "990   ['restaurant', 'food', 'point_of_interest', 'e...     حي الندى  \n",
       "992   ['meal_delivery', 'restaurant', 'food', 'point...     حي الندى  \n",
       "993   ['restaurant', 'point_of_interest', 'food', 'e...     حي الندى  \n",
       "995   ['restaurant', 'food', 'point_of_interest', 'e...     حي الندى  \n",
       "996   ['restaurant', 'meal_delivery', 'meal_takeaway...     حي الندى  \n",
       "997   ['meal_delivery', 'restaurant', 'food', 'point...     حي الندى  \n",
       "999   ['restaurant', 'point_of_interest', 'food', 'e...     حي الندى  \n",
       "1001  ['restaurant', 'food', 'point_of_interest', 'e...     حي الندى  \n",
       "1002  ['restaurant', 'food', 'point_of_interest', 'e...     حي الندى  \n",
       "1003  ['restaurant', 'night_club', 'bar', 'food', 'p...     حي الندى  \n",
       "1004  ['restaurant', 'food', 'point_of_interest', 'e...     حي الندى  \n",
       "1005  ['restaurant', 'food', 'point_of_interest', 'e...     حي الندى  \n",
       "1007  ['restaurant', 'food', 'point_of_interest', 'e...     حي الندى  \n",
       "1008  ['restaurant', 'point_of_interest', 'food', 'e...     حي الندى  \n",
       "1009  ['lodging', 'restaurant', 'point_of_interest',...     حي الندى  \n",
       "1013  ['restaurant', 'food', 'point_of_interest', 'e...     حي الندى  \n",
       "1014  ['restaurant', 'food', 'point_of_interest', 'e...     حي الندى  \n",
       "1017  ['restaurant', 'food', 'point_of_interest', 'e...     حي الندى  \n",
       "1019  ['restaurant', 'food', 'point_of_interest', 'e...     حي الندى  "
      ]
     },
     "execution_count": 20,
     "metadata": {},
     "output_type": "execute_result"
    }
   ],
   "source": [
    "df[df.duplicated()]"
   ]
  },
  {
   "cell_type": "code",
   "execution_count": 21,
   "id": "47600e87",
   "metadata": {},
   "outputs": [
    {
     "data": {
      "text/html": [
       "<div>\n",
       "<style scoped>\n",
       "    .dataframe tbody tr th:only-of-type {\n",
       "        vertical-align: middle;\n",
       "    }\n",
       "\n",
       "    .dataframe tbody tr th {\n",
       "        vertical-align: top;\n",
       "    }\n",
       "\n",
       "    .dataframe thead th {\n",
       "        text-align: right;\n",
       "    }\n",
       "</style>\n",
       "<table border=\"1\" class=\"dataframe\">\n",
       "  <thead>\n",
       "    <tr style=\"text-align: right;\">\n",
       "      <th></th>\n",
       "      <th>Name</th>\n",
       "      <th>Rating</th>\n",
       "      <th>Number of Ratings</th>\n",
       "      <th>Longitude</th>\n",
       "      <th>Latitude</th>\n",
       "      <th>Types</th>\n",
       "      <th>neighborhood</th>\n",
       "    </tr>\n",
       "  </thead>\n",
       "  <tbody>\n",
       "    <tr>\n",
       "      <th>0</th>\n",
       "      <td>فندق ميرا</td>\n",
       "      <td>3.7</td>\n",
       "      <td>1336.0</td>\n",
       "      <td>46.693985</td>\n",
       "      <td>24.701278</td>\n",
       "      <td>['lodging', 'restaurant', 'food', 'point_of_in...</td>\n",
       "      <td>حي الملز</td>\n",
       "    </tr>\n",
       "    <tr>\n",
       "      <th>1</th>\n",
       "      <td>مركز ماي كار لصيانة السيارات الاوروبية</td>\n",
       "      <td>3.5</td>\n",
       "      <td>2755.0</td>\n",
       "      <td>46.576437</td>\n",
       "      <td>24.851751</td>\n",
       "      <td>['restaurant', 'food', 'point_of_interest', 'e...</td>\n",
       "      <td>حي الملز</td>\n",
       "    </tr>\n",
       "    <tr>\n",
       "      <th>2</th>\n",
       "      <td>Luthan Hotel and Spa</td>\n",
       "      <td>4.0</td>\n",
       "      <td>423.0</td>\n",
       "      <td>46.641709</td>\n",
       "      <td>24.706649</td>\n",
       "      <td>['spa', 'lodging', 'restaurant', 'food', 'poin...</td>\n",
       "      <td>حي الملز</td>\n",
       "    </tr>\n",
       "    <tr>\n",
       "      <th>3</th>\n",
       "      <td>Dining Hall</td>\n",
       "      <td>3.0</td>\n",
       "      <td>27.0</td>\n",
       "      <td>46.619655</td>\n",
       "      <td>24.720989</td>\n",
       "      <td>['restaurant', 'point_of_interest', 'food', 'e...</td>\n",
       "      <td>حي الملز</td>\n",
       "    </tr>\n",
       "    <tr>\n",
       "      <th>4</th>\n",
       "      <td>Sushi Yoshi</td>\n",
       "      <td>4.0</td>\n",
       "      <td>1721.0</td>\n",
       "      <td>46.706125</td>\n",
       "      <td>24.704821</td>\n",
       "      <td>['restaurant', 'point_of_interest', 'food', 'e...</td>\n",
       "      <td>حي الملز</td>\n",
       "    </tr>\n",
       "    <tr>\n",
       "      <th>...</th>\n",
       "      <td>...</td>\n",
       "      <td>...</td>\n",
       "      <td>...</td>\n",
       "      <td>...</td>\n",
       "      <td>...</td>\n",
       "      <td>...</td>\n",
       "      <td>...</td>\n",
       "    </tr>\n",
       "    <tr>\n",
       "      <th>1795</th>\n",
       "      <td>Al Romansiah</td>\n",
       "      <td>4.2</td>\n",
       "      <td>9460.0</td>\n",
       "      <td>46.792399</td>\n",
       "      <td>24.695811</td>\n",
       "      <td>['restaurant', 'point_of_interest', 'food', 'e...</td>\n",
       "      <td>حي الحمراء</td>\n",
       "    </tr>\n",
       "    <tr>\n",
       "      <th>1796</th>\n",
       "      <td>Herfy</td>\n",
       "      <td>3.8</td>\n",
       "      <td>1081.0</td>\n",
       "      <td>46.797511</td>\n",
       "      <td>24.780961</td>\n",
       "      <td>['restaurant', 'point_of_interest', 'food', 'e...</td>\n",
       "      <td>حي الحمراء</td>\n",
       "    </tr>\n",
       "    <tr>\n",
       "      <th>1797</th>\n",
       "      <td>KFC</td>\n",
       "      <td>3.5</td>\n",
       "      <td>1825.0</td>\n",
       "      <td>46.764410</td>\n",
       "      <td>24.732753</td>\n",
       "      <td>['restaurant', 'food', 'point_of_interest', 'e...</td>\n",
       "      <td>حي الحمراء</td>\n",
       "    </tr>\n",
       "    <tr>\n",
       "      <th>1798</th>\n",
       "      <td>Burger King - Rawdah</td>\n",
       "      <td>3.7</td>\n",
       "      <td>1370.0</td>\n",
       "      <td>46.762265</td>\n",
       "      <td>24.735643</td>\n",
       "      <td>['restaurant', 'food', 'point_of_interest', 'e...</td>\n",
       "      <td>حي الحمراء</td>\n",
       "    </tr>\n",
       "    <tr>\n",
       "      <th>1799</th>\n",
       "      <td>KFC</td>\n",
       "      <td>3.8</td>\n",
       "      <td>2246.0</td>\n",
       "      <td>46.664761</td>\n",
       "      <td>24.704578</td>\n",
       "      <td>['restaurant', 'food', 'point_of_interest', 'e...</td>\n",
       "      <td>حي الحمراء</td>\n",
       "    </tr>\n",
       "  </tbody>\n",
       "</table>\n",
       "<p>1762 rows × 7 columns</p>\n",
       "</div>"
      ],
      "text/plain": [
       "                                        Name  Rating  Number of Ratings  \\\n",
       "0                                  فندق ميرا     3.7             1336.0   \n",
       "1     مركز ماي كار لصيانة السيارات الاوروبية     3.5             2755.0   \n",
       "2                       Luthan Hotel and Spa     4.0              423.0   \n",
       "3                                Dining Hall     3.0               27.0   \n",
       "4                                Sushi Yoshi     4.0             1721.0   \n",
       "...                                      ...     ...                ...   \n",
       "1795                            Al Romansiah     4.2             9460.0   \n",
       "1796                                   Herfy     3.8             1081.0   \n",
       "1797                                     KFC     3.5             1825.0   \n",
       "1798                    Burger King - Rawdah     3.7             1370.0   \n",
       "1799                                     KFC     3.8             2246.0   \n",
       "\n",
       "      Longitude   Latitude                                              Types  \\\n",
       "0     46.693985  24.701278  ['lodging', 'restaurant', 'food', 'point_of_in...   \n",
       "1     46.576437  24.851751  ['restaurant', 'food', 'point_of_interest', 'e...   \n",
       "2     46.641709  24.706649  ['spa', 'lodging', 'restaurant', 'food', 'poin...   \n",
       "3     46.619655  24.720989  ['restaurant', 'point_of_interest', 'food', 'e...   \n",
       "4     46.706125  24.704821  ['restaurant', 'point_of_interest', 'food', 'e...   \n",
       "...         ...        ...                                                ...   \n",
       "1795  46.792399  24.695811  ['restaurant', 'point_of_interest', 'food', 'e...   \n",
       "1796  46.797511  24.780961  ['restaurant', 'point_of_interest', 'food', 'e...   \n",
       "1797  46.764410  24.732753  ['restaurant', 'food', 'point_of_interest', 'e...   \n",
       "1798  46.762265  24.735643  ['restaurant', 'food', 'point_of_interest', 'e...   \n",
       "1799  46.664761  24.704578  ['restaurant', 'food', 'point_of_interest', 'e...   \n",
       "\n",
       "     neighborhood  \n",
       "0        حي الملز  \n",
       "1        حي الملز  \n",
       "2        حي الملز  \n",
       "3        حي الملز  \n",
       "4        حي الملز  \n",
       "...           ...  \n",
       "1795   حي الحمراء  \n",
       "1796   حي الحمراء  \n",
       "1797   حي الحمراء  \n",
       "1798   حي الحمراء  \n",
       "1799   حي الحمراء  \n",
       "\n",
       "[1762 rows x 7 columns]"
      ]
     },
     "execution_count": 21,
     "metadata": {},
     "output_type": "execute_result"
    }
   ],
   "source": [
    "df.drop_duplicates()"
   ]
  },
  {
   "cell_type": "code",
   "execution_count": 22,
   "id": "4a5edf9e",
   "metadata": {},
   "outputs": [],
   "source": [
    "df = df.drop_duplicates()"
   ]
  },
  {
   "cell_type": "code",
   "execution_count": 23,
   "id": "04c62559-3b48-48cf-a4e9-857e2e0ff416",
   "metadata": {},
   "outputs": [],
   "source": [
    "# go to delete duplicates columns"
   ]
  },
  {
   "cell_type": "markdown",
   "id": "c7724ac2-4ea2-4cf4-a9e0-e64368f87b92",
   "metadata": {},
   "source": [
    "#### 6. Completeness: \n",
    "Ensure that no critical data is missing. This might mean checking for null values or required fields that are empty.\n",
    "\n",
    "We will start by checking the dataset for missing or null values. For this, we can use the isna() method which returns a dataframe of boolean values indicating if a field is null or not. To group all missing values by column, we can include the sum() method."
   ]
  },
  {
   "cell_type": "code",
   "execution_count": 24,
   "id": "48a4de54-a344-4b94-9908-9528c15c13f7",
   "metadata": {},
   "outputs": [
    {
     "data": {
      "text/plain": [
       "Rating               27\n",
       "Number of Ratings    27\n",
       "Name                  0\n",
       "Longitude             0\n",
       "Latitude              0\n",
       "Types                 0\n",
       "neighborhood          0\n",
       "dtype: int64"
      ]
     },
     "execution_count": 24,
     "metadata": {},
     "output_type": "execute_result"
    }
   ],
   "source": [
    "#Display number missing values per column\n",
    "df.isnull().sum().sort_values(ascending=False)"
   ]
  },
  {
   "cell_type": "code",
   "execution_count": 25,
   "id": "43c97965",
   "metadata": {},
   "outputs": [
    {
     "data": {
      "text/html": [
       "<div>\n",
       "<style scoped>\n",
       "    .dataframe tbody tr th:only-of-type {\n",
       "        vertical-align: middle;\n",
       "    }\n",
       "\n",
       "    .dataframe tbody tr th {\n",
       "        vertical-align: top;\n",
       "    }\n",
       "\n",
       "    .dataframe thead th {\n",
       "        text-align: right;\n",
       "    }\n",
       "</style>\n",
       "<table border=\"1\" class=\"dataframe\">\n",
       "  <thead>\n",
       "    <tr style=\"text-align: right;\">\n",
       "      <th></th>\n",
       "      <th>Name</th>\n",
       "      <th>Rating</th>\n",
       "      <th>Number of Ratings</th>\n",
       "      <th>Longitude</th>\n",
       "      <th>Latitude</th>\n",
       "      <th>Types</th>\n",
       "      <th>neighborhood</th>\n",
       "    </tr>\n",
       "  </thead>\n",
       "  <tbody>\n",
       "    <tr>\n",
       "      <th>0</th>\n",
       "      <td>فندق ميرا</td>\n",
       "      <td>3.7</td>\n",
       "      <td>1336.0</td>\n",
       "      <td>46.693985</td>\n",
       "      <td>24.701278</td>\n",
       "      <td>['lodging', 'restaurant', 'food', 'point_of_in...</td>\n",
       "      <td>حي الملز</td>\n",
       "    </tr>\n",
       "    <tr>\n",
       "      <th>1</th>\n",
       "      <td>مركز ماي كار لصيانة السيارات الاوروبية</td>\n",
       "      <td>3.5</td>\n",
       "      <td>2755.0</td>\n",
       "      <td>46.576437</td>\n",
       "      <td>24.851751</td>\n",
       "      <td>['restaurant', 'food', 'point_of_interest', 'e...</td>\n",
       "      <td>حي الملز</td>\n",
       "    </tr>\n",
       "    <tr>\n",
       "      <th>2</th>\n",
       "      <td>Luthan Hotel and Spa</td>\n",
       "      <td>4.0</td>\n",
       "      <td>423.0</td>\n",
       "      <td>46.641709</td>\n",
       "      <td>24.706649</td>\n",
       "      <td>['spa', 'lodging', 'restaurant', 'food', 'poin...</td>\n",
       "      <td>حي الملز</td>\n",
       "    </tr>\n",
       "    <tr>\n",
       "      <th>3</th>\n",
       "      <td>Dining Hall</td>\n",
       "      <td>3.0</td>\n",
       "      <td>27.0</td>\n",
       "      <td>46.619655</td>\n",
       "      <td>24.720989</td>\n",
       "      <td>['restaurant', 'point_of_interest', 'food', 'e...</td>\n",
       "      <td>حي الملز</td>\n",
       "    </tr>\n",
       "    <tr>\n",
       "      <th>4</th>\n",
       "      <td>Sushi Yoshi</td>\n",
       "      <td>4.0</td>\n",
       "      <td>1721.0</td>\n",
       "      <td>46.706125</td>\n",
       "      <td>24.704821</td>\n",
       "      <td>['restaurant', 'point_of_interest', 'food', 'e...</td>\n",
       "      <td>حي الملز</td>\n",
       "    </tr>\n",
       "    <tr>\n",
       "      <th>...</th>\n",
       "      <td>...</td>\n",
       "      <td>...</td>\n",
       "      <td>...</td>\n",
       "      <td>...</td>\n",
       "      <td>...</td>\n",
       "      <td>...</td>\n",
       "      <td>...</td>\n",
       "    </tr>\n",
       "    <tr>\n",
       "      <th>1795</th>\n",
       "      <td>Al Romansiah</td>\n",
       "      <td>4.2</td>\n",
       "      <td>9460.0</td>\n",
       "      <td>46.792399</td>\n",
       "      <td>24.695811</td>\n",
       "      <td>['restaurant', 'point_of_interest', 'food', 'e...</td>\n",
       "      <td>حي الحمراء</td>\n",
       "    </tr>\n",
       "    <tr>\n",
       "      <th>1796</th>\n",
       "      <td>Herfy</td>\n",
       "      <td>3.8</td>\n",
       "      <td>1081.0</td>\n",
       "      <td>46.797511</td>\n",
       "      <td>24.780961</td>\n",
       "      <td>['restaurant', 'point_of_interest', 'food', 'e...</td>\n",
       "      <td>حي الحمراء</td>\n",
       "    </tr>\n",
       "    <tr>\n",
       "      <th>1797</th>\n",
       "      <td>KFC</td>\n",
       "      <td>3.5</td>\n",
       "      <td>1825.0</td>\n",
       "      <td>46.764410</td>\n",
       "      <td>24.732753</td>\n",
       "      <td>['restaurant', 'food', 'point_of_interest', 'e...</td>\n",
       "      <td>حي الحمراء</td>\n",
       "    </tr>\n",
       "    <tr>\n",
       "      <th>1798</th>\n",
       "      <td>Burger King - Rawdah</td>\n",
       "      <td>3.7</td>\n",
       "      <td>1370.0</td>\n",
       "      <td>46.762265</td>\n",
       "      <td>24.735643</td>\n",
       "      <td>['restaurant', 'food', 'point_of_interest', 'e...</td>\n",
       "      <td>حي الحمراء</td>\n",
       "    </tr>\n",
       "    <tr>\n",
       "      <th>1799</th>\n",
       "      <td>KFC</td>\n",
       "      <td>3.8</td>\n",
       "      <td>2246.0</td>\n",
       "      <td>46.664761</td>\n",
       "      <td>24.704578</td>\n",
       "      <td>['restaurant', 'food', 'point_of_interest', 'e...</td>\n",
       "      <td>حي الحمراء</td>\n",
       "    </tr>\n",
       "  </tbody>\n",
       "</table>\n",
       "<p>1735 rows × 7 columns</p>\n",
       "</div>"
      ],
      "text/plain": [
       "                                        Name  Rating  Number of Ratings  \\\n",
       "0                                  فندق ميرا     3.7             1336.0   \n",
       "1     مركز ماي كار لصيانة السيارات الاوروبية     3.5             2755.0   \n",
       "2                       Luthan Hotel and Spa     4.0              423.0   \n",
       "3                                Dining Hall     3.0               27.0   \n",
       "4                                Sushi Yoshi     4.0             1721.0   \n",
       "...                                      ...     ...                ...   \n",
       "1795                            Al Romansiah     4.2             9460.0   \n",
       "1796                                   Herfy     3.8             1081.0   \n",
       "1797                                     KFC     3.5             1825.0   \n",
       "1798                    Burger King - Rawdah     3.7             1370.0   \n",
       "1799                                     KFC     3.8             2246.0   \n",
       "\n",
       "      Longitude   Latitude                                              Types  \\\n",
       "0     46.693985  24.701278  ['lodging', 'restaurant', 'food', 'point_of_in...   \n",
       "1     46.576437  24.851751  ['restaurant', 'food', 'point_of_interest', 'e...   \n",
       "2     46.641709  24.706649  ['spa', 'lodging', 'restaurant', 'food', 'poin...   \n",
       "3     46.619655  24.720989  ['restaurant', 'point_of_interest', 'food', 'e...   \n",
       "4     46.706125  24.704821  ['restaurant', 'point_of_interest', 'food', 'e...   \n",
       "...         ...        ...                                                ...   \n",
       "1795  46.792399  24.695811  ['restaurant', 'point_of_interest', 'food', 'e...   \n",
       "1796  46.797511  24.780961  ['restaurant', 'point_of_interest', 'food', 'e...   \n",
       "1797  46.764410  24.732753  ['restaurant', 'food', 'point_of_interest', 'e...   \n",
       "1798  46.762265  24.735643  ['restaurant', 'food', 'point_of_interest', 'e...   \n",
       "1799  46.664761  24.704578  ['restaurant', 'food', 'point_of_interest', 'e...   \n",
       "\n",
       "     neighborhood  \n",
       "0        حي الملز  \n",
       "1        حي الملز  \n",
       "2        حي الملز  \n",
       "3        حي الملز  \n",
       "4        حي الملز  \n",
       "...           ...  \n",
       "1795   حي الحمراء  \n",
       "1796   حي الحمراء  \n",
       "1797   حي الحمراء  \n",
       "1798   حي الحمراء  \n",
       "1799   حي الحمراء  \n",
       "\n",
       "[1735 rows x 7 columns]"
      ]
     },
     "execution_count": 25,
     "metadata": {},
     "output_type": "execute_result"
    }
   ],
   "source": [
    "df.dropna()"
   ]
  },
  {
   "cell_type": "code",
   "execution_count": 26,
   "id": "3f014e73",
   "metadata": {},
   "outputs": [],
   "source": [
    "df = df.dropna()"
   ]
  },
  {
   "cell_type": "code",
   "execution_count": 27,
   "id": "6bd25b90",
   "metadata": {},
   "outputs": [
    {
     "data": {
      "text/html": [
       "<div>\n",
       "<style scoped>\n",
       "    .dataframe tbody tr th:only-of-type {\n",
       "        vertical-align: middle;\n",
       "    }\n",
       "\n",
       "    .dataframe tbody tr th {\n",
       "        vertical-align: top;\n",
       "    }\n",
       "\n",
       "    .dataframe thead th {\n",
       "        text-align: right;\n",
       "    }\n",
       "</style>\n",
       "<table border=\"1\" class=\"dataframe\">\n",
       "  <thead>\n",
       "    <tr style=\"text-align: right;\">\n",
       "      <th></th>\n",
       "      <th>Name</th>\n",
       "      <th>Rating</th>\n",
       "      <th>Number of Ratings</th>\n",
       "      <th>Longitude</th>\n",
       "      <th>Latitude</th>\n",
       "      <th>Types</th>\n",
       "      <th>neighborhood</th>\n",
       "    </tr>\n",
       "  </thead>\n",
       "  <tbody>\n",
       "    <tr>\n",
       "      <th>0</th>\n",
       "      <td>فندق ميرا</td>\n",
       "      <td>3.7</td>\n",
       "      <td>1336.0</td>\n",
       "      <td>46.693985</td>\n",
       "      <td>24.701278</td>\n",
       "      <td>['lodging', 'restaurant', 'food', 'point_of_in...</td>\n",
       "      <td>حي الملز</td>\n",
       "    </tr>\n",
       "    <tr>\n",
       "      <th>1</th>\n",
       "      <td>مركز ماي كار لصيانة السيارات الاوروبية</td>\n",
       "      <td>3.5</td>\n",
       "      <td>2755.0</td>\n",
       "      <td>46.576437</td>\n",
       "      <td>24.851751</td>\n",
       "      <td>['restaurant', 'food', 'point_of_interest', 'e...</td>\n",
       "      <td>حي الملز</td>\n",
       "    </tr>\n",
       "    <tr>\n",
       "      <th>2</th>\n",
       "      <td>Luthan Hotel and Spa</td>\n",
       "      <td>4.0</td>\n",
       "      <td>423.0</td>\n",
       "      <td>46.641709</td>\n",
       "      <td>24.706649</td>\n",
       "      <td>['spa', 'lodging', 'restaurant', 'food', 'poin...</td>\n",
       "      <td>حي الملز</td>\n",
       "    </tr>\n",
       "    <tr>\n",
       "      <th>3</th>\n",
       "      <td>Dining Hall</td>\n",
       "      <td>3.0</td>\n",
       "      <td>27.0</td>\n",
       "      <td>46.619655</td>\n",
       "      <td>24.720989</td>\n",
       "      <td>['restaurant', 'point_of_interest', 'food', 'e...</td>\n",
       "      <td>حي الملز</td>\n",
       "    </tr>\n",
       "    <tr>\n",
       "      <th>4</th>\n",
       "      <td>Sushi Yoshi</td>\n",
       "      <td>4.0</td>\n",
       "      <td>1721.0</td>\n",
       "      <td>46.706125</td>\n",
       "      <td>24.704821</td>\n",
       "      <td>['restaurant', 'point_of_interest', 'food', 'e...</td>\n",
       "      <td>حي الملز</td>\n",
       "    </tr>\n",
       "    <tr>\n",
       "      <th>...</th>\n",
       "      <td>...</td>\n",
       "      <td>...</td>\n",
       "      <td>...</td>\n",
       "      <td>...</td>\n",
       "      <td>...</td>\n",
       "      <td>...</td>\n",
       "      <td>...</td>\n",
       "    </tr>\n",
       "    <tr>\n",
       "      <th>1795</th>\n",
       "      <td>Al Romansiah</td>\n",
       "      <td>4.2</td>\n",
       "      <td>9460.0</td>\n",
       "      <td>46.792399</td>\n",
       "      <td>24.695811</td>\n",
       "      <td>['restaurant', 'point_of_interest', 'food', 'e...</td>\n",
       "      <td>حي الحمراء</td>\n",
       "    </tr>\n",
       "    <tr>\n",
       "      <th>1796</th>\n",
       "      <td>Herfy</td>\n",
       "      <td>3.8</td>\n",
       "      <td>1081.0</td>\n",
       "      <td>46.797511</td>\n",
       "      <td>24.780961</td>\n",
       "      <td>['restaurant', 'point_of_interest', 'food', 'e...</td>\n",
       "      <td>حي الحمراء</td>\n",
       "    </tr>\n",
       "    <tr>\n",
       "      <th>1797</th>\n",
       "      <td>KFC</td>\n",
       "      <td>3.5</td>\n",
       "      <td>1825.0</td>\n",
       "      <td>46.764410</td>\n",
       "      <td>24.732753</td>\n",
       "      <td>['restaurant', 'food', 'point_of_interest', 'e...</td>\n",
       "      <td>حي الحمراء</td>\n",
       "    </tr>\n",
       "    <tr>\n",
       "      <th>1798</th>\n",
       "      <td>Burger King - Rawdah</td>\n",
       "      <td>3.7</td>\n",
       "      <td>1370.0</td>\n",
       "      <td>46.762265</td>\n",
       "      <td>24.735643</td>\n",
       "      <td>['restaurant', 'food', 'point_of_interest', 'e...</td>\n",
       "      <td>حي الحمراء</td>\n",
       "    </tr>\n",
       "    <tr>\n",
       "      <th>1799</th>\n",
       "      <td>KFC</td>\n",
       "      <td>3.8</td>\n",
       "      <td>2246.0</td>\n",
       "      <td>46.664761</td>\n",
       "      <td>24.704578</td>\n",
       "      <td>['restaurant', 'food', 'point_of_interest', 'e...</td>\n",
       "      <td>حي الحمراء</td>\n",
       "    </tr>\n",
       "  </tbody>\n",
       "</table>\n",
       "<p>1735 rows × 7 columns</p>\n",
       "</div>"
      ],
      "text/plain": [
       "                                        Name  Rating  Number of Ratings  \\\n",
       "0                                  فندق ميرا     3.7             1336.0   \n",
       "1     مركز ماي كار لصيانة السيارات الاوروبية     3.5             2755.0   \n",
       "2                       Luthan Hotel and Spa     4.0              423.0   \n",
       "3                                Dining Hall     3.0               27.0   \n",
       "4                                Sushi Yoshi     4.0             1721.0   \n",
       "...                                      ...     ...                ...   \n",
       "1795                            Al Romansiah     4.2             9460.0   \n",
       "1796                                   Herfy     3.8             1081.0   \n",
       "1797                                     KFC     3.5             1825.0   \n",
       "1798                    Burger King - Rawdah     3.7             1370.0   \n",
       "1799                                     KFC     3.8             2246.0   \n",
       "\n",
       "      Longitude   Latitude                                              Types  \\\n",
       "0     46.693985  24.701278  ['lodging', 'restaurant', 'food', 'point_of_in...   \n",
       "1     46.576437  24.851751  ['restaurant', 'food', 'point_of_interest', 'e...   \n",
       "2     46.641709  24.706649  ['spa', 'lodging', 'restaurant', 'food', 'poin...   \n",
       "3     46.619655  24.720989  ['restaurant', 'point_of_interest', 'food', 'e...   \n",
       "4     46.706125  24.704821  ['restaurant', 'point_of_interest', 'food', 'e...   \n",
       "...         ...        ...                                                ...   \n",
       "1795  46.792399  24.695811  ['restaurant', 'point_of_interest', 'food', 'e...   \n",
       "1796  46.797511  24.780961  ['restaurant', 'point_of_interest', 'food', 'e...   \n",
       "1797  46.764410  24.732753  ['restaurant', 'food', 'point_of_interest', 'e...   \n",
       "1798  46.762265  24.735643  ['restaurant', 'food', 'point_of_interest', 'e...   \n",
       "1799  46.664761  24.704578  ['restaurant', 'food', 'point_of_interest', 'e...   \n",
       "\n",
       "     neighborhood  \n",
       "0        حي الملز  \n",
       "1        حي الملز  \n",
       "2        حي الملز  \n",
       "3        حي الملز  \n",
       "4        حي الملز  \n",
       "...           ...  \n",
       "1795   حي الحمراء  \n",
       "1796   حي الحمراء  \n",
       "1797   حي الحمراء  \n",
       "1798   حي الحمراء  \n",
       "1799   حي الحمراء  \n",
       "\n",
       "[1735 rows x 7 columns]"
      ]
     },
     "execution_count": 27,
     "metadata": {},
     "output_type": "execute_result"
    }
   ],
   "source": [
    "df"
   ]
  },
  {
   "cell_type": "code",
   "execution_count": 28,
   "id": "072fd173",
   "metadata": {},
   "outputs": [
    {
     "data": {
      "text/plain": [
       "Name                    0\n",
       "Rating                 26\n",
       "Number of Ratings      26\n",
       "Longitude               0\n",
       "Latitude                0\n",
       "Types                   0\n",
       "neighborhood            0\n",
       "Type_1                  0\n",
       "Type_2                  0\n",
       "Type_3                  0\n",
       "Type_4                  0\n",
       "Type_5               1296\n",
       "Type_6               1424\n",
       "Type_7               1656\n",
       "Type_8               1680\n",
       "dtype: int64"
      ]
     },
     "execution_count": 28,
     "metadata": {},
     "output_type": "execute_result"
    }
   ],
   "source": [
    "df2.isnull().sum()"
   ]
  },
  {
   "cell_type": "code",
   "execution_count": 29,
   "id": "fa8b337c",
   "metadata": {},
   "outputs": [
    {
     "data": {
      "text/html": [
       "<div>\n",
       "<style scoped>\n",
       "    .dataframe tbody tr th:only-of-type {\n",
       "        vertical-align: middle;\n",
       "    }\n",
       "\n",
       "    .dataframe tbody tr th {\n",
       "        vertical-align: top;\n",
       "    }\n",
       "\n",
       "    .dataframe thead th {\n",
       "        text-align: right;\n",
       "    }\n",
       "</style>\n",
       "<table border=\"1\" class=\"dataframe\">\n",
       "  <thead>\n",
       "    <tr style=\"text-align: right;\">\n",
       "      <th></th>\n",
       "      <th>Name</th>\n",
       "      <th>Rating</th>\n",
       "      <th>Number of Ratings</th>\n",
       "      <th>Longitude</th>\n",
       "      <th>Latitude</th>\n",
       "      <th>Types</th>\n",
       "      <th>neighborhood</th>\n",
       "      <th>Type_1</th>\n",
       "      <th>Type_2</th>\n",
       "      <th>Type_3</th>\n",
       "      <th>Type_4</th>\n",
       "    </tr>\n",
       "  </thead>\n",
       "  <tbody>\n",
       "    <tr>\n",
       "      <th>0</th>\n",
       "      <td>فندق ميرا</td>\n",
       "      <td>3.7</td>\n",
       "      <td>1336.0</td>\n",
       "      <td>46.693985</td>\n",
       "      <td>24.701278</td>\n",
       "      <td>['lodging', 'restaurant', 'food', 'point_of_in...</td>\n",
       "      <td>حي الملز</td>\n",
       "      <td>lodging</td>\n",
       "      <td>restaurant</td>\n",
       "      <td>food</td>\n",
       "      <td>point_of_interest</td>\n",
       "    </tr>\n",
       "    <tr>\n",
       "      <th>1</th>\n",
       "      <td>مركز ماي كار لصيانة السيارات الاوروبية</td>\n",
       "      <td>3.5</td>\n",
       "      <td>2755.0</td>\n",
       "      <td>46.576437</td>\n",
       "      <td>24.851751</td>\n",
       "      <td>['restaurant', 'food', 'point_of_interest', 'e...</td>\n",
       "      <td>حي الملز</td>\n",
       "      <td>restaurant</td>\n",
       "      <td>food</td>\n",
       "      <td>point_of_interest</td>\n",
       "      <td>establishment</td>\n",
       "    </tr>\n",
       "    <tr>\n",
       "      <th>2</th>\n",
       "      <td>Luthan Hotel and Spa</td>\n",
       "      <td>4.0</td>\n",
       "      <td>423.0</td>\n",
       "      <td>46.641709</td>\n",
       "      <td>24.706649</td>\n",
       "      <td>['spa', 'lodging', 'restaurant', 'food', 'poin...</td>\n",
       "      <td>حي الملز</td>\n",
       "      <td>spa</td>\n",
       "      <td>lodging</td>\n",
       "      <td>restaurant</td>\n",
       "      <td>food</td>\n",
       "    </tr>\n",
       "    <tr>\n",
       "      <th>3</th>\n",
       "      <td>Dining Hall</td>\n",
       "      <td>3.0</td>\n",
       "      <td>27.0</td>\n",
       "      <td>46.619655</td>\n",
       "      <td>24.720989</td>\n",
       "      <td>['restaurant', 'point_of_interest', 'food', 'e...</td>\n",
       "      <td>حي الملز</td>\n",
       "      <td>restaurant</td>\n",
       "      <td>point_of_interest</td>\n",
       "      <td>food</td>\n",
       "      <td>establishment</td>\n",
       "    </tr>\n",
       "    <tr>\n",
       "      <th>4</th>\n",
       "      <td>Sushi Yoshi</td>\n",
       "      <td>4.0</td>\n",
       "      <td>1721.0</td>\n",
       "      <td>46.706125</td>\n",
       "      <td>24.704821</td>\n",
       "      <td>['restaurant', 'point_of_interest', 'food', 'e...</td>\n",
       "      <td>حي الملز</td>\n",
       "      <td>restaurant</td>\n",
       "      <td>point_of_interest</td>\n",
       "      <td>food</td>\n",
       "      <td>establishment</td>\n",
       "    </tr>\n",
       "    <tr>\n",
       "      <th>...</th>\n",
       "      <td>...</td>\n",
       "      <td>...</td>\n",
       "      <td>...</td>\n",
       "      <td>...</td>\n",
       "      <td>...</td>\n",
       "      <td>...</td>\n",
       "      <td>...</td>\n",
       "      <td>...</td>\n",
       "      <td>...</td>\n",
       "      <td>...</td>\n",
       "      <td>...</td>\n",
       "    </tr>\n",
       "    <tr>\n",
       "      <th>1795</th>\n",
       "      <td>Al Romansiah</td>\n",
       "      <td>4.2</td>\n",
       "      <td>9460.0</td>\n",
       "      <td>46.792399</td>\n",
       "      <td>24.695811</td>\n",
       "      <td>['restaurant', 'point_of_interest', 'food', 'e...</td>\n",
       "      <td>حي الحمراء</td>\n",
       "      <td>restaurant</td>\n",
       "      <td>point_of_interest</td>\n",
       "      <td>food</td>\n",
       "      <td>establishment</td>\n",
       "    </tr>\n",
       "    <tr>\n",
       "      <th>1796</th>\n",
       "      <td>Herfy</td>\n",
       "      <td>3.8</td>\n",
       "      <td>1081.0</td>\n",
       "      <td>46.797511</td>\n",
       "      <td>24.780961</td>\n",
       "      <td>['restaurant', 'point_of_interest', 'food', 'e...</td>\n",
       "      <td>حي الحمراء</td>\n",
       "      <td>restaurant</td>\n",
       "      <td>point_of_interest</td>\n",
       "      <td>food</td>\n",
       "      <td>establishment</td>\n",
       "    </tr>\n",
       "    <tr>\n",
       "      <th>1797</th>\n",
       "      <td>KFC</td>\n",
       "      <td>3.5</td>\n",
       "      <td>1825.0</td>\n",
       "      <td>46.764410</td>\n",
       "      <td>24.732753</td>\n",
       "      <td>['restaurant', 'food', 'point_of_interest', 'e...</td>\n",
       "      <td>حي الحمراء</td>\n",
       "      <td>restaurant</td>\n",
       "      <td>food</td>\n",
       "      <td>point_of_interest</td>\n",
       "      <td>establishment</td>\n",
       "    </tr>\n",
       "    <tr>\n",
       "      <th>1798</th>\n",
       "      <td>Burger King - Rawdah</td>\n",
       "      <td>3.7</td>\n",
       "      <td>1370.0</td>\n",
       "      <td>46.762265</td>\n",
       "      <td>24.735643</td>\n",
       "      <td>['restaurant', 'food', 'point_of_interest', 'e...</td>\n",
       "      <td>حي الحمراء</td>\n",
       "      <td>restaurant</td>\n",
       "      <td>food</td>\n",
       "      <td>point_of_interest</td>\n",
       "      <td>establishment</td>\n",
       "    </tr>\n",
       "    <tr>\n",
       "      <th>1799</th>\n",
       "      <td>KFC</td>\n",
       "      <td>3.8</td>\n",
       "      <td>2246.0</td>\n",
       "      <td>46.664761</td>\n",
       "      <td>24.704578</td>\n",
       "      <td>['restaurant', 'food', 'point_of_interest', 'e...</td>\n",
       "      <td>حي الحمراء</td>\n",
       "      <td>restaurant</td>\n",
       "      <td>food</td>\n",
       "      <td>point_of_interest</td>\n",
       "      <td>establishment</td>\n",
       "    </tr>\n",
       "  </tbody>\n",
       "</table>\n",
       "<p>1680 rows × 11 columns</p>\n",
       "</div>"
      ],
      "text/plain": [
       "                                        Name  Rating  Number of Ratings  \\\n",
       "0                                  فندق ميرا     3.7             1336.0   \n",
       "1     مركز ماي كار لصيانة السيارات الاوروبية     3.5             2755.0   \n",
       "2                       Luthan Hotel and Spa     4.0              423.0   \n",
       "3                                Dining Hall     3.0               27.0   \n",
       "4                                Sushi Yoshi     4.0             1721.0   \n",
       "...                                      ...     ...                ...   \n",
       "1795                            Al Romansiah     4.2             9460.0   \n",
       "1796                                   Herfy     3.8             1081.0   \n",
       "1797                                     KFC     3.5             1825.0   \n",
       "1798                    Burger King - Rawdah     3.7             1370.0   \n",
       "1799                                     KFC     3.8             2246.0   \n",
       "\n",
       "      Longitude   Latitude                                              Types  \\\n",
       "0     46.693985  24.701278  ['lodging', 'restaurant', 'food', 'point_of_in...   \n",
       "1     46.576437  24.851751  ['restaurant', 'food', 'point_of_interest', 'e...   \n",
       "2     46.641709  24.706649  ['spa', 'lodging', 'restaurant', 'food', 'poin...   \n",
       "3     46.619655  24.720989  ['restaurant', 'point_of_interest', 'food', 'e...   \n",
       "4     46.706125  24.704821  ['restaurant', 'point_of_interest', 'food', 'e...   \n",
       "...         ...        ...                                                ...   \n",
       "1795  46.792399  24.695811  ['restaurant', 'point_of_interest', 'food', 'e...   \n",
       "1796  46.797511  24.780961  ['restaurant', 'point_of_interest', 'food', 'e...   \n",
       "1797  46.764410  24.732753  ['restaurant', 'food', 'point_of_interest', 'e...   \n",
       "1798  46.762265  24.735643  ['restaurant', 'food', 'point_of_interest', 'e...   \n",
       "1799  46.664761  24.704578  ['restaurant', 'food', 'point_of_interest', 'e...   \n",
       "\n",
       "     neighborhood      Type_1              Type_2              Type_3  \\\n",
       "0        حي الملز     lodging          restaurant                food   \n",
       "1        حي الملز  restaurant                food   point_of_interest   \n",
       "2        حي الملز         spa             lodging          restaurant   \n",
       "3        حي الملز  restaurant   point_of_interest                food   \n",
       "4        حي الملز  restaurant   point_of_interest                food   \n",
       "...           ...         ...                 ...                 ...   \n",
       "1795   حي الحمراء  restaurant   point_of_interest                food   \n",
       "1796   حي الحمراء  restaurant   point_of_interest                food   \n",
       "1797   حي الحمراء  restaurant                food   point_of_interest   \n",
       "1798   حي الحمراء  restaurant                food   point_of_interest   \n",
       "1799   حي الحمراء  restaurant                food   point_of_interest   \n",
       "\n",
       "                  Type_4  \n",
       "0      point_of_interest  \n",
       "1          establishment  \n",
       "2                   food  \n",
       "3          establishment  \n",
       "4          establishment  \n",
       "...                  ...  \n",
       "1795       establishment  \n",
       "1796       establishment  \n",
       "1797       establishment  \n",
       "1798       establishment  \n",
       "1799       establishment  \n",
       "\n",
       "[1680 rows x 11 columns]"
      ]
     },
     "execution_count": 29,
     "metadata": {},
     "output_type": "execute_result"
    }
   ],
   "source": [
    "df2.drop(['Type_5', 'Type_6', 'Type_7', 'Type_8'], axis=1)"
   ]
  },
  {
   "cell_type": "code",
   "execution_count": 30,
   "id": "c3d3957d",
   "metadata": {},
   "outputs": [],
   "source": [
    "df2 = df2.drop(['Type_5', 'Type_6', 'Type_7', 'Type_8'], axis=1)"
   ]
  },
  {
   "cell_type": "code",
   "execution_count": 31,
   "id": "abec31c4-0904-4b73-8cee-b7bc14ab1e67",
   "metadata": {},
   "outputs": [],
   "source": [
    "# go to clean them "
   ]
  },
  {
   "cell_type": "markdown",
   "id": "b40de63c-5a1d-49ed-a87e-c5229ee08bbe",
   "metadata": {},
   "source": [
    "#### 7. Check Accuracy:\n",
    "\n",
    "Verify that the data is correct and precise. This could involve comparing data samples with known sources or using validation rules.\n",
    "\n",
    "**The process includes:**\n",
    "1. Validating the appropriateness of data types for the dataset.\n",
    "2. Identifying outliers  using established validation  rule"
   ]
  },
  {
   "cell_type": "code",
   "execution_count": 32,
   "id": "68be5334-ae10-4abd-8097-3259fe5e72c8",
   "metadata": {},
   "outputs": [
    {
     "data": {
      "text/plain": [
       "Name                  object\n",
       "Rating               float64\n",
       "Number of Ratings    float64\n",
       "Longitude            float64\n",
       "Latitude             float64\n",
       "Types                 object\n",
       "neighborhood          object\n",
       "dtype: object"
      ]
     },
     "execution_count": 32,
     "metadata": {},
     "output_type": "execute_result"
    }
   ],
   "source": [
    "# check columns types \n",
    "df.dtypes"
   ]
  },
  {
   "cell_type": "code",
   "execution_count": 33,
   "id": "cd1ad6cf",
   "metadata": {},
   "outputs": [],
   "source": [
    "# all data types are good"
   ]
  },
  {
   "cell_type": "code",
   "execution_count": 34,
   "id": "2ee790ba-dcc0-45f1-b6f8-0133e913e149",
   "metadata": {},
   "outputs": [],
   "source": [
    "# go to clean them "
   ]
  },
  {
   "cell_type": "code",
   "execution_count": 35,
   "id": "c69b303a-5459-45f9-a28e-fcee45c21c05",
   "metadata": {},
   "outputs": [],
   "source": [
    "# check outliers "
   ]
  },
  {
   "cell_type": "markdown",
   "id": "4aca9d42-add6-45db-92cf-1f6dae5f277b",
   "metadata": {},
   "source": [
    "**What is an Outlier?** \n",
    "Outlier is an row/observation that appears far away and diverges from an overall pattern in a sample.\n",
    "\n",
    "**What are the types of Outliers?**\n",
    "1. Univariate: These outliers can be found when we look at distribution of a single variable\n",
    "2. Multivariate: are outliers in an n-dimensional space. In order to find them, you have to look at distributions in multi-dimensions. example (hight=100, weight=100) for a person\n",
    "\n",
    "**What causes Outliers?**\n",
    "Whenever we come across outliers, the ideal way to tackle them is to find out the reason of having these outliers. The method to deal with them would then depend on the reason of their occurrence.\n",
    "\n",
    "Let’s understand various types of outliers:\n",
    "\n",
    "1. Data Entry Errors:- Human errors such as errors caused during data collection, recording, or entry can cause outliers in data.\n",
    "2. Measurement Error: It is the most common source of outliers. This is caused when the measurement instrument used turns out to be faulty.\n",
    "3. Data Processing Error: Whenever we perform data mining, we extract data from multiple sources. It is possible that some manipulation or extraction errors may lead to outliers in the dataset.\n",
    "4. Sampling error: For instance, we have to measure the height of athletes. By mistake, we include a few basketball players in the sample. This inclusion is likely to cause outliers in the dataset.\n",
    "5. Natural Outlier: When an outlier is not artificial (due to error), it is a natural outlier. For instance: In my last assignment with one of the renowned insurance company, I noticed that the performance of top 50 financial advisors was far higher than rest of the population. Surprisingly, it was not due to any error. Hence, whenever we perform any data mining activity with advisors, we used to treat this segment separately.\n",
    "\n",
    "\n",
    "**What is the impact of Outliers on a dataset?**\n",
    "\n",
    "\n",
    "![image.png](https://www.analyticsvidhya.com/wp-content/uploads/2015/02/Outlier_31.png)\n",
    "\n",
    "\n",
    "\n",
    "**How to detect Outliers?**\n",
    "\n",
    "1. Most commonly used method to detect outliers is visualization (Univariate Graphical Analysis).\n",
    "\n",
    "We use 3 common visualization methods:\n",
    ">- Box-plot: A box plot is a method for graphically depicting groups of numerical data through their quartiles. The box extends from the Q1 to Q3 quartile values of the data, with a line at the median (Q2). The whiskers extend from the edges of the box to show the range of the data. Outlier points are those past the end of the whiskers. Box plots show robust measures of location and spread as well as providing information about symmetry and outliers.\n",
    ">\n",
    ">  \n",
    ">![image.png](https://miro.medium.com/v2/resize:fit:698/format:webp/1*VK5iHA2AB28HSZwWwUbNYg.png)\n",
    ">\n",
    ">\n",
    ">- Histogram\n",
    ">- Scatter Plot: A scatter plot is a mathematical diagram using Cartesian coordinates to display values for two variables for a set of data. The data are displayed as a collection of points, each having the value of one variable determining the position on the horizontal axis and the value of the other variable determining the position on the vertical axis. The points that are far from the population can be termed as an outlier.\n",
    ">\n",
    ">  \n",
    ">![image.png](https://miro.medium.com/v2/resize:fit:4800/format:webp/1*Ov6aH-8yIwNoUxtMFwgx4g.png)\n",
    ">\n",
    ">\n",
    "\n",
    "2. Using statistical method (Univariate Non-Graphical analysis):\n",
    ">- Any value, which is beyond the range of -1.5 x IQR to 1.5 x IQR\n",
    " \n",
    "![image.png](https://www.whatissixsigma.net/wp-content/uploads/2015/07/Box-Plot-Diagram-to-identify-Outliers-figure-1.png)\n",
    "\n",
    ">- Use capping methods. Any value which out of range of 5th and 95th percentile can be considered as outlier\n",
    ">- Data points, three or more standard deviation away from mean are considered outlier: The Z-score is the signed number of standard deviations by which the value of an observation or data point is above the mean value of what is being observed or measured. While calculating the Z-score we re-scale and center the data and look for data points that are too far from zero. These data points which are way too far from zero will be treated as the outliers. In most of the cases, a threshold of 3 or -3 is used i.e if the Z-score value is greater than or less than 3 or -3 respectively, that data point will be identified as outliers.\n",
    "> - Outlier detection is merely a special case of the examination of data for influential data points and it also depends on the business understanding\n"
   ]
  },
  {
   "cell_type": "code",
   "execution_count": 36,
   "id": "74ea6194-cc01-45d8-be38-c4543eb1714e",
   "metadata": {},
   "outputs": [],
   "source": [
    "# go to univariate graphical analysis\n",
    "# go to lesson : data visualisation 1 - chart type section\n",
    "# then go to univariate graphical analysis\n",
    "# detect outliers using graphs varbaly"
   ]
  },
  {
   "cell_type": "code",
   "execution_count": 37,
   "id": "48ecf77b-480c-4f64-9485-95be805bc357",
   "metadata": {},
   "outputs": [],
   "source": [
    "# go to lesson: statistics 1 then statistics 3\n",
    "# then go to univariate Non graphical analysis\n",
    "# detect outliers using numerical statistics "
   ]
  },
  {
   "cell_type": "code",
   "execution_count": 38,
   "id": "ee200da8-62b0-492d-b118-f4d665a1fb16",
   "metadata": {},
   "outputs": [
    {
     "data": {
      "image/png": "[encoded data removed]",
      "text/plain": [
       "<Figure size 1500x1000 with 4 Axes>"
      ]
     },
     "metadata": {},
     "output_type": "display_data"
    }
   ],
   "source": [
    "numeric_cols = ['Rating', 'Number of Ratings']\n",
    "\n",
    "fig, axes = plt.subplots(nrows=2, ncols=2, figsize=(15, 10))\n",
    "\n",
    "for i, col in enumerate(numeric_cols):\n",
    "    ax = axes[i // 2, i % 2]\n",
    "    \n",
    "    sns.boxplot(x=df[col], ax=ax)  \n",
    "    ax.set_title(f'Box Plot of {col}')\n",
    "    ax.set_xlabel('Values')  \n",
    "    ax.set_ylabel('Distribution') \n",
    "\n",
    "plt.tight_layout()\n",
    "plt.show()"
   ]
  },
  {
   "cell_type": "code",
   "execution_count": 39,
   "id": "f4747df7",
   "metadata": {},
   "outputs": [],
   "source": [
    "# no need for clean outliers because all of them are natural outliers"
   ]
  },
  {
   "cell_type": "code",
   "execution_count": 40,
   "id": "4e66d611-6958-4860-8522-9ada7fce40b0",
   "metadata": {},
   "outputs": [],
   "source": [
    "# go to delete ouliers"
   ]
  },
  {
   "attachments": {},
   "cell_type": "markdown",
   "id": "4e886ec7-388c-414b-ada7-803c2fb1f2cb",
   "metadata": {},
   "source": [
    "## 2. Data Cleaning: \n",
    "\n",
    "Preliminary findings from data profiling can lead to cleaning the data by:\n",
    "- Handling missing values\n",
    "- Correcting errors.\n",
    "- Dealing with outliers.\n",
    "\n",
    "-------------------\n",
    "\n"
   ]
  },
  {
   "cell_type": "markdown",
   "id": "21876b48-f5ec-4970-85a9-0520d45d8841",
   "metadata": {},
   "source": [
    "### Handling missing values:"
   ]
  },
  {
   "cell_type": "markdown",
   "id": "c890d5a2-2a65-4090-9427-f89c0f011d3f",
   "metadata": {},
   "source": [
    "**Why my data has missing values?**\n",
    "They may occur at two stages:\n",
    "1. Data Extraction: It is possible that there are problems with extraction process. Errors at data extraction stage are typically easy to find and can be corrected easily as well.\n",
    "2. Data collection: These errors occur at time of data collection and are harder to correct.\n",
    "\n",
    "**Why do we need to handle the missing data?**\n",
    "To avoid:\n",
    "- Bias the conclusions.\n",
    "- Leading the business to make wrong decisions.\n",
    "\n",
    "**Which are the methods to treat missing values ?**\n",
    "1. Deletion: we delete rows where any of the variable is missing. Simplicity is one of the major advantage of this method, but this method reduces the power of model because it reduces the sample size.\n",
    "\n",
    "2. Imputation: is a method to fill in the missing values with estimated ones. This imputation is one of the most frequently used methods.\n",
    "\n",
    "    2.1. Mean/ Mode/ Median Imputation: It consists of replacing the missing data for a given attribute by the mean or median (quantitative attribute) or mode (qualitative attribute) of all known values of that variable.\n",
    "    > It can be of two types:\n",
    "    > - Generalized Imputation: In this case, we calculate the mean or median for all non missing values of that variable then replace missing value with mean or median.\n",
    "    > - Similar case Imputation: In this case, we calculate average for each group individually of non missing values then replace the missing value based on the group.\n",
    "\n",
    "    2.2. Constant Value\n",
    "   \n",
    "    2.3. Forward Filling\n",
    "   \n",
    "    2.4. Backward Filling\n",
    "\n",
    "6. Prediction Model:  Prediction model is one of the sophisticated method for handling missing data. Here, we create a predictive model to estimate values that will substitute the missing data.  In this case, we divide our data set into two sets: One set with no missing values for the variable and another one with missing values. First data set become training data set of the model while second data set with missing values is test data set and variable with missing values is treated as target variable. Next, we create a model to predict target variable based on other attributes of the training data set and populate missing values of test data set.\n",
    "\n",
    "> There are 2 drawbacks for this approach:\n",
    "> - The model estimated values are usually more well-behaved than the true values\n",
    "> - If there are no relationships with attributes in the data set and the attribute with missing values, then the model will not be precise for estimating missing values.\n",
    "\n",
    "9. KNN Imputation: In this method of imputation, the missing values of an attribute are imputed using the given number of attributes that are most similar to the attribute whose values are missing. The similarity of two attributes is determined using a distance function. It is also known to have certain advantage & disadvantages.\n",
    "\n",
    "   > **Advantages:**\n",
    "   > - k-nearest neighbour can predict both qualitative & quantitative attributes\n",
    "   > - Creation of predictive model for each attribute with missing data is not required\n",
    "   > - Attributes with multiple missing values can be easily treated\n",
    "   > - Correlation structure of the data is taken into consideration\n",
    "\n",
    "   > **Disadvantage:**\n",
    "   > - KNN algorithm is very time-consuming in analyzing large database. It searches through all the dataset looking for the most similar instances.\n",
    "   > - Choice of k-value is very critical. Higher value of k would include attributes which are significantly different from what we need whereas lower value of k implies missing out of significant attributes.\n",
    "\n",
    "--------------------\n"
   ]
  },
  {
   "cell_type": "code",
   "execution_count": 41,
   "id": "57e741fb-71c1-46ad-a526-d8f0b1564dc3",
   "metadata": {},
   "outputs": [],
   "source": [
    "# "
   ]
  },
  {
   "cell_type": "code",
   "execution_count": 42,
   "id": "01287962-8077-4c01-8d1d-5f8aed6cb37a",
   "metadata": {},
   "outputs": [],
   "source": [
    "# go back to 6th dimention --> Completeness"
   ]
  },
  {
   "cell_type": "markdown",
   "id": "f7cee10f-0af8-44e5-b595-8e965294daad",
   "metadata": {},
   "source": [
    "### Correcting errors\n",
    "\n",
    "-------------------"
   ]
  },
  {
   "cell_type": "code",
   "execution_count": null,
   "id": "06273b88-a169-42e8-81f5-5d71cb3f9c21",
   "metadata": {},
   "outputs": [],
   "source": []
  },
  {
   "cell_type": "code",
   "execution_count": 43,
   "id": "f1d95da5-a3ba-473a-8243-aa177cadae20",
   "metadata": {},
   "outputs": [],
   "source": [
    "# go back to 7th dimension Accuracy "
   ]
  },
  {
   "cell_type": "markdown",
   "id": "5ecc7dbb-6867-44cf-8f99-1b969a80be40",
   "metadata": {},
   "source": [
    "### Dealing with outliers:"
   ]
  },
  {
   "attachments": {},
   "cell_type": "markdown",
   "id": "88347887-4bdf-48af-9486-cb8fe80c97af",
   "metadata": {},
   "source": [
    "**How to remove Outliers?**\n",
    "Most of the ways to deal with outliers are similar to the methods of missing values like deleting rows, transforming them, binning them, treat them as a separate group, imputing values and other statistical methods. Here, we will discuss the common techniques used to deal with outliers:\n",
    "\n",
    "1. Deleting rows: We delete outlier values if it is due to data entry error, data processing error or outlier rows are very small in numbers. We can also use trimming at both ends to remove outliers.\n",
    "\n",
    "2. Imputing: Like imputation of missing values, we can also impute outliers. We can use mean, median, mode imputation methods. Before imputing values, we should analyse if it is natural outlier or artificial. If it is artificial, we can go with imputing values. We can also use statistical model to predict values of outlier rows and after that we can impute it with predicted values.\n",
    "\n",
    "3. Treat separately: If there are significant number of outliers, we should treat them separately in the statistical model. One of the approach is to treat both groups as two different groups and build individual model for both groups and then combine the output.\n"
   ]
  },
  {
   "cell_type": "code",
   "execution_count": null,
   "id": "25a585f0-2b9c-42fa-bf21-cacc6aa3be3f",
   "metadata": {},
   "outputs": [],
   "source": []
  },
  {
   "cell_type": "markdown",
   "id": "98548b66-e309-4eb8-a5dc-65fe0abbf1e8",
   "metadata": {},
   "source": [
    "## 3. Univariate Analysis: \n",
    "\n",
    "This involves examining single variables to understand their characteristics (distribution, central tendency, dispersion, and shape).\n",
    "\n",
    "We calculate **numerical values** about the data that tells us about the distribution of the data. We also **draw graphs** showing visually how the data is distributed. **To answer the following questions about Features/characteristics of Data:**\n",
    "- Where is the center of the data? (location)\n",
    "- How much does the data vary? (scale)\n",
    "- What is the shape of the data? (shape)\n",
    "\n",
    "**The benefits of this analysis:**\n",
    "Statistics summary gives a high-level idea to identify whether the data has any outliers, data entry error, distribution of data such as the data is normally distributed or left/right skewed\n",
    "\n",
    "**In this step, we will explore variables one by one using following approaches:**"
   ]
  },
  {
   "cell_type": "markdown",
   "id": "d6718111-7ac2-4fff-9851-654655b62e0b",
   "metadata": {},
   "source": [
    "### 1. Univariate Graphical Analysis:\n",
    "Method to perform uni-variate analysis will depend on whether the variable type is categorical or numerical."
   ]
  },
  {
   "cell_type": "code",
   "execution_count": 44,
   "id": "db79d803-b75c-4686-a623-e8420321a90f",
   "metadata": {},
   "outputs": [
    {
     "data": {
      "application/vnd.plotly.v1+json": {
       "config": {
        "plotlyServerURL": "https://plot.ly"
       },
       "data": [
        {
         "alignmentgroup": "True",
         "hovertemplate": "neighborhood=%{x}<br>Rating=%{y}<extra></extra>",
         "legendgroup": "",
         "marker": {
          "color": "#636efa",
          "pattern": {
           "shape": ""
          }
         },
         "name": "",
         "offsetgroup": "",
         "orientation": "v",
         "showlegend": false,
         "textposition": "auto",
         "type": "bar",
         "x": [
          "حي الملز",
          "حي الملز",
          "حي الملز",
          "حي الملز",
          "حي الملز",
          "حي الملز",
          "حي الملز",
          "حي الملز",
          "حي الملز",
          "حي الملز",
          "حي الملز",
          "حي الملز",
          "حي الملز",
          "حي الملز",
          "حي الملز",
          "حي الملز",
          "حي الملز",
          "حي الملز",
          "حي الملز",
          "حي الملز",
          "حي الملز",
          "حي الملز",
          "حي الملز",
          "حي الملز",
          "حي الملز",
          "حي الملز",
          "حي الملز",
          "حي الملز",
          "حي الملز",
          "حي الملز",
          "حي الملز",
          "حي الملز",
          "حي الملز",
          "حي الملز",
          "حي الملز",
          "حي الملز",
          "حي الملز",
          "حي الملز",
          "حي الملز",
          "حي الملز",
          "حي الملز",
          "حي الملز",
          "حي الملز",
          "حي الملز",
          "حي الملز",
          "حي الملز",
          "حي الملز",
          "حي الملز",
          "حي الملز",
          "حي الملز",
          "حي الملز",
          "حي الملز",
          "حي الملز",
          "حي الملز",
          "حي الملز",
          "حي الملز",
          "حي الملز",
          "حي الملز",
          "حي الملز",
          "حي الملز",
          "حي الربوة",
          "حي الربوة",
          "حي الربوة",
          "حي الربوة",
          "حي الربوة",
          "حي الربوة",
          "حي الربوة",
          "حي الربوة",
          "حي الربوة",
          "حي الربوة",
          "حي الربوة",
          "حي الربوة",
          "حي الربوة",
          "حي الربوة",
          "حي الربوة",
          "حي الربوة",
          "حي الربوة",
          "حي الربوة",
          "حي الربوة",
          "حي الربوة",
          "حي الربوة",
          "حي الربوة",
          "حي الربوة",
          "حي الربوة",
          "حي الربوة",
          "حي الربوة",
          "حي الربوة",
          "حي الربوة",
          "حي الربوة",
          "حي الربوة",
          "حي الربوة",
          "حي الربوة",
          "حي الربوة",
          "حي الربوة",
          "حي الربوة",
          "حي الربوة",
          "حي الربوة",
          "حي الربوة",
          "حي الربوة",
          "حي الربوة",
          "حي الربوة",
          "حي الربوة",
          "حي الربوة",
          "حي الربوة",
          "حي الربوة",
          "حي الربوة",
          "حي الربوة",
          "حي الربوة",
          "حي الربوة",
          "حي الربوة",
          "حي الربوة",
          "حي الربوة",
          "حي الربوة",
          "حي الربوة",
          "حي الربوة",
          "حي الربوة",
          "حي الربوة",
          "حي الربوة",
          "حي الربوة",
          "حي الربوة",
          "حي الوزارات",
          "حي الوزارات",
          "حي الوزارات",
          "حي الوزارات",
          "حي الوزارات",
          "حي الوزارات",
          "حي الوزارات",
          "حي الوزارات",
          "حي الوزارات",
          "حي الوزارات",
          "حي الوزارات",
          "حي الوزارات",
          "حي الوزارات",
          "حي الوزارات",
          "حي الوزارات",
          "حي الوزارات",
          "حي الوزارات",
          "حي الوزارات",
          "حي الوزارات",
          "حي الوزارات",
          "حي الوزارات",
          "حي الوزارات",
          "حي الوزارات",
          "حي الوزارات",
          "حي الوزارات",
          "حي الوزارات",
          "حي الوزارات",
          "حي الوزارات",
          "حي الوزارات",
          "حي الوزارات",
          "حي الوزارات",
          "حي الوزارات",
          "حي الوزارات",
          "حي الوزارات",
          "حي الوزارات",
          "حي الوزارات",
          "حي الوزارات",
          "حي الوزارات",
          "حي الوزارات",
          "حي الوزارات",
          "حي الوزارات",
          "حي الوزارات",
          "حي الوزارات",
          "حي الوزارات",
          "حي الوزارات",
          "حي الوزارات",
          "حي الوزارات",
          "حي الوزارات",
          "حي الوزارات",
          "حي الوزارات",
          "حي الوزارات",
          "حي الوزارات",
          "حي الوزارات",
          "حي الوزارات",
          "حي الوزارات",
          "حي الوزارات",
          "حي الوزارات",
          "حي الوزارات",
          "حي الوزارات",
          "حي الوزارات",
          "حي جرير",
          "حي جرير",
          "حي جرير",
          "حي جرير",
          "حي جرير",
          "حي جرير",
          "حي جرير",
          "حي جرير",
          "حي جرير",
          "حي جرير",
          "حي جرير",
          "حي جرير",
          "حي جرير",
          "حي جرير",
          "حي جرير",
          "حي جرير",
          "حي جرير",
          "حي جرير",
          "حي جرير",
          "حي جرير",
          "حي جرير",
          "حي جرير",
          "حي جرير",
          "حي جرير",
          "حي جرير",
          "حي جرير",
          "حي جرير",
          "حي جرير",
          "حي جرير",
          "حي جرير",
          "حي جرير",
          "حي جرير",
          "حي جرير",
          "حي جرير",
          "حي جرير",
          "حي جرير",
          "حي جرير",
          "حي جرير",
          "حي جرير",
          "حي جرير",
          "حي جرير",
          "حي جرير",
          "حي جرير",
          "حي جرير",
          "حي جرير",
          "حي جرير",
          "حي جرير",
          "حي جرير",
          "حي جرير",
          "حي جرير",
          "حي جرير",
          "حي جرير",
          "حي جرير",
          "حي جرير",
          "حي جرير",
          "حي جرير",
          "حي جرير",
          "حي جرير",
          "حي جرير",
          "حي جرير",
          "حي الصفا",
          "حي الصفا",
          "حي الصفا",
          "حي الصفا",
          "حي الصفا",
          "حي الصفا",
          "حي الصفا",
          "حي الصفا",
          "حي الصفا",
          "حي الصفا",
          "حي الصفا",
          "حي الصفا",
          "حي الصفا",
          "حي الصفا",
          "حي الصفا",
          "حي الصفا",
          "حي الصفا",
          "حي الصفا",
          "حي الصفا",
          "حي الصفا",
          "حي الصفا",
          "حي الصفا",
          "حي الصفا",
          "حي الصفا",
          "حي الصفا",
          "حي الصفا",
          "حي الصفا",
          "حي الصفا",
          "حي الصفا",
          "حي الصفا",
          "حي الصفا",
          "حي الصفا",
          "حي الصفا",
          "حي الصفا",
          "حي الصفا",
          "حي الصفا",
          "حي الصفا",
          "حي الصفا",
          "حي الصفا",
          "حي الصفا",
          "حي الصفا",
          "حي الصفا",
          "حي الصفا",
          "حي الصفا",
          "حي الصفا",
          "حي الصفا",
          "حي الصفا",
          "حي الصفا",
          "حي الصفا",
          "حي الصفا",
          "حي الصفا",
          "حي الصفا",
          "حي الصفا",
          "حي الصفا",
          "حي الصفا",
          "حي الصفا",
          "حي الصفا",
          "حي الصفا",
          "حي الصفا",
          "حي الصفا",
          "حي العليا",
          "حي العليا",
          "حي العليا",
          "حي العليا",
          "حي العليا",
          "حي العليا",
          "حي العليا",
          "حي العليا",
          "حي العليا",
          "حي العليا",
          "حي العليا",
          "حي العليا",
          "حي العليا",
          "حي العليا",
          "حي العليا",
          "حي العليا",
          "حي العليا",
          "حي العليا",
          "حي العليا",
          "حي العليا",
          "حي العليا",
          "حي العليا",
          "حي العليا",
          "حي العليا",
          "حي العليا",
          "حي العليا",
          "حي العليا",
          "حي العليا",
          "حي العليا",
          "حي العليا",
          "حي العليا",
          "حي العليا",
          "حي العليا",
          "حي العليا",
          "حي العليا",
          "حي العليا",
          "حي العليا",
          "حي العليا",
          "حي العليا",
          "حي العليا",
          "حي العليا",
          "حي العليا",
          "حي العليا",
          "حي العليا",
          "حي العليا",
          "حي العليا",
          "حي العليا",
          "حي العليا",
          "حي العليا",
          "حي العليا",
          "حي العليا",
          "حي العليا",
          "حي العليا",
          "حي العليا",
          "حي العليا",
          "حي العليا",
          "حي العليا",
          "حي العليا",
          "حي العليا",
          "حي العليا",
          "حي السليمانية",
          "حي السليمانية",
          "حي السليمانية",
          "حي السليمانية",
          "حي السليمانية",
          "حي السليمانية",
          "حي السليمانية",
          "حي السليمانية",
          "حي السليمانية",
          "حي السليمانية",
          "حي السليمانية",
          "حي السليمانية",
          "حي السليمانية",
          "حي السليمانية",
          "حي السليمانية",
          "حي السليمانية",
          "حي السليمانية",
          "حي السليمانية",
          "حي السليمانية",
          "حي السليمانية",
          "حي السليمانية",
          "حي السليمانية",
          "حي السليمانية",
          "حي السليمانية",
          "حي السليمانية",
          "حي السليمانية",
          "حي السليمانية",
          "حي السليمانية",
          "حي السليمانية",
          "حي السليمانية",
          "حي السليمانية",
          "حي السليمانية",
          "حي السليمانية",
          "حي السليمانية",
          "حي السليمانية",
          "حي السليمانية",
          "حي السليمانية",
          "حي السليمانية",
          "حي السليمانية",
          "حي السليمانية",
          "حي السليمانية",
          "حي السليمانية",
          "حي السليمانية",
          "حي السليمانية",
          "حي السليمانية",
          "حي السليمانية",
          "حي السليمانية",
          "حي السليمانية",
          "حي السليمانية",
          "حي السليمانية",
          "حي السليمانية",
          "حي السليمانية",
          "حي الورود",
          "حي الورود",
          "حي الورود",
          "حي الورود",
          "حي الورود",
          "حي الورود",
          "حي الورود",
          "حي الورود",
          "حي الورود",
          "حي الورود",
          "حي الورود",
          "حي الورود",
          "حي الورود",
          "حي الورود",
          "حي الورود",
          "حي الورود",
          "حي الورود",
          "حي الورود",
          "حي الورود",
          "حي الورود",
          "حي الورود",
          "حي الورود",
          "حي الورود",
          "حي الورود",
          "حي الورود",
          "حي الورود",
          "حي الورود",
          "حي الورود",
          "حي الورود",
          "حي الورود",
          "حي الورود",
          "حي الورود",
          "حي الورود",
          "حي الورود",
          "حي الورود",
          "حي الورود",
          "حي الورود",
          "حي الورود",
          "حي الورود",
          "حي الورود",
          "حي الورود",
          "حي الورود",
          "حي الورود",
          "حي الورود",
          "حي الورود",
          "حي الورود",
          "حي الورود",
          "حي الورود",
          "حي الورود",
          "حي الورود",
          "حي الورود",
          "حي الورود",
          "حي الورود",
          "حي الورود",
          "حي الورود",
          "حي الورود",
          "حي الورود",
          "حي الورود",
          "حي الورود",
          "حي المرسلات",
          "حي المرسلات",
          "حي المرسلات",
          "حي المرسلات",
          "حي المرسلات",
          "حي المرسلات",
          "حي المرسلات",
          "حي المرسلات",
          "حي المرسلات",
          "حي المرسلات",
          "حي المرسلات",
          "حي المرسلات",
          "حي المرسلات",
          "حي المرسلات",
          "حي المرسلات",
          "حي المرسلات",
          "حي المرسلات",
          "حي المرسلات",
          "حي المرسلات",
          "حي المرسلات",
          "حي المرسلات",
          "حي المرسلات",
          "حي المرسلات",
          "حي المرسلات",
          "حي المرسلات",
          "حي المرسلات",
          "حي المرسلات",
          "حي المرسلات",
          "حي المرسلات",
          "حي المرسلات",
          "حي المرسلات",
          "حي المرسلات",
          "حي المرسلات",
          "حي المرسلات",
          "حي المرسلات",
          "حي المرسلات",
          "حي المرسلات",
          "حي المرسلات",
          "حي المرسلات",
          "حي المرسلات",
          "حي المرسلات",
          "حي المرسلات",
          "حي المرسلات",
          "حي المرسلات",
          "حي المرسلات",
          "حي المرسلات",
          "حي المرسلات",
          "حي المرسلات",
          "حي المرسلات",
          "حي المرسلات",
          "حي المرسلات",
          "حي المرسلات",
          "حي المرسلات",
          "حي المرسلات",
          "حي المرسلات",
          "حي المرسلات",
          "حي المرسلات",
          "حي المرسلات",
          "حي المرسلات",
          "حي المرسلات",
          "حي الزدهار",
          "حي الزدهار",
          "حي الزدهار",
          "حي الزدهار",
          "حي الزدهار",
          "حي الزدهار",
          "حي الزدهار",
          "حي الزدهار",
          "حي الزدهار",
          "حي الزدهار",
          "حي الزدهار",
          "حي الزدهار",
          "حي الزدهار",
          "حي الزدهار",
          "حي الزدهار",
          "حي الزدهار",
          "حي الزدهار",
          "حي الزدهار",
          "حي الزدهار",
          "حي الزدهار",
          "حي الزدهار",
          "حي الزدهار",
          "حي الزدهار",
          "حي الزدهار",
          "حي الزدهار",
          "حي الزدهار",
          "حي الزدهار",
          "حي الزدهار",
          "حي الزدهار",
          "حي الزدهار",
          "حي الزدهار",
          "حي الزدهار",
          "حي الزدهار",
          "حي الزدهار",
          "حي الزدهار",
          "حي الزدهار",
          "حي الزدهار",
          "حي الزدهار",
          "حي الزدهار",
          "حي الزدهار",
          "حي الزدهار",
          "حي الزدهار",
          "حي الزدهار",
          "حي الزدهار",
          "حي الزدهار",
          "حي الزدهار",
          "حي الزدهار",
          "حي الزدهار",
          "حي الزدهار",
          "حي الزدهار",
          "حي الزدهار",
          "حي الزدهار",
          "حي الزدهار",
          "حي الزدهار",
          "حي الزدهار",
          "حي الزدهار",
          "حي الزدهار",
          "حي الزدهار",
          "حي الزدهار",
          "حي الزدهار",
          "حي الياسمين",
          "حي الياسمين",
          "حي الياسمين",
          "حي الياسمين",
          "حي الياسمين",
          "حي الياسمين",
          "حي الياسمين",
          "حي الياسمين",
          "حي الياسمين",
          "حي الياسمين",
          "حي الياسمين",
          "حي الياسمين",
          "حي الياسمين",
          "حي الياسمين",
          "حي الياسمين",
          "حي الياسمين",
          "حي الياسمين",
          "حي الياسمين",
          "حي الياسمين",
          "حي الياسمين",
          "حي الياسمين",
          "حي الياسمين",
          "حي الياسمين",
          "حي الياسمين",
          "حي الياسمين",
          "حي الياسمين",
          "حي الياسمين",
          "حي الياسمين",
          "حي الياسمين",
          "حي الياسمين",
          "حي الياسمين",
          "حي الياسمين",
          "حي الياسمين",
          "حي الياسمين",
          "حي الياسمين",
          "حي الياسمين",
          "حي الياسمين",
          "حي الياسمين",
          "حي الياسمين",
          "حي الياسمين",
          "حي الياسمين",
          "حي الياسمين",
          "حي الياسمين",
          "حي الياسمين",
          "حي الياسمين",
          "حي الياسمين",
          "حي الياسمين",
          "حي الياسمين",
          "حي الياسمين",
          "حي الياسمين",
          "حي الياسمين",
          "حي الياسمين",
          "حي الياسمين",
          "حي الياسمين",
          "حي الياسمين",
          "حي الياسمين",
          "حي الياسمين",
          "حي الياسمين",
          "حي الياسمين",
          "حي الياسمين",
          "حي الندى",
          "حي الندى",
          "حي الندى",
          "حي الندى",
          "حي الندى",
          "حي الندى",
          "حي الندى",
          "حي الندى",
          "حي الندى",
          "حي الندى",
          "حي الندى",
          "حي الندى",
          "حي الندى",
          "حي الندى",
          "حي الندى",
          "حي الندى",
          "حي الندى",
          "حي الندى",
          "حي الندى",
          "حي الندى",
          "حي الندى",
          "حي الندى",
          "حي الندى",
          "حي الندى",
          "حي الندى",
          "حي الندى",
          "حي الندى",
          "حي الندى",
          "حي الندى",
          "حي الندى",
          "حي الندى",
          "حي الندى",
          "حي الندى",
          "حي الندى",
          "حي الندى",
          "حي الندى",
          "حي الندى",
          "حي الندى",
          "حي الندى",
          "حي الندى",
          "حي الندى",
          "حي الندى",
          "حي الندى",
          "حي الندى",
          "حي الندى",
          "حي الندى",
          "حي الندى",
          "حي الندى",
          "حي الندى",
          "حي الندى",
          "حي الندى",
          "حي الندى",
          "حي الندى",
          "حي الندى",
          "حي الندى",
          "حي الندى",
          "حي الندى",
          "حي الندى",
          "حي الندى",
          "حي الندى",
          "حي القيروان",
          "حي القيروان",
          "حي القيروان",
          "حي القيروان",
          "حي القيروان",
          "حي القيروان",
          "حي القيروان",
          "حي القيروان",
          "حي القيروان",
          "حي القيروان",
          "حي القيروان",
          "حي القيروان",
          "حي القيروان",
          "حي القيروان",
          "حي القيروان",
          "حي القيروان",
          "حي القيروان",
          "حي القيروان",
          "حي القيروان",
          "حي القيروان",
          "حي القيروان",
          "حي القيروان",
          "حي القيروان",
          "حي القيروان",
          "حي القيروان",
          "حي القيروان",
          "حي القيروان",
          "حي القيروان",
          "حي القيروان",
          "حي القيروان",
          "حي القيروان",
          "حي القيروان",
          "حي القيروان",
          "حي القيروان",
          "حي القيروان",
          "حي القيروان",
          "حي القيروان",
          "حي القيروان",
          "حي القيروان",
          "حي القيروان",
          "حي القيروان",
          "حي القيروان",
          "حي القيروان",
          "حي القيروان",
          "حي القيروان",
          "حي القيروان",
          "حي القيروان",
          "حي القيروان",
          "حي القيروان",
          "حي القيروان",
          "حي القيروان",
          "حي القيروان",
          "حي القيروان",
          "حي القيروان",
          "حي القيروان",
          "حي القيروان",
          "حي القيروان",
          "حي القيروان",
          "حي القيروان",
          "حي القيروان",
          "حي حطين",
          "حي حطين",
          "حي حطين",
          "حي حطين",
          "حي حطين",
          "حي حطين",
          "حي حطين",
          "حي حطين",
          "حي حطين",
          "حي حطين",
          "حي حطين",
          "حي حطين",
          "حي حطين",
          "حي حطين",
          "حي حطين",
          "حي حطين",
          "حي حطين",
          "حي حطين",
          "حي حطين",
          "حي حطين",
          "حي حطين",
          "حي حطين",
          "حي حطين",
          "حي حطين",
          "حي حطين",
          "حي حطين",
          "حي حطين",
          "حي حطين",
          "حي حطين",
          "حي حطين",
          "حي حطين",
          "حي حطين",
          "حي حطين",
          "حي حطين",
          "حي حطين",
          "حي حطين",
          "حي حطين",
          "حي حطين",
          "حي حطين",
          "حي حطين",
          "حي حطين",
          "حي حطين",
          "حي حطين",
          "حي حطين",
          "حي حطين",
          "حي حطين",
          "حي حطين",
          "حي حطين",
          "حي حطين",
          "حي حطين",
          "حي حطين",
          "حي حطين",
          "حي حطين",
          "حي حطين",
          "حي حطين",
          "حي حطين",
          "حي حطين",
          "حي حطين",
          "حي حطين",
          "حي حطين",
          "حي الملقا",
          "حي الملقا",
          "حي الملقا",
          "حي الملقا",
          "حي الملقا",
          "حي الملقا",
          "حي الملقا",
          "حي الملقا",
          "حي الملقا",
          "حي الملقا",
          "حي الملقا",
          "حي الملقا",
          "حي الملقا",
          "حي الملقا",
          "حي الملقا",
          "حي الملقا",
          "حي الملقا",
          "حي الملقا",
          "حي الملقا",
          "حي الملقا",
          "حي الملقا",
          "حي الملقا",
          "حي الملقا",
          "حي الملقا",
          "حي الملقا",
          "حي الملقا",
          "حي الملقا",
          "حي الملقا",
          "حي الملقا",
          "حي الملقا",
          "حي الملقا",
          "حي الملقا",
          "حي الملقا",
          "حي الملقا",
          "حي الملقا",
          "حي الملقا",
          "حي الملقا",
          "حي الملقا",
          "حي الملقا",
          "حي الملقا",
          "حي الملقا",
          "حي الملقا",
          "حي الملقا",
          "حي الملقا",
          "حي الملقا",
          "حي الملقا",
          "حي الملقا",
          "حي الملقا",
          "حي الملقا",
          "حي الملقا",
          "حي الملقا",
          "حي الملقا",
          "حي الملقا",
          "حي الملقا",
          "حي الملقا",
          "حي الملقا",
          "حي الملقا",
          "حي الملقا",
          "حي الملقا",
          "حي الملقا",
          "حي الربيع",
          "حي الربيع",
          "حي الربيع",
          "حي الربيع",
          "حي الربيع",
          "حي الربيع",
          "حي الربيع",
          "حي الربيع",
          "حي الربيع",
          "حي الربيع",
          "حي الربيع",
          "حي الربيع",
          "حي الربيع",
          "حي الربيع",
          "حي الربيع",
          "حي الربيع",
          "حي الربيع",
          "حي الربيع",
          "حي الربيع",
          "حي الربيع",
          "حي الربيع",
          "حي الربيع",
          "حي الربيع",
          "حي الربيع",
          "حي الربيع",
          "حي الربيع",
          "حي الربيع",
          "حي الربيع",
          "حي الربيع",
          "حي الربيع",
          "حي الربيع",
          "حي الربيع",
          "حي الربيع",
          "حي الربيع",
          "حي الربيع",
          "حي الربيع",
          "حي الربيع",
          "حي الربيع",
          "حي الربيع",
          "حي الربيع",
          "حي الربيع",
          "حي الربيع",
          "حي الربيع",
          "حي الربيع",
          "حي الربيع",
          "حي الربيع",
          "حي الربيع",
          "حي الربيع",
          "حي الربيع",
          "حي الربيع",
          "حي الربيع",
          "حي الربيع",
          "حي الربيع",
          "حي الربيع",
          "حي الربيع",
          "حي الربيع",
          "حي الربيع",
          "حي الربيع",
          "حي الربيع",
          "حي الربيع",
          "حي الندى",
          "حي الندى",
          "حي الندى",
          "حي الندى",
          "حي الندى",
          "حي الندى",
          "حي الندى",
          "حي الندى",
          "حي الندى",
          "حي الندى",
          "حي الندى",
          "حي الندى",
          "حي الندى",
          "حي الندى",
          "حي الندى",
          "حي الندى",
          "حي الندى",
          "حي الندى",
          "حي الندى",
          "حي الندى",
          "حي الندى",
          "حي الندى",
          "حي الصحافة",
          "حي الصحافة",
          "حي الصحافة",
          "حي الصحافة",
          "حي الصحافة",
          "حي الصحافة",
          "حي الصحافة",
          "حي الصحافة",
          "حي الصحافة",
          "حي الصحافة",
          "حي الصحافة",
          "حي الصحافة",
          "حي الصحافة",
          "حي الصحافة",
          "حي الصحافة",
          "حي الصحافة",
          "حي الصحافة",
          "حي الصحافة",
          "حي الصحافة",
          "حي الصحافة",
          "حي الصحافة",
          "حي الصحافة",
          "حي الصحافة",
          "حي الصحافة",
          "حي الصحافة",
          "حي الصحافة",
          "حي الصحافة",
          "حي الصحافة",
          "حي الصحافة",
          "حي الصحافة",
          "حي الصحافة",
          "حي الصحافة",
          "حي الصحافة",
          "حي الصحافة",
          "حي الصحافة",
          "حي الصحافة",
          "حي الصحافة",
          "حي الصحافة",
          "حي الصحافة",
          "حي الصحافة",
          "حي الصحافة",
          "حي الصحافة",
          "حي الصحافة",
          "حي الصحافة",
          "حي الصحافة",
          "حي الصحافة",
          "حي الصحافة",
          "حي الصحافة",
          "حي الصحافة",
          "حي الصحافة",
          "حي الصحافة",
          "حي الصحافة",
          "حي الصحافة",
          "حي الصحافة",
          "حي الصحافة",
          "حي الصحافة",
          "حي الصحافة",
          "حي الصحافة",
          "حي الصحافة",
          "حي الصحافة",
          "حي النرجس",
          "حي النرجس",
          "حي النرجس",
          "حي النرجس",
          "حي النرجس",
          "حي النرجس",
          "حي النرجس",
          "حي النرجس",
          "حي النرجس",
          "حي النرجس",
          "حي النرجس",
          "حي النرجس",
          "حي النرجس",
          "حي النرجس",
          "حي النرجس",
          "حي النرجس",
          "حي النرجس",
          "حي النرجس",
          "حي النرجس",
          "حي النرجس",
          "حي النرجس",
          "حي النرجس",
          "حي النرجس",
          "حي النرجس",
          "حي النرجس",
          "حي النرجس",
          "حي النرجس",
          "حي النرجس",
          "حي النرجس",
          "حي النرجس",
          "حي النرجس",
          "حي النرجس",
          "حي النرجس",
          "حي النرجس",
          "حي النرجس",
          "حي النرجس",
          "حي النرجس",
          "حي النرجس",
          "حي النرجس",
          "حي النرجس",
          "حي النرجس",
          "حي النرجس",
          "حي النرجس",
          "حي النرجس",
          "حي النرجس",
          "حي النرجس",
          "حي النرجس",
          "حي النرجس",
          "حي النرجس",
          "حي النرجس",
          "حي النرجس",
          "حي النرجس",
          "حي النرجس",
          "حي النرجس",
          "حي النرجس",
          "حي النرجس",
          "حي النرجس",
          "حي النرجس",
          "حي النرجس",
          "حي النرجس",
          "حي العارض",
          "حي العارض",
          "حي العارض",
          "حي العارض",
          "حي العارض",
          "حي العارض",
          "حي العارض",
          "حي العارض",
          "حي العارض",
          "حي العارض",
          "حي العارض",
          "حي العارض",
          "حي العارض",
          "حي العارض",
          "حي العارض",
          "حي العارض",
          "حي العارض",
          "حي العارض",
          "حي العارض",
          "حي العارض",
          "حي العارض",
          "حي العارض",
          "حي العارض",
          "حي العارض",
          "حي العارض",
          "حي العارض",
          "حي العارض",
          "حي العارض",
          "حي العارض",
          "حي العارض",
          "حي العارض",
          "حي العارض",
          "حي العارض",
          "حي العارض",
          "حي العارض",
          "حي العارض",
          "حي العارض",
          "حي العارض",
          "حي العارض",
          "حي العارض",
          "حي العارض",
          "حي العارض",
          "حي العارض",
          "حي العارض",
          "حي العارض",
          "حي العارض",
          "حي العارض",
          "حي العارض",
          "حي العارض",
          "حي العارض",
          "حي العارض",
          "حي العارض",
          "حي العارض",
          "حي العارض",
          "حي العارض",
          "حي العارض",
          "حي العارض",
          "حي العارض",
          "حي العارض",
          "حي العارض",
          "هجرة وادي لبن",
          "هجرة وادي لبن",
          "هجرة وادي لبن",
          "هجرة وادي لبن",
          "هجرة وادي لبن",
          "هجرة وادي لبن",
          "هجرة وادي لبن",
          "هجرة وادي لبن",
          "هجرة وادي لبن",
          "هجرة وادي لبن",
          "هجرة وادي لبن",
          "هجرة وادي لبن",
          "هجرة وادي لبن",
          "هجرة وادي لبن",
          "هجرة وادي لبن",
          "هجرة وادي لبن",
          "هجرة وادي لبن",
          "هجرة وادي لبن",
          "هجرة وادي لبن",
          "هجرة وادي لبن",
          "هجرة وادي لبن",
          "هجرة وادي لبن",
          "هجرة وادي لبن",
          "هجرة وادي لبن",
          "هجرة وادي لبن",
          "هجرة وادي لبن",
          "هجرة وادي لبن",
          "هجرة وادي لبن",
          "هجرة وادي لبن",
          "هجرة وادي لبن",
          "هجرة وادي لبن",
          "هجرة وادي لبن",
          "هجرة وادي لبن",
          "هجرة وادي لبن",
          "هجرة وادي لبن",
          "هجرة وادي لبن",
          "هجرة وادي لبن",
          "هجرة وادي لبن",
          "هجرة وادي لبن",
          "هجرة وادي لبن",
          "هجرة وادي لبن",
          "هجرة وادي لبن",
          "هجرة وادي لبن",
          "هجرة وادي لبن",
          "هجرة وادي لبن",
          "هجرة وادي لبن",
          "هجرة وادي لبن",
          "هجرة وادي لبن",
          "هجرة وادي لبن",
          "هجرة وادي لبن",
          "هجرة وادي لبن",
          "هجرة وادي لبن",
          "هجرة وادي لبن",
          "هجرة وادي لبن",
          "هجرة وادي لبن",
          "هجرة وادي لبن",
          "هجرة وادي لبن",
          "هجرة وادي لبن",
          "هجرة وادي لبن",
          "هجرة وادي لبن",
          "حي ظهرة نمار",
          "حي ظهرة نمار",
          "حي ظهرة نمار",
          "حي ظهرة نمار",
          "حي ظهرة نمار",
          "حي ظهرة نمار",
          "حي ظهرة نمار",
          "حي ظهرة نمار",
          "حي ظهرة نمار",
          "حي ظهرة نمار",
          "حي ظهرة نمار",
          "حي ظهرة نمار",
          "حي ظهرة نمار",
          "حي ظهرة نمار",
          "حي ظهرة نمار",
          "حي ظهرة نمار",
          "حي ظهرة نمار",
          "حي ظهرة نمار",
          "حي ظهرة نمار",
          "حي ظهرة نمار",
          "حي ظهرة نمار",
          "حي ظهرة نمار",
          "حي ظهرة نمار",
          "حي ظهرة نمار",
          "حي ظهرة نمار",
          "حي ظهرة نمار",
          "حي ظهرة نمار",
          "حي ظهرة نمار",
          "حي ظهرة نمار",
          "حي ظهرة نمار",
          "حي ظهرة نمار",
          "حي ظهرة نمار",
          "حي ظهرة نمار",
          "حي ظهرة نمار",
          "حي ظهرة نمار",
          "حي ظهرة نمار",
          "حي ظهرة نمار",
          "حي ظهرة نمار",
          "حي ظهرة نمار",
          "حي ظهرة نمار",
          "حي ظهرة نمار",
          "حي ظهرة نمار",
          "حي ظهرة نمار",
          "حي ظهرة نمار",
          "حي ظهرة نمار",
          "حي ظهرة نمار",
          "حي ظهرة نمار",
          "حي ظهرة نمار",
          "حي ظهرة نمار",
          "حي ظهرة نمار",
          "حي ظهرة نمار",
          "حي ظهرة نمار",
          "حي ظهرة نمار",
          "حي ظهرة نمار",
          "حي ظهرة نمار",
          "حي ظهرة نمار",
          "حي ظهرة نمار",
          "حي ظهرة نمار",
          "حي ظهرة نمار",
          "حي ظهرة نمار",
          "حي ديراب",
          "حي ديراب",
          "حي ديراب",
          "حي ديراب",
          "حي ديراب",
          "حي ديراب",
          "حي ديراب",
          "حي ديراب",
          "حي ديراب",
          "حي ديراب",
          "حي ديراب",
          "حي ديراب",
          "حي ديراب",
          "حي ديراب",
          "حي ديراب",
          "حي ديراب",
          "حي ديراب",
          "حي ديراب",
          "حي ديراب",
          "حي ديراب",
          "حي ديراب",
          "حي ديراب",
          "حي ديراب",
          "حي ديراب",
          "حي ديراب",
          "حي ديراب",
          "حي ديراب",
          "حي ديراب",
          "حي ديراب",
          "حي ديراب",
          "حي ديراب",
          "حي ديراب",
          "حي ديراب",
          "حي ديراب",
          "حي ديراب",
          "حي ديراب",
          "حي ديراب",
          "حي ديراب",
          "حي ديراب",
          "حي ديراب",
          "حي ديراب",
          "حي ديراب",
          "حي ديراب",
          "حي ديراب",
          "حي ديراب",
          "حي ديراب",
          "حي ديراب",
          "حي ديراب",
          "حي ديراب",
          "حي ديراب",
          "حي ديراب",
          "حي ديراب",
          "حي ديراب",
          "حي ديراب",
          "حي ديراب",
          "حي ديراب",
          "حي ديراب",
          "حي ديراب",
          "حي ديراب",
          "حي ديراب",
          "حي نمار",
          "حي نمار",
          "حي نمار",
          "حي نمار",
          "حي نمار",
          "حي نمار",
          "حي نمار",
          "حي نمار",
          "حي نمار",
          "حي نمار",
          "حي نمار",
          "حي نمار",
          "حي نمار",
          "حي نمار",
          "حي نمار",
          "حي نمار",
          "حي نمار",
          "حي نمار",
          "حي نمار",
          "حي نمار",
          "حي نمار",
          "حي نمار",
          "حي نمار",
          "حي نمار",
          "حي نمار",
          "حي نمار",
          "حي نمار",
          "حي نمار",
          "حي نمار",
          "حي نمار",
          "حي نمار",
          "حي نمار",
          "حي نمار",
          "حي نمار",
          "حي نمار",
          "حي نمار",
          "حي نمار",
          "حي نمار",
          "حي نمار",
          "حي نمار",
          "حي نمار",
          "حي نمار",
          "حي نمار",
          "حي نمار",
          "حي نمار",
          "حي نمار",
          "حي نمار",
          "حي نمار",
          "حي نمار",
          "حي نمار",
          "حي نمار",
          "حي نمار",
          "حي نمار",
          "حي نمار",
          "حي نمار",
          "حي نمار",
          "حي نمار",
          "حي نمار",
          "حي نمار",
          "حي نمار",
          "حي الحزم",
          "حي الحزم",
          "حي الحزم",
          "حي الحزم",
          "حي الحزم",
          "حي الحزم",
          "حي الحزم",
          "حي الحزم",
          "حي الحزم",
          "حي الحزم",
          "حي الحزم",
          "حي الحزم",
          "حي الحزم",
          "حي الحزم",
          "حي الحزم",
          "حي الحزم",
          "حي الحزم",
          "حي الحزم",
          "حي الحزم",
          "حي الحزم",
          "حي الحزم",
          "حي الحزم",
          "حي الحزم",
          "حي الحزم",
          "حي الحزم",
          "حي الحزم",
          "حي الحزم",
          "حي الحزم",
          "حي الحزم",
          "حي الحزم",
          "حي الحزم",
          "حي الحزم",
          "حي الحزم",
          "حي الحزم",
          "حي الحزم",
          "حي الحزم",
          "حي الحزم",
          "حي الحزم",
          "حي الحزم",
          "حي الحزم",
          "حي الحزم",
          "حي الحزم",
          "حي الحزم",
          "حي الحزم",
          "حي الحزم",
          "حي الحزم",
          "حي الحزم",
          "حي الحزم",
          "حي الحزم",
          "حي الحزم",
          "حي الحزم",
          "حي الحزم",
          "حي الحزم",
          "حي الحزم",
          "حي الحزم",
          "حي الحزم",
          "حي الحزم",
          "حي الحزم",
          "حي الحزم",
          "حي الحزم",
          "حي النهضة",
          "حي النهضة",
          "حي النهضة",
          "حي النهضة",
          "حي النهضة",
          "حي النهضة",
          "حي النهضة",
          "حي النهضة",
          "حي النهضة",
          "حي النهضة",
          "حي النهضة",
          "حي النهضة",
          "حي النهضة",
          "حي النهضة",
          "حي النهضة",
          "حي النهضة",
          "حي النهضة",
          "حي النهضة",
          "حي النهضة",
          "حي النهضة",
          "حي النهضة",
          "حي النهضة",
          "حي النهضة",
          "حي النهضة",
          "حي النهضة",
          "حي النهضة",
          "حي النهضة",
          "حي النهضة",
          "حي النهضة",
          "حي النهضة",
          "حي النهضة",
          "حي النهضة",
          "حي النهضة",
          "حي النهضة",
          "حي النهضة",
          "حي النهضة",
          "حي النهضة",
          "حي النهضة",
          "حي النهضة",
          "حي النهضة",
          "حي النهضة",
          "حي النهضة",
          "حي النهضة",
          "حي النهضة",
          "حي النهضة",
          "حي النهضة",
          "حي النهضة",
          "حي النهضة",
          "حي النهضة",
          "حي النهضة",
          "حي النهضة",
          "حي النهضة",
          "حي النهضة",
          "حي النهضة",
          "حي الأندلس",
          "حي الأندلس",
          "حي الأندلس",
          "حي الأندلس",
          "حي الأندلس",
          "حي الأندلس",
          "حي الأندلس",
          "حي الأندلس",
          "حي الأندلس",
          "حي الأندلس",
          "حي الأندلس",
          "حي الأندلس",
          "حي الأندلس",
          "حي الأندلس",
          "حي الأندلس",
          "حي الأندلس",
          "حي الأندلس",
          "حي الأندلس",
          "حي الأندلس",
          "حي الأندلس",
          "حي الأندلس",
          "حي الأندلس",
          "حي الأندلس",
          "حي الأندلس",
          "حي الأندلس",
          "حي الأندلس",
          "حي الأندلس",
          "حي الأندلس",
          "حي الأندلس",
          "حي الأندلس",
          "حي الأندلس",
          "حي الأندلس",
          "حي الأندلس",
          "حي الأندلس",
          "حي الأندلس",
          "حي الأندلس",
          "حي الأندلس",
          "حي الأندلس",
          "حي الأندلس",
          "حي الأندلس",
          "حي الأندلس",
          "حي الأندلس",
          "حي الأندلس",
          "حي الأندلس",
          "حي الأندلس",
          "حي الأندلس",
          "حي الأندلس",
          "حي الأندلس",
          "حي الأندلس",
          "حي الأندلس",
          "حي الأندلس",
          "حي الأندلس",
          "حي الأندلس",
          "حي الأندلس",
          "حي الأندلس",
          "حي الأندلس",
          "حي الأندلس",
          "حي الأندلس",
          "حي الأندلس",
          "حي الأندلس",
          "حي القدس",
          "حي القدس",
          "حي القدس",
          "حي القدس",
          "حي القدس",
          "حي القدس",
          "حي القدس",
          "حي القدس",
          "حي القدس",
          "حي القدس",
          "حي القدس",
          "حي القدس",
          "حي القدس",
          "حي القدس",
          "حي القدس",
          "حي القدس",
          "حي القدس",
          "حي القدس",
          "حي القدس",
          "حي القدس",
          "حي القدس",
          "حي القدس",
          "حي القدس",
          "حي القدس",
          "حي القدس",
          "حي القدس",
          "حي القدس",
          "حي القدس",
          "حي القدس",
          "حي القدس",
          "حي القدس",
          "حي القدس",
          "حي القدس",
          "حي القدس",
          "حي القدس",
          "حي القدس",
          "حي القدس",
          "حي القدس",
          "حي القدس",
          "حي القدس",
          "حي القدس",
          "حي القدس",
          "حي القدس",
          "حي القدس",
          "حي القدس",
          "حي القدس",
          "حي القدس",
          "حي القدس",
          "حي الخليج",
          "حي الخليج",
          "حي الخليج",
          "حي الخليج",
          "حي الخليج",
          "حي الخليج",
          "حي الخليج",
          "حي الخليج",
          "حي الخليج",
          "حي الخليج",
          "حي الخليج",
          "حي الخليج",
          "حي الخليج",
          "حي الخليج",
          "حي الخليج",
          "حي الخليج",
          "حي الخليج",
          "حي الخليج",
          "حي الخليج",
          "حي الخليج",
          "حي الخليج",
          "حي الخليج",
          "حي الخليج",
          "حي الخليج",
          "حي الخليج",
          "حي الخليج",
          "حي الخليج",
          "حي الخليج",
          "حي الخليج",
          "حي الخليج",
          "حي الخليج",
          "حي الخليج",
          "حي الخليج",
          "حي الخليج",
          "حي الخليج",
          "حي الخليج",
          "حي الخليج",
          "حي الخليج",
          "حي الخليج",
          "حي الخليج",
          "حي الخليج",
          "حي الخليج",
          "حي الخليج",
          "حي الخليج",
          "حي الخليج",
          "حي الخليج",
          "حي الخليج",
          "حي الخليج",
          "حي الخليج",
          "حي الخليج",
          "حي الخليج",
          "حي الخليج",
          "حي الخليج",
          "حي الخليج",
          "حي الخليج",
          "حي الخليج",
          "حي الخليج",
          "حي الخليج",
          "حي الخليج",
          "حي الخليج",
          "حي الحمراء",
          "حي الحمراء",
          "حي الحمراء",
          "حي الحمراء",
          "حي الحمراء",
          "حي الحمراء",
          "حي الحمراء",
          "حي الحمراء",
          "حي الحمراء",
          "حي الحمراء",
          "حي الحمراء",
          "حي الحمراء",
          "حي الحمراء",
          "حي الحمراء",
          "حي الحمراء",
          "حي الحمراء",
          "حي الحمراء",
          "حي الحمراء",
          "حي الحمراء",
          "حي الحمراء",
          "حي الحمراء",
          "حي الحمراء",
          "حي الحمراء",
          "حي الحمراء",
          "حي الحمراء",
          "حي الحمراء",
          "حي الحمراء",
          "حي الحمراء",
          "حي الحمراء",
          "حي الحمراء",
          "حي الحمراء",
          "حي الحمراء",
          "حي الحمراء",
          "حي الحمراء",
          "حي الحمراء",
          "حي الحمراء",
          "حي الحمراء",
          "حي الحمراء",
          "حي الحمراء",
          "حي الحمراء",
          "حي الحمراء",
          "حي الحمراء",
          "حي الحمراء",
          "حي الحمراء",
          "حي الحمراء",
          "حي الحمراء",
          "حي الحمراء",
          "حي الحمراء",
          "حي الحمراء",
          "حي الحمراء",
          "حي الحمراء",
          "حي الحمراء",
          "حي الحمراء",
          "حي الحمراء",
          "حي الحمراء",
          "حي الحمراء",
          "حي الحمراء",
          "حي الحمراء",
          "حي الحمراء",
          "حي الحمراء"
         ],
         "xaxis": "x",
         "y": [
          3.7,
          3.5,
          4,
          3,
          4,
          3.9,
          4.3,
          3.8,
          3.7,
          3.9,
          3.8,
          4.3,
          3.6,
          3.7,
          3.8,
          3.8,
          3.8,
          3.3,
          3.5,
          3.9,
          4.1,
          3.8,
          3.8,
          4.3,
          4.1,
          3.3,
          4.1,
          3.6,
          3.7,
          3.9,
          3.7,
          3.9,
          3.9,
          3.9,
          3.7,
          3.8,
          3.6,
          4.3,
          3.5,
          4,
          4.2,
          3.7,
          3.8,
          4.1,
          4.2,
          3.6,
          3.7,
          3.8,
          3.9,
          3.8,
          3.5,
          4.7,
          3.7,
          4.2,
          4.2,
          3.5,
          3.6,
          3.8,
          3.7,
          3.4,
          3.7,
          3.5,
          4,
          3,
          4,
          3.9,
          4.3,
          3.8,
          3.7,
          3.9,
          3.8,
          4.3,
          3.6,
          3.7,
          3.8,
          3.8,
          3.8,
          3.3,
          3.5,
          3.9,
          4.1,
          3.8,
          3.8,
          4.3,
          4.1,
          3.3,
          4.1,
          3.7,
          3.6,
          3.9,
          3.7,
          3.9,
          3.9,
          3.7,
          3.9,
          3.8,
          3.6,
          4.3,
          3.5,
          4,
          4.2,
          3.7,
          3.8,
          4.1,
          4.2,
          3.6,
          3.7,
          3.8,
          3.9,
          3.5,
          3.8,
          4.7,
          3.7,
          4.2,
          4.2,
          3.6,
          3.5,
          3.8,
          3.7,
          3.8,
          3.7,
          3.5,
          4,
          3,
          4,
          3.9,
          4.3,
          3.8,
          3.7,
          3.9,
          3.8,
          4.3,
          3.6,
          3.7,
          3.8,
          3.8,
          3.8,
          3.3,
          3.5,
          3.9,
          4.1,
          3.8,
          3.8,
          4.3,
          4.1,
          3.3,
          4.1,
          3.7,
          3.6,
          3.9,
          3.7,
          3.9,
          3.9,
          3.7,
          3.9,
          3.8,
          3.6,
          4.3,
          3.5,
          4,
          4.2,
          3.7,
          3.8,
          4.1,
          4.2,
          3.6,
          3.7,
          3.8,
          3.9,
          3.5,
          3.8,
          4.7,
          3.7,
          4.2,
          4.2,
          3.6,
          3.5,
          3.8,
          3.7,
          3.4,
          3.7,
          3.5,
          4,
          3,
          4,
          3.9,
          4.3,
          3.8,
          3.7,
          3.9,
          3.8,
          4.3,
          3.6,
          3.7,
          3.8,
          3.8,
          3.8,
          3.3,
          3.5,
          3.9,
          4.1,
          3.8,
          3.8,
          4.3,
          4.1,
          3.3,
          4.1,
          3.6,
          3.7,
          3.9,
          3.7,
          3.9,
          3.9,
          3.9,
          3.7,
          3.8,
          3.6,
          4.3,
          3.5,
          4,
          4.2,
          3.7,
          3.8,
          4.1,
          4.2,
          3.6,
          3.7,
          3.8,
          3.9,
          3.5,
          3.8,
          4.7,
          3.7,
          4.2,
          4.2,
          3.6,
          3.5,
          3.8,
          3.7,
          3.4,
          3.7,
          3.5,
          4,
          3,
          4,
          3.9,
          4.3,
          3.8,
          3.7,
          3.9,
          3.8,
          4.3,
          3.6,
          3.7,
          3.8,
          3.8,
          3.8,
          3.3,
          3.5,
          3.9,
          4.1,
          3.8,
          3.8,
          4.3,
          4.1,
          3.3,
          4.1,
          3.6,
          3.7,
          3.9,
          3.7,
          3.9,
          3.9,
          3.9,
          3.7,
          3.8,
          3.6,
          4.3,
          3.5,
          4,
          4.2,
          3.7,
          3.8,
          4.1,
          4.2,
          3.6,
          3.7,
          3.8,
          3.9,
          3.8,
          3.5,
          4.7,
          3.7,
          4.2,
          4.2,
          3.5,
          3.6,
          3.8,
          3.7,
          3.4,
          3.7,
          3.5,
          4,
          3,
          4,
          3.9,
          4.3,
          3.8,
          3.7,
          3.9,
          3.8,
          4.3,
          3.6,
          3.7,
          3.8,
          3.8,
          3.8,
          3.3,
          3.5,
          3.9,
          4.1,
          3.8,
          3.8,
          4.3,
          4.1,
          3.3,
          3.7,
          4.1,
          3.6,
          3.9,
          3.7,
          3.9,
          3.7,
          3.9,
          3.9,
          3.8,
          3.6,
          4.3,
          4,
          3.5,
          4.2,
          3.8,
          3.7,
          4.1,
          4.2,
          3.6,
          3.7,
          3.8,
          3.9,
          3.5,
          3.8,
          4.7,
          3.7,
          4.2,
          4.2,
          3.6,
          3.5,
          3.8,
          3.7,
          3.4,
          3.3,
          3.2,
          3.2,
          3,
          4.1,
          3.6,
          4.1,
          4.4,
          5,
          4.6,
          5,
          3.7,
          3.9,
          3.5,
          4.7,
          3,
          5,
          4.7,
          5,
          3.7,
          3.8,
          3.7,
          3.7,
          3.3,
          4,
          3.5,
          3.7,
          4.4,
          3.6,
          4,
          3.3,
          5,
          2.4,
          2.9,
          4.9,
          5,
          5,
          4.1,
          4.1,
          5,
          5,
          4.3,
          4.1,
          5,
          3.4,
          5,
          4.3,
          3.8,
          4.5,
          1.8,
          3,
          4,
          4.2,
          4,
          3.7,
          3.2,
          5,
          4,
          4.6,
          5,
          3.9,
          4.2,
          4,
          4.1,
          4.2,
          4.1,
          4.2,
          3.8,
          3.8,
          5,
          4.4,
          4.5,
          4.4,
          5,
          3.8,
          4.5,
          4.3,
          4.7,
          4.6,
          4.2,
          5,
          4.1,
          4.2,
          3.3,
          4.1,
          4.1,
          3.4,
          4,
          4.3,
          4.1,
          3.9,
          4.1,
          4.3,
          4.1,
          4.3,
          4.5,
          3.8,
          4.1,
          4.7,
          4,
          4.1,
          4.2,
          4.1,
          4.2,
          4.1,
          4,
          4,
          4,
          4.2,
          3.1,
          4.3,
          3.7,
          3.5,
          4,
          3,
          4,
          3.9,
          4.3,
          3.8,
          3.7,
          3.9,
          3.8,
          4.3,
          3.6,
          3.7,
          3.8,
          3.8,
          3.8,
          3.3,
          3.5,
          3.9,
          4.1,
          3.8,
          3.8,
          4.3,
          4.1,
          3.7,
          3.3,
          4.1,
          3.6,
          3.9,
          3.7,
          3.9,
          3.7,
          3.9,
          3.9,
          3.6,
          4.3,
          3.8,
          4,
          3.5,
          3.8,
          3.7,
          4.1,
          4.2,
          4.2,
          3.6,
          3.7,
          3.9,
          3.8,
          3.5,
          3.8,
          4.7,
          3.7,
          4.2,
          3.6,
          4.2,
          3.5,
          3.8,
          3.7,
          3.8,
          3.7,
          3.5,
          4,
          3,
          4,
          3.9,
          4.3,
          3.8,
          3.7,
          3.9,
          3.8,
          4.3,
          3.6,
          3.7,
          3.8,
          3.8,
          3.8,
          3.3,
          3.5,
          3.9,
          4.1,
          3.8,
          3.8,
          4.3,
          4.1,
          3.7,
          4.1,
          3.6,
          3.9,
          3.7,
          3.3,
          3.9,
          3.7,
          3.9,
          3.6,
          3.9,
          4.3,
          4,
          3.5,
          3.8,
          3.8,
          3.7,
          4.1,
          4.2,
          4.2,
          3.6,
          3.7,
          3.9,
          3.8,
          3.5,
          4.7,
          3.8,
          3.7,
          4.2,
          3.6,
          4.2,
          3.8,
          3.5,
          3.7,
          3.8,
          3.7,
          3.5,
          4,
          3,
          4,
          3.9,
          4.3,
          3.8,
          3.7,
          3.9,
          3.8,
          4.3,
          3.6,
          3.7,
          3.8,
          3.8,
          3.8,
          3.3,
          3.5,
          3.9,
          3.8,
          4.1,
          3.8,
          4.3,
          4.1,
          3.7,
          3.7,
          3.9,
          4.1,
          3.7,
          3.6,
          3.9,
          3.9,
          3.3,
          4.3,
          4,
          3.6,
          3.5,
          3.8,
          3.9,
          4.1,
          3.7,
          4.2,
          3.8,
          3.6,
          3.7,
          3.9,
          3.5,
          4.7,
          3.8,
          3.7,
          4.2,
          3.8,
          3.6,
          4.2,
          3.5,
          3.8,
          3.7,
          3.8,
          3.9,
          3.7,
          3.5,
          4,
          3,
          4,
          3.9,
          4.3,
          3.8,
          3.7,
          3.9,
          3.8,
          4.3,
          3.6,
          3.7,
          3.8,
          3.8,
          3.8,
          3.3,
          3.5,
          3.9,
          3.8,
          4.1,
          3.8,
          4.3,
          4.1,
          3.7,
          4.1,
          3.9,
          3.6,
          3.7,
          3.7,
          3.9,
          3.9,
          3.3,
          4.3,
          3.6,
          4,
          3.9,
          3.5,
          3.8,
          3.7,
          4.1,
          3.8,
          4.2,
          3.6,
          4.2,
          3.7,
          3.9,
          3.5,
          4.7,
          3.8,
          3.8,
          3.7,
          4.2,
          3.6,
          3.8,
          3.5,
          4.2,
          3.7,
          3.8,
          3.7,
          3.5,
          4,
          3,
          4,
          3.9,
          4.3,
          3.8,
          3.8,
          3.7,
          3.9,
          4.3,
          3.6,
          3.7,
          3.8,
          3.8,
          3.3,
          3.5,
          3.8,
          3.9,
          3.8,
          3.8,
          4.3,
          3.7,
          4.1,
          3.7,
          3.7,
          3.9,
          4.1,
          3.9,
          3.9,
          4.3,
          4,
          3.8,
          4.1,
          3.5,
          4.2,
          3.7,
          4.1,
          4.7,
          3.6,
          3.7,
          3.6,
          3.5,
          3.9,
          4.2,
          3.6,
          3.8,
          3.9,
          3.8,
          3.9,
          3.7,
          3.5,
          3.7,
          3.3,
          3.8,
          3.7,
          3.8,
          3.7,
          4,
          3.7,
          3.5,
          4,
          3,
          4,
          3.9,
          4.3,
          3.8,
          3.7,
          3.9,
          3.8,
          4.3,
          3.6,
          3.7,
          3.8,
          3.8,
          3.8,
          3.3,
          3.5,
          3.9,
          4.1,
          3.8,
          3.8,
          4.3,
          3.7,
          3.3,
          4.1,
          3.9,
          3.7,
          4.1,
          3.7,
          3.9,
          3.6,
          3.9,
          3.9,
          3.8,
          4.3,
          3.6,
          4,
          3.5,
          3.8,
          4.1,
          3.7,
          4.2,
          4.2,
          3.6,
          3.7,
          3.8,
          3.5,
          3.9,
          3.8,
          4.7,
          3.7,
          3.6,
          3.5,
          4.2,
          3.8,
          3.7,
          3.9,
          4.2,
          3.7,
          3.5,
          4,
          3,
          4,
          3.9,
          4.3,
          3.8,
          3.7,
          3.9,
          3.8,
          4.3,
          3.6,
          3.7,
          3.8,
          3.8,
          3.8,
          3.3,
          3.5,
          3.9,
          3.8,
          4.1,
          3.8,
          4.3,
          3.7,
          4.1,
          3.7,
          3.9,
          3.3,
          3.7,
          3.9,
          3.9,
          4.1,
          3.6,
          4.3,
          3.9,
          4,
          3.6,
          3.5,
          3.8,
          4.1,
          3.8,
          3.7,
          4.2,
          3.6,
          3.7,
          3.5,
          4.7,
          3.8,
          4.2,
          3.9,
          3.7,
          3.8,
          3.6,
          3.5,
          3.8,
          3.9,
          4.2,
          3.7,
          3.8,
          4.2,
          4.2,
          3.2,
          4.7,
          3.8,
          4.1,
          4,
          4.1,
          4.3,
          3.9,
          4.5,
          4.3,
          3.7,
          4.5,
          4.5,
          3.5,
          4.2,
          4.3,
          4.6,
          4.5,
          3.6,
          4.8,
          4.5,
          4.3,
          5,
          4.1,
          4.4,
          4.4,
          3.8,
          4.2,
          4.3,
          4.5,
          4.3,
          4.3,
          4.6,
          4.4,
          4,
          4.3,
          4.6,
          3.9,
          4.7,
          4.2,
          4.1,
          4,
          4.4,
          4.6,
          4.3,
          4.4,
          4.4,
          4.5,
          4.1,
          4.4,
          4.4,
          4.6,
          4.1,
          4.4,
          4.8,
          4.8,
          3.9,
          4.5,
          4.3,
          3.7,
          4.3,
          3.6,
          3.8,
          3.8,
          3.3,
          3.9,
          3.8,
          3.8,
          4.1,
          3.9,
          4.3,
          3.5,
          3.7,
          3.7,
          3.8,
          3.8,
          3.7,
          3.8,
          3.5,
          3.7,
          3.7,
          3.5,
          4,
          3,
          4,
          3.9,
          4.3,
          3.8,
          3.7,
          3.9,
          3.8,
          4.3,
          3.6,
          3.7,
          3.8,
          3.8,
          3.8,
          3.3,
          3.5,
          3.9,
          3.8,
          4.1,
          3.8,
          4.3,
          4.1,
          3.7,
          3.9,
          3.7,
          4.1,
          3.3,
          3.6,
          3.7,
          3.9,
          3.9,
          4.3,
          3.9,
          3.6,
          4,
          3.5,
          3.8,
          3.8,
          4.1,
          3.7,
          4.2,
          3.6,
          4.2,
          3.7,
          3.9,
          3.8,
          3.5,
          4.7,
          3.8,
          3.7,
          4.2,
          3.6,
          3.5,
          3.8,
          3.7,
          4.2,
          3.8,
          3.7,
          3.5,
          4,
          3,
          4,
          3.9,
          4.3,
          3.8,
          3.8,
          3.7,
          3.9,
          4.3,
          3.6,
          3.7,
          3.8,
          3.8,
          3.3,
          3.5,
          3.8,
          3.9,
          3.8,
          3.8,
          4.3,
          3.7,
          3.7,
          3.7,
          4.1,
          3.9,
          3.9,
          3.9,
          4.3,
          4,
          3.8,
          4.1,
          3.5,
          3.7,
          4.1,
          4.2,
          3.6,
          4.7,
          3.7,
          3.6,
          4.1,
          3.9,
          4.2,
          3.5,
          3.8,
          3.9,
          3.6,
          3.5,
          3.8,
          3.7,
          3.9,
          3.7,
          3.8,
          4.2,
          3.7,
          3.8,
          3.7,
          4,
          3.7,
          3.5,
          4,
          3,
          4,
          3.9,
          4.3,
          3.8,
          3.8,
          3.7,
          3.9,
          4.3,
          3.6,
          3.7,
          3.8,
          3.8,
          3.3,
          3.8,
          3.5,
          3.9,
          3.8,
          4.1,
          3.8,
          4.3,
          3.7,
          3.7,
          3.7,
          4.1,
          3.9,
          3.9,
          3.9,
          4.3,
          4,
          3.8,
          4.1,
          3.5,
          4.1,
          3.6,
          3.7,
          4.2,
          3.6,
          4.7,
          3.7,
          3.5,
          3.3,
          3.9,
          3.6,
          3.9,
          4.2,
          3.8,
          3.8,
          3.5,
          3.7,
          3.9,
          3.7,
          4.2,
          3.8,
          3.9,
          3.6,
          3.8,
          3.7,
          3.5,
          4,
          3,
          4,
          3.9,
          4.3,
          3.8,
          3.7,
          3.9,
          3.8,
          4.3,
          3.6,
          3.7,
          3.8,
          3.8,
          3.8,
          3.3,
          3.5,
          3.9,
          4.1,
          3.8,
          3.8,
          4.3,
          3.3,
          3.7,
          3.9,
          4.1,
          3.6,
          3.7,
          3.9,
          4.1,
          3.9,
          3.7,
          3.9,
          3.8,
          3.6,
          4.3,
          3.5,
          4,
          4.2,
          4.1,
          3.8,
          3.7,
          4.2,
          3.6,
          3.7,
          3.8,
          3.8,
          3.5,
          3.9,
          4.7,
          3.7,
          3.4,
          3.9,
          3.8,
          4.2,
          3.5,
          4.2,
          3.7,
          3.7,
          3.5,
          4,
          3,
          4,
          4.3,
          3.9,
          3.8,
          3.7,
          3.9,
          3.8,
          4.3,
          3.6,
          3.7,
          3.8,
          3.8,
          3.8,
          3.3,
          3.5,
          3.9,
          4.1,
          3.8,
          3.8,
          3.3,
          4.3,
          3.9,
          4.1,
          3.9,
          3.7,
          3.6,
          3.9,
          3.8,
          3.9,
          3.7,
          3.7,
          3.6,
          4.3,
          4.2,
          3.5,
          4.1,
          4,
          4.1,
          3.8,
          3.6,
          4.2,
          3.7,
          3.7,
          3.8,
          3.8,
          3.5,
          3.9,
          3.4,
          3.9,
          3.8,
          4.2,
          3.6,
          3.5,
          3.9,
          3.9,
          3.7,
          3.7,
          3.5,
          4,
          3,
          4,
          4.3,
          3.9,
          3.8,
          3.7,
          3.9,
          3.8,
          4.3,
          3.6,
          3.7,
          3.8,
          3.8,
          3.8,
          3.3,
          3.5,
          3.9,
          4.1,
          3.8,
          3.8,
          3.3,
          4.3,
          3.9,
          3.9,
          3.8,
          4.1,
          3.9,
          3.6,
          3.6,
          3.9,
          3.7,
          3.7,
          4.2,
          3.7,
          4.3,
          3.5,
          4,
          4.1,
          3.6,
          3.7,
          4.2,
          3.8,
          3.8,
          3.8,
          3.5,
          3.7,
          3.4,
          3.9,
          4.1,
          3.9,
          3.8,
          3.9,
          3.6,
          3.9,
          4.2,
          4,
          3.8,
          3.7,
          3.5,
          4,
          3,
          4,
          4.3,
          3.9,
          3.8,
          3.7,
          3.9,
          3.8,
          4.3,
          3.6,
          3.7,
          3.8,
          3.8,
          3.8,
          3.3,
          3.5,
          3.9,
          4.1,
          3.8,
          3.8,
          3.3,
          3.9,
          3.8,
          4.3,
          3.6,
          3.9,
          4.2,
          3.9,
          3.9,
          3.7,
          3.7,
          3.6,
          3.7,
          4.1,
          3.5,
          4.3,
          3.7,
          4,
          3.8,
          4.2,
          4.1,
          3.8,
          3.5,
          3.6,
          3.9,
          3.4,
          3.8,
          3.8,
          3.9,
          3.9,
          4,
          3.8,
          3.8,
          3.7,
          3.7,
          3.8,
          3.4,
          3.7,
          3.5,
          4,
          3,
          4,
          4.3,
          3.9,
          3.8,
          3.7,
          3.9,
          3.8,
          4.3,
          3.6,
          3.7,
          3.8,
          3.8,
          3.8,
          3.3,
          3.5,
          3.9,
          4.1,
          3.8,
          3.8,
          3.3,
          4.3,
          3.9,
          4.1,
          3.9,
          3.6,
          3.9,
          3.7,
          3.8,
          3.9,
          3.6,
          3.7,
          3.7,
          4.3,
          4.2,
          3.5,
          4,
          4.1,
          4.1,
          3.6,
          3.7,
          4.2,
          3.8,
          3.7,
          3.8,
          3.8,
          3.5,
          3.9,
          3.4,
          3.9,
          3.8,
          4.2,
          3.6,
          3.9,
          3.9,
          3.5,
          3.7,
          3.8,
          3.8,
          4.2,
          3.7,
          3.5,
          4.6,
          3.5,
          5,
          3.7,
          5,
          3.5,
          3.9,
          3.4,
          2.6,
          3.7,
          4,
          3,
          3.7,
          3.9,
          3.9,
          4.8,
          3.1,
          3.9,
          3.6,
          3,
          4.3,
          4,
          3.6,
          3.6,
          3.8,
          3.7,
          4.6,
          4.2,
          4,
          5,
          3.1,
          4.3,
          3,
          3.5,
          4,
          4,
          2,
          4.6,
          5,
          4.1,
          4.7,
          4.4,
          5,
          5,
          3.8,
          3.5,
          4.7,
          3.7,
          3.1,
          3.7,
          4,
          3,
          3.8,
          3.9,
          3.7,
          3.8,
          3.3,
          3.5,
          3.8,
          3.7,
          3.9,
          4.1,
          3.8,
          3.6,
          3.8,
          4.1,
          4,
          3.3,
          4.3,
          4,
          3.8,
          3.8,
          3.7,
          3.9,
          3.9,
          3.2,
          4.2,
          3.2,
          3.4,
          3.8,
          3.8,
          3.4,
          3.8,
          3.9,
          3.8,
          3.7,
          3.9,
          4,
          3.7,
          3.7,
          4,
          3.9,
          3.9,
          3.4,
          4.4,
          3.6,
          3.6,
          3.6,
          3.9,
          3.7,
          3.8,
          4.1,
          3.7,
          3.9,
          3.8,
          3.9,
          3.8,
          4.1,
          3.8,
          4,
          3.7,
          3.6,
          4,
          3.4,
          3.9,
          5,
          3.8,
          4.1,
          4.2,
          3.6,
          3.7,
          3.9,
          3.7,
          5,
          4.2,
          5,
          4,
          3.8,
          5,
          5,
          4,
          5,
          3,
          5,
          4.2,
          4.3,
          4.2,
          4.4,
          3.8,
          5,
          3.7,
          3.6,
          4,
          5,
          3.9,
          4.3,
          5,
          4.1,
          3.6,
          4.4,
          3.8,
          3.7,
          3.7,
          4.1,
          4.5,
          4.7,
          3.9,
          3.7,
          3.5,
          4,
          3,
          4,
          3.9,
          4.3,
          3.8,
          3.7,
          3.9,
          3.8,
          4.3,
          3.6,
          3.7,
          3.8,
          3.8,
          3.8,
          3.3,
          3.5,
          3.9,
          3.8,
          4.1,
          3.8,
          4.1,
          4.3,
          4.1,
          3.7,
          3.6,
          3.9,
          3.7,
          3.9,
          3.9,
          3.7,
          3.3,
          3.6,
          4.3,
          4,
          3.5,
          3.7,
          3.9,
          3.8,
          4.1,
          4.2,
          4.2,
          3.8,
          3.6,
          3.9,
          3.7,
          3.5,
          4.7,
          3.8,
          3.8,
          3.7,
          4.2,
          4.2,
          3.6,
          3.8,
          3.5,
          3.7,
          3.6,
          3.7,
          3.5,
          4,
          3,
          4,
          3.9,
          4.3,
          3.8,
          3.7,
          3.9,
          3.8,
          4.3,
          3.6,
          3.7,
          3.8,
          3.8,
          3.8,
          3.3,
          3.5,
          3.9,
          3.8,
          4.1,
          3.8,
          4.3,
          4.1,
          4.1,
          3.7,
          3.6,
          3.9,
          3.7,
          3.9,
          3.7,
          3.9,
          3.3,
          3.6,
          4.3,
          3.9,
          4,
          3.5,
          3.7,
          3.8,
          4.1,
          3.8,
          4.2,
          4.2,
          3.6,
          3.7,
          3.9,
          3.5,
          3.8,
          4.7,
          3.8,
          3.7,
          4.2,
          3.6,
          4.2,
          3.8,
          3.5,
          3.7,
          3.8
         ],
         "yaxis": "y"
        }
       ],
       "layout": {
        "barmode": "relative",
        "legend": {
         "tracegroupgap": 0
        },
        "template": {
         "data": {
          "bar": [
           {
            "error_x": {
             "color": "#2a3f5f"
            },
            "error_y": {
             "color": "#2a3f5f"
            },
            "marker": {
             "line": {
              "color": "#E5ECF6",
              "width": 0.5
             },
             "pattern": {
              "fillmode": "overlay",
              "size": 10,
              "solidity": 0.2
             }
            },
            "type": "bar"
           }
          ],
          "barpolar": [
           {
            "marker": {
             "line": {
              "color": "#E5ECF6",
              "width": 0.5
             },
             "pattern": {
              "fillmode": "overlay",
              "size": 10,
              "solidity": 0.2
             }
            },
            "type": "barpolar"
           }
          ],
          "carpet": [
           {
            "aaxis": {
             "endlinecolor": "#2a3f5f",
             "gridcolor": "white",
             "linecolor": "white",
             "minorgridcolor": "white",
             "startlinecolor": "#2a3f5f"
            },
            "baxis": {
             "endlinecolor": "#2a3f5f",
             "gridcolor": "white",
             "linecolor": "white",
             "minorgridcolor": "white",
             "startlinecolor": "#2a3f5f"
            },
            "type": "carpet"
           }
          ],
          "choropleth": [
           {
            "colorbar": {
             "outlinewidth": 0,
             "ticks": ""
            },
            "type": "choropleth"
           }
          ],
          "contour": [
           {
            "colorbar": {
             "outlinewidth": 0,
             "ticks": ""
            },
            "colorscale": [
             [
              0,
              "#0d0887"
             ],
             [
              0.1111111111111111,
              "#46039f"
             ],
             [
              0.2222222222222222,
              "#7201a8"
             ],
             [
              0.3333333333333333,
              "#9c179e"
             ],
             [
              0.4444444444444444,
              "#bd3786"
             ],
             [
              0.5555555555555556,
              "#d8576b"
             ],
             [
              0.6666666666666666,
              "#ed7953"
             ],
             [
              0.7777777777777778,
              "#fb9f3a"
             ],
             [
              0.8888888888888888,
              "#fdca26"
             ],
             [
              1,
              "#f0f921"
             ]
            ],
            "type": "contour"
           }
          ],
          "contourcarpet": [
           {
            "colorbar": {
             "outlinewidth": 0,
             "ticks": ""
            },
            "type": "contourcarpet"
           }
          ],
          "heatmap": [
           {
            "colorbar": {
             "outlinewidth": 0,
             "ticks": ""
            },
            "colorscale": [
             [
              0,
              "#0d0887"
             ],
             [
              0.1111111111111111,
              "#46039f"
             ],
             [
              0.2222222222222222,
              "#7201a8"
             ],
             [
              0.3333333333333333,
              "#9c179e"
             ],
             [
              0.4444444444444444,
              "#bd3786"
             ],
             [
              0.5555555555555556,
              "#d8576b"
             ],
             [
              0.6666666666666666,
              "#ed7953"
             ],
             [
              0.7777777777777778,
              "#fb9f3a"
             ],
             [
              0.8888888888888888,
              "#fdca26"
             ],
             [
              1,
              "#f0f921"
             ]
            ],
            "type": "heatmap"
           }
          ],
          "heatmapgl": [
           {
            "colorbar": {
             "outlinewidth": 0,
             "ticks": ""
            },
            "colorscale": [
             [
              0,
              "#0d0887"
             ],
             [
              0.1111111111111111,
              "#46039f"
             ],
             [
              0.2222222222222222,
              "#7201a8"
             ],
             [
              0.3333333333333333,
              "#9c179e"
             ],
             [
              0.4444444444444444,
              "#bd3786"
             ],
             [
              0.5555555555555556,
              "#d8576b"
             ],
             [
              0.6666666666666666,
              "#ed7953"
             ],
             [
              0.7777777777777778,
              "#fb9f3a"
             ],
             [
              0.8888888888888888,
              "#fdca26"
             ],
             [
              1,
              "#f0f921"
             ]
            ],
            "type": "heatmapgl"
           }
          ],
          "histogram": [
           {
            "marker": {
             "pattern": {
              "fillmode": "overlay",
              "size": 10,
              "solidity": 0.2
             }
            },
            "type": "histogram"
           }
          ],
          "histogram2d": [
           {
            "colorbar": {
             "outlinewidth": 0,
             "ticks": ""
            },
            "colorscale": [
             [
              0,
              "#0d0887"
             ],
             [
              0.1111111111111111,
              "#46039f"
             ],
             [
              0.2222222222222222,
              "#7201a8"
             ],
             [
              0.3333333333333333,
              "#9c179e"
             ],
             [
              0.4444444444444444,
              "#bd3786"
             ],
             [
              0.5555555555555556,
              "#d8576b"
             ],
             [
              0.6666666666666666,
              "#ed7953"
             ],
             [
              0.7777777777777778,
              "#fb9f3a"
             ],
             [
              0.8888888888888888,
              "#fdca26"
             ],
             [
              1,
              "#f0f921"
             ]
            ],
            "type": "histogram2d"
           }
          ],
          "histogram2dcontour": [
           {
            "colorbar": {
             "outlinewidth": 0,
             "ticks": ""
            },
            "colorscale": [
             [
              0,
              "#0d0887"
             ],
             [
              0.1111111111111111,
              "#46039f"
             ],
             [
              0.2222222222222222,
              "#7201a8"
             ],
             [
              0.3333333333333333,
              "#9c179e"
             ],
             [
              0.4444444444444444,
              "#bd3786"
             ],
             [
              0.5555555555555556,
              "#d8576b"
             ],
             [
              0.6666666666666666,
              "#ed7953"
             ],
             [
              0.7777777777777778,
              "#fb9f3a"
             ],
             [
              0.8888888888888888,
              "#fdca26"
             ],
             [
              1,
              "#f0f921"
             ]
            ],
            "type": "histogram2dcontour"
           }
          ],
          "mesh3d": [
           {
            "colorbar": {
             "outlinewidth": 0,
             "ticks": ""
            },
            "type": "mesh3d"
           }
          ],
          "parcoords": [
           {
            "line": {
             "colorbar": {
              "outlinewidth": 0,
              "ticks": ""
             }
            },
            "type": "parcoords"
           }
          ],
          "pie": [
           {
            "automargin": true,
            "type": "pie"
           }
          ],
          "scatter": [
           {
            "fillpattern": {
             "fillmode": "overlay",
             "size": 10,
             "solidity": 0.2
            },
            "type": "scatter"
           }
          ],
          "scatter3d": [
           {
            "line": {
             "colorbar": {
              "outlinewidth": 0,
              "ticks": ""
             }
            },
            "marker": {
             "colorbar": {
              "outlinewidth": 0,
              "ticks": ""
             }
            },
            "type": "scatter3d"
           }
          ],
          "scattercarpet": [
           {
            "marker": {
             "colorbar": {
              "outlinewidth": 0,
              "ticks": ""
             }
            },
            "type": "scattercarpet"
           }
          ],
          "scattergeo": [
           {
            "marker": {
             "colorbar": {
              "outlinewidth": 0,
              "ticks": ""
             }
            },
            "type": "scattergeo"
           }
          ],
          "scattergl": [
           {
            "marker": {
             "colorbar": {
              "outlinewidth": 0,
              "ticks": ""
             }
            },
            "type": "scattergl"
           }
          ],
          "scattermapbox": [
           {
            "marker": {
             "colorbar": {
              "outlinewidth": 0,
              "ticks": ""
             }
            },
            "type": "scattermapbox"
           }
          ],
          "scatterpolar": [
           {
            "marker": {
             "colorbar": {
              "outlinewidth": 0,
              "ticks": ""
             }
            },
            "type": "scatterpolar"
           }
          ],
          "scatterpolargl": [
           {
            "marker": {
             "colorbar": {
              "outlinewidth": 0,
              "ticks": ""
             }
            },
            "type": "scatterpolargl"
           }
          ],
          "scatterternary": [
           {
            "marker": {
             "colorbar": {
              "outlinewidth": 0,
              "ticks": ""
             }
            },
            "type": "scatterternary"
           }
          ],
          "surface": [
           {
            "colorbar": {
             "outlinewidth": 0,
             "ticks": ""
            },
            "colorscale": [
             [
              0,
              "#0d0887"
             ],
             [
              0.1111111111111111,
              "#46039f"
             ],
             [
              0.2222222222222222,
              "#7201a8"
             ],
             [
              0.3333333333333333,
              "#9c179e"
             ],
             [
              0.4444444444444444,
              "#bd3786"
             ],
             [
              0.5555555555555556,
              "#d8576b"
             ],
             [
              0.6666666666666666,
              "#ed7953"
             ],
             [
              0.7777777777777778,
              "#fb9f3a"
             ],
             [
              0.8888888888888888,
              "#fdca26"
             ],
             [
              1,
              "#f0f921"
             ]
            ],
            "type": "surface"
           }
          ],
          "table": [
           {
            "cells": {
             "fill": {
              "color": "#EBF0F8"
             },
             "line": {
              "color": "white"
             }
            },
            "header": {
             "fill": {
              "color": "#C8D4E3"
             },
             "line": {
              "color": "white"
             }
            },
            "type": "table"
           }
          ]
         },
         "layout": {
          "annotationdefaults": {
           "arrowcolor": "#2a3f5f",
           "arrowhead": 0,
           "arrowwidth": 1
          },
          "autotypenumbers": "strict",
          "coloraxis": {
           "colorbar": {
            "outlinewidth": 0,
            "ticks": ""
           }
          },
          "colorscale": {
           "diverging": [
            [
             0,
             "#8e0152"
            ],
            [
             0.1,
             "#c51b7d"
            ],
            [
             0.2,
             "#de77ae"
            ],
            [
             0.3,
             "#f1b6da"
            ],
            [
             0.4,
             "#fde0ef"
            ],
            [
             0.5,
             "#f7f7f7"
            ],
            [
             0.6,
             "#e6f5d0"
            ],
            [
             0.7,
             "#b8e186"
            ],
            [
             0.8,
             "#7fbc41"
            ],
            [
             0.9,
             "#4d9221"
            ],
            [
             1,
             "#276419"
            ]
           ],
           "sequential": [
            [
             0,
             "#0d0887"
            ],
            [
             0.1111111111111111,
             "#46039f"
            ],
            [
             0.2222222222222222,
             "#7201a8"
            ],
            [
             0.3333333333333333,
             "#9c179e"
            ],
            [
             0.4444444444444444,
             "#bd3786"
            ],
            [
             0.5555555555555556,
             "#d8576b"
            ],
            [
             0.6666666666666666,
             "#ed7953"
            ],
            [
             0.7777777777777778,
             "#fb9f3a"
            ],
            [
             0.8888888888888888,
             "#fdca26"
            ],
            [
             1,
             "#f0f921"
            ]
           ],
           "sequentialminus": [
            [
             0,
             "#0d0887"
            ],
            [
             0.1111111111111111,
             "#46039f"
            ],
            [
             0.2222222222222222,
             "#7201a8"
            ],
            [
             0.3333333333333333,
             "#9c179e"
            ],
            [
             0.4444444444444444,
             "#bd3786"
            ],
            [
             0.5555555555555556,
             "#d8576b"
            ],
            [
             0.6666666666666666,
             "#ed7953"
            ],
            [
             0.7777777777777778,
             "#fb9f3a"
            ],
            [
             0.8888888888888888,
             "#fdca26"
            ],
            [
             1,
             "#f0f921"
            ]
           ]
          },
          "colorway": [
           "#636efa",
           "#EF553B",
           "#00cc96",
           "#ab63fa",
           "#FFA15A",
           "#19d3f3",
           "#FF6692",
           "#B6E880",
           "#FF97FF",
           "#FECB52"
          ],
          "font": {
           "color": "#2a3f5f"
          },
          "geo": {
           "bgcolor": "white",
           "lakecolor": "white",
           "landcolor": "#E5ECF6",
           "showlakes": true,
           "showland": true,
           "subunitcolor": "white"
          },
          "hoverlabel": {
           "align": "left"
          },
          "hovermode": "closest",
          "mapbox": {
           "style": "light"
          },
          "paper_bgcolor": "white",
          "plot_bgcolor": "#E5ECF6",
          "polar": {
           "angularaxis": {
            "gridcolor": "white",
            "linecolor": "white",
            "ticks": ""
           },
           "bgcolor": "#E5ECF6",
           "radialaxis": {
            "gridcolor": "white",
            "linecolor": "white",
            "ticks": ""
           }
          },
          "scene": {
           "xaxis": {
            "backgroundcolor": "#E5ECF6",
            "gridcolor": "white",
            "gridwidth": 2,
            "linecolor": "white",
            "showbackground": true,
            "ticks": "",
            "zerolinecolor": "white"
           },
           "yaxis": {
            "backgroundcolor": "#E5ECF6",
            "gridcolor": "white",
            "gridwidth": 2,
            "linecolor": "white",
            "showbackground": true,
            "ticks": "",
            "zerolinecolor": "white"
           },
           "zaxis": {
            "backgroundcolor": "#E5ECF6",
            "gridcolor": "white",
            "gridwidth": 2,
            "linecolor": "white",
            "showbackground": true,
            "ticks": "",
            "zerolinecolor": "white"
           }
          },
          "shapedefaults": {
           "line": {
            "color": "#2a3f5f"
           }
          },
          "ternary": {
           "aaxis": {
            "gridcolor": "white",
            "linecolor": "white",
            "ticks": ""
           },
           "baxis": {
            "gridcolor": "white",
            "linecolor": "white",
            "ticks": ""
           },
           "bgcolor": "#E5ECF6",
           "caxis": {
            "gridcolor": "white",
            "linecolor": "white",
            "ticks": ""
           }
          },
          "title": {
           "x": 0.05
          },
          "xaxis": {
           "automargin": true,
           "gridcolor": "white",
           "linecolor": "white",
           "ticks": "",
           "title": {
            "standoff": 15
           },
           "zerolinecolor": "white",
           "zerolinewidth": 2
          },
          "yaxis": {
           "automargin": true,
           "gridcolor": "white",
           "linecolor": "white",
           "ticks": "",
           "title": {
            "standoff": 15
           },
           "zerolinecolor": "white",
           "zerolinewidth": 2
          }
         }
        },
        "title": {
         "text": "Neighborhood Rating"
        },
        "xaxis": {
         "anchor": "y",
         "domain": [
          0,
          1
         ],
         "title": {
          "text": "neighborhood"
         }
        },
        "yaxis": {
         "anchor": "x",
         "domain": [
          0,
          1
         ],
         "title": {
          "text": "Rating"
         }
        }
       }
      }
     },
     "metadata": {},
     "output_type": "display_data"
    }
   ],
   "source": [
    "import plotly.express as px\n",
    "import pandas as pd\n",
    "\n",
    "# Create bar chart\n",
    "fig = px.bar(df, x='neighborhood', y='Rating', title=\"Neighborhood Rating\")\n",
    "\n",
    "# Customize layout\n",
    "fig.update_xaxes(title_text=\"neighborhood\")\n",
    "fig.update_yaxes(title_text=\"Rating\")  # Set y-axis range from 0 to 5\n",
    "\n",
    "# Show chart\n",
    "fig.show()"
   ]
  },
  {
   "cell_type": "code",
   "execution_count": 45,
   "id": "bc3453e5",
   "metadata": {},
   "outputs": [
    {
     "data": {
      "image/png": "[encoded data removed]",
      "text/plain": [
       "<Figure size 1000x600 with 1 Axes>"
      ]
     },
     "metadata": {},
     "output_type": "display_data"
    }
   ],
   "source": [
    "import matplotlib.pyplot as plt\n",
    "import seaborn as sns\n",
    "\n",
    "plt.figure(figsize=(10, 6))\n",
    "sns.histplot(df2['Rating'], bins=20, kde=True)\n",
    "plt.title('Distribution of Ratings')\n",
    "plt.xlabel('Rating')\n",
    "plt.ylabel('Frequency')\n",
    "plt.show()\n"
   ]
  },
  {
   "cell_type": "code",
   "execution_count": 46,
   "id": "d2056fa1",
   "metadata": {},
   "outputs": [
    {
     "data": {
      "image/png": "[encoded data removed]",
      "text/plain": [
       "<Figure size 1000x600 with 1 Axes>"
      ]
     },
     "metadata": {},
     "output_type": "display_data"
    }
   ],
   "source": [
    "plt.figure(figsize=(10, 6))\n",
    "sns.scatterplot(x='Number of Ratings', y='Rating', data=df2)\n",
    "plt.title('Ratings vs. Number of Ratings')\n",
    "plt.xlabel('Number of Ratings')\n",
    "plt.ylabel('Rating')\n",
    "plt.show()\n"
   ]
  },
  {
   "cell_type": "code",
   "execution_count": 47,
   "id": "ee918c5b",
   "metadata": {},
   "outputs": [
    {
     "data": {
      "application/vnd.plotly.v1+json": {
       "config": {
        "plotlyServerURL": "https://plot.ly"
       },
       "data": [
        {
         "alignmentgroup": "True",
         "hovertemplate": "Average Rating=%{x}<br>Type=%{y}<extra></extra>",
         "legendgroup": "",
         "marker": {
          "color": "#636efa",
          "pattern": {
           "shape": ""
          }
         },
         "name": "",
         "offsetgroup": "",
         "orientation": "h",
         "showlegend": false,
         "textposition": "auto",
         "type": "bar",
         "x": [
          4.2,
          3.802045633359559,
          3.8324600638977637,
          4.1,
          4.1,
          4,
          3.8959999999999995,
          3.8683544303797466,
          4.2,
          3.826446837146703,
          3.9756756756756757,
          4,
          4.224242424242425,
          4.295999999999999,
          3.7,
          4.1,
          4.1,
          4.138297872340425,
          3.827480916030534,
          3.9,
          3.8156272401433693,
          4,
          5
         ],
         "xaxis": "x",
         "y": [
          " bar",
          " establishment",
          " food",
          " grocery_or_supermarket",
          " health",
          " lodging",
          " meal_delivery",
          " meal_takeaway",
          " night_club",
          " point_of_interest",
          " restaurant",
          " spa",
          " store",
          "bakery",
          "cafe",
          "grocery_or_supermarket",
          "health",
          "lodging",
          "meal_delivery",
          "meal_takeaway",
          "restaurant",
          "spa",
          "store"
         ],
         "yaxis": "y"
        }
       ],
       "layout": {
        "barmode": "relative",
        "legend": {
         "tracegroupgap": 0
        },
        "template": {
         "data": {
          "bar": [
           {
            "error_x": {
             "color": "#2a3f5f"
            },
            "error_y": {
             "color": "#2a3f5f"
            },
            "marker": {
             "line": {
              "color": "white",
              "width": 0.5
             },
             "pattern": {
              "fillmode": "overlay",
              "size": 10,
              "solidity": 0.2
             }
            },
            "type": "bar"
           }
          ],
          "barpolar": [
           {
            "marker": {
             "line": {
              "color": "white",
              "width": 0.5
             },
             "pattern": {
              "fillmode": "overlay",
              "size": 10,
              "solidity": 0.2
             }
            },
            "type": "barpolar"
           }
          ],
          "carpet": [
           {
            "aaxis": {
             "endlinecolor": "#2a3f5f",
             "gridcolor": "#C8D4E3",
             "linecolor": "#C8D4E3",
             "minorgridcolor": "#C8D4E3",
             "startlinecolor": "#2a3f5f"
            },
            "baxis": {
             "endlinecolor": "#2a3f5f",
             "gridcolor": "#C8D4E3",
             "linecolor": "#C8D4E3",
             "minorgridcolor": "#C8D4E3",
             "startlinecolor": "#2a3f5f"
            },
            "type": "carpet"
           }
          ],
          "choropleth": [
           {
            "colorbar": {
             "outlinewidth": 0,
             "ticks": ""
            },
            "type": "choropleth"
           }
          ],
          "contour": [
           {
            "colorbar": {
             "outlinewidth": 0,
             "ticks": ""
            },
            "colorscale": [
             [
              0,
              "#0d0887"
             ],
             [
              0.1111111111111111,
              "#46039f"
             ],
             [
              0.2222222222222222,
              "#7201a8"
             ],
             [
              0.3333333333333333,
              "#9c179e"
             ],
             [
              0.4444444444444444,
              "#bd3786"
             ],
             [
              0.5555555555555556,
              "#d8576b"
             ],
             [
              0.6666666666666666,
              "#ed7953"
             ],
             [
              0.7777777777777778,
              "#fb9f3a"
             ],
             [
              0.8888888888888888,
              "#fdca26"
             ],
             [
              1,
              "#f0f921"
             ]
            ],
            "type": "contour"
           }
          ],
          "contourcarpet": [
           {
            "colorbar": {
             "outlinewidth": 0,
             "ticks": ""
            },
            "type": "contourcarpet"
           }
          ],
          "heatmap": [
           {
            "colorbar": {
             "outlinewidth": 0,
             "ticks": ""
            },
            "colorscale": [
             [
              0,
              "#0d0887"
             ],
             [
              0.1111111111111111,
              "#46039f"
             ],
             [
              0.2222222222222222,
              "#7201a8"
             ],
             [
              0.3333333333333333,
              "#9c179e"
             ],
             [
              0.4444444444444444,
              "#bd3786"
             ],
             [
              0.5555555555555556,
              "#d8576b"
             ],
             [
              0.6666666666666666,
              "#ed7953"
             ],
             [
              0.7777777777777778,
              "#fb9f3a"
             ],
             [
              0.8888888888888888,
              "#fdca26"
             ],
             [
              1,
              "#f0f921"
             ]
            ],
            "type": "heatmap"
           }
          ],
          "heatmapgl": [
           {
            "colorbar": {
             "outlinewidth": 0,
             "ticks": ""
            },
            "colorscale": [
             [
              0,
              "#0d0887"
             ],
             [
              0.1111111111111111,
              "#46039f"
             ],
             [
              0.2222222222222222,
              "#7201a8"
             ],
             [
              0.3333333333333333,
              "#9c179e"
             ],
             [
              0.4444444444444444,
              "#bd3786"
             ],
             [
              0.5555555555555556,
              "#d8576b"
             ],
             [
              0.6666666666666666,
              "#ed7953"
             ],
             [
              0.7777777777777778,
              "#fb9f3a"
             ],
             [
              0.8888888888888888,
              "#fdca26"
             ],
             [
              1,
              "#f0f921"
             ]
            ],
            "type": "heatmapgl"
           }
          ],
          "histogram": [
           {
            "marker": {
             "pattern": {
              "fillmode": "overlay",
              "size": 10,
              "solidity": 0.2
             }
            },
            "type": "histogram"
           }
          ],
          "histogram2d": [
           {
            "colorbar": {
             "outlinewidth": 0,
             "ticks": ""
            },
            "colorscale": [
             [
              0,
              "#0d0887"
             ],
             [
              0.1111111111111111,
              "#46039f"
             ],
             [
              0.2222222222222222,
              "#7201a8"
             ],
             [
              0.3333333333333333,
              "#9c179e"
             ],
             [
              0.4444444444444444,
              "#bd3786"
             ],
             [
              0.5555555555555556,
              "#d8576b"
             ],
             [
              0.6666666666666666,
              "#ed7953"
             ],
             [
              0.7777777777777778,
              "#fb9f3a"
             ],
             [
              0.8888888888888888,
              "#fdca26"
             ],
             [
              1,
              "#f0f921"
             ]
            ],
            "type": "histogram2d"
           }
          ],
          "histogram2dcontour": [
           {
            "colorbar": {
             "outlinewidth": 0,
             "ticks": ""
            },
            "colorscale": [
             [
              0,
              "#0d0887"
             ],
             [
              0.1111111111111111,
              "#46039f"
             ],
             [
              0.2222222222222222,
              "#7201a8"
             ],
             [
              0.3333333333333333,
              "#9c179e"
             ],
             [
              0.4444444444444444,
              "#bd3786"
             ],
             [
              0.5555555555555556,
              "#d8576b"
             ],
             [
              0.6666666666666666,
              "#ed7953"
             ],
             [
              0.7777777777777778,
              "#fb9f3a"
             ],
             [
              0.8888888888888888,
              "#fdca26"
             ],
             [
              1,
              "#f0f921"
             ]
            ],
            "type": "histogram2dcontour"
           }
          ],
          "mesh3d": [
           {
            "colorbar": {
             "outlinewidth": 0,
             "ticks": ""
            },
            "type": "mesh3d"
           }
          ],
          "parcoords": [
           {
            "line": {
             "colorbar": {
              "outlinewidth": 0,
              "ticks": ""
             }
            },
            "type": "parcoords"
           }
          ],
          "pie": [
           {
            "automargin": true,
            "type": "pie"
           }
          ],
          "scatter": [
           {
            "fillpattern": {
             "fillmode": "overlay",
             "size": 10,
             "solidity": 0.2
            },
            "type": "scatter"
           }
          ],
          "scatter3d": [
           {
            "line": {
             "colorbar": {
              "outlinewidth": 0,
              "ticks": ""
             }
            },
            "marker": {
             "colorbar": {
              "outlinewidth": 0,
              "ticks": ""
             }
            },
            "type": "scatter3d"
           }
          ],
          "scattercarpet": [
           {
            "marker": {
             "colorbar": {
              "outlinewidth": 0,
              "ticks": ""
             }
            },
            "type": "scattercarpet"
           }
          ],
          "scattergeo": [
           {
            "marker": {
             "colorbar": {
              "outlinewidth": 0,
              "ticks": ""
             }
            },
            "type": "scattergeo"
           }
          ],
          "scattergl": [
           {
            "marker": {
             "colorbar": {
              "outlinewidth": 0,
              "ticks": ""
             }
            },
            "type": "scattergl"
           }
          ],
          "scattermapbox": [
           {
            "marker": {
             "colorbar": {
              "outlinewidth": 0,
              "ticks": ""
             }
            },
            "type": "scattermapbox"
           }
          ],
          "scatterpolar": [
           {
            "marker": {
             "colorbar": {
              "outlinewidth": 0,
              "ticks": ""
             }
            },
            "type": "scatterpolar"
           }
          ],
          "scatterpolargl": [
           {
            "marker": {
             "colorbar": {
              "outlinewidth": 0,
              "ticks": ""
             }
            },
            "type": "scatterpolargl"
           }
          ],
          "scatterternary": [
           {
            "marker": {
             "colorbar": {
              "outlinewidth": 0,
              "ticks": ""
             }
            },
            "type": "scatterternary"
           }
          ],
          "surface": [
           {
            "colorbar": {
             "outlinewidth": 0,
             "ticks": ""
            },
            "colorscale": [
             [
              0,
              "#0d0887"
             ],
             [
              0.1111111111111111,
              "#46039f"
             ],
             [
              0.2222222222222222,
              "#7201a8"
             ],
             [
              0.3333333333333333,
              "#9c179e"
             ],
             [
              0.4444444444444444,
              "#bd3786"
             ],
             [
              0.5555555555555556,
              "#d8576b"
             ],
             [
              0.6666666666666666,
              "#ed7953"
             ],
             [
              0.7777777777777778,
              "#fb9f3a"
             ],
             [
              0.8888888888888888,
              "#fdca26"
             ],
             [
              1,
              "#f0f921"
             ]
            ],
            "type": "surface"
           }
          ],
          "table": [
           {
            "cells": {
             "fill": {
              "color": "#EBF0F8"
             },
             "line": {
              "color": "white"
             }
            },
            "header": {
             "fill": {
              "color": "#C8D4E3"
             },
             "line": {
              "color": "white"
             }
            },
            "type": "table"
           }
          ]
         },
         "layout": {
          "annotationdefaults": {
           "arrowcolor": "#2a3f5f",
           "arrowhead": 0,
           "arrowwidth": 1
          },
          "autotypenumbers": "strict",
          "coloraxis": {
           "colorbar": {
            "outlinewidth": 0,
            "ticks": ""
           }
          },
          "colorscale": {
           "diverging": [
            [
             0,
             "#8e0152"
            ],
            [
             0.1,
             "#c51b7d"
            ],
            [
             0.2,
             "#de77ae"
            ],
            [
             0.3,
             "#f1b6da"
            ],
            [
             0.4,
             "#fde0ef"
            ],
            [
             0.5,
             "#f7f7f7"
            ],
            [
             0.6,
             "#e6f5d0"
            ],
            [
             0.7,
             "#b8e186"
            ],
            [
             0.8,
             "#7fbc41"
            ],
            [
             0.9,
             "#4d9221"
            ],
            [
             1,
             "#276419"
            ]
           ],
           "sequential": [
            [
             0,
             "#0d0887"
            ],
            [
             0.1111111111111111,
             "#46039f"
            ],
            [
             0.2222222222222222,
             "#7201a8"
            ],
            [
             0.3333333333333333,
             "#9c179e"
            ],
            [
             0.4444444444444444,
             "#bd3786"
            ],
            [
             0.5555555555555556,
             "#d8576b"
            ],
            [
             0.6666666666666666,
             "#ed7953"
            ],
            [
             0.7777777777777778,
             "#fb9f3a"
            ],
            [
             0.8888888888888888,
             "#fdca26"
            ],
            [
             1,
             "#f0f921"
            ]
           ],
           "sequentialminus": [
            [
             0,
             "#0d0887"
            ],
            [
             0.1111111111111111,
             "#46039f"
            ],
            [
             0.2222222222222222,
             "#7201a8"
            ],
            [
             0.3333333333333333,
             "#9c179e"
            ],
            [
             0.4444444444444444,
             "#bd3786"
            ],
            [
             0.5555555555555556,
             "#d8576b"
            ],
            [
             0.6666666666666666,
             "#ed7953"
            ],
            [
             0.7777777777777778,
             "#fb9f3a"
            ],
            [
             0.8888888888888888,
             "#fdca26"
            ],
            [
             1,
             "#f0f921"
            ]
           ]
          },
          "colorway": [
           "#636efa",
           "#EF553B",
           "#00cc96",
           "#ab63fa",
           "#FFA15A",
           "#19d3f3",
           "#FF6692",
           "#B6E880",
           "#FF97FF",
           "#FECB52"
          ],
          "font": {
           "color": "#2a3f5f"
          },
          "geo": {
           "bgcolor": "white",
           "lakecolor": "white",
           "landcolor": "white",
           "showlakes": true,
           "showland": true,
           "subunitcolor": "#C8D4E3"
          },
          "hoverlabel": {
           "align": "left"
          },
          "hovermode": "closest",
          "mapbox": {
           "style": "light"
          },
          "paper_bgcolor": "white",
          "plot_bgcolor": "white",
          "polar": {
           "angularaxis": {
            "gridcolor": "#EBF0F8",
            "linecolor": "#EBF0F8",
            "ticks": ""
           },
           "bgcolor": "white",
           "radialaxis": {
            "gridcolor": "#EBF0F8",
            "linecolor": "#EBF0F8",
            "ticks": ""
           }
          },
          "scene": {
           "xaxis": {
            "backgroundcolor": "white",
            "gridcolor": "#DFE8F3",
            "gridwidth": 2,
            "linecolor": "#EBF0F8",
            "showbackground": true,
            "ticks": "",
            "zerolinecolor": "#EBF0F8"
           },
           "yaxis": {
            "backgroundcolor": "white",
            "gridcolor": "#DFE8F3",
            "gridwidth": 2,
            "linecolor": "#EBF0F8",
            "showbackground": true,
            "ticks": "",
            "zerolinecolor": "#EBF0F8"
           },
           "zaxis": {
            "backgroundcolor": "white",
            "gridcolor": "#DFE8F3",
            "gridwidth": 2,
            "linecolor": "#EBF0F8",
            "showbackground": true,
            "ticks": "",
            "zerolinecolor": "#EBF0F8"
           }
          },
          "shapedefaults": {
           "line": {
            "color": "#2a3f5f"
           }
          },
          "ternary": {
           "aaxis": {
            "gridcolor": "#DFE8F3",
            "linecolor": "#A2B1C6",
            "ticks": ""
           },
           "baxis": {
            "gridcolor": "#DFE8F3",
            "linecolor": "#A2B1C6",
            "ticks": ""
           },
           "bgcolor": "white",
           "caxis": {
            "gridcolor": "#DFE8F3",
            "linecolor": "#A2B1C6",
            "ticks": ""
           }
          },
          "title": {
           "x": 0.05
          },
          "xaxis": {
           "automargin": true,
           "gridcolor": "#EBF0F8",
           "linecolor": "#EBF0F8",
           "ticks": "",
           "title": {
            "standoff": 15
           },
           "zerolinecolor": "#EBF0F8",
           "zerolinewidth": 2
          },
          "yaxis": {
           "automargin": true,
           "gridcolor": "#EBF0F8",
           "linecolor": "#EBF0F8",
           "ticks": "",
           "title": {
            "standoff": 15
           },
           "zerolinecolor": "#EBF0F8",
           "zerolinewidth": 2
          }
         }
        },
        "title": {
         "text": "Average Rating by Type"
        },
        "xaxis": {
         "anchor": "y",
         "domain": [
          0,
          1
         ],
         "title": {
          "text": "Average Rating"
         }
        },
        "yaxis": {
         "anchor": "x",
         "domain": [
          0,
          1
         ],
         "title": {
          "text": "Type"
         }
        }
       }
      }
     },
     "metadata": {},
     "output_type": "display_data"
    }
   ],
   "source": [
    "import plotly.express as px\n",
    "import pandas as pd\n",
    "\n",
    "# Assuming df2 is already your DataFrame\n",
    "\n",
    "# Melt the DataFrame to have a long-form DataFrame for easier plotting\n",
    "types_melted = df2.melt(id_vars=['Name', 'Rating', 'Number of Ratings', 'Longitude', 'Latitude', 'neighborhood'],\n",
    "                        value_vars=['Type_1', 'Type_2', 'Type_3', 'Type_4'],\n",
    "                        var_name='Type_Category', value_name='Type')\n",
    "\n",
    "# Group by 'Type' and calculate the average rating\n",
    "avg_rating_by_type = types_melted.groupby('Type')['Rating'].mean().reset_index()\n",
    "\n",
    "# Create the interactive bar plot\n",
    "fig = px.bar(avg_rating_by_type, x='Rating', y='Type', orientation='h',\n",
    "             title='Average Rating by Type',\n",
    "             labels={'Rating': 'Average Rating', 'Type': 'Type'},\n",
    "             template='plotly_white')\n",
    "\n",
    "fig.show()\n"
   ]
  },
  {
   "cell_type": "code",
   "execution_count": 64,
   "id": "284df21b",
   "metadata": {},
   "outputs": [
    {
     "data": {
      "application/vnd.plotly.v1+json": {
       "config": {
        "plotlyServerURL": "https://plot.ly"
       },
       "data": [
        {
         "alignmentgroup": "True",
         "hovertemplate": "Count=%{x}<br>Type=%{y}<extra></extra>",
         "legendgroup": "",
         "marker": {
          "color": "#636efa",
          "pattern": {
           "shape": ""
          }
         },
         "name": "",
         "offsetgroup": "",
         "orientation": "h",
         "showlegend": false,
         "textposition": "auto",
         "type": "bar",
         "x": [
          23,
          23,
          24,
          24,
          25,
          33,
          47,
          100,
          131,
          158,
          260,
          1296,
          1420,
          1512,
          1591
         ],
         "xaxis": "x",
         "y": [
          " lodging",
          "spa",
          " bar",
          " night_club",
          "bakery",
          " store",
          "lodging",
          " meal_delivery",
          "meal_delivery",
          " meal_takeaway",
          " restaurant",
          " establishment",
          "restaurant",
          " point_of_interest",
          " food"
         ],
         "yaxis": "y"
        }
       ],
       "layout": {
        "annotations": [
         {
          "font": {
           "color": "black",
           "size": 15
          },
          "showarrow": false,
          "text": "23",
          "x": 25,
          "xshift": 20,
          "y": " lodging"
         },
         {
          "font": {
           "color": "black",
           "size": 15
          },
          "showarrow": false,
          "text": "23",
          "x": 25,
          "xshift": 20,
          "y": "spa"
         },
         {
          "font": {
           "color": "black",
           "size": 15
          },
          "showarrow": false,
          "text": "24",
          "x": 26,
          "xshift": 20,
          "y": " bar"
         },
         {
          "font": {
           "color": "black",
           "size": 15
          },
          "showarrow": false,
          "text": "24",
          "x": 26,
          "xshift": 20,
          "y": " night_club"
         },
         {
          "font": {
           "color": "black",
           "size": 15
          },
          "showarrow": false,
          "text": "25",
          "x": 27,
          "xshift": 20,
          "y": "bakery"
         },
         {
          "font": {
           "color": "black",
           "size": 15
          },
          "showarrow": false,
          "text": "33",
          "x": 35,
          "xshift": 20,
          "y": " store"
         },
         {
          "font": {
           "color": "black",
           "size": 15
          },
          "showarrow": false,
          "text": "47",
          "x": 49,
          "xshift": 20,
          "y": "lodging"
         },
         {
          "font": {
           "color": "black",
           "size": 15
          },
          "showarrow": false,
          "text": "100",
          "x": 102,
          "xshift": 20,
          "y": " meal_delivery"
         },
         {
          "font": {
           "color": "black",
           "size": 15
          },
          "showarrow": false,
          "text": "131",
          "x": 133,
          "xshift": 20,
          "y": "meal_delivery"
         },
         {
          "font": {
           "color": "black",
           "size": 15
          },
          "showarrow": false,
          "text": "158",
          "x": 160,
          "xshift": 20,
          "y": " meal_takeaway"
         },
         {
          "font": {
           "color": "black",
           "size": 15
          },
          "showarrow": false,
          "text": "260",
          "x": 262,
          "xshift": 20,
          "y": " restaurant"
         },
         {
          "font": {
           "color": "black",
           "size": 15
          },
          "showarrow": false,
          "text": "1296",
          "x": 1298,
          "xshift": 20,
          "y": " establishment"
         },
         {
          "font": {
           "color": "black",
           "size": 15
          },
          "showarrow": false,
          "text": "1420",
          "x": 1422,
          "xshift": 20,
          "y": "restaurant"
         },
         {
          "font": {
           "color": "black",
           "size": 15
          },
          "showarrow": false,
          "text": "1512",
          "x": 1514,
          "xshift": 20,
          "y": " point_of_interest"
         },
         {
          "font": {
           "color": "black",
           "size": 15
          },
          "showarrow": false,
          "text": "1591",
          "x": 1593,
          "xshift": 20,
          "y": " food"
         }
        ],
        "barmode": "relative",
        "height": 900,
        "legend": {
         "tracegroupgap": 0
        },
        "template": {
         "data": {
          "bar": [
           {
            "error_x": {
             "color": "#2a3f5f"
            },
            "error_y": {
             "color": "#2a3f5f"
            },
            "marker": {
             "line": {
              "color": "#E5ECF6",
              "width": 0.5
             },
             "pattern": {
              "fillmode": "overlay",
              "size": 10,
              "solidity": 0.2
             }
            },
            "type": "bar"
           }
          ],
          "barpolar": [
           {
            "marker": {
             "line": {
              "color": "#E5ECF6",
              "width": 0.5
             },
             "pattern": {
              "fillmode": "overlay",
              "size": 10,
              "solidity": 0.2
             }
            },
            "type": "barpolar"
           }
          ],
          "carpet": [
           {
            "aaxis": {
             "endlinecolor": "#2a3f5f",
             "gridcolor": "white",
             "linecolor": "white",
             "minorgridcolor": "white",
             "startlinecolor": "#2a3f5f"
            },
            "baxis": {
             "endlinecolor": "#2a3f5f",
             "gridcolor": "white",
             "linecolor": "white",
             "minorgridcolor": "white",
             "startlinecolor": "#2a3f5f"
            },
            "type": "carpet"
           }
          ],
          "choropleth": [
           {
            "colorbar": {
             "outlinewidth": 0,
             "ticks": ""
            },
            "type": "choropleth"
           }
          ],
          "contour": [
           {
            "colorbar": {
             "outlinewidth": 0,
             "ticks": ""
            },
            "colorscale": [
             [
              0,
              "#0d0887"
             ],
             [
              0.1111111111111111,
              "#46039f"
             ],
             [
              0.2222222222222222,
              "#7201a8"
             ],
             [
              0.3333333333333333,
              "#9c179e"
             ],
             [
              0.4444444444444444,
              "#bd3786"
             ],
             [
              0.5555555555555556,
              "#d8576b"
             ],
             [
              0.6666666666666666,
              "#ed7953"
             ],
             [
              0.7777777777777778,
              "#fb9f3a"
             ],
             [
              0.8888888888888888,
              "#fdca26"
             ],
             [
              1,
              "#f0f921"
             ]
            ],
            "type": "contour"
           }
          ],
          "contourcarpet": [
           {
            "colorbar": {
             "outlinewidth": 0,
             "ticks": ""
            },
            "type": "contourcarpet"
           }
          ],
          "heatmap": [
           {
            "colorbar": {
             "outlinewidth": 0,
             "ticks": ""
            },
            "colorscale": [
             [
              0,
              "#0d0887"
             ],
             [
              0.1111111111111111,
              "#46039f"
             ],
             [
              0.2222222222222222,
              "#7201a8"
             ],
             [
              0.3333333333333333,
              "#9c179e"
             ],
             [
              0.4444444444444444,
              "#bd3786"
             ],
             [
              0.5555555555555556,
              "#d8576b"
             ],
             [
              0.6666666666666666,
              "#ed7953"
             ],
             [
              0.7777777777777778,
              "#fb9f3a"
             ],
             [
              0.8888888888888888,
              "#fdca26"
             ],
             [
              1,
              "#f0f921"
             ]
            ],
            "type": "heatmap"
           }
          ],
          "heatmapgl": [
           {
            "colorbar": {
             "outlinewidth": 0,
             "ticks": ""
            },
            "colorscale": [
             [
              0,
              "#0d0887"
             ],
             [
              0.1111111111111111,
              "#46039f"
             ],
             [
              0.2222222222222222,
              "#7201a8"
             ],
             [
              0.3333333333333333,
              "#9c179e"
             ],
             [
              0.4444444444444444,
              "#bd3786"
             ],
             [
              0.5555555555555556,
              "#d8576b"
             ],
             [
              0.6666666666666666,
              "#ed7953"
             ],
             [
              0.7777777777777778,
              "#fb9f3a"
             ],
             [
              0.8888888888888888,
              "#fdca26"
             ],
             [
              1,
              "#f0f921"
             ]
            ],
            "type": "heatmapgl"
           }
          ],
          "histogram": [
           {
            "marker": {
             "pattern": {
              "fillmode": "overlay",
              "size": 10,
              "solidity": 0.2
             }
            },
            "type": "histogram"
           }
          ],
          "histogram2d": [
           {
            "colorbar": {
             "outlinewidth": 0,
             "ticks": ""
            },
            "colorscale": [
             [
              0,
              "#0d0887"
             ],
             [
              0.1111111111111111,
              "#46039f"
             ],
             [
              0.2222222222222222,
              "#7201a8"
             ],
             [
              0.3333333333333333,
              "#9c179e"
             ],
             [
              0.4444444444444444,
              "#bd3786"
             ],
             [
              0.5555555555555556,
              "#d8576b"
             ],
             [
              0.6666666666666666,
              "#ed7953"
             ],
             [
              0.7777777777777778,
              "#fb9f3a"
             ],
             [
              0.8888888888888888,
              "#fdca26"
             ],
             [
              1,
              "#f0f921"
             ]
            ],
            "type": "histogram2d"
           }
          ],
          "histogram2dcontour": [
           {
            "colorbar": {
             "outlinewidth": 0,
             "ticks": ""
            },
            "colorscale": [
             [
              0,
              "#0d0887"
             ],
             [
              0.1111111111111111,
              "#46039f"
             ],
             [
              0.2222222222222222,
              "#7201a8"
             ],
             [
              0.3333333333333333,
              "#9c179e"
             ],
             [
              0.4444444444444444,
              "#bd3786"
             ],
             [
              0.5555555555555556,
              "#d8576b"
             ],
             [
              0.6666666666666666,
              "#ed7953"
             ],
             [
              0.7777777777777778,
              "#fb9f3a"
             ],
             [
              0.8888888888888888,
              "#fdca26"
             ],
             [
              1,
              "#f0f921"
             ]
            ],
            "type": "histogram2dcontour"
           }
          ],
          "mesh3d": [
           {
            "colorbar": {
             "outlinewidth": 0,
             "ticks": ""
            },
            "type": "mesh3d"
           }
          ],
          "parcoords": [
           {
            "line": {
             "colorbar": {
              "outlinewidth": 0,
              "ticks": ""
             }
            },
            "type": "parcoords"
           }
          ],
          "pie": [
           {
            "automargin": true,
            "type": "pie"
           }
          ],
          "scatter": [
           {
            "fillpattern": {
             "fillmode": "overlay",
             "size": 10,
             "solidity": 0.2
            },
            "type": "scatter"
           }
          ],
          "scatter3d": [
           {
            "line": {
             "colorbar": {
              "outlinewidth": 0,
              "ticks": ""
             }
            },
            "marker": {
             "colorbar": {
              "outlinewidth": 0,
              "ticks": ""
             }
            },
            "type": "scatter3d"
           }
          ],
          "scattercarpet": [
           {
            "marker": {
             "colorbar": {
              "outlinewidth": 0,
              "ticks": ""
             }
            },
            "type": "scattercarpet"
           }
          ],
          "scattergeo": [
           {
            "marker": {
             "colorbar": {
              "outlinewidth": 0,
              "ticks": ""
             }
            },
            "type": "scattergeo"
           }
          ],
          "scattergl": [
           {
            "marker": {
             "colorbar": {
              "outlinewidth": 0,
              "ticks": ""
             }
            },
            "type": "scattergl"
           }
          ],
          "scattermapbox": [
           {
            "marker": {
             "colorbar": {
              "outlinewidth": 0,
              "ticks": ""
             }
            },
            "type": "scattermapbox"
           }
          ],
          "scatterpolar": [
           {
            "marker": {
             "colorbar": {
              "outlinewidth": 0,
              "ticks": ""
             }
            },
            "type": "scatterpolar"
           }
          ],
          "scatterpolargl": [
           {
            "marker": {
             "colorbar": {
              "outlinewidth": 0,
              "ticks": ""
             }
            },
            "type": "scatterpolargl"
           }
          ],
          "scatterternary": [
           {
            "marker": {
             "colorbar": {
              "outlinewidth": 0,
              "ticks": ""
             }
            },
            "type": "scatterternary"
           }
          ],
          "surface": [
           {
            "colorbar": {
             "outlinewidth": 0,
             "ticks": ""
            },
            "colorscale": [
             [
              0,
              "#0d0887"
             ],
             [
              0.1111111111111111,
              "#46039f"
             ],
             [
              0.2222222222222222,
              "#7201a8"
             ],
             [
              0.3333333333333333,
              "#9c179e"
             ],
             [
              0.4444444444444444,
              "#bd3786"
             ],
             [
              0.5555555555555556,
              "#d8576b"
             ],
             [
              0.6666666666666666,
              "#ed7953"
             ],
             [
              0.7777777777777778,
              "#fb9f3a"
             ],
             [
              0.8888888888888888,
              "#fdca26"
             ],
             [
              1,
              "#f0f921"
             ]
            ],
            "type": "surface"
           }
          ],
          "table": [
           {
            "cells": {
             "fill": {
              "color": "#EBF0F8"
             },
             "line": {
              "color": "white"
             }
            },
            "header": {
             "fill": {
              "color": "#C8D4E3"
             },
             "line": {
              "color": "white"
             }
            },
            "type": "table"
           }
          ]
         },
         "layout": {
          "annotationdefaults": {
           "arrowcolor": "#2a3f5f",
           "arrowhead": 0,
           "arrowwidth": 1
          },
          "autotypenumbers": "strict",
          "coloraxis": {
           "colorbar": {
            "outlinewidth": 0,
            "ticks": ""
           }
          },
          "colorscale": {
           "diverging": [
            [
             0,
             "#8e0152"
            ],
            [
             0.1,
             "#c51b7d"
            ],
            [
             0.2,
             "#de77ae"
            ],
            [
             0.3,
             "#f1b6da"
            ],
            [
             0.4,
             "#fde0ef"
            ],
            [
             0.5,
             "#f7f7f7"
            ],
            [
             0.6,
             "#e6f5d0"
            ],
            [
             0.7,
             "#b8e186"
            ],
            [
             0.8,
             "#7fbc41"
            ],
            [
             0.9,
             "#4d9221"
            ],
            [
             1,
             "#276419"
            ]
           ],
           "sequential": [
            [
             0,
             "#0d0887"
            ],
            [
             0.1111111111111111,
             "#46039f"
            ],
            [
             0.2222222222222222,
             "#7201a8"
            ],
            [
             0.3333333333333333,
             "#9c179e"
            ],
            [
             0.4444444444444444,
             "#bd3786"
            ],
            [
             0.5555555555555556,
             "#d8576b"
            ],
            [
             0.6666666666666666,
             "#ed7953"
            ],
            [
             0.7777777777777778,
             "#fb9f3a"
            ],
            [
             0.8888888888888888,
             "#fdca26"
            ],
            [
             1,
             "#f0f921"
            ]
           ],
           "sequentialminus": [
            [
             0,
             "#0d0887"
            ],
            [
             0.1111111111111111,
             "#46039f"
            ],
            [
             0.2222222222222222,
             "#7201a8"
            ],
            [
             0.3333333333333333,
             "#9c179e"
            ],
            [
             0.4444444444444444,
             "#bd3786"
            ],
            [
             0.5555555555555556,
             "#d8576b"
            ],
            [
             0.6666666666666666,
             "#ed7953"
            ],
            [
             0.7777777777777778,
             "#fb9f3a"
            ],
            [
             0.8888888888888888,
             "#fdca26"
            ],
            [
             1,
             "#f0f921"
            ]
           ]
          },
          "colorway": [
           "#636efa",
           "#EF553B",
           "#00cc96",
           "#ab63fa",
           "#FFA15A",
           "#19d3f3",
           "#FF6692",
           "#B6E880",
           "#FF97FF",
           "#FECB52"
          ],
          "font": {
           "color": "#2a3f5f"
          },
          "geo": {
           "bgcolor": "white",
           "lakecolor": "white",
           "landcolor": "#E5ECF6",
           "showlakes": true,
           "showland": true,
           "subunitcolor": "white"
          },
          "hoverlabel": {
           "align": "left"
          },
          "hovermode": "closest",
          "mapbox": {
           "style": "light"
          },
          "paper_bgcolor": "white",
          "plot_bgcolor": "#E5ECF6",
          "polar": {
           "angularaxis": {
            "gridcolor": "white",
            "linecolor": "white",
            "ticks": ""
           },
           "bgcolor": "#E5ECF6",
           "radialaxis": {
            "gridcolor": "white",
            "linecolor": "white",
            "ticks": ""
           }
          },
          "scene": {
           "xaxis": {
            "backgroundcolor": "#E5ECF6",
            "gridcolor": "white",
            "gridwidth": 2,
            "linecolor": "white",
            "showbackground": true,
            "ticks": "",
            "zerolinecolor": "white"
           },
           "yaxis": {
            "backgroundcolor": "#E5ECF6",
            "gridcolor": "white",
            "gridwidth": 2,
            "linecolor": "white",
            "showbackground": true,
            "ticks": "",
            "zerolinecolor": "white"
           },
           "zaxis": {
            "backgroundcolor": "#E5ECF6",
            "gridcolor": "white",
            "gridwidth": 2,
            "linecolor": "white",
            "showbackground": true,
            "ticks": "",
            "zerolinecolor": "white"
           }
          },
          "shapedefaults": {
           "line": {
            "color": "#2a3f5f"
           }
          },
          "ternary": {
           "aaxis": {
            "gridcolor": "white",
            "linecolor": "white",
            "ticks": ""
           },
           "baxis": {
            "gridcolor": "white",
            "linecolor": "white",
            "ticks": ""
           },
           "bgcolor": "#E5ECF6",
           "caxis": {
            "gridcolor": "white",
            "linecolor": "white",
            "ticks": ""
           }
          },
          "title": {
           "x": 0.05
          },
          "xaxis": {
           "automargin": true,
           "gridcolor": "white",
           "linecolor": "white",
           "ticks": "",
           "title": {
            "standoff": 15
           },
           "zerolinecolor": "white",
           "zerolinewidth": 2
          },
          "yaxis": {
           "automargin": true,
           "gridcolor": "white",
           "linecolor": "white",
           "ticks": "",
           "title": {
            "standoff": 15
           },
           "zerolinecolor": "white",
           "zerolinewidth": 2
          }
         }
        },
        "title": {
         "text": "Count of Each Type"
        },
        "width": 1200,
        "xaxis": {
         "anchor": "y",
         "domain": [
          0,
          1
         ],
         "title": {
          "text": "Count"
         }
        },
        "yaxis": {
         "anchor": "x",
         "domain": [
          0,
          1
         ],
         "title": {
          "text": "Type"
         }
        }
       }
      }
     },
     "metadata": {},
     "output_type": "display_data"
    }
   ],
   "source": [
    "# import plotly.express as px\n",
    "# import pandas as pd\n",
    "\n",
    "# # Calculate type counts\n",
    "# type_counts = types_melted['Type'].value_counts().reset_index()\n",
    "# type_counts.columns = ['Type', 'Count']\n",
    "\n",
    "# # Filter type_counts to include only types with counts >= 20\n",
    "# type_counts_filtered = type_counts[type_counts['Count'] >= 20]\n",
    "\n",
    "# # Sort type_counts_filtered in descending order based on count\n",
    "# type_counts_filtered = type_counts_filtered.sort_values(by='Count', ascending=True)\n",
    "\n",
    "# Create the bar plot\n",
    "fig = px.bar(type_counts_filtered, x='Count', y='Type', orientation='h', \n",
    "             title='Count of Each Type', labels={'Count': 'Count', 'Type': 'Type'},\n",
    "             width=1200, height=900)\n",
    "\n",
    "# Add count values to the bars\n",
    "for i in range(len(type_counts_filtered)):\n",
    "    fig.add_annotation(x=type_counts_filtered['Count'].iloc[i] + 2,  # Adjust the position of the annotation\n",
    "                       y=type_counts_filtered['Type'].iloc[i],\n",
    "                       text=str(type_counts_filtered['Count'].iloc[i]),\n",
    "                       showarrow=False,\n",
    "                       font=dict(size=15, color='black'),\n",
    "                       xshift=20)  # Adjust the horizontal position of the annotation text\n",
    "\n",
    "# Show the plot\n",
    "fig.show()\n"
   ]
  },
  {
   "cell_type": "code",
   "execution_count": 49,
   "id": "40ec7f5b",
   "metadata": {},
   "outputs": [
    {
     "name": "stderr",
     "output_type": "stream",
     "text": [
      "C:\\Users\\AbuS3uD\\AppData\\Local\\Temp\\ipykernel_9396\\2409000868.py:6: FutureWarning:\n",
      "\n",
      "A value is trying to be set on a copy of a DataFrame or Series through chained assignment using an inplace method.\n",
      "The behavior will change in pandas 3.0. This inplace method will never work because the intermediate object on which we are setting values always behaves as a copy.\n",
      "\n",
      "For example, when doing 'df[col].method(value, inplace=True)', try using 'df.method({col: value}, inplace=True)' or df[col] = df[col].method(value) instead, to perform the operation inplace on the original object.\n",
      "\n",
      "\n",
      "\n"
     ]
    },
    {
     "data": {
      "application/vnd.plotly.v1+json": {
       "config": {
        "plotlyServerURL": "https://plot.ly"
       },
       "data": [
        {
         "customdata": [
          [
           3.7,
           1336,
           "حي الملز"
          ],
          [
           3.5,
           2755,
           "حي الملز"
          ],
          [
           4,
           423,
           "حي الملز"
          ],
          [
           3,
           27,
           "حي الملز"
          ],
          [
           4,
           1721,
           "حي الملز"
          ],
          [
           3.9,
           11310,
           "حي الملز"
          ],
          [
           4.3,
           10550,
           "حي الملز"
          ],
          [
           3.8,
           8468,
           "حي الملز"
          ],
          [
           3.7,
           2198,
           "حي الملز"
          ],
          [
           3.9,
           2735,
           "حي الملز"
          ],
          [
           3.8,
           589,
           "حي الملز"
          ],
          [
           4.3,
           23691,
           "حي الملز"
          ],
          [
           3.6,
           1707,
           "حي الملز"
          ],
          [
           3.7,
           1331,
           "حي الملز"
          ],
          [
           3.8,
           1803,
           "حي الملز"
          ],
          [
           3.8,
           639,
           "حي الملز"
          ],
          [
           3.8,
           994,
           "حي الملز"
          ],
          [
           3.3,
           827,
           "حي الملز"
          ],
          [
           3.5,
           975,
           "حي الملز"
          ],
          [
           3.9,
           1944,
           "حي الملز"
          ],
          [
           4.1,
           11464,
           "حي الملز"
          ],
          [
           3.8,
           6168,
           "حي الملز"
          ],
          [
           3.8,
           1376,
           "حي الملز"
          ],
          [
           4.3,
           1543,
           "حي الملز"
          ],
          [
           4.1,
           8499,
           "حي الملز"
          ],
          [
           3.3,
           1007,
           "حي الملز"
          ],
          [
           4.1,
           74,
           "حي الملز"
          ],
          [
           3.6,
           1452,
           "حي الملز"
          ],
          [
           3.7,
           380,
           "حي الملز"
          ],
          [
           3.9,
           2399,
           "حي الملز"
          ],
          [
           3.7,
           649,
           "حي الملز"
          ],
          [
           3.9,
           4618,
           "حي الملز"
          ],
          [
           3.9,
           790,
           "حي الملز"
          ],
          [
           3.9,
           719,
           "حي الملز"
          ],
          [
           3.7,
           681,
           "حي الملز"
          ],
          [
           3.8,
           1294,
           "حي الملز"
          ],
          [
           3.6,
           1311,
           "حي الملز"
          ],
          [
           4.3,
           7203,
           "حي الملز"
          ],
          [
           3.5,
           2022,
           "حي الملز"
          ],
          [
           4,
           1024,
           "حي الملز"
          ],
          [
           4.2,
           9584,
           "حي الملز"
          ],
          [
           3.7,
           452,
           "حي الملز"
          ],
          [
           3.8,
           896,
           "حي الملز"
          ],
          [
           4.1,
           1057,
           "حي الملز"
          ],
          [
           4.2,
           4534,
           "حي الملز"
          ],
          [
           3.6,
           4796,
           "حي الملز"
          ],
          [
           3.7,
           2042,
           "حي الملز"
          ],
          [
           3.8,
           341,
           "حي الملز"
          ],
          [
           3.9,
           3568,
           "حي الملز"
          ],
          [
           3.8,
           1219,
           "حي الملز"
          ],
          [
           3.5,
           746,
           "حي الملز"
          ],
          [
           4.7,
           5105,
           "حي الملز"
          ],
          [
           3.7,
           1210,
           "حي الملز"
          ],
          [
           4.2,
           8154,
           "حي الملز"
          ],
          [
           4.2,
           9460,
           "حي الملز"
          ],
          [
           3.5,
           1825,
           "حي الملز"
          ],
          [
           3.6,
           872,
           "حي الملز"
          ],
          [
           3.8,
           1081,
           "حي الملز"
          ],
          [
           3.7,
           1370,
           "حي الملز"
          ],
          [
           3.4,
           1705,
           "حي الملز"
          ],
          [
           3.7,
           1336,
           "حي الربوة"
          ],
          [
           3.5,
           2755,
           "حي الربوة"
          ],
          [
           4,
           423,
           "حي الربوة"
          ],
          [
           3,
           27,
           "حي الربوة"
          ],
          [
           4,
           1721,
           "حي الربوة"
          ],
          [
           3.9,
           11310,
           "حي الربوة"
          ],
          [
           4.3,
           10550,
           "حي الربوة"
          ],
          [
           3.8,
           8468,
           "حي الربوة"
          ],
          [
           3.7,
           2198,
           "حي الربوة"
          ],
          [
           3.9,
           2735,
           "حي الربوة"
          ],
          [
           3.8,
           589,
           "حي الربوة"
          ],
          [
           4.3,
           23691,
           "حي الربوة"
          ],
          [
           3.6,
           1707,
           "حي الربوة"
          ],
          [
           3.7,
           1331,
           "حي الربوة"
          ],
          [
           3.8,
           1803,
           "حي الربوة"
          ],
          [
           3.8,
           639,
           "حي الربوة"
          ],
          [
           3.8,
           994,
           "حي الربوة"
          ],
          [
           3.3,
           827,
           "حي الربوة"
          ],
          [
           3.5,
           975,
           "حي الربوة"
          ],
          [
           3.9,
           1944,
           "حي الربوة"
          ],
          [
           4.1,
           11464,
           "حي الربوة"
          ],
          [
           3.8,
           6168,
           "حي الربوة"
          ],
          [
           3.8,
           1376,
           "حي الربوة"
          ],
          [
           4.3,
           1543,
           "حي الربوة"
          ],
          [
           4.1,
           8499,
           "حي الربوة"
          ],
          [
           3.3,
           1007,
           "حي الربوة"
          ],
          [
           4.1,
           74,
           "حي الربوة"
          ],
          [
           3.7,
           380,
           "حي الربوة"
          ],
          [
           3.6,
           1452,
           "حي الربوة"
          ],
          [
           3.9,
           2399,
           "حي الربوة"
          ],
          [
           3.7,
           649,
           "حي الربوة"
          ],
          [
           3.9,
           4618,
           "حي الربوة"
          ],
          [
           3.9,
           719,
           "حي الربوة"
          ],
          [
           3.7,
           681,
           "حي الربوة"
          ],
          [
           3.9,
           790,
           "حي الربوة"
          ],
          [
           3.8,
           1294,
           "حي الربوة"
          ],
          [
           3.6,
           1311,
           "حي الربوة"
          ],
          [
           4.3,
           7203,
           "حي الربوة"
          ],
          [
           3.5,
           2022,
           "حي الربوة"
          ],
          [
           4,
           1024,
           "حي الربوة"
          ],
          [
           4.2,
           9584,
           "حي الربوة"
          ],
          [
           3.7,
           452,
           "حي الربوة"
          ],
          [
           3.8,
           896,
           "حي الربوة"
          ],
          [
           4.1,
           1057,
           "حي الربوة"
          ],
          [
           4.2,
           4534,
           "حي الربوة"
          ],
          [
           3.6,
           4796,
           "حي الربوة"
          ],
          [
           3.7,
           2042,
           "حي الربوة"
          ],
          [
           3.8,
           341,
           "حي الربوة"
          ],
          [
           3.9,
           3568,
           "حي الربوة"
          ],
          [
           3.5,
           746,
           "حي الربوة"
          ],
          [
           3.8,
           1219,
           "حي الربوة"
          ],
          [
           4.7,
           5105,
           "حي الربوة"
          ],
          [
           3.7,
           1210,
           "حي الربوة"
          ],
          [
           4.2,
           8154,
           "حي الربوة"
          ],
          [
           4.2,
           9460,
           "حي الربوة"
          ],
          [
           3.6,
           872,
           "حي الربوة"
          ],
          [
           3.5,
           1825,
           "حي الربوة"
          ],
          [
           3.8,
           1081,
           "حي الربوة"
          ],
          [
           3.7,
           1370,
           "حي الربوة"
          ],
          [
           3.8,
           2246,
           "حي الربوة"
          ],
          [
           3.7,
           1336,
           "حي الوزارات"
          ],
          [
           3.5,
           2755,
           "حي الوزارات"
          ],
          [
           4,
           423,
           "حي الوزارات"
          ],
          [
           3,
           27,
           "حي الوزارات"
          ],
          [
           4,
           1721,
           "حي الوزارات"
          ],
          [
           3.9,
           11310,
           "حي الوزارات"
          ],
          [
           4.3,
           10550,
           "حي الوزارات"
          ],
          [
           3.8,
           8468,
           "حي الوزارات"
          ],
          [
           3.7,
           2198,
           "حي الوزارات"
          ],
          [
           3.9,
           2735,
           "حي الوزارات"
          ],
          [
           3.8,
           589,
           "حي الوزارات"
          ],
          [
           4.3,
           23691,
           "حي الوزارات"
          ],
          [
           3.6,
           1707,
           "حي الوزارات"
          ],
          [
           3.7,
           1331,
           "حي الوزارات"
          ],
          [
           3.8,
           1803,
           "حي الوزارات"
          ],
          [
           3.8,
           639,
           "حي الوزارات"
          ],
          [
           3.8,
           994,
           "حي الوزارات"
          ],
          [
           3.3,
           827,
           "حي الوزارات"
          ],
          [
           3.5,
           975,
           "حي الوزارات"
          ],
          [
           3.9,
           1944,
           "حي الوزارات"
          ],
          [
           4.1,
           11464,
           "حي الوزارات"
          ],
          [
           3.8,
           6168,
           "حي الوزارات"
          ],
          [
           3.8,
           1376,
           "حي الوزارات"
          ],
          [
           4.3,
           1543,
           "حي الوزارات"
          ],
          [
           4.1,
           8499,
           "حي الوزارات"
          ],
          [
           3.3,
           1007,
           "حي الوزارات"
          ],
          [
           4.1,
           74,
           "حي الوزارات"
          ],
          [
           3.7,
           380,
           "حي الوزارات"
          ],
          [
           3.6,
           1452,
           "حي الوزارات"
          ],
          [
           3.9,
           2399,
           "حي الوزارات"
          ],
          [
           3.7,
           649,
           "حي الوزارات"
          ],
          [
           3.9,
           4618,
           "حي الوزارات"
          ],
          [
           3.9,
           790,
           "حي الوزارات"
          ],
          [
           3.7,
           681,
           "حي الوزارات"
          ],
          [
           3.9,
           719,
           "حي الوزارات"
          ],
          [
           3.8,
           1294,
           "حي الوزارات"
          ],
          [
           3.6,
           1311,
           "حي الوزارات"
          ],
          [
           4.3,
           7203,
           "حي الوزارات"
          ],
          [
           3.5,
           2022,
           "حي الوزارات"
          ],
          [
           4,
           1024,
           "حي الوزارات"
          ],
          [
           4.2,
           9584,
           "حي الوزارات"
          ],
          [
           3.7,
           452,
           "حي الوزارات"
          ],
          [
           3.8,
           896,
           "حي الوزارات"
          ],
          [
           4.1,
           1057,
           "حي الوزارات"
          ],
          [
           4.2,
           4534,
           "حي الوزارات"
          ],
          [
           3.6,
           4796,
           "حي الوزارات"
          ],
          [
           3.7,
           2042,
           "حي الوزارات"
          ],
          [
           3.8,
           341,
           "حي الوزارات"
          ],
          [
           3.9,
           3568,
           "حي الوزارات"
          ],
          [
           3.5,
           746,
           "حي الوزارات"
          ],
          [
           3.8,
           1219,
           "حي الوزارات"
          ],
          [
           4.7,
           5105,
           "حي الوزارات"
          ],
          [
           3.7,
           1210,
           "حي الوزارات"
          ],
          [
           4.2,
           8154,
           "حي الوزارات"
          ],
          [
           4.2,
           9460,
           "حي الوزارات"
          ],
          [
           3.6,
           872,
           "حي الوزارات"
          ],
          [
           3.5,
           1825,
           "حي الوزارات"
          ],
          [
           3.8,
           1081,
           "حي الوزارات"
          ],
          [
           3.7,
           1370,
           "حي الوزارات"
          ],
          [
           3.4,
           1705,
           "حي الوزارات"
          ],
          [
           3.7,
           1336,
           "حي جرير"
          ],
          [
           3.5,
           2755,
           "حي جرير"
          ],
          [
           4,
           423,
           "حي جرير"
          ],
          [
           3,
           27,
           "حي جرير"
          ],
          [
           4,
           1721,
           "حي جرير"
          ],
          [
           3.9,
           11310,
           "حي جرير"
          ],
          [
           4.3,
           10550,
           "حي جرير"
          ],
          [
           3.8,
           8468,
           "حي جرير"
          ],
          [
           3.7,
           2198,
           "حي جرير"
          ],
          [
           3.9,
           2735,
           "حي جرير"
          ],
          [
           3.8,
           589,
           "حي جرير"
          ],
          [
           4.3,
           23691,
           "حي جرير"
          ],
          [
           3.6,
           1707,
           "حي جرير"
          ],
          [
           3.7,
           1331,
           "حي جرير"
          ],
          [
           3.8,
           1803,
           "حي جرير"
          ],
          [
           3.8,
           639,
           "حي جرير"
          ],
          [
           3.8,
           994,
           "حي جرير"
          ],
          [
           3.3,
           827,
           "حي جرير"
          ],
          [
           3.5,
           975,
           "حي جرير"
          ],
          [
           3.9,
           1944,
           "حي جرير"
          ],
          [
           4.1,
           11464,
           "حي جرير"
          ],
          [
           3.8,
           6168,
           "حي جرير"
          ],
          [
           3.8,
           1376,
           "حي جرير"
          ],
          [
           4.3,
           1543,
           "حي جرير"
          ],
          [
           4.1,
           8499,
           "حي جرير"
          ],
          [
           3.3,
           1007,
           "حي جرير"
          ],
          [
           4.1,
           74,
           "حي جرير"
          ],
          [
           3.6,
           1452,
           "حي جرير"
          ],
          [
           3.7,
           380,
           "حي جرير"
          ],
          [
           3.9,
           2399,
           "حي جرير"
          ],
          [
           3.7,
           649,
           "حي جرير"
          ],
          [
           3.9,
           4618,
           "حي جرير"
          ],
          [
           3.9,
           790,
           "حي جرير"
          ],
          [
           3.9,
           719,
           "حي جرير"
          ],
          [
           3.7,
           681,
           "حي جرير"
          ],
          [
           3.8,
           1294,
           "حي جرير"
          ],
          [
           3.6,
           1311,
           "حي جرير"
          ],
          [
           4.3,
           7203,
           "حي جرير"
          ],
          [
           3.5,
           2022,
           "حي جرير"
          ],
          [
           4,
           1024,
           "حي جرير"
          ],
          [
           4.2,
           9584,
           "حي جرير"
          ],
          [
           3.7,
           452,
           "حي جرير"
          ],
          [
           3.8,
           896,
           "حي جرير"
          ],
          [
           4.1,
           1057,
           "حي جرير"
          ],
          [
           4.2,
           4534,
           "حي جرير"
          ],
          [
           3.6,
           4796,
           "حي جرير"
          ],
          [
           3.7,
           2042,
           "حي جرير"
          ],
          [
           3.8,
           341,
           "حي جرير"
          ],
          [
           3.9,
           3568,
           "حي جرير"
          ],
          [
           3.5,
           746,
           "حي جرير"
          ],
          [
           3.8,
           1219,
           "حي جرير"
          ],
          [
           4.7,
           5105,
           "حي جرير"
          ],
          [
           3.7,
           1210,
           "حي جرير"
          ],
          [
           4.2,
           8154,
           "حي جرير"
          ],
          [
           4.2,
           9460,
           "حي جرير"
          ],
          [
           3.6,
           872,
           "حي جرير"
          ],
          [
           3.5,
           1825,
           "حي جرير"
          ],
          [
           3.8,
           1081,
           "حي جرير"
          ],
          [
           3.7,
           1370,
           "حي جرير"
          ],
          [
           3.4,
           1705,
           "حي جرير"
          ],
          [
           3.7,
           1336,
           "حي الصفا"
          ],
          [
           3.5,
           2755,
           "حي الصفا"
          ],
          [
           4,
           423,
           "حي الصفا"
          ],
          [
           3,
           27,
           "حي الصفا"
          ],
          [
           4,
           1721,
           "حي الصفا"
          ],
          [
           3.9,
           11310,
           "حي الصفا"
          ],
          [
           4.3,
           10550,
           "حي الصفا"
          ],
          [
           3.8,
           8468,
           "حي الصفا"
          ],
          [
           3.7,
           2198,
           "حي الصفا"
          ],
          [
           3.9,
           2735,
           "حي الصفا"
          ],
          [
           3.8,
           589,
           "حي الصفا"
          ],
          [
           4.3,
           23691,
           "حي الصفا"
          ],
          [
           3.6,
           1707,
           "حي الصفا"
          ],
          [
           3.7,
           1331,
           "حي الصفا"
          ],
          [
           3.8,
           1803,
           "حي الصفا"
          ],
          [
           3.8,
           639,
           "حي الصفا"
          ],
          [
           3.8,
           994,
           "حي الصفا"
          ],
          [
           3.3,
           827,
           "حي الصفا"
          ],
          [
           3.5,
           975,
           "حي الصفا"
          ],
          [
           3.9,
           1944,
           "حي الصفا"
          ],
          [
           4.1,
           11464,
           "حي الصفا"
          ],
          [
           3.8,
           6168,
           "حي الصفا"
          ],
          [
           3.8,
           1376,
           "حي الصفا"
          ],
          [
           4.3,
           1543,
           "حي الصفا"
          ],
          [
           4.1,
           8499,
           "حي الصفا"
          ],
          [
           3.3,
           1007,
           "حي الصفا"
          ],
          [
           4.1,
           74,
           "حي الصفا"
          ],
          [
           3.6,
           1452,
           "حي الصفا"
          ],
          [
           3.7,
           380,
           "حي الصفا"
          ],
          [
           3.9,
           2399,
           "حي الصفا"
          ],
          [
           3.7,
           649,
           "حي الصفا"
          ],
          [
           3.9,
           4618,
           "حي الصفا"
          ],
          [
           3.9,
           790,
           "حي الصفا"
          ],
          [
           3.9,
           719,
           "حي الصفا"
          ],
          [
           3.7,
           681,
           "حي الصفا"
          ],
          [
           3.8,
           1294,
           "حي الصفا"
          ],
          [
           3.6,
           1311,
           "حي الصفا"
          ],
          [
           4.3,
           7203,
           "حي الصفا"
          ],
          [
           3.5,
           2022,
           "حي الصفا"
          ],
          [
           4,
           1024,
           "حي الصفا"
          ],
          [
           4.2,
           9584,
           "حي الصفا"
          ],
          [
           3.7,
           452,
           "حي الصفا"
          ],
          [
           3.8,
           896,
           "حي الصفا"
          ],
          [
           4.1,
           1057,
           "حي الصفا"
          ],
          [
           4.2,
           4534,
           "حي الصفا"
          ],
          [
           3.6,
           4796,
           "حي الصفا"
          ],
          [
           3.7,
           2042,
           "حي الصفا"
          ],
          [
           3.8,
           341,
           "حي الصفا"
          ],
          [
           3.9,
           3568,
           "حي الصفا"
          ],
          [
           3.8,
           1219,
           "حي الصفا"
          ],
          [
           3.5,
           746,
           "حي الصفا"
          ],
          [
           4.7,
           5105,
           "حي الصفا"
          ],
          [
           3.7,
           1210,
           "حي الصفا"
          ],
          [
           4.2,
           8154,
           "حي الصفا"
          ],
          [
           4.2,
           9460,
           "حي الصفا"
          ],
          [
           3.5,
           1825,
           "حي الصفا"
          ],
          [
           3.6,
           872,
           "حي الصفا"
          ],
          [
           3.8,
           1081,
           "حي الصفا"
          ],
          [
           3.7,
           1370,
           "حي الصفا"
          ],
          [
           3.4,
           1705,
           "حي الصفا"
          ],
          [
           3.7,
           1336,
           "حي العليا"
          ],
          [
           3.5,
           2755,
           "حي العليا"
          ],
          [
           4,
           423,
           "حي العليا"
          ],
          [
           3,
           27,
           "حي العليا"
          ],
          [
           4,
           1721,
           "حي العليا"
          ],
          [
           3.9,
           11310,
           "حي العليا"
          ],
          [
           4.3,
           10550,
           "حي العليا"
          ],
          [
           3.8,
           8468,
           "حي العليا"
          ],
          [
           3.7,
           2198,
           "حي العليا"
          ],
          [
           3.9,
           2735,
           "حي العليا"
          ],
          [
           3.8,
           589,
           "حي العليا"
          ],
          [
           4.3,
           23691,
           "حي العليا"
          ],
          [
           3.6,
           1707,
           "حي العليا"
          ],
          [
           3.7,
           1331,
           "حي العليا"
          ],
          [
           3.8,
           1803,
           "حي العليا"
          ],
          [
           3.8,
           639,
           "حي العليا"
          ],
          [
           3.8,
           994,
           "حي العليا"
          ],
          [
           3.3,
           827,
           "حي العليا"
          ],
          [
           3.5,
           975,
           "حي العليا"
          ],
          [
           3.9,
           1944,
           "حي العليا"
          ],
          [
           4.1,
           11464,
           "حي العليا"
          ],
          [
           3.8,
           6168,
           "حي العليا"
          ],
          [
           3.8,
           1376,
           "حي العليا"
          ],
          [
           4.3,
           1543,
           "حي العليا"
          ],
          [
           4.1,
           8499,
           "حي العليا"
          ],
          [
           3.3,
           1007,
           "حي العليا"
          ],
          [
           3.7,
           380,
           "حي العليا"
          ],
          [
           4.1,
           74,
           "حي العليا"
          ],
          [
           3.6,
           1452,
           "حي العليا"
          ],
          [
           3.9,
           2399,
           "حي العليا"
          ],
          [
           3.7,
           649,
           "حي العليا"
          ],
          [
           3.9,
           4618,
           "حي العليا"
          ],
          [
           3.7,
           681,
           "حي العليا"
          ],
          [
           3.9,
           790,
           "حي العليا"
          ],
          [
           3.9,
           719,
           "حي العليا"
          ],
          [
           3.8,
           1294,
           "حي العليا"
          ],
          [
           3.6,
           1311,
           "حي العليا"
          ],
          [
           4.3,
           7203,
           "حي العليا"
          ],
          [
           4,
           1024,
           "حي العليا"
          ],
          [
           3.5,
           2022,
           "حي العليا"
          ],
          [
           4.2,
           9584,
           "حي العليا"
          ],
          [
           3.8,
           896,
           "حي العليا"
          ],
          [
           3.7,
           452,
           "حي العليا"
          ],
          [
           4.1,
           1057,
           "حي العليا"
          ],
          [
           4.2,
           4534,
           "حي العليا"
          ],
          [
           3.6,
           4796,
           "حي العليا"
          ],
          [
           3.7,
           2042,
           "حي العليا"
          ],
          [
           3.8,
           341,
           "حي العليا"
          ],
          [
           3.9,
           3568,
           "حي العليا"
          ],
          [
           3.5,
           746,
           "حي العليا"
          ],
          [
           3.8,
           1219,
           "حي العليا"
          ],
          [
           4.7,
           5105,
           "حي العليا"
          ],
          [
           3.7,
           1210,
           "حي العليا"
          ],
          [
           4.2,
           8154,
           "حي العليا"
          ],
          [
           4.2,
           9460,
           "حي العليا"
          ],
          [
           3.6,
           872,
           "حي العليا"
          ],
          [
           3.5,
           1825,
           "حي العليا"
          ],
          [
           3.8,
           1081,
           "حي العليا"
          ],
          [
           3.7,
           1370,
           "حي العليا"
          ],
          [
           3.4,
           1705,
           "حي العليا"
          ],
          [
           3.3,
           143,
           "حي السليمانية"
          ],
          [
           3.2,
           18,
           "حي السليمانية"
          ],
          [
           3.2,
           33,
           "حي السليمانية"
          ],
          [
           3,
           2,
           "حي السليمانية"
          ],
          [
           4.1,
           29,
           "حي السليمانية"
          ],
          [
           null,
           0,
           "حي السليمانية"
          ],
          [
           3.6,
           219,
           "حي السليمانية"
          ],
          [
           4.1,
           41,
           "حي السليمانية"
          ],
          [
           4.4,
           5,
           "حي السليمانية"
          ],
          [
           5,
           1,
           "حي السليمانية"
          ],
          [
           4.6,
           13,
           "حي السليمانية"
          ],
          [
           5,
           2,
           "حي السليمانية"
          ],
          [
           3.7,
           45,
           "حي السليمانية"
          ],
          [
           3.9,
           8,
           "حي السليمانية"
          ],
          [
           3.5,
           2,
           "حي السليمانية"
          ],
          [
           4.7,
           47,
           "حي السليمانية"
          ],
          [
           null,
           0,
           "حي السليمانية"
          ],
          [
           3,
           17,
           "حي السليمانية"
          ],
          [
           null,
           0,
           "حي السليمانية"
          ],
          [
           5,
           3,
           "حي السليمانية"
          ],
          [
           4.7,
           6,
           "حي السليمانية"
          ],
          [
           5,
           1,
           "حي السليمانية"
          ],
          [
           null,
           0,
           "حي السليمانية"
          ],
          [
           3.7,
           3,
           "حي السليمانية"
          ],
          [
           3.8,
           24,
           "حي السليمانية"
          ],
          [
           3.7,
           226,
           "حي السليمانية"
          ],
          [
           3.7,
           330,
           "حي السليمانية"
          ],
          [
           3.3,
           186,
           "حي السليمانية"
          ],
          [
           4,
           2,
           "حي السليمانية"
          ],
          [
           3.5,
           168,
           "حي السليمانية"
          ],
          [
           3.7,
           7,
           "حي السليمانية"
          ],
          [
           null,
           0,
           "حي السليمانية"
          ],
          [
           4.4,
           13,
           "حي السليمانية"
          ],
          [
           3.6,
           96,
           "حي السليمانية"
          ],
          [
           4,
           1,
           "حي السليمانية"
          ],
          [
           3.3,
           105,
           "حي السليمانية"
          ],
          [
           5,
           1,
           "حي السليمانية"
          ],
          [
           2.4,
           25,
           "حي السليمانية"
          ],
          [
           2.9,
           14,
           "حي السليمانية"
          ],
          [
           4.9,
           7,
           "حي السليمانية"
          ],
          [
           null,
           0,
           "حي السليمانية"
          ],
          [
           5,
           1,
           "حي السليمانية"
          ],
          [
           5,
           1,
           "حي السليمانية"
          ],
          [
           4.1,
           49,
           "حي السليمانية"
          ],
          [
           4.1,
           15,
           "حي السليمانية"
          ],
          [
           5,
           1,
           "حي السليمانية"
          ],
          [
           5,
           3,
           "حي السليمانية"
          ],
          [
           4.3,
           6,
           "حي السليمانية"
          ],
          [
           4.1,
           879,
           "حي السليمانية"
          ],
          [
           5,
           1,
           "حي السليمانية"
          ],
          [
           3.4,
           1155,
           "حي السليمانية"
          ],
          [
           5,
           1,
           "حي السليمانية"
          ],
          [
           4.3,
           102,
           "حي السليمانية"
          ],
          [
           3.8,
           5,
           "حي السليمانية"
          ],
          [
           4.5,
           16,
           "حي السليمانية"
          ],
          [
           1.8,
           5,
           "حي السليمانية"
          ],
          [
           null,
           0,
           "حي السليمانية"
          ],
          [
           3,
           4,
           "حي السليمانية"
          ],
          [
           4,
           1,
           "حي السليمانية"
          ],
          [
           null,
           0,
           "حي السليمانية"
          ],
          [
           3.7,
           1336,
           "حي المرسلات"
          ],
          [
           3.5,
           2755,
           "حي المرسلات"
          ],
          [
           4,
           423,
           "حي المرسلات"
          ],
          [
           3,
           27,
           "حي المرسلات"
          ],
          [
           4,
           1721,
           "حي المرسلات"
          ],
          [
           3.9,
           11310,
           "حي المرسلات"
          ],
          [
           4.3,
           10550,
           "حي المرسلات"
          ],
          [
           3.8,
           8468,
           "حي المرسلات"
          ],
          [
           3.7,
           2198,
           "حي المرسلات"
          ],
          [
           3.9,
           2735,
           "حي المرسلات"
          ],
          [
           3.8,
           589,
           "حي المرسلات"
          ],
          [
           4.3,
           23691,
           "حي المرسلات"
          ],
          [
           3.6,
           1707,
           "حي المرسلات"
          ],
          [
           3.7,
           1331,
           "حي المرسلات"
          ],
          [
           3.8,
           1803,
           "حي المرسلات"
          ],
          [
           3.8,
           639,
           "حي المرسلات"
          ],
          [
           3.8,
           994,
           "حي المرسلات"
          ],
          [
           3.3,
           827,
           "حي المرسلات"
          ],
          [
           3.5,
           975,
           "حي المرسلات"
          ],
          [
           3.9,
           1944,
           "حي المرسلات"
          ],
          [
           4.1,
           11464,
           "حي المرسلات"
          ],
          [
           3.8,
           6168,
           "حي المرسلات"
          ],
          [
           3.8,
           1376,
           "حي المرسلات"
          ],
          [
           4.3,
           1543,
           "حي المرسلات"
          ],
          [
           4.1,
           8499,
           "حي المرسلات"
          ],
          [
           3.7,
           380,
           "حي المرسلات"
          ],
          [
           3.3,
           1007,
           "حي المرسلات"
          ],
          [
           4.1,
           74,
           "حي المرسلات"
          ],
          [
           3.6,
           1452,
           "حي المرسلات"
          ],
          [
           3.9,
           2399,
           "حي المرسلات"
          ],
          [
           3.7,
           649,
           "حي المرسلات"
          ],
          [
           3.9,
           4618,
           "حي المرسلات"
          ],
          [
           3.7,
           681,
           "حي المرسلات"
          ],
          [
           3.9,
           719,
           "حي المرسلات"
          ],
          [
           3.9,
           790,
           "حي المرسلات"
          ],
          [
           3.6,
           1311,
           "حي المرسلات"
          ],
          [
           4.3,
           7203,
           "حي المرسلات"
          ],
          [
           3.8,
           1294,
           "حي المرسلات"
          ],
          [
           4,
           1024,
           "حي المرسلات"
          ],
          [
           3.5,
           2022,
           "حي المرسلات"
          ],
          [
           3.8,
           896,
           "حي المرسلات"
          ],
          [
           3.7,
           452,
           "حي المرسلات"
          ],
          [
           4.1,
           1057,
           "حي المرسلات"
          ],
          [
           4.2,
           9584,
           "حي المرسلات"
          ],
          [
           4.2,
           4534,
           "حي المرسلات"
          ],
          [
           3.6,
           4796,
           "حي المرسلات"
          ],
          [
           3.7,
           2042,
           "حي المرسلات"
          ],
          [
           3.9,
           3568,
           "حي المرسلات"
          ],
          [
           3.8,
           341,
           "حي المرسلات"
          ],
          [
           3.5,
           746,
           "حي المرسلات"
          ],
          [
           3.8,
           1219,
           "حي المرسلات"
          ],
          [
           4.7,
           5105,
           "حي المرسلات"
          ],
          [
           3.7,
           1210,
           "حي المرسلات"
          ],
          [
           4.2,
           8154,
           "حي المرسلات"
          ],
          [
           3.6,
           872,
           "حي المرسلات"
          ],
          [
           4.2,
           9460,
           "حي المرسلات"
          ],
          [
           3.5,
           1825,
           "حي المرسلات"
          ],
          [
           3.8,
           1081,
           "حي المرسلات"
          ],
          [
           3.7,
           1370,
           "حي المرسلات"
          ],
          [
           3.8,
           2246,
           "حي المرسلات"
          ],
          [
           3.7,
           1336,
           "حي الزدهار"
          ],
          [
           3.5,
           2755,
           "حي الزدهار"
          ],
          [
           4,
           423,
           "حي الزدهار"
          ],
          [
           3,
           27,
           "حي الزدهار"
          ],
          [
           4,
           1721,
           "حي الزدهار"
          ],
          [
           3.9,
           11310,
           "حي الزدهار"
          ],
          [
           4.3,
           10550,
           "حي الزدهار"
          ],
          [
           3.8,
           8468,
           "حي الزدهار"
          ],
          [
           3.7,
           2198,
           "حي الزدهار"
          ],
          [
           3.9,
           2735,
           "حي الزدهار"
          ],
          [
           3.8,
           589,
           "حي الزدهار"
          ],
          [
           4.3,
           23691,
           "حي الزدهار"
          ],
          [
           3.6,
           1707,
           "حي الزدهار"
          ],
          [
           3.7,
           1331,
           "حي الزدهار"
          ],
          [
           3.8,
           1803,
           "حي الزدهار"
          ],
          [
           3.8,
           639,
           "حي الزدهار"
          ],
          [
           3.8,
           994,
           "حي الزدهار"
          ],
          [
           3.3,
           827,
           "حي الزدهار"
          ],
          [
           3.5,
           975,
           "حي الزدهار"
          ],
          [
           3.9,
           1944,
           "حي الزدهار"
          ],
          [
           4.1,
           11464,
           "حي الزدهار"
          ],
          [
           3.8,
           6168,
           "حي الزدهار"
          ],
          [
           3.8,
           1376,
           "حي الزدهار"
          ],
          [
           4.3,
           1543,
           "حي الزدهار"
          ],
          [
           4.1,
           8499,
           "حي الزدهار"
          ],
          [
           3.7,
           380,
           "حي الزدهار"
          ],
          [
           4.1,
           74,
           "حي الزدهار"
          ],
          [
           3.6,
           1452,
           "حي الزدهار"
          ],
          [
           3.9,
           2399,
           "حي الزدهار"
          ],
          [
           3.7,
           649,
           "حي الزدهار"
          ],
          [
           3.3,
           1007,
           "حي الزدهار"
          ],
          [
           3.9,
           4618,
           "حي الزدهار"
          ],
          [
           3.7,
           681,
           "حي الزدهار"
          ],
          [
           3.9,
           719,
           "حي الزدهار"
          ],
          [
           3.6,
           1311,
           "حي الزدهار"
          ],
          [
           3.9,
           790,
           "حي الزدهار"
          ],
          [
           4.3,
           7203,
           "حي الزدهار"
          ],
          [
           4,
           1024,
           "حي الزدهار"
          ],
          [
           3.5,
           2022,
           "حي الزدهار"
          ],
          [
           3.8,
           1294,
           "حي الزدهار"
          ],
          [
           3.8,
           896,
           "حي الزدهار"
          ],
          [
           3.7,
           452,
           "حي الزدهار"
          ],
          [
           4.1,
           1057,
           "حي الزدهار"
          ],
          [
           4.2,
           9584,
           "حي الزدهار"
          ],
          [
           4.2,
           4534,
           "حي الزدهار"
          ],
          [
           3.6,
           4796,
           "حي الزدهار"
          ],
          [
           3.7,
           2042,
           "حي الزدهار"
          ],
          [
           3.9,
           3568,
           "حي الزدهار"
          ],
          [
           3.8,
           341,
           "حي الزدهار"
          ],
          [
           3.5,
           746,
           "حي الزدهار"
          ],
          [
           4.7,
           5105,
           "حي الزدهار"
          ],
          [
           3.8,
           1219,
           "حي الزدهار"
          ],
          [
           3.7,
           1210,
           "حي الزدهار"
          ],
          [
           4.2,
           8154,
           "حي الزدهار"
          ],
          [
           3.6,
           872,
           "حي الزدهار"
          ],
          [
           4.2,
           9460,
           "حي الزدهار"
          ],
          [
           3.8,
           1081,
           "حي الزدهار"
          ],
          [
           3.5,
           1825,
           "حي الزدهار"
          ],
          [
           3.7,
           1370,
           "حي الزدهار"
          ],
          [
           3.8,
           2246,
           "حي الزدهار"
          ],
          [
           3.7,
           1336,
           "حي الياسمين"
          ],
          [
           3.5,
           2755,
           "حي الياسمين"
          ],
          [
           4,
           423,
           "حي الياسمين"
          ],
          [
           3,
           27,
           "حي الياسمين"
          ],
          [
           4,
           1721,
           "حي الياسمين"
          ],
          [
           3.9,
           11310,
           "حي الياسمين"
          ],
          [
           4.3,
           10550,
           "حي الياسمين"
          ],
          [
           3.8,
           8468,
           "حي الياسمين"
          ],
          [
           3.7,
           2198,
           "حي الياسمين"
          ],
          [
           3.9,
           2735,
           "حي الياسمين"
          ],
          [
           3.8,
           589,
           "حي الياسمين"
          ],
          [
           4.3,
           23691,
           "حي الياسمين"
          ],
          [
           3.6,
           1707,
           "حي الياسمين"
          ],
          [
           3.7,
           1331,
           "حي الياسمين"
          ],
          [
           3.8,
           1803,
           "حي الياسمين"
          ],
          [
           3.8,
           639,
           "حي الياسمين"
          ],
          [
           3.8,
           994,
           "حي الياسمين"
          ],
          [
           3.3,
           827,
           "حي الياسمين"
          ],
          [
           3.5,
           975,
           "حي الياسمين"
          ],
          [
           3.9,
           1944,
           "حي الياسمين"
          ],
          [
           3.8,
           6168,
           "حي الياسمين"
          ],
          [
           4.1,
           11464,
           "حي الياسمين"
          ],
          [
           3.8,
           1376,
           "حي الياسمين"
          ],
          [
           4.3,
           1543,
           "حي الياسمين"
          ],
          [
           4.1,
           8499,
           "حي الياسمين"
          ],
          [
           3.7,
           380,
           "حي الياسمين"
          ],
          [
           3.7,
           649,
           "حي الياسمين"
          ],
          [
           3.9,
           2399,
           "حي الياسمين"
          ],
          [
           4.1,
           74,
           "حي الياسمين"
          ],
          [
           3.7,
           681,
           "حي الياسمين"
          ],
          [
           3.6,
           1452,
           "حي الياسمين"
          ],
          [
           3.9,
           719,
           "حي الياسمين"
          ],
          [
           3.9,
           4618,
           "حي الياسمين"
          ],
          [
           3.3,
           1007,
           "حي الياسمين"
          ],
          [
           4.3,
           7203,
           "حي الياسمين"
          ],
          [
           4,
           1024,
           "حي الياسمين"
          ],
          [
           3.6,
           1311,
           "حي الياسمين"
          ],
          [
           3.5,
           2022,
           "حي الياسمين"
          ],
          [
           3.8,
           896,
           "حي الياسمين"
          ],
          [
           3.9,
           790,
           "حي الياسمين"
          ],
          [
           4.1,
           1057,
           "حي الياسمين"
          ],
          [
           3.7,
           452,
           "حي الياسمين"
          ],
          [
           4.2,
           4534,
           "حي الياسمين"
          ],
          [
           3.8,
           1294,
           "حي الياسمين"
          ],
          [
           3.6,
           4796,
           "حي الياسمين"
          ],
          [
           3.7,
           2042,
           "حي الياسمين"
          ],
          [
           3.9,
           3568,
           "حي الياسمين"
          ],
          [
           3.5,
           746,
           "حي الياسمين"
          ],
          [
           4.7,
           5105,
           "حي الياسمين"
          ],
          [
           3.8,
           341,
           "حي الياسمين"
          ],
          [
           3.7,
           1210,
           "حي الياسمين"
          ],
          [
           4.2,
           9584,
           "حي الياسمين"
          ],
          [
           3.8,
           1219,
           "حي الياسمين"
          ],
          [
           3.6,
           872,
           "حي الياسمين"
          ],
          [
           4.2,
           8154,
           "حي الياسمين"
          ],
          [
           3.5,
           1825,
           "حي الياسمين"
          ],
          [
           3.8,
           1081,
           "حي الياسمين"
          ],
          [
           3.7,
           1370,
           "حي الياسمين"
          ],
          [
           3.8,
           2246,
           "حي الياسمين"
          ],
          [
           3.9,
           401,
           "حي الياسمين"
          ],
          [
           3.7,
           1336,
           "حي الندى"
          ],
          [
           3.5,
           2755,
           "حي الندى"
          ],
          [
           4,
           423,
           "حي الندى"
          ],
          [
           3,
           27,
           "حي الندى"
          ],
          [
           4,
           1721,
           "حي الندى"
          ],
          [
           3.9,
           11310,
           "حي الندى"
          ],
          [
           4.3,
           10550,
           "حي الندى"
          ],
          [
           3.8,
           8468,
           "حي الندى"
          ],
          [
           3.7,
           2198,
           "حي الندى"
          ],
          [
           3.9,
           2735,
           "حي الندى"
          ],
          [
           3.8,
           589,
           "حي الندى"
          ],
          [
           4.3,
           23691,
           "حي الندى"
          ],
          [
           3.6,
           1707,
           "حي الندى"
          ],
          [
           3.7,
           1331,
           "حي الندى"
          ],
          [
           3.8,
           1803,
           "حي الندى"
          ],
          [
           3.8,
           639,
           "حي الندى"
          ],
          [
           3.8,
           994,
           "حي الندى"
          ],
          [
           3.3,
           827,
           "حي الندى"
          ],
          [
           3.5,
           975,
           "حي الندى"
          ],
          [
           3.9,
           1944,
           "حي الندى"
          ],
          [
           3.8,
           6168,
           "حي الندى"
          ],
          [
           4.1,
           11464,
           "حي الندى"
          ],
          [
           3.8,
           1376,
           "حي الندى"
          ],
          [
           4.3,
           1543,
           "حي الندى"
          ],
          [
           4.1,
           8499,
           "حي الندى"
          ],
          [
           3.7,
           380,
           "حي الندى"
          ],
          [
           4.1,
           74,
           "حي الندى"
          ],
          [
           3.9,
           2399,
           "حي الندى"
          ],
          [
           3.6,
           1452,
           "حي الندى"
          ],
          [
           3.7,
           649,
           "حي الندى"
          ],
          [
           3.7,
           681,
           "حي الندى"
          ],
          [
           3.9,
           4618,
           "حي الندى"
          ],
          [
           3.9,
           719,
           "حي الندى"
          ],
          [
           3.3,
           1007,
           "حي الندى"
          ],
          [
           4.3,
           7203,
           "حي الندى"
          ],
          [
           3.6,
           1311,
           "حي الندى"
          ],
          [
           4,
           1024,
           "حي الندى"
          ],
          [
           3.9,
           790,
           "حي الندى"
          ],
          [
           3.5,
           2022,
           "حي الندى"
          ],
          [
           3.8,
           896,
           "حي الندى"
          ],
          [
           3.7,
           452,
           "حي الندى"
          ],
          [
           4.1,
           1057,
           "حي الندى"
          ],
          [
           3.8,
           1294,
           "حي الندى"
          ],
          [
           4.2,
           4534,
           "حي الندى"
          ],
          [
           3.6,
           4796,
           "حي الندى"
          ],
          [
           4.2,
           9584,
           "حي الندى"
          ],
          [
           3.7,
           2042,
           "حي الندى"
          ],
          [
           3.9,
           3568,
           "حي الندى"
          ],
          [
           3.5,
           746,
           "حي الندى"
          ],
          [
           4.7,
           5105,
           "حي الندى"
          ],
          [
           3.8,
           341,
           "حي الندى"
          ],
          [
           3.8,
           1219,
           "حي الندى"
          ],
          [
           3.7,
           1210,
           "حي الندى"
          ],
          [
           4.2,
           8154,
           "حي الندى"
          ],
          [
           3.6,
           872,
           "حي الندى"
          ],
          [
           3.8,
           1081,
           "حي الندى"
          ],
          [
           3.5,
           1825,
           "حي الندى"
          ],
          [
           4.2,
           9460,
           "حي الندى"
          ],
          [
           3.7,
           1370,
           "حي الندى"
          ],
          [
           3.8,
           2246,
           "حي الندى"
          ],
          [
           3.7,
           1336,
           "حي القيروان"
          ],
          [
           3.5,
           2755,
           "حي القيروان"
          ],
          [
           4,
           423,
           "حي القيروان"
          ],
          [
           3,
           27,
           "حي القيروان"
          ],
          [
           4,
           1721,
           "حي القيروان"
          ],
          [
           3.9,
           11310,
           "حي القيروان"
          ],
          [
           4.3,
           10550,
           "حي القيروان"
          ],
          [
           3.8,
           8468,
           "حي القيروان"
          ],
          [
           3.8,
           589,
           "حي القيروان"
          ],
          [
           3.7,
           2198,
           "حي القيروان"
          ],
          [
           3.9,
           2735,
           "حي القيروان"
          ],
          [
           4.3,
           23691,
           "حي القيروان"
          ],
          [
           3.6,
           1707,
           "حي القيروان"
          ],
          [
           3.7,
           1331,
           "حي القيروان"
          ],
          [
           3.8,
           1803,
           "حي القيروان"
          ],
          [
           3.8,
           639,
           "حي القيروان"
          ],
          [
           3.3,
           827,
           "حي القيروان"
          ],
          [
           3.5,
           975,
           "حي القيروان"
          ],
          [
           3.8,
           994,
           "حي القيروان"
          ],
          [
           3.9,
           1944,
           "حي القيروان"
          ],
          [
           3.8,
           6168,
           "حي القيروان"
          ],
          [
           3.8,
           1376,
           "حي القيروان"
          ],
          [
           4.3,
           1543,
           "حي القيروان"
          ],
          [
           3.7,
           380,
           "حي القيروان"
          ],
          [
           4.1,
           11464,
           "حي القيروان"
          ],
          [
           3.7,
           649,
           "حي القيروان"
          ],
          [
           3.7,
           681,
           "حي القيروان"
          ],
          [
           3.9,
           719,
           "حي القيروان"
          ],
          [
           4.1,
           8499,
           "حي القيروان"
          ],
          [
           3.9,
           4618,
           "حي القيروان"
          ],
          [
           3.9,
           2399,
           "حي القيروان"
          ],
          [
           4.3,
           7203,
           "حي القيروان"
          ],
          [
           4,
           1024,
           "حي القيروان"
          ],
          [
           3.8,
           896,
           "حي القيروان"
          ],
          [
           4.1,
           1057,
           "حي القيروان"
          ],
          [
           3.5,
           2022,
           "حي القيروان"
          ],
          [
           4.2,
           4534,
           "حي القيروان"
          ],
          [
           3.7,
           452,
           "حي القيروان"
          ],
          [
           4.1,
           74,
           "حي القيروان"
          ],
          [
           4.7,
           5105,
           "حي القيروان"
          ],
          [
           3.6,
           1452,
           "حي القيروان"
          ],
          [
           3.7,
           1210,
           "حي القيروان"
          ],
          [
           3.6,
           1311,
           "حي القيروان"
          ],
          [
           3.5,
           746,
           "حي القيروان"
          ],
          [
           3.9,
           401,
           "حي القيروان"
          ],
          [
           4.2,
           11683,
           "حي القيروان"
          ],
          [
           3.6,
           872,
           "حي القيروان"
          ],
          [
           3.8,
           2246,
           "حي القيروان"
          ],
          [
           3.9,
           1911,
           "حي القيروان"
          ],
          [
           3.8,
           1081,
           "حي القيروان"
          ],
          [
           3.9,
           3568,
           "حي القيروان"
          ],
          [
           3.7,
           1983,
           "حي القيروان"
          ],
          [
           3.5,
           1825,
           "حي القيروان"
          ],
          [
           3.7,
           1370,
           "حي القيروان"
          ],
          [
           3.3,
           1007,
           "حي القيروان"
          ],
          [
           3.8,
           989,
           "حي القيروان"
          ],
          [
           3.7,
           1490,
           "حي القيروان"
          ],
          [
           3.8,
           1074,
           "حي القيروان"
          ],
          [
           3.7,
           1075,
           "حي القيروان"
          ],
          [
           4,
           2311,
           "حي القيروان"
          ],
          [
           3.7,
           1336,
           "حي حطين"
          ],
          [
           3.5,
           2755,
           "حي حطين"
          ],
          [
           4,
           423,
           "حي حطين"
          ],
          [
           3,
           27,
           "حي حطين"
          ],
          [
           4,
           1721,
           "حي حطين"
          ],
          [
           3.9,
           11310,
           "حي حطين"
          ],
          [
           4.3,
           10550,
           "حي حطين"
          ],
          [
           3.8,
           8468,
           "حي حطين"
          ],
          [
           3.7,
           2198,
           "حي حطين"
          ],
          [
           3.9,
           2735,
           "حي حطين"
          ],
          [
           3.8,
           589,
           "حي حطين"
          ],
          [
           4.3,
           23691,
           "حي حطين"
          ],
          [
           3.6,
           1707,
           "حي حطين"
          ],
          [
           3.7,
           1331,
           "حي حطين"
          ],
          [
           3.8,
           1803,
           "حي حطين"
          ],
          [
           3.8,
           639,
           "حي حطين"
          ],
          [
           3.8,
           994,
           "حي حطين"
          ],
          [
           3.3,
           827,
           "حي حطين"
          ],
          [
           3.5,
           975,
           "حي حطين"
          ],
          [
           3.9,
           1944,
           "حي حطين"
          ],
          [
           4.1,
           11464,
           "حي حطين"
          ],
          [
           3.8,
           6168,
           "حي حطين"
          ],
          [
           3.8,
           1376,
           "حي حطين"
          ],
          [
           4.3,
           1543,
           "حي حطين"
          ],
          [
           3.7,
           380,
           "حي حطين"
          ],
          [
           3.3,
           1007,
           "حي حطين"
          ],
          [
           4.1,
           8499,
           "حي حطين"
          ],
          [
           3.9,
           2399,
           "حي حطين"
          ],
          [
           3.7,
           649,
           "حي حطين"
          ],
          [
           4.1,
           74,
           "حي حطين"
          ],
          [
           3.7,
           681,
           "حي حطين"
          ],
          [
           3.9,
           4618,
           "حي حطين"
          ],
          [
           3.6,
           1452,
           "حي حطين"
          ],
          [
           3.9,
           719,
           "حي حطين"
          ],
          [
           3.9,
           790,
           "حي حطين"
          ],
          [
           3.8,
           1294,
           "حي حطين"
          ],
          [
           4.3,
           7203,
           "حي حطين"
          ],
          [
           3.6,
           1311,
           "حي حطين"
          ],
          [
           4,
           1024,
           "حي حطين"
          ],
          [
           3.5,
           2022,
           "حي حطين"
          ],
          [
           3.8,
           896,
           "حي حطين"
          ],
          [
           4.1,
           1057,
           "حي حطين"
          ],
          [
           3.7,
           452,
           "حي حطين"
          ],
          [
           4.2,
           4534,
           "حي حطين"
          ],
          [
           4.2,
           9584,
           "حي حطين"
          ],
          [
           3.6,
           4796,
           "حي حطين"
          ],
          [
           3.7,
           2042,
           "حي حطين"
          ],
          [
           3.8,
           341,
           "حي حطين"
          ],
          [
           3.5,
           746,
           "حي حطين"
          ],
          [
           3.9,
           3568,
           "حي حطين"
          ],
          [
           3.8,
           1219,
           "حي حطين"
          ],
          [
           4.7,
           5105,
           "حي حطين"
          ],
          [
           3.7,
           1210,
           "حي حطين"
          ],
          [
           3.6,
           872,
           "حي حطين"
          ],
          [
           3.5,
           1825,
           "حي حطين"
          ],
          [
           4.2,
           8154,
           "حي حطين"
          ],
          [
           3.8,
           2246,
           "حي حطين"
          ],
          [
           3.7,
           1370,
           "حي حطين"
          ],
          [
           3.9,
           401,
           "حي حطين"
          ],
          [
           4.2,
           11683,
           "حي حطين"
          ],
          [
           3.7,
           1336,
           "حي الملقا"
          ],
          [
           3.5,
           2755,
           "حي الملقا"
          ],
          [
           4,
           423,
           "حي الملقا"
          ],
          [
           3,
           27,
           "حي الملقا"
          ],
          [
           4,
           1721,
           "حي الملقا"
          ],
          [
           3.9,
           11310,
           "حي الملقا"
          ],
          [
           4.3,
           10550,
           "حي الملقا"
          ],
          [
           3.8,
           8468,
           "حي الملقا"
          ],
          [
           3.7,
           2198,
           "حي الملقا"
          ],
          [
           3.9,
           2735,
           "حي الملقا"
          ],
          [
           3.8,
           589,
           "حي الملقا"
          ],
          [
           4.3,
           23691,
           "حي الملقا"
          ],
          [
           3.6,
           1707,
           "حي الملقا"
          ],
          [
           3.7,
           1331,
           "حي الملقا"
          ],
          [
           3.8,
           1803,
           "حي الملقا"
          ],
          [
           3.8,
           639,
           "حي الملقا"
          ],
          [
           3.8,
           994,
           "حي الملقا"
          ],
          [
           3.3,
           827,
           "حي الملقا"
          ],
          [
           3.5,
           975,
           "حي الملقا"
          ],
          [
           3.9,
           1944,
           "حي الملقا"
          ],
          [
           3.8,
           6168,
           "حي الملقا"
          ],
          [
           4.1,
           11464,
           "حي الملقا"
          ],
          [
           3.8,
           1376,
           "حي الملقا"
          ],
          [
           4.3,
           1543,
           "حي الملقا"
          ],
          [
           3.7,
           380,
           "حي الملقا"
          ],
          [
           4.1,
           8499,
           "حي الملقا"
          ],
          [
           3.7,
           649,
           "حي الملقا"
          ],
          [
           3.9,
           2399,
           "حي الملقا"
          ],
          [
           3.3,
           1007,
           "حي الملقا"
          ],
          [
           3.7,
           681,
           "حي الملقا"
          ],
          [
           3.9,
           719,
           "حي الملقا"
          ],
          [
           3.9,
           4618,
           "حي الملقا"
          ],
          [
           4.1,
           74,
           "حي الملقا"
          ],
          [
           3.6,
           1452,
           "حي الملقا"
          ],
          [
           4.3,
           7203,
           "حي الملقا"
          ],
          [
           3.9,
           790,
           "حي الملقا"
          ],
          [
           4,
           1024,
           "حي الملقا"
          ],
          [
           3.6,
           1311,
           "حي الملقا"
          ],
          [
           3.5,
           2022,
           "حي الملقا"
          ],
          [
           3.8,
           896,
           "حي الملقا"
          ],
          [
           4.1,
           1057,
           "حي الملقا"
          ],
          [
           3.8,
           1294,
           "حي الملقا"
          ],
          [
           3.7,
           452,
           "حي الملقا"
          ],
          [
           4.2,
           4534,
           "حي الملقا"
          ],
          [
           3.6,
           4796,
           "حي الملقا"
          ],
          [
           3.7,
           2042,
           "حي الملقا"
          ],
          [
           3.5,
           746,
           "حي الملقا"
          ],
          [
           4.7,
           5105,
           "حي الملقا"
          ],
          [
           3.8,
           341,
           "حي الملقا"
          ],
          [
           4.2,
           9584,
           "حي الملقا"
          ],
          [
           3.9,
           3568,
           "حي الملقا"
          ],
          [
           3.7,
           1210,
           "حي الملقا"
          ],
          [
           3.8,
           1219,
           "حي الملقا"
          ],
          [
           3.6,
           872,
           "حي الملقا"
          ],
          [
           3.5,
           1825,
           "حي الملقا"
          ],
          [
           3.8,
           2246,
           "حي الملقا"
          ],
          [
           3.9,
           401,
           "حي الملقا"
          ],
          [
           4.2,
           11683,
           "حي الملقا"
          ],
          [
           3.7,
           1370,
           "حي الملقا"
          ],
          [
           3.8,
           1081,
           "حي الملقا"
          ],
          [
           3.7,
           1336,
           "حي الندى"
          ],
          [
           3.5,
           2755,
           "حي الندى"
          ],
          [
           4,
           423,
           "حي الندى"
          ],
          [
           3,
           27,
           "حي الندى"
          ],
          [
           4,
           1721,
           "حي الندى"
          ],
          [
           3.9,
           11310,
           "حي الندى"
          ],
          [
           4.3,
           10550,
           "حي الندى"
          ],
          [
           3.8,
           8468,
           "حي الندى"
          ],
          [
           3.7,
           2198,
           "حي الندى"
          ],
          [
           3.9,
           2735,
           "حي الندى"
          ],
          [
           3.8,
           589,
           "حي الندى"
          ],
          [
           4.3,
           23691,
           "حي الندى"
          ],
          [
           3.6,
           1707,
           "حي الندى"
          ],
          [
           3.7,
           1331,
           "حي الندى"
          ],
          [
           3.8,
           1803,
           "حي الندى"
          ],
          [
           3.8,
           639,
           "حي الندى"
          ],
          [
           3.8,
           994,
           "حي الندى"
          ],
          [
           3.3,
           827,
           "حي الندى"
          ],
          [
           3.5,
           975,
           "حي الندى"
          ],
          [
           3.9,
           1944,
           "حي الندى"
          ],
          [
           3.8,
           6168,
           "حي الندى"
          ],
          [
           4.1,
           11464,
           "حي الندى"
          ],
          [
           3.8,
           1376,
           "حي الندى"
          ],
          [
           4.3,
           1543,
           "حي الندى"
          ],
          [
           4.1,
           8499,
           "حي الندى"
          ],
          [
           3.7,
           380,
           "حي الندى"
          ],
          [
           4.1,
           74,
           "حي الندى"
          ],
          [
           3.9,
           2399,
           "حي الندى"
          ],
          [
           3.6,
           1452,
           "حي الندى"
          ],
          [
           3.7,
           649,
           "حي الندى"
          ],
          [
           3.7,
           681,
           "حي الندى"
          ],
          [
           3.9,
           4618,
           "حي الندى"
          ],
          [
           3.9,
           719,
           "حي الندى"
          ],
          [
           3.3,
           1007,
           "حي الندى"
          ],
          [
           4.3,
           7203,
           "حي الندى"
          ],
          [
           3.6,
           1311,
           "حي الندى"
          ],
          [
           4,
           1024,
           "حي الندى"
          ],
          [
           3.9,
           790,
           "حي الندى"
          ],
          [
           3.5,
           2022,
           "حي الندى"
          ],
          [
           3.8,
           896,
           "حي الندى"
          ],
          [
           3.7,
           452,
           "حي الندى"
          ],
          [
           4.1,
           1057,
           "حي الندى"
          ],
          [
           3.8,
           1294,
           "حي الندى"
          ],
          [
           4.2,
           4534,
           "حي الندى"
          ],
          [
           3.6,
           4796,
           "حي الندى"
          ],
          [
           4.2,
           9584,
           "حي الندى"
          ],
          [
           3.7,
           2043,
           "حي الندى"
          ],
          [
           3.9,
           3568,
           "حي الندى"
          ],
          [
           3.5,
           746,
           "حي الندى"
          ],
          [
           4.7,
           5105,
           "حي الندى"
          ],
          [
           3.8,
           341,
           "حي الندى"
          ],
          [
           3.8,
           1219,
           "حي الندى"
          ],
          [
           3.7,
           1210,
           "حي الندى"
          ],
          [
           4.2,
           8154,
           "حي الندى"
          ],
          [
           3.6,
           872,
           "حي الندى"
          ],
          [
           3.8,
           1081,
           "حي الندى"
          ],
          [
           3.5,
           1825,
           "حي الندى"
          ],
          [
           4.2,
           9460,
           "حي الندى"
          ],
          [
           3.7,
           1370,
           "حي الندى"
          ],
          [
           3.8,
           2246,
           "حي الندى"
          ],
          [
           3.7,
           1336,
           "حي الصحافة"
          ],
          [
           3.5,
           2755,
           "حي الصحافة"
          ],
          [
           4,
           423,
           "حي الصحافة"
          ],
          [
           3,
           27,
           "حي الصحافة"
          ],
          [
           4,
           1721,
           "حي الصحافة"
          ],
          [
           3.9,
           11310,
           "حي الصحافة"
          ],
          [
           4.3,
           10550,
           "حي الصحافة"
          ],
          [
           3.8,
           8468,
           "حي الصحافة"
          ],
          [
           3.7,
           2198,
           "حي الصحافة"
          ],
          [
           3.9,
           2735,
           "حي الصحافة"
          ],
          [
           3.8,
           589,
           "حي الصحافة"
          ],
          [
           4.3,
           23691,
           "حي الصحافة"
          ],
          [
           3.6,
           1707,
           "حي الصحافة"
          ],
          [
           3.7,
           1331,
           "حي الصحافة"
          ],
          [
           3.8,
           1803,
           "حي الصحافة"
          ],
          [
           3.8,
           639,
           "حي الصحافة"
          ],
          [
           3.8,
           994,
           "حي الصحافة"
          ],
          [
           3.3,
           827,
           "حي الصحافة"
          ],
          [
           3.5,
           975,
           "حي الصحافة"
          ],
          [
           3.9,
           1944,
           "حي الصحافة"
          ],
          [
           3.8,
           6168,
           "حي الصحافة"
          ],
          [
           4.1,
           11464,
           "حي الصحافة"
          ],
          [
           3.8,
           1376,
           "حي الصحافة"
          ],
          [
           4.3,
           1543,
           "حي الصحافة"
          ],
          [
           4.1,
           8499,
           "حي الصحافة"
          ],
          [
           3.7,
           380,
           "حي الصحافة"
          ],
          [
           3.9,
           2399,
           "حي الصحافة"
          ],
          [
           3.7,
           649,
           "حي الصحافة"
          ],
          [
           4.1,
           74,
           "حي الصحافة"
          ],
          [
           3.3,
           1007,
           "حي الصحافة"
          ],
          [
           3.6,
           1452,
           "حي الصحافة"
          ],
          [
           3.7,
           681,
           "حي الصحافة"
          ],
          [
           3.9,
           4618,
           "حي الصحافة"
          ],
          [
           3.9,
           719,
           "حي الصحافة"
          ],
          [
           4.3,
           7203,
           "حي الصحافة"
          ],
          [
           3.9,
           790,
           "حي الصحافة"
          ],
          [
           3.6,
           1311,
           "حي الصحافة"
          ],
          [
           4,
           1024,
           "حي الصحافة"
          ],
          [
           3.5,
           2022,
           "حي الصحافة"
          ],
          [
           3.8,
           896,
           "حي الصحافة"
          ],
          [
           3.8,
           1294,
           "حي الصحافة"
          ],
          [
           4.1,
           1057,
           "حي الصحافة"
          ],
          [
           3.7,
           452,
           "حي الصحافة"
          ],
          [
           4.2,
           4534,
           "حي الصحافة"
          ],
          [
           3.6,
           4796,
           "حي الصحافة"
          ],
          [
           4.2,
           9584,
           "حي الصحافة"
          ],
          [
           3.7,
           2043,
           "حي الصحافة"
          ],
          [
           3.9,
           3568,
           "حي الصحافة"
          ],
          [
           3.8,
           341,
           "حي الصحافة"
          ],
          [
           3.5,
           746,
           "حي الصحافة"
          ],
          [
           4.7,
           5105,
           "حي الصحافة"
          ],
          [
           3.8,
           1219,
           "حي الصحافة"
          ],
          [
           3.7,
           1210,
           "حي الصحافة"
          ],
          [
           4.2,
           8154,
           "حي الصحافة"
          ],
          [
           3.6,
           872,
           "حي الصحافة"
          ],
          [
           3.5,
           1825,
           "حي الصحافة"
          ],
          [
           3.8,
           1081,
           "حي الصحافة"
          ],
          [
           3.7,
           1370,
           "حي الصحافة"
          ],
          [
           4.2,
           9460,
           "حي الصحافة"
          ],
          [
           3.8,
           2246,
           "حي الصحافة"
          ],
          [
           3.7,
           1336,
           "حي النرجس"
          ],
          [
           3.5,
           2755,
           "حي النرجس"
          ],
          [
           4,
           423,
           "حي النرجس"
          ],
          [
           3,
           27,
           "حي النرجس"
          ],
          [
           4,
           1721,
           "حي النرجس"
          ],
          [
           3.9,
           11310,
           "حي النرجس"
          ],
          [
           4.3,
           10550,
           "حي النرجس"
          ],
          [
           3.8,
           8468,
           "حي النرجس"
          ],
          [
           3.8,
           589,
           "حي النرجس"
          ],
          [
           3.7,
           2198,
           "حي النرجس"
          ],
          [
           3.9,
           2735,
           "حي النرجس"
          ],
          [
           4.3,
           23691,
           "حي النرجس"
          ],
          [
           3.6,
           1707,
           "حي النرجس"
          ],
          [
           3.7,
           1331,
           "حي النرجس"
          ],
          [
           3.8,
           1803,
           "حي النرجس"
          ],
          [
           3.8,
           639,
           "حي النرجس"
          ],
          [
           3.3,
           827,
           "حي النرجس"
          ],
          [
           3.5,
           975,
           "حي النرجس"
          ],
          [
           3.8,
           994,
           "حي النرجس"
          ],
          [
           3.9,
           1944,
           "حي النرجس"
          ],
          [
           3.8,
           6168,
           "حي النرجس"
          ],
          [
           3.8,
           1376,
           "حي النرجس"
          ],
          [
           4.3,
           1543,
           "حي النرجس"
          ],
          [
           3.7,
           380,
           "حي النرجس"
          ],
          [
           3.7,
           649,
           "حي النرجس"
          ],
          [
           3.7,
           681,
           "حي النرجس"
          ],
          [
           4.1,
           8499,
           "حي النرجس"
          ],
          [
           3.9,
           719,
           "حي النرجس"
          ],
          [
           3.9,
           4618,
           "حي النرجس"
          ],
          [
           3.9,
           2399,
           "حي النرجس"
          ],
          [
           4.3,
           7203,
           "حي النرجس"
          ],
          [
           4,
           1024,
           "حي النرجس"
          ],
          [
           3.8,
           896,
           "حي النرجس"
          ],
          [
           4.1,
           1057,
           "حي النرجس"
          ],
          [
           3.5,
           2022,
           "حي النرجس"
          ],
          [
           3.7,
           452,
           "حي النرجس"
          ],
          [
           4.1,
           74,
           "حي النرجس"
          ],
          [
           4.2,
           4534,
           "حي النرجس"
          ],
          [
           3.6,
           1452,
           "حي النرجس"
          ],
          [
           4.7,
           5105,
           "حي النرجس"
          ],
          [
           3.7,
           1210,
           "حي النرجس"
          ],
          [
           3.6,
           872,
           "حي النرجس"
          ],
          [
           4.1,
           11464,
           "حي النرجس"
          ],
          [
           3.9,
           401,
           "حي النرجس"
          ],
          [
           4.2,
           11683,
           "حي النرجس"
          ],
          [
           3.5,
           746,
           "حي النرجس"
          ],
          [
           3.8,
           1081,
           "حي النرجس"
          ],
          [
           3.9,
           3568,
           "حي النرجس"
          ],
          [
           3.6,
           1311,
           "حي النرجس"
          ],
          [
           3.5,
           1825,
           "حي النرجس"
          ],
          [
           3.8,
           2246,
           "حي النرجس"
          ],
          [
           3.7,
           1370,
           "حي النرجس"
          ],
          [
           3.9,
           1911,
           "حي النرجس"
          ],
          [
           3.7,
           1983,
           "حي النرجس"
          ],
          [
           3.8,
           989,
           "حي النرجس"
          ],
          [
           4.2,
           8154,
           "حي النرجس"
          ],
          [
           3.7,
           1490,
           "حي النرجس"
          ],
          [
           3.8,
           1074,
           "حي النرجس"
          ],
          [
           3.7,
           1075,
           "حي النرجس"
          ],
          [
           4,
           2139,
           "حي النرجس"
          ],
          [
           3.7,
           1336,
           "حي العارض"
          ],
          [
           3.5,
           2755,
           "حي العارض"
          ],
          [
           4,
           423,
           "حي العارض"
          ],
          [
           3,
           27,
           "حي العارض"
          ],
          [
           4,
           1721,
           "حي العارض"
          ],
          [
           3.9,
           11310,
           "حي العارض"
          ],
          [
           4.3,
           10550,
           "حي العارض"
          ],
          [
           3.8,
           8468,
           "حي العارض"
          ],
          [
           3.8,
           589,
           "حي العارض"
          ],
          [
           3.7,
           2198,
           "حي العارض"
          ],
          [
           3.9,
           2735,
           "حي العارض"
          ],
          [
           4.3,
           23691,
           "حي العارض"
          ],
          [
           3.6,
           1707,
           "حي العارض"
          ],
          [
           3.7,
           1331,
           "حي العارض"
          ],
          [
           3.8,
           1803,
           "حي العارض"
          ],
          [
           3.8,
           639,
           "حي العارض"
          ],
          [
           3.3,
           827,
           "حي العارض"
          ],
          [
           3.8,
           994,
           "حي العارض"
          ],
          [
           3.5,
           975,
           "حي العارض"
          ],
          [
           3.9,
           1944,
           "حي العارض"
          ],
          [
           3.8,
           6168,
           "حي العارض"
          ],
          [
           4.1,
           11464,
           "حي العارض"
          ],
          [
           3.8,
           1376,
           "حي العارض"
          ],
          [
           4.3,
           1543,
           "حي العارض"
          ],
          [
           3.7,
           380,
           "حي العارض"
          ],
          [
           3.7,
           649,
           "حي العارض"
          ],
          [
           3.7,
           681,
           "حي العارض"
          ],
          [
           4.1,
           8499,
           "حي العارض"
          ],
          [
           3.9,
           719,
           "حي العارض"
          ],
          [
           3.9,
           2399,
           "حي العارض"
          ],
          [
           3.9,
           4618,
           "حي العارض"
          ],
          [
           4.3,
           7203,
           "حي العارض"
          ],
          [
           4,
           1024,
           "حي العارض"
          ],
          [
           3.8,
           896,
           "حي العارض"
          ],
          [
           4.1,
           1057,
           "حي العارض"
          ],
          [
           3.5,
           2022,
           "حي العارض"
          ],
          [
           4.1,
           74,
           "حي العارض"
          ],
          [
           3.6,
           1452,
           "حي العارض"
          ],
          [
           3.7,
           452,
           "حي العارض"
          ],
          [
           4.2,
           4534,
           "حي العارض"
          ],
          [
           3.6,
           1311,
           "حي العارض"
          ],
          [
           4.7,
           5105,
           "حي العارض"
          ],
          [
           3.7,
           1210,
           "حي العارض"
          ],
          [
           3.5,
           746,
           "حي العارض"
          ],
          [
           3.3,
           1007,
           "حي العارض"
          ],
          [
           3.9,
           3568,
           "حي العارض"
          ],
          [
           3.6,
           872,
           "حي العارض"
          ],
          [
           3.9,
           401,
           "حي العارض"
          ],
          [
           4.2,
           11683,
           "حي العارض"
          ],
          [
           3.8,
           1081,
           "حي العارض"
          ],
          [
           3.8,
           2246,
           "حي العارض"
          ],
          [
           3.5,
           1825,
           "حي العارض"
          ],
          [
           3.7,
           1370,
           "حي العارض"
          ],
          [
           3.9,
           1911,
           "حي العارض"
          ],
          [
           3.7,
           1983,
           "حي العارض"
          ],
          [
           4.2,
           8154,
           "حي العارض"
          ],
          [
           3.8,
           989,
           "حي العارض"
          ],
          [
           3.9,
           790,
           "حي العارض"
          ],
          [
           3.6,
           4796,
           "حي العارض"
          ],
          [
           3.8,
           1219,
           "حي العارض"
          ],
          [
           3.7,
           1336,
           "هجرة وادي لبن"
          ],
          [
           3.5,
           2755,
           "هجرة وادي لبن"
          ],
          [
           4,
           423,
           "هجرة وادي لبن"
          ],
          [
           3,
           27,
           "هجرة وادي لبن"
          ],
          [
           4,
           1721,
           "هجرة وادي لبن"
          ],
          [
           3.9,
           11310,
           "هجرة وادي لبن"
          ],
          [
           4.3,
           10550,
           "هجرة وادي لبن"
          ],
          [
           3.8,
           8468,
           "هجرة وادي لبن"
          ],
          [
           3.7,
           2198,
           "هجرة وادي لبن"
          ],
          [
           3.9,
           2735,
           "هجرة وادي لبن"
          ],
          [
           3.8,
           589,
           "هجرة وادي لبن"
          ],
          [
           4.3,
           23691,
           "هجرة وادي لبن"
          ],
          [
           3.6,
           1707,
           "هجرة وادي لبن"
          ],
          [
           3.7,
           1331,
           "هجرة وادي لبن"
          ],
          [
           3.8,
           1803,
           "هجرة وادي لبن"
          ],
          [
           3.8,
           639,
           "هجرة وادي لبن"
          ],
          [
           3.8,
           994,
           "هجرة وادي لبن"
          ],
          [
           3.3,
           827,
           "هجرة وادي لبن"
          ],
          [
           3.5,
           975,
           "هجرة وادي لبن"
          ],
          [
           3.9,
           1944,
           "هجرة وادي لبن"
          ],
          [
           4.1,
           11464,
           "هجرة وادي لبن"
          ],
          [
           3.8,
           6168,
           "هجرة وادي لبن"
          ],
          [
           3.8,
           1376,
           "هجرة وادي لبن"
          ],
          [
           4.3,
           1543,
           "هجرة وادي لبن"
          ],
          [
           3.3,
           1007,
           "هجرة وادي لبن"
          ],
          [
           3.7,
           380,
           "هجرة وادي لبن"
          ],
          [
           3.9,
           2399,
           "هجرة وادي لبن"
          ],
          [
           4.1,
           74,
           "هجرة وادي لبن"
          ],
          [
           3.6,
           1452,
           "هجرة وادي لبن"
          ],
          [
           3.7,
           649,
           "هجرة وادي لبن"
          ],
          [
           3.9,
           790,
           "هجرة وادي لبن"
          ],
          [
           4.1,
           8499,
           "هجرة وادي لبن"
          ],
          [
           3.9,
           4618,
           "هجرة وادي لبن"
          ],
          [
           3.7,
           681,
           "هجرة وادي لبن"
          ],
          [
           3.9,
           719,
           "هجرة وادي لبن"
          ],
          [
           3.8,
           1294,
           "هجرة وادي لبن"
          ],
          [
           3.6,
           1311,
           "هجرة وادي لبن"
          ],
          [
           4.3,
           7203,
           "هجرة وادي لبن"
          ],
          [
           3.5,
           2022,
           "هجرة وادي لبن"
          ],
          [
           4,
           1024,
           "هجرة وادي لبن"
          ],
          [
           4.2,
           9584,
           "هجرة وادي لبن"
          ],
          [
           4.1,
           1057,
           "هجرة وادي لبن"
          ],
          [
           3.8,
           896,
           "هجرة وادي لبن"
          ],
          [
           3.7,
           452,
           "هجرة وادي لبن"
          ],
          [
           4.2,
           4534,
           "هجرة وادي لبن"
          ],
          [
           3.6,
           4796,
           "هجرة وادي لبن"
          ],
          [
           3.7,
           2042,
           "هجرة وادي لبن"
          ],
          [
           3.8,
           341,
           "هجرة وادي لبن"
          ],
          [
           3.8,
           1219,
           "هجرة وادي لبن"
          ],
          [
           3.5,
           746,
           "هجرة وادي لبن"
          ],
          [
           3.9,
           3568,
           "هجرة وادي لبن"
          ],
          [
           4.7,
           5105,
           "هجرة وادي لبن"
          ],
          [
           3.7,
           1210,
           "هجرة وادي لبن"
          ],
          [
           3.4,
           1705,
           "هجرة وادي لبن"
          ],
          [
           3.9,
           3797,
           "هجرة وادي لبن"
          ],
          [
           3.8,
           2246,
           "هجرة وادي لبن"
          ],
          [
           4.2,
           9460,
           "هجرة وادي لبن"
          ],
          [
           3.5,
           1825,
           "هجرة وادي لبن"
          ],
          [
           4.2,
           8154,
           "هجرة وادي لبن"
          ],
          [
           3.7,
           1370,
           "هجرة وادي لبن"
          ],
          [
           3.7,
           1336,
           "حي ظهرة نمار"
          ],
          [
           3.5,
           2755,
           "حي ظهرة نمار"
          ],
          [
           4,
           423,
           "حي ظهرة نمار"
          ],
          [
           3,
           27,
           "حي ظهرة نمار"
          ],
          [
           4,
           1721,
           "حي ظهرة نمار"
          ],
          [
           4.3,
           10550,
           "حي ظهرة نمار"
          ],
          [
           3.9,
           11310,
           "حي ظهرة نمار"
          ],
          [
           3.8,
           8468,
           "حي ظهرة نمار"
          ],
          [
           3.7,
           2198,
           "حي ظهرة نمار"
          ],
          [
           3.9,
           2735,
           "حي ظهرة نمار"
          ],
          [
           3.8,
           589,
           "حي ظهرة نمار"
          ],
          [
           4.3,
           23691,
           "حي ظهرة نمار"
          ],
          [
           3.6,
           1707,
           "حي ظهرة نمار"
          ],
          [
           3.7,
           1331,
           "حي ظهرة نمار"
          ],
          [
           3.8,
           1803,
           "حي ظهرة نمار"
          ],
          [
           3.8,
           639,
           "حي ظهرة نمار"
          ],
          [
           3.8,
           994,
           "حي ظهرة نمار"
          ],
          [
           3.3,
           827,
           "حي ظهرة نمار"
          ],
          [
           3.5,
           975,
           "حي ظهرة نمار"
          ],
          [
           3.9,
           1944,
           "حي ظهرة نمار"
          ],
          [
           4.1,
           11464,
           "حي ظهرة نمار"
          ],
          [
           3.8,
           6168,
           "حي ظهرة نمار"
          ],
          [
           3.8,
           1376,
           "حي ظهرة نمار"
          ],
          [
           3.3,
           1007,
           "حي ظهرة نمار"
          ],
          [
           4.3,
           1543,
           "حي ظهرة نمار"
          ],
          [
           3.9,
           2399,
           "حي ظهرة نمار"
          ],
          [
           4.1,
           74,
           "حي ظهرة نمار"
          ],
          [
           3.9,
           790,
           "حي ظهرة نمار"
          ],
          [
           3.7,
           380,
           "حي ظهرة نمار"
          ],
          [
           3.6,
           1452,
           "حي ظهرة نمار"
          ],
          [
           3.9,
           4618,
           "حي ظهرة نمار"
          ],
          [
           3.8,
           1294,
           "حي ظهرة نمار"
          ],
          [
           3.9,
           719,
           "حي ظهرة نمار"
          ],
          [
           3.7,
           649,
           "حي ظهرة نمار"
          ],
          [
           3.7,
           681,
           "حي ظهرة نمار"
          ],
          [
           3.6,
           1311,
           "حي ظهرة نمار"
          ],
          [
           4.3,
           7203,
           "حي ظهرة نمار"
          ],
          [
           4.2,
           9584,
           "حي ظهرة نمار"
          ],
          [
           3.5,
           2022,
           "حي ظهرة نمار"
          ],
          [
           4.1,
           8499,
           "حي ظهرة نمار"
          ],
          [
           4,
           1024,
           "حي ظهرة نمار"
          ],
          [
           4.1,
           1057,
           "حي ظهرة نمار"
          ],
          [
           3.8,
           896,
           "حي ظهرة نمار"
          ],
          [
           3.6,
           4796,
           "حي ظهرة نمار"
          ],
          [
           4.2,
           4534,
           "حي ظهرة نمار"
          ],
          [
           3.7,
           2042,
           "حي ظهرة نمار"
          ],
          [
           3.7,
           452,
           "حي ظهرة نمار"
          ],
          [
           3.8,
           341,
           "حي ظهرة نمار"
          ],
          [
           3.8,
           1219,
           "حي ظهرة نمار"
          ],
          [
           3.5,
           746,
           "حي ظهرة نمار"
          ],
          [
           3.9,
           3568,
           "حي ظهرة نمار"
          ],
          [
           3.4,
           1705,
           "حي ظهرة نمار"
          ],
          [
           3.9,
           3797,
           "حي ظهرة نمار"
          ],
          [
           3.8,
           2246,
           "حي ظهرة نمار"
          ],
          [
           4.2,
           9460,
           "حي ظهرة نمار"
          ],
          [
           3.6,
           1244,
           "حي ظهرة نمار"
          ],
          [
           3.5,
           1825,
           "حي ظهرة نمار"
          ],
          [
           3.9,
           1911,
           "حي ظهرة نمار"
          ],
          [
           3.9,
           628,
           "حي ظهرة نمار"
          ],
          [
           3.7,
           1370,
           "حي ظهرة نمار"
          ],
          [
           3.7,
           1336,
           "حي ديراب"
          ],
          [
           3.5,
           2755,
           "حي ديراب"
          ],
          [
           4,
           423,
           "حي ديراب"
          ],
          [
           3,
           27,
           "حي ديراب"
          ],
          [
           4,
           1721,
           "حي ديراب"
          ],
          [
           4.3,
           10550,
           "حي ديراب"
          ],
          [
           3.9,
           11310,
           "حي ديراب"
          ],
          [
           3.8,
           8468,
           "حي ديراب"
          ],
          [
           3.7,
           2198,
           "حي ديراب"
          ],
          [
           3.9,
           2735,
           "حي ديراب"
          ],
          [
           3.8,
           589,
           "حي ديراب"
          ],
          [
           4.3,
           23691,
           "حي ديراب"
          ],
          [
           3.6,
           1707,
           "حي ديراب"
          ],
          [
           3.7,
           1331,
           "حي ديراب"
          ],
          [
           3.8,
           1803,
           "حي ديراب"
          ],
          [
           3.8,
           639,
           "حي ديراب"
          ],
          [
           3.8,
           994,
           "حي ديراب"
          ],
          [
           3.3,
           827,
           "حي ديراب"
          ],
          [
           3.5,
           975,
           "حي ديراب"
          ],
          [
           3.9,
           1944,
           "حي ديراب"
          ],
          [
           4.1,
           11464,
           "حي ديراب"
          ],
          [
           3.8,
           6168,
           "حي ديراب"
          ],
          [
           3.8,
           1376,
           "حي ديراب"
          ],
          [
           3.3,
           1007,
           "حي ديراب"
          ],
          [
           4.3,
           1543,
           "حي ديراب"
          ],
          [
           3.9,
           790,
           "حي ديراب"
          ],
          [
           3.9,
           2399,
           "حي ديراب"
          ],
          [
           3.8,
           1294,
           "حي ديراب"
          ],
          [
           4.1,
           74,
           "حي ديراب"
          ],
          [
           3.9,
           4618,
           "حي ديراب"
          ],
          [
           3.6,
           1311,
           "حي ديراب"
          ],
          [
           3.6,
           1452,
           "حي ديراب"
          ],
          [
           3.9,
           719,
           "حي ديراب"
          ],
          [
           3.7,
           380,
           "حي ديراب"
          ],
          [
           3.7,
           681,
           "حي ديراب"
          ],
          [
           4.2,
           9584,
           "حي ديراب"
          ],
          [
           3.7,
           649,
           "حي ديراب"
          ],
          [
           4.3,
           7203,
           "حي ديراب"
          ],
          [
           3.5,
           2022,
           "حي ديراب"
          ],
          [
           4,
           1024,
           "حي ديراب"
          ],
          [
           4.1,
           1057,
           "حي ديراب"
          ],
          [
           3.6,
           4796,
           "حي ديراب"
          ],
          [
           3.7,
           2042,
           "حي ديراب"
          ],
          [
           4.2,
           4534,
           "حي ديراب"
          ],
          [
           3.8,
           341,
           "حي ديراب"
          ],
          [
           3.8,
           896,
           "حي ديراب"
          ],
          [
           3.8,
           1219,
           "حي ديراب"
          ],
          [
           3.5,
           746,
           "حي ديراب"
          ],
          [
           3.7,
           452,
           "حي ديراب"
          ],
          [
           3.4,
           1705,
           "حي ديراب"
          ],
          [
           3.9,
           3797,
           "حي ديراب"
          ],
          [
           4.1,
           8499,
           "حي ديراب"
          ],
          [
           3.9,
           3568,
           "حي ديراب"
          ],
          [
           3.8,
           2246,
           "حي ديراب"
          ],
          [
           3.9,
           628,
           "حي ديراب"
          ],
          [
           3.6,
           1244,
           "حي ديراب"
          ],
          [
           3.9,
           1911,
           "حي ديراب"
          ],
          [
           4.2,
           9460,
           "حي ديراب"
          ],
          [
           4,
           2311,
           "حي ديراب"
          ],
          [
           3.8,
           989,
           "حي ديراب"
          ],
          [
           3.7,
           1336,
           "حي نمار"
          ],
          [
           3.5,
           2755,
           "حي نمار"
          ],
          [
           4,
           423,
           "حي نمار"
          ],
          [
           3,
           27,
           "حي نمار"
          ],
          [
           4,
           1721,
           "حي نمار"
          ],
          [
           4.3,
           10550,
           "حي نمار"
          ],
          [
           3.9,
           11310,
           "حي نمار"
          ],
          [
           3.8,
           8468,
           "حي نمار"
          ],
          [
           3.7,
           2198,
           "حي نمار"
          ],
          [
           3.9,
           2735,
           "حي نمار"
          ],
          [
           3.8,
           589,
           "حي نمار"
          ],
          [
           4.3,
           23691,
           "حي نمار"
          ],
          [
           3.6,
           1707,
           "حي نمار"
          ],
          [
           3.7,
           1331,
           "حي نمار"
          ],
          [
           3.8,
           1803,
           "حي نمار"
          ],
          [
           3.8,
           994,
           "حي نمار"
          ],
          [
           3.8,
           639,
           "حي نمار"
          ],
          [
           3.3,
           827,
           "حي نمار"
          ],
          [
           3.5,
           975,
           "حي نمار"
          ],
          [
           3.9,
           1944,
           "حي نمار"
          ],
          [
           4.1,
           11464,
           "حي نمار"
          ],
          [
           3.8,
           6168,
           "حي نمار"
          ],
          [
           3.8,
           1376,
           "حي نمار"
          ],
          [
           3.3,
           1007,
           "حي نمار"
          ],
          [
           3.9,
           790,
           "حي نمار"
          ],
          [
           3.8,
           1294,
           "حي نمار"
          ],
          [
           4.3,
           1543,
           "حي نمار"
          ],
          [
           3.6,
           1311,
           "حي نمار"
          ],
          [
           3.9,
           2399,
           "حي نمار"
          ],
          [
           4.2,
           9584,
           "حي نمار"
          ],
          [
           3.9,
           4618,
           "حي نمار"
          ],
          [
           3.9,
           719,
           "حي نمار"
          ],
          [
           3.7,
           681,
           "حي نمار"
          ],
          [
           3.7,
           380,
           "حي نمار"
          ],
          [
           3.6,
           4796,
           "حي نمار"
          ],
          [
           3.7,
           2042,
           "حي نمار"
          ],
          [
           4.1,
           1057,
           "حي نمار"
          ],
          [
           3.5,
           2022,
           "حي نمار"
          ],
          [
           4.3,
           7203,
           "حي نمار"
          ],
          [
           3.7,
           649,
           "حي نمار"
          ],
          [
           4,
           1024,
           "حي نمار"
          ],
          [
           3.8,
           341,
           "حي نمار"
          ],
          [
           4.2,
           4534,
           "حي نمار"
          ],
          [
           4.1,
           74,
           "حي نمار"
          ],
          [
           3.8,
           1219,
           "حي نمار"
          ],
          [
           3.5,
           746,
           "حي نمار"
          ],
          [
           3.6,
           1452,
           "حي نمار"
          ],
          [
           3.9,
           3797,
           "حي نمار"
          ],
          [
           3.4,
           1705,
           "حي نمار"
          ],
          [
           3.8,
           896,
           "حي نمار"
          ],
          [
           3.8,
           2246,
           "حي نمار"
          ],
          [
           3.9,
           628,
           "حي نمار"
          ],
          [
           3.9,
           1911,
           "حي نمار"
          ],
          [
           4,
           2311,
           "حي نمار"
          ],
          [
           3.8,
           1123,
           "حي نمار"
          ],
          [
           3.8,
           989,
           "حي نمار"
          ],
          [
           3.7,
           1123,
           "حي نمار"
          ],
          [
           3.7,
           1983,
           "حي نمار"
          ],
          [
           3.8,
           2612,
           "حي نمار"
          ],
          [
           3.4,
           1224,
           "حي نمار"
          ],
          [
           3.7,
           1336,
           "حي الحزم"
          ],
          [
           3.5,
           2755,
           "حي الحزم"
          ],
          [
           4,
           423,
           "حي الحزم"
          ],
          [
           3,
           27,
           "حي الحزم"
          ],
          [
           4,
           1721,
           "حي الحزم"
          ],
          [
           4.3,
           10550,
           "حي الحزم"
          ],
          [
           3.9,
           11310,
           "حي الحزم"
          ],
          [
           3.8,
           8468,
           "حي الحزم"
          ],
          [
           3.7,
           2198,
           "حي الحزم"
          ],
          [
           3.9,
           2735,
           "حي الحزم"
          ],
          [
           3.8,
           589,
           "حي الحزم"
          ],
          [
           4.3,
           23691,
           "حي الحزم"
          ],
          [
           3.6,
           1707,
           "حي الحزم"
          ],
          [
           3.7,
           1331,
           "حي الحزم"
          ],
          [
           3.8,
           1803,
           "حي الحزم"
          ],
          [
           3.8,
           639,
           "حي الحزم"
          ],
          [
           3.8,
           994,
           "حي الحزم"
          ],
          [
           3.3,
           827,
           "حي الحزم"
          ],
          [
           3.5,
           975,
           "حي الحزم"
          ],
          [
           3.9,
           1944,
           "حي الحزم"
          ],
          [
           4.1,
           11464,
           "حي الحزم"
          ],
          [
           3.8,
           6168,
           "حي الحزم"
          ],
          [
           3.8,
           1376,
           "حي الحزم"
          ],
          [
           3.3,
           1007,
           "حي الحزم"
          ],
          [
           4.3,
           1543,
           "حي الحزم"
          ],
          [
           3.9,
           2399,
           "حي الحزم"
          ],
          [
           4.1,
           74,
           "حي الحزم"
          ],
          [
           3.9,
           790,
           "حي الحزم"
          ],
          [
           3.6,
           1452,
           "حي الحزم"
          ],
          [
           3.9,
           4618,
           "حي الحزم"
          ],
          [
           3.7,
           380,
           "حي الحزم"
          ],
          [
           3.8,
           1294,
           "حي الحزم"
          ],
          [
           3.9,
           719,
           "حي الحزم"
          ],
          [
           3.6,
           1311,
           "حي الحزم"
          ],
          [
           3.7,
           649,
           "حي الحزم"
          ],
          [
           3.7,
           681,
           "حي الحزم"
          ],
          [
           4.3,
           7203,
           "حي الحزم"
          ],
          [
           4.2,
           9584,
           "حي الحزم"
          ],
          [
           3.5,
           2022,
           "حي الحزم"
          ],
          [
           4,
           1024,
           "حي الحزم"
          ],
          [
           4.1,
           8499,
           "حي الحزم"
          ],
          [
           4.1,
           1057,
           "حي الحزم"
          ],
          [
           3.6,
           4796,
           "حي الحزم"
          ],
          [
           3.7,
           2042,
           "حي الحزم"
          ],
          [
           4.2,
           4534,
           "حي الحزم"
          ],
          [
           3.8,
           896,
           "حي الحزم"
          ],
          [
           3.7,
           452,
           "حي الحزم"
          ],
          [
           3.8,
           341,
           "حي الحزم"
          ],
          [
           3.8,
           1219,
           "حي الحزم"
          ],
          [
           3.5,
           746,
           "حي الحزم"
          ],
          [
           3.9,
           3568,
           "حي الحزم"
          ],
          [
           3.4,
           1705,
           "حي الحزم"
          ],
          [
           3.9,
           3797,
           "حي الحزم"
          ],
          [
           3.8,
           2246,
           "حي الحزم"
          ],
          [
           4.2,
           9460,
           "حي الحزم"
          ],
          [
           3.6,
           1244,
           "حي الحزم"
          ],
          [
           3.9,
           628,
           "حي الحزم"
          ],
          [
           3.9,
           1911,
           "حي الحزم"
          ],
          [
           3.5,
           1825,
           "حي الحزم"
          ],
          [
           3.7,
           1370,
           "حي الحزم"
          ],
          [
           3.8,
           378,
           "حي النهضة"
          ],
          [
           3.8,
           1230,
           "حي النهضة"
          ],
          [
           4.2,
           159,
           "حي النهضة"
          ],
          [
           3.7,
           36,
           "حي النهضة"
          ],
          [
           3.5,
           257,
           "حي النهضة"
          ],
          [
           4.6,
           43,
           "حي النهضة"
          ],
          [
           3.5,
           174,
           "حي النهضة"
          ],
          [
           5,
           16,
           "حي النهضة"
          ],
          [
           null,
           0,
           "حي النهضة"
          ],
          [
           3.7,
           272,
           "حي النهضة"
          ],
          [
           5,
           3,
           "حي النهضة"
          ],
          [
           3.5,
           33,
           "حي النهضة"
          ],
          [
           3.9,
           28,
           "حي النهضة"
          ],
          [
           3.4,
           154,
           "حي النهضة"
          ],
          [
           null,
           0,
           "حي النهضة"
          ],
          [
           2.6,
           16,
           "حي النهضة"
          ],
          [
           3.7,
           18,
           "حي النهضة"
          ],
          [
           4,
           52,
           "حي النهضة"
          ],
          [
           3,
           1,
           "حي النهضة"
          ],
          [
           3.7,
           199,
           "حي النهضة"
          ],
          [
           3.9,
           218,
           "حي النهضة"
          ],
          [
           3.9,
           219,
           "حي النهضة"
          ],
          [
           4.8,
           22,
           "حي النهضة"
          ],
          [
           3.1,
           24,
           "حي النهضة"
          ],
          [
           3.9,
           230,
           "حي النهضة"
          ],
          [
           null,
           0,
           "حي النهضة"
          ],
          [
           3.6,
           45,
           "حي النهضة"
          ],
          [
           3,
           3,
           "حي النهضة"
          ],
          [
           4.3,
           9,
           "حي النهضة"
          ],
          [
           4,
           73,
           "حي النهضة"
          ],
          [
           3.6,
           422,
           "حي النهضة"
          ],
          [
           3.6,
           183,
           "حي النهضة"
          ],
          [
           3.8,
           73,
           "حي النهضة"
          ],
          [
           3.7,
           282,
           "حي النهضة"
          ],
          [
           4.6,
           93,
           "حي النهضة"
          ],
          [
           4.2,
           81,
           "حي النهضة"
          ],
          [
           4,
           105,
           "حي النهضة"
          ],
          [
           5,
           1,
           "حي النهضة"
          ],
          [
           3.1,
           28,
           "حي النهضة"
          ],
          [
           4.3,
           6,
           "حي النهضة"
          ],
          [
           3,
           2,
           "حي النهضة"
          ],
          [
           3.5,
           6,
           "حي النهضة"
          ],
          [
           4,
           4,
           "حي النهضة"
          ],
          [
           4,
           4,
           "حي النهضة"
          ],
          [
           2,
           5,
           "حي النهضة"
          ],
          [
           null,
           0,
           "حي النهضة"
          ],
          [
           4.6,
           12,
           "حي النهضة"
          ],
          [
           5,
           11,
           "حي النهضة"
          ],
          [
           null,
           0,
           "حي النهضة"
          ],
          [
           4.1,
           86,
           "حي النهضة"
          ],
          [
           4.7,
           15,
           "حي النهضة"
          ],
          [
           4.4,
           128,
           "حي النهضة"
          ],
          [
           5,
           1,
           "حي النهضة"
          ],
          [
           5,
           1,
           "حي النهضة"
          ],
          [
           null,
           0,
           "حي النهضة"
          ],
          [
           3.8,
           84,
           "حي النهضة"
          ],
          [
           3.5,
           150,
           "حي النهضة"
          ],
          [
           4.7,
           13,
           "حي النهضة"
          ],
          [
           3.7,
           293,
           "حي النهضة"
          ],
          [
           3.1,
           16,
           "حي النهضة"
          ],
          [
           3.7,
           1336,
           "حي الأندلس"
          ],
          [
           4,
           423,
           "حي الأندلس"
          ],
          [
           3,
           27,
           "حي الأندلس"
          ],
          [
           3.8,
           589,
           "حي الأندلس"
          ],
          [
           3.9,
           2735,
           "حي الأندلس"
          ],
          [
           3.7,
           1331,
           "حي الأندلس"
          ],
          [
           3.8,
           8468,
           "حي الأندلس"
          ],
          [
           3.3,
           827,
           "حي الأندلس"
          ],
          [
           3.5,
           975,
           "حي الأندلس"
          ],
          [
           3.8,
           994,
           "حي الأندلس"
          ],
          [
           3.7,
           2198,
           "حي الأندلس"
          ],
          [
           3.9,
           3797,
           "حي الأندلس"
          ],
          [
           4.1,
           304,
           "حي الأندلس"
          ],
          [
           3.8,
           435,
           "حي الأندلس"
          ],
          [
           3.6,
           1128,
           "حي الأندلس"
          ],
          [
           3.8,
           1294,
           "حي الأندلس"
          ],
          [
           4.1,
           11464,
           "حي الأندلس"
          ],
          [
           4,
           189,
           "حي الأندلس"
          ],
          [
           3.3,
           1007,
           "حي الأندلس"
          ],
          [
           4.3,
           808,
           "حي الأندلس"
          ],
          [
           4,
           760,
           "حي الأندلس"
          ],
          [
           3.8,
           710,
           "حي الأندلس"
          ],
          [
           3.8,
           491,
           "حي الأندلس"
          ],
          [
           3.7,
           1459,
           "حي الأندلس"
          ],
          [
           3.9,
           1253,
           "حي الأندلس"
          ],
          [
           3.9,
           790,
           "حي الأندلس"
          ],
          [
           3.2,
           1068,
           "حي الأندلس"
          ],
          [
           4.2,
           351,
           "حي الأندلس"
          ],
          [
           3.2,
           1179,
           "حي الأندلس"
          ],
          [
           3.4,
           1705,
           "حي الأندلس"
          ],
          [
           3.8,
           1092,
           "حي الأندلس"
          ],
          [
           3.8,
           1459,
           "حي الأندلس"
          ],
          [
           3.4,
           1224,
           "حي الأندلس"
          ],
          [
           3.8,
           1792,
           "حي الأندلس"
          ],
          [
           3.9,
           1166,
           "حي الأندلس"
          ],
          [
           3.8,
           2261,
           "حي الأندلس"
          ],
          [
           3.7,
           881,
           "حي الأندلس"
          ],
          [
           3.9,
           891,
           "حي الأندلس"
          ],
          [
           4,
           963,
           "حي الأندلس"
          ],
          [
           3.7,
           4198,
           "حي الأندلس"
          ],
          [
           3.7,
           955,
           "حي الأندلس"
          ],
          [
           4,
           2630,
           "حي الأندلس"
          ],
          [
           3.9,
           292,
           "حي الأندلس"
          ],
          [
           3.9,
           1484,
           "حي الأندلس"
          ],
          [
           3.4,
           1776,
           "حي الأندلس"
          ],
          [
           4.4,
           12217,
           "حي الأندلس"
          ],
          [
           3.6,
           2016,
           "حي الأندلس"
          ],
          [
           3.6,
           216,
           "حي الأندلس"
          ],
          [
           3.6,
           1465,
           "حي الأندلس"
          ],
          [
           3.9,
           888,
           "حي الأندلس"
          ],
          [
           3.7,
           1427,
           "حي الأندلس"
          ],
          [
           3.8,
           3377,
           "حي الأندلس"
          ],
          [
           4.1,
           641,
           "حي الأندلس"
          ],
          [
           3.7,
           853,
           "حي الأندلس"
          ],
          [
           3.9,
           896,
           "حي الأندلس"
          ],
          [
           3.8,
           278,
           "حي الأندلس"
          ],
          [
           3.9,
           734,
           "حي الأندلس"
          ],
          [
           3.8,
           994,
           "حي الأندلس"
          ],
          [
           4.1,
           845,
           "حي الأندلس"
          ],
          [
           3.8,
           547,
           "حي الأندلس"
          ],
          [
           4,
           444,
           "حي القدس"
          ],
          [
           3.7,
           682,
           "حي القدس"
          ],
          [
           3.6,
           1467,
           "حي القدس"
          ],
          [
           4,
           369,
           "حي القدس"
          ],
          [
           3.4,
           677,
           "حي القدس"
          ],
          [
           3.9,
           294,
           "حي القدس"
          ],
          [
           5,
           4,
           "حي القدس"
          ],
          [
           3.8,
           397,
           "حي القدس"
          ],
          [
           4.1,
           8,
           "حي القدس"
          ],
          [
           4.2,
           24,
           "حي القدس"
          ],
          [
           3.6,
           46,
           "حي القدس"
          ],
          [
           3.7,
           26,
           "حي القدس"
          ],
          [
           3.9,
           97,
           "حي القدس"
          ],
          [
           3.7,
           172,
           "حي القدس"
          ],
          [
           5,
           14,
           "حي القدس"
          ],
          [
           4.2,
           25,
           "حي القدس"
          ],
          [
           5,
           3,
           "حي القدس"
          ],
          [
           4,
           4,
           "حي القدس"
          ],
          [
           null,
           0,
           "حي القدس"
          ],
          [
           3.8,
           13,
           "حي القدس"
          ],
          [
           5,
           7,
           "حي القدس"
          ],
          [
           5,
           9,
           "حي القدس"
          ],
          [
           4,
           986,
           "حي القدس"
          ],
          [
           5,
           1,
           "حي القدس"
          ],
          [
           null,
           0,
           "حي القدس"
          ],
          [
           3,
           2,
           "حي القدس"
          ],
          [
           null,
           0,
           "حي القدس"
          ],
          [
           null,
           0,
           "حي القدس"
          ],
          [
           null,
           0,
           "حي القدس"
          ],
          [
           5,
           3,
           "حي القدس"
          ],
          [
           null,
           0,
           "حي القدس"
          ],
          [
           null,
           0,
           "حي القدس"
          ],
          [
           null,
           0,
           "حي القدس"
          ],
          [
           null,
           0,
           "حي القدس"
          ],
          [
           4.2,
           473,
           "حي القدس"
          ],
          [
           4.3,
           562,
           "حي القدس"
          ],
          [
           4.2,
           381,
           "حي القدس"
          ],
          [
           4.4,
           30,
           "حي القدس"
          ],
          [
           3.8,
           193,
           "حي القدس"
          ],
          [
           null,
           0,
           "حي القدس"
          ],
          [
           5,
           4,
           "حي القدس"
          ],
          [
           3.7,
           85,
           "حي القدس"
          ],
          [
           3.6,
           24,
           "حي القدس"
          ],
          [
           4,
           107,
           "حي القدس"
          ],
          [
           5,
           2,
           "حي القدس"
          ],
          [
           3.9,
           39,
           "حي القدس"
          ],
          [
           4.3,
           23,
           "حي القدس"
          ],
          [
           5,
           1,
           "حي القدس"
          ],
          [
           4.1,
           36,
           "حي القدس"
          ],
          [
           3.6,
           8,
           "حي القدس"
          ],
          [
           4.4,
           21,
           "حي القدس"
          ],
          [
           null,
           0,
           "حي القدس"
          ],
          [
           3.8,
           68,
           "حي القدس"
          ],
          [
           3.7,
           48,
           "حي القدس"
          ],
          [
           3.7,
           365,
           "حي القدس"
          ],
          [
           null,
           0,
           "حي القدس"
          ],
          [
           4.1,
           168,
           "حي القدس"
          ],
          [
           4.5,
           331,
           "حي القدس"
          ],
          [
           4.7,
           21,
           "حي القدس"
          ],
          [
           3.9,
           17,
           "حي القدس"
          ],
          [
           3.7,
           1336,
           "حي الخليج"
          ],
          [
           3.5,
           2755,
           "حي الخليج"
          ],
          [
           4,
           423,
           "حي الخليج"
          ],
          [
           3,
           27,
           "حي الخليج"
          ],
          [
           4,
           1721,
           "حي الخليج"
          ],
          [
           3.9,
           11310,
           "حي الخليج"
          ],
          [
           4.3,
           10550,
           "حي الخليج"
          ],
          [
           3.8,
           8468,
           "حي الخليج"
          ],
          [
           3.7,
           2198,
           "حي الخليج"
          ],
          [
           3.9,
           2735,
           "حي الخليج"
          ],
          [
           3.8,
           589,
           "حي الخليج"
          ],
          [
           4.3,
           23691,
           "حي الخليج"
          ],
          [
           3.6,
           1707,
           "حي الخليج"
          ],
          [
           3.7,
           1331,
           "حي الخليج"
          ],
          [
           3.8,
           1803,
           "حي الخليج"
          ],
          [
           3.8,
           639,
           "حي الخليج"
          ],
          [
           3.8,
           994,
           "حي الخليج"
          ],
          [
           3.3,
           827,
           "حي الخليج"
          ],
          [
           3.5,
           975,
           "حي الخليج"
          ],
          [
           3.9,
           1944,
           "حي الخليج"
          ],
          [
           3.8,
           6168,
           "حي الخليج"
          ],
          [
           4.1,
           11464,
           "حي الخليج"
          ],
          [
           3.8,
           1376,
           "حي الخليج"
          ],
          [
           4.1,
           8499,
           "حي الخليج"
          ],
          [
           4.3,
           1543,
           "حي الخليج"
          ],
          [
           4.1,
           74,
           "حي الخليج"
          ],
          [
           3.7,
           380,
           "حي الخليج"
          ],
          [
           3.6,
           1452,
           "حي الخليج"
          ],
          [
           3.9,
           2399,
           "حي الخليج"
          ],
          [
           3.7,
           649,
           "حي الخليج"
          ],
          [
           3.9,
           4618,
           "حي الخليج"
          ],
          [
           3.9,
           719,
           "حي الخليج"
          ],
          [
           3.7,
           681,
           "حي الخليج"
          ],
          [
           3.3,
           1007,
           "حي الخليج"
          ],
          [
           3.6,
           1311,
           "حي الخليج"
          ],
          [
           4.3,
           7203,
           "حي الخليج"
          ],
          [
           4,
           1024,
           "حي الخليج"
          ],
          [
           3.5,
           2022,
           "حي الخليج"
          ],
          [
           3.7,
           452,
           "حي الخليج"
          ],
          [
           3.9,
           790,
           "حي الخليج"
          ],
          [
           3.8,
           896,
           "حي الخليج"
          ],
          [
           4.1,
           1057,
           "حي الخليج"
          ],
          [
           4.2,
           4534,
           "حي الخليج"
          ],
          [
           4.2,
           9584,
           "حي الخليج"
          ],
          [
           3.8,
           1294,
           "حي الخليج"
          ],
          [
           3.6,
           4796,
           "حي الخليج"
          ],
          [
           3.9,
           3568,
           "حي الخليج"
          ],
          [
           3.7,
           2042,
           "حي الخليج"
          ],
          [
           3.5,
           746,
           "حي الخليج"
          ],
          [
           4.7,
           5105,
           "حي الخليج"
          ],
          [
           3.8,
           341,
           "حي الخليج"
          ],
          [
           3.8,
           1219,
           "حي الخليج"
          ],
          [
           3.7,
           1210,
           "حي الخليج"
          ],
          [
           4.2,
           8154,
           "حي الخليج"
          ],
          [
           4.2,
           9460,
           "حي الخليج"
          ],
          [
           3.6,
           872,
           "حي الخليج"
          ],
          [
           3.8,
           1081,
           "حي الخليج"
          ],
          [
           3.5,
           1825,
           "حي الخليج"
          ],
          [
           3.7,
           1370,
           "حي الخليج"
          ],
          [
           3.6,
           1244,
           "حي الخليج"
          ],
          [
           3.7,
           1336,
           "حي الحمراء"
          ],
          [
           3.5,
           2755,
           "حي الحمراء"
          ],
          [
           4,
           423,
           "حي الحمراء"
          ],
          [
           3,
           27,
           "حي الحمراء"
          ],
          [
           4,
           1721,
           "حي الحمراء"
          ],
          [
           3.9,
           11310,
           "حي الحمراء"
          ],
          [
           4.3,
           10550,
           "حي الحمراء"
          ],
          [
           3.8,
           8468,
           "حي الحمراء"
          ],
          [
           3.7,
           2198,
           "حي الحمراء"
          ],
          [
           3.9,
           2735,
           "حي الحمراء"
          ],
          [
           3.8,
           589,
           "حي الحمراء"
          ],
          [
           4.3,
           23691,
           "حي الحمراء"
          ],
          [
           3.6,
           1707,
           "حي الحمراء"
          ],
          [
           3.7,
           1331,
           "حي الحمراء"
          ],
          [
           3.8,
           1803,
           "حي الحمراء"
          ],
          [
           3.8,
           639,
           "حي الحمراء"
          ],
          [
           3.8,
           994,
           "حي الحمراء"
          ],
          [
           3.3,
           827,
           "حي الحمراء"
          ],
          [
           3.5,
           975,
           "حي الحمراء"
          ],
          [
           3.9,
           1944,
           "حي الحمراء"
          ],
          [
           3.8,
           6168,
           "حي الحمراء"
          ],
          [
           4.1,
           11464,
           "حي الحمراء"
          ],
          [
           3.8,
           1376,
           "حي الحمراء"
          ],
          [
           4.3,
           1543,
           "حي الحمراء"
          ],
          [
           4.1,
           8499,
           "حي الحمراء"
          ],
          [
           4.1,
           74,
           "حي الحمراء"
          ],
          [
           3.7,
           380,
           "حي الحمراء"
          ],
          [
           3.6,
           1452,
           "حي الحمراء"
          ],
          [
           3.9,
           2399,
           "حي الحمراء"
          ],
          [
           3.7,
           649,
           "حي الحمراء"
          ],
          [
           3.9,
           4618,
           "حي الحمراء"
          ],
          [
           3.7,
           681,
           "حي الحمراء"
          ],
          [
           3.9,
           719,
           "حي الحمراء"
          ],
          [
           3.3,
           1007,
           "حي الحمراء"
          ],
          [
           3.6,
           1311,
           "حي الحمراء"
          ],
          [
           4.3,
           7203,
           "حي الحمراء"
          ],
          [
           3.9,
           790,
           "حي الحمراء"
          ],
          [
           4,
           1024,
           "حي الحمراء"
          ],
          [
           3.5,
           2022,
           "حي الحمراء"
          ],
          [
           3.7,
           452,
           "حي الحمراء"
          ],
          [
           3.8,
           896,
           "حي الحمراء"
          ],
          [
           4.1,
           1057,
           "حي الحمراء"
          ],
          [
           3.8,
           1294,
           "حي الحمراء"
          ],
          [
           4.2,
           9584,
           "حي الحمراء"
          ],
          [
           4.2,
           4534,
           "حي الحمراء"
          ],
          [
           3.6,
           4796,
           "حي الحمراء"
          ],
          [
           3.7,
           2042,
           "حي الحمراء"
          ],
          [
           3.9,
           3568,
           "حي الحمراء"
          ],
          [
           3.5,
           746,
           "حي الحمراء"
          ],
          [
           3.8,
           341,
           "حي الحمراء"
          ],
          [
           4.7,
           5105,
           "حي الحمراء"
          ],
          [
           3.8,
           1219,
           "حي الحمراء"
          ],
          [
           3.7,
           1210,
           "حي الحمراء"
          ],
          [
           4.2,
           8154,
           "حي الحمراء"
          ],
          [
           3.6,
           872,
           "حي الحمراء"
          ],
          [
           4.2,
           9460,
           "حي الحمراء"
          ],
          [
           3.8,
           1081,
           "حي الحمراء"
          ],
          [
           3.5,
           1825,
           "حي الحمراء"
          ],
          [
           3.7,
           1370,
           "حي الحمراء"
          ],
          [
           3.8,
           2246,
           "حي الحمراء"
          ]
         ],
         "geo": "geo",
         "hovertemplate": "<b>%{hovertext}</b><br><br>Number of Ratings=%{customdata[1]}<br>Latitude=%{lat}<br>Longitude=%{lon}<br>Rating=%{marker.color}<br>neighborhood=%{customdata[2]}<extra></extra>",
         "hovertext": [
          "فندق ميرا",
          "مركز ماي كار لصيانة السيارات الاوروبية",
          "Luthan Hotel and Spa",
          "Dining Hall",
          "Sushi Yoshi",
          "Najd Village",
          "Wooden Bakery",
          "Najd Village",
          "KFC",
          "McDonald's",
          "Domino's Pizza",
          "Mama Noura",
          "Burger King - Al Quds",
          "Derati Restaurant",
          "Kudu - Al Rayyan",
          "Dominos",
          "Derati Restaurants & Kitchens",
          "Hardee's",
          "KFC",
          "Kudu - Al Malaz",
          "Mama Noura",
          "قصر الهند",
          "Herfy",
          "Al Jalab Restaurant",
          "Al Romansiah",
          "Al Nafoura Restaurant",
          "Diet Center - دايت سنتر",
          "KFC",
          "Herfy",
          "Kudu - Al Seteen Palace",
          "Little Caesars Pizza! Pizza! !ليتل سيزرز بيتزا! بيتزا",
          "Al Saudi Restaurant",
          "Little Caesars Pizza! Pizza! !ليتل سيزرز بيتزا! بيتزا",
          "Little Caesars Pizza! Pizza! !ليتل سيزرز بيتزا! بيتزا",
          "Burger King - Bin Turkey",
          "Burger King - Exit 28",
          "KFC",
          "TOKYO",
          "Sheikh Al-Mandi Restaurant",
          "Kudu - Al Wurud",
          "Al Romansiah",
          "Subway",
          "Herfy",
          "برجر كاسل",
          "وايت قاردن",
          "Al Tazaj",
          "McDonald's",
          "Subway",
          "McDonald's",
          "KFC",
          "Herfy",
          "Fairmont Riyadh",
          "Burger King - Exit 8 Dammam Rd",
          "Al Romansiah Restaurant - Al Nasseem District",
          "Al Romansiah",
          "KFC",
          "Herfy",
          "Herfy",
          "Burger King - Rawdah",
          "KFC",
          "فندق ميرا",
          "مركز ماي كار لصيانة السيارات الاوروبية",
          "Luthan Hotel and Spa",
          "Dining Hall",
          "Sushi Yoshi",
          "Najd Village",
          "Wooden Bakery",
          "Najd Village",
          "KFC",
          "McDonald's",
          "Domino's Pizza",
          "Mama Noura",
          "Burger King - Al Quds",
          "Derati Restaurant",
          "Kudu - Al Rayyan",
          "Dominos",
          "Derati Restaurants & Kitchens",
          "Hardee's",
          "KFC",
          "Kudu - Al Malaz",
          "Mama Noura",
          "قصر الهند",
          "Herfy",
          "Al Jalab Restaurant",
          "Al Romansiah",
          "Al Nafoura Restaurant",
          "Diet Center - دايت سنتر",
          "Herfy",
          "KFC",
          "Kudu - Al Seteen Palace",
          "Little Caesars Pizza! Pizza! !ليتل سيزرز بيتزا! بيتزا",
          "Al Saudi Restaurant",
          "Little Caesars Pizza! Pizza! !ليتل سيزرز بيتزا! بيتزا",
          "Burger King - Bin Turkey",
          "Little Caesars Pizza! Pizza! !ليتل سيزرز بيتزا! بيتزا",
          "Burger King - Exit 28",
          "KFC",
          "TOKYO",
          "Sheikh Al-Mandi Restaurant",
          "Kudu - Al Wurud",
          "Al Romansiah",
          "Subway",
          "Herfy",
          "برجر كاسل",
          "وايت قاردن",
          "Al Tazaj",
          "McDonald's",
          "Subway",
          "McDonald's",
          "Herfy",
          "KFC",
          "Fairmont Riyadh",
          "Burger King - Exit 8 Dammam Rd",
          "Al Romansiah Restaurant - Al Nasseem District",
          "Al Romansiah",
          "Herfy",
          "KFC",
          "Herfy",
          "Burger King - Rawdah",
          "KFC",
          "فندق ميرا",
          "مركز ماي كار لصيانة السيارات الاوروبية",
          "Luthan Hotel and Spa",
          "Dining Hall",
          "Sushi Yoshi",
          "Najd Village",
          "Wooden Bakery",
          "Najd Village",
          "KFC",
          "McDonald's",
          "Domino's Pizza",
          "Mama Noura",
          "Burger King - Al Quds",
          "Derati Restaurant",
          "Kudu - Al Rayyan",
          "Dominos",
          "Derati Restaurants & Kitchens",
          "Hardee's",
          "KFC",
          "Kudu - Al Malaz",
          "Mama Noura",
          "قصر الهند",
          "Herfy",
          "Al Jalab Restaurant",
          "Al Romansiah",
          "Al Nafoura Restaurant",
          "Diet Center - دايت سنتر",
          "Herfy",
          "KFC",
          "Kudu - Al Seteen Palace",
          "Little Caesars Pizza! Pizza! !ليتل سيزرز بيتزا! بيتزا",
          "Al Saudi Restaurant",
          "Little Caesars Pizza! Pizza! !ليتل سيزرز بيتزا! بيتزا",
          "Burger King - Bin Turkey",
          "Little Caesars Pizza! Pizza! !ليتل سيزرز بيتزا! بيتزا",
          "Burger King - Exit 28",
          "KFC",
          "TOKYO",
          "Sheikh Al-Mandi Restaurant",
          "Kudu - Al Wurud",
          "Al Romansiah",
          "Subway",
          "Herfy",
          "برجر كاسل",
          "وايت قاردن",
          "Al Tazaj",
          "McDonald's",
          "Subway",
          "McDonald's",
          "Herfy",
          "KFC",
          "Fairmont Riyadh",
          "Burger King - Exit 8 Dammam Rd",
          "Al Romansiah Restaurant - Al Nasseem District",
          "Al Romansiah",
          "Herfy",
          "KFC",
          "Herfy",
          "Burger King - Rawdah",
          "KFC",
          "فندق ميرا",
          "مركز ماي كار لصيانة السيارات الاوروبية",
          "Luthan Hotel and Spa",
          "Dining Hall",
          "Sushi Yoshi",
          "Najd Village",
          "Wooden Bakery",
          "Najd Village",
          "KFC",
          "McDonald's",
          "Domino's Pizza",
          "Mama Noura",
          "Burger King - Al Quds",
          "Derati Restaurant",
          "Kudu - Al Rayyan",
          "Dominos",
          "Derati Restaurants & Kitchens",
          "Hardee's",
          "KFC",
          "Kudu - Al Malaz",
          "Mama Noura",
          "قصر الهند",
          "Herfy",
          "Al Jalab Restaurant",
          "Al Romansiah",
          "Al Nafoura Restaurant",
          "Diet Center - دايت سنتر",
          "KFC",
          "Herfy",
          "Kudu - Al Seteen Palace",
          "Little Caesars Pizza! Pizza! !ليتل سيزرز بيتزا! بيتزا",
          "Al Saudi Restaurant",
          "Little Caesars Pizza! Pizza! !ليتل سيزرز بيتزا! بيتزا",
          "Little Caesars Pizza! Pizza! !ليتل سيزرز بيتزا! بيتزا",
          "Burger King - Bin Turkey",
          "Burger King - Exit 28",
          "KFC",
          "TOKYO",
          "Sheikh Al-Mandi Restaurant",
          "Kudu - Al Wurud",
          "Al Romansiah",
          "Subway",
          "Herfy",
          "برجر كاسل",
          "وايت قاردن",
          "Al Tazaj",
          "McDonald's",
          "Subway",
          "McDonald's",
          "Herfy",
          "KFC",
          "Fairmont Riyadh",
          "Burger King - Exit 8 Dammam Rd",
          "Al Romansiah Restaurant - Al Nasseem District",
          "Al Romansiah",
          "Herfy",
          "KFC",
          "Herfy",
          "Burger King - Rawdah",
          "KFC",
          "فندق ميرا",
          "مركز ماي كار لصيانة السيارات الاوروبية",
          "Luthan Hotel and Spa",
          "Dining Hall",
          "Sushi Yoshi",
          "Najd Village",
          "Wooden Bakery",
          "Najd Village",
          "KFC",
          "McDonald's",
          "Domino's Pizza",
          "Mama Noura",
          "Burger King - Al Quds",
          "Derati Restaurant",
          "Kudu - Al Rayyan",
          "Dominos",
          "Derati Restaurants & Kitchens",
          "Hardee's",
          "KFC",
          "Kudu - Al Malaz",
          "Mama Noura",
          "قصر الهند",
          "Herfy",
          "Al Jalab Restaurant",
          "Al Romansiah",
          "Al Nafoura Restaurant",
          "Diet Center - دايت سنتر",
          "KFC",
          "Herfy",
          "Kudu - Al Seteen Palace",
          "Little Caesars Pizza! Pizza! !ليتل سيزرز بيتزا! بيتزا",
          "Al Saudi Restaurant",
          "Little Caesars Pizza! Pizza! !ليتل سيزرز بيتزا! بيتزا",
          "Little Caesars Pizza! Pizza! !ليتل سيزرز بيتزا! بيتزا",
          "Burger King - Bin Turkey",
          "Burger King - Exit 28",
          "KFC",
          "TOKYO",
          "Sheikh Al-Mandi Restaurant",
          "Kudu - Al Wurud",
          "Al Romansiah",
          "Subway",
          "Herfy",
          "برجر كاسل",
          "وايت قاردن",
          "Al Tazaj",
          "McDonald's",
          "Subway",
          "McDonald's",
          "KFC",
          "Herfy",
          "Fairmont Riyadh",
          "Burger King - Exit 8 Dammam Rd",
          "Al Romansiah Restaurant - Al Nasseem District",
          "Al Romansiah",
          "KFC",
          "Herfy",
          "Herfy",
          "Burger King - Rawdah",
          "KFC",
          "فندق ميرا",
          "مركز ماي كار لصيانة السيارات الاوروبية",
          "Luthan Hotel and Spa",
          "Dining Hall",
          "Sushi Yoshi",
          "Najd Village",
          "Wooden Bakery",
          "Najd Village",
          "KFC",
          "McDonald's",
          "Domino's Pizza",
          "Mama Noura",
          "Burger King - Al Quds",
          "Derati Restaurant",
          "Kudu - Al Rayyan",
          "Dominos",
          "Derati Restaurants & Kitchens",
          "Hardee's",
          "KFC",
          "Kudu - Al Malaz",
          "Mama Noura",
          "قصر الهند",
          "Herfy",
          "Al Jalab Restaurant",
          "Al Romansiah",
          "Al Nafoura Restaurant",
          "Herfy",
          "Diet Center - دايت سنتر",
          "KFC",
          "Kudu - Al Seteen Palace",
          "Little Caesars Pizza! Pizza! !ليتل سيزرز بيتزا! بيتزا",
          "Al Saudi Restaurant",
          "Burger King - Bin Turkey",
          "Little Caesars Pizza! Pizza! !ليتل سيزرز بيتزا! بيتزا",
          "Little Caesars Pizza! Pizza! !ليتل سيزرز بيتزا! بيتزا",
          "Burger King - Exit 28",
          "KFC",
          "TOKYO",
          "Kudu - Al Wurud",
          "Sheikh Al-Mandi Restaurant",
          "Al Romansiah",
          "Herfy",
          "Subway",
          "برجر كاسل",
          "وايت قاردن",
          "Al Tazaj",
          "McDonald's",
          "Subway",
          "McDonald's",
          "Herfy",
          "KFC",
          "Fairmont Riyadh",
          "Burger King - Exit 8 Dammam Rd",
          "Al Romansiah Restaurant - Al Nasseem District",
          "Al Romansiah",
          "Herfy",
          "KFC",
          "Herfy",
          "Burger King - Rawdah",
          "KFC",
          "مطعم نيوم",
          "بوفية الرفقة",
          "بوفية خفايف",
          "بوفية السلاطين",
          "مطعم سما دبي",
          "Swat restaurant",
          "مطعم كشمير البخاري",
          "ركن الكنافة",
          "بوفيه خبزه وحمسات",
          "بوفية اسماء العتيبي",
          "شكوكلاته الذائبة",
          "بوفية الاريج",
          "بوفية فول فلافل لتقديم الوجبات",
          "Kerala hotel",
          "حلاالطازج للعصائر",
          "سربستوني",
          "بوفية الحياة",
          "بوفية الشباب",
          "مطعم بنغالي",
          "فوال و مطبق نورة",
          "معصوب الراقي",
          "مطعم معصوب ملكي",
          "بوفية نجد الجزيرة لتقديم الوجبات",
          "بوفية البكري",
          "بوفية كبده طازج",
          "مذاق الدجاج للوجبات السريعة",
          "مطاعم ومطابخ المذاق المثلوثه",
          "مطعم الحديقة",
          "مطعم فلافل العرض",
          "Burger Roma",
          "Bait ul bokhari",
          "فوال",
          "محل لذيذ للايسكريم",
          "مطاعم قلعة الفرسان لتقديم الوجبات",
          "بوفيه السلاطين",
          "مطعم الهاجري",
          "Pakistani Restaurant مطعم باكستاني",
          "Pakistan Swat Restaurant",
          "مطعم بخاري",
          "بوفيه زنجر",
          "مركز طحي",
          "بوفيه السلاطين",
          "بوفية شعبيات العسلي",
          "Pakistani Hotel",
          "مطعم فامبا",
          "محطة العمودي",
          "مطبخ سنام الحديث",
          "بوفيه توت وعنب",
          "مطعم البراك",
          "Mazaq Pakistani Hotel",
          "مطعم البخاري الباكستاني",
          "مخيم افطارصايم جمعيه عروي الخيريه",
          "Pakistani hotel",
          "Camp Messhall",
          "Restaurant and Buffet Arabism",
          "مطعم السحاب",
          "مسلخ ومطبخ بصير",
          "مقرمشات فيصل دعكيك",
          "Peshawari hotel",
          "مكه المكرمه",
          "فندق ميرا",
          "مركز ماي كار لصيانة السيارات الاوروبية",
          "Luthan Hotel and Spa",
          "Dining Hall",
          "Sushi Yoshi",
          "Najd Village",
          "Wooden Bakery",
          "Najd Village",
          "KFC",
          "McDonald's",
          "Domino's Pizza",
          "Mama Noura",
          "Burger King - Al Quds",
          "Derati Restaurant",
          "Kudu - Al Rayyan",
          "Dominos",
          "Derati Restaurants & Kitchens",
          "Hardee's",
          "KFC",
          "Kudu - Al Malaz",
          "Mama Noura",
          "قصر الهند",
          "Herfy",
          "Al Jalab Restaurant",
          "Al Romansiah",
          "Herfy",
          "Al Nafoura Restaurant",
          "Diet Center - دايت سنتر",
          "KFC",
          "Kudu - Al Seteen Palace",
          "Little Caesars Pizza! Pizza! !ليتل سيزرز بيتزا! بيتزا",
          "Al Saudi Restaurant",
          "Burger King - Bin Turkey",
          "Little Caesars Pizza! Pizza! !ليتل سيزرز بيتزا! بيتزا",
          "Little Caesars Pizza! Pizza! !ليتل سيزرز بيتزا! بيتزا",
          "KFC",
          "TOKYO",
          "Burger King - Exit 28",
          "Kudu - Al Wurud",
          "Sheikh Al-Mandi Restaurant",
          "Herfy",
          "Subway",
          "برجر كاسل",
          "Al Romansiah",
          "وايت قاردن",
          "Al Tazaj",
          "McDonald's",
          "McDonald's",
          "Subway",
          "Herfy",
          "KFC",
          "Fairmont Riyadh",
          "Burger King - Exit 8 Dammam Rd",
          "Al Romansiah Restaurant - Al Nasseem District",
          "Herfy",
          "Al Romansiah",
          "KFC",
          "Herfy",
          "Burger King - Rawdah",
          "KFC",
          "فندق ميرا",
          "مركز ماي كار لصيانة السيارات الاوروبية",
          "Luthan Hotel and Spa",
          "Dining Hall",
          "Sushi Yoshi",
          "Najd Village",
          "Wooden Bakery",
          "Najd Village",
          "KFC",
          "McDonald's",
          "Domino's Pizza",
          "Mama Noura",
          "Burger King - Al Quds",
          "Derati Restaurant",
          "Kudu - Al Rayyan",
          "Dominos",
          "Derati Restaurants & Kitchens",
          "Hardee's",
          "KFC",
          "Kudu - Al Malaz",
          "Mama Noura",
          "قصر الهند",
          "Herfy",
          "Al Jalab Restaurant",
          "Al Romansiah",
          "Herfy",
          "Diet Center - دايت سنتر",
          "KFC",
          "Kudu - Al Seteen Palace",
          "Little Caesars Pizza! Pizza! !ليتل سيزرز بيتزا! بيتزا",
          "Al Nafoura Restaurant",
          "Al Saudi Restaurant",
          "Burger King - Bin Turkey",
          "Little Caesars Pizza! Pizza! !ليتل سيزرز بيتزا! بيتزا",
          "KFC",
          "Little Caesars Pizza! Pizza! !ليتل سيزرز بيتزا! بيتزا",
          "TOKYO",
          "Kudu - Al Wurud",
          "Sheikh Al-Mandi Restaurant",
          "Burger King - Exit 28",
          "Herfy",
          "Subway",
          "برجر كاسل",
          "Al Romansiah",
          "وايت قاردن",
          "Al Tazaj",
          "McDonald's",
          "McDonald's",
          "Subway",
          "Herfy",
          "Fairmont Riyadh",
          "KFC",
          "Burger King - Exit 8 Dammam Rd",
          "Al Romansiah Restaurant - Al Nasseem District",
          "Herfy",
          "Al Romansiah",
          "Herfy",
          "KFC",
          "Burger King - Rawdah",
          "KFC",
          "فندق ميرا",
          "مركز ماي كار لصيانة السيارات الاوروبية",
          "Luthan Hotel and Spa",
          "Dining Hall",
          "Sushi Yoshi",
          "Najd Village",
          "Wooden Bakery",
          "Najd Village",
          "KFC",
          "McDonald's",
          "Domino's Pizza",
          "Mama Noura",
          "Burger King - Al Quds",
          "Derati Restaurant",
          "Kudu - Al Rayyan",
          "Dominos",
          "Derati Restaurants & Kitchens",
          "Hardee's",
          "KFC",
          "Kudu - Al Malaz",
          "قصر الهند",
          "Mama Noura",
          "Herfy",
          "Al Jalab Restaurant",
          "Al Romansiah",
          "Herfy",
          "Little Caesars Pizza! Pizza! !ليتل سيزرز بيتزا! بيتزا",
          "Kudu - Al Seteen Palace",
          "Diet Center - دايت سنتر",
          "Burger King - Bin Turkey",
          "KFC",
          "Little Caesars Pizza! Pizza! !ليتل سيزرز بيتزا! بيتزا",
          "Al Saudi Restaurant",
          "Al Nafoura Restaurant",
          "TOKYO",
          "Kudu - Al Wurud",
          "KFC",
          "Sheikh Al-Mandi Restaurant",
          "Herfy",
          "Little Caesars Pizza! Pizza! !ليتل سيزرز بيتزا! بيتزا",
          "برجر كاسل",
          "Subway",
          "وايت قاردن",
          "Burger King - Exit 28",
          "Al Tazaj",
          "McDonald's",
          "McDonald's",
          "Herfy",
          "Fairmont Riyadh",
          "Subway",
          "Burger King - Exit 8 Dammam Rd",
          "Al Romansiah",
          "KFC",
          "Herfy",
          "Al Romansiah Restaurant - Al Nasseem District",
          "KFC",
          "Herfy",
          "Burger King - Rawdah",
          "KFC",
          "Pizza Era",
          "فندق ميرا",
          "مركز ماي كار لصيانة السيارات الاوروبية",
          "Luthan Hotel and Spa",
          "Dining Hall",
          "Sushi Yoshi",
          "Najd Village",
          "Wooden Bakery",
          "Najd Village",
          "KFC",
          "McDonald's",
          "Domino's Pizza",
          "Mama Noura",
          "Burger King - Al Quds",
          "Derati Restaurant",
          "Kudu - Al Rayyan",
          "Dominos",
          "Derati Restaurants & Kitchens",
          "Hardee's",
          "KFC",
          "Kudu - Al Malaz",
          "قصر الهند",
          "Mama Noura",
          "Herfy",
          "Al Jalab Restaurant",
          "Al Romansiah",
          "Herfy",
          "Diet Center - دايت سنتر",
          "Kudu - Al Seteen Palace",
          "KFC",
          "Little Caesars Pizza! Pizza! !ليتل سيزرز بيتزا! بيتزا",
          "Burger King - Bin Turkey",
          "Al Saudi Restaurant",
          "Little Caesars Pizza! Pizza! !ليتل سيزرز بيتزا! بيتزا",
          "Al Nafoura Restaurant",
          "TOKYO",
          "KFC",
          "Kudu - Al Wurud",
          "Little Caesars Pizza! Pizza! !ليتل سيزرز بيتزا! بيتزا",
          "Sheikh Al-Mandi Restaurant",
          "Herfy",
          "Subway",
          "برجر كاسل",
          "Burger King - Exit 28",
          "وايت قاردن",
          "Al Tazaj",
          "Al Romansiah",
          "McDonald's",
          "McDonald's",
          "Herfy",
          "Fairmont Riyadh",
          "Subway",
          "KFC",
          "Burger King - Exit 8 Dammam Rd",
          "Al Romansiah Restaurant - Al Nasseem District",
          "Herfy",
          "Herfy",
          "KFC",
          "Al Romansiah",
          "Burger King - Rawdah",
          "KFC",
          "فندق ميرا",
          "مركز ماي كار لصيانة السيارات الاوروبية",
          "Luthan Hotel and Spa",
          "Dining Hall",
          "Sushi Yoshi",
          "Najd Village",
          "Wooden Bakery",
          "Najd Village",
          "Domino's Pizza",
          "KFC",
          "McDonald's",
          "Mama Noura",
          "Burger King - Al Quds",
          "Derati Restaurant",
          "Kudu - Al Rayyan",
          "Dominos",
          "Hardee's",
          "KFC",
          "Derati Restaurants & Kitchens",
          "Kudu - Al Malaz",
          "قصر الهند",
          "Herfy",
          "Al Jalab Restaurant",
          "Herfy",
          "Mama Noura",
          "Little Caesars Pizza! Pizza! !ليتل سيزرز بيتزا! بيتزا",
          "Burger King - Bin Turkey",
          "Little Caesars Pizza! Pizza! !ليتل سيزرز بيتزا! بيتزا",
          "Al Romansiah",
          "Al Saudi Restaurant",
          "Kudu - Al Seteen Palace",
          "TOKYO",
          "Kudu - Al Wurud",
          "Herfy",
          "برجر كاسل",
          "Sheikh Al-Mandi Restaurant",
          "وايت قاردن",
          "Subway",
          "Diet Center - دايت سنتر",
          "Fairmont Riyadh",
          "KFC",
          "Burger King - Exit 8 Dammam Rd",
          "KFC",
          "Herfy",
          "Pizza Era",
          "Al Romansiah",
          "Herfy",
          "KFC",
          "Shawarmer | شاورمر",
          "Herfy",
          "McDonald's",
          "Burger King - Riyadh Gallery 2",
          "KFC",
          "Burger King - Rawdah",
          "Al Nafoura Restaurant",
          "Herfy",
          "Herfy",
          "Burger King - Ghernata",
          "Hardee's",
          "McDonald's",
          "فندق ميرا",
          "مركز ماي كار لصيانة السيارات الاوروبية",
          "Luthan Hotel and Spa",
          "Dining Hall",
          "Sushi Yoshi",
          "Najd Village",
          "Wooden Bakery",
          "Najd Village",
          "KFC",
          "McDonald's",
          "Domino's Pizza",
          "Mama Noura",
          "Burger King - Al Quds",
          "Derati Restaurant",
          "Kudu - Al Rayyan",
          "Dominos",
          "Derati Restaurants & Kitchens",
          "Hardee's",
          "KFC",
          "Kudu - Al Malaz",
          "Mama Noura",
          "قصر الهند",
          "Herfy",
          "Al Jalab Restaurant",
          "Herfy",
          "Al Nafoura Restaurant",
          "Al Romansiah",
          "Kudu - Al Seteen Palace",
          "Little Caesars Pizza! Pizza! !ليتل سيزرز بيتزا! بيتزا",
          "Diet Center - دايت سنتر",
          "Burger King - Bin Turkey",
          "Al Saudi Restaurant",
          "KFC",
          "Little Caesars Pizza! Pizza! !ليتل سيزرز بيتزا! بيتزا",
          "Little Caesars Pizza! Pizza! !ليتل سيزرز بيتزا! بيتزا",
          "Burger King - Exit 28",
          "TOKYO",
          "KFC",
          "Kudu - Al Wurud",
          "Sheikh Al-Mandi Restaurant",
          "Herfy",
          "برجر كاسل",
          "Subway",
          "وايت قاردن",
          "Al Romansiah",
          "Al Tazaj",
          "McDonald's",
          "Subway",
          "Herfy",
          "McDonald's",
          "KFC",
          "Fairmont Riyadh",
          "Burger King - Exit 8 Dammam Rd",
          "Herfy",
          "KFC",
          "Al Romansiah Restaurant - Al Nasseem District",
          "KFC",
          "Burger King - Rawdah",
          "Pizza Era",
          "Al Romansiah",
          "فندق ميرا",
          "مركز ماي كار لصيانة السيارات الاوروبية",
          "Luthan Hotel and Spa",
          "Dining Hall",
          "Sushi Yoshi",
          "Najd Village",
          "Wooden Bakery",
          "Najd Village",
          "KFC",
          "McDonald's",
          "Domino's Pizza",
          "Mama Noura",
          "Burger King - Al Quds",
          "Derati Restaurant",
          "Kudu - Al Rayyan",
          "Dominos",
          "Derati Restaurants & Kitchens",
          "Hardee's",
          "KFC",
          "Kudu - Al Malaz",
          "قصر الهند",
          "Mama Noura",
          "Herfy",
          "Al Jalab Restaurant",
          "Herfy",
          "Al Romansiah",
          "Little Caesars Pizza! Pizza! !ليتل سيزرز بيتزا! بيتزا",
          "Kudu - Al Seteen Palace",
          "Al Nafoura Restaurant",
          "Burger King - Bin Turkey",
          "Little Caesars Pizza! Pizza! !ليتل سيزرز بيتزا! بيتزا",
          "Al Saudi Restaurant",
          "Diet Center - دايت سنتر",
          "KFC",
          "TOKYO",
          "Little Caesars Pizza! Pizza! !ليتل سيزرز بيتزا! بيتزا",
          "Kudu - Al Wurud",
          "KFC",
          "Sheikh Al-Mandi Restaurant",
          "Herfy",
          "برجر كاسل",
          "Burger King - Exit 28",
          "Subway",
          "وايت قاردن",
          "Al Tazaj",
          "McDonald's",
          "Herfy",
          "Fairmont Riyadh",
          "Subway",
          "Al Romansiah",
          "McDonald's",
          "Burger King - Exit 8 Dammam Rd",
          "KFC",
          "Herfy",
          "KFC",
          "KFC",
          "Pizza Era",
          "Al Romansiah",
          "Burger King - Rawdah",
          "Herfy",
          "فندق ميرا",
          "مركز ماي كار لصيانة السيارات الاوروبية",
          "Luthan Hotel and Spa",
          "Dining Hall",
          "Sushi Yoshi",
          "Najd Village",
          "Wooden Bakery",
          "Najd Village",
          "KFC",
          "McDonald's",
          "Domino's Pizza",
          "Mama Noura",
          "Burger King - Al Quds",
          "Derati Restaurant",
          "Kudu - Al Rayyan",
          "Dominos",
          "Derati Restaurants & Kitchens",
          "Hardee's",
          "KFC",
          "Kudu - Al Malaz",
          "قصر الهند",
          "Mama Noura",
          "Herfy",
          "Al Jalab Restaurant",
          "Al Romansiah",
          "Herfy",
          "Diet Center - دايت سنتر",
          "Kudu - Al Seteen Palace",
          "KFC",
          "Little Caesars Pizza! Pizza! !ليتل سيزرز بيتزا! بيتزا",
          "Burger King - Bin Turkey",
          "Al Saudi Restaurant",
          "Little Caesars Pizza! Pizza! !ليتل سيزرز بيتزا! بيتزا",
          "Al Nafoura Restaurant",
          "TOKYO",
          "KFC",
          "Kudu - Al Wurud",
          "Little Caesars Pizza! Pizza! !ليتل سيزرز بيتزا! بيتزا",
          "Sheikh Al-Mandi Restaurant",
          "Herfy",
          "Subway",
          "برجر كاسل",
          "Burger King - Exit 28",
          "وايت قاردن",
          "Al Tazaj",
          "Al Romansiah",
          "McDonald's",
          "McDonald's",
          "Herfy",
          "Fairmont Riyadh",
          "Subway",
          "KFC",
          "Burger King - Exit 8 Dammam Rd",
          "Al Romansiah Restaurant - Al Nasseem District",
          "Herfy",
          "Herfy",
          "KFC",
          "Al Romansiah",
          "Burger King - Rawdah",
          "KFC",
          "فندق ميرا",
          "مركز ماي كار لصيانة السيارات الاوروبية",
          "Luthan Hotel and Spa",
          "Dining Hall",
          "Sushi Yoshi",
          "Najd Village",
          "Wooden Bakery",
          "Najd Village",
          "KFC",
          "McDonald's",
          "Domino's Pizza",
          "Mama Noura",
          "Burger King - Al Quds",
          "Derati Restaurant",
          "Kudu - Al Rayyan",
          "Dominos",
          "Derati Restaurants & Kitchens",
          "Hardee's",
          "KFC",
          "Kudu - Al Malaz",
          "قصر الهند",
          "Mama Noura",
          "Herfy",
          "Al Jalab Restaurant",
          "Al Romansiah",
          "Herfy",
          "Kudu - Al Seteen Palace",
          "Little Caesars Pizza! Pizza! !ليتل سيزرز بيتزا! بيتزا",
          "Diet Center - دايت سنتر",
          "Al Nafoura Restaurant",
          "KFC",
          "Burger King - Bin Turkey",
          "Al Saudi Restaurant",
          "Little Caesars Pizza! Pizza! !ليتل سيزرز بيتزا! بيتزا",
          "TOKYO",
          "Little Caesars Pizza! Pizza! !ليتل سيزرز بيتزا! بيتزا",
          "KFC",
          "Kudu - Al Wurud",
          "Sheikh Al-Mandi Restaurant",
          "Herfy",
          "Burger King - Exit 28",
          "برجر كاسل",
          "Subway",
          "وايت قاردن",
          "Al Tazaj",
          "Al Romansiah",
          "McDonald's",
          "McDonald's",
          "Subway",
          "Herfy",
          "Fairmont Riyadh",
          "KFC",
          "Burger King - Exit 8 Dammam Rd",
          "Al Romansiah Restaurant - Al Nasseem District",
          "Herfy",
          "KFC",
          "Herfy",
          "Burger King - Rawdah",
          "Al Romansiah",
          "KFC",
          "فندق ميرا",
          "مركز ماي كار لصيانة السيارات الاوروبية",
          "Luthan Hotel and Spa",
          "Dining Hall",
          "Sushi Yoshi",
          "Najd Village",
          "Wooden Bakery",
          "Najd Village",
          "Domino's Pizza",
          "KFC",
          "McDonald's",
          "Mama Noura",
          "Burger King - Al Quds",
          "Derati Restaurant",
          "Kudu - Al Rayyan",
          "Dominos",
          "Hardee's",
          "KFC",
          "Derati Restaurants & Kitchens",
          "Kudu - Al Malaz",
          "قصر الهند",
          "Herfy",
          "Al Jalab Restaurant",
          "Herfy",
          "Little Caesars Pizza! Pizza! !ليتل سيزرز بيتزا! بيتزا",
          "Burger King - Bin Turkey",
          "Al Romansiah",
          "Little Caesars Pizza! Pizza! !ليتل سيزرز بيتزا! بيتزا",
          "Al Saudi Restaurant",
          "Kudu - Al Seteen Palace",
          "TOKYO",
          "Kudu - Al Wurud",
          "Herfy",
          "برجر كاسل",
          "Sheikh Al-Mandi Restaurant",
          "Subway",
          "Diet Center - دايت سنتر",
          "وايت قاردن",
          "KFC",
          "Fairmont Riyadh",
          "Burger King - Exit 8 Dammam Rd",
          "Herfy",
          "Mama Noura",
          "Pizza Era",
          "Al Romansiah",
          "Herfy",
          "Herfy",
          "McDonald's",
          "KFC",
          "KFC",
          "KFC",
          "Burger King - Rawdah",
          "Shawarmer | شاورمر",
          "Burger King - Riyadh Gallery 2",
          "Herfy",
          "Al Romansiah Restaurant - Al Nasseem District",
          "Herfy",
          "Burger King - Ghernata",
          "Hardee's",
          "Broast Line",
          "فندق ميرا",
          "مركز ماي كار لصيانة السيارات الاوروبية",
          "Luthan Hotel and Spa",
          "Dining Hall",
          "Sushi Yoshi",
          "Najd Village",
          "Wooden Bakery",
          "Najd Village",
          "Domino's Pizza",
          "KFC",
          "McDonald's",
          "Mama Noura",
          "Burger King - Al Quds",
          "Derati Restaurant",
          "Kudu - Al Rayyan",
          "Dominos",
          "Hardee's",
          "Derati Restaurants & Kitchens",
          "KFC",
          "Kudu - Al Malaz",
          "قصر الهند",
          "Mama Noura",
          "Herfy",
          "Al Jalab Restaurant",
          "Herfy",
          "Little Caesars Pizza! Pizza! !ليتل سيزرز بيتزا! بيتزا",
          "Burger King - Bin Turkey",
          "Al Romansiah",
          "Little Caesars Pizza! Pizza! !ليتل سيزرز بيتزا! بيتزا",
          "Kudu - Al Seteen Palace",
          "Al Saudi Restaurant",
          "TOKYO",
          "Kudu - Al Wurud",
          "Herfy",
          "برجر كاسل",
          "Sheikh Al-Mandi Restaurant",
          "Diet Center - دايت سنتر",
          "KFC",
          "Subway",
          "وايت قاردن",
          "KFC",
          "Fairmont Riyadh",
          "Burger King - Exit 8 Dammam Rd",
          "Herfy",
          "Al Nafoura Restaurant",
          "McDonald's",
          "Herfy",
          "Pizza Era",
          "Al Romansiah",
          "Herfy",
          "KFC",
          "KFC",
          "Burger King - Rawdah",
          "Shawarmer | شاورمر",
          "Burger King - Riyadh Gallery 2",
          "Al Romansiah Restaurant - Al Nasseem District",
          "Herfy",
          "Little Caesars Pizza! Pizza! !ليتل سيزرز بيتزا! بيتزا",
          "Al Tazaj",
          "KFC",
          "فندق ميرا",
          "مركز ماي كار لصيانة السيارات الاوروبية",
          "Luthan Hotel and Spa",
          "Dining Hall",
          "Sushi Yoshi",
          "Najd Village",
          "Wooden Bakery",
          "Najd Village",
          "KFC",
          "McDonald's",
          "Domino's Pizza",
          "Mama Noura",
          "Burger King - Al Quds",
          "Derati Restaurant",
          "Kudu - Al Rayyan",
          "Dominos",
          "Derati Restaurants & Kitchens",
          "Hardee's",
          "KFC",
          "Kudu - Al Malaz",
          "Mama Noura",
          "قصر الهند",
          "Herfy",
          "Al Jalab Restaurant",
          "Al Nafoura Restaurant",
          "Herfy",
          "Kudu - Al Seteen Palace",
          "Diet Center - دايت سنتر",
          "KFC",
          "Little Caesars Pizza! Pizza! !ليتل سيزرز بيتزا! بيتزا",
          "Little Caesars Pizza! Pizza! !ليتل سيزرز بيتزا! بيتزا",
          "Al Romansiah",
          "Al Saudi Restaurant",
          "Burger King - Bin Turkey",
          "Little Caesars Pizza! Pizza! !ليتل سيزرز بيتزا! بيتزا",
          "Burger King - Exit 28",
          "KFC",
          "TOKYO",
          "Sheikh Al-Mandi Restaurant",
          "Kudu - Al Wurud",
          "Al Romansiah",
          "برجر كاسل",
          "Herfy",
          "Subway",
          "وايت قاردن",
          "Al Tazaj",
          "McDonald's",
          "Subway",
          "KFC",
          "Herfy",
          "McDonald's",
          "Fairmont Riyadh",
          "Burger King - Exit 8 Dammam Rd",
          "KFC",
          "Al-Tazaj",
          "KFC",
          "Al Romansiah",
          "KFC",
          "Al Romansiah Restaurant - Al Nasseem District",
          "Burger King - Rawdah",
          "فندق ميرا",
          "مركز ماي كار لصيانة السيارات الاوروبية",
          "Luthan Hotel and Spa",
          "Dining Hall",
          "Sushi Yoshi",
          "Wooden Bakery",
          "Najd Village",
          "Najd Village",
          "KFC",
          "McDonald's",
          "Domino's Pizza",
          "Mama Noura",
          "Burger King - Al Quds",
          "Derati Restaurant",
          "Kudu - Al Rayyan",
          "Dominos",
          "Derati Restaurants & Kitchens",
          "Hardee's",
          "KFC",
          "Kudu - Al Malaz",
          "Mama Noura",
          "قصر الهند",
          "Herfy",
          "Al Nafoura Restaurant",
          "Al Jalab Restaurant",
          "Kudu - Al Seteen Palace",
          "Diet Center - دايت سنتر",
          "Little Caesars Pizza! Pizza! !ليتل سيزرز بيتزا! بيتزا",
          "Herfy",
          "KFC",
          "Al Saudi Restaurant",
          "Burger King - Exit 28",
          "Little Caesars Pizza! Pizza! !ليتل سيزرز بيتزا! بيتزا",
          "Little Caesars Pizza! Pizza! !ليتل سيزرز بيتزا! بيتزا",
          "Burger King - Bin Turkey",
          "KFC",
          "TOKYO",
          "Al Romansiah",
          "Sheikh Al-Mandi Restaurant",
          "Al Romansiah",
          "Kudu - Al Wurud",
          "برجر كاسل",
          "Herfy",
          "Al Tazaj",
          "وايت قاردن",
          "McDonald's",
          "Subway",
          "Subway",
          "KFC",
          "Herfy",
          "McDonald's",
          "KFC",
          "Al-Tazaj",
          "KFC",
          "Al Romansiah",
          "Herfy",
          "KFC",
          "Shawarmer | شاورمر",
          "Herfy",
          "Burger King - Rawdah",
          "فندق ميرا",
          "مركز ماي كار لصيانة السيارات الاوروبية",
          "Luthan Hotel and Spa",
          "Dining Hall",
          "Sushi Yoshi",
          "Wooden Bakery",
          "Najd Village",
          "Najd Village",
          "KFC",
          "McDonald's",
          "Domino's Pizza",
          "Mama Noura",
          "Burger King - Al Quds",
          "Derati Restaurant",
          "Kudu - Al Rayyan",
          "Dominos",
          "Derati Restaurants & Kitchens",
          "Hardee's",
          "KFC",
          "Kudu - Al Malaz",
          "Mama Noura",
          "قصر الهند",
          "Herfy",
          "Al Nafoura Restaurant",
          "Al Jalab Restaurant",
          "Little Caesars Pizza! Pizza! !ليتل سيزرز بيتزا! بيتزا",
          "Kudu - Al Seteen Palace",
          "Burger King - Exit 28",
          "Diet Center - دايت سنتر",
          "Al Saudi Restaurant",
          "KFC",
          "KFC",
          "Little Caesars Pizza! Pizza! !ليتل سيزرز بيتزا! بيتزا",
          "Herfy",
          "Burger King - Bin Turkey",
          "Al Romansiah",
          "Little Caesars Pizza! Pizza! !ليتل سيزرز بيتزا! بيتزا",
          "TOKYO",
          "Sheikh Al-Mandi Restaurant",
          "Kudu - Al Wurud",
          "برجر كاسل",
          "Al Tazaj",
          "McDonald's",
          "وايت قاردن",
          "Subway",
          "Herfy",
          "KFC",
          "Herfy",
          "Subway",
          "KFC",
          "Al-Tazaj",
          "Al Romansiah",
          "McDonald's",
          "KFC",
          "Herfy",
          "Herfy",
          "Shawarmer | شاورمر",
          "Al Romansiah",
          "McDonald's",
          "Herfy",
          "فندق ميرا",
          "مركز ماي كار لصيانة السيارات الاوروبية",
          "Luthan Hotel and Spa",
          "Dining Hall",
          "Sushi Yoshi",
          "Wooden Bakery",
          "Najd Village",
          "Najd Village",
          "KFC",
          "McDonald's",
          "Domino's Pizza",
          "Mama Noura",
          "Burger King - Al Quds",
          "Derati Restaurant",
          "Kudu - Al Rayyan",
          "Derati Restaurants & Kitchens",
          "Dominos",
          "Hardee's",
          "KFC",
          "Kudu - Al Malaz",
          "Mama Noura",
          "قصر الهند",
          "Herfy",
          "Al Nafoura Restaurant",
          "Little Caesars Pizza! Pizza! !ليتل سيزرز بيتزا! بيتزا",
          "Burger King - Exit 28",
          "Al Jalab Restaurant",
          "KFC",
          "Kudu - Al Seteen Palace",
          "Al Romansiah",
          "Al Saudi Restaurant",
          "Little Caesars Pizza! Pizza! !ليتل سيزرز بيتزا! بيتزا",
          "Burger King - Bin Turkey",
          "Herfy",
          "Al Tazaj",
          "McDonald's",
          "برجر كاسل",
          "Sheikh Al-Mandi Restaurant",
          "TOKYO",
          "Little Caesars Pizza! Pizza! !ليتل سيزرز بيتزا! بيتزا",
          "Kudu - Al Wurud",
          "Subway",
          "وايت قاردن",
          "Diet Center - دايت سنتر",
          "KFC",
          "Herfy",
          "KFC",
          "Al-Tazaj",
          "KFC",
          "Herfy",
          "KFC",
          "Herfy",
          "Shawarmer | شاورمر",
          "McDonald's",
          "Lucky Cafe",
          "Herfy",
          "KFC",
          "Burger King - Riyadh Gallery 2",
          "McDonald's",
          "KFC",
          "فندق ميرا",
          "مركز ماي كار لصيانة السيارات الاوروبية",
          "Luthan Hotel and Spa",
          "Dining Hall",
          "Sushi Yoshi",
          "Wooden Bakery",
          "Najd Village",
          "Najd Village",
          "KFC",
          "McDonald's",
          "Domino's Pizza",
          "Mama Noura",
          "Burger King - Al Quds",
          "Derati Restaurant",
          "Kudu - Al Rayyan",
          "Dominos",
          "Derati Restaurants & Kitchens",
          "Hardee's",
          "KFC",
          "Kudu - Al Malaz",
          "Mama Noura",
          "قصر الهند",
          "Herfy",
          "Al Nafoura Restaurant",
          "Al Jalab Restaurant",
          "Kudu - Al Seteen Palace",
          "Diet Center - دايت سنتر",
          "Little Caesars Pizza! Pizza! !ليتل سيزرز بيتزا! بيتزا",
          "KFC",
          "Al Saudi Restaurant",
          "Herfy",
          "Burger King - Exit 28",
          "Little Caesars Pizza! Pizza! !ليتل سيزرز بيتزا! بيتزا",
          "KFC",
          "Little Caesars Pizza! Pizza! !ليتل سيزرز بيتزا! بيتزا",
          "Burger King - Bin Turkey",
          "TOKYO",
          "Al Romansiah",
          "Sheikh Al-Mandi Restaurant",
          "Kudu - Al Wurud",
          "Al Romansiah",
          "برجر كاسل",
          "Al Tazaj",
          "McDonald's",
          "وايت قاردن",
          "Herfy",
          "Subway",
          "Subway",
          "KFC",
          "Herfy",
          "McDonald's",
          "KFC",
          "Al-Tazaj",
          "KFC",
          "Al Romansiah",
          "Herfy",
          "Herfy",
          "Shawarmer | شاورمر",
          "KFC",
          "Burger King - Rawdah",
          "Subway",
          "calm pigeons restaurant",
          "بيتزا الاسطورة",
          "معصوب الفرسان",
          "Bait Almeena Restaurant",
          "لذة محشي",
          "مطعم ريف الشاورما",
          "TO BE FIT مطعم صحي",
          "ytd",
          "RKN Pizza & Pastries Sakhna",
          "سلسلة مطاعم محمد شوقي",
          "فوال ومخبز",
          "كوب الذرة",
          "Matam Al Bukhari",
          "مطعم الشواية الفضية البخاري",
          "BOOFIAH RESTAURANT",
          "بوفية شطيرة سريعة",
          "Sweets & Bakeries Harimlae",
          "Mohamed Elsa Restaurant",
          "جنيه الذهبي",
          "مطاعم ومطابخ الكوخ المندي",
          "Foodils Huraymila",
          "ريوق شاي",
          "بوفية ركن السحاب",
          "ركن الفرن الساخن",
          "قهوة",
          "مطعم نخبة الصفوة للأكلات الشعبية",
          "فوال الخرطوم",
          "Restaurant",
          "Rukn Assidah Mandi Restaurant",
          "فوال الطائف",
          "Bait Almeena Restaurant",
          "مطعم ومشويات تراث حلب",
          "Deerty Traditional Restaurant",
          "مطعم كوزين",
          "محارة الخليج Zinker King",
          "مطعم عالم الطهاة",
          "Chefs Restaurant",
          "بوفيه وجبات سريعة",
          "بوفيه",
          "أسرع مقلوبة",
          "Aziza Al Bukhari Restaurant - best restaurant in town",
          "مطعم حصن الجنوب البخاري",
          "بخاري",
          "مطعم ندى مطلق العتيبي",
          "بوفية زهراء",
          "مطعم ديرة الغذاء",
          "الشيخ محمد الحاتم ابوعادل",
          "585C+9R7 Malham",
          "فوال ايام زمان",
          "للوجبات السريعة فرع ملهم",
          "Ghadash Restaurant",
          "Bangladesh restaurant বাংলাদেশ হোটেলে",
          "لقيمات مذهلة",
          "‏ساكن ملهم ‏ ‏سعودية",
          "مطعم هيفان",
          "Restaurant kofta Shawarma Grill and Broasted pizza and inspiring Fatayer",
          "بوفية سماء المذاق الراقي",
          "FOODILS MALHAM",
          "فلافل نون",
          "فندق ميرا",
          "Luthan Hotel and Spa",
          "Dining Hall",
          "Domino's Pizza",
          "McDonald's",
          "Derati Restaurant",
          "Najd Village",
          "Hardee's",
          "KFC",
          "Derati Restaurants & Kitchens",
          "KFC",
          "Al-Tazaj",
          "Falafel Al-Sham",
          "Kudu - Al Muzahmiya Mall",
          "McDonald's",
          "Burger King - Exit 28",
          "Mama Noura",
          "بيتزا الأصايل",
          "Al Nafoura Restaurant",
          "Casa Pasta",
          "Maestro Pizza",
          "Herfy",
          "Domino's Pizza",
          "Herfy",
          "Kudu - Najm Al Din Al Ayyubi",
          "Little Caesars Pizza! Pizza! !ليتل سيزرز بيتزا! بيتزا",
          "KFC",
          "Krispy Kreme Najm Ad Din - كرسبي كريم نجم الدين",
          "KFC",
          "KFC",
          "Kudu - Tuwaiq - Riyadh",
          "Herfy",
          "KFC",
          "Al-Kef Al-Dhahbi Restaurant",
          "Maestro Pizza",
          "McDonald's",
          "Al-Saudi Restaurant",
          "Burgerizzr",
          "Pigeons Time",
          "McDonald's",
          "Jan Burger - جان برجر‎",
          "abu jbara restaurant",
          "مطافي وجبات سريعة",
          "Hamburgini هامبرغيني - Dhahrat Laban",
          "KFC",
          "Romansiah",
          "Golden Salamon Restaurant",
          "Herfy",
          "Indian Valley Restaurant",
          "Cheese Restaurant",
          "Herfy",
          "McDonald's",
          "Maestro Pizza",
          "Jan Burger - جان برجر‎",
          "Domino's Pizza",
          "توم توم | TOM TOM",
          "Maestro Pizza",
          "Hamburgini هامبرغيني - As Suwaidi Al Gharabi",
          "Pizzaratti AlSuwaidi",
          "Domino's Pizza",
          "Maestro Pizza",
          "Kudu - Duwadimi",
          "McDonald's",
          "Domino's Pizza",
          "KFC",
          "Subway",
          "تشيكن فرايز فود ترك",
          "فوال الطائف",
          "مطعم أحمد",
          "ألذ كنافه",
          "شاورما عالفحم",
          "لقيمات ماجد",
          "قصر العصيرات",
          "مذاق الحمام",
          "Fit bit مطعم",
          "بوفيه الهناء \" يقدم مطبق\"",
          "مطعم لذيذ وشواية لتقديم الوجبات",
          "بوفيه ارض الجنتين",
          "مطعم زواية البيت المندي",
          "بوفيهات المثالي",
          "برقر كارني",
          "توت نجد للخضار والفواكه",
          "watani restaurant",
          "عصيرات جنه الفواكه",
          "مطعم اطايب النخيل الدوادمي",
          "مطعم كبده تمام",
          "مطعم تميز الوطن",
          "مطبخ العربي",
          "Bagar ciff",
          "Al Dawadhmi",
          "مطعم صياد اللؤلؤ",
          "اسماك الخليج",
          "Muhammad abdurehman restaurant",
          "بوفيه قوه الكبده",
          "نولا بيتزاريا Nola Pizzeria",
          "مطاعم ومطابخ الفرسان",
          "مطاعم البستان البخاري فرع الوحيد في الدوادمي",
          "فوال صباح الخير",
          "مطعم السلطان Alsultan restaurant",
          "ثلاجة إطعام",
          "مقصف ام سعد",
          "Layali Al Sham Restaurant",
          "بوفيه زمزم",
          "كاتشي لاونج",
          "مطعم 22",
          "فطائر وصايه",
          "بيتزا كونا",
          "بوفية ركن هلا",
          "مطعم قرص وسمن",
          "حلويات مذاق الحلا",
          "بوفية ابو عنتر",
          "مطعم زاد قمرنا",
          "مطعم الحنيذ المختص",
          "بوفية الشباب",
          "Jamil Al-Bukhari Restaurant",
          "بوفيه سكة سفرنا",
          "Anab roman restaurant",
          "Labiba shawarma",
          "بوفية حياة عدن لتقديم الوجبات السريعة",
          "مطعم قارب البحار للمأكولات البحرية",
          "فندق ميرا",
          "مركز ماي كار لصيانة السيارات الاوروبية",
          "Luthan Hotel and Spa",
          "Dining Hall",
          "Sushi Yoshi",
          "Najd Village",
          "Wooden Bakery",
          "Najd Village",
          "KFC",
          "McDonald's",
          "Domino's Pizza",
          "Mama Noura",
          "Burger King - Al Quds",
          "Derati Restaurant",
          "Kudu - Al Rayyan",
          "Dominos",
          "Derati Restaurants & Kitchens",
          "Hardee's",
          "KFC",
          "Kudu - Al Malaz",
          "قصر الهند",
          "Mama Noura",
          "Herfy",
          "Al Romansiah",
          "Al Jalab Restaurant",
          "Diet Center - دايت سنتر",
          "Herfy",
          "KFC",
          "Kudu - Al Seteen Palace",
          "Little Caesars Pizza! Pizza! !ليتل سيزرز بيتزا! بيتزا",
          "Al Saudi Restaurant",
          "Little Caesars Pizza! Pizza! !ليتل سيزرز بيتزا! بيتزا",
          "Burger King - Bin Turkey",
          "Al Nafoura Restaurant",
          "KFC",
          "TOKYO",
          "Kudu - Al Wurud",
          "Sheikh Al-Mandi Restaurant",
          "Subway",
          "Little Caesars Pizza! Pizza! !ليتل سيزرز بيتزا! بيتزا",
          "Herfy",
          "برجر كاسل",
          "وايت قاردن",
          "Al Romansiah",
          "Burger King - Exit 28",
          "Al Tazaj",
          "McDonald's",
          "McDonald's",
          "Herfy",
          "Fairmont Riyadh",
          "Subway",
          "KFC",
          "Burger King - Exit 8 Dammam Rd",
          "Al Romansiah Restaurant - Al Nasseem District",
          "Al Romansiah",
          "Herfy",
          "Herfy",
          "KFC",
          "Burger King - Rawdah",
          "Herfy",
          "فندق ميرا",
          "مركز ماي كار لصيانة السيارات الاوروبية",
          "Luthan Hotel and Spa",
          "Dining Hall",
          "Sushi Yoshi",
          "Najd Village",
          "Wooden Bakery",
          "Najd Village",
          "KFC",
          "McDonald's",
          "Domino's Pizza",
          "Mama Noura",
          "Burger King - Al Quds",
          "Derati Restaurant",
          "Kudu - Al Rayyan",
          "Dominos",
          "Derati Restaurants & Kitchens",
          "Hardee's",
          "KFC",
          "Kudu - Al Malaz",
          "قصر الهند",
          "Mama Noura",
          "Herfy",
          "Al Jalab Restaurant",
          "Al Romansiah",
          "Diet Center - دايت سنتر",
          "Herfy",
          "KFC",
          "Kudu - Al Seteen Palace",
          "Little Caesars Pizza! Pizza! !ليتل سيزرز بيتزا! بيتزا",
          "Al Saudi Restaurant",
          "Burger King - Bin Turkey",
          "Little Caesars Pizza! Pizza! !ليتل سيزرز بيتزا! بيتزا",
          "Al Nafoura Restaurant",
          "KFC",
          "TOKYO",
          "Little Caesars Pizza! Pizza! !ليتل سيزرز بيتزا! بيتزا",
          "Kudu - Al Wurud",
          "Sheikh Al-Mandi Restaurant",
          "Subway",
          "Herfy",
          "برجر كاسل",
          "Burger King - Exit 28",
          "Al Romansiah",
          "وايت قاردن",
          "Al Tazaj",
          "McDonald's",
          "McDonald's",
          "Herfy",
          "Subway",
          "Fairmont Riyadh",
          "KFC",
          "Burger King - Exit 8 Dammam Rd",
          "Al Romansiah Restaurant - Al Nasseem District",
          "Herfy",
          "Al Romansiah",
          "Herfy",
          "KFC",
          "Burger King - Rawdah",
          "KFC"
         ],
         "lat": [
          24.7012777,
          24.85175139999999,
          24.7066487,
          24.7209893,
          24.7048211,
          24.7426043,
          24.6941192,
          24.6976883,
          24.59506409999999,
          24.570255,
          24.692347,
          24.6916263,
          24.75733899999999,
          24.6368753,
          24.7092575,
          24.8105963,
          24.5881775,
          24.6008518,
          24.6004069,
          24.6663876,
          24.5717473,
          24.75744370000001,
          24.6940569,
          24.7337823,
          24.7587183,
          24.5884052,
          24.681048,
          24.6840264,
          24.7559561,
          24.6905735,
          24.7579306,
          24.6957429,
          24.5802744,
          24.7247857,
          24.746228,
          24.5681274,
          24.6382089,
          24.7181459,
          24.693749,
          24.7322926,
          24.5620929,
          24.7289012,
          24.7609124,
          24.714561,
          24.6943084,
          24.6002206,
          24.598766,
          24.608878,
          24.713222,
          24.62540690000001,
          24.6755556,
          24.8082207,
          24.800591,
          24.7335149,
          24.695811,
          24.7327532,
          24.7795459,
          24.7809607,
          24.735643,
          24.5724179,
          24.7012777,
          24.85175139999999,
          24.7066487,
          24.7209893,
          24.7048211,
          24.7426043,
          24.6941192,
          24.6976883,
          24.59506409999999,
          24.570255,
          24.692347,
          24.6916263,
          24.75733899999999,
          24.6368753,
          24.7092575,
          24.8105963,
          24.5881775,
          24.6008518,
          24.6004069,
          24.6663876,
          24.5717473,
          24.75744370000001,
          24.6940569,
          24.7337823,
          24.7587183,
          24.5884052,
          24.681048,
          24.7559561,
          24.6840264,
          24.6905735,
          24.7579306,
          24.6957429,
          24.7247857,
          24.746228,
          24.5802744,
          24.5681274,
          24.6382089,
          24.7181459,
          24.693749,
          24.7322926,
          24.5620929,
          24.7289012,
          24.7609124,
          24.714561,
          24.6943084,
          24.6002206,
          24.598766,
          24.608878,
          24.713222,
          24.6755556,
          24.62540690000001,
          24.8082207,
          24.800591,
          24.7335149,
          24.695811,
          24.7795459,
          24.7327532,
          24.7809607,
          24.735643,
          24.7045778,
          24.7012777,
          24.85175139999999,
          24.7066487,
          24.7209893,
          24.7048211,
          24.7426043,
          24.6941192,
          24.6976883,
          24.59506409999999,
          24.570255,
          24.692347,
          24.6916263,
          24.75733899999999,
          24.6368753,
          24.7092575,
          24.8105963,
          24.5881775,
          24.6008518,
          24.6004069,
          24.6663876,
          24.5717473,
          24.75744370000001,
          24.6940569,
          24.7337823,
          24.7587183,
          24.5884052,
          24.681048,
          24.7559561,
          24.6840264,
          24.6905735,
          24.7579306,
          24.6957429,
          24.5802744,
          24.746228,
          24.7247857,
          24.5681274,
          24.6382089,
          24.7181459,
          24.693749,
          24.7322926,
          24.5620929,
          24.7289012,
          24.7609124,
          24.714561,
          24.6943084,
          24.6002206,
          24.598766,
          24.608878,
          24.713222,
          24.6755556,
          24.62540690000001,
          24.8082207,
          24.800591,
          24.7335149,
          24.695811,
          24.7795459,
          24.7327532,
          24.7809607,
          24.735643,
          24.5724179,
          24.7012777,
          24.85175139999999,
          24.7066487,
          24.7209893,
          24.7048211,
          24.7426043,
          24.6941192,
          24.6976883,
          24.59506409999999,
          24.570255,
          24.692347,
          24.6916263,
          24.75733899999999,
          24.6368753,
          24.7092575,
          24.8105963,
          24.5881775,
          24.6008518,
          24.6004069,
          24.6663876,
          24.5717473,
          24.75744370000001,
          24.6940569,
          24.7337823,
          24.7587183,
          24.5884052,
          24.681048,
          24.6840264,
          24.7559561,
          24.6905735,
          24.7579306,
          24.6957429,
          24.5802744,
          24.7247857,
          24.746228,
          24.5681274,
          24.6382089,
          24.7181459,
          24.693749,
          24.7322926,
          24.5620929,
          24.7289012,
          24.7609124,
          24.714561,
          24.6943084,
          24.6002206,
          24.598766,
          24.608878,
          24.713222,
          24.6755556,
          24.62540690000001,
          24.8082207,
          24.800591,
          24.7335149,
          24.695811,
          24.7795459,
          24.7327532,
          24.7809607,
          24.735643,
          24.5724179,
          24.7012777,
          24.85175139999999,
          24.7066487,
          24.7209893,
          24.7048211,
          24.7426043,
          24.6941192,
          24.6976883,
          24.59506409999999,
          24.570255,
          24.692347,
          24.6916263,
          24.75733899999999,
          24.6368753,
          24.7092575,
          24.8105963,
          24.5881775,
          24.6008518,
          24.6004069,
          24.6663876,
          24.5717473,
          24.75744370000001,
          24.6940569,
          24.7337823,
          24.7587183,
          24.5884052,
          24.681048,
          24.6840264,
          24.7559561,
          24.6905735,
          24.7579306,
          24.6957429,
          24.5802744,
          24.7247857,
          24.746228,
          24.5681274,
          24.6382089,
          24.7181459,
          24.693749,
          24.7322926,
          24.5620929,
          24.7289012,
          24.7609124,
          24.714561,
          24.6943084,
          24.6002206,
          24.598766,
          24.608878,
          24.713222,
          24.62540690000001,
          24.6755556,
          24.8082207,
          24.800591,
          24.7335149,
          24.695811,
          24.7327532,
          24.7795459,
          24.7809607,
          24.735643,
          24.5724179,
          24.7012777,
          24.85175139999999,
          24.7066487,
          24.7209893,
          24.7048211,
          24.7426043,
          24.6941192,
          24.6976883,
          24.59506409999999,
          24.570255,
          24.692347,
          24.6916263,
          24.75733899999999,
          24.6368753,
          24.7092575,
          24.8105963,
          24.5881775,
          24.6008518,
          24.6004069,
          24.6663876,
          24.5717473,
          24.75744370000001,
          24.6940569,
          24.7337823,
          24.7587183,
          24.5884052,
          24.7559561,
          24.681048,
          24.6840264,
          24.6905735,
          24.7579306,
          24.6957429,
          24.746228,
          24.5802744,
          24.7247857,
          24.5681274,
          24.6382089,
          24.7181459,
          24.7322926,
          24.693749,
          24.5620929,
          24.7609124,
          24.7289012,
          24.714561,
          24.6943084,
          24.6002206,
          24.598766,
          24.608878,
          24.713222,
          24.6755556,
          24.62540690000001,
          24.8082207,
          24.800591,
          24.7335149,
          24.695811,
          24.7795459,
          24.7327532,
          24.7809607,
          24.735643,
          24.5724179,
          23.7759254,
          23.777253,
          23.7775033,
          23.7756079,
          23.77585850000001,
          23.7713478,
          23.7631921,
          23.7626758,
          23.76112909999999,
          23.76212300000001,
          23.7627612,
          23.762104,
          23.7620677,
          23.7600403,
          23.7617327,
          23.7610696,
          23.7597439,
          23.7610069,
          23.75998079999999,
          23.759976,
          23.75937829999999,
          23.7593272,
          23.7593094,
          23.7593094,
          23.75964789999999,
          23.7599655,
          23.7592293,
          23.7608125,
          23.7600066,
          23.7591719,
          23.7591385,
          23.764266,
          23.7608173,
          23.74173039999999,
          23.740488,
          23.7979441,
          23.7332642,
          23.7994914,
          23.7996792,
          23.799645,
          23.7117484,
          23.7117484,
          23.7185517,
          23.7216409,
          23.7229757,
          23.7224327,
          23.6502364,
          23.7106265,
          23.7107232,
          23.6992381,
          23.8496622,
          23.9160373,
          23.8480557,
          23.7838261,
          23.9884014,
          23.9900549,
          23.9908752,
          23.885914,
          23.885942,
          23.885942,
          24.7012777,
          24.85175139999999,
          24.7066487,
          24.7209893,
          24.7048211,
          24.7426043,
          24.6941192,
          24.6976883,
          24.59506409999999,
          24.570255,
          24.692347,
          24.6916263,
          24.75733899999999,
          24.6368753,
          24.7092575,
          24.8105963,
          24.5881775,
          24.6008518,
          24.6004069,
          24.6663876,
          24.5717473,
          24.75744370000001,
          24.6940569,
          24.7337823,
          24.7587183,
          24.7559561,
          24.5884052,
          24.681048,
          24.6840264,
          24.6905735,
          24.7579306,
          24.6957429,
          24.746228,
          24.7247857,
          24.5802744,
          24.6382089,
          24.7181459,
          24.5681274,
          24.7322926,
          24.693749,
          24.7609124,
          24.7289012,
          24.714561,
          24.5620929,
          24.6943084,
          24.6002206,
          24.598766,
          24.713222,
          24.608878,
          24.6755556,
          24.62540690000001,
          24.8082207,
          24.800591,
          24.7335149,
          24.7795459,
          24.695811,
          24.7327532,
          24.7809607,
          24.735643,
          24.7045778,
          24.7012777,
          24.85175139999999,
          24.7066487,
          24.7209893,
          24.7048211,
          24.7426043,
          24.6941192,
          24.6976883,
          24.59506409999999,
          24.570255,
          24.692347,
          24.6916263,
          24.75733899999999,
          24.6368753,
          24.7092575,
          24.8105963,
          24.5881775,
          24.6008518,
          24.6004069,
          24.6663876,
          24.5717473,
          24.75744370000001,
          24.6940569,
          24.7337823,
          24.7587183,
          24.7559561,
          24.681048,
          24.6840264,
          24.6905735,
          24.7579306,
          24.5884052,
          24.6957429,
          24.746228,
          24.7247857,
          24.6382089,
          24.5802744,
          24.7181459,
          24.7322926,
          24.693749,
          24.5681274,
          24.7609124,
          24.7289012,
          24.714561,
          24.5620929,
          24.6943084,
          24.6002206,
          24.598766,
          24.713222,
          24.608878,
          24.6755556,
          24.8082207,
          24.62540690000001,
          24.800591,
          24.7335149,
          24.7795459,
          24.695811,
          24.7809607,
          24.7327532,
          24.735643,
          24.7045778,
          24.7012777,
          24.85175139999999,
          24.7066487,
          24.7209893,
          24.7048211,
          24.7426043,
          24.6941192,
          24.6976883,
          24.59506409999999,
          24.570255,
          24.692347,
          24.6916263,
          24.75733899999999,
          24.6368753,
          24.7092575,
          24.8105963,
          24.5881775,
          24.6008518,
          24.6004069,
          24.6663876,
          24.75744370000001,
          24.5717473,
          24.6940569,
          24.7337823,
          24.7587183,
          24.7559561,
          24.7579306,
          24.6905735,
          24.681048,
          24.746228,
          24.6840264,
          24.7247857,
          24.6957429,
          24.5884052,
          24.7181459,
          24.7322926,
          24.6382089,
          24.693749,
          24.7609124,
          24.5802744,
          24.714561,
          24.7289012,
          24.6943084,
          24.5681274,
          24.6002206,
          24.598766,
          24.713222,
          24.6755556,
          24.8082207,
          24.608878,
          24.800591,
          24.5620929,
          24.62540690000001,
          24.7795459,
          24.7335149,
          24.7327532,
          24.7809607,
          24.735643,
          24.7045778,
          24.8200347,
          24.7012777,
          24.85175139999999,
          24.7066487,
          24.7209893,
          24.7048211,
          24.7426043,
          24.6941192,
          24.6976883,
          24.59506409999999,
          24.570255,
          24.692347,
          24.6916263,
          24.75733899999999,
          24.6368753,
          24.7092575,
          24.8105963,
          24.5881775,
          24.6008518,
          24.6004069,
          24.6663876,
          24.75744370000001,
          24.5717473,
          24.6940569,
          24.7337823,
          24.7587183,
          24.7559561,
          24.681048,
          24.6905735,
          24.6840264,
          24.7579306,
          24.746228,
          24.6957429,
          24.7247857,
          24.5884052,
          24.7181459,
          24.6382089,
          24.7322926,
          24.5802744,
          24.693749,
          24.7609124,
          24.7289012,
          24.714561,
          24.5681274,
          24.6943084,
          24.6002206,
          24.5620929,
          24.598766,
          24.713222,
          24.6755556,
          24.8082207,
          24.608878,
          24.62540690000001,
          24.800591,
          24.7335149,
          24.7795459,
          24.7809607,
          24.7327532,
          24.695811,
          24.735643,
          24.7045778,
          24.7012777,
          24.85175139999999,
          24.7066487,
          24.7209893,
          24.7048211,
          24.7426043,
          24.6941192,
          24.6976883,
          24.692347,
          24.59506409999999,
          24.570255,
          24.6916263,
          24.75733899999999,
          24.6368753,
          24.7092575,
          24.8105963,
          24.6008518,
          24.6004069,
          24.5881775,
          24.6663876,
          24.75744370000001,
          24.6940569,
          24.7337823,
          24.7559561,
          24.5717473,
          24.7579306,
          24.746228,
          24.7247857,
          24.7587183,
          24.6957429,
          24.6905735,
          24.7181459,
          24.7322926,
          24.7609124,
          24.714561,
          24.693749,
          24.6943084,
          24.7289012,
          24.681048,
          24.8082207,
          24.6840264,
          24.800591,
          24.6382089,
          24.6755556,
          24.8200347,
          24.783657,
          24.7795459,
          24.7045778,
          24.7133267,
          24.7809607,
          24.713222,
          24.741256,
          24.7327532,
          24.735643,
          24.5884052,
          24.7200236,
          24.8031675,
          24.78142100000001,
          24.80089,
          24.683756,
          24.7012777,
          24.85175139999999,
          24.7066487,
          24.7209893,
          24.7048211,
          24.7426043,
          24.6941192,
          24.6976883,
          24.59506409999999,
          24.570255,
          24.692347,
          24.6916263,
          24.75733899999999,
          24.6368753,
          24.7092575,
          24.8105963,
          24.5881775,
          24.6008518,
          24.6004069,
          24.6663876,
          24.5717473,
          24.75744370000001,
          24.6940569,
          24.7337823,
          24.7559561,
          24.5884052,
          24.7587183,
          24.6905735,
          24.7579306,
          24.681048,
          24.746228,
          24.6957429,
          24.6840264,
          24.7247857,
          24.5802744,
          24.5681274,
          24.7181459,
          24.6382089,
          24.7322926,
          24.693749,
          24.7609124,
          24.714561,
          24.7289012,
          24.6943084,
          24.5620929,
          24.6002206,
          24.598766,
          24.608878,
          24.6755556,
          24.713222,
          24.62540690000001,
          24.8082207,
          24.800591,
          24.7795459,
          24.7327532,
          24.7335149,
          24.7045778,
          24.735643,
          24.8200347,
          24.783657,
          24.7012777,
          24.85175139999999,
          24.7066487,
          24.7209893,
          24.7048211,
          24.7426043,
          24.6941192,
          24.6976883,
          24.59506409999999,
          24.570255,
          24.692347,
          24.6916263,
          24.75733899999999,
          24.6368753,
          24.7092575,
          24.8105963,
          24.5881775,
          24.6008518,
          24.6004069,
          24.6663876,
          24.75744370000001,
          24.5717473,
          24.6940569,
          24.7337823,
          24.7559561,
          24.7587183,
          24.7579306,
          24.6905735,
          24.5884052,
          24.746228,
          24.7247857,
          24.6957429,
          24.681048,
          24.6840264,
          24.7181459,
          24.5802744,
          24.7322926,
          24.6382089,
          24.693749,
          24.7609124,
          24.714561,
          24.5681274,
          24.7289012,
          24.6943084,
          24.6002206,
          24.598766,
          24.6755556,
          24.8082207,
          24.608878,
          24.5620929,
          24.713222,
          24.800591,
          24.62540690000001,
          24.7795459,
          24.7327532,
          24.7045778,
          24.8200347,
          24.783657,
          24.735643,
          24.7809607,
          24.7012777,
          24.85175139999999,
          24.7066487,
          24.7209893,
          24.7048211,
          24.7426043,
          24.6941192,
          24.6976883,
          24.59506409999999,
          24.570255,
          24.692347,
          24.6916263,
          24.75733899999999,
          24.6368753,
          24.7092575,
          24.8105963,
          24.5881775,
          24.6008518,
          24.6004069,
          24.6663876,
          24.75744370000001,
          24.5717473,
          24.6940569,
          24.7337823,
          24.7587183,
          24.7559561,
          24.681048,
          24.6905735,
          24.6840264,
          24.7579306,
          24.746228,
          24.6957429,
          24.7247857,
          24.5884052,
          24.7181459,
          24.6382089,
          24.7322926,
          24.5802744,
          24.693749,
          24.7609124,
          24.7289012,
          24.714561,
          24.5681274,
          24.6943084,
          24.6002206,
          24.5620929,
          24.598766,
          24.713222,
          24.6755556,
          24.8082207,
          24.608878,
          24.62540690000001,
          24.800591,
          24.7335149,
          24.7795459,
          24.7809607,
          24.7327532,
          24.695811,
          24.735643,
          24.7045778,
          24.7012777,
          24.85175139999999,
          24.7066487,
          24.7209893,
          24.7048211,
          24.7426043,
          24.6941192,
          24.6976883,
          24.59506409999999,
          24.570255,
          24.692347,
          24.6916263,
          24.75733899999999,
          24.6368753,
          24.7092575,
          24.8105963,
          24.5881775,
          24.6008518,
          24.6004069,
          24.6663876,
          24.75744370000001,
          24.5717473,
          24.6940569,
          24.7337823,
          24.7587183,
          24.7559561,
          24.6905735,
          24.7579306,
          24.681048,
          24.5884052,
          24.6840264,
          24.746228,
          24.6957429,
          24.7247857,
          24.7181459,
          24.5802744,
          24.6382089,
          24.7322926,
          24.693749,
          24.7609124,
          24.5681274,
          24.714561,
          24.7289012,
          24.6943084,
          24.6002206,
          24.5620929,
          24.598766,
          24.713222,
          24.608878,
          24.6755556,
          24.8082207,
          24.62540690000001,
          24.800591,
          24.7335149,
          24.7795459,
          24.7327532,
          24.7809607,
          24.735643,
          24.695811,
          24.7045778,
          24.7012777,
          24.85175139999999,
          24.7066487,
          24.7209893,
          24.7048211,
          24.7426043,
          24.6941192,
          24.6976883,
          24.692347,
          24.59506409999999,
          24.570255,
          24.6916263,
          24.75733899999999,
          24.6368753,
          24.7092575,
          24.8105963,
          24.6008518,
          24.6004069,
          24.5881775,
          24.6663876,
          24.75744370000001,
          24.6940569,
          24.7337823,
          24.7559561,
          24.7579306,
          24.746228,
          24.7587183,
          24.7247857,
          24.6957429,
          24.6905735,
          24.7181459,
          24.7322926,
          24.7609124,
          24.714561,
          24.693749,
          24.7289012,
          24.681048,
          24.6943084,
          24.6840264,
          24.8082207,
          24.800591,
          24.7795459,
          24.5717473,
          24.8200347,
          24.783657,
          24.6755556,
          24.7809607,
          24.713222,
          24.6382089,
          24.7327532,
          24.7045778,
          24.735643,
          24.7133267,
          24.741256,
          24.7200236,
          24.7335149,
          24.8031675,
          24.78142100000001,
          24.80089,
          24.7329617,
          24.7012777,
          24.85175139999999,
          24.7066487,
          24.7209893,
          24.7048211,
          24.7426043,
          24.6941192,
          24.6976883,
          24.692347,
          24.59506409999999,
          24.570255,
          24.6916263,
          24.75733899999999,
          24.6368753,
          24.7092575,
          24.8105963,
          24.6008518,
          24.5881775,
          24.6004069,
          24.6663876,
          24.75744370000001,
          24.5717473,
          24.6940569,
          24.7337823,
          24.7559561,
          24.7579306,
          24.746228,
          24.7587183,
          24.7247857,
          24.6905735,
          24.6957429,
          24.7181459,
          24.7322926,
          24.7609124,
          24.714561,
          24.693749,
          24.681048,
          24.6840264,
          24.7289012,
          24.6943084,
          24.6382089,
          24.8082207,
          24.800591,
          24.6755556,
          24.5884052,
          24.713222,
          24.7795459,
          24.8200347,
          24.783657,
          24.7809607,
          24.7045778,
          24.7327532,
          24.735643,
          24.7133267,
          24.741256,
          24.7335149,
          24.7200236,
          24.5802744,
          24.6002206,
          24.62540690000001,
          24.7012777,
          24.85175139999999,
          24.7066487,
          24.7209893,
          24.7048211,
          24.7426043,
          24.6941192,
          24.6976883,
          24.59506409999999,
          24.570255,
          24.692347,
          24.6916263,
          24.75733899999999,
          24.6368753,
          24.7092575,
          24.8105963,
          24.5881775,
          24.6008518,
          24.6004069,
          24.6663876,
          24.5717473,
          24.75744370000001,
          24.6940569,
          24.7337823,
          24.5884052,
          24.7559561,
          24.6905735,
          24.681048,
          24.6840264,
          24.7579306,
          24.5802744,
          24.7587183,
          24.6957429,
          24.746228,
          24.7247857,
          24.5681274,
          24.6382089,
          24.7181459,
          24.693749,
          24.7322926,
          24.5620929,
          24.714561,
          24.7609124,
          24.7289012,
          24.6943084,
          24.6002206,
          24.598766,
          24.608878,
          24.62540690000001,
          24.6755556,
          24.713222,
          24.8082207,
          24.800591,
          24.5724179,
          24.5548875,
          24.7045778,
          24.695811,
          24.7327532,
          24.7335149,
          24.735643,
          24.7012777,
          24.85175139999999,
          24.7066487,
          24.7209893,
          24.7048211,
          24.6941192,
          24.7426043,
          24.6976883,
          24.59506409999999,
          24.570255,
          24.692347,
          24.6916263,
          24.75733899999999,
          24.6368753,
          24.7092575,
          24.8105963,
          24.5881775,
          24.6008518,
          24.6004069,
          24.6663876,
          24.5717473,
          24.75744370000001,
          24.6940569,
          24.5884052,
          24.7337823,
          24.6905735,
          24.681048,
          24.5802744,
          24.7559561,
          24.6840264,
          24.6957429,
          24.5681274,
          24.7247857,
          24.7579306,
          24.746228,
          24.6382089,
          24.7181459,
          24.5620929,
          24.693749,
          24.7587183,
          24.7322926,
          24.714561,
          24.7609124,
          24.6002206,
          24.6943084,
          24.598766,
          24.7289012,
          24.608878,
          24.62540690000001,
          24.6755556,
          24.713222,
          24.5724179,
          24.5548875,
          24.7045778,
          24.695811,
          24.6680854,
          24.7327532,
          24.7133267,
          24.6399265,
          24.735643,
          24.7012777,
          24.85175139999999,
          24.7066487,
          24.7209893,
          24.7048211,
          24.6941192,
          24.7426043,
          24.6976883,
          24.59506409999999,
          24.570255,
          24.692347,
          24.6916263,
          24.75733899999999,
          24.6368753,
          24.7092575,
          24.8105963,
          24.5881775,
          24.6008518,
          24.6004069,
          24.6663876,
          24.5717473,
          24.75744370000001,
          24.6940569,
          24.5884052,
          24.7337823,
          24.5802744,
          24.6905735,
          24.5681274,
          24.681048,
          24.6957429,
          24.6382089,
          24.6840264,
          24.7247857,
          24.7559561,
          24.746228,
          24.5620929,
          24.7579306,
          24.7181459,
          24.693749,
          24.7322926,
          24.714561,
          24.6002206,
          24.598766,
          24.6943084,
          24.608878,
          24.7609124,
          24.62540690000001,
          24.6755556,
          24.7289012,
          24.5724179,
          24.5548875,
          24.7587183,
          24.713222,
          24.7045778,
          24.6399265,
          24.6680854,
          24.7133267,
          24.695811,
          24.683756,
          24.7200236,
          24.7012777,
          24.85175139999999,
          24.7066487,
          24.7209893,
          24.7048211,
          24.6941192,
          24.7426043,
          24.6976883,
          24.59506409999999,
          24.570255,
          24.692347,
          24.6916263,
          24.75733899999999,
          24.6368753,
          24.7092575,
          24.5881775,
          24.8105963,
          24.6008518,
          24.6004069,
          24.6663876,
          24.5717473,
          24.75744370000001,
          24.6940569,
          24.5884052,
          24.5802744,
          24.5681274,
          24.7337823,
          24.6382089,
          24.6905735,
          24.5620929,
          24.6957429,
          24.7247857,
          24.746228,
          24.7559561,
          24.6002206,
          24.598766,
          24.714561,
          24.693749,
          24.7181459,
          24.7579306,
          24.7322926,
          24.608878,
          24.6943084,
          24.681048,
          24.62540690000001,
          24.6755556,
          24.6840264,
          24.5548875,
          24.5724179,
          24.7609124,
          24.7045778,
          24.6399265,
          24.7133267,
          24.683756,
          24.6829077,
          24.7200236,
          24.5962469,
          24.741256,
          24.588635,
          24.5777937,
          24.7012777,
          24.85175139999999,
          24.7066487,
          24.7209893,
          24.7048211,
          24.6941192,
          24.7426043,
          24.6976883,
          24.59506409999999,
          24.570255,
          24.692347,
          24.6916263,
          24.75733899999999,
          24.6368753,
          24.7092575,
          24.8105963,
          24.5881775,
          24.6008518,
          24.6004069,
          24.6663876,
          24.5717473,
          24.75744370000001,
          24.6940569,
          24.5884052,
          24.7337823,
          24.6905735,
          24.681048,
          24.5802744,
          24.6840264,
          24.6957429,
          24.7559561,
          24.5681274,
          24.7247857,
          24.6382089,
          24.7579306,
          24.746228,
          24.7181459,
          24.5620929,
          24.693749,
          24.7322926,
          24.7587183,
          24.714561,
          24.6002206,
          24.598766,
          24.6943084,
          24.7609124,
          24.7289012,
          24.608878,
          24.62540690000001,
          24.6755556,
          24.713222,
          24.5724179,
          24.5548875,
          24.7045778,
          24.695811,
          24.6680854,
          24.6399265,
          24.7133267,
          24.7327532,
          24.735643,
          25.12849,
          25.1296737,
          25.109404,
          25.1086827,
          25.107948,
          25.1076372,
          25.1074879,
          25.1107846,
          25.1125007,
          25.1130201,
          25.1130808,
          25.1130291,
          25.1147692,
          25.1114987,
          25.1157976,
          25.1122995,
          25.1124806,
          25.1154135,
          25.1154502,
          25.1164065,
          25.1166758,
          25.1266939,
          25.1277272,
          25.1277625,
          25.1283577,
          25.1293929,
          25.1247586,
          25.1248808,
          25.125953,
          25.1309205,
          25.1309475,
          25.1313839,
          25.1310194,
          25.1309824,
          25.1308879,
          25.1308297,
          25.1308174,
          25.1308185,
          25.1284909,
          25.1101679,
          25.1100392,
          25.1100305,
          25.1045107,
          25.131417,
          25.088634,
          25.0932254,
          25.088148,
          24.9960839,
          25.1584323,
          25.1658531,
          25.1765166,
          25.1765166,
          25.1625308,
          25.1625308,
          25.1625308,
          25.1730757,
          25.1681696,
          25.1679463,
          25.1678918,
          25.16794449999999,
          24.7012777,
          24.7066487,
          24.7209893,
          24.692347,
          24.570255,
          24.6368753,
          24.6976883,
          24.6008518,
          24.6004069,
          24.5881775,
          24.59506409999999,
          24.5548875,
          24.4726616,
          24.4760398,
          24.476011,
          24.5681274,
          24.5717473,
          24.5634764,
          24.5884052,
          24.5679414,
          24.5680244,
          24.5730097,
          24.5730066,
          24.5535259,
          24.5531347,
          24.5802744,
          24.5527572,
          24.5527337,
          24.6359595,
          24.5724179,
          24.5777535,
          24.5774162,
          24.5777937,
          24.6270715,
          24.6268875,
          24.578088,
          24.62841929999999,
          24.629409,
          24.6383518,
          24.631477,
          24.632401,
          24.6325413,
          24.5969531,
          24.6323112,
          24.6326132,
          24.6347791,
          24.5758887,
          24.4964041,
          24.5703014,
          24.5787268,
          24.5692395,
          24.569785,
          24.5825227,
          24.582688,
          24.6534047,
          24.5675952,
          24.567418,
          24.5671739,
          24.5671361,
          24.5663525,
          24.51445229999999,
          24.5163394,
          24.507663,
          24.5258778,
          24.5335248,
          24.5449246,
          24.51358179999999,
          24.5146332,
          24.5146344,
          24.5146309,
          24.5146368,
          24.5145376,
          24.5152988,
          24.5128306,
          24.5188511,
          24.5164335,
          24.5198008,
          24.5159241,
          24.5201048,
          24.5150362,
          24.5065108,
          24.5063442,
          24.5101724,
          24.5101268,
          24.5167443,
          24.5167443,
          24.5167443,
          24.5167443,
          24.5167443,
          24.5167443,
          24.5167444,
          24.5167444,
          24.5167444,
          24.5167444,
          24.5099075,
          24.51937420000001,
          24.50898969999999,
          24.5204385,
          24.5081067,
          24.511048,
          24.5236685,
          24.5228312,
          24.5221754,
          24.5234864,
          24.5220666,
          24.522963,
          24.5176284,
          24.5176751,
          24.5229495,
          24.5230397,
          24.5059384,
          24.524709,
          24.5246681,
          24.5240864,
          24.5241179,
          24.5281644,
          24.5053535,
          24.5052942,
          24.5253745,
          24.5048921,
          24.7012777,
          24.85175139999999,
          24.7066487,
          24.7209893,
          24.7048211,
          24.7426043,
          24.6941192,
          24.6976883,
          24.59506409999999,
          24.570255,
          24.692347,
          24.6916263,
          24.75733899999999,
          24.6368753,
          24.7092575,
          24.8105963,
          24.5881775,
          24.6008518,
          24.6004069,
          24.6663876,
          24.75744370000001,
          24.5717473,
          24.6940569,
          24.7587183,
          24.7337823,
          24.681048,
          24.7559561,
          24.6840264,
          24.6905735,
          24.7579306,
          24.6957429,
          24.7247857,
          24.746228,
          24.5884052,
          24.6382089,
          24.7181459,
          24.7322926,
          24.693749,
          24.7289012,
          24.5802744,
          24.7609124,
          24.714561,
          24.6943084,
          24.5620929,
          24.5681274,
          24.6002206,
          24.713222,
          24.598766,
          24.6755556,
          24.8082207,
          24.608878,
          24.62540690000001,
          24.800591,
          24.7335149,
          24.695811,
          24.7795459,
          24.7809607,
          24.7327532,
          24.735643,
          24.6680854,
          24.7012777,
          24.85175139999999,
          24.7066487,
          24.7209893,
          24.7048211,
          24.7426043,
          24.6941192,
          24.6976883,
          24.59506409999999,
          24.570255,
          24.692347,
          24.6916263,
          24.75733899999999,
          24.6368753,
          24.7092575,
          24.8105963,
          24.5881775,
          24.6008518,
          24.6004069,
          24.6663876,
          24.75744370000001,
          24.5717473,
          24.6940569,
          24.7337823,
          24.7587183,
          24.681048,
          24.7559561,
          24.6840264,
          24.6905735,
          24.7579306,
          24.6957429,
          24.746228,
          24.7247857,
          24.5884052,
          24.6382089,
          24.7181459,
          24.5802744,
          24.7322926,
          24.693749,
          24.7289012,
          24.7609124,
          24.714561,
          24.5681274,
          24.5620929,
          24.6943084,
          24.6002206,
          24.598766,
          24.713222,
          24.6755556,
          24.608878,
          24.8082207,
          24.62540690000001,
          24.800591,
          24.7335149,
          24.7795459,
          24.695811,
          24.7809607,
          24.7327532,
          24.735643,
          24.7045778
         ],
         "legendgroup": "",
         "lon": [
          46.69398469999999,
          46.5764369,
          46.6417087,
          46.6196551,
          46.7061255,
          46.70469529999999,
          46.7226815,
          46.66923329999999,
          46.737091,
          46.69138399999999,
          46.6049938,
          46.70188479999999,
          46.740762,
          46.58854249999999,
          46.7889345,
          46.6240752,
          46.66901430000001,
          46.6436339,
          46.6441676,
          46.72442909999999,
          46.6653609,
          46.75289959999999,
          46.6983362,
          46.6870006,
          46.81412389999999,
          46.6251475,
          46.784153,
          46.7923858,
          46.6575254,
          46.7231741,
          46.6625465,
          46.70311350000001,
          46.63085969999999,
          46.65586740000001,
          46.619087,
          46.6212052,
          46.713719,
          46.68670509999999,
          46.70186499999999,
          46.6758245,
          46.7069578,
          46.7834343,
          46.6736126,
          46.6345087,
          46.6836945,
          46.6443952,
          46.640038,
          46.65607869999999,
          46.794646,
          46.6889225,
          46.675,
          46.7182893,
          46.743149,
          46.81462699999999,
          46.792399,
          46.76440969999999,
          46.750084,
          46.7975115,
          46.76226500000001,
          46.61225279999999,
          46.69398469999999,
          46.5764369,
          46.6417087,
          46.6196551,
          46.7061255,
          46.70469529999999,
          46.7226815,
          46.66923329999999,
          46.737091,
          46.69138399999999,
          46.6049938,
          46.70188479999999,
          46.740762,
          46.58854249999999,
          46.7889345,
          46.6240752,
          46.66901430000001,
          46.6436339,
          46.6441676,
          46.72442909999999,
          46.6653609,
          46.75289959999999,
          46.6983362,
          46.6870006,
          46.81412389999999,
          46.6251475,
          46.784153,
          46.6575254,
          46.7923858,
          46.7231741,
          46.6625465,
          46.70311350000001,
          46.65586740000001,
          46.619087,
          46.63085969999999,
          46.6212052,
          46.713719,
          46.68670509999999,
          46.70186499999999,
          46.6758245,
          46.7069578,
          46.7834343,
          46.6736126,
          46.6345087,
          46.6836945,
          46.6443952,
          46.640038,
          46.65607869999999,
          46.794646,
          46.675,
          46.6889225,
          46.7182893,
          46.743149,
          46.81462699999999,
          46.792399,
          46.750084,
          46.76440969999999,
          46.7975115,
          46.76226500000001,
          46.6647609,
          46.69398469999999,
          46.5764369,
          46.6417087,
          46.6196551,
          46.7061255,
          46.70469529999999,
          46.7226815,
          46.66923329999999,
          46.737091,
          46.69138399999999,
          46.6049938,
          46.70188479999999,
          46.740762,
          46.58854249999999,
          46.7889345,
          46.6240752,
          46.66901430000001,
          46.6436339,
          46.6441676,
          46.72442909999999,
          46.6653609,
          46.75289959999999,
          46.6983362,
          46.6870006,
          46.81412389999999,
          46.6251475,
          46.784153,
          46.6575254,
          46.7923858,
          46.7231741,
          46.6625465,
          46.70311350000001,
          46.63085969999999,
          46.619087,
          46.65586740000001,
          46.6212052,
          46.713719,
          46.68670509999999,
          46.70186499999999,
          46.6758245,
          46.7069578,
          46.7834343,
          46.6736126,
          46.6345087,
          46.6836945,
          46.6443952,
          46.640038,
          46.65607869999999,
          46.794646,
          46.675,
          46.6889225,
          46.7182893,
          46.743149,
          46.81462699999999,
          46.792399,
          46.750084,
          46.76440969999999,
          46.7975115,
          46.76226500000001,
          46.61225279999999,
          46.69398469999999,
          46.5764369,
          46.6417087,
          46.6196551,
          46.7061255,
          46.70469529999999,
          46.7226815,
          46.66923329999999,
          46.737091,
          46.69138399999999,
          46.6049938,
          46.70188479999999,
          46.740762,
          46.58854249999999,
          46.7889345,
          46.6240752,
          46.66901430000001,
          46.6436339,
          46.6441676,
          46.72442909999999,
          46.6653609,
          46.75289959999999,
          46.6983362,
          46.6870006,
          46.81412389999999,
          46.6251475,
          46.784153,
          46.7923858,
          46.6575254,
          46.7231741,
          46.6625465,
          46.70311350000001,
          46.63085969999999,
          46.65586740000001,
          46.619087,
          46.6212052,
          46.713719,
          46.68670509999999,
          46.70186499999999,
          46.6758245,
          46.7069578,
          46.7834343,
          46.6736126,
          46.6345087,
          46.6836945,
          46.6443952,
          46.640038,
          46.65607869999999,
          46.794646,
          46.675,
          46.6889225,
          46.7182893,
          46.743149,
          46.81462699999999,
          46.792399,
          46.750084,
          46.76440969999999,
          46.7975115,
          46.76226500000001,
          46.61225279999999,
          46.69398469999999,
          46.5764369,
          46.6417087,
          46.6196551,
          46.7061255,
          46.70469529999999,
          46.7226815,
          46.66923329999999,
          46.737091,
          46.69138399999999,
          46.6049938,
          46.70188479999999,
          46.740762,
          46.58854249999999,
          46.7889345,
          46.6240752,
          46.66901430000001,
          46.6436339,
          46.6441676,
          46.72442909999999,
          46.6653609,
          46.75289959999999,
          46.6983362,
          46.6870006,
          46.81412389999999,
          46.6251475,
          46.784153,
          46.7923858,
          46.6575254,
          46.7231741,
          46.6625465,
          46.70311350000001,
          46.63085969999999,
          46.65586740000001,
          46.619087,
          46.6212052,
          46.713719,
          46.68670509999999,
          46.70186499999999,
          46.6758245,
          46.7069578,
          46.7834343,
          46.6736126,
          46.6345087,
          46.6836945,
          46.6443952,
          46.640038,
          46.65607869999999,
          46.794646,
          46.6889225,
          46.675,
          46.7182893,
          46.743149,
          46.81462699999999,
          46.792399,
          46.76440969999999,
          46.750084,
          46.7975115,
          46.76226500000001,
          46.61225279999999,
          46.69398469999999,
          46.5764369,
          46.6417087,
          46.6196551,
          46.7061255,
          46.70469529999999,
          46.7226815,
          46.66923329999999,
          46.737091,
          46.69138399999999,
          46.6049938,
          46.70188479999999,
          46.740762,
          46.58854249999999,
          46.7889345,
          46.6240752,
          46.66901430000001,
          46.6436339,
          46.6441676,
          46.72442909999999,
          46.6653609,
          46.75289959999999,
          46.6983362,
          46.6870006,
          46.81412389999999,
          46.6251475,
          46.6575254,
          46.784153,
          46.7923858,
          46.7231741,
          46.6625465,
          46.70311350000001,
          46.619087,
          46.63085969999999,
          46.65586740000001,
          46.6212052,
          46.713719,
          46.68670509999999,
          46.6758245,
          46.70186499999999,
          46.7069578,
          46.6736126,
          46.7834343,
          46.6345087,
          46.6836945,
          46.6443952,
          46.640038,
          46.65607869999999,
          46.794646,
          46.675,
          46.6889225,
          46.7182893,
          46.743149,
          46.81462699999999,
          46.792399,
          46.750084,
          46.76440969999999,
          46.7975115,
          46.76226500000001,
          46.61225279999999,
          44.78612469999999,
          44.7895881,
          44.7906072,
          44.7934042,
          44.7936741,
          44.7709565,
          44.7641041,
          44.7624435,
          44.76429819999999,
          44.762651,
          44.7617595,
          44.7625571,
          44.7623999,
          44.7642932,
          44.7617196,
          44.76253510000001,
          44.7641185,
          44.76226339999999,
          44.7626044,
          44.7620616,
          44.7628417,
          44.7628344,
          44.7627026,
          44.7627023,
          44.7621866,
          44.7614997,
          44.7624046,
          44.7603125,
          44.7613134,
          44.7621495,
          44.76190800000001,
          44.75580970000001,
          44.7591594,
          44.7002085,
          44.70037479999999,
          44.88456040000001,
          44.6888711,
          44.89412889999999,
          44.8941168,
          44.8943793,
          44.6771425,
          44.6771425,
          44.6704319,
          44.6546327,
          44.651542,
          44.651561,
          44.74805189999999,
          44.6219155,
          44.62115070000001,
          44.5919455,
          44.9928682,
          44.6106791,
          44.9946782,
          45.0609901,
          44.9519218,
          44.9504613,
          44.94989,
          45.0791527,
          45.079162,
          45.079162,
          46.69398469999999,
          46.5764369,
          46.6417087,
          46.6196551,
          46.7061255,
          46.70469529999999,
          46.7226815,
          46.66923329999999,
          46.737091,
          46.69138399999999,
          46.6049938,
          46.70188479999999,
          46.740762,
          46.58854249999999,
          46.7889345,
          46.6240752,
          46.66901430000001,
          46.6436339,
          46.6441676,
          46.72442909999999,
          46.6653609,
          46.75289959999999,
          46.6983362,
          46.6870006,
          46.81412389999999,
          46.6575254,
          46.6251475,
          46.784153,
          46.7923858,
          46.7231741,
          46.6625465,
          46.70311350000001,
          46.619087,
          46.65586740000001,
          46.63085969999999,
          46.713719,
          46.68670509999999,
          46.6212052,
          46.6758245,
          46.70186499999999,
          46.6736126,
          46.7834343,
          46.6345087,
          46.7069578,
          46.6836945,
          46.6443952,
          46.640038,
          46.794646,
          46.65607869999999,
          46.675,
          46.6889225,
          46.7182893,
          46.743149,
          46.81462699999999,
          46.750084,
          46.792399,
          46.76440969999999,
          46.7975115,
          46.76226500000001,
          46.6647609,
          46.69398469999999,
          46.5764369,
          46.6417087,
          46.6196551,
          46.7061255,
          46.70469529999999,
          46.7226815,
          46.66923329999999,
          46.737091,
          46.69138399999999,
          46.6049938,
          46.70188479999999,
          46.740762,
          46.58854249999999,
          46.7889345,
          46.6240752,
          46.66901430000001,
          46.6436339,
          46.6441676,
          46.72442909999999,
          46.6653609,
          46.75289959999999,
          46.6983362,
          46.6870006,
          46.81412389999999,
          46.6575254,
          46.784153,
          46.7923858,
          46.7231741,
          46.6625465,
          46.6251475,
          46.70311350000001,
          46.619087,
          46.65586740000001,
          46.713719,
          46.63085969999999,
          46.68670509999999,
          46.6758245,
          46.70186499999999,
          46.6212052,
          46.6736126,
          46.7834343,
          46.6345087,
          46.7069578,
          46.6836945,
          46.6443952,
          46.640038,
          46.794646,
          46.65607869999999,
          46.675,
          46.7182893,
          46.6889225,
          46.743149,
          46.81462699999999,
          46.750084,
          46.792399,
          46.7975115,
          46.76440969999999,
          46.76226500000001,
          46.6647609,
          46.69398469999999,
          46.5764369,
          46.6417087,
          46.6196551,
          46.7061255,
          46.70469529999999,
          46.7226815,
          46.66923329999999,
          46.737091,
          46.69138399999999,
          46.6049938,
          46.70188479999999,
          46.740762,
          46.58854249999999,
          46.7889345,
          46.6240752,
          46.66901430000001,
          46.6436339,
          46.6441676,
          46.72442909999999,
          46.75289959999999,
          46.6653609,
          46.6983362,
          46.6870006,
          46.81412389999999,
          46.6575254,
          46.6625465,
          46.7231741,
          46.784153,
          46.619087,
          46.7923858,
          46.65586740000001,
          46.70311350000001,
          46.6251475,
          46.68670509999999,
          46.6758245,
          46.713719,
          46.70186499999999,
          46.6736126,
          46.63085969999999,
          46.6345087,
          46.7834343,
          46.6836945,
          46.6212052,
          46.6443952,
          46.640038,
          46.794646,
          46.675,
          46.7182893,
          46.65607869999999,
          46.743149,
          46.7069578,
          46.6889225,
          46.750084,
          46.81462699999999,
          46.76440969999999,
          46.7975115,
          46.76226500000001,
          46.6647609,
          46.6423155,
          46.69398469999999,
          46.5764369,
          46.6417087,
          46.6196551,
          46.7061255,
          46.70469529999999,
          46.7226815,
          46.66923329999999,
          46.737091,
          46.69138399999999,
          46.6049938,
          46.70188479999999,
          46.740762,
          46.58854249999999,
          46.7889345,
          46.6240752,
          46.66901430000001,
          46.6436339,
          46.6441676,
          46.72442909999999,
          46.75289959999999,
          46.6653609,
          46.6983362,
          46.6870006,
          46.81412389999999,
          46.6575254,
          46.784153,
          46.7231741,
          46.7923858,
          46.6625465,
          46.619087,
          46.70311350000001,
          46.65586740000001,
          46.6251475,
          46.68670509999999,
          46.713719,
          46.6758245,
          46.63085969999999,
          46.70186499999999,
          46.6736126,
          46.7834343,
          46.6345087,
          46.6212052,
          46.6836945,
          46.6443952,
          46.7069578,
          46.640038,
          46.794646,
          46.675,
          46.7182893,
          46.65607869999999,
          46.6889225,
          46.743149,
          46.81462699999999,
          46.750084,
          46.7975115,
          46.76440969999999,
          46.792399,
          46.76226500000001,
          46.6647609,
          46.69398469999999,
          46.5764369,
          46.6417087,
          46.6196551,
          46.7061255,
          46.70469529999999,
          46.7226815,
          46.66923329999999,
          46.6049938,
          46.737091,
          46.69138399999999,
          46.70188479999999,
          46.740762,
          46.58854249999999,
          46.7889345,
          46.6240752,
          46.6436339,
          46.6441676,
          46.66901430000001,
          46.72442909999999,
          46.75289959999999,
          46.6983362,
          46.6870006,
          46.6575254,
          46.6653609,
          46.6625465,
          46.619087,
          46.65586740000001,
          46.81412389999999,
          46.70311350000001,
          46.7231741,
          46.68670509999999,
          46.6758245,
          46.6736126,
          46.6345087,
          46.70186499999999,
          46.6836945,
          46.7834343,
          46.784153,
          46.7182893,
          46.7923858,
          46.743149,
          46.713719,
          46.675,
          46.6423155,
          46.63529399999999,
          46.750084,
          46.6647609,
          46.6338494,
          46.7975115,
          46.794646,
          46.657895,
          46.76440969999999,
          46.76226500000001,
          46.6251475,
          46.6905001,
          46.60467529999999,
          46.74147,
          46.7436203,
          46.652378,
          46.69398469999999,
          46.5764369,
          46.6417087,
          46.6196551,
          46.7061255,
          46.70469529999999,
          46.7226815,
          46.66923329999999,
          46.737091,
          46.69138399999999,
          46.6049938,
          46.70188479999999,
          46.740762,
          46.58854249999999,
          46.7889345,
          46.6240752,
          46.66901430000001,
          46.6436339,
          46.6441676,
          46.72442909999999,
          46.6653609,
          46.75289959999999,
          46.6983362,
          46.6870006,
          46.6575254,
          46.6251475,
          46.81412389999999,
          46.7231741,
          46.6625465,
          46.784153,
          46.619087,
          46.70311350000001,
          46.7923858,
          46.65586740000001,
          46.63085969999999,
          46.6212052,
          46.68670509999999,
          46.713719,
          46.6758245,
          46.70186499999999,
          46.6736126,
          46.6345087,
          46.7834343,
          46.6836945,
          46.7069578,
          46.6443952,
          46.640038,
          46.65607869999999,
          46.675,
          46.794646,
          46.6889225,
          46.7182893,
          46.743149,
          46.750084,
          46.76440969999999,
          46.81462699999999,
          46.6647609,
          46.76226500000001,
          46.6423155,
          46.63529399999999,
          46.69398469999999,
          46.5764369,
          46.6417087,
          46.6196551,
          46.7061255,
          46.70469529999999,
          46.7226815,
          46.66923329999999,
          46.737091,
          46.69138399999999,
          46.6049938,
          46.70188479999999,
          46.740762,
          46.58854249999999,
          46.7889345,
          46.6240752,
          46.66901430000001,
          46.6436339,
          46.6441676,
          46.72442909999999,
          46.75289959999999,
          46.6653609,
          46.6983362,
          46.6870006,
          46.6575254,
          46.81412389999999,
          46.6625465,
          46.7231741,
          46.6251475,
          46.619087,
          46.65586740000001,
          46.70311350000001,
          46.784153,
          46.7923858,
          46.68670509999999,
          46.63085969999999,
          46.6758245,
          46.713719,
          46.70186499999999,
          46.6736126,
          46.6345087,
          46.6212052,
          46.7834343,
          46.6836945,
          46.6443952,
          46.640038,
          46.675,
          46.7182893,
          46.65607869999999,
          46.7069578,
          46.794646,
          46.743149,
          46.6889225,
          46.750084,
          46.76440969999999,
          46.6647609,
          46.6423155,
          46.63529399999999,
          46.76226500000001,
          46.7975115,
          46.69398469999999,
          46.5764369,
          46.6417087,
          46.6196551,
          46.7061255,
          46.70469529999999,
          46.7226815,
          46.66923329999999,
          46.737091,
          46.69138399999999,
          46.6049938,
          46.70188479999999,
          46.740762,
          46.58854249999999,
          46.7889345,
          46.6240752,
          46.66901430000001,
          46.6436339,
          46.6441676,
          46.72442909999999,
          46.75289959999999,
          46.6653609,
          46.6983362,
          46.6870006,
          46.81412389999999,
          46.6575254,
          46.784153,
          46.7231741,
          46.7923858,
          46.6625465,
          46.619087,
          46.70311350000001,
          46.65586740000001,
          46.6251475,
          46.68670509999999,
          46.713719,
          46.6758245,
          46.63085969999999,
          46.70186499999999,
          46.6736126,
          46.7834343,
          46.6345087,
          46.6212052,
          46.6836945,
          46.6443952,
          46.7069578,
          46.640038,
          46.794646,
          46.675,
          46.7182893,
          46.65607869999999,
          46.6889225,
          46.743149,
          46.81462699999999,
          46.750084,
          46.7975115,
          46.76440969999999,
          46.792399,
          46.76226500000001,
          46.6647609,
          46.69398469999999,
          46.5764369,
          46.6417087,
          46.6196551,
          46.7061255,
          46.70469529999999,
          46.7226815,
          46.66923329999999,
          46.737091,
          46.69138399999999,
          46.6049938,
          46.70188479999999,
          46.740762,
          46.58854249999999,
          46.7889345,
          46.6240752,
          46.66901430000001,
          46.6436339,
          46.6441676,
          46.72442909999999,
          46.75289959999999,
          46.6653609,
          46.6983362,
          46.6870006,
          46.81412389999999,
          46.6575254,
          46.7231741,
          46.6625465,
          46.784153,
          46.6251475,
          46.7923858,
          46.619087,
          46.70311350000001,
          46.65586740000001,
          46.68670509999999,
          46.63085969999999,
          46.713719,
          46.6758245,
          46.70186499999999,
          46.6736126,
          46.6212052,
          46.6345087,
          46.7834343,
          46.6836945,
          46.6443952,
          46.7069578,
          46.640038,
          46.794646,
          46.65607869999999,
          46.675,
          46.7182893,
          46.6889225,
          46.743149,
          46.81462699999999,
          46.750084,
          46.76440969999999,
          46.7975115,
          46.76226500000001,
          46.792399,
          46.6647609,
          46.69398469999999,
          46.5764369,
          46.6417087,
          46.6196551,
          46.7061255,
          46.70469529999999,
          46.7226815,
          46.66923329999999,
          46.6049938,
          46.737091,
          46.69138399999999,
          46.70188479999999,
          46.740762,
          46.58854249999999,
          46.7889345,
          46.6240752,
          46.6436339,
          46.6441676,
          46.66901430000001,
          46.72442909999999,
          46.75289959999999,
          46.6983362,
          46.6870006,
          46.6575254,
          46.6625465,
          46.619087,
          46.81412389999999,
          46.65586740000001,
          46.70311350000001,
          46.7231741,
          46.68670509999999,
          46.6758245,
          46.6736126,
          46.6345087,
          46.70186499999999,
          46.7834343,
          46.784153,
          46.6836945,
          46.7923858,
          46.7182893,
          46.743149,
          46.750084,
          46.6653609,
          46.6423155,
          46.63529399999999,
          46.675,
          46.7975115,
          46.794646,
          46.713719,
          46.76440969999999,
          46.6647609,
          46.76226500000001,
          46.6338494,
          46.657895,
          46.6905001,
          46.81462699999999,
          46.60467529999999,
          46.74147,
          46.7436203,
          46.7647911,
          46.69398469999999,
          46.5764369,
          46.6417087,
          46.6196551,
          46.7061255,
          46.70469529999999,
          46.7226815,
          46.66923329999999,
          46.6049938,
          46.737091,
          46.69138399999999,
          46.70188479999999,
          46.740762,
          46.58854249999999,
          46.7889345,
          46.6240752,
          46.6436339,
          46.66901430000001,
          46.6441676,
          46.72442909999999,
          46.75289959999999,
          46.6653609,
          46.6983362,
          46.6870006,
          46.6575254,
          46.6625465,
          46.619087,
          46.81412389999999,
          46.65586740000001,
          46.7231741,
          46.70311350000001,
          46.68670509999999,
          46.6758245,
          46.6736126,
          46.6345087,
          46.70186499999999,
          46.784153,
          46.7923858,
          46.7834343,
          46.6836945,
          46.713719,
          46.7182893,
          46.743149,
          46.675,
          46.6251475,
          46.794646,
          46.750084,
          46.6423155,
          46.63529399999999,
          46.7975115,
          46.6647609,
          46.76440969999999,
          46.76226500000001,
          46.6338494,
          46.657895,
          46.81462699999999,
          46.6905001,
          46.63085969999999,
          46.6443952,
          46.6889225,
          46.69398469999999,
          46.5764369,
          46.6417087,
          46.6196551,
          46.7061255,
          46.70469529999999,
          46.7226815,
          46.66923329999999,
          46.737091,
          46.69138399999999,
          46.6049938,
          46.70188479999999,
          46.740762,
          46.58854249999999,
          46.7889345,
          46.6240752,
          46.66901430000001,
          46.6436339,
          46.6441676,
          46.72442909999999,
          46.6653609,
          46.75289959999999,
          46.6983362,
          46.6870006,
          46.6251475,
          46.6575254,
          46.7231741,
          46.784153,
          46.7923858,
          46.6625465,
          46.63085969999999,
          46.81412389999999,
          46.70311350000001,
          46.619087,
          46.65586740000001,
          46.6212052,
          46.713719,
          46.68670509999999,
          46.70186499999999,
          46.6758245,
          46.7069578,
          46.6345087,
          46.6736126,
          46.7834343,
          46.6836945,
          46.6443952,
          46.640038,
          46.65607869999999,
          46.6889225,
          46.675,
          46.794646,
          46.7182893,
          46.743149,
          46.61225279999999,
          46.5097818,
          46.6647609,
          46.792399,
          46.76440969999999,
          46.81462699999999,
          46.76226500000001,
          46.69398469999999,
          46.5764369,
          46.6417087,
          46.6196551,
          46.7061255,
          46.7226815,
          46.70469529999999,
          46.66923329999999,
          46.737091,
          46.69138399999999,
          46.6049938,
          46.70188479999999,
          46.740762,
          46.58854249999999,
          46.7889345,
          46.6240752,
          46.66901430000001,
          46.6436339,
          46.6441676,
          46.72442909999999,
          46.6653609,
          46.75289959999999,
          46.6983362,
          46.6251475,
          46.6870006,
          46.7231741,
          46.784153,
          46.63085969999999,
          46.6575254,
          46.7923858,
          46.70311350000001,
          46.6212052,
          46.65586740000001,
          46.6625465,
          46.619087,
          46.713719,
          46.68670509999999,
          46.7069578,
          46.70186499999999,
          46.81412389999999,
          46.6758245,
          46.6345087,
          46.6736126,
          46.6443952,
          46.6836945,
          46.640038,
          46.7834343,
          46.65607869999999,
          46.6889225,
          46.675,
          46.794646,
          46.61225279999999,
          46.5097818,
          46.6647609,
          46.792399,
          46.7824895,
          46.76440969999999,
          46.6338494,
          46.6931508,
          46.76226500000001,
          46.69398469999999,
          46.5764369,
          46.6417087,
          46.6196551,
          46.7061255,
          46.7226815,
          46.70469529999999,
          46.66923329999999,
          46.737091,
          46.69138399999999,
          46.6049938,
          46.70188479999999,
          46.740762,
          46.58854249999999,
          46.7889345,
          46.6240752,
          46.66901430000001,
          46.6436339,
          46.6441676,
          46.72442909999999,
          46.6653609,
          46.75289959999999,
          46.6983362,
          46.6251475,
          46.6870006,
          46.63085969999999,
          46.7231741,
          46.6212052,
          46.784153,
          46.70311350000001,
          46.713719,
          46.7923858,
          46.65586740000001,
          46.6575254,
          46.619087,
          46.7069578,
          46.6625465,
          46.68670509999999,
          46.70186499999999,
          46.6758245,
          46.6345087,
          46.6443952,
          46.640038,
          46.6836945,
          46.65607869999999,
          46.6736126,
          46.6889225,
          46.675,
          46.7834343,
          46.61225279999999,
          46.5097818,
          46.81412389999999,
          46.794646,
          46.6647609,
          46.6931508,
          46.7824895,
          46.6338494,
          46.792399,
          46.652378,
          46.6905001,
          46.69398469999999,
          46.5764369,
          46.6417087,
          46.6196551,
          46.7061255,
          46.7226815,
          46.70469529999999,
          46.66923329999999,
          46.737091,
          46.69138399999999,
          46.6049938,
          46.70188479999999,
          46.740762,
          46.58854249999999,
          46.7889345,
          46.66901430000001,
          46.6240752,
          46.6436339,
          46.6441676,
          46.72442909999999,
          46.6653609,
          46.75289959999999,
          46.6983362,
          46.6251475,
          46.63085969999999,
          46.6212052,
          46.6870006,
          46.713719,
          46.7231741,
          46.7069578,
          46.70311350000001,
          46.65586740000001,
          46.619087,
          46.6575254,
          46.6443952,
          46.640038,
          46.6345087,
          46.70186499999999,
          46.68670509999999,
          46.6625465,
          46.6758245,
          46.65607869999999,
          46.6836945,
          46.784153,
          46.6889225,
          46.675,
          46.7923858,
          46.5097818,
          46.61225279999999,
          46.6736126,
          46.6647609,
          46.6931508,
          46.6338494,
          46.652378,
          46.6891245,
          46.6905001,
          46.6817783,
          46.657895,
          46.623655,
          46.58212329999999,
          46.69398469999999,
          46.5764369,
          46.6417087,
          46.6196551,
          46.7061255,
          46.7226815,
          46.70469529999999,
          46.66923329999999,
          46.737091,
          46.69138399999999,
          46.6049938,
          46.70188479999999,
          46.740762,
          46.58854249999999,
          46.7889345,
          46.6240752,
          46.66901430000001,
          46.6436339,
          46.6441676,
          46.72442909999999,
          46.6653609,
          46.75289959999999,
          46.6983362,
          46.6251475,
          46.6870006,
          46.7231741,
          46.784153,
          46.63085969999999,
          46.7923858,
          46.70311350000001,
          46.6575254,
          46.6212052,
          46.65586740000001,
          46.713719,
          46.6625465,
          46.619087,
          46.68670509999999,
          46.7069578,
          46.70186499999999,
          46.6758245,
          46.81412389999999,
          46.6345087,
          46.6443952,
          46.640038,
          46.6836945,
          46.6736126,
          46.7834343,
          46.65607869999999,
          46.6889225,
          46.675,
          46.794646,
          46.61225279999999,
          46.5097818,
          46.6647609,
          46.792399,
          46.7824895,
          46.6931508,
          46.6338494,
          46.76440969999999,
          46.76226500000001,
          46.104304,
          46.1107104,
          46.1019063,
          46.1014454,
          46.09997660000001,
          46.0991834,
          46.0981268,
          46.10349299999999,
          46.1045323,
          46.09438710000001,
          46.0943735,
          46.0942281,
          46.10486160000001,
          46.10709879999999,
          46.10403,
          46.1071233,
          46.10816440000001,
          46.1073989,
          46.1133909,
          46.1168148,
          46.11719490000001,
          46.0949763,
          46.1050044,
          46.10497910000001,
          46.104138,
          46.1097404,
          46.1238176,
          46.1238362,
          46.123683,
          46.1240169,
          46.1241064,
          46.1239052,
          46.12459459999999,
          46.1247921,
          46.1253205,
          46.12539049999999,
          46.12555159999999,
          46.12558420000001,
          46.1445388,
          46.1855275,
          46.1858291,
          46.1858314,
          46.20039479999999,
          45.97441729999999,
          46.2600159,
          46.2616422,
          46.2610057,
          46.2371789,
          46.32217849999999,
          46.3303006,
          46.3288343,
          46.3288343,
          46.3336857,
          46.3336857,
          46.3336857,
          46.3308005,
          46.33249309999999,
          46.33271420000001,
          46.332736,
          46.33275709999999,
          46.69398469999999,
          46.6417087,
          46.6196551,
          46.6049938,
          46.69138399999999,
          46.58854249999999,
          46.66923329999999,
          46.6436339,
          46.6441676,
          46.66901430000001,
          46.737091,
          46.5097818,
          46.27933189999999,
          46.2867774,
          46.286331,
          46.6212052,
          46.6653609,
          46.51706969999999,
          46.6251475,
          46.5447847,
          46.54483940000001,
          46.5464219,
          46.5467046,
          46.5644569,
          46.5684861,
          46.63085969999999,
          46.5713944,
          46.5717138,
          46.53392159999999,
          46.61225279999999,
          46.5803146,
          46.5757367,
          46.58212329999999,
          46.5560295,
          46.55749,
          46.586062,
          46.5583919,
          46.561442,
          46.5586793,
          46.56466,
          46.56467000000001,
          46.5648429,
          46.5863721,
          46.5657878,
          46.5663484,
          46.5683016,
          46.6050754,
          46.62825859999999,
          46.613558,
          46.6136233,
          46.61903469999999,
          46.618454,
          46.61384040000001,
          46.61426700000001,
          46.5757043,
          46.62239729999999,
          46.6230025,
          46.623349,
          46.6233845,
          46.6252652,
          44.4074628,
          44.4107185,
          44.396131,
          44.4240438,
          44.43074920000001,
          44.4442185,
          44.40689580000001,
          44.4079858,
          44.4079506,
          44.4079139,
          44.40791850000001,
          44.40767049999999,
          44.40905099999999,
          44.40418589999999,
          44.4070967,
          44.4026549,
          44.4087533,
          44.4018909,
          44.4094092,
          44.4011168,
          44.4020421,
          44.4017636,
          44.3994148,
          44.3993384,
          44.4182424,
          44.4182424,
          44.4182424,
          44.4182424,
          44.4182424,
          44.4182424,
          44.4182424,
          44.4182424,
          44.4182424,
          44.4182424,
          44.39895019999999,
          44.41626489999999,
          44.3986084,
          44.41732499999999,
          44.3972042,
          44.3963613,
          44.4134327,
          44.4177349,
          44.4188375,
          44.41699239999999,
          44.4201684,
          44.4197631,
          44.42396019999999,
          44.4239715,
          44.4202704,
          44.4205791,
          44.393192,
          44.3978957,
          44.39773950000001,
          44.4214438,
          44.4217617,
          44.4142541,
          44.3920538,
          44.3919573,
          44.3966659,
          44.39111739999999,
          46.69398469999999,
          46.5764369,
          46.6417087,
          46.6196551,
          46.7061255,
          46.70469529999999,
          46.7226815,
          46.66923329999999,
          46.737091,
          46.69138399999999,
          46.6049938,
          46.70188479999999,
          46.740762,
          46.58854249999999,
          46.7889345,
          46.6240752,
          46.66901430000001,
          46.6436339,
          46.6441676,
          46.72442909999999,
          46.75289959999999,
          46.6653609,
          46.6983362,
          46.81412389999999,
          46.6870006,
          46.784153,
          46.6575254,
          46.7923858,
          46.7231741,
          46.6625465,
          46.70311350000001,
          46.65586740000001,
          46.619087,
          46.6251475,
          46.713719,
          46.68670509999999,
          46.6758245,
          46.70186499999999,
          46.7834343,
          46.63085969999999,
          46.6736126,
          46.6345087,
          46.6836945,
          46.7069578,
          46.6212052,
          46.6443952,
          46.794646,
          46.640038,
          46.675,
          46.7182893,
          46.65607869999999,
          46.6889225,
          46.743149,
          46.81462699999999,
          46.792399,
          46.750084,
          46.7975115,
          46.76440969999999,
          46.76226500000001,
          46.7824895,
          46.69398469999999,
          46.5764369,
          46.6417087,
          46.6196551,
          46.7061255,
          46.70469529999999,
          46.7226815,
          46.66923329999999,
          46.737091,
          46.69138399999999,
          46.6049938,
          46.70188479999999,
          46.740762,
          46.58854249999999,
          46.7889345,
          46.6240752,
          46.66901430000001,
          46.6436339,
          46.6441676,
          46.72442909999999,
          46.75289959999999,
          46.6653609,
          46.6983362,
          46.6870006,
          46.81412389999999,
          46.784153,
          46.6575254,
          46.7923858,
          46.7231741,
          46.6625465,
          46.70311350000001,
          46.619087,
          46.65586740000001,
          46.6251475,
          46.713719,
          46.68670509999999,
          46.63085969999999,
          46.6758245,
          46.70186499999999,
          46.7834343,
          46.6736126,
          46.6345087,
          46.6212052,
          46.7069578,
          46.6836945,
          46.6443952,
          46.640038,
          46.794646,
          46.675,
          46.65607869999999,
          46.7182893,
          46.6889225,
          46.743149,
          46.81462699999999,
          46.750084,
          46.792399,
          46.7975115,
          46.76440969999999,
          46.76226500000001,
          46.6647609
         ],
         "marker": {
          "color": [
           3.7,
           3.5,
           4,
           3,
           4,
           3.9,
           4.3,
           3.8,
           3.7,
           3.9,
           3.8,
           4.3,
           3.6,
           3.7,
           3.8,
           3.8,
           3.8,
           3.3,
           3.5,
           3.9,
           4.1,
           3.8,
           3.8,
           4.3,
           4.1,
           3.3,
           4.1,
           3.6,
           3.7,
           3.9,
           3.7,
           3.9,
           3.9,
           3.9,
           3.7,
           3.8,
           3.6,
           4.3,
           3.5,
           4,
           4.2,
           3.7,
           3.8,
           4.1,
           4.2,
           3.6,
           3.7,
           3.8,
           3.9,
           3.8,
           3.5,
           4.7,
           3.7,
           4.2,
           4.2,
           3.5,
           3.6,
           3.8,
           3.7,
           3.4,
           3.7,
           3.5,
           4,
           3,
           4,
           3.9,
           4.3,
           3.8,
           3.7,
           3.9,
           3.8,
           4.3,
           3.6,
           3.7,
           3.8,
           3.8,
           3.8,
           3.3,
           3.5,
           3.9,
           4.1,
           3.8,
           3.8,
           4.3,
           4.1,
           3.3,
           4.1,
           3.7,
           3.6,
           3.9,
           3.7,
           3.9,
           3.9,
           3.7,
           3.9,
           3.8,
           3.6,
           4.3,
           3.5,
           4,
           4.2,
           3.7,
           3.8,
           4.1,
           4.2,
           3.6,
           3.7,
           3.8,
           3.9,
           3.5,
           3.8,
           4.7,
           3.7,
           4.2,
           4.2,
           3.6,
           3.5,
           3.8,
           3.7,
           3.8,
           3.7,
           3.5,
           4,
           3,
           4,
           3.9,
           4.3,
           3.8,
           3.7,
           3.9,
           3.8,
           4.3,
           3.6,
           3.7,
           3.8,
           3.8,
           3.8,
           3.3,
           3.5,
           3.9,
           4.1,
           3.8,
           3.8,
           4.3,
           4.1,
           3.3,
           4.1,
           3.7,
           3.6,
           3.9,
           3.7,
           3.9,
           3.9,
           3.7,
           3.9,
           3.8,
           3.6,
           4.3,
           3.5,
           4,
           4.2,
           3.7,
           3.8,
           4.1,
           4.2,
           3.6,
           3.7,
           3.8,
           3.9,
           3.5,
           3.8,
           4.7,
           3.7,
           4.2,
           4.2,
           3.6,
           3.5,
           3.8,
           3.7,
           3.4,
           3.7,
           3.5,
           4,
           3,
           4,
           3.9,
           4.3,
           3.8,
           3.7,
           3.9,
           3.8,
           4.3,
           3.6,
           3.7,
           3.8,
           3.8,
           3.8,
           3.3,
           3.5,
           3.9,
           4.1,
           3.8,
           3.8,
           4.3,
           4.1,
           3.3,
           4.1,
           3.6,
           3.7,
           3.9,
           3.7,
           3.9,
           3.9,
           3.9,
           3.7,
           3.8,
           3.6,
           4.3,
           3.5,
           4,
           4.2,
           3.7,
           3.8,
           4.1,
           4.2,
           3.6,
           3.7,
           3.8,
           3.9,
           3.5,
           3.8,
           4.7,
           3.7,
           4.2,
           4.2,
           3.6,
           3.5,
           3.8,
           3.7,
           3.4,
           3.7,
           3.5,
           4,
           3,
           4,
           3.9,
           4.3,
           3.8,
           3.7,
           3.9,
           3.8,
           4.3,
           3.6,
           3.7,
           3.8,
           3.8,
           3.8,
           3.3,
           3.5,
           3.9,
           4.1,
           3.8,
           3.8,
           4.3,
           4.1,
           3.3,
           4.1,
           3.6,
           3.7,
           3.9,
           3.7,
           3.9,
           3.9,
           3.9,
           3.7,
           3.8,
           3.6,
           4.3,
           3.5,
           4,
           4.2,
           3.7,
           3.8,
           4.1,
           4.2,
           3.6,
           3.7,
           3.8,
           3.9,
           3.8,
           3.5,
           4.7,
           3.7,
           4.2,
           4.2,
           3.5,
           3.6,
           3.8,
           3.7,
           3.4,
           3.7,
           3.5,
           4,
           3,
           4,
           3.9,
           4.3,
           3.8,
           3.7,
           3.9,
           3.8,
           4.3,
           3.6,
           3.7,
           3.8,
           3.8,
           3.8,
           3.3,
           3.5,
           3.9,
           4.1,
           3.8,
           3.8,
           4.3,
           4.1,
           3.3,
           3.7,
           4.1,
           3.6,
           3.9,
           3.7,
           3.9,
           3.7,
           3.9,
           3.9,
           3.8,
           3.6,
           4.3,
           4,
           3.5,
           4.2,
           3.8,
           3.7,
           4.1,
           4.2,
           3.6,
           3.7,
           3.8,
           3.9,
           3.5,
           3.8,
           4.7,
           3.7,
           4.2,
           4.2,
           3.6,
           3.5,
           3.8,
           3.7,
           3.4,
           3.3,
           3.2,
           3.2,
           3,
           4.1,
           null,
           3.6,
           4.1,
           4.4,
           5,
           4.6,
           5,
           3.7,
           3.9,
           3.5,
           4.7,
           null,
           3,
           null,
           5,
           4.7,
           5,
           null,
           3.7,
           3.8,
           3.7,
           3.7,
           3.3,
           4,
           3.5,
           3.7,
           null,
           4.4,
           3.6,
           4,
           3.3,
           5,
           2.4,
           2.9,
           4.9,
           null,
           5,
           5,
           4.1,
           4.1,
           5,
           5,
           4.3,
           4.1,
           5,
           3.4,
           5,
           4.3,
           3.8,
           4.5,
           1.8,
           null,
           3,
           4,
           null,
           3.7,
           3.5,
           4,
           3,
           4,
           3.9,
           4.3,
           3.8,
           3.7,
           3.9,
           3.8,
           4.3,
           3.6,
           3.7,
           3.8,
           3.8,
           3.8,
           3.3,
           3.5,
           3.9,
           4.1,
           3.8,
           3.8,
           4.3,
           4.1,
           3.7,
           3.3,
           4.1,
           3.6,
           3.9,
           3.7,
           3.9,
           3.7,
           3.9,
           3.9,
           3.6,
           4.3,
           3.8,
           4,
           3.5,
           3.8,
           3.7,
           4.1,
           4.2,
           4.2,
           3.6,
           3.7,
           3.9,
           3.8,
           3.5,
           3.8,
           4.7,
           3.7,
           4.2,
           3.6,
           4.2,
           3.5,
           3.8,
           3.7,
           3.8,
           3.7,
           3.5,
           4,
           3,
           4,
           3.9,
           4.3,
           3.8,
           3.7,
           3.9,
           3.8,
           4.3,
           3.6,
           3.7,
           3.8,
           3.8,
           3.8,
           3.3,
           3.5,
           3.9,
           4.1,
           3.8,
           3.8,
           4.3,
           4.1,
           3.7,
           4.1,
           3.6,
           3.9,
           3.7,
           3.3,
           3.9,
           3.7,
           3.9,
           3.6,
           3.9,
           4.3,
           4,
           3.5,
           3.8,
           3.8,
           3.7,
           4.1,
           4.2,
           4.2,
           3.6,
           3.7,
           3.9,
           3.8,
           3.5,
           4.7,
           3.8,
           3.7,
           4.2,
           3.6,
           4.2,
           3.8,
           3.5,
           3.7,
           3.8,
           3.7,
           3.5,
           4,
           3,
           4,
           3.9,
           4.3,
           3.8,
           3.7,
           3.9,
           3.8,
           4.3,
           3.6,
           3.7,
           3.8,
           3.8,
           3.8,
           3.3,
           3.5,
           3.9,
           3.8,
           4.1,
           3.8,
           4.3,
           4.1,
           3.7,
           3.7,
           3.9,
           4.1,
           3.7,
           3.6,
           3.9,
           3.9,
           3.3,
           4.3,
           4,
           3.6,
           3.5,
           3.8,
           3.9,
           4.1,
           3.7,
           4.2,
           3.8,
           3.6,
           3.7,
           3.9,
           3.5,
           4.7,
           3.8,
           3.7,
           4.2,
           3.8,
           3.6,
           4.2,
           3.5,
           3.8,
           3.7,
           3.8,
           3.9,
           3.7,
           3.5,
           4,
           3,
           4,
           3.9,
           4.3,
           3.8,
           3.7,
           3.9,
           3.8,
           4.3,
           3.6,
           3.7,
           3.8,
           3.8,
           3.8,
           3.3,
           3.5,
           3.9,
           3.8,
           4.1,
           3.8,
           4.3,
           4.1,
           3.7,
           4.1,
           3.9,
           3.6,
           3.7,
           3.7,
           3.9,
           3.9,
           3.3,
           4.3,
           3.6,
           4,
           3.9,
           3.5,
           3.8,
           3.7,
           4.1,
           3.8,
           4.2,
           3.6,
           4.2,
           3.7,
           3.9,
           3.5,
           4.7,
           3.8,
           3.8,
           3.7,
           4.2,
           3.6,
           3.8,
           3.5,
           4.2,
           3.7,
           3.8,
           3.7,
           3.5,
           4,
           3,
           4,
           3.9,
           4.3,
           3.8,
           3.8,
           3.7,
           3.9,
           4.3,
           3.6,
           3.7,
           3.8,
           3.8,
           3.3,
           3.5,
           3.8,
           3.9,
           3.8,
           3.8,
           4.3,
           3.7,
           4.1,
           3.7,
           3.7,
           3.9,
           4.1,
           3.9,
           3.9,
           4.3,
           4,
           3.8,
           4.1,
           3.5,
           4.2,
           3.7,
           4.1,
           4.7,
           3.6,
           3.7,
           3.6,
           3.5,
           3.9,
           4.2,
           3.6,
           3.8,
           3.9,
           3.8,
           3.9,
           3.7,
           3.5,
           3.7,
           3.3,
           3.8,
           3.7,
           3.8,
           3.7,
           4,
           3.7,
           3.5,
           4,
           3,
           4,
           3.9,
           4.3,
           3.8,
           3.7,
           3.9,
           3.8,
           4.3,
           3.6,
           3.7,
           3.8,
           3.8,
           3.8,
           3.3,
           3.5,
           3.9,
           4.1,
           3.8,
           3.8,
           4.3,
           3.7,
           3.3,
           4.1,
           3.9,
           3.7,
           4.1,
           3.7,
           3.9,
           3.6,
           3.9,
           3.9,
           3.8,
           4.3,
           3.6,
           4,
           3.5,
           3.8,
           4.1,
           3.7,
           4.2,
           4.2,
           3.6,
           3.7,
           3.8,
           3.5,
           3.9,
           3.8,
           4.7,
           3.7,
           3.6,
           3.5,
           4.2,
           3.8,
           3.7,
           3.9,
           4.2,
           3.7,
           3.5,
           4,
           3,
           4,
           3.9,
           4.3,
           3.8,
           3.7,
           3.9,
           3.8,
           4.3,
           3.6,
           3.7,
           3.8,
           3.8,
           3.8,
           3.3,
           3.5,
           3.9,
           3.8,
           4.1,
           3.8,
           4.3,
           3.7,
           4.1,
           3.7,
           3.9,
           3.3,
           3.7,
           3.9,
           3.9,
           4.1,
           3.6,
           4.3,
           3.9,
           4,
           3.6,
           3.5,
           3.8,
           4.1,
           3.8,
           3.7,
           4.2,
           3.6,
           3.7,
           3.5,
           4.7,
           3.8,
           4.2,
           3.9,
           3.7,
           3.8,
           3.6,
           3.5,
           3.8,
           3.9,
           4.2,
           3.7,
           3.8,
           3.7,
           3.5,
           4,
           3,
           4,
           3.9,
           4.3,
           3.8,
           3.7,
           3.9,
           3.8,
           4.3,
           3.6,
           3.7,
           3.8,
           3.8,
           3.8,
           3.3,
           3.5,
           3.9,
           3.8,
           4.1,
           3.8,
           4.3,
           4.1,
           3.7,
           4.1,
           3.9,
           3.6,
           3.7,
           3.7,
           3.9,
           3.9,
           3.3,
           4.3,
           3.6,
           4,
           3.9,
           3.5,
           3.8,
           3.7,
           4.1,
           3.8,
           4.2,
           3.6,
           4.2,
           3.7,
           3.9,
           3.5,
           4.7,
           3.8,
           3.8,
           3.7,
           4.2,
           3.6,
           3.8,
           3.5,
           4.2,
           3.7,
           3.8,
           3.7,
           3.5,
           4,
           3,
           4,
           3.9,
           4.3,
           3.8,
           3.7,
           3.9,
           3.8,
           4.3,
           3.6,
           3.7,
           3.8,
           3.8,
           3.8,
           3.3,
           3.5,
           3.9,
           3.8,
           4.1,
           3.8,
           4.3,
           4.1,
           3.7,
           3.9,
           3.7,
           4.1,
           3.3,
           3.6,
           3.7,
           3.9,
           3.9,
           4.3,
           3.9,
           3.6,
           4,
           3.5,
           3.8,
           3.8,
           4.1,
           3.7,
           4.2,
           3.6,
           4.2,
           3.7,
           3.9,
           3.8,
           3.5,
           4.7,
           3.8,
           3.7,
           4.2,
           3.6,
           3.5,
           3.8,
           3.7,
           4.2,
           3.8,
           3.7,
           3.5,
           4,
           3,
           4,
           3.9,
           4.3,
           3.8,
           3.8,
           3.7,
           3.9,
           4.3,
           3.6,
           3.7,
           3.8,
           3.8,
           3.3,
           3.5,
           3.8,
           3.9,
           3.8,
           3.8,
           4.3,
           3.7,
           3.7,
           3.7,
           4.1,
           3.9,
           3.9,
           3.9,
           4.3,
           4,
           3.8,
           4.1,
           3.5,
           3.7,
           4.1,
           4.2,
           3.6,
           4.7,
           3.7,
           3.6,
           4.1,
           3.9,
           4.2,
           3.5,
           3.8,
           3.9,
           3.6,
           3.5,
           3.8,
           3.7,
           3.9,
           3.7,
           3.8,
           4.2,
           3.7,
           3.8,
           3.7,
           4,
           3.7,
           3.5,
           4,
           3,
           4,
           3.9,
           4.3,
           3.8,
           3.8,
           3.7,
           3.9,
           4.3,
           3.6,
           3.7,
           3.8,
           3.8,
           3.3,
           3.8,
           3.5,
           3.9,
           3.8,
           4.1,
           3.8,
           4.3,
           3.7,
           3.7,
           3.7,
           4.1,
           3.9,
           3.9,
           3.9,
           4.3,
           4,
           3.8,
           4.1,
           3.5,
           4.1,
           3.6,
           3.7,
           4.2,
           3.6,
           4.7,
           3.7,
           3.5,
           3.3,
           3.9,
           3.6,
           3.9,
           4.2,
           3.8,
           3.8,
           3.5,
           3.7,
           3.9,
           3.7,
           4.2,
           3.8,
           3.9,
           3.6,
           3.8,
           3.7,
           3.5,
           4,
           3,
           4,
           3.9,
           4.3,
           3.8,
           3.7,
           3.9,
           3.8,
           4.3,
           3.6,
           3.7,
           3.8,
           3.8,
           3.8,
           3.3,
           3.5,
           3.9,
           4.1,
           3.8,
           3.8,
           4.3,
           3.3,
           3.7,
           3.9,
           4.1,
           3.6,
           3.7,
           3.9,
           4.1,
           3.9,
           3.7,
           3.9,
           3.8,
           3.6,
           4.3,
           3.5,
           4,
           4.2,
           4.1,
           3.8,
           3.7,
           4.2,
           3.6,
           3.7,
           3.8,
           3.8,
           3.5,
           3.9,
           4.7,
           3.7,
           3.4,
           3.9,
           3.8,
           4.2,
           3.5,
           4.2,
           3.7,
           3.7,
           3.5,
           4,
           3,
           4,
           4.3,
           3.9,
           3.8,
           3.7,
           3.9,
           3.8,
           4.3,
           3.6,
           3.7,
           3.8,
           3.8,
           3.8,
           3.3,
           3.5,
           3.9,
           4.1,
           3.8,
           3.8,
           3.3,
           4.3,
           3.9,
           4.1,
           3.9,
           3.7,
           3.6,
           3.9,
           3.8,
           3.9,
           3.7,
           3.7,
           3.6,
           4.3,
           4.2,
           3.5,
           4.1,
           4,
           4.1,
           3.8,
           3.6,
           4.2,
           3.7,
           3.7,
           3.8,
           3.8,
           3.5,
           3.9,
           3.4,
           3.9,
           3.8,
           4.2,
           3.6,
           3.5,
           3.9,
           3.9,
           3.7,
           3.7,
           3.5,
           4,
           3,
           4,
           4.3,
           3.9,
           3.8,
           3.7,
           3.9,
           3.8,
           4.3,
           3.6,
           3.7,
           3.8,
           3.8,
           3.8,
           3.3,
           3.5,
           3.9,
           4.1,
           3.8,
           3.8,
           3.3,
           4.3,
           3.9,
           3.9,
           3.8,
           4.1,
           3.9,
           3.6,
           3.6,
           3.9,
           3.7,
           3.7,
           4.2,
           3.7,
           4.3,
           3.5,
           4,
           4.1,
           3.6,
           3.7,
           4.2,
           3.8,
           3.8,
           3.8,
           3.5,
           3.7,
           3.4,
           3.9,
           4.1,
           3.9,
           3.8,
           3.9,
           3.6,
           3.9,
           4.2,
           4,
           3.8,
           3.7,
           3.5,
           4,
           3,
           4,
           4.3,
           3.9,
           3.8,
           3.7,
           3.9,
           3.8,
           4.3,
           3.6,
           3.7,
           3.8,
           3.8,
           3.8,
           3.3,
           3.5,
           3.9,
           4.1,
           3.8,
           3.8,
           3.3,
           3.9,
           3.8,
           4.3,
           3.6,
           3.9,
           4.2,
           3.9,
           3.9,
           3.7,
           3.7,
           3.6,
           3.7,
           4.1,
           3.5,
           4.3,
           3.7,
           4,
           3.8,
           4.2,
           4.1,
           3.8,
           3.5,
           3.6,
           3.9,
           3.4,
           3.8,
           3.8,
           3.9,
           3.9,
           4,
           3.8,
           3.8,
           3.7,
           3.7,
           3.8,
           3.4,
           3.7,
           3.5,
           4,
           3,
           4,
           4.3,
           3.9,
           3.8,
           3.7,
           3.9,
           3.8,
           4.3,
           3.6,
           3.7,
           3.8,
           3.8,
           3.8,
           3.3,
           3.5,
           3.9,
           4.1,
           3.8,
           3.8,
           3.3,
           4.3,
           3.9,
           4.1,
           3.9,
           3.6,
           3.9,
           3.7,
           3.8,
           3.9,
           3.6,
           3.7,
           3.7,
           4.3,
           4.2,
           3.5,
           4,
           4.1,
           4.1,
           3.6,
           3.7,
           4.2,
           3.8,
           3.7,
           3.8,
           3.8,
           3.5,
           3.9,
           3.4,
           3.9,
           3.8,
           4.2,
           3.6,
           3.9,
           3.9,
           3.5,
           3.7,
           3.8,
           3.8,
           4.2,
           3.7,
           3.5,
           4.6,
           3.5,
           5,
           null,
           3.7,
           5,
           3.5,
           3.9,
           3.4,
           null,
           2.6,
           3.7,
           4,
           3,
           3.7,
           3.9,
           3.9,
           4.8,
           3.1,
           3.9,
           null,
           3.6,
           3,
           4.3,
           4,
           3.6,
           3.6,
           3.8,
           3.7,
           4.6,
           4.2,
           4,
           5,
           3.1,
           4.3,
           3,
           3.5,
           4,
           4,
           2,
           null,
           4.6,
           5,
           null,
           4.1,
           4.7,
           4.4,
           5,
           5,
           null,
           3.8,
           3.5,
           4.7,
           3.7,
           3.1,
           3.7,
           4,
           3,
           3.8,
           3.9,
           3.7,
           3.8,
           3.3,
           3.5,
           3.8,
           3.7,
           3.9,
           4.1,
           3.8,
           3.6,
           3.8,
           4.1,
           4,
           3.3,
           4.3,
           4,
           3.8,
           3.8,
           3.7,
           3.9,
           3.9,
           3.2,
           4.2,
           3.2,
           3.4,
           3.8,
           3.8,
           3.4,
           3.8,
           3.9,
           3.8,
           3.7,
           3.9,
           4,
           3.7,
           3.7,
           4,
           3.9,
           3.9,
           3.4,
           4.4,
           3.6,
           3.6,
           3.6,
           3.9,
           3.7,
           3.8,
           4.1,
           3.7,
           3.9,
           3.8,
           3.9,
           3.8,
           4.1,
           3.8,
           4,
           3.7,
           3.6,
           4,
           3.4,
           3.9,
           5,
           3.8,
           4.1,
           4.2,
           3.6,
           3.7,
           3.9,
           3.7,
           5,
           4.2,
           5,
           4,
           null,
           3.8,
           5,
           5,
           4,
           5,
           null,
           3,
           null,
           null,
           null,
           5,
           null,
           null,
           null,
           null,
           4.2,
           4.3,
           4.2,
           4.4,
           3.8,
           null,
           5,
           3.7,
           3.6,
           4,
           5,
           3.9,
           4.3,
           5,
           4.1,
           3.6,
           4.4,
           null,
           3.8,
           3.7,
           3.7,
           null,
           4.1,
           4.5,
           4.7,
           3.9,
           3.7,
           3.5,
           4,
           3,
           4,
           3.9,
           4.3,
           3.8,
           3.7,
           3.9,
           3.8,
           4.3,
           3.6,
           3.7,
           3.8,
           3.8,
           3.8,
           3.3,
           3.5,
           3.9,
           3.8,
           4.1,
           3.8,
           4.1,
           4.3,
           4.1,
           3.7,
           3.6,
           3.9,
           3.7,
           3.9,
           3.9,
           3.7,
           3.3,
           3.6,
           4.3,
           4,
           3.5,
           3.7,
           3.9,
           3.8,
           4.1,
           4.2,
           4.2,
           3.8,
           3.6,
           3.9,
           3.7,
           3.5,
           4.7,
           3.8,
           3.8,
           3.7,
           4.2,
           4.2,
           3.6,
           3.8,
           3.5,
           3.7,
           3.6,
           3.7,
           3.5,
           4,
           3,
           4,
           3.9,
           4.3,
           3.8,
           3.7,
           3.9,
           3.8,
           4.3,
           3.6,
           3.7,
           3.8,
           3.8,
           3.8,
           3.3,
           3.5,
           3.9,
           3.8,
           4.1,
           3.8,
           4.3,
           4.1,
           4.1,
           3.7,
           3.6,
           3.9,
           3.7,
           3.9,
           3.7,
           3.9,
           3.3,
           3.6,
           4.3,
           3.9,
           4,
           3.5,
           3.7,
           3.8,
           4.1,
           3.8,
           4.2,
           4.2,
           3.6,
           3.7,
           3.9,
           3.5,
           3.8,
           4.7,
           3.8,
           3.7,
           4.2,
           3.6,
           4.2,
           3.8,
           3.5,
           3.7,
           3.8
          ],
          "coloraxis": "coloraxis",
          "size": [
           1336,
           2755,
           423,
           27,
           1721,
           11310,
           10550,
           8468,
           2198,
           2735,
           589,
           23691,
           1707,
           1331,
           1803,
           639,
           994,
           827,
           975,
           1944,
           11464,
           6168,
           1376,
           1543,
           8499,
           1007,
           74,
           1452,
           380,
           2399,
           649,
           4618,
           790,
           719,
           681,
           1294,
           1311,
           7203,
           2022,
           1024,
           9584,
           452,
           896,
           1057,
           4534,
           4796,
           2042,
           341,
           3568,
           1219,
           746,
           5105,
           1210,
           8154,
           9460,
           1825,
           872,
           1081,
           1370,
           1705,
           1336,
           2755,
           423,
           27,
           1721,
           11310,
           10550,
           8468,
           2198,
           2735,
           589,
           23691,
           1707,
           1331,
           1803,
           639,
           994,
           827,
           975,
           1944,
           11464,
           6168,
           1376,
           1543,
           8499,
           1007,
           74,
           380,
           1452,
           2399,
           649,
           4618,
           719,
           681,
           790,
           1294,
           1311,
           7203,
           2022,
           1024,
           9584,
           452,
           896,
           1057,
           4534,
           4796,
           2042,
           341,
           3568,
           746,
           1219,
           5105,
           1210,
           8154,
           9460,
           872,
           1825,
           1081,
           1370,
           2246,
           1336,
           2755,
           423,
           27,
           1721,
           11310,
           10550,
           8468,
           2198,
           2735,
           589,
           23691,
           1707,
           1331,
           1803,
           639,
           994,
           827,
           975,
           1944,
           11464,
           6168,
           1376,
           1543,
           8499,
           1007,
           74,
           380,
           1452,
           2399,
           649,
           4618,
           790,
           681,
           719,
           1294,
           1311,
           7203,
           2022,
           1024,
           9584,
           452,
           896,
           1057,
           4534,
           4796,
           2042,
           341,
           3568,
           746,
           1219,
           5105,
           1210,
           8154,
           9460,
           872,
           1825,
           1081,
           1370,
           1705,
           1336,
           2755,
           423,
           27,
           1721,
           11310,
           10550,
           8468,
           2198,
           2735,
           589,
           23691,
           1707,
           1331,
           1803,
           639,
           994,
           827,
           975,
           1944,
           11464,
           6168,
           1376,
           1543,
           8499,
           1007,
           74,
           1452,
           380,
           2399,
           649,
           4618,
           790,
           719,
           681,
           1294,
           1311,
           7203,
           2022,
           1024,
           9584,
           452,
           896,
           1057,
           4534,
           4796,
           2042,
           341,
           3568,
           746,
           1219,
           5105,
           1210,
           8154,
           9460,
           872,
           1825,
           1081,
           1370,
           1705,
           1336,
           2755,
           423,
           27,
           1721,
           11310,
           10550,
           8468,
           2198,
           2735,
           589,
           23691,
           1707,
           1331,
           1803,
           639,
           994,
           827,
           975,
           1944,
           11464,
           6168,
           1376,
           1543,
           8499,
           1007,
           74,
           1452,
           380,
           2399,
           649,
           4618,
           790,
           719,
           681,
           1294,
           1311,
           7203,
           2022,
           1024,
           9584,
           452,
           896,
           1057,
           4534,
           4796,
           2042,
           341,
           3568,
           1219,
           746,
           5105,
           1210,
           8154,
           9460,
           1825,
           872,
           1081,
           1370,
           1705,
           1336,
           2755,
           423,
           27,
           1721,
           11310,
           10550,
           8468,
           2198,
           2735,
           589,
           23691,
           1707,
           1331,
           1803,
           639,
           994,
           827,
           975,
           1944,
           11464,
           6168,
           1376,
           1543,
           8499,
           1007,
           380,
           74,
           1452,
           2399,
           649,
           4618,
           681,
           790,
           719,
           1294,
           1311,
           7203,
           1024,
           2022,
           9584,
           896,
           452,
           1057,
           4534,
           4796,
           2042,
           341,
           3568,
           746,
           1219,
           5105,
           1210,
           8154,
           9460,
           872,
           1825,
           1081,
           1370,
           1705,
           143,
           18,
           33,
           2,
           29,
           0,
           219,
           41,
           5,
           1,
           13,
           2,
           45,
           8,
           2,
           47,
           0,
           17,
           0,
           3,
           6,
           1,
           0,
           3,
           24,
           226,
           330,
           186,
           2,
           168,
           7,
           0,
           13,
           96,
           1,
           105,
           1,
           25,
           14,
           7,
           0,
           1,
           1,
           49,
           15,
           1,
           3,
           6,
           879,
           1,
           1155,
           1,
           102,
           5,
           16,
           5,
           0,
           4,
           1,
           0,
           1336,
           2755,
           423,
           27,
           1721,
           11310,
           10550,
           8468,
           2198,
           2735,
           589,
           23691,
           1707,
           1331,
           1803,
           639,
           994,
           827,
           975,
           1944,
           11464,
           6168,
           1376,
           1543,
           8499,
           380,
           1007,
           74,
           1452,
           2399,
           649,
           4618,
           681,
           719,
           790,
           1311,
           7203,
           1294,
           1024,
           2022,
           896,
           452,
           1057,
           9584,
           4534,
           4796,
           2042,
           3568,
           341,
           746,
           1219,
           5105,
           1210,
           8154,
           872,
           9460,
           1825,
           1081,
           1370,
           2246,
           1336,
           2755,
           423,
           27,
           1721,
           11310,
           10550,
           8468,
           2198,
           2735,
           589,
           23691,
           1707,
           1331,
           1803,
           639,
           994,
           827,
           975,
           1944,
           11464,
           6168,
           1376,
           1543,
           8499,
           380,
           74,
           1452,
           2399,
           649,
           1007,
           4618,
           681,
           719,
           1311,
           790,
           7203,
           1024,
           2022,
           1294,
           896,
           452,
           1057,
           9584,
           4534,
           4796,
           2042,
           3568,
           341,
           746,
           5105,
           1219,
           1210,
           8154,
           872,
           9460,
           1081,
           1825,
           1370,
           2246,
           1336,
           2755,
           423,
           27,
           1721,
           11310,
           10550,
           8468,
           2198,
           2735,
           589,
           23691,
           1707,
           1331,
           1803,
           639,
           994,
           827,
           975,
           1944,
           6168,
           11464,
           1376,
           1543,
           8499,
           380,
           649,
           2399,
           74,
           681,
           1452,
           719,
           4618,
           1007,
           7203,
           1024,
           1311,
           2022,
           896,
           790,
           1057,
           452,
           4534,
           1294,
           4796,
           2042,
           3568,
           746,
           5105,
           341,
           1210,
           9584,
           1219,
           872,
           8154,
           1825,
           1081,
           1370,
           2246,
           401,
           1336,
           2755,
           423,
           27,
           1721,
           11310,
           10550,
           8468,
           2198,
           2735,
           589,
           23691,
           1707,
           1331,
           1803,
           639,
           994,
           827,
           975,
           1944,
           6168,
           11464,
           1376,
           1543,
           8499,
           380,
           74,
           2399,
           1452,
           649,
           681,
           4618,
           719,
           1007,
           7203,
           1311,
           1024,
           790,
           2022,
           896,
           452,
           1057,
           1294,
           4534,
           4796,
           9584,
           2042,
           3568,
           746,
           5105,
           341,
           1219,
           1210,
           8154,
           872,
           1081,
           1825,
           9460,
           1370,
           2246,
           1336,
           2755,
           423,
           27,
           1721,
           11310,
           10550,
           8468,
           589,
           2198,
           2735,
           23691,
           1707,
           1331,
           1803,
           639,
           827,
           975,
           994,
           1944,
           6168,
           1376,
           1543,
           380,
           11464,
           649,
           681,
           719,
           8499,
           4618,
           2399,
           7203,
           1024,
           896,
           1057,
           2022,
           4534,
           452,
           74,
           5105,
           1452,
           1210,
           1311,
           746,
           401,
           11683,
           872,
           2246,
           1911,
           1081,
           3568,
           1983,
           1825,
           1370,
           1007,
           989,
           1490,
           1074,
           1075,
           2311,
           1336,
           2755,
           423,
           27,
           1721,
           11310,
           10550,
           8468,
           2198,
           2735,
           589,
           23691,
           1707,
           1331,
           1803,
           639,
           994,
           827,
           975,
           1944,
           11464,
           6168,
           1376,
           1543,
           380,
           1007,
           8499,
           2399,
           649,
           74,
           681,
           4618,
           1452,
           719,
           790,
           1294,
           7203,
           1311,
           1024,
           2022,
           896,
           1057,
           452,
           4534,
           9584,
           4796,
           2042,
           341,
           746,
           3568,
           1219,
           5105,
           1210,
           872,
           1825,
           8154,
           2246,
           1370,
           401,
           11683,
           1336,
           2755,
           423,
           27,
           1721,
           11310,
           10550,
           8468,
           2198,
           2735,
           589,
           23691,
           1707,
           1331,
           1803,
           639,
           994,
           827,
           975,
           1944,
           6168,
           11464,
           1376,
           1543,
           380,
           8499,
           649,
           2399,
           1007,
           681,
           719,
           4618,
           74,
           1452,
           7203,
           790,
           1024,
           1311,
           2022,
           896,
           1057,
           1294,
           452,
           4534,
           4796,
           2042,
           746,
           5105,
           341,
           9584,
           3568,
           1210,
           1219,
           872,
           1825,
           2246,
           401,
           11683,
           1370,
           1081,
           1336,
           2755,
           423,
           27,
           1721,
           11310,
           10550,
           8468,
           2198,
           2735,
           589,
           23691,
           1707,
           1331,
           1803,
           639,
           994,
           827,
           975,
           1944,
           6168,
           11464,
           1376,
           1543,
           8499,
           380,
           74,
           2399,
           1452,
           649,
           681,
           4618,
           719,
           1007,
           7203,
           1311,
           1024,
           790,
           2022,
           896,
           452,
           1057,
           1294,
           4534,
           4796,
           9584,
           2043,
           3568,
           746,
           5105,
           341,
           1219,
           1210,
           8154,
           872,
           1081,
           1825,
           9460,
           1370,
           2246,
           1336,
           2755,
           423,
           27,
           1721,
           11310,
           10550,
           8468,
           2198,
           2735,
           589,
           23691,
           1707,
           1331,
           1803,
           639,
           994,
           827,
           975,
           1944,
           6168,
           11464,
           1376,
           1543,
           8499,
           380,
           2399,
           649,
           74,
           1007,
           1452,
           681,
           4618,
           719,
           7203,
           790,
           1311,
           1024,
           2022,
           896,
           1294,
           1057,
           452,
           4534,
           4796,
           9584,
           2043,
           3568,
           341,
           746,
           5105,
           1219,
           1210,
           8154,
           872,
           1825,
           1081,
           1370,
           9460,
           2246,
           1336,
           2755,
           423,
           27,
           1721,
           11310,
           10550,
           8468,
           589,
           2198,
           2735,
           23691,
           1707,
           1331,
           1803,
           639,
           827,
           975,
           994,
           1944,
           6168,
           1376,
           1543,
           380,
           649,
           681,
           8499,
           719,
           4618,
           2399,
           7203,
           1024,
           896,
           1057,
           2022,
           452,
           74,
           4534,
           1452,
           5105,
           1210,
           872,
           11464,
           401,
           11683,
           746,
           1081,
           3568,
           1311,
           1825,
           2246,
           1370,
           1911,
           1983,
           989,
           8154,
           1490,
           1074,
           1075,
           2139,
           1336,
           2755,
           423,
           27,
           1721,
           11310,
           10550,
           8468,
           589,
           2198,
           2735,
           23691,
           1707,
           1331,
           1803,
           639,
           827,
           994,
           975,
           1944,
           6168,
           11464,
           1376,
           1543,
           380,
           649,
           681,
           8499,
           719,
           2399,
           4618,
           7203,
           1024,
           896,
           1057,
           2022,
           74,
           1452,
           452,
           4534,
           1311,
           5105,
           1210,
           746,
           1007,
           3568,
           872,
           401,
           11683,
           1081,
           2246,
           1825,
           1370,
           1911,
           1983,
           8154,
           989,
           790,
           4796,
           1219,
           1336,
           2755,
           423,
           27,
           1721,
           11310,
           10550,
           8468,
           2198,
           2735,
           589,
           23691,
           1707,
           1331,
           1803,
           639,
           994,
           827,
           975,
           1944,
           11464,
           6168,
           1376,
           1543,
           1007,
           380,
           2399,
           74,
           1452,
           649,
           790,
           8499,
           4618,
           681,
           719,
           1294,
           1311,
           7203,
           2022,
           1024,
           9584,
           1057,
           896,
           452,
           4534,
           4796,
           2042,
           341,
           1219,
           746,
           3568,
           5105,
           1210,
           1705,
           3797,
           2246,
           9460,
           1825,
           8154,
           1370,
           1336,
           2755,
           423,
           27,
           1721,
           10550,
           11310,
           8468,
           2198,
           2735,
           589,
           23691,
           1707,
           1331,
           1803,
           639,
           994,
           827,
           975,
           1944,
           11464,
           6168,
           1376,
           1007,
           1543,
           2399,
           74,
           790,
           380,
           1452,
           4618,
           1294,
           719,
           649,
           681,
           1311,
           7203,
           9584,
           2022,
           8499,
           1024,
           1057,
           896,
           4796,
           4534,
           2042,
           452,
           341,
           1219,
           746,
           3568,
           1705,
           3797,
           2246,
           9460,
           1244,
           1825,
           1911,
           628,
           1370,
           1336,
           2755,
           423,
           27,
           1721,
           10550,
           11310,
           8468,
           2198,
           2735,
           589,
           23691,
           1707,
           1331,
           1803,
           639,
           994,
           827,
           975,
           1944,
           11464,
           6168,
           1376,
           1007,
           1543,
           790,
           2399,
           1294,
           74,
           4618,
           1311,
           1452,
           719,
           380,
           681,
           9584,
           649,
           7203,
           2022,
           1024,
           1057,
           4796,
           2042,
           4534,
           341,
           896,
           1219,
           746,
           452,
           1705,
           3797,
           8499,
           3568,
           2246,
           628,
           1244,
           1911,
           9460,
           2311,
           989,
           1336,
           2755,
           423,
           27,
           1721,
           10550,
           11310,
           8468,
           2198,
           2735,
           589,
           23691,
           1707,
           1331,
           1803,
           994,
           639,
           827,
           975,
           1944,
           11464,
           6168,
           1376,
           1007,
           790,
           1294,
           1543,
           1311,
           2399,
           9584,
           4618,
           719,
           681,
           380,
           4796,
           2042,
           1057,
           2022,
           7203,
           649,
           1024,
           341,
           4534,
           74,
           1219,
           746,
           1452,
           3797,
           1705,
           896,
           2246,
           628,
           1911,
           2311,
           1123,
           989,
           1123,
           1983,
           2612,
           1224,
           1336,
           2755,
           423,
           27,
           1721,
           10550,
           11310,
           8468,
           2198,
           2735,
           589,
           23691,
           1707,
           1331,
           1803,
           639,
           994,
           827,
           975,
           1944,
           11464,
           6168,
           1376,
           1007,
           1543,
           2399,
           74,
           790,
           1452,
           4618,
           380,
           1294,
           719,
           1311,
           649,
           681,
           7203,
           9584,
           2022,
           1024,
           8499,
           1057,
           4796,
           2042,
           4534,
           896,
           452,
           341,
           1219,
           746,
           3568,
           1705,
           3797,
           2246,
           9460,
           1244,
           628,
           1911,
           1825,
           1370,
           378,
           1230,
           159,
           36,
           257,
           43,
           174,
           16,
           0,
           272,
           3,
           33,
           28,
           154,
           0,
           16,
           18,
           52,
           1,
           199,
           218,
           219,
           22,
           24,
           230,
           0,
           45,
           3,
           9,
           73,
           422,
           183,
           73,
           282,
           93,
           81,
           105,
           1,
           28,
           6,
           2,
           6,
           4,
           4,
           5,
           0,
           12,
           11,
           0,
           86,
           15,
           128,
           1,
           1,
           0,
           84,
           150,
           13,
           293,
           16,
           1336,
           423,
           27,
           589,
           2735,
           1331,
           8468,
           827,
           975,
           994,
           2198,
           3797,
           304,
           435,
           1128,
           1294,
           11464,
           189,
           1007,
           808,
           760,
           710,
           491,
           1459,
           1253,
           790,
           1068,
           351,
           1179,
           1705,
           1092,
           1459,
           1224,
           1792,
           1166,
           2261,
           881,
           891,
           963,
           4198,
           955,
           2630,
           292,
           1484,
           1776,
           12217,
           2016,
           216,
           1465,
           888,
           1427,
           3377,
           641,
           853,
           896,
           278,
           734,
           994,
           845,
           547,
           444,
           682,
           1467,
           369,
           677,
           294,
           4,
           397,
           8,
           24,
           46,
           26,
           97,
           172,
           14,
           25,
           3,
           4,
           0,
           13,
           7,
           9,
           986,
           1,
           0,
           2,
           0,
           0,
           0,
           3,
           0,
           0,
           0,
           0,
           473,
           562,
           381,
           30,
           193,
           0,
           4,
           85,
           24,
           107,
           2,
           39,
           23,
           1,
           36,
           8,
           21,
           0,
           68,
           48,
           365,
           0,
           168,
           331,
           21,
           17,
           1336,
           2755,
           423,
           27,
           1721,
           11310,
           10550,
           8468,
           2198,
           2735,
           589,
           23691,
           1707,
           1331,
           1803,
           639,
           994,
           827,
           975,
           1944,
           6168,
           11464,
           1376,
           8499,
           1543,
           74,
           380,
           1452,
           2399,
           649,
           4618,
           719,
           681,
           1007,
           1311,
           7203,
           1024,
           2022,
           452,
           790,
           896,
           1057,
           4534,
           9584,
           1294,
           4796,
           3568,
           2042,
           746,
           5105,
           341,
           1219,
           1210,
           8154,
           9460,
           872,
           1081,
           1825,
           1370,
           1244,
           1336,
           2755,
           423,
           27,
           1721,
           11310,
           10550,
           8468,
           2198,
           2735,
           589,
           23691,
           1707,
           1331,
           1803,
           639,
           994,
           827,
           975,
           1944,
           6168,
           11464,
           1376,
           1543,
           8499,
           74,
           380,
           1452,
           2399,
           649,
           4618,
           681,
           719,
           1007,
           1311,
           7203,
           790,
           1024,
           2022,
           452,
           896,
           1057,
           1294,
           9584,
           4534,
           4796,
           2042,
           3568,
           746,
           341,
           5105,
           1219,
           1210,
           8154,
           872,
           9460,
           1081,
           1825,
           1370,
           2246
          ],
          "sizemode": "area",
          "sizeref": 59.2275,
          "symbol": "circle"
         },
         "mode": "markers",
         "name": "",
         "showlegend": false,
         "type": "scattergeo"
        }
       ],
       "layout": {
        "coloraxis": {
         "colorbar": {
          "title": {
           "text": "Rating"
          }
         },
         "colorscale": [
          [
           0,
           "#440154"
          ],
          [
           0.1111111111111111,
           "#482878"
          ],
          [
           0.2222222222222222,
           "#3e4989"
          ],
          [
           0.3333333333333333,
           "#31688e"
          ],
          [
           0.4444444444444444,
           "#26828e"
          ],
          [
           0.5555555555555556,
           "#1f9e89"
          ],
          [
           0.6666666666666666,
           "#35b779"
          ],
          [
           0.7777777777777778,
           "#6ece58"
          ],
          [
           0.8888888888888888,
           "#b5de2b"
          ],
          [
           1,
           "#fde725"
          ]
         ]
        },
        "geo": {
         "center": {},
         "domain": {
          "x": [
           0,
           1
          ],
          "y": [
           0,
           1
          ]
         },
         "landcolor": "lightgrey",
         "showland": true
        },
        "legend": {
         "itemsizing": "constant",
         "tracegroupgap": 0
        },
        "margin": {
         "b": 0,
         "l": 0,
         "r": 0,
         "t": 40
        },
        "template": {
         "data": {
          "bar": [
           {
            "error_x": {
             "color": "#2a3f5f"
            },
            "error_y": {
             "color": "#2a3f5f"
            },
            "marker": {
             "line": {
              "color": "white",
              "width": 0.5
             },
             "pattern": {
              "fillmode": "overlay",
              "size": 10,
              "solidity": 0.2
             }
            },
            "type": "bar"
           }
          ],
          "barpolar": [
           {
            "marker": {
             "line": {
              "color": "white",
              "width": 0.5
             },
             "pattern": {
              "fillmode": "overlay",
              "size": 10,
              "solidity": 0.2
             }
            },
            "type": "barpolar"
           }
          ],
          "carpet": [
           {
            "aaxis": {
             "endlinecolor": "#2a3f5f",
             "gridcolor": "#C8D4E3",
             "linecolor": "#C8D4E3",
             "minorgridcolor": "#C8D4E3",
             "startlinecolor": "#2a3f5f"
            },
            "baxis": {
             "endlinecolor": "#2a3f5f",
             "gridcolor": "#C8D4E3",
             "linecolor": "#C8D4E3",
             "minorgridcolor": "#C8D4E3",
             "startlinecolor": "#2a3f5f"
            },
            "type": "carpet"
           }
          ],
          "choropleth": [
           {
            "colorbar": {
             "outlinewidth": 0,
             "ticks": ""
            },
            "type": "choropleth"
           }
          ],
          "contour": [
           {
            "colorbar": {
             "outlinewidth": 0,
             "ticks": ""
            },
            "colorscale": [
             [
              0,
              "#0d0887"
             ],
             [
              0.1111111111111111,
              "#46039f"
             ],
             [
              0.2222222222222222,
              "#7201a8"
             ],
             [
              0.3333333333333333,
              "#9c179e"
             ],
             [
              0.4444444444444444,
              "#bd3786"
             ],
             [
              0.5555555555555556,
              "#d8576b"
             ],
             [
              0.6666666666666666,
              "#ed7953"
             ],
             [
              0.7777777777777778,
              "#fb9f3a"
             ],
             [
              0.8888888888888888,
              "#fdca26"
             ],
             [
              1,
              "#f0f921"
             ]
            ],
            "type": "contour"
           }
          ],
          "contourcarpet": [
           {
            "colorbar": {
             "outlinewidth": 0,
             "ticks": ""
            },
            "type": "contourcarpet"
           }
          ],
          "heatmap": [
           {
            "colorbar": {
             "outlinewidth": 0,
             "ticks": ""
            },
            "colorscale": [
             [
              0,
              "#0d0887"
             ],
             [
              0.1111111111111111,
              "#46039f"
             ],
             [
              0.2222222222222222,
              "#7201a8"
             ],
             [
              0.3333333333333333,
              "#9c179e"
             ],
             [
              0.4444444444444444,
              "#bd3786"
             ],
             [
              0.5555555555555556,
              "#d8576b"
             ],
             [
              0.6666666666666666,
              "#ed7953"
             ],
             [
              0.7777777777777778,
              "#fb9f3a"
             ],
             [
              0.8888888888888888,
              "#fdca26"
             ],
             [
              1,
              "#f0f921"
             ]
            ],
            "type": "heatmap"
           }
          ],
          "heatmapgl": [
           {
            "colorbar": {
             "outlinewidth": 0,
             "ticks": ""
            },
            "colorscale": [
             [
              0,
              "#0d0887"
             ],
             [
              0.1111111111111111,
              "#46039f"
             ],
             [
              0.2222222222222222,
              "#7201a8"
             ],
             [
              0.3333333333333333,
              "#9c179e"
             ],
             [
              0.4444444444444444,
              "#bd3786"
             ],
             [
              0.5555555555555556,
              "#d8576b"
             ],
             [
              0.6666666666666666,
              "#ed7953"
             ],
             [
              0.7777777777777778,
              "#fb9f3a"
             ],
             [
              0.8888888888888888,
              "#fdca26"
             ],
             [
              1,
              "#f0f921"
             ]
            ],
            "type": "heatmapgl"
           }
          ],
          "histogram": [
           {
            "marker": {
             "pattern": {
              "fillmode": "overlay",
              "size": 10,
              "solidity": 0.2
             }
            },
            "type": "histogram"
           }
          ],
          "histogram2d": [
           {
            "colorbar": {
             "outlinewidth": 0,
             "ticks": ""
            },
            "colorscale": [
             [
              0,
              "#0d0887"
             ],
             [
              0.1111111111111111,
              "#46039f"
             ],
             [
              0.2222222222222222,
              "#7201a8"
             ],
             [
              0.3333333333333333,
              "#9c179e"
             ],
             [
              0.4444444444444444,
              "#bd3786"
             ],
             [
              0.5555555555555556,
              "#d8576b"
             ],
             [
              0.6666666666666666,
              "#ed7953"
             ],
             [
              0.7777777777777778,
              "#fb9f3a"
             ],
             [
              0.8888888888888888,
              "#fdca26"
             ],
             [
              1,
              "#f0f921"
             ]
            ],
            "type": "histogram2d"
           }
          ],
          "histogram2dcontour": [
           {
            "colorbar": {
             "outlinewidth": 0,
             "ticks": ""
            },
            "colorscale": [
             [
              0,
              "#0d0887"
             ],
             [
              0.1111111111111111,
              "#46039f"
             ],
             [
              0.2222222222222222,
              "#7201a8"
             ],
             [
              0.3333333333333333,
              "#9c179e"
             ],
             [
              0.4444444444444444,
              "#bd3786"
             ],
             [
              0.5555555555555556,
              "#d8576b"
             ],
             [
              0.6666666666666666,
              "#ed7953"
             ],
             [
              0.7777777777777778,
              "#fb9f3a"
             ],
             [
              0.8888888888888888,
              "#fdca26"
             ],
             [
              1,
              "#f0f921"
             ]
            ],
            "type": "histogram2dcontour"
           }
          ],
          "mesh3d": [
           {
            "colorbar": {
             "outlinewidth": 0,
             "ticks": ""
            },
            "type": "mesh3d"
           }
          ],
          "parcoords": [
           {
            "line": {
             "colorbar": {
              "outlinewidth": 0,
              "ticks": ""
             }
            },
            "type": "parcoords"
           }
          ],
          "pie": [
           {
            "automargin": true,
            "type": "pie"
           }
          ],
          "scatter": [
           {
            "fillpattern": {
             "fillmode": "overlay",
             "size": 10,
             "solidity": 0.2
            },
            "type": "scatter"
           }
          ],
          "scatter3d": [
           {
            "line": {
             "colorbar": {
              "outlinewidth": 0,
              "ticks": ""
             }
            },
            "marker": {
             "colorbar": {
              "outlinewidth": 0,
              "ticks": ""
             }
            },
            "type": "scatter3d"
           }
          ],
          "scattercarpet": [
           {
            "marker": {
             "colorbar": {
              "outlinewidth": 0,
              "ticks": ""
             }
            },
            "type": "scattercarpet"
           }
          ],
          "scattergeo": [
           {
            "marker": {
             "colorbar": {
              "outlinewidth": 0,
              "ticks": ""
             }
            },
            "type": "scattergeo"
           }
          ],
          "scattergl": [
           {
            "marker": {
             "colorbar": {
              "outlinewidth": 0,
              "ticks": ""
             }
            },
            "type": "scattergl"
           }
          ],
          "scattermapbox": [
           {
            "marker": {
             "colorbar": {
              "outlinewidth": 0,
              "ticks": ""
             }
            },
            "type": "scattermapbox"
           }
          ],
          "scatterpolar": [
           {
            "marker": {
             "colorbar": {
              "outlinewidth": 0,
              "ticks": ""
             }
            },
            "type": "scatterpolar"
           }
          ],
          "scatterpolargl": [
           {
            "marker": {
             "colorbar": {
              "outlinewidth": 0,
              "ticks": ""
             }
            },
            "type": "scatterpolargl"
           }
          ],
          "scatterternary": [
           {
            "marker": {
             "colorbar": {
              "outlinewidth": 0,
              "ticks": ""
             }
            },
            "type": "scatterternary"
           }
          ],
          "surface": [
           {
            "colorbar": {
             "outlinewidth": 0,
             "ticks": ""
            },
            "colorscale": [
             [
              0,
              "#0d0887"
             ],
             [
              0.1111111111111111,
              "#46039f"
             ],
             [
              0.2222222222222222,
              "#7201a8"
             ],
             [
              0.3333333333333333,
              "#9c179e"
             ],
             [
              0.4444444444444444,
              "#bd3786"
             ],
             [
              0.5555555555555556,
              "#d8576b"
             ],
             [
              0.6666666666666666,
              "#ed7953"
             ],
             [
              0.7777777777777778,
              "#fb9f3a"
             ],
             [
              0.8888888888888888,
              "#fdca26"
             ],
             [
              1,
              "#f0f921"
             ]
            ],
            "type": "surface"
           }
          ],
          "table": [
           {
            "cells": {
             "fill": {
              "color": "#EBF0F8"
             },
             "line": {
              "color": "white"
             }
            },
            "header": {
             "fill": {
              "color": "#C8D4E3"
             },
             "line": {
              "color": "white"
             }
            },
            "type": "table"
           }
          ]
         },
         "layout": {
          "annotationdefaults": {
           "arrowcolor": "#2a3f5f",
           "arrowhead": 0,
           "arrowwidth": 1
          },
          "autotypenumbers": "strict",
          "coloraxis": {
           "colorbar": {
            "outlinewidth": 0,
            "ticks": ""
           }
          },
          "colorscale": {
           "diverging": [
            [
             0,
             "#8e0152"
            ],
            [
             0.1,
             "#c51b7d"
            ],
            [
             0.2,
             "#de77ae"
            ],
            [
             0.3,
             "#f1b6da"
            ],
            [
             0.4,
             "#fde0ef"
            ],
            [
             0.5,
             "#f7f7f7"
            ],
            [
             0.6,
             "#e6f5d0"
            ],
            [
             0.7,
             "#b8e186"
            ],
            [
             0.8,
             "#7fbc41"
            ],
            [
             0.9,
             "#4d9221"
            ],
            [
             1,
             "#276419"
            ]
           ],
           "sequential": [
            [
             0,
             "#0d0887"
            ],
            [
             0.1111111111111111,
             "#46039f"
            ],
            [
             0.2222222222222222,
             "#7201a8"
            ],
            [
             0.3333333333333333,
             "#9c179e"
            ],
            [
             0.4444444444444444,
             "#bd3786"
            ],
            [
             0.5555555555555556,
             "#d8576b"
            ],
            [
             0.6666666666666666,
             "#ed7953"
            ],
            [
             0.7777777777777778,
             "#fb9f3a"
            ],
            [
             0.8888888888888888,
             "#fdca26"
            ],
            [
             1,
             "#f0f921"
            ]
           ],
           "sequentialminus": [
            [
             0,
             "#0d0887"
            ],
            [
             0.1111111111111111,
             "#46039f"
            ],
            [
             0.2222222222222222,
             "#7201a8"
            ],
            [
             0.3333333333333333,
             "#9c179e"
            ],
            [
             0.4444444444444444,
             "#bd3786"
            ],
            [
             0.5555555555555556,
             "#d8576b"
            ],
            [
             0.6666666666666666,
             "#ed7953"
            ],
            [
             0.7777777777777778,
             "#fb9f3a"
            ],
            [
             0.8888888888888888,
             "#fdca26"
            ],
            [
             1,
             "#f0f921"
            ]
           ]
          },
          "colorway": [
           "#636efa",
           "#EF553B",
           "#00cc96",
           "#ab63fa",
           "#FFA15A",
           "#19d3f3",
           "#FF6692",
           "#B6E880",
           "#FF97FF",
           "#FECB52"
          ],
          "font": {
           "color": "#2a3f5f"
          },
          "geo": {
           "bgcolor": "white",
           "lakecolor": "white",
           "landcolor": "white",
           "showlakes": true,
           "showland": true,
           "subunitcolor": "#C8D4E3"
          },
          "hoverlabel": {
           "align": "left"
          },
          "hovermode": "closest",
          "mapbox": {
           "style": "light"
          },
          "paper_bgcolor": "white",
          "plot_bgcolor": "white",
          "polar": {
           "angularaxis": {
            "gridcolor": "#EBF0F8",
            "linecolor": "#EBF0F8",
            "ticks": ""
           },
           "bgcolor": "white",
           "radialaxis": {
            "gridcolor": "#EBF0F8",
            "linecolor": "#EBF0F8",
            "ticks": ""
           }
          },
          "scene": {
           "xaxis": {
            "backgroundcolor": "white",
            "gridcolor": "#DFE8F3",
            "gridwidth": 2,
            "linecolor": "#EBF0F8",
            "showbackground": true,
            "ticks": "",
            "zerolinecolor": "#EBF0F8"
           },
           "yaxis": {
            "backgroundcolor": "white",
            "gridcolor": "#DFE8F3",
            "gridwidth": 2,
            "linecolor": "#EBF0F8",
            "showbackground": true,
            "ticks": "",
            "zerolinecolor": "#EBF0F8"
           },
           "zaxis": {
            "backgroundcolor": "white",
            "gridcolor": "#DFE8F3",
            "gridwidth": 2,
            "linecolor": "#EBF0F8",
            "showbackground": true,
            "ticks": "",
            "zerolinecolor": "#EBF0F8"
           }
          },
          "shapedefaults": {
           "line": {
            "color": "#2a3f5f"
           }
          },
          "ternary": {
           "aaxis": {
            "gridcolor": "#DFE8F3",
            "linecolor": "#A2B1C6",
            "ticks": ""
           },
           "baxis": {
            "gridcolor": "#DFE8F3",
            "linecolor": "#A2B1C6",
            "ticks": ""
           },
           "bgcolor": "white",
           "caxis": {
            "gridcolor": "#DFE8F3",
            "linecolor": "#A2B1C6",
            "ticks": ""
           }
          },
          "title": {
           "x": 0.05
          },
          "xaxis": {
           "automargin": true,
           "gridcolor": "#EBF0F8",
           "linecolor": "#EBF0F8",
           "ticks": "",
           "title": {
            "standoff": 15
           },
           "zerolinecolor": "#EBF0F8",
           "zerolinewidth": 2
          },
          "yaxis": {
           "automargin": true,
           "gridcolor": "#EBF0F8",
           "linecolor": "#EBF0F8",
           "ticks": "",
           "title": {
            "standoff": 15
           },
           "zerolinecolor": "#EBF0F8",
           "zerolinewidth": 2
          }
         }
        },
        "title": {
         "text": "Geographical Distribution of Locations"
        }
       }
      }
     },
     "metadata": {},
     "output_type": "display_data"
    }
   ],
   "source": [
    "import plotly.express as px\n",
    "import pandas as pd\n",
    "\n",
    "\n",
    "# Fill NaN values in the 'Number of Ratings' column with 0\n",
    "df2['Number of Ratings'].fillna(0, inplace=True)\n",
    "\n",
    "# Create the interactive map without text labels on the map\n",
    "fig = px.scatter_geo(df2,\n",
    "                     lon='Longitude',\n",
    "                     lat='Latitude',\n",
    "                     hover_name='Name',  # Hover information includes the name\n",
    "                     hover_data={'Rating': True, 'Number of Ratings': True, 'neighborhood': True},\n",
    "                     size='Number of Ratings',  # Marker size based on the number of ratings\n",
    "                     color='Rating',  # Marker color based on rating\n",
    "                     color_continuous_scale='Viridis',  # Color scale for ratings\n",
    "                     title='Geographical Distribution of Locations',\n",
    "                     template='plotly_white')\n",
    "\n",
    "# Update the layout for better visualization\n",
    "fig.update_layout(\n",
    "    geo=dict(\n",
    "        showland=True,\n",
    "        landcolor='lightgrey',\n",
    "    ),\n",
    "    margin={\"r\":0,\"t\":40,\"l\":0,\"b\":0}  # Adjust margins for better visualization\n",
    ")\n",
    "\n",
    "fig.show()\n"
   ]
  },
  {
   "cell_type": "code",
   "execution_count": 50,
   "id": "b2c22651",
   "metadata": {},
   "outputs": [
    {
     "data": {
      "text/html": [
       "<div>\n",
       "<style scoped>\n",
       "    .dataframe tbody tr th:only-of-type {\n",
       "        vertical-align: middle;\n",
       "    }\n",
       "\n",
       "    .dataframe tbody tr th {\n",
       "        vertical-align: top;\n",
       "    }\n",
       "\n",
       "    .dataframe thead th {\n",
       "        text-align: right;\n",
       "    }\n",
       "</style>\n",
       "<table border=\"1\" class=\"dataframe\">\n",
       "  <thead>\n",
       "    <tr style=\"text-align: right;\">\n",
       "      <th></th>\n",
       "      <th>Name</th>\n",
       "      <th>Rating</th>\n",
       "      <th>Number of Ratings</th>\n",
       "      <th>Longitude</th>\n",
       "      <th>Latitude</th>\n",
       "      <th>Types</th>\n",
       "      <th>neighborhood</th>\n",
       "      <th>Type_1</th>\n",
       "      <th>Type_2</th>\n",
       "      <th>Type_3</th>\n",
       "      <th>Type_4</th>\n",
       "    </tr>\n",
       "  </thead>\n",
       "  <tbody>\n",
       "    <tr>\n",
       "      <th>0</th>\n",
       "      <td>فندق ميرا</td>\n",
       "      <td>3.7</td>\n",
       "      <td>1336.0</td>\n",
       "      <td>46.693985</td>\n",
       "      <td>24.701278</td>\n",
       "      <td>['lodging', 'restaurant', 'food', 'point_of_in...</td>\n",
       "      <td>حي الملز</td>\n",
       "      <td>lodging</td>\n",
       "      <td>restaurant</td>\n",
       "      <td>food</td>\n",
       "      <td>point_of_interest</td>\n",
       "    </tr>\n",
       "    <tr>\n",
       "      <th>1</th>\n",
       "      <td>مركز ماي كار لصيانة السيارات الاوروبية</td>\n",
       "      <td>3.5</td>\n",
       "      <td>2755.0</td>\n",
       "      <td>46.576437</td>\n",
       "      <td>24.851751</td>\n",
       "      <td>['restaurant', 'food', 'point_of_interest', 'e...</td>\n",
       "      <td>حي الملز</td>\n",
       "      <td>restaurant</td>\n",
       "      <td>food</td>\n",
       "      <td>point_of_interest</td>\n",
       "      <td>establishment</td>\n",
       "    </tr>\n",
       "    <tr>\n",
       "      <th>2</th>\n",
       "      <td>Luthan Hotel and Spa</td>\n",
       "      <td>4.0</td>\n",
       "      <td>423.0</td>\n",
       "      <td>46.641709</td>\n",
       "      <td>24.706649</td>\n",
       "      <td>['spa', 'lodging', 'restaurant', 'food', 'poin...</td>\n",
       "      <td>حي الملز</td>\n",
       "      <td>spa</td>\n",
       "      <td>lodging</td>\n",
       "      <td>restaurant</td>\n",
       "      <td>food</td>\n",
       "    </tr>\n",
       "    <tr>\n",
       "      <th>3</th>\n",
       "      <td>Dining Hall</td>\n",
       "      <td>3.0</td>\n",
       "      <td>27.0</td>\n",
       "      <td>46.619655</td>\n",
       "      <td>24.720989</td>\n",
       "      <td>['restaurant', 'point_of_interest', 'food', 'e...</td>\n",
       "      <td>حي الملز</td>\n",
       "      <td>restaurant</td>\n",
       "      <td>point_of_interest</td>\n",
       "      <td>food</td>\n",
       "      <td>establishment</td>\n",
       "    </tr>\n",
       "    <tr>\n",
       "      <th>4</th>\n",
       "      <td>Sushi Yoshi</td>\n",
       "      <td>4.0</td>\n",
       "      <td>1721.0</td>\n",
       "      <td>46.706125</td>\n",
       "      <td>24.704821</td>\n",
       "      <td>['restaurant', 'point_of_interest', 'food', 'e...</td>\n",
       "      <td>حي الملز</td>\n",
       "      <td>restaurant</td>\n",
       "      <td>point_of_interest</td>\n",
       "      <td>food</td>\n",
       "      <td>establishment</td>\n",
       "    </tr>\n",
       "  </tbody>\n",
       "</table>\n",
       "</div>"
      ],
      "text/plain": [
       "                                     Name  Rating  Number of Ratings  \\\n",
       "0                               فندق ميرا     3.7             1336.0   \n",
       "1  مركز ماي كار لصيانة السيارات الاوروبية     3.5             2755.0   \n",
       "2                    Luthan Hotel and Spa     4.0              423.0   \n",
       "3                             Dining Hall     3.0               27.0   \n",
       "4                             Sushi Yoshi     4.0             1721.0   \n",
       "\n",
       "   Longitude   Latitude                                              Types  \\\n",
       "0  46.693985  24.701278  ['lodging', 'restaurant', 'food', 'point_of_in...   \n",
       "1  46.576437  24.851751  ['restaurant', 'food', 'point_of_interest', 'e...   \n",
       "2  46.641709  24.706649  ['spa', 'lodging', 'restaurant', 'food', 'poin...   \n",
       "3  46.619655  24.720989  ['restaurant', 'point_of_interest', 'food', 'e...   \n",
       "4  46.706125  24.704821  ['restaurant', 'point_of_interest', 'food', 'e...   \n",
       "\n",
       "  neighborhood      Type_1              Type_2              Type_3  \\\n",
       "0     حي الملز     lodging          restaurant                food   \n",
       "1     حي الملز  restaurant                food   point_of_interest   \n",
       "2     حي الملز         spa             lodging          restaurant   \n",
       "3     حي الملز  restaurant   point_of_interest                food   \n",
       "4     حي الملز  restaurant   point_of_interest                food   \n",
       "\n",
       "               Type_4  \n",
       "0   point_of_interest  \n",
       "1       establishment  \n",
       "2                food  \n",
       "3       establishment  \n",
       "4       establishment  "
      ]
     },
     "execution_count": 50,
     "metadata": {},
     "output_type": "execute_result"
    }
   ],
   "source": [
    "df2.head()"
   ]
  },
  {
   "cell_type": "markdown",
   "id": "0d57c4b9-9bb3-494d-85dd-b8d39afda139",
   "metadata": {},
   "source": [
    "#### I. Categorical Variables:\n",
    "\n",
    "we’ll use frequency table to understand distribution of each category\n",
    "- Bar Chart (Ordinal) - Orderd\n",
    "- Pie Chart (Nominal) - non Orderd"
   ]
  },
  {
   "cell_type": "code",
   "execution_count": 57,
   "id": "72ece4b7-5508-403a-8fb0-f519fc74272a",
   "metadata": {},
   "outputs": [
    {
     "data": {
      "application/vnd.plotly.v1+json": {
       "config": {
        "plotlyServerURL": "https://plot.ly"
       },
       "data": [
        {
         "domain": {
          "x": [
           0,
           1
          ],
          "y": [
           0,
           1
          ]
         },
         "hovertemplate": "label=%{label}<br>value=%{value}<extra></extra>",
         "labels": [
          "restaurant",
          "meal_delivery",
          "lodging",
          "bakery",
          "spa"
         ],
         "legendgroup": "",
         "name": "",
         "showlegend": true,
         "type": "pie",
         "values": [
          1420,
          131,
          47,
          25,
          23
         ]
        }
       ],
       "layout": {
        "legend": {
         "tracegroupgap": 0
        },
        "template": {
         "data": {
          "bar": [
           {
            "error_x": {
             "color": "#2a3f5f"
            },
            "error_y": {
             "color": "#2a3f5f"
            },
            "marker": {
             "line": {
              "color": "#E5ECF6",
              "width": 0.5
             },
             "pattern": {
              "fillmode": "overlay",
              "size": 10,
              "solidity": 0.2
             }
            },
            "type": "bar"
           }
          ],
          "barpolar": [
           {
            "marker": {
             "line": {
              "color": "#E5ECF6",
              "width": 0.5
             },
             "pattern": {
              "fillmode": "overlay",
              "size": 10,
              "solidity": 0.2
             }
            },
            "type": "barpolar"
           }
          ],
          "carpet": [
           {
            "aaxis": {
             "endlinecolor": "#2a3f5f",
             "gridcolor": "white",
             "linecolor": "white",
             "minorgridcolor": "white",
             "startlinecolor": "#2a3f5f"
            },
            "baxis": {
             "endlinecolor": "#2a3f5f",
             "gridcolor": "white",
             "linecolor": "white",
             "minorgridcolor": "white",
             "startlinecolor": "#2a3f5f"
            },
            "type": "carpet"
           }
          ],
          "choropleth": [
           {
            "colorbar": {
             "outlinewidth": 0,
             "ticks": ""
            },
            "type": "choropleth"
           }
          ],
          "contour": [
           {
            "colorbar": {
             "outlinewidth": 0,
             "ticks": ""
            },
            "colorscale": [
             [
              0,
              "#0d0887"
             ],
             [
              0.1111111111111111,
              "#46039f"
             ],
             [
              0.2222222222222222,
              "#7201a8"
             ],
             [
              0.3333333333333333,
              "#9c179e"
             ],
             [
              0.4444444444444444,
              "#bd3786"
             ],
             [
              0.5555555555555556,
              "#d8576b"
             ],
             [
              0.6666666666666666,
              "#ed7953"
             ],
             [
              0.7777777777777778,
              "#fb9f3a"
             ],
             [
              0.8888888888888888,
              "#fdca26"
             ],
             [
              1,
              "#f0f921"
             ]
            ],
            "type": "contour"
           }
          ],
          "contourcarpet": [
           {
            "colorbar": {
             "outlinewidth": 0,
             "ticks": ""
            },
            "type": "contourcarpet"
           }
          ],
          "heatmap": [
           {
            "colorbar": {
             "outlinewidth": 0,
             "ticks": ""
            },
            "colorscale": [
             [
              0,
              "#0d0887"
             ],
             [
              0.1111111111111111,
              "#46039f"
             ],
             [
              0.2222222222222222,
              "#7201a8"
             ],
             [
              0.3333333333333333,
              "#9c179e"
             ],
             [
              0.4444444444444444,
              "#bd3786"
             ],
             [
              0.5555555555555556,
              "#d8576b"
             ],
             [
              0.6666666666666666,
              "#ed7953"
             ],
             [
              0.7777777777777778,
              "#fb9f3a"
             ],
             [
              0.8888888888888888,
              "#fdca26"
             ],
             [
              1,
              "#f0f921"
             ]
            ],
            "type": "heatmap"
           }
          ],
          "heatmapgl": [
           {
            "colorbar": {
             "outlinewidth": 0,
             "ticks": ""
            },
            "colorscale": [
             [
              0,
              "#0d0887"
             ],
             [
              0.1111111111111111,
              "#46039f"
             ],
             [
              0.2222222222222222,
              "#7201a8"
             ],
             [
              0.3333333333333333,
              "#9c179e"
             ],
             [
              0.4444444444444444,
              "#bd3786"
             ],
             [
              0.5555555555555556,
              "#d8576b"
             ],
             [
              0.6666666666666666,
              "#ed7953"
             ],
             [
              0.7777777777777778,
              "#fb9f3a"
             ],
             [
              0.8888888888888888,
              "#fdca26"
             ],
             [
              1,
              "#f0f921"
             ]
            ],
            "type": "heatmapgl"
           }
          ],
          "histogram": [
           {
            "marker": {
             "pattern": {
              "fillmode": "overlay",
              "size": 10,
              "solidity": 0.2
             }
            },
            "type": "histogram"
           }
          ],
          "histogram2d": [
           {
            "colorbar": {
             "outlinewidth": 0,
             "ticks": ""
            },
            "colorscale": [
             [
              0,
              "#0d0887"
             ],
             [
              0.1111111111111111,
              "#46039f"
             ],
             [
              0.2222222222222222,
              "#7201a8"
             ],
             [
              0.3333333333333333,
              "#9c179e"
             ],
             [
              0.4444444444444444,
              "#bd3786"
             ],
             [
              0.5555555555555556,
              "#d8576b"
             ],
             [
              0.6666666666666666,
              "#ed7953"
             ],
             [
              0.7777777777777778,
              "#fb9f3a"
             ],
             [
              0.8888888888888888,
              "#fdca26"
             ],
             [
              1,
              "#f0f921"
             ]
            ],
            "type": "histogram2d"
           }
          ],
          "histogram2dcontour": [
           {
            "colorbar": {
             "outlinewidth": 0,
             "ticks": ""
            },
            "colorscale": [
             [
              0,
              "#0d0887"
             ],
             [
              0.1111111111111111,
              "#46039f"
             ],
             [
              0.2222222222222222,
              "#7201a8"
             ],
             [
              0.3333333333333333,
              "#9c179e"
             ],
             [
              0.4444444444444444,
              "#bd3786"
             ],
             [
              0.5555555555555556,
              "#d8576b"
             ],
             [
              0.6666666666666666,
              "#ed7953"
             ],
             [
              0.7777777777777778,
              "#fb9f3a"
             ],
             [
              0.8888888888888888,
              "#fdca26"
             ],
             [
              1,
              "#f0f921"
             ]
            ],
            "type": "histogram2dcontour"
           }
          ],
          "mesh3d": [
           {
            "colorbar": {
             "outlinewidth": 0,
             "ticks": ""
            },
            "type": "mesh3d"
           }
          ],
          "parcoords": [
           {
            "line": {
             "colorbar": {
              "outlinewidth": 0,
              "ticks": ""
             }
            },
            "type": "parcoords"
           }
          ],
          "pie": [
           {
            "automargin": true,
            "type": "pie"
           }
          ],
          "scatter": [
           {
            "fillpattern": {
             "fillmode": "overlay",
             "size": 10,
             "solidity": 0.2
            },
            "type": "scatter"
           }
          ],
          "scatter3d": [
           {
            "line": {
             "colorbar": {
              "outlinewidth": 0,
              "ticks": ""
             }
            },
            "marker": {
             "colorbar": {
              "outlinewidth": 0,
              "ticks": ""
             }
            },
            "type": "scatter3d"
           }
          ],
          "scattercarpet": [
           {
            "marker": {
             "colorbar": {
              "outlinewidth": 0,
              "ticks": ""
             }
            },
            "type": "scattercarpet"
           }
          ],
          "scattergeo": [
           {
            "marker": {
             "colorbar": {
              "outlinewidth": 0,
              "ticks": ""
             }
            },
            "type": "scattergeo"
           }
          ],
          "scattergl": [
           {
            "marker": {
             "colorbar": {
              "outlinewidth": 0,
              "ticks": ""
             }
            },
            "type": "scattergl"
           }
          ],
          "scattermapbox": [
           {
            "marker": {
             "colorbar": {
              "outlinewidth": 0,
              "ticks": ""
             }
            },
            "type": "scattermapbox"
           }
          ],
          "scatterpolar": [
           {
            "marker": {
             "colorbar": {
              "outlinewidth": 0,
              "ticks": ""
             }
            },
            "type": "scatterpolar"
           }
          ],
          "scatterpolargl": [
           {
            "marker": {
             "colorbar": {
              "outlinewidth": 0,
              "ticks": ""
             }
            },
            "type": "scatterpolargl"
           }
          ],
          "scatterternary": [
           {
            "marker": {
             "colorbar": {
              "outlinewidth": 0,
              "ticks": ""
             }
            },
            "type": "scatterternary"
           }
          ],
          "surface": [
           {
            "colorbar": {
             "outlinewidth": 0,
             "ticks": ""
            },
            "colorscale": [
             [
              0,
              "#0d0887"
             ],
             [
              0.1111111111111111,
              "#46039f"
             ],
             [
              0.2222222222222222,
              "#7201a8"
             ],
             [
              0.3333333333333333,
              "#9c179e"
             ],
             [
              0.4444444444444444,
              "#bd3786"
             ],
             [
              0.5555555555555556,
              "#d8576b"
             ],
             [
              0.6666666666666666,
              "#ed7953"
             ],
             [
              0.7777777777777778,
              "#fb9f3a"
             ],
             [
              0.8888888888888888,
              "#fdca26"
             ],
             [
              1,
              "#f0f921"
             ]
            ],
            "type": "surface"
           }
          ],
          "table": [
           {
            "cells": {
             "fill": {
              "color": "#EBF0F8"
             },
             "line": {
              "color": "white"
             }
            },
            "header": {
             "fill": {
              "color": "#C8D4E3"
             },
             "line": {
              "color": "white"
             }
            },
            "type": "table"
           }
          ]
         },
         "layout": {
          "annotationdefaults": {
           "arrowcolor": "#2a3f5f",
           "arrowhead": 0,
           "arrowwidth": 1
          },
          "autotypenumbers": "strict",
          "coloraxis": {
           "colorbar": {
            "outlinewidth": 0,
            "ticks": ""
           }
          },
          "colorscale": {
           "diverging": [
            [
             0,
             "#8e0152"
            ],
            [
             0.1,
             "#c51b7d"
            ],
            [
             0.2,
             "#de77ae"
            ],
            [
             0.3,
             "#f1b6da"
            ],
            [
             0.4,
             "#fde0ef"
            ],
            [
             0.5,
             "#f7f7f7"
            ],
            [
             0.6,
             "#e6f5d0"
            ],
            [
             0.7,
             "#b8e186"
            ],
            [
             0.8,
             "#7fbc41"
            ],
            [
             0.9,
             "#4d9221"
            ],
            [
             1,
             "#276419"
            ]
           ],
           "sequential": [
            [
             0,
             "#0d0887"
            ],
            [
             0.1111111111111111,
             "#46039f"
            ],
            [
             0.2222222222222222,
             "#7201a8"
            ],
            [
             0.3333333333333333,
             "#9c179e"
            ],
            [
             0.4444444444444444,
             "#bd3786"
            ],
            [
             0.5555555555555556,
             "#d8576b"
            ],
            [
             0.6666666666666666,
             "#ed7953"
            ],
            [
             0.7777777777777778,
             "#fb9f3a"
            ],
            [
             0.8888888888888888,
             "#fdca26"
            ],
            [
             1,
             "#f0f921"
            ]
           ],
           "sequentialminus": [
            [
             0,
             "#0d0887"
            ],
            [
             0.1111111111111111,
             "#46039f"
            ],
            [
             0.2222222222222222,
             "#7201a8"
            ],
            [
             0.3333333333333333,
             "#9c179e"
            ],
            [
             0.4444444444444444,
             "#bd3786"
            ],
            [
             0.5555555555555556,
             "#d8576b"
            ],
            [
             0.6666666666666666,
             "#ed7953"
            ],
            [
             0.7777777777777778,
             "#fb9f3a"
            ],
            [
             0.8888888888888888,
             "#fdca26"
            ],
            [
             1,
             "#f0f921"
            ]
           ]
          },
          "colorway": [
           "#636efa",
           "#EF553B",
           "#00cc96",
           "#ab63fa",
           "#FFA15A",
           "#19d3f3",
           "#FF6692",
           "#B6E880",
           "#FF97FF",
           "#FECB52"
          ],
          "font": {
           "color": "#2a3f5f"
          },
          "geo": {
           "bgcolor": "white",
           "lakecolor": "white",
           "landcolor": "#E5ECF6",
           "showlakes": true,
           "showland": true,
           "subunitcolor": "white"
          },
          "hoverlabel": {
           "align": "left"
          },
          "hovermode": "closest",
          "mapbox": {
           "style": "light"
          },
          "paper_bgcolor": "white",
          "plot_bgcolor": "#E5ECF6",
          "polar": {
           "angularaxis": {
            "gridcolor": "white",
            "linecolor": "white",
            "ticks": ""
           },
           "bgcolor": "#E5ECF6",
           "radialaxis": {
            "gridcolor": "white",
            "linecolor": "white",
            "ticks": ""
           }
          },
          "scene": {
           "xaxis": {
            "backgroundcolor": "#E5ECF6",
            "gridcolor": "white",
            "gridwidth": 2,
            "linecolor": "white",
            "showbackground": true,
            "ticks": "",
            "zerolinecolor": "white"
           },
           "yaxis": {
            "backgroundcolor": "#E5ECF6",
            "gridcolor": "white",
            "gridwidth": 2,
            "linecolor": "white",
            "showbackground": true,
            "ticks": "",
            "zerolinecolor": "white"
           },
           "zaxis": {
            "backgroundcolor": "#E5ECF6",
            "gridcolor": "white",
            "gridwidth": 2,
            "linecolor": "white",
            "showbackground": true,
            "ticks": "",
            "zerolinecolor": "white"
           }
          },
          "shapedefaults": {
           "line": {
            "color": "#2a3f5f"
           }
          },
          "ternary": {
           "aaxis": {
            "gridcolor": "white",
            "linecolor": "white",
            "ticks": ""
           },
           "baxis": {
            "gridcolor": "white",
            "linecolor": "white",
            "ticks": ""
           },
           "bgcolor": "#E5ECF6",
           "caxis": {
            "gridcolor": "white",
            "linecolor": "white",
            "ticks": ""
           }
          },
          "title": {
           "x": 0.05
          },
          "xaxis": {
           "automargin": true,
           "gridcolor": "white",
           "linecolor": "white",
           "ticks": "",
           "title": {
            "standoff": 15
           },
           "zerolinecolor": "white",
           "zerolinewidth": 2
          },
          "yaxis": {
           "automargin": true,
           "gridcolor": "white",
           "linecolor": "white",
           "ticks": "",
           "title": {
            "standoff": 15
           },
           "zerolinecolor": "white",
           "zerolinewidth": 2
          }
         }
        },
        "title": {
         "text": "Top 5 Pokemon Types (Type 1)"
        }
       }
      }
     },
     "metadata": {},
     "output_type": "display_data"
    }
   ],
   "source": [
    "type_counts = df2['Type_1'].value_counts()\n",
    "\n",
    "top_5_type_counts = type_counts.head(5)\n",
    "fig = px.pie(names=top_5_type_counts.index, values=top_5_type_counts.values, title='Top 5 Types (Type 1)')\n",
    "fig.show()"
   ]
  },
  {
   "cell_type": "code",
   "execution_count": 58,
   "id": "70628f97",
   "metadata": {},
   "outputs": [
    {
     "data": {
      "application/vnd.plotly.v1+json": {
       "config": {
        "plotlyServerURL": "https://plot.ly"
       },
       "data": [
        {
         "domain": {
          "x": [
           0,
           1
          ],
          "y": [
           0,
           1
          ]
         },
         "hovertemplate": "label=%{label}<br>value=%{value}<extra></extra>",
         "labels": [
          " food",
          " point_of_interest",
          " restaurant",
          " meal_delivery",
          " meal_takeaway"
         ],
         "legendgroup": "",
         "name": "",
         "showlegend": true,
         "type": "pie",
         "values": [
          845,
          451,
          152,
          100,
          58
         ]
        }
       ],
       "layout": {
        "legend": {
         "tracegroupgap": 0
        },
        "template": {
         "data": {
          "bar": [
           {
            "error_x": {
             "color": "#2a3f5f"
            },
            "error_y": {
             "color": "#2a3f5f"
            },
            "marker": {
             "line": {
              "color": "#E5ECF6",
              "width": 0.5
             },
             "pattern": {
              "fillmode": "overlay",
              "size": 10,
              "solidity": 0.2
             }
            },
            "type": "bar"
           }
          ],
          "barpolar": [
           {
            "marker": {
             "line": {
              "color": "#E5ECF6",
              "width": 0.5
             },
             "pattern": {
              "fillmode": "overlay",
              "size": 10,
              "solidity": 0.2
             }
            },
            "type": "barpolar"
           }
          ],
          "carpet": [
           {
            "aaxis": {
             "endlinecolor": "#2a3f5f",
             "gridcolor": "white",
             "linecolor": "white",
             "minorgridcolor": "white",
             "startlinecolor": "#2a3f5f"
            },
            "baxis": {
             "endlinecolor": "#2a3f5f",
             "gridcolor": "white",
             "linecolor": "white",
             "minorgridcolor": "white",
             "startlinecolor": "#2a3f5f"
            },
            "type": "carpet"
           }
          ],
          "choropleth": [
           {
            "colorbar": {
             "outlinewidth": 0,
             "ticks": ""
            },
            "type": "choropleth"
           }
          ],
          "contour": [
           {
            "colorbar": {
             "outlinewidth": 0,
             "ticks": ""
            },
            "colorscale": [
             [
              0,
              "#0d0887"
             ],
             [
              0.1111111111111111,
              "#46039f"
             ],
             [
              0.2222222222222222,
              "#7201a8"
             ],
             [
              0.3333333333333333,
              "#9c179e"
             ],
             [
              0.4444444444444444,
              "#bd3786"
             ],
             [
              0.5555555555555556,
              "#d8576b"
             ],
             [
              0.6666666666666666,
              "#ed7953"
             ],
             [
              0.7777777777777778,
              "#fb9f3a"
             ],
             [
              0.8888888888888888,
              "#fdca26"
             ],
             [
              1,
              "#f0f921"
             ]
            ],
            "type": "contour"
           }
          ],
          "contourcarpet": [
           {
            "colorbar": {
             "outlinewidth": 0,
             "ticks": ""
            },
            "type": "contourcarpet"
           }
          ],
          "heatmap": [
           {
            "colorbar": {
             "outlinewidth": 0,
             "ticks": ""
            },
            "colorscale": [
             [
              0,
              "#0d0887"
             ],
             [
              0.1111111111111111,
              "#46039f"
             ],
             [
              0.2222222222222222,
              "#7201a8"
             ],
             [
              0.3333333333333333,
              "#9c179e"
             ],
             [
              0.4444444444444444,
              "#bd3786"
             ],
             [
              0.5555555555555556,
              "#d8576b"
             ],
             [
              0.6666666666666666,
              "#ed7953"
             ],
             [
              0.7777777777777778,
              "#fb9f3a"
             ],
             [
              0.8888888888888888,
              "#fdca26"
             ],
             [
              1,
              "#f0f921"
             ]
            ],
            "type": "heatmap"
           }
          ],
          "heatmapgl": [
           {
            "colorbar": {
             "outlinewidth": 0,
             "ticks": ""
            },
            "colorscale": [
             [
              0,
              "#0d0887"
             ],
             [
              0.1111111111111111,
              "#46039f"
             ],
             [
              0.2222222222222222,
              "#7201a8"
             ],
             [
              0.3333333333333333,
              "#9c179e"
             ],
             [
              0.4444444444444444,
              "#bd3786"
             ],
             [
              0.5555555555555556,
              "#d8576b"
             ],
             [
              0.6666666666666666,
              "#ed7953"
             ],
             [
              0.7777777777777778,
              "#fb9f3a"
             ],
             [
              0.8888888888888888,
              "#fdca26"
             ],
             [
              1,
              "#f0f921"
             ]
            ],
            "type": "heatmapgl"
           }
          ],
          "histogram": [
           {
            "marker": {
             "pattern": {
              "fillmode": "overlay",
              "size": 10,
              "solidity": 0.2
             }
            },
            "type": "histogram"
           }
          ],
          "histogram2d": [
           {
            "colorbar": {
             "outlinewidth": 0,
             "ticks": ""
            },
            "colorscale": [
             [
              0,
              "#0d0887"
             ],
             [
              0.1111111111111111,
              "#46039f"
             ],
             [
              0.2222222222222222,
              "#7201a8"
             ],
             [
              0.3333333333333333,
              "#9c179e"
             ],
             [
              0.4444444444444444,
              "#bd3786"
             ],
             [
              0.5555555555555556,
              "#d8576b"
             ],
             [
              0.6666666666666666,
              "#ed7953"
             ],
             [
              0.7777777777777778,
              "#fb9f3a"
             ],
             [
              0.8888888888888888,
              "#fdca26"
             ],
             [
              1,
              "#f0f921"
             ]
            ],
            "type": "histogram2d"
           }
          ],
          "histogram2dcontour": [
           {
            "colorbar": {
             "outlinewidth": 0,
             "ticks": ""
            },
            "colorscale": [
             [
              0,
              "#0d0887"
             ],
             [
              0.1111111111111111,
              "#46039f"
             ],
             [
              0.2222222222222222,
              "#7201a8"
             ],
             [
              0.3333333333333333,
              "#9c179e"
             ],
             [
              0.4444444444444444,
              "#bd3786"
             ],
             [
              0.5555555555555556,
              "#d8576b"
             ],
             [
              0.6666666666666666,
              "#ed7953"
             ],
             [
              0.7777777777777778,
              "#fb9f3a"
             ],
             [
              0.8888888888888888,
              "#fdca26"
             ],
             [
              1,
              "#f0f921"
             ]
            ],
            "type": "histogram2dcontour"
           }
          ],
          "mesh3d": [
           {
            "colorbar": {
             "outlinewidth": 0,
             "ticks": ""
            },
            "type": "mesh3d"
           }
          ],
          "parcoords": [
           {
            "line": {
             "colorbar": {
              "outlinewidth": 0,
              "ticks": ""
             }
            },
            "type": "parcoords"
           }
          ],
          "pie": [
           {
            "automargin": true,
            "type": "pie"
           }
          ],
          "scatter": [
           {
            "fillpattern": {
             "fillmode": "overlay",
             "size": 10,
             "solidity": 0.2
            },
            "type": "scatter"
           }
          ],
          "scatter3d": [
           {
            "line": {
             "colorbar": {
              "outlinewidth": 0,
              "ticks": ""
             }
            },
            "marker": {
             "colorbar": {
              "outlinewidth": 0,
              "ticks": ""
             }
            },
            "type": "scatter3d"
           }
          ],
          "scattercarpet": [
           {
            "marker": {
             "colorbar": {
              "outlinewidth": 0,
              "ticks": ""
             }
            },
            "type": "scattercarpet"
           }
          ],
          "scattergeo": [
           {
            "marker": {
             "colorbar": {
              "outlinewidth": 0,
              "ticks": ""
             }
            },
            "type": "scattergeo"
           }
          ],
          "scattergl": [
           {
            "marker": {
             "colorbar": {
              "outlinewidth": 0,
              "ticks": ""
             }
            },
            "type": "scattergl"
           }
          ],
          "scattermapbox": [
           {
            "marker": {
             "colorbar": {
              "outlinewidth": 0,
              "ticks": ""
             }
            },
            "type": "scattermapbox"
           }
          ],
          "scatterpolar": [
           {
            "marker": {
             "colorbar": {
              "outlinewidth": 0,
              "ticks": ""
             }
            },
            "type": "scatterpolar"
           }
          ],
          "scatterpolargl": [
           {
            "marker": {
             "colorbar": {
              "outlinewidth": 0,
              "ticks": ""
             }
            },
            "type": "scatterpolargl"
           }
          ],
          "scatterternary": [
           {
            "marker": {
             "colorbar": {
              "outlinewidth": 0,
              "ticks": ""
             }
            },
            "type": "scatterternary"
           }
          ],
          "surface": [
           {
            "colorbar": {
             "outlinewidth": 0,
             "ticks": ""
            },
            "colorscale": [
             [
              0,
              "#0d0887"
             ],
             [
              0.1111111111111111,
              "#46039f"
             ],
             [
              0.2222222222222222,
              "#7201a8"
             ],
             [
              0.3333333333333333,
              "#9c179e"
             ],
             [
              0.4444444444444444,
              "#bd3786"
             ],
             [
              0.5555555555555556,
              "#d8576b"
             ],
             [
              0.6666666666666666,
              "#ed7953"
             ],
             [
              0.7777777777777778,
              "#fb9f3a"
             ],
             [
              0.8888888888888888,
              "#fdca26"
             ],
             [
              1,
              "#f0f921"
             ]
            ],
            "type": "surface"
           }
          ],
          "table": [
           {
            "cells": {
             "fill": {
              "color": "#EBF0F8"
             },
             "line": {
              "color": "white"
             }
            },
            "header": {
             "fill": {
              "color": "#C8D4E3"
             },
             "line": {
              "color": "white"
             }
            },
            "type": "table"
           }
          ]
         },
         "layout": {
          "annotationdefaults": {
           "arrowcolor": "#2a3f5f",
           "arrowhead": 0,
           "arrowwidth": 1
          },
          "autotypenumbers": "strict",
          "coloraxis": {
           "colorbar": {
            "outlinewidth": 0,
            "ticks": ""
           }
          },
          "colorscale": {
           "diverging": [
            [
             0,
             "#8e0152"
            ],
            [
             0.1,
             "#c51b7d"
            ],
            [
             0.2,
             "#de77ae"
            ],
            [
             0.3,
             "#f1b6da"
            ],
            [
             0.4,
             "#fde0ef"
            ],
            [
             0.5,
             "#f7f7f7"
            ],
            [
             0.6,
             "#e6f5d0"
            ],
            [
             0.7,
             "#b8e186"
            ],
            [
             0.8,
             "#7fbc41"
            ],
            [
             0.9,
             "#4d9221"
            ],
            [
             1,
             "#276419"
            ]
           ],
           "sequential": [
            [
             0,
             "#0d0887"
            ],
            [
             0.1111111111111111,
             "#46039f"
            ],
            [
             0.2222222222222222,
             "#7201a8"
            ],
            [
             0.3333333333333333,
             "#9c179e"
            ],
            [
             0.4444444444444444,
             "#bd3786"
            ],
            [
             0.5555555555555556,
             "#d8576b"
            ],
            [
             0.6666666666666666,
             "#ed7953"
            ],
            [
             0.7777777777777778,
             "#fb9f3a"
            ],
            [
             0.8888888888888888,
             "#fdca26"
            ],
            [
             1,
             "#f0f921"
            ]
           ],
           "sequentialminus": [
            [
             0,
             "#0d0887"
            ],
            [
             0.1111111111111111,
             "#46039f"
            ],
            [
             0.2222222222222222,
             "#7201a8"
            ],
            [
             0.3333333333333333,
             "#9c179e"
            ],
            [
             0.4444444444444444,
             "#bd3786"
            ],
            [
             0.5555555555555556,
             "#d8576b"
            ],
            [
             0.6666666666666666,
             "#ed7953"
            ],
            [
             0.7777777777777778,
             "#fb9f3a"
            ],
            [
             0.8888888888888888,
             "#fdca26"
            ],
            [
             1,
             "#f0f921"
            ]
           ]
          },
          "colorway": [
           "#636efa",
           "#EF553B",
           "#00cc96",
           "#ab63fa",
           "#FFA15A",
           "#19d3f3",
           "#FF6692",
           "#B6E880",
           "#FF97FF",
           "#FECB52"
          ],
          "font": {
           "color": "#2a3f5f"
          },
          "geo": {
           "bgcolor": "white",
           "lakecolor": "white",
           "landcolor": "#E5ECF6",
           "showlakes": true,
           "showland": true,
           "subunitcolor": "white"
          },
          "hoverlabel": {
           "align": "left"
          },
          "hovermode": "closest",
          "mapbox": {
           "style": "light"
          },
          "paper_bgcolor": "white",
          "plot_bgcolor": "#E5ECF6",
          "polar": {
           "angularaxis": {
            "gridcolor": "white",
            "linecolor": "white",
            "ticks": ""
           },
           "bgcolor": "#E5ECF6",
           "radialaxis": {
            "gridcolor": "white",
            "linecolor": "white",
            "ticks": ""
           }
          },
          "scene": {
           "xaxis": {
            "backgroundcolor": "#E5ECF6",
            "gridcolor": "white",
            "gridwidth": 2,
            "linecolor": "white",
            "showbackground": true,
            "ticks": "",
            "zerolinecolor": "white"
           },
           "yaxis": {
            "backgroundcolor": "#E5ECF6",
            "gridcolor": "white",
            "gridwidth": 2,
            "linecolor": "white",
            "showbackground": true,
            "ticks": "",
            "zerolinecolor": "white"
           },
           "zaxis": {
            "backgroundcolor": "#E5ECF6",
            "gridcolor": "white",
            "gridwidth": 2,
            "linecolor": "white",
            "showbackground": true,
            "ticks": "",
            "zerolinecolor": "white"
           }
          },
          "shapedefaults": {
           "line": {
            "color": "#2a3f5f"
           }
          },
          "ternary": {
           "aaxis": {
            "gridcolor": "white",
            "linecolor": "white",
            "ticks": ""
           },
           "baxis": {
            "gridcolor": "white",
            "linecolor": "white",
            "ticks": ""
           },
           "bgcolor": "#E5ECF6",
           "caxis": {
            "gridcolor": "white",
            "linecolor": "white",
            "ticks": ""
           }
          },
          "title": {
           "x": 0.05
          },
          "xaxis": {
           "automargin": true,
           "gridcolor": "white",
           "linecolor": "white",
           "ticks": "",
           "title": {
            "standoff": 15
           },
           "zerolinecolor": "white",
           "zerolinewidth": 2
          },
          "yaxis": {
           "automargin": true,
           "gridcolor": "white",
           "linecolor": "white",
           "ticks": "",
           "title": {
            "standoff": 15
           },
           "zerolinecolor": "white",
           "zerolinewidth": 2
          }
         }
        },
        "title": {
         "text": "Top 5 Types (Type 2)"
        }
       }
      }
     },
     "metadata": {},
     "output_type": "display_data"
    }
   ],
   "source": [
    "type_counts = df2['Type_2'].value_counts()\n",
    "\n",
    "top_5_type_counts = type_counts.head(5)\n",
    "fig = px.pie(names=top_5_type_counts.index, values=top_5_type_counts.values, title='Top 5 Types (Type 2)')\n",
    "fig.show()"
   ]
  },
  {
   "cell_type": "code",
   "execution_count": 59,
   "id": "cab133d1",
   "metadata": {},
   "outputs": [
    {
     "data": {
      "application/vnd.plotly.v1+json": {
       "config": {
        "plotlyServerURL": "https://plot.ly"
       },
       "data": [
        {
         "domain": {
          "x": [
           0,
           1
          ],
          "y": [
           0,
           1
          ]
         },
         "hovertemplate": "label=%{label}<br>value=%{value}<extra></extra>",
         "labels": [
          " point_of_interest",
          " food",
          " restaurant",
          " meal_takeaway",
          " night_club",
          " store",
          " bar"
         ],
         "legendgroup": "",
         "name": "",
         "showlegend": true,
         "type": "pie",
         "values": [
          899,
          552,
          103,
          100,
          16,
          5,
          5
         ]
        }
       ],
       "layout": {
        "legend": {
         "tracegroupgap": 0
        },
        "template": {
         "data": {
          "bar": [
           {
            "error_x": {
             "color": "#2a3f5f"
            },
            "error_y": {
             "color": "#2a3f5f"
            },
            "marker": {
             "line": {
              "color": "#E5ECF6",
              "width": 0.5
             },
             "pattern": {
              "fillmode": "overlay",
              "size": 10,
              "solidity": 0.2
             }
            },
            "type": "bar"
           }
          ],
          "barpolar": [
           {
            "marker": {
             "line": {
              "color": "#E5ECF6",
              "width": 0.5
             },
             "pattern": {
              "fillmode": "overlay",
              "size": 10,
              "solidity": 0.2
             }
            },
            "type": "barpolar"
           }
          ],
          "carpet": [
           {
            "aaxis": {
             "endlinecolor": "#2a3f5f",
             "gridcolor": "white",
             "linecolor": "white",
             "minorgridcolor": "white",
             "startlinecolor": "#2a3f5f"
            },
            "baxis": {
             "endlinecolor": "#2a3f5f",
             "gridcolor": "white",
             "linecolor": "white",
             "minorgridcolor": "white",
             "startlinecolor": "#2a3f5f"
            },
            "type": "carpet"
           }
          ],
          "choropleth": [
           {
            "colorbar": {
             "outlinewidth": 0,
             "ticks": ""
            },
            "type": "choropleth"
           }
          ],
          "contour": [
           {
            "colorbar": {
             "outlinewidth": 0,
             "ticks": ""
            },
            "colorscale": [
             [
              0,
              "#0d0887"
             ],
             [
              0.1111111111111111,
              "#46039f"
             ],
             [
              0.2222222222222222,
              "#7201a8"
             ],
             [
              0.3333333333333333,
              "#9c179e"
             ],
             [
              0.4444444444444444,
              "#bd3786"
             ],
             [
              0.5555555555555556,
              "#d8576b"
             ],
             [
              0.6666666666666666,
              "#ed7953"
             ],
             [
              0.7777777777777778,
              "#fb9f3a"
             ],
             [
              0.8888888888888888,
              "#fdca26"
             ],
             [
              1,
              "#f0f921"
             ]
            ],
            "type": "contour"
           }
          ],
          "contourcarpet": [
           {
            "colorbar": {
             "outlinewidth": 0,
             "ticks": ""
            },
            "type": "contourcarpet"
           }
          ],
          "heatmap": [
           {
            "colorbar": {
             "outlinewidth": 0,
             "ticks": ""
            },
            "colorscale": [
             [
              0,
              "#0d0887"
             ],
             [
              0.1111111111111111,
              "#46039f"
             ],
             [
              0.2222222222222222,
              "#7201a8"
             ],
             [
              0.3333333333333333,
              "#9c179e"
             ],
             [
              0.4444444444444444,
              "#bd3786"
             ],
             [
              0.5555555555555556,
              "#d8576b"
             ],
             [
              0.6666666666666666,
              "#ed7953"
             ],
             [
              0.7777777777777778,
              "#fb9f3a"
             ],
             [
              0.8888888888888888,
              "#fdca26"
             ],
             [
              1,
              "#f0f921"
             ]
            ],
            "type": "heatmap"
           }
          ],
          "heatmapgl": [
           {
            "colorbar": {
             "outlinewidth": 0,
             "ticks": ""
            },
            "colorscale": [
             [
              0,
              "#0d0887"
             ],
             [
              0.1111111111111111,
              "#46039f"
             ],
             [
              0.2222222222222222,
              "#7201a8"
             ],
             [
              0.3333333333333333,
              "#9c179e"
             ],
             [
              0.4444444444444444,
              "#bd3786"
             ],
             [
              0.5555555555555556,
              "#d8576b"
             ],
             [
              0.6666666666666666,
              "#ed7953"
             ],
             [
              0.7777777777777778,
              "#fb9f3a"
             ],
             [
              0.8888888888888888,
              "#fdca26"
             ],
             [
              1,
              "#f0f921"
             ]
            ],
            "type": "heatmapgl"
           }
          ],
          "histogram": [
           {
            "marker": {
             "pattern": {
              "fillmode": "overlay",
              "size": 10,
              "solidity": 0.2
             }
            },
            "type": "histogram"
           }
          ],
          "histogram2d": [
           {
            "colorbar": {
             "outlinewidth": 0,
             "ticks": ""
            },
            "colorscale": [
             [
              0,
              "#0d0887"
             ],
             [
              0.1111111111111111,
              "#46039f"
             ],
             [
              0.2222222222222222,
              "#7201a8"
             ],
             [
              0.3333333333333333,
              "#9c179e"
             ],
             [
              0.4444444444444444,
              "#bd3786"
             ],
             [
              0.5555555555555556,
              "#d8576b"
             ],
             [
              0.6666666666666666,
              "#ed7953"
             ],
             [
              0.7777777777777778,
              "#fb9f3a"
             ],
             [
              0.8888888888888888,
              "#fdca26"
             ],
             [
              1,
              "#f0f921"
             ]
            ],
            "type": "histogram2d"
           }
          ],
          "histogram2dcontour": [
           {
            "colorbar": {
             "outlinewidth": 0,
             "ticks": ""
            },
            "colorscale": [
             [
              0,
              "#0d0887"
             ],
             [
              0.1111111111111111,
              "#46039f"
             ],
             [
              0.2222222222222222,
              "#7201a8"
             ],
             [
              0.3333333333333333,
              "#9c179e"
             ],
             [
              0.4444444444444444,
              "#bd3786"
             ],
             [
              0.5555555555555556,
              "#d8576b"
             ],
             [
              0.6666666666666666,
              "#ed7953"
             ],
             [
              0.7777777777777778,
              "#fb9f3a"
             ],
             [
              0.8888888888888888,
              "#fdca26"
             ],
             [
              1,
              "#f0f921"
             ]
            ],
            "type": "histogram2dcontour"
           }
          ],
          "mesh3d": [
           {
            "colorbar": {
             "outlinewidth": 0,
             "ticks": ""
            },
            "type": "mesh3d"
           }
          ],
          "parcoords": [
           {
            "line": {
             "colorbar": {
              "outlinewidth": 0,
              "ticks": ""
             }
            },
            "type": "parcoords"
           }
          ],
          "pie": [
           {
            "automargin": true,
            "type": "pie"
           }
          ],
          "scatter": [
           {
            "fillpattern": {
             "fillmode": "overlay",
             "size": 10,
             "solidity": 0.2
            },
            "type": "scatter"
           }
          ],
          "scatter3d": [
           {
            "line": {
             "colorbar": {
              "outlinewidth": 0,
              "ticks": ""
             }
            },
            "marker": {
             "colorbar": {
              "outlinewidth": 0,
              "ticks": ""
             }
            },
            "type": "scatter3d"
           }
          ],
          "scattercarpet": [
           {
            "marker": {
             "colorbar": {
              "outlinewidth": 0,
              "ticks": ""
             }
            },
            "type": "scattercarpet"
           }
          ],
          "scattergeo": [
           {
            "marker": {
             "colorbar": {
              "outlinewidth": 0,
              "ticks": ""
             }
            },
            "type": "scattergeo"
           }
          ],
          "scattergl": [
           {
            "marker": {
             "colorbar": {
              "outlinewidth": 0,
              "ticks": ""
             }
            },
            "type": "scattergl"
           }
          ],
          "scattermapbox": [
           {
            "marker": {
             "colorbar": {
              "outlinewidth": 0,
              "ticks": ""
             }
            },
            "type": "scattermapbox"
           }
          ],
          "scatterpolar": [
           {
            "marker": {
             "colorbar": {
              "outlinewidth": 0,
              "ticks": ""
             }
            },
            "type": "scatterpolar"
           }
          ],
          "scatterpolargl": [
           {
            "marker": {
             "colorbar": {
              "outlinewidth": 0,
              "ticks": ""
             }
            },
            "type": "scatterpolargl"
           }
          ],
          "scatterternary": [
           {
            "marker": {
             "colorbar": {
              "outlinewidth": 0,
              "ticks": ""
             }
            },
            "type": "scatterternary"
           }
          ],
          "surface": [
           {
            "colorbar": {
             "outlinewidth": 0,
             "ticks": ""
            },
            "colorscale": [
             [
              0,
              "#0d0887"
             ],
             [
              0.1111111111111111,
              "#46039f"
             ],
             [
              0.2222222222222222,
              "#7201a8"
             ],
             [
              0.3333333333333333,
              "#9c179e"
             ],
             [
              0.4444444444444444,
              "#bd3786"
             ],
             [
              0.5555555555555556,
              "#d8576b"
             ],
             [
              0.6666666666666666,
              "#ed7953"
             ],
             [
              0.7777777777777778,
              "#fb9f3a"
             ],
             [
              0.8888888888888888,
              "#fdca26"
             ],
             [
              1,
              "#f0f921"
             ]
            ],
            "type": "surface"
           }
          ],
          "table": [
           {
            "cells": {
             "fill": {
              "color": "#EBF0F8"
             },
             "line": {
              "color": "white"
             }
            },
            "header": {
             "fill": {
              "color": "#C8D4E3"
             },
             "line": {
              "color": "white"
             }
            },
            "type": "table"
           }
          ]
         },
         "layout": {
          "annotationdefaults": {
           "arrowcolor": "#2a3f5f",
           "arrowhead": 0,
           "arrowwidth": 1
          },
          "autotypenumbers": "strict",
          "coloraxis": {
           "colorbar": {
            "outlinewidth": 0,
            "ticks": ""
           }
          },
          "colorscale": {
           "diverging": [
            [
             0,
             "#8e0152"
            ],
            [
             0.1,
             "#c51b7d"
            ],
            [
             0.2,
             "#de77ae"
            ],
            [
             0.3,
             "#f1b6da"
            ],
            [
             0.4,
             "#fde0ef"
            ],
            [
             0.5,
             "#f7f7f7"
            ],
            [
             0.6,
             "#e6f5d0"
            ],
            [
             0.7,
             "#b8e186"
            ],
            [
             0.8,
             "#7fbc41"
            ],
            [
             0.9,
             "#4d9221"
            ],
            [
             1,
             "#276419"
            ]
           ],
           "sequential": [
            [
             0,
             "#0d0887"
            ],
            [
             0.1111111111111111,
             "#46039f"
            ],
            [
             0.2222222222222222,
             "#7201a8"
            ],
            [
             0.3333333333333333,
             "#9c179e"
            ],
            [
             0.4444444444444444,
             "#bd3786"
            ],
            [
             0.5555555555555556,
             "#d8576b"
            ],
            [
             0.6666666666666666,
             "#ed7953"
            ],
            [
             0.7777777777777778,
             "#fb9f3a"
            ],
            [
             0.8888888888888888,
             "#fdca26"
            ],
            [
             1,
             "#f0f921"
            ]
           ],
           "sequentialminus": [
            [
             0,
             "#0d0887"
            ],
            [
             0.1111111111111111,
             "#46039f"
            ],
            [
             0.2222222222222222,
             "#7201a8"
            ],
            [
             0.3333333333333333,
             "#9c179e"
            ],
            [
             0.4444444444444444,
             "#bd3786"
            ],
            [
             0.5555555555555556,
             "#d8576b"
            ],
            [
             0.6666666666666666,
             "#ed7953"
            ],
            [
             0.7777777777777778,
             "#fb9f3a"
            ],
            [
             0.8888888888888888,
             "#fdca26"
            ],
            [
             1,
             "#f0f921"
            ]
           ]
          },
          "colorway": [
           "#636efa",
           "#EF553B",
           "#00cc96",
           "#ab63fa",
           "#FFA15A",
           "#19d3f3",
           "#FF6692",
           "#B6E880",
           "#FF97FF",
           "#FECB52"
          ],
          "font": {
           "color": "#2a3f5f"
          },
          "geo": {
           "bgcolor": "white",
           "lakecolor": "white",
           "landcolor": "#E5ECF6",
           "showlakes": true,
           "showland": true,
           "subunitcolor": "white"
          },
          "hoverlabel": {
           "align": "left"
          },
          "hovermode": "closest",
          "mapbox": {
           "style": "light"
          },
          "paper_bgcolor": "white",
          "plot_bgcolor": "#E5ECF6",
          "polar": {
           "angularaxis": {
            "gridcolor": "white",
            "linecolor": "white",
            "ticks": ""
           },
           "bgcolor": "#E5ECF6",
           "radialaxis": {
            "gridcolor": "white",
            "linecolor": "white",
            "ticks": ""
           }
          },
          "scene": {
           "xaxis": {
            "backgroundcolor": "#E5ECF6",
            "gridcolor": "white",
            "gridwidth": 2,
            "linecolor": "white",
            "showbackground": true,
            "ticks": "",
            "zerolinecolor": "white"
           },
           "yaxis": {
            "backgroundcolor": "#E5ECF6",
            "gridcolor": "white",
            "gridwidth": 2,
            "linecolor": "white",
            "showbackground": true,
            "ticks": "",
            "zerolinecolor": "white"
           },
           "zaxis": {
            "backgroundcolor": "#E5ECF6",
            "gridcolor": "white",
            "gridwidth": 2,
            "linecolor": "white",
            "showbackground": true,
            "ticks": "",
            "zerolinecolor": "white"
           }
          },
          "shapedefaults": {
           "line": {
            "color": "#2a3f5f"
           }
          },
          "ternary": {
           "aaxis": {
            "gridcolor": "white",
            "linecolor": "white",
            "ticks": ""
           },
           "baxis": {
            "gridcolor": "white",
            "linecolor": "white",
            "ticks": ""
           },
           "bgcolor": "#E5ECF6",
           "caxis": {
            "gridcolor": "white",
            "linecolor": "white",
            "ticks": ""
           }
          },
          "title": {
           "x": 0.05
          },
          "xaxis": {
           "automargin": true,
           "gridcolor": "white",
           "linecolor": "white",
           "ticks": "",
           "title": {
            "standoff": 15
           },
           "zerolinecolor": "white",
           "zerolinewidth": 2
          },
          "yaxis": {
           "automargin": true,
           "gridcolor": "white",
           "linecolor": "white",
           "ticks": "",
           "title": {
            "standoff": 15
           },
           "zerolinecolor": "white",
           "zerolinewidth": 2
          }
         }
        },
        "title": {
         "text": "Distribution of Pokemon Types (Type 3)"
        }
       }
      }
     },
     "metadata": {},
     "output_type": "display_data"
    }
   ],
   "source": [
    "# Count the occurrences of each unique value in the 'Type_1' column\n",
    "type_counts = df2['Type_3'].value_counts()\n",
    "\n",
    "# Create a pie chart using Plotly\n",
    "fig = px.pie(names=type_counts.index, values=type_counts.values, title='Distribution of Pokemon Types (Type 3)')\n",
    "fig.show()"
   ]
  },
  {
   "cell_type": "code",
   "execution_count": 60,
   "id": "ab6029db",
   "metadata": {},
   "outputs": [
    {
     "data": {
      "application/vnd.plotly.v1+json": {
       "config": {
        "plotlyServerURL": "https://plot.ly"
       },
       "data": [
        {
         "domain": {
          "x": [
           0,
           1
          ],
          "y": [
           0,
           1
          ]
         },
         "hovertemplate": "label=%{label}<br>value=%{value}<extra></extra>",
         "labels": [
          " establishment",
          " food",
          " point_of_interest",
          " store",
          " restaurant",
          " grocery_or_supermarket",
          " night_club"
         ],
         "legendgroup": "",
         "name": "",
         "showlegend": true,
         "type": "pie",
         "values": [
          1296,
          194,
          162,
          16,
          5,
          4,
          3
         ]
        }
       ],
       "layout": {
        "legend": {
         "tracegroupgap": 0
        },
        "template": {
         "data": {
          "bar": [
           {
            "error_x": {
             "color": "#2a3f5f"
            },
            "error_y": {
             "color": "#2a3f5f"
            },
            "marker": {
             "line": {
              "color": "#E5ECF6",
              "width": 0.5
             },
             "pattern": {
              "fillmode": "overlay",
              "size": 10,
              "solidity": 0.2
             }
            },
            "type": "bar"
           }
          ],
          "barpolar": [
           {
            "marker": {
             "line": {
              "color": "#E5ECF6",
              "width": 0.5
             },
             "pattern": {
              "fillmode": "overlay",
              "size": 10,
              "solidity": 0.2
             }
            },
            "type": "barpolar"
           }
          ],
          "carpet": [
           {
            "aaxis": {
             "endlinecolor": "#2a3f5f",
             "gridcolor": "white",
             "linecolor": "white",
             "minorgridcolor": "white",
             "startlinecolor": "#2a3f5f"
            },
            "baxis": {
             "endlinecolor": "#2a3f5f",
             "gridcolor": "white",
             "linecolor": "white",
             "minorgridcolor": "white",
             "startlinecolor": "#2a3f5f"
            },
            "type": "carpet"
           }
          ],
          "choropleth": [
           {
            "colorbar": {
             "outlinewidth": 0,
             "ticks": ""
            },
            "type": "choropleth"
           }
          ],
          "contour": [
           {
            "colorbar": {
             "outlinewidth": 0,
             "ticks": ""
            },
            "colorscale": [
             [
              0,
              "#0d0887"
             ],
             [
              0.1111111111111111,
              "#46039f"
             ],
             [
              0.2222222222222222,
              "#7201a8"
             ],
             [
              0.3333333333333333,
              "#9c179e"
             ],
             [
              0.4444444444444444,
              "#bd3786"
             ],
             [
              0.5555555555555556,
              "#d8576b"
             ],
             [
              0.6666666666666666,
              "#ed7953"
             ],
             [
              0.7777777777777778,
              "#fb9f3a"
             ],
             [
              0.8888888888888888,
              "#fdca26"
             ],
             [
              1,
              "#f0f921"
             ]
            ],
            "type": "contour"
           }
          ],
          "contourcarpet": [
           {
            "colorbar": {
             "outlinewidth": 0,
             "ticks": ""
            },
            "type": "contourcarpet"
           }
          ],
          "heatmap": [
           {
            "colorbar": {
             "outlinewidth": 0,
             "ticks": ""
            },
            "colorscale": [
             [
              0,
              "#0d0887"
             ],
             [
              0.1111111111111111,
              "#46039f"
             ],
             [
              0.2222222222222222,
              "#7201a8"
             ],
             [
              0.3333333333333333,
              "#9c179e"
             ],
             [
              0.4444444444444444,
              "#bd3786"
             ],
             [
              0.5555555555555556,
              "#d8576b"
             ],
             [
              0.6666666666666666,
              "#ed7953"
             ],
             [
              0.7777777777777778,
              "#fb9f3a"
             ],
             [
              0.8888888888888888,
              "#fdca26"
             ],
             [
              1,
              "#f0f921"
             ]
            ],
            "type": "heatmap"
           }
          ],
          "heatmapgl": [
           {
            "colorbar": {
             "outlinewidth": 0,
             "ticks": ""
            },
            "colorscale": [
             [
              0,
              "#0d0887"
             ],
             [
              0.1111111111111111,
              "#46039f"
             ],
             [
              0.2222222222222222,
              "#7201a8"
             ],
             [
              0.3333333333333333,
              "#9c179e"
             ],
             [
              0.4444444444444444,
              "#bd3786"
             ],
             [
              0.5555555555555556,
              "#d8576b"
             ],
             [
              0.6666666666666666,
              "#ed7953"
             ],
             [
              0.7777777777777778,
              "#fb9f3a"
             ],
             [
              0.8888888888888888,
              "#fdca26"
             ],
             [
              1,
              "#f0f921"
             ]
            ],
            "type": "heatmapgl"
           }
          ],
          "histogram": [
           {
            "marker": {
             "pattern": {
              "fillmode": "overlay",
              "size": 10,
              "solidity": 0.2
             }
            },
            "type": "histogram"
           }
          ],
          "histogram2d": [
           {
            "colorbar": {
             "outlinewidth": 0,
             "ticks": ""
            },
            "colorscale": [
             [
              0,
              "#0d0887"
             ],
             [
              0.1111111111111111,
              "#46039f"
             ],
             [
              0.2222222222222222,
              "#7201a8"
             ],
             [
              0.3333333333333333,
              "#9c179e"
             ],
             [
              0.4444444444444444,
              "#bd3786"
             ],
             [
              0.5555555555555556,
              "#d8576b"
             ],
             [
              0.6666666666666666,
              "#ed7953"
             ],
             [
              0.7777777777777778,
              "#fb9f3a"
             ],
             [
              0.8888888888888888,
              "#fdca26"
             ],
             [
              1,
              "#f0f921"
             ]
            ],
            "type": "histogram2d"
           }
          ],
          "histogram2dcontour": [
           {
            "colorbar": {
             "outlinewidth": 0,
             "ticks": ""
            },
            "colorscale": [
             [
              0,
              "#0d0887"
             ],
             [
              0.1111111111111111,
              "#46039f"
             ],
             [
              0.2222222222222222,
              "#7201a8"
             ],
             [
              0.3333333333333333,
              "#9c179e"
             ],
             [
              0.4444444444444444,
              "#bd3786"
             ],
             [
              0.5555555555555556,
              "#d8576b"
             ],
             [
              0.6666666666666666,
              "#ed7953"
             ],
             [
              0.7777777777777778,
              "#fb9f3a"
             ],
             [
              0.8888888888888888,
              "#fdca26"
             ],
             [
              1,
              "#f0f921"
             ]
            ],
            "type": "histogram2dcontour"
           }
          ],
          "mesh3d": [
           {
            "colorbar": {
             "outlinewidth": 0,
             "ticks": ""
            },
            "type": "mesh3d"
           }
          ],
          "parcoords": [
           {
            "line": {
             "colorbar": {
              "outlinewidth": 0,
              "ticks": ""
             }
            },
            "type": "parcoords"
           }
          ],
          "pie": [
           {
            "automargin": true,
            "type": "pie"
           }
          ],
          "scatter": [
           {
            "fillpattern": {
             "fillmode": "overlay",
             "size": 10,
             "solidity": 0.2
            },
            "type": "scatter"
           }
          ],
          "scatter3d": [
           {
            "line": {
             "colorbar": {
              "outlinewidth": 0,
              "ticks": ""
             }
            },
            "marker": {
             "colorbar": {
              "outlinewidth": 0,
              "ticks": ""
             }
            },
            "type": "scatter3d"
           }
          ],
          "scattercarpet": [
           {
            "marker": {
             "colorbar": {
              "outlinewidth": 0,
              "ticks": ""
             }
            },
            "type": "scattercarpet"
           }
          ],
          "scattergeo": [
           {
            "marker": {
             "colorbar": {
              "outlinewidth": 0,
              "ticks": ""
             }
            },
            "type": "scattergeo"
           }
          ],
          "scattergl": [
           {
            "marker": {
             "colorbar": {
              "outlinewidth": 0,
              "ticks": ""
             }
            },
            "type": "scattergl"
           }
          ],
          "scattermapbox": [
           {
            "marker": {
             "colorbar": {
              "outlinewidth": 0,
              "ticks": ""
             }
            },
            "type": "scattermapbox"
           }
          ],
          "scatterpolar": [
           {
            "marker": {
             "colorbar": {
              "outlinewidth": 0,
              "ticks": ""
             }
            },
            "type": "scatterpolar"
           }
          ],
          "scatterpolargl": [
           {
            "marker": {
             "colorbar": {
              "outlinewidth": 0,
              "ticks": ""
             }
            },
            "type": "scatterpolargl"
           }
          ],
          "scatterternary": [
           {
            "marker": {
             "colorbar": {
              "outlinewidth": 0,
              "ticks": ""
             }
            },
            "type": "scatterternary"
           }
          ],
          "surface": [
           {
            "colorbar": {
             "outlinewidth": 0,
             "ticks": ""
            },
            "colorscale": [
             [
              0,
              "#0d0887"
             ],
             [
              0.1111111111111111,
              "#46039f"
             ],
             [
              0.2222222222222222,
              "#7201a8"
             ],
             [
              0.3333333333333333,
              "#9c179e"
             ],
             [
              0.4444444444444444,
              "#bd3786"
             ],
             [
              0.5555555555555556,
              "#d8576b"
             ],
             [
              0.6666666666666666,
              "#ed7953"
             ],
             [
              0.7777777777777778,
              "#fb9f3a"
             ],
             [
              0.8888888888888888,
              "#fdca26"
             ],
             [
              1,
              "#f0f921"
             ]
            ],
            "type": "surface"
           }
          ],
          "table": [
           {
            "cells": {
             "fill": {
              "color": "#EBF0F8"
             },
             "line": {
              "color": "white"
             }
            },
            "header": {
             "fill": {
              "color": "#C8D4E3"
             },
             "line": {
              "color": "white"
             }
            },
            "type": "table"
           }
          ]
         },
         "layout": {
          "annotationdefaults": {
           "arrowcolor": "#2a3f5f",
           "arrowhead": 0,
           "arrowwidth": 1
          },
          "autotypenumbers": "strict",
          "coloraxis": {
           "colorbar": {
            "outlinewidth": 0,
            "ticks": ""
           }
          },
          "colorscale": {
           "diverging": [
            [
             0,
             "#8e0152"
            ],
            [
             0.1,
             "#c51b7d"
            ],
            [
             0.2,
             "#de77ae"
            ],
            [
             0.3,
             "#f1b6da"
            ],
            [
             0.4,
             "#fde0ef"
            ],
            [
             0.5,
             "#f7f7f7"
            ],
            [
             0.6,
             "#e6f5d0"
            ],
            [
             0.7,
             "#b8e186"
            ],
            [
             0.8,
             "#7fbc41"
            ],
            [
             0.9,
             "#4d9221"
            ],
            [
             1,
             "#276419"
            ]
           ],
           "sequential": [
            [
             0,
             "#0d0887"
            ],
            [
             0.1111111111111111,
             "#46039f"
            ],
            [
             0.2222222222222222,
             "#7201a8"
            ],
            [
             0.3333333333333333,
             "#9c179e"
            ],
            [
             0.4444444444444444,
             "#bd3786"
            ],
            [
             0.5555555555555556,
             "#d8576b"
            ],
            [
             0.6666666666666666,
             "#ed7953"
            ],
            [
             0.7777777777777778,
             "#fb9f3a"
            ],
            [
             0.8888888888888888,
             "#fdca26"
            ],
            [
             1,
             "#f0f921"
            ]
           ],
           "sequentialminus": [
            [
             0,
             "#0d0887"
            ],
            [
             0.1111111111111111,
             "#46039f"
            ],
            [
             0.2222222222222222,
             "#7201a8"
            ],
            [
             0.3333333333333333,
             "#9c179e"
            ],
            [
             0.4444444444444444,
             "#bd3786"
            ],
            [
             0.5555555555555556,
             "#d8576b"
            ],
            [
             0.6666666666666666,
             "#ed7953"
            ],
            [
             0.7777777777777778,
             "#fb9f3a"
            ],
            [
             0.8888888888888888,
             "#fdca26"
            ],
            [
             1,
             "#f0f921"
            ]
           ]
          },
          "colorway": [
           "#636efa",
           "#EF553B",
           "#00cc96",
           "#ab63fa",
           "#FFA15A",
           "#19d3f3",
           "#FF6692",
           "#B6E880",
           "#FF97FF",
           "#FECB52"
          ],
          "font": {
           "color": "#2a3f5f"
          },
          "geo": {
           "bgcolor": "white",
           "lakecolor": "white",
           "landcolor": "#E5ECF6",
           "showlakes": true,
           "showland": true,
           "subunitcolor": "white"
          },
          "hoverlabel": {
           "align": "left"
          },
          "hovermode": "closest",
          "mapbox": {
           "style": "light"
          },
          "paper_bgcolor": "white",
          "plot_bgcolor": "#E5ECF6",
          "polar": {
           "angularaxis": {
            "gridcolor": "white",
            "linecolor": "white",
            "ticks": ""
           },
           "bgcolor": "#E5ECF6",
           "radialaxis": {
            "gridcolor": "white",
            "linecolor": "white",
            "ticks": ""
           }
          },
          "scene": {
           "xaxis": {
            "backgroundcolor": "#E5ECF6",
            "gridcolor": "white",
            "gridwidth": 2,
            "linecolor": "white",
            "showbackground": true,
            "ticks": "",
            "zerolinecolor": "white"
           },
           "yaxis": {
            "backgroundcolor": "#E5ECF6",
            "gridcolor": "white",
            "gridwidth": 2,
            "linecolor": "white",
            "showbackground": true,
            "ticks": "",
            "zerolinecolor": "white"
           },
           "zaxis": {
            "backgroundcolor": "#E5ECF6",
            "gridcolor": "white",
            "gridwidth": 2,
            "linecolor": "white",
            "showbackground": true,
            "ticks": "",
            "zerolinecolor": "white"
           }
          },
          "shapedefaults": {
           "line": {
            "color": "#2a3f5f"
           }
          },
          "ternary": {
           "aaxis": {
            "gridcolor": "white",
            "linecolor": "white",
            "ticks": ""
           },
           "baxis": {
            "gridcolor": "white",
            "linecolor": "white",
            "ticks": ""
           },
           "bgcolor": "#E5ECF6",
           "caxis": {
            "gridcolor": "white",
            "linecolor": "white",
            "ticks": ""
           }
          },
          "title": {
           "x": 0.05
          },
          "xaxis": {
           "automargin": true,
           "gridcolor": "white",
           "linecolor": "white",
           "ticks": "",
           "title": {
            "standoff": 15
           },
           "zerolinecolor": "white",
           "zerolinewidth": 2
          },
          "yaxis": {
           "automargin": true,
           "gridcolor": "white",
           "linecolor": "white",
           "ticks": "",
           "title": {
            "standoff": 15
           },
           "zerolinecolor": "white",
           "zerolinewidth": 2
          }
         }
        },
        "title": {
         "text": "Distribution of Types (Type 3)"
        }
       }
      }
     },
     "metadata": {},
     "output_type": "display_data"
    }
   ],
   "source": [
    "# Count the occurrences of each unique value in the 'Type_1' column\n",
    "type_counts = df2['Type_4'].value_counts()\n",
    "\n",
    "# Create a pie chart using Plotly\n",
    "fig = px.pie(names=type_counts.index, values=type_counts.values, title='Distribution of Types (Type 3)')\n",
    "fig.show()"
   ]
  },
  {
   "cell_type": "code",
   "execution_count": 55,
   "id": "df7d4feb",
   "metadata": {},
   "outputs": [
    {
     "data": {
      "text/html": [
       "<div>\n",
       "<style scoped>\n",
       "    .dataframe tbody tr th:only-of-type {\n",
       "        vertical-align: middle;\n",
       "    }\n",
       "\n",
       "    .dataframe tbody tr th {\n",
       "        vertical-align: top;\n",
       "    }\n",
       "\n",
       "    .dataframe thead th {\n",
       "        text-align: right;\n",
       "    }\n",
       "</style>\n",
       "<table border=\"1\" class=\"dataframe\">\n",
       "  <thead>\n",
       "    <tr style=\"text-align: right;\">\n",
       "      <th></th>\n",
       "      <th>Name</th>\n",
       "      <th>Rating</th>\n",
       "      <th>Number of Ratings</th>\n",
       "      <th>Longitude</th>\n",
       "      <th>Latitude</th>\n",
       "      <th>Types</th>\n",
       "      <th>neighborhood</th>\n",
       "      <th>Type_1</th>\n",
       "      <th>Type_2</th>\n",
       "      <th>Type_3</th>\n",
       "      <th>Type_4</th>\n",
       "    </tr>\n",
       "  </thead>\n",
       "  <tbody>\n",
       "    <tr>\n",
       "      <th>0</th>\n",
       "      <td>فندق ميرا</td>\n",
       "      <td>3.7</td>\n",
       "      <td>1336.0</td>\n",
       "      <td>46.693985</td>\n",
       "      <td>24.701278</td>\n",
       "      <td>['lodging', 'restaurant', 'food', 'point_of_in...</td>\n",
       "      <td>حي الملز</td>\n",
       "      <td>lodging</td>\n",
       "      <td>restaurant</td>\n",
       "      <td>food</td>\n",
       "      <td>point_of_interest</td>\n",
       "    </tr>\n",
       "    <tr>\n",
       "      <th>1</th>\n",
       "      <td>مركز ماي كار لصيانة السيارات الاوروبية</td>\n",
       "      <td>3.5</td>\n",
       "      <td>2755.0</td>\n",
       "      <td>46.576437</td>\n",
       "      <td>24.851751</td>\n",
       "      <td>['restaurant', 'food', 'point_of_interest', 'e...</td>\n",
       "      <td>حي الملز</td>\n",
       "      <td>restaurant</td>\n",
       "      <td>food</td>\n",
       "      <td>point_of_interest</td>\n",
       "      <td>establishment</td>\n",
       "    </tr>\n",
       "    <tr>\n",
       "      <th>2</th>\n",
       "      <td>Luthan Hotel and Spa</td>\n",
       "      <td>4.0</td>\n",
       "      <td>423.0</td>\n",
       "      <td>46.641709</td>\n",
       "      <td>24.706649</td>\n",
       "      <td>['spa', 'lodging', 'restaurant', 'food', 'poin...</td>\n",
       "      <td>حي الملز</td>\n",
       "      <td>spa</td>\n",
       "      <td>lodging</td>\n",
       "      <td>restaurant</td>\n",
       "      <td>food</td>\n",
       "    </tr>\n",
       "    <tr>\n",
       "      <th>3</th>\n",
       "      <td>Dining Hall</td>\n",
       "      <td>3.0</td>\n",
       "      <td>27.0</td>\n",
       "      <td>46.619655</td>\n",
       "      <td>24.720989</td>\n",
       "      <td>['restaurant', 'point_of_interest', 'food', 'e...</td>\n",
       "      <td>حي الملز</td>\n",
       "      <td>restaurant</td>\n",
       "      <td>point_of_interest</td>\n",
       "      <td>food</td>\n",
       "      <td>establishment</td>\n",
       "    </tr>\n",
       "    <tr>\n",
       "      <th>4</th>\n",
       "      <td>Sushi Yoshi</td>\n",
       "      <td>4.0</td>\n",
       "      <td>1721.0</td>\n",
       "      <td>46.706125</td>\n",
       "      <td>24.704821</td>\n",
       "      <td>['restaurant', 'point_of_interest', 'food', 'e...</td>\n",
       "      <td>حي الملز</td>\n",
       "      <td>restaurant</td>\n",
       "      <td>point_of_interest</td>\n",
       "      <td>food</td>\n",
       "      <td>establishment</td>\n",
       "    </tr>\n",
       "    <tr>\n",
       "      <th>...</th>\n",
       "      <td>...</td>\n",
       "      <td>...</td>\n",
       "      <td>...</td>\n",
       "      <td>...</td>\n",
       "      <td>...</td>\n",
       "      <td>...</td>\n",
       "      <td>...</td>\n",
       "      <td>...</td>\n",
       "      <td>...</td>\n",
       "      <td>...</td>\n",
       "      <td>...</td>\n",
       "    </tr>\n",
       "    <tr>\n",
       "      <th>1795</th>\n",
       "      <td>Al Romansiah</td>\n",
       "      <td>4.2</td>\n",
       "      <td>9460.0</td>\n",
       "      <td>46.792399</td>\n",
       "      <td>24.695811</td>\n",
       "      <td>['restaurant', 'point_of_interest', 'food', 'e...</td>\n",
       "      <td>حي الحمراء</td>\n",
       "      <td>restaurant</td>\n",
       "      <td>point_of_interest</td>\n",
       "      <td>food</td>\n",
       "      <td>establishment</td>\n",
       "    </tr>\n",
       "    <tr>\n",
       "      <th>1796</th>\n",
       "      <td>Herfy</td>\n",
       "      <td>3.8</td>\n",
       "      <td>1081.0</td>\n",
       "      <td>46.797511</td>\n",
       "      <td>24.780961</td>\n",
       "      <td>['restaurant', 'point_of_interest', 'food', 'e...</td>\n",
       "      <td>حي الحمراء</td>\n",
       "      <td>restaurant</td>\n",
       "      <td>point_of_interest</td>\n",
       "      <td>food</td>\n",
       "      <td>establishment</td>\n",
       "    </tr>\n",
       "    <tr>\n",
       "      <th>1797</th>\n",
       "      <td>KFC</td>\n",
       "      <td>3.5</td>\n",
       "      <td>1825.0</td>\n",
       "      <td>46.764410</td>\n",
       "      <td>24.732753</td>\n",
       "      <td>['restaurant', 'food', 'point_of_interest', 'e...</td>\n",
       "      <td>حي الحمراء</td>\n",
       "      <td>restaurant</td>\n",
       "      <td>food</td>\n",
       "      <td>point_of_interest</td>\n",
       "      <td>establishment</td>\n",
       "    </tr>\n",
       "    <tr>\n",
       "      <th>1798</th>\n",
       "      <td>Burger King - Rawdah</td>\n",
       "      <td>3.7</td>\n",
       "      <td>1370.0</td>\n",
       "      <td>46.762265</td>\n",
       "      <td>24.735643</td>\n",
       "      <td>['restaurant', 'food', 'point_of_interest', 'e...</td>\n",
       "      <td>حي الحمراء</td>\n",
       "      <td>restaurant</td>\n",
       "      <td>food</td>\n",
       "      <td>point_of_interest</td>\n",
       "      <td>establishment</td>\n",
       "    </tr>\n",
       "    <tr>\n",
       "      <th>1799</th>\n",
       "      <td>KFC</td>\n",
       "      <td>3.8</td>\n",
       "      <td>2246.0</td>\n",
       "      <td>46.664761</td>\n",
       "      <td>24.704578</td>\n",
       "      <td>['restaurant', 'food', 'point_of_interest', 'e...</td>\n",
       "      <td>حي الحمراء</td>\n",
       "      <td>restaurant</td>\n",
       "      <td>food</td>\n",
       "      <td>point_of_interest</td>\n",
       "      <td>establishment</td>\n",
       "    </tr>\n",
       "  </tbody>\n",
       "</table>\n",
       "<p>1680 rows × 11 columns</p>\n",
       "</div>"
      ],
      "text/plain": [
       "                                        Name  Rating  Number of Ratings  \\\n",
       "0                                  فندق ميرا     3.7             1336.0   \n",
       "1     مركز ماي كار لصيانة السيارات الاوروبية     3.5             2755.0   \n",
       "2                       Luthan Hotel and Spa     4.0              423.0   \n",
       "3                                Dining Hall     3.0               27.0   \n",
       "4                                Sushi Yoshi     4.0             1721.0   \n",
       "...                                      ...     ...                ...   \n",
       "1795                            Al Romansiah     4.2             9460.0   \n",
       "1796                                   Herfy     3.8             1081.0   \n",
       "1797                                     KFC     3.5             1825.0   \n",
       "1798                    Burger King - Rawdah     3.7             1370.0   \n",
       "1799                                     KFC     3.8             2246.0   \n",
       "\n",
       "      Longitude   Latitude                                              Types  \\\n",
       "0     46.693985  24.701278  ['lodging', 'restaurant', 'food', 'point_of_in...   \n",
       "1     46.576437  24.851751  ['restaurant', 'food', 'point_of_interest', 'e...   \n",
       "2     46.641709  24.706649  ['spa', 'lodging', 'restaurant', 'food', 'poin...   \n",
       "3     46.619655  24.720989  ['restaurant', 'point_of_interest', 'food', 'e...   \n",
       "4     46.706125  24.704821  ['restaurant', 'point_of_interest', 'food', 'e...   \n",
       "...         ...        ...                                                ...   \n",
       "1795  46.792399  24.695811  ['restaurant', 'point_of_interest', 'food', 'e...   \n",
       "1796  46.797511  24.780961  ['restaurant', 'point_of_interest', 'food', 'e...   \n",
       "1797  46.764410  24.732753  ['restaurant', 'food', 'point_of_interest', 'e...   \n",
       "1798  46.762265  24.735643  ['restaurant', 'food', 'point_of_interest', 'e...   \n",
       "1799  46.664761  24.704578  ['restaurant', 'food', 'point_of_interest', 'e...   \n",
       "\n",
       "     neighborhood      Type_1              Type_2              Type_3  \\\n",
       "0        حي الملز     lodging          restaurant                food   \n",
       "1        حي الملز  restaurant                food   point_of_interest   \n",
       "2        حي الملز         spa             lodging          restaurant   \n",
       "3        حي الملز  restaurant   point_of_interest                food   \n",
       "4        حي الملز  restaurant   point_of_interest                food   \n",
       "...           ...         ...                 ...                 ...   \n",
       "1795   حي الحمراء  restaurant   point_of_interest                food   \n",
       "1796   حي الحمراء  restaurant   point_of_interest                food   \n",
       "1797   حي الحمراء  restaurant                food   point_of_interest   \n",
       "1798   حي الحمراء  restaurant                food   point_of_interest   \n",
       "1799   حي الحمراء  restaurant                food   point_of_interest   \n",
       "\n",
       "                  Type_4  \n",
       "0      point_of_interest  \n",
       "1          establishment  \n",
       "2                   food  \n",
       "3          establishment  \n",
       "4          establishment  \n",
       "...                  ...  \n",
       "1795       establishment  \n",
       "1796       establishment  \n",
       "1797       establishment  \n",
       "1798       establishment  \n",
       "1799       establishment  \n",
       "\n",
       "[1680 rows x 11 columns]"
      ]
     },
     "execution_count": 55,
     "metadata": {},
     "output_type": "execute_result"
    }
   ],
   "source": [
    "df2"
   ]
  },
  {
   "cell_type": "code",
   "execution_count": 62,
   "id": "a88abe6d",
   "metadata": {},
   "outputs": [],
   "source": [
    "df2.to_csv('FINALDATA.CSV')"
   ]
  },
  {
   "cell_type": "markdown",
   "id": "d2641f0d-80f2-493b-99b7-15476379a1e2",
   "metadata": {},
   "source": [
    "#### II. Numerical Variables:\n",
    "\n",
    "we need to understand the central tendency and spread of the variable (Descriptive Analysis) using:\n",
    "   - Box plot\n",
    "   - Histogram"
   ]
  },
  {
   "cell_type": "code",
   "execution_count": null,
   "id": "5be16f08-a072-4a02-a3ee-6f9d57786fb4",
   "metadata": {},
   "outputs": [],
   "source": []
  },
  {
   "cell_type": "markdown",
   "id": "d66677d3-44ad-414f-9b39-f9c1995ad043",
   "metadata": {},
   "source": [
    "### 2. Univariate Non-Graphical analysis: \n",
    "\n",
    "- Where is the center of the data? (location) --> **Measures of central tendency**\n",
    "- How much does the data vary? (scale) --> **Measure of variability**\n",
    "- What is the shape of the data? (shape) --> **Measures of variation combined with an average (measure of center) gives a good picture of the distribution of the data.**"
   ]
  },
  {
   "cell_type": "code",
   "execution_count": null,
   "id": "f1058d84-e61e-4f5b-b66a-29931e77821b",
   "metadata": {},
   "outputs": [],
   "source": []
  },
  {
   "cell_type": "markdown",
   "id": "f09bb809-0edd-432b-bf23-abd0840b3e16",
   "metadata": {},
   "source": [
    "## 4. Bivariate/Multivariate Analysis:\n",
    "\n",
    "Here, you look at the relationships between two or more variables. This can involve looking for correlations, patterns, and trends that suggest a relationship or an association.\n",
    "\n",
    "We can perform bi-variate analysis for any combination of categorical and numerical variables. The combination can be:\n",
    "| bi-variate variables   | Plot type |\n",
    "| ------------- | ------------- |\n",
    "| Categorical & Categorical| Stacked Bar Chart |\n",
    "| Categorical & numerical  | scatter plot, histogram, box plot|\n",
    "| numerical  & numerical  | Scatter plot, line chart| \n",
    "\n",
    "\n",
    "Multivariate Analysis:\n",
    "- Heat map\n",
    "- Bar Chart\n",
    "- Scatter Chart\n",
    "- Line Chart"
   ]
  },
  {
   "cell_type": "markdown",
   "id": "838f2864-ce9e-4f15-99c8-052d053154a7",
   "metadata": {},
   "source": [
    "**Categorical & Categorical --> (Stacked Column Chart)**"
   ]
  },
  {
   "cell_type": "code",
   "execution_count": null,
   "id": "73f9f2ac-8477-49ea-9c68-4fe44d4395b6",
   "metadata": {},
   "outputs": [],
   "source": []
  },
  {
   "cell_type": "markdown",
   "id": "730e088f-fe13-40da-8fbb-686f5135fa4d",
   "metadata": {},
   "source": [
    "**Categorical & numerical --> (scatter plot, histogram, box plot)**"
   ]
  },
  {
   "cell_type": "code",
   "execution_count": null,
   "id": "3590e345-2051-4215-91ac-07d196b510ef",
   "metadata": {},
   "outputs": [],
   "source": []
  },
  {
   "cell_type": "markdown",
   "id": "20aed48d-b78e-46da-963f-e7f15e2f4dc7",
   "metadata": {},
   "source": [
    "**numerical & numerical --> (Scatter plot, line chart)**"
   ]
  },
  {
   "cell_type": "code",
   "execution_count": null,
   "id": "41023177-01cb-4f39-a750-12be71b13bda",
   "metadata": {},
   "outputs": [],
   "source": []
  },
  {
   "cell_type": "markdown",
   "id": "efb43b30-b1f0-48a4-a19c-195810cc8a0f",
   "metadata": {},
   "source": [
    "We could also use a correlation matrix to get more specific information about the relationship between these two variables."
   ]
  },
  {
   "cell_type": "code",
   "execution_count": null,
   "id": "8406f58f-b825-4a15-8f6e-c68ca66bd483",
   "metadata": {},
   "outputs": [],
   "source": []
  }
 ],
 "metadata": {
  "kernelspec": {
   "display_name": "Python 3",
   "language": "python",
   "name": "python3"
  },
  "language_info": {
   "codemirror_mode": {
    "name": "ipython",
    "version": 3
   },
   "file_extension": ".py",
   "mimetype": "text/x-python",
   "name": "python",
   "nbconvert_exporter": "python",
   "pygments_lexer": "ipython3",
   "version": "3.11.9"
  }
 },
 "nbformat": 4,
 "nbformat_minor": 5
}
