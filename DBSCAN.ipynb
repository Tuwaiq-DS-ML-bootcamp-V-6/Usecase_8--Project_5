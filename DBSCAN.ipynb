{
 "cells": [
  {
   "cell_type": "markdown",
   "metadata": {},
   "source": [
    "## Import Libraries"
   ]
  },
  {
   "cell_type": "code",
   "execution_count": 86,
   "metadata": {},
   "outputs": [],
   "source": [
    "# To ignore warnings\n",
    "import warnings\n",
    "warnings.filterwarnings(\"ignore\")\n",
    "import pandas as pd\n",
    "import numpy as np\n",
    "import matplotlib.pyplot as plt\n",
    "import plotly.express as px\n",
    "import plotly.graph_objects as go\n",
    "import seaborn as sns\n",
    "import math\n",
    "from sklearn.model_selection import train_test_split, cross_val_score\n",
    "from sklearn.preprocessing import StandardScaler\n",
    "from sklearn.cluster import KMeans\n",
    "from sklearn.preprocessing import LabelEncoder\n",
    "from sklearn.neighbors import NearestNeighbors\n",
    "from sklearn.cluster import DBSCAN\n",
    "from sklearn import metrics\n",
    "from sklearn.metrics import silhouette_score\n",
    "\n",
    "%matplotlib inline"
   ]
  },
  {
   "cell_type": "markdown",
   "metadata": {},
   "source": [
    "## Load the Data"
   ]
  },
  {
   "cell_type": "code",
   "execution_count": 87,
   "metadata": {},
   "outputs": [],
   "source": [
    "new = pd.read_csv('ML_Data.csv')"
   ]
  },
  {
   "cell_type": "code",
   "execution_count": 88,
   "metadata": {},
   "outputs": [],
   "source": [
    "new = new.drop(\"Unnamed: 0\", axis=1)"
   ]
  },
  {
   "cell_type": "code",
   "execution_count": 89,
   "metadata": {},
   "outputs": [
    {
     "data": {
      "text/plain": [
       "(1616, 13)"
      ]
     },
     "execution_count": 89,
     "metadata": {},
     "output_type": "execute_result"
    }
   ],
   "source": [
    "new.shape"
   ]
  },
  {
   "cell_type": "code",
   "execution_count": 90,
   "metadata": {
    "scrolled": true
   },
   "outputs": [
    {
     "data": {
      "text/html": [
       "<div>\n",
       "<style scoped>\n",
       "    .dataframe tbody tr th:only-of-type {\n",
       "        vertical-align: middle;\n",
       "    }\n",
       "\n",
       "    .dataframe tbody tr th {\n",
       "        vertical-align: top;\n",
       "    }\n",
       "\n",
       "    .dataframe thead th {\n",
       "        text-align: right;\n",
       "    }\n",
       "</style>\n",
       "<table border=\"1\" class=\"dataframe\">\n",
       "  <thead>\n",
       "    <tr style=\"text-align: right;\">\n",
       "      <th></th>\n",
       "      <th>Name</th>\n",
       "      <th>Rating</th>\n",
       "      <th>Number of Ratings</th>\n",
       "      <th>Longitude</th>\n",
       "      <th>Latitude</th>\n",
       "      <th>neighborhood</th>\n",
       "      <th>restaurant</th>\n",
       "      <th>meal_takeaway</th>\n",
       "      <th>meal_delivery</th>\n",
       "      <th>cafe</th>\n",
       "      <th>food</th>\n",
       "      <th>bakery</th>\n",
       "      <th>Weighted Rating</th>\n",
       "    </tr>\n",
       "  </thead>\n",
       "  <tbody>\n",
       "    <tr>\n",
       "      <th>0</th>\n",
       "      <td>فندق ميرا</td>\n",
       "      <td>3.7</td>\n",
       "      <td>1336.0</td>\n",
       "      <td>46.693985</td>\n",
       "      <td>24.701278</td>\n",
       "      <td>حي الملز</td>\n",
       "      <td>1</td>\n",
       "      <td>0</td>\n",
       "      <td>0</td>\n",
       "      <td>0</td>\n",
       "      <td>1</td>\n",
       "      <td>0</td>\n",
       "      <td>4943.2</td>\n",
       "    </tr>\n",
       "    <tr>\n",
       "      <th>1</th>\n",
       "      <td>مركز ماي كار لصيانة السيارات الاوروبية</td>\n",
       "      <td>3.5</td>\n",
       "      <td>2755.0</td>\n",
       "      <td>46.576437</td>\n",
       "      <td>24.851751</td>\n",
       "      <td>حي الملز</td>\n",
       "      <td>1</td>\n",
       "      <td>0</td>\n",
       "      <td>0</td>\n",
       "      <td>0</td>\n",
       "      <td>1</td>\n",
       "      <td>0</td>\n",
       "      <td>9642.5</td>\n",
       "    </tr>\n",
       "  </tbody>\n",
       "</table>\n",
       "</div>"
      ],
      "text/plain": [
       "                                     Name  Rating  Number of Ratings  \\\n",
       "0                               فندق ميرا     3.7             1336.0   \n",
       "1  مركز ماي كار لصيانة السيارات الاوروبية     3.5             2755.0   \n",
       "\n",
       "   Longitude   Latitude neighborhood  restaurant  meal_takeaway  \\\n",
       "0  46.693985  24.701278     حي الملز           1              0   \n",
       "1  46.576437  24.851751     حي الملز           1              0   \n",
       "\n",
       "   meal_delivery  cafe  food  bakery  Weighted Rating  \n",
       "0              0     0     1       0           4943.2  \n",
       "1              0     0     1       0           9642.5  "
      ]
     },
     "execution_count": 90,
     "metadata": {},
     "output_type": "execute_result"
    }
   ],
   "source": [
    "new.head(2)"
   ]
  },
  {
   "cell_type": "markdown",
   "metadata": {},
   "source": [
    "## Preprocess the Data"
   ]
  },
  {
   "cell_type": "markdown",
   "metadata": {},
   "source": [
    "#### 1. Simple EDA + Data Quality checking"
   ]
  },
  {
   "cell_type": "code",
   "execution_count": 91,
   "metadata": {},
   "outputs": [],
   "source": [
    "# uniqeness\n",
    "#new.duplicated().sum()"
   ]
  },
  {
   "cell_type": "code",
   "execution_count": 92,
   "metadata": {},
   "outputs": [],
   "source": [
    "#new[new.duplicated()]"
   ]
  },
  {
   "cell_type": "code",
   "execution_count": 93,
   "metadata": {},
   "outputs": [
    {
     "data": {
      "text/plain": [
       "Name                 0\n",
       "Rating               0\n",
       "Number of Ratings    0\n",
       "Longitude            0\n",
       "Latitude             0\n",
       "neighborhood         0\n",
       "restaurant           0\n",
       "meal_takeaway        0\n",
       "meal_delivery        0\n",
       "cafe                 0\n",
       "food                 0\n",
       "bakery               0\n",
       "Weighted Rating      0\n",
       "dtype: int64"
      ]
     },
     "execution_count": 93,
     "metadata": {},
     "output_type": "execute_result"
    }
   ],
   "source": [
    "# Completeness\n",
    "new.isnull().sum()"
   ]
  },
  {
   "cell_type": "code",
   "execution_count": 94,
   "metadata": {},
   "outputs": [
    {
     "data": {
      "text/plain": [
       "Name                  object\n",
       "Rating               float64\n",
       "Number of Ratings    float64\n",
       "Longitude            float64\n",
       "Latitude             float64\n",
       "neighborhood          object\n",
       "restaurant             int64\n",
       "meal_takeaway          int64\n",
       "meal_delivery          int64\n",
       "cafe                   int64\n",
       "food                   int64\n",
       "bakery                 int64\n",
       "Weighted Rating      float64\n",
       "dtype: object"
      ]
     },
     "execution_count": 94,
     "metadata": {},
     "output_type": "execute_result"
    }
   ],
   "source": [
    "# Accurecy types\n",
    "new.dtypes"
   ]
  },
  {
   "cell_type": "code",
   "execution_count": 95,
   "metadata": {},
   "outputs": [
    {
     "data": {
      "text/plain": [
       "['Name',\n",
       " 'Rating',\n",
       " 'Number of Ratings',\n",
       " 'Longitude',\n",
       " 'Latitude',\n",
       " 'neighborhood',\n",
       " 'restaurant',\n",
       " 'meal_takeaway',\n",
       " 'meal_delivery',\n",
       " 'cafe',\n",
       " 'food',\n",
       " 'bakery',\n",
       " 'Weighted Rating']"
      ]
     },
     "execution_count": 95,
     "metadata": {},
     "output_type": "execute_result"
    }
   ],
   "source": [
    "new.columns.to_list()"
   ]
  },
  {
   "cell_type": "code",
   "execution_count": 96,
   "metadata": {},
   "outputs": [],
   "source": [
    "# Accurecy - Outlier\n",
    "\n",
    "# Convert categorical variables using OneHotEncoding\n",
    "# position is alrady encoded\n",
    "\n",
    "categorical_features = ['Name','neighborhood']\n",
    "numeric_features = ['Rating', 'Number of Ratings', 'Longitude', 'Latitude', 'restaurant',\n",
    "                     'meal_takeaway', 'meal_delivery', 'cafe', 'food', 'bakery', 'Weighted Rating']\n",
    "\n",
    "       "
   ]
  },
  {
   "cell_type": "code",
   "execution_count": 97,
   "metadata": {},
   "outputs": [
    {
     "name": "stdout",
     "output_type": "stream",
     "text": [
      "Name\n",
      "KFC                                                      174\n",
      "Herfy                                                    149\n",
      "McDonald's                                                76\n",
      "Little Caesars Pizza! Pizza! !ليتل سيزرز بيتزا! بيتزا     68\n",
      "Al Romansiah                                              63\n",
      "                                                        ... \n",
      "لذة محشي                                                   1\n",
      "مطعم ريف الشاورما                                          1\n",
      "TO BE FIT مطعم صحي                                         1\n",
      "RKN Pizza & Pastries Sakhna                                1\n",
      "مطعم قارب البحار للمأكولات البحرية                         1\n",
      "Name: count, Length: 214, dtype: int64\n",
      "neighborhood\n",
      "حي الندى         82\n",
      "حي الملز         60\n",
      "حي الربوة        60\n",
      "حي الخليج        60\n",
      "حي الأندلس       60\n",
      "حي الحزم         60\n",
      "حي نمار          60\n",
      "حي ديراب         60\n",
      "حي ظهرة نمار     60\n",
      "هجرة وادي لبن    60\n",
      "حي العارض        60\n",
      "حي النرجس        60\n",
      "حي الصحافة       60\n",
      "حي الملقا        60\n",
      "حي حطين          60\n",
      "حي القيروان      60\n",
      "حي الياسمين      60\n",
      "حي الزدهار       60\n",
      "حي المرسلات      60\n",
      "حي العليا        60\n",
      "حي الصفا         60\n",
      "حي جرير          60\n",
      "حي الوزارات      60\n",
      "حي الحمراء       60\n",
      "حي النهضة        54\n",
      "حي السليمانية    52\n",
      "حي القدس         48\n",
      "Name: count, dtype: int64\n"
     ]
    }
   ],
   "source": [
    "\n",
    "for i in categorical_features:\n",
    "    print (new[i].value_counts())"
   ]
  },
  {
   "cell_type": "code",
   "execution_count": 98,
   "metadata": {},
   "outputs": [
    {
     "name": "stdout",
     "output_type": "stream",
     "text": [
      "Rating\n",
      "3.8    320\n",
      "3.7    260\n",
      "3.9    225\n",
      "3.6    126\n",
      "3.5    123\n",
      "4.1    105\n",
      "4.3    102\n",
      "4.0     91\n",
      "4.2     88\n",
      "3.3     51\n",
      "3.0     31\n",
      "5.0     27\n",
      "4.7     24\n",
      "3.4     17\n",
      "4.4      6\n",
      "4.6      4\n",
      "3.2      4\n",
      "3.1      3\n",
      "4.5      2\n",
      "2.4      1\n",
      "2.9      1\n",
      "4.9      1\n",
      "1.8      1\n",
      "2.6      1\n",
      "4.8      1\n",
      "2.0      1\n",
      "Name: count, dtype: int64\n",
      "Number of Ratings\n",
      "994.0     25\n",
      "2198.0    25\n",
      "827.0     25\n",
      "639.0     24\n",
      "4618.0    24\n",
      "          ..\n",
      "93.0       1\n",
      "282.0      1\n",
      "183.0      1\n",
      "422.0      1\n",
      "331.0      1\n",
      "Name: count, Length: 205, dtype: int64\n",
      "Longitude\n",
      "46.737091    25\n",
      "46.643634    25\n",
      "46.693985    24\n",
      "46.788935    24\n",
      "46.703114    24\n",
      "             ..\n",
      "46.104862     1\n",
      "46.107099     1\n",
      "46.107123     1\n",
      "46.108164     1\n",
      "44.391117     1\n",
      "Name: count, Length: 271, dtype: int64\n",
      "Latitude\n",
      "24.595064    25\n",
      "24.600852    25\n",
      "24.701278    24\n",
      "24.709257    24\n",
      "24.695743    24\n",
      "             ..\n",
      "25.114769     1\n",
      "25.111499     1\n",
      "25.112299     1\n",
      "25.112481     1\n",
      "24.504892     1\n",
      "Name: count, Length: 271, dtype: int64\n",
      "restaurant\n",
      "1    1616\n",
      "Name: count, dtype: int64\n",
      "meal_takeaway\n",
      "0    1454\n",
      "1     162\n",
      "Name: count, dtype: int64\n",
      "meal_delivery\n",
      "0    1391\n",
      "1     225\n",
      "Name: count, dtype: int64\n",
      "cafe\n",
      "0    1615\n",
      "1       1\n",
      "Name: count, dtype: int64\n",
      "food\n",
      "1    1616\n",
      "Name: count, dtype: int64\n",
      "bakery\n",
      "0    1591\n",
      "1      25\n",
      "Name: count, dtype: int64\n",
      "Weighted Rating\n",
      "3777.2     25\n",
      "8132.6     25\n",
      "2729.1     25\n",
      "6851.4     24\n",
      "18010.2    24\n",
      "           ..\n",
      "3.0         1\n",
      "736.3       1\n",
      "850.2       1\n",
      "854.1       1\n",
      "66.3        1\n",
      "Name: count, Length: 247, dtype: int64\n"
     ]
    }
   ],
   "source": [
    "for i in numeric_features:\n",
    "    print(new[i].value_counts())\n"
   ]
  },
  {
   "cell_type": "code",
   "execution_count": 99,
   "metadata": {},
   "outputs": [
    {
     "data": {
      "image/png": "[encoded data removed]",
      "text/plain": [
       "<Figure size 1500x1000 with 11 Axes>"
      ]
     },
     "metadata": {},
     "output_type": "display_data"
    }
   ],
   "source": [
    "# boxplot for the feature \n",
    "num_features = len(numeric_features)\n",
    "\n",
    "num_rows = math.ceil(num_features / 4)\n",
    "num_cols = min(4, num_features)\n",
    "\n",
    "plt.figure(figsize=(15, 10))\n",
    "\n",
    "for i, column in enumerate(numeric_features, 1):\n",
    "    plt.subplot(num_rows, num_cols, i)\n",
    "    sns.boxplot(x=new[column])\n",
    "    plt.title(column.capitalize())\n",
    "    plt.xlabel('')\n",
    "\n",
    "plt.tight_layout()\n",
    "plt.show()\n"
   ]
  },
  {
   "cell_type": "code",
   "execution_count": 100,
   "metadata": {},
   "outputs": [
    {
     "data": {
      "image/png": "[encoded data removed]",
      "text/plain": [
       "<Figure size 1000x600 with 1 Axes>"
      ]
     },
     "metadata": {},
     "output_type": "display_data"
    },
    {
     "data": {
      "image/png": "[encoded data removed]",
      "text/plain": [
       "<Figure size 1000x600 with 1 Axes>"
      ]
     },
     "metadata": {},
     "output_type": "display_data"
    },
    {
     "data": {
      "image/png": "[encoded data removed]",
      "text/plain": [
       "<Figure size 1000x600 with 1 Axes>"
      ]
     },
     "metadata": {},
     "output_type": "display_data"
    },
    {
     "data": {
      "image/png": "[encoded data removed]",
      "text/plain": [
       "<Figure size 1000x600 with 1 Axes>"
      ]
     },
     "metadata": {},
     "output_type": "display_data"
    },
    {
     "data": {
      "image/png": "[encoded data removed]",
      "text/plain": [
       "<Figure size 1000x600 with 1 Axes>"
      ]
     },
     "metadata": {},
     "output_type": "display_data"
    },
    {
     "data": {
      "image/png": "[encoded data removed]",
      "text/plain": [
       "<Figure size 1000x600 with 1 Axes>"
      ]
     },
     "metadata": {},
     "output_type": "display_data"
    },
    {
     "data": {
      "image/png": "[encoded data removed]",
      "text/plain": [
       "<Figure size 1000x600 with 1 Axes>"
      ]
     },
     "metadata": {},
     "output_type": "display_data"
    },
    {
     "data": {
      "image/png": "[encoded data removed]",
      "text/plain": [
       "<Figure size 1000x600 with 1 Axes>"
      ]
     },
     "metadata": {},
     "output_type": "display_data"
    },
    {
     "data": {
      "image/png": "[encoded data removed]",
      "text/plain": [
       "<Figure size 1000x600 with 1 Axes>"
      ]
     },
     "metadata": {},
     "output_type": "display_data"
    },
    {
     "data": {
      "image/png": "[encoded data removed]",
      "text/plain": [
       "<Figure size 1000x600 with 1 Axes>"
      ]
     },
     "metadata": {},
     "output_type": "display_data"
    },
    {
     "data": {
      "image/png": "[encoded data removed]",
      "text/plain": [
       "<Figure size 1000x600 with 1 Axes>"
      ]
     },
     "metadata": {},
     "output_type": "display_data"
    }
   ],
   "source": [
    "for feature in numeric_features:\n",
    "    plt.figure(figsize=(10, 6))\n",
    "    sns.histplot(new[feature], kde=True)  # kde=True adds the Kernel Density Estimate line\n",
    "    plt.title(f'Histogram of {feature}')\n",
    "    plt.xlabel(feature)\n",
    "    plt.ylabel('Frequency')\n",
    "    plt.show()"
   ]
  },
  {
   "cell_type": "code",
   "execution_count": 101,
   "metadata": {},
   "outputs": [
    {
     "data": {
      "text/plain": [
       "(1616, 13)"
      ]
     },
     "execution_count": 101,
     "metadata": {},
     "output_type": "execute_result"
    }
   ],
   "source": [
    "new.shape"
   ]
  },
  {
   "cell_type": "code",
   "execution_count": 102,
   "metadata": {},
   "outputs": [],
   "source": [
    "#Outliers NOT FOR THIS DF\n",
    "\n",
    "# df = df[df['age']<40]\n",
    "# df = df[df[\"appearance\"]<100]\n",
    "# df = df[df[\"goals\"]>0.5]\n",
    "# df = df[df['award']<5]\n",
    "# df = df[df[\"days_injured\"]<407]\n",
    "# df = df[df['games_injured']<60]\n",
    "# df = df[df[\"minutes played\"]<8000]\n",
    "\n"
   ]
  },
  {
   "cell_type": "code",
   "execution_count": 103,
   "metadata": {},
   "outputs": [
    {
     "data": {
      "application/vnd.plotly.v1+json": {
       "config": {
        "plotlyServerURL": "https://plot.ly"
       },
       "data": [
        {
         "alignmentgroup": "True",
         "bingroup": "x",
         "hovertemplate": "Rating=%{x}<br>count=%{y}<extra></extra>",
         "legendgroup": "",
         "marker": {
          "color": "#636efa",
          "pattern": {
           "shape": ""
          }
         },
         "name": "",
         "nbinsx": 50,
         "offsetgroup": "",
         "orientation": "v",
         "showlegend": false,
         "type": "histogram",
         "x": [
          3.7,
          3.5,
          4,
          3,
          4,
          3.9,
          4.3,
          3.8,
          3.7,
          3.9,
          3.8,
          4.3,
          3.6,
          3.7,
          3.8,
          3.8,
          3.8,
          3.3,
          3.5,
          3.9,
          4.1,
          3.8,
          3.8,
          4.3,
          4.1,
          3.3,
          4.1,
          3.6,
          3.7,
          3.9,
          3.7,
          3.9,
          3.9,
          3.9,
          3.7,
          3.8,
          3.6,
          4.3,
          3.5,
          4,
          4.2,
          3.7,
          3.8,
          4.1,
          4.2,
          3.6,
          3.7,
          3.8,
          3.9,
          3.8,
          3.5,
          4.7,
          3.7,
          4.2,
          4.2,
          3.5,
          3.6,
          3.8,
          3.7,
          3.4,
          3.7,
          3.5,
          4,
          3,
          4,
          3.9,
          4.3,
          3.8,
          3.7,
          3.9,
          3.8,
          4.3,
          3.6,
          3.7,
          3.8,
          3.8,
          3.8,
          3.3,
          3.5,
          3.9,
          4.1,
          3.8,
          3.8,
          4.3,
          4.1,
          3.3,
          4.1,
          3.7,
          3.6,
          3.9,
          3.7,
          3.9,
          3.9,
          3.7,
          3.9,
          3.8,
          3.6,
          4.3,
          3.5,
          4,
          4.2,
          3.7,
          3.8,
          4.1,
          4.2,
          3.6,
          3.7,
          3.8,
          3.9,
          3.5,
          3.8,
          4.7,
          3.7,
          4.2,
          4.2,
          3.6,
          3.5,
          3.8,
          3.7,
          3.8,
          3.7,
          3.5,
          4,
          3,
          4,
          3.9,
          4.3,
          3.8,
          3.7,
          3.9,
          3.8,
          4.3,
          3.6,
          3.7,
          3.8,
          3.8,
          3.8,
          3.3,
          3.5,
          3.9,
          4.1,
          3.8,
          3.8,
          4.3,
          4.1,
          3.3,
          4.1,
          3.7,
          3.6,
          3.9,
          3.7,
          3.9,
          3.9,
          3.7,
          3.9,
          3.8,
          3.6,
          4.3,
          3.5,
          4,
          4.2,
          3.7,
          3.8,
          4.1,
          4.2,
          3.6,
          3.7,
          3.8,
          3.9,
          3.5,
          3.8,
          4.7,
          3.7,
          4.2,
          4.2,
          3.6,
          3.5,
          3.8,
          3.7,
          3.4,
          3.7,
          3.5,
          4,
          3,
          4,
          3.9,
          4.3,
          3.8,
          3.7,
          3.9,
          3.8,
          4.3,
          3.6,
          3.7,
          3.8,
          3.8,
          3.8,
          3.3,
          3.5,
          3.9,
          4.1,
          3.8,
          3.8,
          4.3,
          4.1,
          3.3,
          4.1,
          3.6,
          3.7,
          3.9,
          3.7,
          3.9,
          3.9,
          3.9,
          3.7,
          3.8,
          3.6,
          4.3,
          3.5,
          4,
          4.2,
          3.7,
          3.8,
          4.1,
          4.2,
          3.6,
          3.7,
          3.8,
          3.9,
          3.5,
          3.8,
          4.7,
          3.7,
          4.2,
          4.2,
          3.6,
          3.5,
          3.8,
          3.7,
          3.4,
          3.7,
          3.5,
          4,
          3,
          4,
          3.9,
          4.3,
          3.8,
          3.7,
          3.9,
          3.8,
          4.3,
          3.6,
          3.7,
          3.8,
          3.8,
          3.8,
          3.3,
          3.5,
          3.9,
          4.1,
          3.8,
          3.8,
          4.3,
          4.1,
          3.3,
          4.1,
          3.6,
          3.7,
          3.9,
          3.7,
          3.9,
          3.9,
          3.9,
          3.7,
          3.8,
          3.6,
          4.3,
          3.5,
          4,
          4.2,
          3.7,
          3.8,
          4.1,
          4.2,
          3.6,
          3.7,
          3.8,
          3.9,
          3.8,
          3.5,
          4.7,
          3.7,
          4.2,
          4.2,
          3.5,
          3.6,
          3.8,
          3.7,
          3.4,
          3.7,
          3.5,
          4,
          3,
          4,
          3.9,
          4.3,
          3.8,
          3.7,
          3.9,
          3.8,
          4.3,
          3.6,
          3.7,
          3.8,
          3.8,
          3.8,
          3.3,
          3.5,
          3.9,
          4.1,
          3.8,
          3.8,
          4.3,
          4.1,
          3.3,
          3.7,
          4.1,
          3.6,
          3.9,
          3.7,
          3.9,
          3.7,
          3.9,
          3.9,
          3.8,
          3.6,
          4.3,
          4,
          3.5,
          4.2,
          3.8,
          3.7,
          4.1,
          4.2,
          3.6,
          3.7,
          3.8,
          3.9,
          3.5,
          3.8,
          4.7,
          3.7,
          4.2,
          4.2,
          3.6,
          3.5,
          3.8,
          3.7,
          3.4,
          3.3,
          3.2,
          3.2,
          3,
          4.1,
          3.6,
          4.1,
          4.4,
          5,
          4.6,
          5,
          3.7,
          3.9,
          3.5,
          4.7,
          3,
          5,
          4.7,
          5,
          3.7,
          3.8,
          3.7,
          3.7,
          3.3,
          4,
          3.5,
          3.7,
          4.4,
          3.6,
          4,
          3.3,
          5,
          2.4,
          2.9,
          4.9,
          5,
          5,
          4.1,
          4.1,
          5,
          5,
          4.3,
          4.1,
          5,
          3.4,
          5,
          4.3,
          3.8,
          4.5,
          1.8,
          3,
          4,
          3.7,
          3.5,
          4,
          3,
          4,
          3.9,
          4.3,
          3.8,
          3.7,
          3.9,
          3.8,
          4.3,
          3.6,
          3.7,
          3.8,
          3.8,
          3.8,
          3.3,
          3.5,
          3.9,
          4.1,
          3.8,
          3.8,
          4.3,
          4.1,
          3.7,
          3.3,
          4.1,
          3.6,
          3.9,
          3.7,
          3.9,
          3.7,
          3.9,
          3.9,
          3.6,
          4.3,
          3.8,
          4,
          3.5,
          3.8,
          3.7,
          4.1,
          4.2,
          4.2,
          3.6,
          3.7,
          3.9,
          3.8,
          3.5,
          3.8,
          4.7,
          3.7,
          4.2,
          3.6,
          4.2,
          3.5,
          3.8,
          3.7,
          3.8,
          3.7,
          3.5,
          4,
          3,
          4,
          3.9,
          4.3,
          3.8,
          3.7,
          3.9,
          3.8,
          4.3,
          3.6,
          3.7,
          3.8,
          3.8,
          3.8,
          3.3,
          3.5,
          3.9,
          4.1,
          3.8,
          3.8,
          4.3,
          4.1,
          3.7,
          4.1,
          3.6,
          3.9,
          3.7,
          3.3,
          3.9,
          3.7,
          3.9,
          3.6,
          3.9,
          4.3,
          4,
          3.5,
          3.8,
          3.8,
          3.7,
          4.1,
          4.2,
          4.2,
          3.6,
          3.7,
          3.9,
          3.8,
          3.5,
          4.7,
          3.8,
          3.7,
          4.2,
          3.6,
          4.2,
          3.8,
          3.5,
          3.7,
          3.8,
          3.7,
          3.5,
          4,
          3,
          4,
          3.9,
          4.3,
          3.8,
          3.7,
          3.9,
          3.8,
          4.3,
          3.6,
          3.7,
          3.8,
          3.8,
          3.8,
          3.3,
          3.5,
          3.9,
          3.8,
          4.1,
          3.8,
          4.3,
          4.1,
          3.7,
          3.7,
          3.9,
          4.1,
          3.7,
          3.6,
          3.9,
          3.9,
          3.3,
          4.3,
          4,
          3.6,
          3.5,
          3.8,
          3.9,
          4.1,
          3.7,
          4.2,
          3.8,
          3.6,
          3.7,
          3.9,
          3.5,
          4.7,
          3.8,
          3.7,
          4.2,
          3.8,
          3.6,
          4.2,
          3.5,
          3.8,
          3.7,
          3.8,
          3.9,
          3.7,
          3.5,
          4,
          3,
          4,
          3.9,
          4.3,
          3.8,
          3.7,
          3.9,
          3.8,
          4.3,
          3.6,
          3.7,
          3.8,
          3.8,
          3.8,
          3.3,
          3.5,
          3.9,
          3.8,
          4.1,
          3.8,
          4.3,
          4.1,
          3.7,
          4.1,
          3.9,
          3.6,
          3.7,
          3.7,
          3.9,
          3.9,
          3.3,
          4.3,
          3.6,
          4,
          3.9,
          3.5,
          3.8,
          3.7,
          4.1,
          3.8,
          4.2,
          3.6,
          4.2,
          3.7,
          3.9,
          3.5,
          4.7,
          3.8,
          3.8,
          3.7,
          4.2,
          3.6,
          3.8,
          3.5,
          4.2,
          3.7,
          3.8,
          3.7,
          3.5,
          4,
          3,
          4,
          3.9,
          4.3,
          3.8,
          3.8,
          3.7,
          3.9,
          4.3,
          3.6,
          3.7,
          3.8,
          3.8,
          3.3,
          3.5,
          3.8,
          3.9,
          3.8,
          3.8,
          4.3,
          3.7,
          4.1,
          3.7,
          3.7,
          3.9,
          4.1,
          3.9,
          3.9,
          4.3,
          4,
          3.8,
          4.1,
          3.5,
          4.2,
          3.7,
          4.1,
          4.7,
          3.6,
          3.7,
          3.6,
          3.5,
          3.9,
          4.2,
          3.6,
          3.8,
          3.9,
          3.8,
          3.9,
          3.7,
          3.5,
          3.7,
          3.3,
          3.8,
          3.7,
          3.8,
          3.7,
          4,
          3.7,
          3.5,
          4,
          3,
          4,
          3.9,
          4.3,
          3.8,
          3.7,
          3.9,
          3.8,
          4.3,
          3.6,
          3.7,
          3.8,
          3.8,
          3.8,
          3.3,
          3.5,
          3.9,
          4.1,
          3.8,
          3.8,
          4.3,
          3.7,
          3.3,
          4.1,
          3.9,
          3.7,
          4.1,
          3.7,
          3.9,
          3.6,
          3.9,
          3.9,
          3.8,
          4.3,
          3.6,
          4,
          3.5,
          3.8,
          4.1,
          3.7,
          4.2,
          4.2,
          3.6,
          3.7,
          3.8,
          3.5,
          3.9,
          3.8,
          4.7,
          3.7,
          3.6,
          3.5,
          4.2,
          3.8,
          3.7,
          3.9,
          4.2,
          3.7,
          3.5,
          4,
          3,
          4,
          3.9,
          4.3,
          3.8,
          3.7,
          3.9,
          3.8,
          4.3,
          3.6,
          3.7,
          3.8,
          3.8,
          3.8,
          3.3,
          3.5,
          3.9,
          3.8,
          4.1,
          3.8,
          4.3,
          3.7,
          4.1,
          3.7,
          3.9,
          3.3,
          3.7,
          3.9,
          3.9,
          4.1,
          3.6,
          4.3,
          3.9,
          4,
          3.6,
          3.5,
          3.8,
          4.1,
          3.8,
          3.7,
          4.2,
          3.6,
          3.7,
          3.5,
          4.7,
          3.8,
          4.2,
          3.9,
          3.7,
          3.8,
          3.6,
          3.5,
          3.8,
          3.9,
          4.2,
          3.7,
          3.8,
          4.3,
          3.7,
          4.3,
          3.6,
          3.8,
          3.8,
          3.3,
          3.9,
          3.8,
          3.8,
          4.1,
          3.9,
          4.3,
          3.5,
          3.7,
          3.7,
          3.8,
          3.8,
          3.7,
          3.8,
          3.5,
          3.7,
          3.7,
          3.5,
          4,
          3,
          4,
          3.9,
          4.3,
          3.8,
          3.7,
          3.9,
          3.8,
          4.3,
          3.6,
          3.7,
          3.8,
          3.8,
          3.8,
          3.3,
          3.5,
          3.9,
          3.8,
          4.1,
          3.8,
          4.3,
          4.1,
          3.7,
          3.9,
          3.7,
          4.1,
          3.3,
          3.6,
          3.7,
          3.9,
          3.9,
          4.3,
          3.9,
          3.6,
          4,
          3.5,
          3.8,
          3.8,
          4.1,
          3.7,
          4.2,
          3.6,
          4.2,
          3.7,
          3.9,
          3.8,
          3.5,
          4.7,
          3.8,
          3.7,
          4.2,
          3.6,
          3.5,
          3.8,
          3.7,
          4.2,
          3.8,
          3.7,
          3.5,
          4,
          3,
          4,
          3.9,
          4.3,
          3.8,
          3.8,
          3.7,
          3.9,
          4.3,
          3.6,
          3.7,
          3.8,
          3.8,
          3.3,
          3.5,
          3.8,
          3.9,
          3.8,
          3.8,
          4.3,
          3.7,
          3.7,
          3.7,
          4.1,
          3.9,
          3.9,
          3.9,
          4.3,
          4,
          3.8,
          4.1,
          3.5,
          3.7,
          4.1,
          4.2,
          3.6,
          4.7,
          3.7,
          3.6,
          4.1,
          3.9,
          4.2,
          3.5,
          3.8,
          3.9,
          3.6,
          3.5,
          3.8,
          3.7,
          3.9,
          3.7,
          3.8,
          4.2,
          3.7,
          3.8,
          3.7,
          4,
          3.7,
          3.5,
          4,
          3,
          4,
          3.9,
          4.3,
          3.8,
          3.8,
          3.7,
          3.9,
          4.3,
          3.6,
          3.7,
          3.8,
          3.8,
          3.3,
          3.8,
          3.5,
          3.9,
          3.8,
          4.1,
          3.8,
          4.3,
          3.7,
          3.7,
          3.7,
          4.1,
          3.9,
          3.9,
          3.9,
          4.3,
          4,
          3.8,
          4.1,
          3.5,
          4.1,
          3.6,
          3.7,
          4.2,
          3.6,
          4.7,
          3.7,
          3.5,
          3.3,
          3.9,
          3.6,
          3.9,
          4.2,
          3.8,
          3.8,
          3.5,
          3.7,
          3.9,
          3.7,
          4.2,
          3.8,
          3.9,
          3.6,
          3.8,
          3.7,
          3.5,
          4,
          3,
          4,
          3.9,
          4.3,
          3.8,
          3.7,
          3.9,
          3.8,
          4.3,
          3.6,
          3.7,
          3.8,
          3.8,
          3.8,
          3.3,
          3.5,
          3.9,
          4.1,
          3.8,
          3.8,
          4.3,
          3.3,
          3.7,
          3.9,
          4.1,
          3.6,
          3.7,
          3.9,
          4.1,
          3.9,
          3.7,
          3.9,
          3.8,
          3.6,
          4.3,
          3.5,
          4,
          4.2,
          4.1,
          3.8,
          3.7,
          4.2,
          3.6,
          3.7,
          3.8,
          3.8,
          3.5,
          3.9,
          4.7,
          3.7,
          3.4,
          3.9,
          3.8,
          4.2,
          3.5,
          4.2,
          3.7,
          3.7,
          3.5,
          4,
          3,
          4,
          4.3,
          3.9,
          3.8,
          3.7,
          3.9,
          3.8,
          4.3,
          3.6,
          3.7,
          3.8,
          3.8,
          3.8,
          3.3,
          3.5,
          3.9,
          4.1,
          3.8,
          3.8,
          3.3,
          4.3,
          3.9,
          4.1,
          3.9,
          3.7,
          3.6,
          3.9,
          3.8,
          3.9,
          3.7,
          3.7,
          3.6,
          4.3,
          4.2,
          3.5,
          4.1,
          4,
          4.1,
          3.8,
          3.6,
          4.2,
          3.7,
          3.7,
          3.8,
          3.8,
          3.5,
          3.9,
          3.4,
          3.9,
          3.8,
          4.2,
          3.6,
          3.5,
          3.9,
          3.9,
          3.7,
          3.7,
          3.5,
          4,
          3,
          4,
          4.3,
          3.9,
          3.8,
          3.7,
          3.9,
          3.8,
          4.3,
          3.6,
          3.7,
          3.8,
          3.8,
          3.8,
          3.3,
          3.5,
          3.9,
          4.1,
          3.8,
          3.8,
          3.3,
          4.3,
          3.9,
          3.9,
          3.8,
          4.1,
          3.9,
          3.6,
          3.6,
          3.9,
          3.7,
          3.7,
          4.2,
          3.7,
          4.3,
          3.5,
          4,
          4.1,
          3.6,
          3.7,
          4.2,
          3.8,
          3.8,
          3.8,
          3.5,
          3.7,
          3.4,
          3.9,
          4.1,
          3.9,
          3.8,
          3.9,
          3.6,
          3.9,
          4.2,
          4,
          3.8,
          3.7,
          3.5,
          4,
          3,
          4,
          4.3,
          3.9,
          3.8,
          3.7,
          3.9,
          3.8,
          4.3,
          3.6,
          3.7,
          3.8,
          3.8,
          3.8,
          3.3,
          3.5,
          3.9,
          4.1,
          3.8,
          3.8,
          3.3,
          3.9,
          3.8,
          4.3,
          3.6,
          3.9,
          4.2,
          3.9,
          3.9,
          3.7,
          3.7,
          3.6,
          3.7,
          4.1,
          3.5,
          4.3,
          3.7,
          4,
          3.8,
          4.2,
          4.1,
          3.8,
          3.5,
          3.6,
          3.9,
          3.4,
          3.8,
          3.8,
          3.9,
          3.9,
          4,
          3.8,
          3.8,
          3.7,
          3.7,
          3.8,
          3.4,
          3.7,
          3.5,
          4,
          3,
          4,
          4.3,
          3.9,
          3.8,
          3.7,
          3.9,
          3.8,
          4.3,
          3.6,
          3.7,
          3.8,
          3.8,
          3.8,
          3.3,
          3.5,
          3.9,
          4.1,
          3.8,
          3.8,
          3.3,
          4.3,
          3.9,
          4.1,
          3.9,
          3.6,
          3.9,
          3.7,
          3.8,
          3.9,
          3.6,
          3.7,
          3.7,
          4.3,
          4.2,
          3.5,
          4,
          4.1,
          4.1,
          3.6,
          3.7,
          4.2,
          3.8,
          3.7,
          3.8,
          3.8,
          3.5,
          3.9,
          3.4,
          3.9,
          3.8,
          4.2,
          3.6,
          3.9,
          3.9,
          3.5,
          3.7,
          3.8,
          3.8,
          4.2,
          3.7,
          3.5,
          4.6,
          3.5,
          5,
          3.7,
          5,
          3.5,
          3.9,
          3.4,
          2.6,
          3.7,
          4,
          3,
          3.7,
          3.9,
          3.9,
          4.8,
          3.1,
          3.9,
          3.6,
          3,
          4.3,
          4,
          3.6,
          3.6,
          3.8,
          3.7,
          4.6,
          4.2,
          4,
          5,
          3.1,
          4.3,
          3,
          3.5,
          4,
          4,
          2,
          4.6,
          5,
          4.1,
          4.7,
          4.4,
          5,
          5,
          3.8,
          3.5,
          4.7,
          3.7,
          3.1,
          3.7,
          4,
          3,
          3.8,
          3.9,
          3.7,
          3.8,
          3.3,
          3.5,
          3.8,
          3.7,
          3.9,
          4.1,
          3.8,
          3.6,
          3.8,
          4.1,
          4,
          3.3,
          4.3,
          4,
          3.8,
          3.8,
          3.7,
          3.9,
          3.9,
          3.2,
          4.2,
          3.2,
          3.4,
          3.8,
          3.8,
          3.4,
          3.8,
          3.9,
          3.8,
          3.7,
          3.9,
          4,
          3.7,
          3.7,
          4,
          3.9,
          3.9,
          3.4,
          4.4,
          3.6,
          3.6,
          3.6,
          3.9,
          3.7,
          3.8,
          4.1,
          3.7,
          3.9,
          3.8,
          3.9,
          3.8,
          4.1,
          3.8,
          4,
          3.7,
          3.6,
          4,
          3.4,
          3.9,
          5,
          3.8,
          4.1,
          4.2,
          3.6,
          3.7,
          3.9,
          3.7,
          5,
          4.2,
          5,
          4,
          3.8,
          5,
          5,
          4,
          5,
          3,
          5,
          4.2,
          4.3,
          4.2,
          4.4,
          3.8,
          5,
          3.7,
          3.6,
          4,
          5,
          3.9,
          4.3,
          5,
          4.1,
          3.6,
          4.4,
          3.8,
          3.7,
          3.7,
          4.1,
          4.5,
          4.7,
          3.9,
          3.7,
          3.5,
          4,
          3,
          4,
          3.9,
          4.3,
          3.8,
          3.7,
          3.9,
          3.8,
          4.3,
          3.6,
          3.7,
          3.8,
          3.8,
          3.8,
          3.3,
          3.5,
          3.9,
          3.8,
          4.1,
          3.8,
          4.1,
          4.3,
          4.1,
          3.7,
          3.6,
          3.9,
          3.7,
          3.9,
          3.9,
          3.7,
          3.3,
          3.6,
          4.3,
          4,
          3.5,
          3.7,
          3.9,
          3.8,
          4.1,
          4.2,
          4.2,
          3.8,
          3.6,
          3.9,
          3.7,
          3.5,
          4.7,
          3.8,
          3.8,
          3.7,
          4.2,
          4.2,
          3.6,
          3.8,
          3.5,
          3.7,
          3.6,
          3.7,
          3.5,
          4,
          3,
          4,
          3.9,
          4.3,
          3.8,
          3.7,
          3.9,
          3.8,
          4.3,
          3.6,
          3.7,
          3.8,
          3.8,
          3.8,
          3.3,
          3.5,
          3.9,
          3.8,
          4.1,
          3.8,
          4.3,
          4.1,
          4.1,
          3.7,
          3.6,
          3.9,
          3.7,
          3.9,
          3.7,
          3.9,
          3.3,
          3.6,
          4.3,
          3.9,
          4,
          3.5,
          3.7,
          3.8,
          4.1,
          3.8,
          4.2,
          4.2,
          3.6,
          3.7,
          3.9,
          3.5,
          3.8,
          4.7,
          3.8,
          3.7,
          4.2,
          3.6,
          4.2,
          3.8,
          3.5,
          3.7,
          3.8
         ],
         "xaxis": "x",
         "yaxis": "y"
        }
       ],
       "layout": {
        "barmode": "relative",
        "legend": {
         "tracegroupgap": 0
        },
        "template": {
         "data": {
          "bar": [
           {
            "error_x": {
             "color": "#2a3f5f"
            },
            "error_y": {
             "color": "#2a3f5f"
            },
            "marker": {
             "line": {
              "color": "#E5ECF6",
              "width": 0.5
             },
             "pattern": {
              "fillmode": "overlay",
              "size": 10,
              "solidity": 0.2
             }
            },
            "type": "bar"
           }
          ],
          "barpolar": [
           {
            "marker": {
             "line": {
              "color": "#E5ECF6",
              "width": 0.5
             },
             "pattern": {
              "fillmode": "overlay",
              "size": 10,
              "solidity": 0.2
             }
            },
            "type": "barpolar"
           }
          ],
          "carpet": [
           {
            "aaxis": {
             "endlinecolor": "#2a3f5f",
             "gridcolor": "white",
             "linecolor": "white",
             "minorgridcolor": "white",
             "startlinecolor": "#2a3f5f"
            },
            "baxis": {
             "endlinecolor": "#2a3f5f",
             "gridcolor": "white",
             "linecolor": "white",
             "minorgridcolor": "white",
             "startlinecolor": "#2a3f5f"
            },
            "type": "carpet"
           }
          ],
          "choropleth": [
           {
            "colorbar": {
             "outlinewidth": 0,
             "ticks": ""
            },
            "type": "choropleth"
           }
          ],
          "contour": [
           {
            "colorbar": {
             "outlinewidth": 0,
             "ticks": ""
            },
            "colorscale": [
             [
              0,
              "#0d0887"
             ],
             [
              0.1111111111111111,
              "#46039f"
             ],
             [
              0.2222222222222222,
              "#7201a8"
             ],
             [
              0.3333333333333333,
              "#9c179e"
             ],
             [
              0.4444444444444444,
              "#bd3786"
             ],
             [
              0.5555555555555556,
              "#d8576b"
             ],
             [
              0.6666666666666666,
              "#ed7953"
             ],
             [
              0.7777777777777778,
              "#fb9f3a"
             ],
             [
              0.8888888888888888,
              "#fdca26"
             ],
             [
              1,
              "#f0f921"
             ]
            ],
            "type": "contour"
           }
          ],
          "contourcarpet": [
           {
            "colorbar": {
             "outlinewidth": 0,
             "ticks": ""
            },
            "type": "contourcarpet"
           }
          ],
          "heatmap": [
           {
            "colorbar": {
             "outlinewidth": 0,
             "ticks": ""
            },
            "colorscale": [
             [
              0,
              "#0d0887"
             ],
             [
              0.1111111111111111,
              "#46039f"
             ],
             [
              0.2222222222222222,
              "#7201a8"
             ],
             [
              0.3333333333333333,
              "#9c179e"
             ],
             [
              0.4444444444444444,
              "#bd3786"
             ],
             [
              0.5555555555555556,
              "#d8576b"
             ],
             [
              0.6666666666666666,
              "#ed7953"
             ],
             [
              0.7777777777777778,
              "#fb9f3a"
             ],
             [
              0.8888888888888888,
              "#fdca26"
             ],
             [
              1,
              "#f0f921"
             ]
            ],
            "type": "heatmap"
           }
          ],
          "heatmapgl": [
           {
            "colorbar": {
             "outlinewidth": 0,
             "ticks": ""
            },
            "colorscale": [
             [
              0,
              "#0d0887"
             ],
             [
              0.1111111111111111,
              "#46039f"
             ],
             [
              0.2222222222222222,
              "#7201a8"
             ],
             [
              0.3333333333333333,
              "#9c179e"
             ],
             [
              0.4444444444444444,
              "#bd3786"
             ],
             [
              0.5555555555555556,
              "#d8576b"
             ],
             [
              0.6666666666666666,
              "#ed7953"
             ],
             [
              0.7777777777777778,
              "#fb9f3a"
             ],
             [
              0.8888888888888888,
              "#fdca26"
             ],
             [
              1,
              "#f0f921"
             ]
            ],
            "type": "heatmapgl"
           }
          ],
          "histogram": [
           {
            "marker": {
             "pattern": {
              "fillmode": "overlay",
              "size": 10,
              "solidity": 0.2
             }
            },
            "type": "histogram"
           }
          ],
          "histogram2d": [
           {
            "colorbar": {
             "outlinewidth": 0,
             "ticks": ""
            },
            "colorscale": [
             [
              0,
              "#0d0887"
             ],
             [
              0.1111111111111111,
              "#46039f"
             ],
             [
              0.2222222222222222,
              "#7201a8"
             ],
             [
              0.3333333333333333,
              "#9c179e"
             ],
             [
              0.4444444444444444,
              "#bd3786"
             ],
             [
              0.5555555555555556,
              "#d8576b"
             ],
             [
              0.6666666666666666,
              "#ed7953"
             ],
             [
              0.7777777777777778,
              "#fb9f3a"
             ],
             [
              0.8888888888888888,
              "#fdca26"
             ],
             [
              1,
              "#f0f921"
             ]
            ],
            "type": "histogram2d"
           }
          ],
          "histogram2dcontour": [
           {
            "colorbar": {
             "outlinewidth": 0,
             "ticks": ""
            },
            "colorscale": [
             [
              0,
              "#0d0887"
             ],
             [
              0.1111111111111111,
              "#46039f"
             ],
             [
              0.2222222222222222,
              "#7201a8"
             ],
             [
              0.3333333333333333,
              "#9c179e"
             ],
             [
              0.4444444444444444,
              "#bd3786"
             ],
             [
              0.5555555555555556,
              "#d8576b"
             ],
             [
              0.6666666666666666,
              "#ed7953"
             ],
             [
              0.7777777777777778,
              "#fb9f3a"
             ],
             [
              0.8888888888888888,
              "#fdca26"
             ],
             [
              1,
              "#f0f921"
             ]
            ],
            "type": "histogram2dcontour"
           }
          ],
          "mesh3d": [
           {
            "colorbar": {
             "outlinewidth": 0,
             "ticks": ""
            },
            "type": "mesh3d"
           }
          ],
          "parcoords": [
           {
            "line": {
             "colorbar": {
              "outlinewidth": 0,
              "ticks": ""
             }
            },
            "type": "parcoords"
           }
          ],
          "pie": [
           {
            "automargin": true,
            "type": "pie"
           }
          ],
          "scatter": [
           {
            "fillpattern": {
             "fillmode": "overlay",
             "size": 10,
             "solidity": 0.2
            },
            "type": "scatter"
           }
          ],
          "scatter3d": [
           {
            "line": {
             "colorbar": {
              "outlinewidth": 0,
              "ticks": ""
             }
            },
            "marker": {
             "colorbar": {
              "outlinewidth": 0,
              "ticks": ""
             }
            },
            "type": "scatter3d"
           }
          ],
          "scattercarpet": [
           {
            "marker": {
             "colorbar": {
              "outlinewidth": 0,
              "ticks": ""
             }
            },
            "type": "scattercarpet"
           }
          ],
          "scattergeo": [
           {
            "marker": {
             "colorbar": {
              "outlinewidth": 0,
              "ticks": ""
             }
            },
            "type": "scattergeo"
           }
          ],
          "scattergl": [
           {
            "marker": {
             "colorbar": {
              "outlinewidth": 0,
              "ticks": ""
             }
            },
            "type": "scattergl"
           }
          ],
          "scattermapbox": [
           {
            "marker": {
             "colorbar": {
              "outlinewidth": 0,
              "ticks": ""
             }
            },
            "type": "scattermapbox"
           }
          ],
          "scatterpolar": [
           {
            "marker": {
             "colorbar": {
              "outlinewidth": 0,
              "ticks": ""
             }
            },
            "type": "scatterpolar"
           }
          ],
          "scatterpolargl": [
           {
            "marker": {
             "colorbar": {
              "outlinewidth": 0,
              "ticks": ""
             }
            },
            "type": "scatterpolargl"
           }
          ],
          "scatterternary": [
           {
            "marker": {
             "colorbar": {
              "outlinewidth": 0,
              "ticks": ""
             }
            },
            "type": "scatterternary"
           }
          ],
          "surface": [
           {
            "colorbar": {
             "outlinewidth": 0,
             "ticks": ""
            },
            "colorscale": [
             [
              0,
              "#0d0887"
             ],
             [
              0.1111111111111111,
              "#46039f"
             ],
             [
              0.2222222222222222,
              "#7201a8"
             ],
             [
              0.3333333333333333,
              "#9c179e"
             ],
             [
              0.4444444444444444,
              "#bd3786"
             ],
             [
              0.5555555555555556,
              "#d8576b"
             ],
             [
              0.6666666666666666,
              "#ed7953"
             ],
             [
              0.7777777777777778,
              "#fb9f3a"
             ],
             [
              0.8888888888888888,
              "#fdca26"
             ],
             [
              1,
              "#f0f921"
             ]
            ],
            "type": "surface"
           }
          ],
          "table": [
           {
            "cells": {
             "fill": {
              "color": "#EBF0F8"
             },
             "line": {
              "color": "white"
             }
            },
            "header": {
             "fill": {
              "color": "#C8D4E3"
             },
             "line": {
              "color": "white"
             }
            },
            "type": "table"
           }
          ]
         },
         "layout": {
          "annotationdefaults": {
           "arrowcolor": "#2a3f5f",
           "arrowhead": 0,
           "arrowwidth": 1
          },
          "autotypenumbers": "strict",
          "coloraxis": {
           "colorbar": {
            "outlinewidth": 0,
            "ticks": ""
           }
          },
          "colorscale": {
           "diverging": [
            [
             0,
             "#8e0152"
            ],
            [
             0.1,
             "#c51b7d"
            ],
            [
             0.2,
             "#de77ae"
            ],
            [
             0.3,
             "#f1b6da"
            ],
            [
             0.4,
             "#fde0ef"
            ],
            [
             0.5,
             "#f7f7f7"
            ],
            [
             0.6,
             "#e6f5d0"
            ],
            [
             0.7,
             "#b8e186"
            ],
            [
             0.8,
             "#7fbc41"
            ],
            [
             0.9,
             "#4d9221"
            ],
            [
             1,
             "#276419"
            ]
           ],
           "sequential": [
            [
             0,
             "#0d0887"
            ],
            [
             0.1111111111111111,
             "#46039f"
            ],
            [
             0.2222222222222222,
             "#7201a8"
            ],
            [
             0.3333333333333333,
             "#9c179e"
            ],
            [
             0.4444444444444444,
             "#bd3786"
            ],
            [
             0.5555555555555556,
             "#d8576b"
            ],
            [
             0.6666666666666666,
             "#ed7953"
            ],
            [
             0.7777777777777778,
             "#fb9f3a"
            ],
            [
             0.8888888888888888,
             "#fdca26"
            ],
            [
             1,
             "#f0f921"
            ]
           ],
           "sequentialminus": [
            [
             0,
             "#0d0887"
            ],
            [
             0.1111111111111111,
             "#46039f"
            ],
            [
             0.2222222222222222,
             "#7201a8"
            ],
            [
             0.3333333333333333,
             "#9c179e"
            ],
            [
             0.4444444444444444,
             "#bd3786"
            ],
            [
             0.5555555555555556,
             "#d8576b"
            ],
            [
             0.6666666666666666,
             "#ed7953"
            ],
            [
             0.7777777777777778,
             "#fb9f3a"
            ],
            [
             0.8888888888888888,
             "#fdca26"
            ],
            [
             1,
             "#f0f921"
            ]
           ]
          },
          "colorway": [
           "#636efa",
           "#EF553B",
           "#00cc96",
           "#ab63fa",
           "#FFA15A",
           "#19d3f3",
           "#FF6692",
           "#B6E880",
           "#FF97FF",
           "#FECB52"
          ],
          "font": {
           "color": "#2a3f5f"
          },
          "geo": {
           "bgcolor": "white",
           "lakecolor": "white",
           "landcolor": "#E5ECF6",
           "showlakes": true,
           "showland": true,
           "subunitcolor": "white"
          },
          "hoverlabel": {
           "align": "left"
          },
          "hovermode": "closest",
          "mapbox": {
           "style": "light"
          },
          "paper_bgcolor": "white",
          "plot_bgcolor": "#E5ECF6",
          "polar": {
           "angularaxis": {
            "gridcolor": "white",
            "linecolor": "white",
            "ticks": ""
           },
           "bgcolor": "#E5ECF6",
           "radialaxis": {
            "gridcolor": "white",
            "linecolor": "white",
            "ticks": ""
           }
          },
          "scene": {
           "xaxis": {
            "backgroundcolor": "#E5ECF6",
            "gridcolor": "white",
            "gridwidth": 2,
            "linecolor": "white",
            "showbackground": true,
            "ticks": "",
            "zerolinecolor": "white"
           },
           "yaxis": {
            "backgroundcolor": "#E5ECF6",
            "gridcolor": "white",
            "gridwidth": 2,
            "linecolor": "white",
            "showbackground": true,
            "ticks": "",
            "zerolinecolor": "white"
           },
           "zaxis": {
            "backgroundcolor": "#E5ECF6",
            "gridcolor": "white",
            "gridwidth": 2,
            "linecolor": "white",
            "showbackground": true,
            "ticks": "",
            "zerolinecolor": "white"
           }
          },
          "shapedefaults": {
           "line": {
            "color": "#2a3f5f"
           }
          },
          "ternary": {
           "aaxis": {
            "gridcolor": "white",
            "linecolor": "white",
            "ticks": ""
           },
           "baxis": {
            "gridcolor": "white",
            "linecolor": "white",
            "ticks": ""
           },
           "bgcolor": "#E5ECF6",
           "caxis": {
            "gridcolor": "white",
            "linecolor": "white",
            "ticks": ""
           }
          },
          "title": {
           "x": 0.05
          },
          "xaxis": {
           "automargin": true,
           "gridcolor": "white",
           "linecolor": "white",
           "ticks": "",
           "title": {
            "standoff": 15
           },
           "zerolinecolor": "white",
           "zerolinewidth": 2
          },
          "yaxis": {
           "automargin": true,
           "gridcolor": "white",
           "linecolor": "white",
           "ticks": "",
           "title": {
            "standoff": 15
           },
           "zerolinecolor": "white",
           "zerolinewidth": 2
          }
         }
        },
        "title": {
         "text": "Histogram of Rating"
        },
        "xaxis": {
         "anchor": "y",
         "domain": [
          0,
          1
         ],
         "title": {
          "text": "Rating"
         }
        },
        "yaxis": {
         "anchor": "x",
         "domain": [
          0,
          1
         ],
         "title": {
          "text": "count"
         }
        }
       }
      }
     },
     "metadata": {},
     "output_type": "display_data"
    }
   ],
   "source": [
    "# Rating??\n",
    "fig = px.histogram(new, x='Rating', nbins=50, title='Histogram of Rating')\n",
    "fig.show()\n"
   ]
  },
  {
   "cell_type": "markdown",
   "metadata": {},
   "source": [
    "#### 2. Feature engineering"
   ]
  },
  {
   "cell_type": "markdown",
   "metadata": {},
   "source": [
    "1. Feature scaling\n",
    "2. Aggregation\n",
    "3. One hot coding"
   ]
  },
  {
   "cell_type": "code",
   "execution_count": 104,
   "metadata": {},
   "outputs": [
    {
     "data": {
      "text/html": [
       "<div>\n",
       "<style scoped>\n",
       "    .dataframe tbody tr th:only-of-type {\n",
       "        vertical-align: middle;\n",
       "    }\n",
       "\n",
       "    .dataframe tbody tr th {\n",
       "        vertical-align: top;\n",
       "    }\n",
       "\n",
       "    .dataframe thead th {\n",
       "        text-align: right;\n",
       "    }\n",
       "</style>\n",
       "<table border=\"1\" class=\"dataframe\">\n",
       "  <thead>\n",
       "    <tr style=\"text-align: right;\">\n",
       "      <th></th>\n",
       "      <th>Name</th>\n",
       "      <th>Rating</th>\n",
       "      <th>Number of Ratings</th>\n",
       "      <th>Longitude</th>\n",
       "      <th>Latitude</th>\n",
       "      <th>neighborhood</th>\n",
       "      <th>restaurant</th>\n",
       "      <th>meal_takeaway</th>\n",
       "      <th>meal_delivery</th>\n",
       "      <th>cafe</th>\n",
       "      <th>food</th>\n",
       "      <th>bakery</th>\n",
       "      <th>Weighted Rating</th>\n",
       "    </tr>\n",
       "  </thead>\n",
       "  <tbody>\n",
       "    <tr>\n",
       "      <th>0</th>\n",
       "      <td>فندق ميرا</td>\n",
       "      <td>3.7</td>\n",
       "      <td>1336.0</td>\n",
       "      <td>46.693985</td>\n",
       "      <td>24.701278</td>\n",
       "      <td>حي الملز</td>\n",
       "      <td>1</td>\n",
       "      <td>0</td>\n",
       "      <td>0</td>\n",
       "      <td>0</td>\n",
       "      <td>1</td>\n",
       "      <td>0</td>\n",
       "      <td>4943.2</td>\n",
       "    </tr>\n",
       "    <tr>\n",
       "      <th>1</th>\n",
       "      <td>مركز ماي كار لصيانة السيارات الاوروبية</td>\n",
       "      <td>3.5</td>\n",
       "      <td>2755.0</td>\n",
       "      <td>46.576437</td>\n",
       "      <td>24.851751</td>\n",
       "      <td>حي الملز</td>\n",
       "      <td>1</td>\n",
       "      <td>0</td>\n",
       "      <td>0</td>\n",
       "      <td>0</td>\n",
       "      <td>1</td>\n",
       "      <td>0</td>\n",
       "      <td>9642.5</td>\n",
       "    </tr>\n",
       "  </tbody>\n",
       "</table>\n",
       "</div>"
      ],
      "text/plain": [
       "                                     Name  Rating  Number of Ratings  \\\n",
       "0                               فندق ميرا     3.7             1336.0   \n",
       "1  مركز ماي كار لصيانة السيارات الاوروبية     3.5             2755.0   \n",
       "\n",
       "   Longitude   Latitude neighborhood  restaurant  meal_takeaway  \\\n",
       "0  46.693985  24.701278     حي الملز           1              0   \n",
       "1  46.576437  24.851751     حي الملز           1              0   \n",
       "\n",
       "   meal_delivery  cafe  food  bakery  Weighted Rating  \n",
       "0              0     0     1       0           4943.2  \n",
       "1              0     0     1       0           9642.5  "
      ]
     },
     "execution_count": 104,
     "metadata": {},
     "output_type": "execute_result"
    }
   ],
   "source": [
    "new.head(2)"
   ]
  },
  {
   "cell_type": "markdown",
   "metadata": {},
   "source": [
    "#### 3. Feature selection"
   ]
  },
  {
   "cell_type": "code",
   "execution_count": 105,
   "metadata": {},
   "outputs": [],
   "source": [
    "\n",
    "new1 = new[['Rating', 'Number of Ratings', 'Longitude', 'Latitude', 'restaurant',\n",
    "                     'meal_takeaway', 'meal_delivery', 'cafe', 'food', 'bakery', 'Weighted Rating']]"
   ]
  },
  {
   "cell_type": "code",
   "execution_count": 106,
   "metadata": {},
   "outputs": [],
   "source": [
    "new = pd.get_dummies(new, columns=['Name','neighborhood'])"
   ]
  },
  {
   "cell_type": "code",
   "execution_count": 107,
   "metadata": {},
   "outputs": [
    {
     "data": {
      "text/html": [
       "<div>\n",
       "<style scoped>\n",
       "    .dataframe tbody tr th:only-of-type {\n",
       "        vertical-align: middle;\n",
       "    }\n",
       "\n",
       "    .dataframe tbody tr th {\n",
       "        vertical-align: top;\n",
       "    }\n",
       "\n",
       "    .dataframe thead th {\n",
       "        text-align: right;\n",
       "    }\n",
       "</style>\n",
       "<table border=\"1\" class=\"dataframe\">\n",
       "  <thead>\n",
       "    <tr style=\"text-align: right;\">\n",
       "      <th></th>\n",
       "      <th>Rating</th>\n",
       "      <th>Number of Ratings</th>\n",
       "      <th>Longitude</th>\n",
       "      <th>Latitude</th>\n",
       "      <th>restaurant</th>\n",
       "      <th>meal_takeaway</th>\n",
       "      <th>meal_delivery</th>\n",
       "      <th>cafe</th>\n",
       "      <th>food</th>\n",
       "      <th>bakery</th>\n",
       "      <th>...</th>\n",
       "      <th>neighborhood_حي النرجس</th>\n",
       "      <th>neighborhood_حي النهضة</th>\n",
       "      <th>neighborhood_حي الوزارات</th>\n",
       "      <th>neighborhood_حي الياسمين</th>\n",
       "      <th>neighborhood_حي جرير</th>\n",
       "      <th>neighborhood_حي حطين</th>\n",
       "      <th>neighborhood_حي ديراب</th>\n",
       "      <th>neighborhood_حي ظهرة نمار</th>\n",
       "      <th>neighborhood_حي نمار</th>\n",
       "      <th>neighborhood_هجرة وادي لبن</th>\n",
       "    </tr>\n",
       "  </thead>\n",
       "  <tbody>\n",
       "    <tr>\n",
       "      <th>0</th>\n",
       "      <td>3.7</td>\n",
       "      <td>1336.0</td>\n",
       "      <td>46.693985</td>\n",
       "      <td>24.701278</td>\n",
       "      <td>1</td>\n",
       "      <td>0</td>\n",
       "      <td>0</td>\n",
       "      <td>0</td>\n",
       "      <td>1</td>\n",
       "      <td>0</td>\n",
       "      <td>...</td>\n",
       "      <td>False</td>\n",
       "      <td>False</td>\n",
       "      <td>False</td>\n",
       "      <td>False</td>\n",
       "      <td>False</td>\n",
       "      <td>False</td>\n",
       "      <td>False</td>\n",
       "      <td>False</td>\n",
       "      <td>False</td>\n",
       "      <td>False</td>\n",
       "    </tr>\n",
       "    <tr>\n",
       "      <th>1</th>\n",
       "      <td>3.5</td>\n",
       "      <td>2755.0</td>\n",
       "      <td>46.576437</td>\n",
       "      <td>24.851751</td>\n",
       "      <td>1</td>\n",
       "      <td>0</td>\n",
       "      <td>0</td>\n",
       "      <td>0</td>\n",
       "      <td>1</td>\n",
       "      <td>0</td>\n",
       "      <td>...</td>\n",
       "      <td>False</td>\n",
       "      <td>False</td>\n",
       "      <td>False</td>\n",
       "      <td>False</td>\n",
       "      <td>False</td>\n",
       "      <td>False</td>\n",
       "      <td>False</td>\n",
       "      <td>False</td>\n",
       "      <td>False</td>\n",
       "      <td>False</td>\n",
       "    </tr>\n",
       "  </tbody>\n",
       "</table>\n",
       "<p>2 rows × 252 columns</p>\n",
       "</div>"
      ],
      "text/plain": [
       "   Rating  Number of Ratings  Longitude   Latitude  restaurant  meal_takeaway  \\\n",
       "0     3.7             1336.0  46.693985  24.701278           1              0   \n",
       "1     3.5             2755.0  46.576437  24.851751           1              0   \n",
       "\n",
       "   meal_delivery  cafe  food  bakery  ...  neighborhood_حي النرجس  \\\n",
       "0              0     0     1       0  ...                   False   \n",
       "1              0     0     1       0  ...                   False   \n",
       "\n",
       "   neighborhood_حي النهضة  neighborhood_حي الوزارات  neighborhood_حي الياسمين  \\\n",
       "0                   False                     False                     False   \n",
       "1                   False                     False                     False   \n",
       "\n",
       "   neighborhood_حي جرير  neighborhood_حي حطين  neighborhood_حي ديراب  \\\n",
       "0                 False                 False                  False   \n",
       "1                 False                 False                  False   \n",
       "\n",
       "   neighborhood_حي ظهرة نمار  neighborhood_حي نمار  neighborhood_هجرة وادي لبن  \n",
       "0                      False                 False                       False  \n",
       "1                      False                 False                       False  \n",
       "\n",
       "[2 rows x 252 columns]"
      ]
     },
     "execution_count": 107,
     "metadata": {},
     "output_type": "execute_result"
    }
   ],
   "source": [
    "new.head(2)"
   ]
  },
  {
   "cell_type": "markdown",
   "metadata": {},
   "source": [
    "#### 4. Prepare train and test data"
   ]
  },
  {
   "cell_type": "code",
   "execution_count": 108,
   "metadata": {},
   "outputs": [],
   "source": [
    "X = new\n",
    "\n",
    "\n",
    "# sacle the data\n",
    "scaler = StandardScaler()\n",
    "X_scaled = scaler.fit_transform(X)"
   ]
  },
  {
   "cell_type": "code",
   "execution_count": 109,
   "metadata": {},
   "outputs": [
    {
     "data": {
      "text/plain": [
       "(1616, 252)"
      ]
     },
     "execution_count": 109,
     "metadata": {},
     "output_type": "execute_result"
    }
   ],
   "source": [
    "X.shape"
   ]
  },
  {
   "cell_type": "markdown",
   "metadata": {},
   "source": [
    "## Buliding the Model"
   ]
  },
  {
   "cell_type": "code",
   "execution_count": 110,
   "metadata": {},
   "outputs": [],
   "source": [
    "# 2. Use NearestNeighbors to find the optimal eps\n",
    "min_samples = 5"
   ]
  },
  {
   "cell_type": "code",
   "execution_count": 111,
   "metadata": {},
   "outputs": [],
   "source": [
    "nn = NearestNeighbors(n_neighbors=min_samples)\n",
    "nn.fit(X_scaled)\n",
    "distances, indices = nn.kneighbors(X_scaled)"
   ]
  },
  {
   "cell_type": "code",
   "execution_count": 112,
   "metadata": {},
   "outputs": [
    {
     "data": {
      "text/plain": [
       "array([7.47955797, 7.47955797, 7.47955797, ..., 0.92838032, 7.47955797,\n",
       "       0.76116869])"
      ]
     },
     "execution_count": 112,
     "metadata": {},
     "output_type": "execute_result"
    }
   ],
   "source": [
    "distances[:,min_samples-1]"
   ]
  },
  {
   "cell_type": "code",
   "execution_count": 113,
   "metadata": {},
   "outputs": [
    {
     "data": {
      "image/png": "[encoded data removed]",
      "text/plain": [
       "<Figure size 800x600 with 1 Axes>"
      ]
     },
     "metadata": {},
     "output_type": "display_data"
    }
   ],
   "source": [
    "# The distance to the furthest neighbor (min_samples-th nearest) for each point\n",
    "k_dist = distances[:, min_samples-1]\n",
    "\n",
    "# Sort distances\n",
    "k_dist_sorted = np.sort(k_dist)\n",
    "\n",
    "# 3. Plotting the k-distance graph\n",
    "plt.figure(figsize=(8, 6))\n",
    "plt.plot(k_dist_sorted)\n",
    "plt.title('K-Distance Graph')\n",
    "plt.xlabel('Points sorted by distance')\n",
    "plt.ylabel('k-distance (eps value)')\n",
    "plt.grid(True)\n",
    "plt.show()"
   ]
  },
  {
   "cell_type": "code",
   "execution_count": 114,
   "metadata": {},
   "outputs": [],
   "source": [
    "# 4. Apply DBSCAN with chosen eps and min_samples\n",
    "# Typically, you choose eps at the \"elbow\" point in this plot, where the slope changes significantly\n",
    "chosen_eps = 2 # This is an example; choose this value based on the plot\n",
    "dbscan = DBSCAN(eps=chosen_eps, min_samples=min_samples)"
   ]
  },
  {
   "cell_type": "markdown",
   "metadata": {},
   "source": [
    "## Train and Test the Model"
   ]
  },
  {
   "cell_type": "code",
   "execution_count": 115,
   "metadata": {},
   "outputs": [],
   "source": [
    "\n",
    "clusters = dbscan.fit_predict(X_scaled)"
   ]
  },
  {
   "cell_type": "code",
   "execution_count": 116,
   "metadata": {},
   "outputs": [
    {
     "data": {
      "text/plain": [
       "-1     1293\n",
       " 18      10\n",
       " 37       9\n",
       " 29       8\n",
       " 32       8\n",
       " 33       8\n",
       " 39       8\n",
       " 21       8\n",
       " 19       8\n",
       " 2        7\n",
       " 36       7\n",
       " 26       7\n",
       " 24       7\n",
       " 0        7\n",
       " 22       7\n",
       " 35       7\n",
       " 46       7\n",
       " 16       7\n",
       " 45       7\n",
       " 31       7\n",
       " 14       7\n",
       " 12       7\n",
       " 10       7\n",
       " 8        7\n",
       " 42       7\n",
       " 6        7\n",
       " 4        7\n",
       " 30       7\n",
       " 38       6\n",
       " 40       6\n",
       " 34       6\n",
       " 44       6\n",
       " 47       6\n",
       " 28       6\n",
       " 27       6\n",
       " 25       6\n",
       " 20       6\n",
       " 17       6\n",
       " 15       6\n",
       " 13       6\n",
       " 11       6\n",
       " 9        6\n",
       " 7        6\n",
       " 5        6\n",
       " 3        6\n",
       " 1        6\n",
       " 41       5\n",
       " 43       5\n",
       " 23       5\n",
       "Name: count, dtype: int64"
      ]
     },
     "execution_count": 116,
     "metadata": {},
     "output_type": "execute_result"
    }
   ],
   "source": [
    "pd.Series(clusters).value_counts()"
   ]
  },
  {
   "cell_type": "markdown",
   "metadata": {},
   "source": [
    "## Evaluating the Model "
   ]
  },
  {
   "cell_type": "code",
   "execution_count": 117,
   "metadata": {},
   "outputs": [
    {
     "data": {
      "text/plain": [
       "-0.5909715094781056"
      ]
     },
     "execution_count": 117,
     "metadata": {},
     "output_type": "execute_result"
    }
   ],
   "source": [
    "silhouette_avg = silhouette_score(X, clusters)\n",
    "silhouette_avg"
   ]
  },
  {
   "cell_type": "code",
   "execution_count": 118,
   "metadata": {},
   "outputs": [
    {
     "data": {
      "text/html": [
       "<div>\n",
       "<style scoped>\n",
       "    .dataframe tbody tr th:only-of-type {\n",
       "        vertical-align: middle;\n",
       "    }\n",
       "\n",
       "    .dataframe tbody tr th {\n",
       "        vertical-align: top;\n",
       "    }\n",
       "\n",
       "    .dataframe thead th {\n",
       "        text-align: right;\n",
       "    }\n",
       "</style>\n",
       "<table border=\"1\" class=\"dataframe\">\n",
       "  <thead>\n",
       "    <tr style=\"text-align: right;\">\n",
       "      <th></th>\n",
       "      <th>Rating</th>\n",
       "      <th>Number of Ratings</th>\n",
       "      <th>Longitude</th>\n",
       "      <th>Latitude</th>\n",
       "      <th>restaurant</th>\n",
       "      <th>meal_takeaway</th>\n",
       "      <th>meal_delivery</th>\n",
       "      <th>cafe</th>\n",
       "      <th>food</th>\n",
       "      <th>bakery</th>\n",
       "      <th>...</th>\n",
       "      <th>neighborhood_حي النرجس</th>\n",
       "      <th>neighborhood_حي النهضة</th>\n",
       "      <th>neighborhood_حي الوزارات</th>\n",
       "      <th>neighborhood_حي الياسمين</th>\n",
       "      <th>neighborhood_حي جرير</th>\n",
       "      <th>neighborhood_حي حطين</th>\n",
       "      <th>neighborhood_حي ديراب</th>\n",
       "      <th>neighborhood_حي ظهرة نمار</th>\n",
       "      <th>neighborhood_حي نمار</th>\n",
       "      <th>neighborhood_هجرة وادي لبن</th>\n",
       "    </tr>\n",
       "  </thead>\n",
       "  <tbody>\n",
       "    <tr>\n",
       "      <th>0</th>\n",
       "      <td>3.7</td>\n",
       "      <td>1336.0</td>\n",
       "      <td>46.693985</td>\n",
       "      <td>24.701278</td>\n",
       "      <td>1</td>\n",
       "      <td>0</td>\n",
       "      <td>0</td>\n",
       "      <td>0</td>\n",
       "      <td>1</td>\n",
       "      <td>0</td>\n",
       "      <td>...</td>\n",
       "      <td>False</td>\n",
       "      <td>False</td>\n",
       "      <td>False</td>\n",
       "      <td>False</td>\n",
       "      <td>False</td>\n",
       "      <td>False</td>\n",
       "      <td>False</td>\n",
       "      <td>False</td>\n",
       "      <td>False</td>\n",
       "      <td>False</td>\n",
       "    </tr>\n",
       "    <tr>\n",
       "      <th>1</th>\n",
       "      <td>3.5</td>\n",
       "      <td>2755.0</td>\n",
       "      <td>46.576437</td>\n",
       "      <td>24.851751</td>\n",
       "      <td>1</td>\n",
       "      <td>0</td>\n",
       "      <td>0</td>\n",
       "      <td>0</td>\n",
       "      <td>1</td>\n",
       "      <td>0</td>\n",
       "      <td>...</td>\n",
       "      <td>False</td>\n",
       "      <td>False</td>\n",
       "      <td>False</td>\n",
       "      <td>False</td>\n",
       "      <td>False</td>\n",
       "      <td>False</td>\n",
       "      <td>False</td>\n",
       "      <td>False</td>\n",
       "      <td>False</td>\n",
       "      <td>False</td>\n",
       "    </tr>\n",
       "  </tbody>\n",
       "</table>\n",
       "<p>2 rows × 252 columns</p>\n",
       "</div>"
      ],
      "text/plain": [
       "   Rating  Number of Ratings  Longitude   Latitude  restaurant  meal_takeaway  \\\n",
       "0     3.7             1336.0  46.693985  24.701278           1              0   \n",
       "1     3.5             2755.0  46.576437  24.851751           1              0   \n",
       "\n",
       "   meal_delivery  cafe  food  bakery  ...  neighborhood_حي النرجس  \\\n",
       "0              0     0     1       0  ...                   False   \n",
       "1              0     0     1       0  ...                   False   \n",
       "\n",
       "   neighborhood_حي النهضة  neighborhood_حي الوزارات  neighborhood_حي الياسمين  \\\n",
       "0                   False                     False                     False   \n",
       "1                   False                     False                     False   \n",
       "\n",
       "   neighborhood_حي جرير  neighborhood_حي حطين  neighborhood_حي ديراب  \\\n",
       "0                 False                 False                  False   \n",
       "1                 False                 False                  False   \n",
       "\n",
       "   neighborhood_حي ظهرة نمار  neighborhood_حي نمار  neighborhood_هجرة وادي لبن  \n",
       "0                      False                 False                       False  \n",
       "1                      False                 False                       False  \n",
       "\n",
       "[2 rows x 252 columns]"
      ]
     },
     "execution_count": 118,
     "metadata": {},
     "output_type": "execute_result"
    }
   ],
   "source": [
    "X.head(2)"
   ]
  },
  {
   "cell_type": "code",
   "execution_count": 119,
   "metadata": {},
   "outputs": [
    {
     "data": {
      "text/plain": [
       "Index(['Rating', 'Number of Ratings', 'Longitude', 'Latitude', 'restaurant',\n",
       "       'meal_takeaway', 'meal_delivery', 'cafe', 'food', 'bakery',\n",
       "       ...\n",
       "       'neighborhood_حي النرجس', 'neighborhood_حي النهضة',\n",
       "       'neighborhood_حي الوزارات', 'neighborhood_حي الياسمين',\n",
       "       'neighborhood_حي جرير', 'neighborhood_حي حطين', 'neighborhood_حي ديراب',\n",
       "       'neighborhood_حي ظهرة نمار', 'neighborhood_حي نمار',\n",
       "       'neighborhood_هجرة وادي لبن'],\n",
       "      dtype='object', length=252)"
      ]
     },
     "execution_count": 119,
     "metadata": {},
     "output_type": "execute_result"
    }
   ],
   "source": [
    "X.columns"
   ]
  },
  {
   "cell_type": "code",
   "execution_count": 120,
   "metadata": {},
   "outputs": [
    {
     "data": {
      "image/png": "[encoded data removed]",
      "text/plain": [
       "<Figure size 800x600 with 2 Axes>"
      ]
     },
     "metadata": {},
     "output_type": "display_data"
    }
   ],
   "source": [
    "# 5. Plot the clustering result\n",
    "plt.figure(figsize=(8, 6))\n",
    "plt.scatter(X_scaled[:, 0], X_scaled[:, 1], c=clusters, cmap='viridis', s=50, edgecolor='k')\n",
    "plt.title(f'DBSCAN Clustering with eps={chosen_eps}')\n",
    "plt.xlabel('Feature 1')\n",
    "plt.ylabel('Feature 2')\n",
    "plt.colorbar(label='Cluster Label')\n",
    "plt.show()"
   ]
  },
  {
   "cell_type": "code",
   "execution_count": 121,
   "metadata": {},
   "outputs": [],
   "source": [
    "X['dbscan'] = clusters"
   ]
  },
  {
   "cell_type": "code",
   "execution_count": 122,
   "metadata": {},
   "outputs": [
    {
     "data": {
      "text/plain": [
       "dbscan\n",
       "-1     1293\n",
       " 18      10\n",
       " 37       9\n",
       " 29       8\n",
       " 32       8\n",
       " 33       8\n",
       " 39       8\n",
       " 21       8\n",
       " 19       8\n",
       " 2        7\n",
       " 36       7\n",
       " 26       7\n",
       " 24       7\n",
       " 0        7\n",
       " 22       7\n",
       " 35       7\n",
       " 46       7\n",
       " 16       7\n",
       " 45       7\n",
       " 31       7\n",
       " 14       7\n",
       " 12       7\n",
       " 10       7\n",
       " 8        7\n",
       " 42       7\n",
       " 6        7\n",
       " 4        7\n",
       " 30       7\n",
       " 38       6\n",
       " 40       6\n",
       " 34       6\n",
       " 44       6\n",
       " 47       6\n",
       " 28       6\n",
       " 27       6\n",
       " 25       6\n",
       " 20       6\n",
       " 17       6\n",
       " 15       6\n",
       " 13       6\n",
       " 11       6\n",
       " 9        6\n",
       " 7        6\n",
       " 5        6\n",
       " 3        6\n",
       " 1        6\n",
       " 41       5\n",
       " 43       5\n",
       " 23       5\n",
       "Name: count, dtype: int64"
      ]
     },
     "execution_count": 122,
     "metadata": {},
     "output_type": "execute_result"
    }
   ],
   "source": [
    "X['dbscan'].value_counts()"
   ]
  },
  {
   "cell_type": "code",
   "execution_count": 123,
   "metadata": {},
   "outputs": [
    {
     "data": {
      "text/plain": [
       "<Axes: xlabel='Rating', ylabel='Number of Ratings'>"
      ]
     },
     "execution_count": 123,
     "metadata": {},
     "output_type": "execute_result"
    },
    {
     "data": {
      "image/png": "[encoded data removed]",
      "text/plain": [
       "<Figure size 640x480 with 1 Axes>"
      ]
     },
     "metadata": {},
     "output_type": "display_data"
    }
   ],
   "source": [
    "sns.scatterplot(data = X , x = 'Rating', y = 'Number of Ratings', hue = 'dbscan')"
   ]
  },
  {
   "cell_type": "code",
   "execution_count": 126,
   "metadata": {},
   "outputs": [
    {
     "data": {
      "text/plain": [
       "['Models/scaler.joblib']"
      ]
     },
     "execution_count": 126,
     "metadata": {},
     "output_type": "execute_result"
    }
   ],
   "source": [
    " \n",
    "import joblib\n",
    "joblib.dump(dbscan, 'Models/DBSCAN.joblib')\n",
    "joblib.dump(scaler, 'Models/scaler.joblib')"
   ]
  }
 ],
 "metadata": {
  "kernelspec": {
   "display_name": "Python 3",
   "language": "python",
   "name": "python3"
  },
  "language_info": {
   "codemirror_mode": {
    "name": "ipython",
    "version": 3
   },
   "file_extension": ".py",
   "mimetype": "text/x-python",
   "name": "python",
   "nbconvert_exporter": "python",
   "pygments_lexer": "ipython3",
   "version": "3.11.9"
  }
 },
 "nbformat": 4,
 "nbformat_minor": 4
}
