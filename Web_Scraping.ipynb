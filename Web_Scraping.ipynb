{
 "cells": [
  {
   "cell_type": "markdown",
   "id": "worst-sally",
   "metadata": {},
   "source": [
    "### Web scrapping for [Sayarh Website](https://syarah.com)"
   ]
  },
  {
   "cell_type": "code",
   "execution_count": 4,
   "id": "complimentary-harvard",
   "metadata": {},
   "outputs": [],
   "source": [
    "import requests\n",
    "from bs4 import BeautifulSoup\n",
    "from selenium import webdriver  \n",
    "import pandas as pd\n",
    "from selenium.webdriver.common.by import By\n",
    "from selenium.webdriver.support.ui import WebDriverWait\n",
    "from selenium.webdriver.support import expected_conditions as EC"
   ]
  },
  {
   "cell_type": "markdown",
   "id": "338604af-c89b-4c3f-92f2-85dec04c0f78",
   "metadata": {},
   "source": [
    "#### Use only BeautifulSoup"
   ]
  },
  {
   "cell_type": "code",
   "execution_count": 2,
   "id": "yellow-matter",
   "metadata": {},
   "outputs": [
    {
     "name": "stdout",
     "output_type": "stream",
     "text": [
      "200\n"
     ]
    }
   ],
   "source": [
    "url = 'https://syarah.com/filters?condition_id=0'\n",
    "page = requests.get(url)\n",
    "print(page.status_code)"
   ]
  },
  {
   "cell_type": "code",
   "execution_count": 3,
   "id": "b30421a2-2400-454c-bf79-759f878c07ac",
   "metadata": {},
   "outputs": [
    {
     "name": "stdout",
     "output_type": "stream",
     "text": [
      "<class 'str'>\n"
     ]
    }
   ],
   "source": [
    "print(type(page.text))\n",
    "#print(page.text)"
   ]
  },
  {
   "cell_type": "code",
   "execution_count": 4,
   "id": "d12f7158-d37d-4c17-8a32-ef0148eed24a",
   "metadata": {},
   "outputs": [
    {
     "name": "stdout",
     "output_type": "stream",
     "text": [
      "<class 'bs4.BeautifulSoup'>\n"
     ]
    }
   ],
   "source": [
    "soup = BeautifulSoup(page.content, 'html.parser')\n",
    "print(type(soup))\n",
    "#soup"
   ]
  },
  {
   "cell_type": "code",
   "execution_count": 5,
   "id": "7e8cfded-9678-44f7-bed2-67746b5d069b",
   "metadata": {},
   "outputs": [
    {
     "data": {
      "text/plain": [
       "'سيارات مستعملة للبيع في السعودية - سيارات جديدة: أفضل سعر | موقع سيارة '"
      ]
     },
     "execution_count": 5,
     "metadata": {},
     "output_type": "execute_result"
    }
   ],
   "source": [
    "page_title = soup.title.text # gets you the text of the <title>(...)</title>\n",
    "page_title"
   ]
  },
  {
   "cell_type": "code",
   "execution_count": 6,
   "id": "e05a9913-69f2-4ca1-ae3f-c8d8251986f9",
   "metadata": {},
   "outputs": [],
   "source": [
    "# Extract body of page\n",
    "page_body = soup.body\n",
    "#page_body "
   ]
  },
  {
   "cell_type": "code",
   "execution_count": 7,
   "id": "3be1c7dc-27c0-4f8a-a7d9-734295e018ca",
   "metadata": {},
   "outputs": [
    {
     "data": {
      "text/plain": [
       "[]"
      ]
     },
     "execution_count": 7,
     "metadata": {},
     "output_type": "execute_result"
    }
   ],
   "source": [
    "# extract car names\n",
    "divs = soup.find_all('h2', {'class':\"CardBody-module__title interActiveGray\"})\n",
    "divs"
   ]
  },
  {
   "cell_type": "markdown",
   "id": "c2880a8e-5578-463a-89f9-6134f1c1022e",
   "metadata": {},
   "source": [
    "#### Try selenium"
   ]
  },
  {
   "cell_type": "code",
   "execution_count": 9,
   "id": "7ac040e6-bc27-44f3-ba01-ee4e0c63bdc9",
   "metadata": {},
   "outputs": [
    {
     "name": "stdout",
     "output_type": "stream",
     "text": [
      "[<span class=\"f419a93f12\"><a aria-expanded=\"false\" aria-label=\"Log in or create an account\" class=\"a83ed08757 c21c56c305 f38b6daa18 f671049264 deab83296e fd3248769f js-header-login-link\" data-testid=\"header-small-sign-in-button\" href=\"https://account.booking.com/auth/oauth2?client_id=vO1Kblk7xX9tUn2cpZLS&amp;redirect_uri=https%3A%2F%2Fsecure.booking.com%2Flogin.html%3Fop%3Doauth_return&amp;response_type=code&amp;lang=en-gb&amp;aid=2311236&amp;bkng_action=searchresults_irene&amp;prompt=signin&amp;state=Uo8EijZsZJsQ6LYChmfi7SQ4PNFWiwQ0uoaicVkApo7DcoqqPftif3ULVlQJj1cbWoprFZb1B571yzfs5WnVQgVZca_n9ZxGS3S4N09bP3B4rBaCIpl6nPY4PhOoJs9HufuXwOn7vOZk-Sp1Ep_KvmmQzxu-WnW56q-3__-cRzKfqKaCc6LxNH_76N0L9Yk-9lGE5fYKukcIT3Sh0sfKs7TxvRGf26N2EIUpcGmSwhPgV51Zn7H4zUrgod75gRQbtOlHpKvzp4UuC7LgSjvYu6ijzsbCKdPVX9VYB4MfdOU1daM_aFnIy60QP-F57bYL0nGNm3Fgzdr7oMwTEPI3-WtNl-z4gGMc_PAgiumO4aGiSYbLTZT6-QEGPB53tW0Or1mc2-8ZFOGvzk6zXpa-fAGwtBIiMPesspOPqkeucXY5u61aU4XjNa66eetgwYtgH4REOpHzQZ2eme_bFKo6v7mtny6azzmuwPBSNE6-RPOs_pO7mgN54CtVfYcWBBWNPMzH3ONj0UOdhidfjPiAg3l5Ip8MbArVVhREGM0i2L_3mglZ7DIWu6EWN1zLPs8R-b5k_Tp8mfVBdORZaJwiIAYAWm3ypKPqYjLnlDu-1rWqZxenbbEyHRMF92obWnxt0ERm6jQVE7mvkOL2ynLYoErBL0_fPI-FkY_PUE56XOlvE-xPADNzQu3VySOdhnSlMoI%3D*eyJpZCI6InRyYXZlbGxlcl9oZWFkZXIifQ%3D%3D\"><span class=\"e4adce92df\"><div class=\"a6066ac361\" data-testid=\"header-sign-in-button-red-dot\"><span aria-hidden=\"true\" class=\"fcd9eec8fb d24fc26e73\"><svg viewbox=\"0 0 24 24\" xmlns=\"http://www.w3.org/2000/svg\"><path d=\"M16.5 9.75a4.5 4.5 0 1 1-9 0 4.5 4.5 0 0 1 9 0m1.5 0a6 6 0 1 0-12 0 6 6 0 0 0 12 0m1.445 10.597c-4.086-4.111-10.732-4.132-14.844-.046l-.046.046a.75.75 0 0 0 1.064 1.058l.04-.04a8.996 8.996 0 0 1 12.722.04.75.75 0 0 0 1.064-1.058M22.5 12c0 5.799-4.701 10.5-10.5 10.5S1.5 17.799 1.5 12 6.201 1.5 12 1.5 22.5 6.201 22.5 12m1.5 0c0-6.627-5.373-12-12-12S0 5.373 0 12s5.373 12 12 12 12-5.373 12-12\"></path></svg></span><div class=\"abf093bdfe e50acbb05b c778b3e5b0 fac1953f33\"></div></div></span></a></span>, <span class=\"f419a93f12\"><button aria-expanded=\"false\" class=\"f3441ccb97\" role=\"tab\" type=\"button\">More<span aria-hidden=\"true\" class=\"fcd9eec8fb eed881e674 bf9a32efa5\"><svg viewbox=\"0 0 24 24\" xmlns=\"http://www.w3.org/2000/svg\"><path d=\"M12 20.09a1.24 1.24 0 0 1-.88-.36L6 14.61a.75.75 0 1 1 1.06-1.06L12 18.49l4.94-4.94A.75.75 0 0 1 18 14.61l-5.12 5.12a1.24 1.24 0 0 1-.88.36m6-9.46a.75.75 0 0 0 0-1.06l-5.12-5.11a1.24 1.24 0 0 0-1.754-.006l-.006.006L6 9.57a.75.75 0 0 0 0 1.06.74.74 0 0 0 1.06 0L12 5.7l4.94 4.93a.73.73 0 0 0 .53.22c.2 0 .39-.078.53-.22\"></path></svg></span></button></span>, <span class=\"f419a93f12\"><button aria-expanded=\"false\" class=\"f3441ccb97\" role=\"tab\" type=\"button\"><span aria-hidden=\"true\" class=\"fcd9eec8fb eed881e674 bf9a32efa5\"><svg viewbox=\"0 0 24 24\" xmlns=\"http://www.w3.org/2000/svg\"><path d=\"M12 20.09a1.24 1.24 0 0 1-.88-.36L6 14.61a.75.75 0 1 1 1.06-1.06L12 18.49l4.94-4.94A.75.75 0 0 1 18 14.61l-5.12 5.12a1.24 1.24 0 0 1-.88.36m6-9.46a.75.75 0 0 0 0-1.06l-5.12-5.11a1.24 1.24 0 0 0-1.754-.006l-.006.006L6 9.57a.75.75 0 0 0 0 1.06.74.74 0 0 0 1.06 0L12 5.7l4.94 4.93a.73.73 0 0 0 .53.22c.2 0 .39-.078.53-.22\"></path></svg></span></button></span>, <span class=\"f419a93f12\"><button aria-expanded=\"false\" class=\"a83ed08757 faefc93c6f b94d37c0c4\" data-selected-sorter=\"popularity\" data-testid=\"sorters-dropdown-trigger\" type=\"button\"><span aria-hidden=\"true\" class=\"fcd9eec8fb a07dcf7ef3 bf9a32efa5\"><svg data-rtl-flip=\"true\" viewbox=\"0 0 24 24\" xmlns=\"http://www.w3.org/2000/svg\"><path d=\"M10.28 15.22a.75.75 0 0 1 0 1.06l-4.5 4.5a.8.8 0 0 1-.24.16.73.73 0 0 1-.58 0 .8.8 0 0 1-.24-.16l-4.5-4.5a.75.75 0 1 1 1.06-1.06l3.22 3.22V3.75a.75.75 0 0 1 1.5 0v14.69l3.22-3.22a.75.75 0 0 1 1.06 0m13.5-7.5-4.5-4.5a.8.8 0 0 0-.28-.16.73.73 0 0 0-.58 0 .8.8 0 0 0-.24.16l-4.5 4.5a.75.75 0 1 0 1.06 1.06L18 5.56v14.69a.75.75 0 0 0 1.5 0V5.56l3.22 3.22a.75.75 0 0 0 1.06 0 .75.75 0 0 0 0-1.06\"></path></svg></span><span class=\"ccb65902b2\">Sort by: Our top picks</span><span aria-hidden=\"true\" class=\"fcd9eec8fb d9229705b4 bf9a32efa5\"><svg viewbox=\"0 0 24 24\" xmlns=\"http://www.w3.org/2000/svg\"><path d=\"M12 20.09a1.24 1.24 0 0 1-.88-.36L6 14.61a.75.75 0 1 1 1.06-1.06L12 18.49l4.94-4.94A.75.75 0 0 1 18 14.61l-5.12 5.12a1.24 1.24 0 0 1-.88.36m6-9.46a.75.75 0 0 0 0-1.06l-5.12-5.11a1.24 1.24 0 0 0-1.754-.006l-.006.006L6 9.57a.75.75 0 0 0 0 1.06.74.74 0 0 0 1.06 0L12 5.7l4.94 4.93a.73.73 0 0 0 .53.22c.2 0 .39-.078.53-.22\"></path></svg></span></button></span>, <span class=\"f419a93f12\"><button aria-expanded=\"false\" aria-label=\"Save the property\" class=\"a83ed08757 c21c56c305 bd3a1c7108 d691166b09 ab98298258 deab83296e fe94449254\" data-testid=\"wishlist-button\" type=\"button\"><span class=\"eedba9e88a\"><span aria-hidden=\"true\" class=\"fcd9eec8fb bf9a32efa5\"><svg viewbox=\"0 0 24 24\" xmlns=\"http://www.w3.org/2000/svg\"><path d=\"m12.541 21.325-9.588-10a4.923 4.923 0 1 1 6.95-6.976l1.567 1.566a.75.75 0 0 0 1.06 0l1.566-1.566a4.923 4.923 0 0 1 6.963 6.962l-9.6 10.014zm-1.082 1.038a.75.75 0 0 0 1.082 0l9.59-10.003a6.42 6.42 0 0 0-.012-9.07 6.423 6.423 0 0 0-9.083-.001L11.47 4.854h1.06l-1.566-1.566a6.423 6.423 0 1 0-9.082 9.086l9.577 9.99z\"></path></svg></span></span></button></span>, <span class=\"f419a93f12\"><div aria-expanded=\"false\" aria-label=\"4 out of 5\" class=\"b3f3c831be\" tabindex=\"0\"><div aria-hidden=\"true\" class=\"a455730030\" data-testid=\"rating-stars\" role=\"img\"><span aria-hidden=\"true\" class=\"fcd9eec8fb d31eda6efc c25361c37f\"><svg viewbox=\"0 0 24 24\" xmlns=\"http://www.w3.org/2000/svg\"><path d=\"M23.555 8.729a1.505 1.505 0 0 0-1.406-.98h-6.087a.5.5 0 0 1-.472-.334l-2.185-6.193a1.5 1.5 0 0 0-2.81 0l-.005.016-2.18 6.177a.5.5 0 0 1-.471.334H1.85A1.5 1.5 0 0 0 .887 10.4l5.184 4.3a.5.5 0 0 1 .155.543l-2.178 6.531a1.5 1.5 0 0 0 2.31 1.684l5.346-3.92a.5.5 0 0 1 .591 0l5.344 3.919a1.5 1.5 0 0 0 2.312-1.683l-2.178-6.535a.5.5 0 0 1 .155-.543l5.194-4.306a1.5 1.5 0 0 0 .433-1.661\"></path></svg></span><span aria-hidden=\"true\" class=\"fcd9eec8fb d31eda6efc c25361c37f\"><svg viewbox=\"0 0 24 24\" xmlns=\"http://www.w3.org/2000/svg\"><path d=\"M23.555 8.729a1.505 1.505 0 0 0-1.406-.98h-6.087a.5.5 0 0 1-.472-.334l-2.185-6.193a1.5 1.5 0 0 0-2.81 0l-.005.016-2.18 6.177a.5.5 0 0 1-.471.334H1.85A1.5 1.5 0 0 0 .887 10.4l5.184 4.3a.5.5 0 0 1 .155.543l-2.178 6.531a1.5 1.5 0 0 0 2.31 1.684l5.346-3.92a.5.5 0 0 1 .591 0l5.344 3.919a1.5 1.5 0 0 0 2.312-1.683l-2.178-6.535a.5.5 0 0 1 .155-.543l5.194-4.306a1.5 1.5 0 0 0 .433-1.661\"></path></svg></span><span aria-hidden=\"true\" class=\"fcd9eec8fb d31eda6efc c25361c37f\"><svg viewbox=\"0 0 24 24\" xmlns=\"http://www.w3.org/2000/svg\"><path d=\"M23.555 8.729a1.505 1.505 0 0 0-1.406-.98h-6.087a.5.5 0 0 1-.472-.334l-2.185-6.193a1.5 1.5 0 0 0-2.81 0l-.005.016-2.18 6.177a.5.5 0 0 1-.471.334H1.85A1.5 1.5 0 0 0 .887 10.4l5.184 4.3a.5.5 0 0 1 .155.543l-2.178 6.531a1.5 1.5 0 0 0 2.31 1.684l5.346-3.92a.5.5 0 0 1 .591 0l5.344 3.919a1.5 1.5 0 0 0 2.312-1.683l-2.178-6.535a.5.5 0 0 1 .155-.543l5.194-4.306a1.5 1.5 0 0 0 .433-1.661\"></path></svg></span><span aria-hidden=\"true\" class=\"fcd9eec8fb d31eda6efc c25361c37f\"><svg viewbox=\"0 0 24 24\" xmlns=\"http://www.w3.org/2000/svg\"><path d=\"M23.555 8.729a1.505 1.505 0 0 0-1.406-.98h-6.087a.5.5 0 0 1-.472-.334l-2.185-6.193a1.5 1.5 0 0 0-2.81 0l-.005.016-2.18 6.177a.5.5 0 0 1-.471.334H1.85A1.5 1.5 0 0 0 .887 10.4l5.184 4.3a.5.5 0 0 1 .155.543l-2.178 6.531a1.5 1.5 0 0 0 2.31 1.684l5.346-3.92a.5.5 0 0 1 .591 0l5.344 3.919a1.5 1.5 0 0 0 2.312-1.683l-2.178-6.535a.5.5 0 0 1 .155-.543l5.194-4.306a1.5 1.5 0 0 0 .433-1.661\"></path></svg></span></div></div></span>, <span class=\"f419a93f12\"><span aria-expanded=\"false\" data-testid=\"preferred-badge\" role=\"button\" tabindex=\"0\"><span aria-label=\"This property is part of our Preferred Plus Programme. It is committed to providing outstanding service and excellent value. It will pay us a higher commission if you make a booking.\" class=\"fcd9eec8fb c2a6770498 b3d142134a c2cc050fb8 e410954d4b\" role=\"img\"><svg viewbox=\"0 0 32 18\" xmlns=\"http://www.w3.org/2000/svg\"><path clip-rule=\"evenodd\" d=\"M0 2.252A2.25 2.25 0 0 1 2.252 0h13.496q.104 0 .204.01.102-.01.205-.01h13.496a2.25 2.25 0 0 1 2.252 2.252v13.496A2.25 2.25 0 0 1 29.653 18H16.157q-.102 0-.204-.01-.101.01-.205.01H2.252A2.25 2.25 0 0 1 0 15.748zm7.335 11.293h4.801c1.413 0 1.413-1.129 1.413-1.129 1.13-.564.564-1.693.564-1.693.848-.847 0-1.694 0-1.694.565-.847 0-1.693-.847-1.693H9.594l.565-1.976c.565-1.693-1.13-2.258-1.694-.282l-1.13 3.387zM3.915 8.46v5.085h2.79V8.46zM21.99 6c0-.433 0-.65.064-.823.105-.284.329-.508.613-.613.173-.064.39-.064.823-.064s.65 0 .823.064c.284.105.509.329.613.613.064.173.064.39.064.823v1.5h1.5c.433 0 .65 0 .823.064.284.105.509.329.613.613.064.173.064.39.064.823s0 .65-.064.823a1.03 1.03 0 0 1-.613.613c-.173.064-.39.064-.823.064h-1.5V12c0 .433 0 .65-.064.823a1.03 1.03 0 0 1-.613.613c-.173.064-.39.064-.823.064s-.65 0-.823-.064a1.03 1.03 0 0 1-.613-.613c-.064-.174-.064-.39-.064-.823v-1.5h-1.5c-.433 0-.65 0-.823-.064a1.03 1.03 0 0 1-.613-.613c-.064-.173-.064-.39-.064-.823s0-.65.064-.823c.105-.284.329-.508.613-.613.173-.064.39-.064.823-.064h1.5z\" fill=\"#FEBB02\" fill-rule=\"evenodd\"></path></svg></span></span></span>, <span class=\"f419a93f12\"><span aria-expanded=\"false\" data-testid=\"distance\">2 km from centre</span></span>, <span class=\"f419a93f12\"><button aria-expanded=\"false\" class=\"a83ed08757 c21c56c305 a4c1805887 ab98298258 deab83296e c082d89982 da018e8680\" type=\"button\"><span class=\"e4adce92df\">Show prices</span></button></span>, <span class=\"f419a93f12\"><button aria-expanded=\"false\" aria-label=\"Save the property\" class=\"a83ed08757 c21c56c305 bd3a1c7108 d691166b09 ab98298258 deab83296e fe94449254\" data-testid=\"wishlist-button\" type=\"button\"><span class=\"eedba9e88a\"><span aria-hidden=\"true\" class=\"fcd9eec8fb bf9a32efa5\"><svg viewbox=\"0 0 24 24\" xmlns=\"http://www.w3.org/2000/svg\"><path d=\"m12.541 21.325-9.588-10a4.923 4.923 0 1 1 6.95-6.976l1.567 1.566a.75.75 0 0 0 1.06 0l1.566-1.566a4.923 4.923 0 0 1 6.963 6.962l-9.6 10.014zm-1.082 1.038a.75.75 0 0 0 1.082 0l9.59-10.003a6.42 6.42 0 0 0-.012-9.07 6.423 6.423 0 0 0-9.083-.001L11.47 4.854h1.06l-1.566-1.566a6.423 6.423 0 1 0-9.082 9.086l9.577 9.99z\"></path></svg></span></span></button></span>, <span class=\"f419a93f12\"><div aria-expanded=\"false\" aria-label=\"4 out of 5\" class=\"b3f3c831be\" tabindex=\"0\"><div aria-hidden=\"true\" class=\"a455730030\" data-testid=\"rating-squares\" role=\"img\"><span aria-hidden=\"true\" class=\"fcd9eec8fb d31eda6efc c25361c37f\"><svg viewbox=\"0 0 112 128\" xmlns=\"http://www.w3.org/2000/svg\"><path d=\"M96 8H16A16 16 0 0 0 0 24v96h96a16 16 0 0 0 16-16V24A16 16 0 0 0 96 8M56 88a24 24 0 1 1 24-24 24 24 0 0 1-24 24\"></path></svg></span><span aria-hidden=\"true\" class=\"fcd9eec8fb d31eda6efc c25361c37f\"><svg viewbox=\"0 0 112 128\" xmlns=\"http://www.w3.org/2000/svg\"><path d=\"M96 8H16A16 16 0 0 0 0 24v96h96a16 16 0 0 0 16-16V24A16 16 0 0 0 96 8M56 88a24 24 0 1 1 24-24 24 24 0 0 1-24 24\"></path></svg></span><span aria-hidden=\"true\" class=\"fcd9eec8fb d31eda6efc c25361c37f\"><svg viewbox=\"0 0 112 128\" xmlns=\"http://www.w3.org/2000/svg\"><path d=\"M96 8H16A16 16 0 0 0 0 24v96h96a16 16 0 0 0 16-16V24A16 16 0 0 0 96 8M56 88a24 24 0 1 1 24-24 24 24 0 0 1-24 24\"></path></svg></span><span aria-hidden=\"true\" class=\"fcd9eec8fb d31eda6efc c25361c37f\"><svg viewbox=\"0 0 112 128\" xmlns=\"http://www.w3.org/2000/svg\"><path d=\"M96 8H16A16 16 0 0 0 0 24v96h96a16 16 0 0 0 16-16V24A16 16 0 0 0 96 8M56 88a24 24 0 1 1 24-24 24 24 0 0 1-24 24\"></path></svg></span></div></div></span>, <span class=\"f419a93f12\"><span aria-expanded=\"false\" data-testid=\"preferred-badge\" role=\"button\" tabindex=\"0\"><span aria-label=\"This property is part of our Preferred Plus Programme. It is committed to providing outstanding service and excellent value. It will pay us a higher commission if you make a booking.\" class=\"fcd9eec8fb c2a6770498 b3d142134a c2cc050fb8 e410954d4b\" role=\"img\"><svg viewbox=\"0 0 32 18\" xmlns=\"http://www.w3.org/2000/svg\"><path clip-rule=\"evenodd\" d=\"M0 2.252A2.25 2.25 0 0 1 2.252 0h13.496q.104 0 .204.01.102-.01.205-.01h13.496a2.25 2.25 0 0 1 2.252 2.252v13.496A2.25 2.25 0 0 1 29.653 18H16.157q-.102 0-.204-.01-.101.01-.205.01H2.252A2.25 2.25 0 0 1 0 15.748zm7.335 11.293h4.801c1.413 0 1.413-1.129 1.413-1.129 1.13-.564.564-1.693.564-1.693.848-.847 0-1.694 0-1.694.565-.847 0-1.693-.847-1.693H9.594l.565-1.976c.565-1.693-1.13-2.258-1.694-.282l-1.13 3.387zM3.915 8.46v5.085h2.79V8.46zM21.99 6c0-.433 0-.65.064-.823.105-.284.329-.508.613-.613.173-.064.39-.064.823-.064s.65 0 .823.064c.284.105.509.329.613.613.064.173.064.39.064.823v1.5h1.5c.433 0 .65 0 .823.064.284.105.509.329.613.613.064.173.064.39.064.823s0 .65-.064.823a1.03 1.03 0 0 1-.613.613c-.173.064-.39.064-.823.064h-1.5V12c0 .433 0 .65-.064.823a1.03 1.03 0 0 1-.613.613c-.173.064-.39.064-.823.064s-.65 0-.823-.064a1.03 1.03 0 0 1-.613-.613c-.064-.174-.064-.39-.064-.823v-1.5h-1.5c-.433 0-.65 0-.823-.064a1.03 1.03 0 0 1-.613-.613c-.064-.173-.064-.39-.064-.823s0-.65.064-.823c.105-.284.329-.508.613-.613.173-.064.39-.064.823-.064h1.5z\" fill=\"#FEBB02\" fill-rule=\"evenodd\"></path></svg></span></span></span>, <span class=\"f419a93f12\"><span aria-expanded=\"false\" data-testid=\"distance\">5.5 km from centre</span></span>, <span class=\"f419a93f12\"><button aria-expanded=\"false\" class=\"a83ed08757 c21c56c305 a4c1805887 ab98298258 deab83296e c082d89982 da018e8680\" type=\"button\"><span class=\"e4adce92df\">Show prices</span></button></span>, <span class=\"f419a93f12\"><button aria-expanded=\"false\" aria-label=\"Save the property\" class=\"a83ed08757 c21c56c305 bd3a1c7108 d691166b09 ab98298258 deab83296e fe94449254\" data-testid=\"wishlist-button\" type=\"button\"><span class=\"eedba9e88a\"><span aria-hidden=\"true\" class=\"fcd9eec8fb bf9a32efa5\"><svg viewbox=\"0 0 24 24\" xmlns=\"http://www.w3.org/2000/svg\"><path d=\"m12.541 21.325-9.588-10a4.923 4.923 0 1 1 6.95-6.976l1.567 1.566a.75.75 0 0 0 1.06 0l1.566-1.566a4.923 4.923 0 0 1 6.963 6.962l-9.6 10.014zm-1.082 1.038a.75.75 0 0 0 1.082 0l9.59-10.003a6.42 6.42 0 0 0-.012-9.07 6.423 6.423 0 0 0-9.083-.001L11.47 4.854h1.06l-1.566-1.566a6.423 6.423 0 1 0-9.082 9.086l9.577 9.99z\"></path></svg></span></span></button></span>, <span class=\"f419a93f12\"><div aria-expanded=\"false\" aria-label=\"3 out of 5\" class=\"b3f3c831be\" tabindex=\"0\"><div aria-hidden=\"true\" class=\"a455730030\" data-testid=\"rating-squares\" role=\"img\"><span aria-hidden=\"true\" class=\"fcd9eec8fb d31eda6efc c25361c37f\"><svg viewbox=\"0 0 112 128\" xmlns=\"http://www.w3.org/2000/svg\"><path d=\"M96 8H16A16 16 0 0 0 0 24v96h96a16 16 0 0 0 16-16V24A16 16 0 0 0 96 8M56 88a24 24 0 1 1 24-24 24 24 0 0 1-24 24\"></path></svg></span><span aria-hidden=\"true\" class=\"fcd9eec8fb d31eda6efc c25361c37f\"><svg viewbox=\"0 0 112 128\" xmlns=\"http://www.w3.org/2000/svg\"><path d=\"M96 8H16A16 16 0 0 0 0 24v96h96a16 16 0 0 0 16-16V24A16 16 0 0 0 96 8M56 88a24 24 0 1 1 24-24 24 24 0 0 1-24 24\"></path></svg></span><span aria-hidden=\"true\" class=\"fcd9eec8fb d31eda6efc c25361c37f\"><svg viewbox=\"0 0 112 128\" xmlns=\"http://www.w3.org/2000/svg\"><path d=\"M96 8H16A16 16 0 0 0 0 24v96h96a16 16 0 0 0 16-16V24A16 16 0 0 0 96 8M56 88a24 24 0 1 1 24-24 24 24 0 0 1-24 24\"></path></svg></span></div></div></span>, <span class=\"f419a93f12\"><span aria-expanded=\"false\" data-testid=\"preferred-badge\" role=\"button\" tabindex=\"0\"><span aria-label=\"This property is part of our Preferred Plus Programme. It is committed to providing outstanding service and excellent value. It will pay us a higher commission if you make a booking.\" class=\"fcd9eec8fb c2a6770498 b3d142134a c2cc050fb8 e410954d4b\" role=\"img\"><svg viewbox=\"0 0 32 18\" xmlns=\"http://www.w3.org/2000/svg\"><path clip-rule=\"evenodd\" d=\"M0 2.252A2.25 2.25 0 0 1 2.252 0h13.496q.104 0 .204.01.102-.01.205-.01h13.496a2.25 2.25 0 0 1 2.252 2.252v13.496A2.25 2.25 0 0 1 29.653 18H16.157q-.102 0-.204-.01-.101.01-.205.01H2.252A2.25 2.25 0 0 1 0 15.748zm7.335 11.293h4.801c1.413 0 1.413-1.129 1.413-1.129 1.13-.564.564-1.693.564-1.693.848-.847 0-1.694 0-1.694.565-.847 0-1.693-.847-1.693H9.594l.565-1.976c.565-1.693-1.13-2.258-1.694-.282l-1.13 3.387zM3.915 8.46v5.085h2.79V8.46zM21.99 6c0-.433 0-.65.064-.823.105-.284.329-.508.613-.613.173-.064.39-.064.823-.064s.65 0 .823.064c.284.105.509.329.613.613.064.173.064.39.064.823v1.5h1.5c.433 0 .65 0 .823.064.284.105.509.329.613.613.064.173.064.39.064.823s0 .65-.064.823a1.03 1.03 0 0 1-.613.613c-.173.064-.39.064-.823.064h-1.5V12c0 .433 0 .65-.064.823a1.03 1.03 0 0 1-.613.613c-.173.064-.39.064-.823.064s-.65 0-.823-.064a1.03 1.03 0 0 1-.613-.613c-.064-.174-.064-.39-.064-.823v-1.5h-1.5c-.433 0-.65 0-.823-.064a1.03 1.03 0 0 1-.613-.613c-.064-.173-.064-.39-.064-.823s0-.65.064-.823c.105-.284.329-.508.613-.613.173-.064.39-.064.823-.064h1.5z\" fill=\"#FEBB02\" fill-rule=\"evenodd\"></path></svg></span></span></span>, <span class=\"f419a93f12\"><span aria-expanded=\"false\" data-testid=\"distance\">14.7 km from centre</span></span>, <span class=\"f419a93f12\"><button aria-expanded=\"false\" class=\"a83ed08757 c21c56c305 a4c1805887 ab98298258 deab83296e c082d89982 da018e8680\" type=\"button\"><span class=\"e4adce92df\">Show prices</span></button></span>, <span class=\"f419a93f12\"><button aria-expanded=\"false\" aria-label=\"Save the property\" class=\"a83ed08757 c21c56c305 bd3a1c7108 d691166b09 ab98298258 deab83296e fe94449254\" data-testid=\"wishlist-button\" type=\"button\"><span class=\"eedba9e88a\"><span aria-hidden=\"true\" class=\"fcd9eec8fb bf9a32efa5\"><svg viewbox=\"0 0 24 24\" xmlns=\"http://www.w3.org/2000/svg\"><path d=\"m12.541 21.325-9.588-10a4.923 4.923 0 1 1 6.95-6.976l1.567 1.566a.75.75 0 0 0 1.06 0l1.566-1.566a4.923 4.923 0 0 1 6.963 6.962l-9.6 10.014zm-1.082 1.038a.75.75 0 0 0 1.082 0l9.59-10.003a6.42 6.42 0 0 0-.012-9.07 6.423 6.423 0 0 0-9.083-.001L11.47 4.854h1.06l-1.566-1.566a6.423 6.423 0 1 0-9.082 9.086l9.577 9.99z\"></path></svg></span></span></button></span>, <span class=\"f419a93f12\"><div aria-expanded=\"false\" aria-label=\"2 out of 5\" class=\"b3f3c831be\" tabindex=\"0\"><div aria-hidden=\"true\" class=\"a455730030\" data-testid=\"rating-stars\" role=\"img\"><span aria-hidden=\"true\" class=\"fcd9eec8fb d31eda6efc c25361c37f\"><svg viewbox=\"0 0 24 24\" xmlns=\"http://www.w3.org/2000/svg\"><path d=\"M23.555 8.729a1.505 1.505 0 0 0-1.406-.98h-6.087a.5.5 0 0 1-.472-.334l-2.185-6.193a1.5 1.5 0 0 0-2.81 0l-.005.016-2.18 6.177a.5.5 0 0 1-.471.334H1.85A1.5 1.5 0 0 0 .887 10.4l5.184 4.3a.5.5 0 0 1 .155.543l-2.178 6.531a1.5 1.5 0 0 0 2.31 1.684l5.346-3.92a.5.5 0 0 1 .591 0l5.344 3.919a1.5 1.5 0 0 0 2.312-1.683l-2.178-6.535a.5.5 0 0 1 .155-.543l5.194-4.306a1.5 1.5 0 0 0 .433-1.661\"></path></svg></span><span aria-hidden=\"true\" class=\"fcd9eec8fb d31eda6efc c25361c37f\"><svg viewbox=\"0 0 24 24\" xmlns=\"http://www.w3.org/2000/svg\"><path d=\"M23.555 8.729a1.505 1.505 0 0 0-1.406-.98h-6.087a.5.5 0 0 1-.472-.334l-2.185-6.193a1.5 1.5 0 0 0-2.81 0l-.005.016-2.18 6.177a.5.5 0 0 1-.471.334H1.85A1.5 1.5 0 0 0 .887 10.4l5.184 4.3a.5.5 0 0 1 .155.543l-2.178 6.531a1.5 1.5 0 0 0 2.31 1.684l5.346-3.92a.5.5 0 0 1 .591 0l5.344 3.919a1.5 1.5 0 0 0 2.312-1.683l-2.178-6.535a.5.5 0 0 1 .155-.543l5.194-4.306a1.5 1.5 0 0 0 .433-1.661\"></path></svg></span></div></div></span>, <span class=\"f419a93f12\"><span aria-expanded=\"false\" data-testid=\"preferred-badge\" role=\"button\" tabindex=\"0\"><span aria-label=\"This property is part of our Preferred Plus Programme. It is committed to providing outstanding service and excellent value. It will pay us a higher commission if you make a booking.\" class=\"fcd9eec8fb c2a6770498 b3d142134a c2cc050fb8 e410954d4b\" role=\"img\"><svg viewbox=\"0 0 32 18\" xmlns=\"http://www.w3.org/2000/svg\"><path clip-rule=\"evenodd\" d=\"M0 2.252A2.25 2.25 0 0 1 2.252 0h13.496q.104 0 .204.01.102-.01.205-.01h13.496a2.25 2.25 0 0 1 2.252 2.252v13.496A2.25 2.25 0 0 1 29.653 18H16.157q-.102 0-.204-.01-.101.01-.205.01H2.252A2.25 2.25 0 0 1 0 15.748zm7.335 11.293h4.801c1.413 0 1.413-1.129 1.413-1.129 1.13-.564.564-1.693.564-1.693.848-.847 0-1.694 0-1.694.565-.847 0-1.693-.847-1.693H9.594l.565-1.976c.565-1.693-1.13-2.258-1.694-.282l-1.13 3.387zM3.915 8.46v5.085h2.79V8.46zM21.99 6c0-.433 0-.65.064-.823.105-.284.329-.508.613-.613.173-.064.39-.064.823-.064s.65 0 .823.064c.284.105.509.329.613.613.064.173.064.39.064.823v1.5h1.5c.433 0 .65 0 .823.064.284.105.509.329.613.613.064.173.064.39.064.823s0 .65-.064.823a1.03 1.03 0 0 1-.613.613c-.173.064-.39.064-.823.064h-1.5V12c0 .433 0 .65-.064.823a1.03 1.03 0 0 1-.613.613c-.173.064-.39.064-.823.064s-.65 0-.823-.064a1.03 1.03 0 0 1-.613-.613c-.064-.174-.064-.39-.064-.823v-1.5h-1.5c-.433 0-.65 0-.823-.064a1.03 1.03 0 0 1-.613-.613c-.064-.173-.064-.39-.064-.823s0-.65.064-.823c.105-.284.329-.508.613-.613.173-.064.39-.064.823-.064h1.5z\" fill=\"#FEBB02\" fill-rule=\"evenodd\"></path></svg></span></span></span>, <span class=\"f419a93f12\"><span aria-expanded=\"false\" data-testid=\"distance\">7.1 km from centre</span></span>, <span class=\"f419a93f12\"><button aria-expanded=\"false\" class=\"a83ed08757 c21c56c305 a4c1805887 ab98298258 deab83296e c082d89982 da018e8680\" type=\"button\"><span class=\"e4adce92df\">Show prices</span></button></span>, <span class=\"f419a93f12\"><button aria-expanded=\"false\" aria-label=\"Save the property\" class=\"a83ed08757 c21c56c305 bd3a1c7108 d691166b09 ab98298258 deab83296e fe94449254\" data-testid=\"wishlist-button\" type=\"button\"><span class=\"eedba9e88a\"><span aria-hidden=\"true\" class=\"fcd9eec8fb bf9a32efa5\"><svg viewbox=\"0 0 24 24\" xmlns=\"http://www.w3.org/2000/svg\"><path d=\"m12.541 21.325-9.588-10a4.923 4.923 0 1 1 6.95-6.976l1.567 1.566a.75.75 0 0 0 1.06 0l1.566-1.566a4.923 4.923 0 0 1 6.963 6.962l-9.6 10.014zm-1.082 1.038a.75.75 0 0 0 1.082 0l9.59-10.003a6.42 6.42 0 0 0-.012-9.07 6.423 6.423 0 0 0-9.083-.001L11.47 4.854h1.06l-1.566-1.566a6.423 6.423 0 1 0-9.082 9.086l9.577 9.99z\"></path></svg></span></span></button></span>, <span class=\"f419a93f12\"><span aria-expanded=\"false\" data-testid=\"preferred-badge\" role=\"button\" tabindex=\"0\"><span aria-label=\"This property is part of our Preferred Partner Programme. It is committed to providing commendable service and good value. It will pay us a higher commission if you make a booking.\" class=\"fcd9eec8fb c2a6770498 c2cc050fb8 e410954d4b\" role=\"img\"><svg height=\"1em\" viewbox=\"0 0 128 128\" width=\"1em\"><path d=\"M112 8H16a8 8 0 0 0-8 8v96a8 8 0 0 0 8 8h96a8 8 0 0 0 8-8V16a8 8 0 0 0-8-8zM48 96H24V58h24zm56-25a8.7 8.7 0 0 1-2 6 8.9 8.9 0 0 1 1 4 6.9 6.9 0 0 1-5 7c-.5 4-4.8 8-9 8H56V58l10.3-23.3a5.4 5.4 0 0 1 10.1 2.7 10.3 10.3 0 0 1-.6 2.7L72 52h23c4.5 0 9 3.5 9 8a9.2 9.2 0 0 1-2 5.3 7.5 7.5 0 0 1 2 5.7z\"></path></svg></span></span></span>, <span class=\"f419a93f12\"><span aria-expanded=\"false\" data-testid=\"distance\">14.6 km from centre</span></span>, <span class=\"f419a93f12\"><button aria-expanded=\"false\" class=\"a83ed08757 c21c56c305 a4c1805887 ab98298258 deab83296e c082d89982 da018e8680\" type=\"button\"><span class=\"e4adce92df\">Show prices</span></button></span>, <span class=\"f419a93f12\"><button aria-expanded=\"false\" aria-label=\"Save the property\" class=\"a83ed08757 c21c56c305 bd3a1c7108 d691166b09 ab98298258 deab83296e fe94449254\" data-testid=\"wishlist-button\" type=\"button\"><span class=\"eedba9e88a\"><span aria-hidden=\"true\" class=\"fcd9eec8fb bf9a32efa5\"><svg viewbox=\"0 0 24 24\" xmlns=\"http://www.w3.org/2000/svg\"><path d=\"m12.541 21.325-9.588-10a4.923 4.923 0 1 1 6.95-6.976l1.567 1.566a.75.75 0 0 0 1.06 0l1.566-1.566a4.923 4.923 0 0 1 6.963 6.962l-9.6 10.014zm-1.082 1.038a.75.75 0 0 0 1.082 0l9.59-10.003a6.42 6.42 0 0 0-.012-9.07 6.423 6.423 0 0 0-9.083-.001L11.47 4.854h1.06l-1.566-1.566a6.423 6.423 0 1 0-9.082 9.086l9.577 9.99z\"></path></svg></span></span></button></span>, <span class=\"f419a93f12\"><div aria-expanded=\"false\" aria-label=\"4 out of 5\" class=\"b3f3c831be\" tabindex=\"0\"><div aria-hidden=\"true\" class=\"a455730030\" data-testid=\"rating-stars\" role=\"img\"><span aria-hidden=\"true\" class=\"fcd9eec8fb d31eda6efc c25361c37f\"><svg viewbox=\"0 0 24 24\" xmlns=\"http://www.w3.org/2000/svg\"><path d=\"M23.555 8.729a1.505 1.505 0 0 0-1.406-.98h-6.087a.5.5 0 0 1-.472-.334l-2.185-6.193a1.5 1.5 0 0 0-2.81 0l-.005.016-2.18 6.177a.5.5 0 0 1-.471.334H1.85A1.5 1.5 0 0 0 .887 10.4l5.184 4.3a.5.5 0 0 1 .155.543l-2.178 6.531a1.5 1.5 0 0 0 2.31 1.684l5.346-3.92a.5.5 0 0 1 .591 0l5.344 3.919a1.5 1.5 0 0 0 2.312-1.683l-2.178-6.535a.5.5 0 0 1 .155-.543l5.194-4.306a1.5 1.5 0 0 0 .433-1.661\"></path></svg></span><span aria-hidden=\"true\" class=\"fcd9eec8fb d31eda6efc c25361c37f\"><svg viewbox=\"0 0 24 24\" xmlns=\"http://www.w3.org/2000/svg\"><path d=\"M23.555 8.729a1.505 1.505 0 0 0-1.406-.98h-6.087a.5.5 0 0 1-.472-.334l-2.185-6.193a1.5 1.5 0 0 0-2.81 0l-.005.016-2.18 6.177a.5.5 0 0 1-.471.334H1.85A1.5 1.5 0 0 0 .887 10.4l5.184 4.3a.5.5 0 0 1 .155.543l-2.178 6.531a1.5 1.5 0 0 0 2.31 1.684l5.346-3.92a.5.5 0 0 1 .591 0l5.344 3.919a1.5 1.5 0 0 0 2.312-1.683l-2.178-6.535a.5.5 0 0 1 .155-.543l5.194-4.306a1.5 1.5 0 0 0 .433-1.661\"></path></svg></span><span aria-hidden=\"true\" class=\"fcd9eec8fb d31eda6efc c25361c37f\"><svg viewbox=\"0 0 24 24\" xmlns=\"http://www.w3.org/2000/svg\"><path d=\"M23.555 8.729a1.505 1.505 0 0 0-1.406-.98h-6.087a.5.5 0 0 1-.472-.334l-2.185-6.193a1.5 1.5 0 0 0-2.81 0l-.005.016-2.18 6.177a.5.5 0 0 1-.471.334H1.85A1.5 1.5 0 0 0 .887 10.4l5.184 4.3a.5.5 0 0 1 .155.543l-2.178 6.531a1.5 1.5 0 0 0 2.31 1.684l5.346-3.92a.5.5 0 0 1 .591 0l5.344 3.919a1.5 1.5 0 0 0 2.312-1.683l-2.178-6.535a.5.5 0 0 1 .155-.543l5.194-4.306a1.5 1.5 0 0 0 .433-1.661\"></path></svg></span><span aria-hidden=\"true\" class=\"fcd9eec8fb d31eda6efc c25361c37f\"><svg viewbox=\"0 0 24 24\" xmlns=\"http://www.w3.org/2000/svg\"><path d=\"M23.555 8.729a1.505 1.505 0 0 0-1.406-.98h-6.087a.5.5 0 0 1-.472-.334l-2.185-6.193a1.5 1.5 0 0 0-2.81 0l-.005.016-2.18 6.177a.5.5 0 0 1-.471.334H1.85A1.5 1.5 0 0 0 .887 10.4l5.184 4.3a.5.5 0 0 1 .155.543l-2.178 6.531a1.5 1.5 0 0 0 2.31 1.684l5.346-3.92a.5.5 0 0 1 .591 0l5.344 3.919a1.5 1.5 0 0 0 2.312-1.683l-2.178-6.535a.5.5 0 0 1 .155-.543l5.194-4.306a1.5 1.5 0 0 0 .433-1.661\"></path></svg></span></div></div></span>, <span class=\"f419a93f12\"><span aria-expanded=\"false\" data-testid=\"preferred-badge\" role=\"button\" tabindex=\"0\"><span aria-label=\"This property is part of our Preferred Partner Programme. It is committed to providing commendable service and good value. It will pay us a higher commission if you make a booking.\" class=\"fcd9eec8fb c2a6770498 c2cc050fb8 e410954d4b\" role=\"img\"><svg height=\"1em\" viewbox=\"0 0 128 128\" width=\"1em\"><path d=\"M112 8H16a8 8 0 0 0-8 8v96a8 8 0 0 0 8 8h96a8 8 0 0 0 8-8V16a8 8 0 0 0-8-8zM48 96H24V58h24zm56-25a8.7 8.7 0 0 1-2 6 8.9 8.9 0 0 1 1 4 6.9 6.9 0 0 1-5 7c-.5 4-4.8 8-9 8H56V58l10.3-23.3a5.4 5.4 0 0 1 10.1 2.7 10.3 10.3 0 0 1-.6 2.7L72 52h23c4.5 0 9 3.5 9 8a9.2 9.2 0 0 1-2 5.3 7.5 7.5 0 0 1 2 5.7z\"></path></svg></span></span></span>, <span class=\"f419a93f12\"><span aria-expanded=\"false\" data-testid=\"distance\">500 m from centre</span></span>, <span class=\"f419a93f12\"><button aria-expanded=\"false\" class=\"a83ed08757 c21c56c305 a4c1805887 ab98298258 deab83296e c082d89982 da018e8680\" type=\"button\"><span class=\"e4adce92df\">Show prices</span></button></span>, <span class=\"f419a93f12\"><button aria-expanded=\"false\" aria-label=\"Save the property\" class=\"a83ed08757 c21c56c305 bd3a1c7108 d691166b09 ab98298258 deab83296e fe94449254\" data-testid=\"wishlist-button\" type=\"button\"><span class=\"eedba9e88a\"><span aria-hidden=\"true\" class=\"fcd9eec8fb bf9a32efa5\"><svg viewbox=\"0 0 24 24\" xmlns=\"http://www.w3.org/2000/svg\"><path d=\"m12.541 21.325-9.588-10a4.923 4.923 0 1 1 6.95-6.976l1.567 1.566a.75.75 0 0 0 1.06 0l1.566-1.566a4.923 4.923 0 0 1 6.963 6.962l-9.6 10.014zm-1.082 1.038a.75.75 0 0 0 1.082 0l9.59-10.003a6.42 6.42 0 0 0-.012-9.07 6.423 6.423 0 0 0-9.083-.001L11.47 4.854h1.06l-1.566-1.566a6.423 6.423 0 1 0-9.082 9.086l9.577 9.99z\"></path></svg></span></span></button></span>, <span class=\"f419a93f12\"><div aria-expanded=\"false\" aria-label=\"5 out of 5\" class=\"b3f3c831be\" tabindex=\"0\"><div aria-hidden=\"true\" class=\"a455730030\" data-testid=\"rating-stars\" role=\"img\"><span aria-hidden=\"true\" class=\"fcd9eec8fb d31eda6efc c25361c37f\"><svg viewbox=\"0 0 24 24\" xmlns=\"http://www.w3.org/2000/svg\"><path d=\"M23.555 8.729a1.505 1.505 0 0 0-1.406-.98h-6.087a.5.5 0 0 1-.472-.334l-2.185-6.193a1.5 1.5 0 0 0-2.81 0l-.005.016-2.18 6.177a.5.5 0 0 1-.471.334H1.85A1.5 1.5 0 0 0 .887 10.4l5.184 4.3a.5.5 0 0 1 .155.543l-2.178 6.531a1.5 1.5 0 0 0 2.31 1.684l5.346-3.92a.5.5 0 0 1 .591 0l5.344 3.919a1.5 1.5 0 0 0 2.312-1.683l-2.178-6.535a.5.5 0 0 1 .155-.543l5.194-4.306a1.5 1.5 0 0 0 .433-1.661\"></path></svg></span><span aria-hidden=\"true\" class=\"fcd9eec8fb d31eda6efc c25361c37f\"><svg viewbox=\"0 0 24 24\" xmlns=\"http://www.w3.org/2000/svg\"><path d=\"M23.555 8.729a1.505 1.505 0 0 0-1.406-.98h-6.087a.5.5 0 0 1-.472-.334l-2.185-6.193a1.5 1.5 0 0 0-2.81 0l-.005.016-2.18 6.177a.5.5 0 0 1-.471.334H1.85A1.5 1.5 0 0 0 .887 10.4l5.184 4.3a.5.5 0 0 1 .155.543l-2.178 6.531a1.5 1.5 0 0 0 2.31 1.684l5.346-3.92a.5.5 0 0 1 .591 0l5.344 3.919a1.5 1.5 0 0 0 2.312-1.683l-2.178-6.535a.5.5 0 0 1 .155-.543l5.194-4.306a1.5 1.5 0 0 0 .433-1.661\"></path></svg></span><span aria-hidden=\"true\" class=\"fcd9eec8fb d31eda6efc c25361c37f\"><svg viewbox=\"0 0 24 24\" xmlns=\"http://www.w3.org/2000/svg\"><path d=\"M23.555 8.729a1.505 1.505 0 0 0-1.406-.98h-6.087a.5.5 0 0 1-.472-.334l-2.185-6.193a1.5 1.5 0 0 0-2.81 0l-.005.016-2.18 6.177a.5.5 0 0 1-.471.334H1.85A1.5 1.5 0 0 0 .887 10.4l5.184 4.3a.5.5 0 0 1 .155.543l-2.178 6.531a1.5 1.5 0 0 0 2.31 1.684l5.346-3.92a.5.5 0 0 1 .591 0l5.344 3.919a1.5 1.5 0 0 0 2.312-1.683l-2.178-6.535a.5.5 0 0 1 .155-.543l5.194-4.306a1.5 1.5 0 0 0 .433-1.661\"></path></svg></span><span aria-hidden=\"true\" class=\"fcd9eec8fb d31eda6efc c25361c37f\"><svg viewbox=\"0 0 24 24\" xmlns=\"http://www.w3.org/2000/svg\"><path d=\"M23.555 8.729a1.505 1.505 0 0 0-1.406-.98h-6.087a.5.5 0 0 1-.472-.334l-2.185-6.193a1.5 1.5 0 0 0-2.81 0l-.005.016-2.18 6.177a.5.5 0 0 1-.471.334H1.85A1.5 1.5 0 0 0 .887 10.4l5.184 4.3a.5.5 0 0 1 .155.543l-2.178 6.531a1.5 1.5 0 0 0 2.31 1.684l5.346-3.92a.5.5 0 0 1 .591 0l5.344 3.919a1.5 1.5 0 0 0 2.312-1.683l-2.178-6.535a.5.5 0 0 1 .155-.543l5.194-4.306a1.5 1.5 0 0 0 .433-1.661\"></path></svg></span><span aria-hidden=\"true\" class=\"fcd9eec8fb d31eda6efc c25361c37f\"><svg viewbox=\"0 0 24 24\" xmlns=\"http://www.w3.org/2000/svg\"><path d=\"M23.555 8.729a1.505 1.505 0 0 0-1.406-.98h-6.087a.5.5 0 0 1-.472-.334l-2.185-6.193a1.5 1.5 0 0 0-2.81 0l-.005.016-2.18 6.177a.5.5 0 0 1-.471.334H1.85A1.5 1.5 0 0 0 .887 10.4l5.184 4.3a.5.5 0 0 1 .155.543l-2.178 6.531a1.5 1.5 0 0 0 2.31 1.684l5.346-3.92a.5.5 0 0 1 .591 0l5.344 3.919a1.5 1.5 0 0 0 2.312-1.683l-2.178-6.535a.5.5 0 0 1 .155-.543l5.194-4.306a1.5 1.5 0 0 0 .433-1.661\"></path></svg></span></div></div></span>, <span class=\"f419a93f12\"><span aria-expanded=\"false\" data-testid=\"preferred-badge\" role=\"button\" tabindex=\"0\"><span aria-label=\"This property is part of our Preferred Partner Programme. It is committed to providing commendable service and good value. It will pay us a higher commission if you make a booking.\" class=\"fcd9eec8fb c2a6770498 c2cc050fb8 e410954d4b\" role=\"img\"><svg height=\"1em\" viewbox=\"0 0 128 128\" width=\"1em\"><path d=\"M112 8H16a8 8 0 0 0-8 8v96a8 8 0 0 0 8 8h96a8 8 0 0 0 8-8V16a8 8 0 0 0-8-8zM48 96H24V58h24zm56-25a8.7 8.7 0 0 1-2 6 8.9 8.9 0 0 1 1 4 6.9 6.9 0 0 1-5 7c-.5 4-4.8 8-9 8H56V58l10.3-23.3a5.4 5.4 0 0 1 10.1 2.7 10.3 10.3 0 0 1-.6 2.7L72 52h23c4.5 0 9 3.5 9 8a9.2 9.2 0 0 1-2 5.3 7.5 7.5 0 0 1 2 5.7z\"></path></svg></span></span></span>, <span class=\"f419a93f12\"><span aria-expanded=\"false\" data-testid=\"distance\">0.7 km from centre</span></span>, <span class=\"f419a93f12\"><button aria-expanded=\"false\" class=\"a83ed08757 c21c56c305 a4c1805887 ab98298258 deab83296e c082d89982 da018e8680\" type=\"button\"><span class=\"e4adce92df\">Show prices</span></button></span>, <span class=\"f419a93f12\"><button aria-expanded=\"false\" aria-label=\"Save the property\" class=\"a83ed08757 c21c56c305 bd3a1c7108 d691166b09 ab98298258 deab83296e fe94449254\" data-testid=\"wishlist-button\" type=\"button\"><span class=\"eedba9e88a\"><span aria-hidden=\"true\" class=\"fcd9eec8fb bf9a32efa5\"><svg viewbox=\"0 0 24 24\" xmlns=\"http://www.w3.org/2000/svg\"><path d=\"m12.541 21.325-9.588-10a4.923 4.923 0 1 1 6.95-6.976l1.567 1.566a.75.75 0 0 0 1.06 0l1.566-1.566a4.923 4.923 0 0 1 6.963 6.962l-9.6 10.014zm-1.082 1.038a.75.75 0 0 0 1.082 0l9.59-10.003a6.42 6.42 0 0 0-.012-9.07 6.423 6.423 0 0 0-9.083-.001L11.47 4.854h1.06l-1.566-1.566a6.423 6.423 0 1 0-9.082 9.086l9.577 9.99z\"></path></svg></span></span></button></span>, <span class=\"f419a93f12\"><div aria-expanded=\"false\" aria-label=\"5 out of 5\" class=\"b3f3c831be\" tabindex=\"0\"><div aria-hidden=\"true\" class=\"a455730030\" data-testid=\"rating-stars\" role=\"img\"><span aria-hidden=\"true\" class=\"fcd9eec8fb d31eda6efc c25361c37f\"><svg viewbox=\"0 0 24 24\" xmlns=\"http://www.w3.org/2000/svg\"><path d=\"M23.555 8.729a1.505 1.505 0 0 0-1.406-.98h-6.087a.5.5 0 0 1-.472-.334l-2.185-6.193a1.5 1.5 0 0 0-2.81 0l-.005.016-2.18 6.177a.5.5 0 0 1-.471.334H1.85A1.5 1.5 0 0 0 .887 10.4l5.184 4.3a.5.5 0 0 1 .155.543l-2.178 6.531a1.5 1.5 0 0 0 2.31 1.684l5.346-3.92a.5.5 0 0 1 .591 0l5.344 3.919a1.5 1.5 0 0 0 2.312-1.683l-2.178-6.535a.5.5 0 0 1 .155-.543l5.194-4.306a1.5 1.5 0 0 0 .433-1.661\"></path></svg></span><span aria-hidden=\"true\" class=\"fcd9eec8fb d31eda6efc c25361c37f\"><svg viewbox=\"0 0 24 24\" xmlns=\"http://www.w3.org/2000/svg\"><path d=\"M23.555 8.729a1.505 1.505 0 0 0-1.406-.98h-6.087a.5.5 0 0 1-.472-.334l-2.185-6.193a1.5 1.5 0 0 0-2.81 0l-.005.016-2.18 6.177a.5.5 0 0 1-.471.334H1.85A1.5 1.5 0 0 0 .887 10.4l5.184 4.3a.5.5 0 0 1 .155.543l-2.178 6.531a1.5 1.5 0 0 0 2.31 1.684l5.346-3.92a.5.5 0 0 1 .591 0l5.344 3.919a1.5 1.5 0 0 0 2.312-1.683l-2.178-6.535a.5.5 0 0 1 .155-.543l5.194-4.306a1.5 1.5 0 0 0 .433-1.661\"></path></svg></span><span aria-hidden=\"true\" class=\"fcd9eec8fb d31eda6efc c25361c37f\"><svg viewbox=\"0 0 24 24\" xmlns=\"http://www.w3.org/2000/svg\"><path d=\"M23.555 8.729a1.505 1.505 0 0 0-1.406-.98h-6.087a.5.5 0 0 1-.472-.334l-2.185-6.193a1.5 1.5 0 0 0-2.81 0l-.005.016-2.18 6.177a.5.5 0 0 1-.471.334H1.85A1.5 1.5 0 0 0 .887 10.4l5.184 4.3a.5.5 0 0 1 .155.543l-2.178 6.531a1.5 1.5 0 0 0 2.31 1.684l5.346-3.92a.5.5 0 0 1 .591 0l5.344 3.919a1.5 1.5 0 0 0 2.312-1.683l-2.178-6.535a.5.5 0 0 1 .155-.543l5.194-4.306a1.5 1.5 0 0 0 .433-1.661\"></path></svg></span><span aria-hidden=\"true\" class=\"fcd9eec8fb d31eda6efc c25361c37f\"><svg viewbox=\"0 0 24 24\" xmlns=\"http://www.w3.org/2000/svg\"><path d=\"M23.555 8.729a1.505 1.505 0 0 0-1.406-.98h-6.087a.5.5 0 0 1-.472-.334l-2.185-6.193a1.5 1.5 0 0 0-2.81 0l-.005.016-2.18 6.177a.5.5 0 0 1-.471.334H1.85A1.5 1.5 0 0 0 .887 10.4l5.184 4.3a.5.5 0 0 1 .155.543l-2.178 6.531a1.5 1.5 0 0 0 2.31 1.684l5.346-3.92a.5.5 0 0 1 .591 0l5.344 3.919a1.5 1.5 0 0 0 2.312-1.683l-2.178-6.535a.5.5 0 0 1 .155-.543l5.194-4.306a1.5 1.5 0 0 0 .433-1.661\"></path></svg></span><span aria-hidden=\"true\" class=\"fcd9eec8fb d31eda6efc c25361c37f\"><svg viewbox=\"0 0 24 24\" xmlns=\"http://www.w3.org/2000/svg\"><path d=\"M23.555 8.729a1.505 1.505 0 0 0-1.406-.98h-6.087a.5.5 0 0 1-.472-.334l-2.185-6.193a1.5 1.5 0 0 0-2.81 0l-.005.016-2.18 6.177a.5.5 0 0 1-.471.334H1.85A1.5 1.5 0 0 0 .887 10.4l5.184 4.3a.5.5 0 0 1 .155.543l-2.178 6.531a1.5 1.5 0 0 0 2.31 1.684l5.346-3.92a.5.5 0 0 1 .591 0l5.344 3.919a1.5 1.5 0 0 0 2.312-1.683l-2.178-6.535a.5.5 0 0 1 .155-.543l5.194-4.306a1.5 1.5 0 0 0 .433-1.661\"></path></svg></span></div></div></span>, <span class=\"f419a93f12\"><span aria-expanded=\"false\" data-testid=\"distance\">1.3 km from centre</span></span>, <span class=\"f419a93f12\"><button aria-expanded=\"false\" class=\"a83ed08757 c21c56c305 a4c1805887 ab98298258 deab83296e c082d89982 da018e8680\" type=\"button\"><span class=\"e4adce92df\">Show prices</span></button></span>, <span class=\"f419a93f12\"><button aria-expanded=\"false\" aria-label=\"Save the property\" class=\"a83ed08757 c21c56c305 bd3a1c7108 d691166b09 ab98298258 deab83296e fe94449254\" data-testid=\"wishlist-button\" type=\"button\"><span class=\"eedba9e88a\"><span aria-hidden=\"true\" class=\"fcd9eec8fb bf9a32efa5\"><svg viewbox=\"0 0 24 24\" xmlns=\"http://www.w3.org/2000/svg\"><path d=\"m12.541 21.325-9.588-10a4.923 4.923 0 1 1 6.95-6.976l1.567 1.566a.75.75 0 0 0 1.06 0l1.566-1.566a4.923 4.923 0 0 1 6.963 6.962l-9.6 10.014zm-1.082 1.038a.75.75 0 0 0 1.082 0l9.59-10.003a6.42 6.42 0 0 0-.012-9.07 6.423 6.423 0 0 0-9.083-.001L11.47 4.854h1.06l-1.566-1.566a6.423 6.423 0 1 0-9.082 9.086l9.577 9.99z\"></path></svg></span></span></button></span>, <span class=\"f419a93f12\"><div aria-expanded=\"false\" aria-label=\"4 out of 5\" class=\"b3f3c831be\" tabindex=\"0\"><div aria-hidden=\"true\" class=\"a455730030\" data-testid=\"rating-stars\" role=\"img\"><span aria-hidden=\"true\" class=\"fcd9eec8fb d31eda6efc c25361c37f\"><svg viewbox=\"0 0 24 24\" xmlns=\"http://www.w3.org/2000/svg\"><path d=\"M23.555 8.729a1.505 1.505 0 0 0-1.406-.98h-6.087a.5.5 0 0 1-.472-.334l-2.185-6.193a1.5 1.5 0 0 0-2.81 0l-.005.016-2.18 6.177a.5.5 0 0 1-.471.334H1.85A1.5 1.5 0 0 0 .887 10.4l5.184 4.3a.5.5 0 0 1 .155.543l-2.178 6.531a1.5 1.5 0 0 0 2.31 1.684l5.346-3.92a.5.5 0 0 1 .591 0l5.344 3.919a1.5 1.5 0 0 0 2.312-1.683l-2.178-6.535a.5.5 0 0 1 .155-.543l5.194-4.306a1.5 1.5 0 0 0 .433-1.661\"></path></svg></span><span aria-hidden=\"true\" class=\"fcd9eec8fb d31eda6efc c25361c37f\"><svg viewbox=\"0 0 24 24\" xmlns=\"http://www.w3.org/2000/svg\"><path d=\"M23.555 8.729a1.505 1.505 0 0 0-1.406-.98h-6.087a.5.5 0 0 1-.472-.334l-2.185-6.193a1.5 1.5 0 0 0-2.81 0l-.005.016-2.18 6.177a.5.5 0 0 1-.471.334H1.85A1.5 1.5 0 0 0 .887 10.4l5.184 4.3a.5.5 0 0 1 .155.543l-2.178 6.531a1.5 1.5 0 0 0 2.31 1.684l5.346-3.92a.5.5 0 0 1 .591 0l5.344 3.919a1.5 1.5 0 0 0 2.312-1.683l-2.178-6.535a.5.5 0 0 1 .155-.543l5.194-4.306a1.5 1.5 0 0 0 .433-1.661\"></path></svg></span><span aria-hidden=\"true\" class=\"fcd9eec8fb d31eda6efc c25361c37f\"><svg viewbox=\"0 0 24 24\" xmlns=\"http://www.w3.org/2000/svg\"><path d=\"M23.555 8.729a1.505 1.505 0 0 0-1.406-.98h-6.087a.5.5 0 0 1-.472-.334l-2.185-6.193a1.5 1.5 0 0 0-2.81 0l-.005.016-2.18 6.177a.5.5 0 0 1-.471.334H1.85A1.5 1.5 0 0 0 .887 10.4l5.184 4.3a.5.5 0 0 1 .155.543l-2.178 6.531a1.5 1.5 0 0 0 2.31 1.684l5.346-3.92a.5.5 0 0 1 .591 0l5.344 3.919a1.5 1.5 0 0 0 2.312-1.683l-2.178-6.535a.5.5 0 0 1 .155-.543l5.194-4.306a1.5 1.5 0 0 0 .433-1.661\"></path></svg></span><span aria-hidden=\"true\" class=\"fcd9eec8fb d31eda6efc c25361c37f\"><svg viewbox=\"0 0 24 24\" xmlns=\"http://www.w3.org/2000/svg\"><path d=\"M23.555 8.729a1.505 1.505 0 0 0-1.406-.98h-6.087a.5.5 0 0 1-.472-.334l-2.185-6.193a1.5 1.5 0 0 0-2.81 0l-.005.016-2.18 6.177a.5.5 0 0 1-.471.334H1.85A1.5 1.5 0 0 0 .887 10.4l5.184 4.3a.5.5 0 0 1 .155.543l-2.178 6.531a1.5 1.5 0 0 0 2.31 1.684l5.346-3.92a.5.5 0 0 1 .591 0l5.344 3.919a1.5 1.5 0 0 0 2.312-1.683l-2.178-6.535a.5.5 0 0 1 .155-.543l5.194-4.306a1.5 1.5 0 0 0 .433-1.661\"></path></svg></span></div></div></span>, <span class=\"f419a93f12\"><span aria-expanded=\"false\" data-testid=\"preferred-badge\" role=\"button\" tabindex=\"0\"><span aria-label=\"This property is part of our Preferred Partner Programme. It is committed to providing commendable service and good value. It will pay us a higher commission if you make a booking.\" class=\"fcd9eec8fb c2a6770498 c2cc050fb8 e410954d4b\" role=\"img\"><svg height=\"1em\" viewbox=\"0 0 128 128\" width=\"1em\"><path d=\"M112 8H16a8 8 0 0 0-8 8v96a8 8 0 0 0 8 8h96a8 8 0 0 0 8-8V16a8 8 0 0 0-8-8zM48 96H24V58h24zm56-25a8.7 8.7 0 0 1-2 6 8.9 8.9 0 0 1 1 4 6.9 6.9 0 0 1-5 7c-.5 4-4.8 8-9 8H56V58l10.3-23.3a5.4 5.4 0 0 1 10.1 2.7 10.3 10.3 0 0 1-.6 2.7L72 52h23c4.5 0 9 3.5 9 8a9.2 9.2 0 0 1-2 5.3 7.5 7.5 0 0 1 2 5.7z\"></path></svg></span></span></span>, <span class=\"f419a93f12\"><span aria-expanded=\"false\" data-testid=\"distance\">4.3 km from centre</span></span>, <span class=\"f419a93f12\"><button aria-expanded=\"false\" class=\"a83ed08757 c21c56c305 a4c1805887 ab98298258 deab83296e c082d89982 da018e8680\" type=\"button\"><span class=\"e4adce92df\">Show prices</span></button></span>, <span class=\"f419a93f12\"><button aria-expanded=\"false\" aria-label=\"Save the property\" class=\"a83ed08757 c21c56c305 bd3a1c7108 d691166b09 ab98298258 deab83296e fe94449254\" data-testid=\"wishlist-button\" type=\"button\"><span class=\"eedba9e88a\"><span aria-hidden=\"true\" class=\"fcd9eec8fb bf9a32efa5\"><svg viewbox=\"0 0 24 24\" xmlns=\"http://www.w3.org/2000/svg\"><path d=\"m12.541 21.325-9.588-10a4.923 4.923 0 1 1 6.95-6.976l1.567 1.566a.75.75 0 0 0 1.06 0l1.566-1.566a4.923 4.923 0 0 1 6.963 6.962l-9.6 10.014zm-1.082 1.038a.75.75 0 0 0 1.082 0l9.59-10.003a6.42 6.42 0 0 0-.012-9.07 6.423 6.423 0 0 0-9.083-.001L11.47 4.854h1.06l-1.566-1.566a6.423 6.423 0 1 0-9.082 9.086l9.577 9.99z\"></path></svg></span></span></button></span>, <span class=\"f419a93f12\"><div aria-expanded=\"false\" aria-label=\"3 out of 5\" class=\"b3f3c831be\" tabindex=\"0\"><div aria-hidden=\"true\" class=\"a455730030\" data-testid=\"rating-squares\" role=\"img\"><span aria-hidden=\"true\" class=\"fcd9eec8fb d31eda6efc c25361c37f\"><svg viewbox=\"0 0 112 128\" xmlns=\"http://www.w3.org/2000/svg\"><path d=\"M96 8H16A16 16 0 0 0 0 24v96h96a16 16 0 0 0 16-16V24A16 16 0 0 0 96 8M56 88a24 24 0 1 1 24-24 24 24 0 0 1-24 24\"></path></svg></span><span aria-hidden=\"true\" class=\"fcd9eec8fb d31eda6efc c25361c37f\"><svg viewbox=\"0 0 112 128\" xmlns=\"http://www.w3.org/2000/svg\"><path d=\"M96 8H16A16 16 0 0 0 0 24v96h96a16 16 0 0 0 16-16V24A16 16 0 0 0 96 8M56 88a24 24 0 1 1 24-24 24 24 0 0 1-24 24\"></path></svg></span><span aria-hidden=\"true\" class=\"fcd9eec8fb d31eda6efc c25361c37f\"><svg viewbox=\"0 0 112 128\" xmlns=\"http://www.w3.org/2000/svg\"><path d=\"M96 8H16A16 16 0 0 0 0 24v96h96a16 16 0 0 0 16-16V24A16 16 0 0 0 96 8M56 88a24 24 0 1 1 24-24 24 24 0 0 1-24 24\"></path></svg></span></div></div></span>, <span class=\"f419a93f12\"><span aria-expanded=\"false\" data-testid=\"preferred-badge\" role=\"button\" tabindex=\"0\"><span aria-label=\"This property is part of our Preferred Plus Programme. It is committed to providing outstanding service and excellent value. It will pay us a higher commission if you make a booking.\" class=\"fcd9eec8fb c2a6770498 b3d142134a c2cc050fb8 e410954d4b\" role=\"img\"><svg viewbox=\"0 0 32 18\" xmlns=\"http://www.w3.org/2000/svg\"><path clip-rule=\"evenodd\" d=\"M0 2.252A2.25 2.25 0 0 1 2.252 0h13.496q.104 0 .204.01.102-.01.205-.01h13.496a2.25 2.25 0 0 1 2.252 2.252v13.496A2.25 2.25 0 0 1 29.653 18H16.157q-.102 0-.204-.01-.101.01-.205.01H2.252A2.25 2.25 0 0 1 0 15.748zm7.335 11.293h4.801c1.413 0 1.413-1.129 1.413-1.129 1.13-.564.564-1.693.564-1.693.848-.847 0-1.694 0-1.694.565-.847 0-1.693-.847-1.693H9.594l.565-1.976c.565-1.693-1.13-2.258-1.694-.282l-1.13 3.387zM3.915 8.46v5.085h2.79V8.46zM21.99 6c0-.433 0-.65.064-.823.105-.284.329-.508.613-.613.173-.064.39-.064.823-.064s.65 0 .823.064c.284.105.509.329.613.613.064.173.064.39.064.823v1.5h1.5c.433 0 .65 0 .823.064.284.105.509.329.613.613.064.173.064.39.064.823s0 .65-.064.823a1.03 1.03 0 0 1-.613.613c-.173.064-.39.064-.823.064h-1.5V12c0 .433 0 .65-.064.823a1.03 1.03 0 0 1-.613.613c-.173.064-.39.064-.823.064s-.65 0-.823-.064a1.03 1.03 0 0 1-.613-.613c-.064-.174-.064-.39-.064-.823v-1.5h-1.5c-.433 0-.65 0-.823-.064a1.03 1.03 0 0 1-.613-.613c-.064-.173-.064-.39-.064-.823s0-.65.064-.823c.105-.284.329-.508.613-.613.173-.064.39-.064.823-.064h1.5z\" fill=\"#FEBB02\" fill-rule=\"evenodd\"></path></svg></span></span></span>, <span class=\"f419a93f12\"><span aria-expanded=\"false\" data-testid=\"distance\">22.1 km from centre</span></span>, <span class=\"f419a93f12\"><button aria-expanded=\"false\" class=\"a83ed08757 c21c56c305 a4c1805887 ab98298258 deab83296e c082d89982 da018e8680\" type=\"button\"><span class=\"e4adce92df\">Show prices</span></button></span>, <span class=\"f419a93f12\"><button aria-expanded=\"false\" aria-label=\"Save the property\" class=\"a83ed08757 c21c56c305 bd3a1c7108 d691166b09 ab98298258 deab83296e fe94449254\" data-testid=\"wishlist-button\" type=\"button\"><span class=\"eedba9e88a\"><span aria-hidden=\"true\" class=\"fcd9eec8fb bf9a32efa5\"><svg viewbox=\"0 0 24 24\" xmlns=\"http://www.w3.org/2000/svg\"><path d=\"m12.541 21.325-9.588-10a4.923 4.923 0 1 1 6.95-6.976l1.567 1.566a.75.75 0 0 0 1.06 0l1.566-1.566a4.923 4.923 0 0 1 6.963 6.962l-9.6 10.014zm-1.082 1.038a.75.75 0 0 0 1.082 0l9.59-10.003a6.42 6.42 0 0 0-.012-9.07 6.423 6.423 0 0 0-9.083-.001L11.47 4.854h1.06l-1.566-1.566a6.423 6.423 0 1 0-9.082 9.086l9.577 9.99z\"></path></svg></span></span></button></span>, <span class=\"f419a93f12\"><div aria-expanded=\"false\" aria-label=\"3 out of 5\" class=\"b3f3c831be\" tabindex=\"0\"><div aria-hidden=\"true\" class=\"a455730030\" data-testid=\"rating-squares\" role=\"img\"><span aria-hidden=\"true\" class=\"fcd9eec8fb d31eda6efc c25361c37f\"><svg viewbox=\"0 0 112 128\" xmlns=\"http://www.w3.org/2000/svg\"><path d=\"M96 8H16A16 16 0 0 0 0 24v96h96a16 16 0 0 0 16-16V24A16 16 0 0 0 96 8M56 88a24 24 0 1 1 24-24 24 24 0 0 1-24 24\"></path></svg></span><span aria-hidden=\"true\" class=\"fcd9eec8fb d31eda6efc c25361c37f\"><svg viewbox=\"0 0 112 128\" xmlns=\"http://www.w3.org/2000/svg\"><path d=\"M96 8H16A16 16 0 0 0 0 24v96h96a16 16 0 0 0 16-16V24A16 16 0 0 0 96 8M56 88a24 24 0 1 1 24-24 24 24 0 0 1-24 24\"></path></svg></span><span aria-hidden=\"true\" class=\"fcd9eec8fb d31eda6efc c25361c37f\"><svg viewbox=\"0 0 112 128\" xmlns=\"http://www.w3.org/2000/svg\"><path d=\"M96 8H16A16 16 0 0 0 0 24v96h96a16 16 0 0 0 16-16V24A16 16 0 0 0 96 8M56 88a24 24 0 1 1 24-24 24 24 0 0 1-24 24\"></path></svg></span></div></div></span>, <span class=\"f419a93f12\"><span aria-expanded=\"false\" data-testid=\"preferred-badge\" role=\"button\" tabindex=\"0\"><span aria-label=\"This property is part of our Preferred Partner Programme. It is committed to providing commendable service and good value. It will pay us a higher commission if you make a booking.\" class=\"fcd9eec8fb c2a6770498 c2cc050fb8 e410954d4b\" role=\"img\"><svg height=\"1em\" viewbox=\"0 0 128 128\" width=\"1em\"><path d=\"M112 8H16a8 8 0 0 0-8 8v96a8 8 0 0 0 8 8h96a8 8 0 0 0 8-8V16a8 8 0 0 0-8-8zM48 96H24V58h24zm56-25a8.7 8.7 0 0 1-2 6 8.9 8.9 0 0 1 1 4 6.9 6.9 0 0 1-5 7c-.5 4-4.8 8-9 8H56V58l10.3-23.3a5.4 5.4 0 0 1 10.1 2.7 10.3 10.3 0 0 1-.6 2.7L72 52h23c4.5 0 9 3.5 9 8a9.2 9.2 0 0 1-2 5.3 7.5 7.5 0 0 1 2 5.7z\"></path></svg></span></span></span>, <span class=\"f419a93f12\"><span aria-expanded=\"false\" data-testid=\"distance\">17.1 km from centre</span></span>, <span class=\"f419a93f12\"><button aria-expanded=\"false\" class=\"a83ed08757 c21c56c305 a4c1805887 ab98298258 deab83296e c082d89982 da018e8680\" type=\"button\"><span class=\"e4adce92df\">Show prices</span></button></span>, <span class=\"f419a93f12\"><button aria-expanded=\"false\" aria-label=\"Save the property\" class=\"a83ed08757 c21c56c305 bd3a1c7108 d691166b09 ab98298258 deab83296e fe94449254\" data-testid=\"wishlist-button\" type=\"button\"><span class=\"eedba9e88a\"><span aria-hidden=\"true\" class=\"fcd9eec8fb bf9a32efa5\"><svg viewbox=\"0 0 24 24\" xmlns=\"http://www.w3.org/2000/svg\"><path d=\"m12.541 21.325-9.588-10a4.923 4.923 0 1 1 6.95-6.976l1.567 1.566a.75.75 0 0 0 1.06 0l1.566-1.566a4.923 4.923 0 0 1 6.963 6.962l-9.6 10.014zm-1.082 1.038a.75.75 0 0 0 1.082 0l9.59-10.003a6.42 6.42 0 0 0-.012-9.07 6.423 6.423 0 0 0-9.083-.001L11.47 4.854h1.06l-1.566-1.566a6.423 6.423 0 1 0-9.082 9.086l9.577 9.99z\"></path></svg></span></span></button></span>, <span class=\"f419a93f12\"><div aria-expanded=\"false\" aria-label=\"4 out of 5\" class=\"b3f3c831be\" tabindex=\"0\"><div aria-hidden=\"true\" class=\"a455730030\" data-testid=\"rating-stars\" role=\"img\"><span aria-hidden=\"true\" class=\"fcd9eec8fb d31eda6efc c25361c37f\"><svg viewbox=\"0 0 24 24\" xmlns=\"http://www.w3.org/2000/svg\"><path d=\"M23.555 8.729a1.505 1.505 0 0 0-1.406-.98h-6.087a.5.5 0 0 1-.472-.334l-2.185-6.193a1.5 1.5 0 0 0-2.81 0l-.005.016-2.18 6.177a.5.5 0 0 1-.471.334H1.85A1.5 1.5 0 0 0 .887 10.4l5.184 4.3a.5.5 0 0 1 .155.543l-2.178 6.531a1.5 1.5 0 0 0 2.31 1.684l5.346-3.92a.5.5 0 0 1 .591 0l5.344 3.919a1.5 1.5 0 0 0 2.312-1.683l-2.178-6.535a.5.5 0 0 1 .155-.543l5.194-4.306a1.5 1.5 0 0 0 .433-1.661\"></path></svg></span><span aria-hidden=\"true\" class=\"fcd9eec8fb d31eda6efc c25361c37f\"><svg viewbox=\"0 0 24 24\" xmlns=\"http://www.w3.org/2000/svg\"><path d=\"M23.555 8.729a1.505 1.505 0 0 0-1.406-.98h-6.087a.5.5 0 0 1-.472-.334l-2.185-6.193a1.5 1.5 0 0 0-2.81 0l-.005.016-2.18 6.177a.5.5 0 0 1-.471.334H1.85A1.5 1.5 0 0 0 .887 10.4l5.184 4.3a.5.5 0 0 1 .155.543l-2.178 6.531a1.5 1.5 0 0 0 2.31 1.684l5.346-3.92a.5.5 0 0 1 .591 0l5.344 3.919a1.5 1.5 0 0 0 2.312-1.683l-2.178-6.535a.5.5 0 0 1 .155-.543l5.194-4.306a1.5 1.5 0 0 0 .433-1.661\"></path></svg></span><span aria-hidden=\"true\" class=\"fcd9eec8fb d31eda6efc c25361c37f\"><svg viewbox=\"0 0 24 24\" xmlns=\"http://www.w3.org/2000/svg\"><path d=\"M23.555 8.729a1.505 1.505 0 0 0-1.406-.98h-6.087a.5.5 0 0 1-.472-.334l-2.185-6.193a1.5 1.5 0 0 0-2.81 0l-.005.016-2.18 6.177a.5.5 0 0 1-.471.334H1.85A1.5 1.5 0 0 0 .887 10.4l5.184 4.3a.5.5 0 0 1 .155.543l-2.178 6.531a1.5 1.5 0 0 0 2.31 1.684l5.346-3.92a.5.5 0 0 1 .591 0l5.344 3.919a1.5 1.5 0 0 0 2.312-1.683l-2.178-6.535a.5.5 0 0 1 .155-.543l5.194-4.306a1.5 1.5 0 0 0 .433-1.661\"></path></svg></span><span aria-hidden=\"true\" class=\"fcd9eec8fb d31eda6efc c25361c37f\"><svg viewbox=\"0 0 24 24\" xmlns=\"http://www.w3.org/2000/svg\"><path d=\"M23.555 8.729a1.505 1.505 0 0 0-1.406-.98h-6.087a.5.5 0 0 1-.472-.334l-2.185-6.193a1.5 1.5 0 0 0-2.81 0l-.005.016-2.18 6.177a.5.5 0 0 1-.471.334H1.85A1.5 1.5 0 0 0 .887 10.4l5.184 4.3a.5.5 0 0 1 .155.543l-2.178 6.531a1.5 1.5 0 0 0 2.31 1.684l5.346-3.92a.5.5 0 0 1 .591 0l5.344 3.919a1.5 1.5 0 0 0 2.312-1.683l-2.178-6.535a.5.5 0 0 1 .155-.543l5.194-4.306a1.5 1.5 0 0 0 .433-1.661\"></path></svg></span></div></div></span>, <span class=\"f419a93f12\"><span aria-expanded=\"false\" data-testid=\"preferred-badge\" role=\"button\" tabindex=\"0\"><span aria-label=\"This property is part of our Preferred Partner Programme. It is committed to providing commendable service and good value. It will pay us a higher commission if you make a booking.\" class=\"fcd9eec8fb c2a6770498 c2cc050fb8 e410954d4b\" role=\"img\"><svg height=\"1em\" viewbox=\"0 0 128 128\" width=\"1em\"><path d=\"M112 8H16a8 8 0 0 0-8 8v96a8 8 0 0 0 8 8h96a8 8 0 0 0 8-8V16a8 8 0 0 0-8-8zM48 96H24V58h24zm56-25a8.7 8.7 0 0 1-2 6 8.9 8.9 0 0 1 1 4 6.9 6.9 0 0 1-5 7c-.5 4-4.8 8-9 8H56V58l10.3-23.3a5.4 5.4 0 0 1 10.1 2.7 10.3 10.3 0 0 1-.6 2.7L72 52h23c4.5 0 9 3.5 9 8a9.2 9.2 0 0 1-2 5.3 7.5 7.5 0 0 1 2 5.7z\"></path></svg></span></span></span>, <span class=\"f419a93f12\"><span aria-expanded=\"false\" data-testid=\"distance\">0.5 km from centre</span></span>, <span class=\"f419a93f12\"><button aria-expanded=\"false\" class=\"a83ed08757 c21c56c305 a4c1805887 ab98298258 deab83296e c082d89982 da018e8680\" type=\"button\"><span class=\"e4adce92df\">Show prices</span></button></span>, <span class=\"f419a93f12\"><button aria-expanded=\"false\" aria-label=\"Save the property\" class=\"a83ed08757 c21c56c305 bd3a1c7108 d691166b09 ab98298258 deab83296e fe94449254\" data-testid=\"wishlist-button\" type=\"button\"><span class=\"eedba9e88a\"><span aria-hidden=\"true\" class=\"fcd9eec8fb bf9a32efa5\"><svg viewbox=\"0 0 24 24\" xmlns=\"http://www.w3.org/2000/svg\"><path d=\"m12.541 21.325-9.588-10a4.923 4.923 0 1 1 6.95-6.976l1.567 1.566a.75.75 0 0 0 1.06 0l1.566-1.566a4.923 4.923 0 0 1 6.963 6.962l-9.6 10.014zm-1.082 1.038a.75.75 0 0 0 1.082 0l9.59-10.003a6.42 6.42 0 0 0-.012-9.07 6.423 6.423 0 0 0-9.083-.001L11.47 4.854h1.06l-1.566-1.566a6.423 6.423 0 1 0-9.082 9.086l9.577 9.99z\"></path></svg></span></span></button></span>, <span class=\"f419a93f12\"><div aria-expanded=\"false\" aria-label=\"3 out of 5\" class=\"b3f3c831be\" tabindex=\"0\"><div aria-hidden=\"true\" class=\"a455730030\" data-testid=\"rating-stars\" role=\"img\"><span aria-hidden=\"true\" class=\"fcd9eec8fb d31eda6efc c25361c37f\"><svg viewbox=\"0 0 24 24\" xmlns=\"http://www.w3.org/2000/svg\"><path d=\"M23.555 8.729a1.505 1.505 0 0 0-1.406-.98h-6.087a.5.5 0 0 1-.472-.334l-2.185-6.193a1.5 1.5 0 0 0-2.81 0l-.005.016-2.18 6.177a.5.5 0 0 1-.471.334H1.85A1.5 1.5 0 0 0 .887 10.4l5.184 4.3a.5.5 0 0 1 .155.543l-2.178 6.531a1.5 1.5 0 0 0 2.31 1.684l5.346-3.92a.5.5 0 0 1 .591 0l5.344 3.919a1.5 1.5 0 0 0 2.312-1.683l-2.178-6.535a.5.5 0 0 1 .155-.543l5.194-4.306a1.5 1.5 0 0 0 .433-1.661\"></path></svg></span><span aria-hidden=\"true\" class=\"fcd9eec8fb d31eda6efc c25361c37f\"><svg viewbox=\"0 0 24 24\" xmlns=\"http://www.w3.org/2000/svg\"><path d=\"M23.555 8.729a1.505 1.505 0 0 0-1.406-.98h-6.087a.5.5 0 0 1-.472-.334l-2.185-6.193a1.5 1.5 0 0 0-2.81 0l-.005.016-2.18 6.177a.5.5 0 0 1-.471.334H1.85A1.5 1.5 0 0 0 .887 10.4l5.184 4.3a.5.5 0 0 1 .155.543l-2.178 6.531a1.5 1.5 0 0 0 2.31 1.684l5.346-3.92a.5.5 0 0 1 .591 0l5.344 3.919a1.5 1.5 0 0 0 2.312-1.683l-2.178-6.535a.5.5 0 0 1 .155-.543l5.194-4.306a1.5 1.5 0 0 0 .433-1.661\"></path></svg></span><span aria-hidden=\"true\" class=\"fcd9eec8fb d31eda6efc c25361c37f\"><svg viewbox=\"0 0 24 24\" xmlns=\"http://www.w3.org/2000/svg\"><path d=\"M23.555 8.729a1.505 1.505 0 0 0-1.406-.98h-6.087a.5.5 0 0 1-.472-.334l-2.185-6.193a1.5 1.5 0 0 0-2.81 0l-.005.016-2.18 6.177a.5.5 0 0 1-.471.334H1.85A1.5 1.5 0 0 0 .887 10.4l5.184 4.3a.5.5 0 0 1 .155.543l-2.178 6.531a1.5 1.5 0 0 0 2.31 1.684l5.346-3.92a.5.5 0 0 1 .591 0l5.344 3.919a1.5 1.5 0 0 0 2.312-1.683l-2.178-6.535a.5.5 0 0 1 .155-.543l5.194-4.306a1.5 1.5 0 0 0 .433-1.661\"></path></svg></span></div></div></span>, <span class=\"f419a93f12\"><span aria-expanded=\"false\" data-testid=\"preferred-badge\" role=\"button\" tabindex=\"0\"><span aria-label=\"This property is part of our Preferred Partner Programme. It is committed to providing commendable service and good value. It will pay us a higher commission if you make a booking.\" class=\"fcd9eec8fb c2a6770498 c2cc050fb8 e410954d4b\" role=\"img\"><svg height=\"1em\" viewbox=\"0 0 128 128\" width=\"1em\"><path d=\"M112 8H16a8 8 0 0 0-8 8v96a8 8 0 0 0 8 8h96a8 8 0 0 0 8-8V16a8 8 0 0 0-8-8zM48 96H24V58h24zm56-25a8.7 8.7 0 0 1-2 6 8.9 8.9 0 0 1 1 4 6.9 6.9 0 0 1-5 7c-.5 4-4.8 8-9 8H56V58l10.3-23.3a5.4 5.4 0 0 1 10.1 2.7 10.3 10.3 0 0 1-.6 2.7L72 52h23c4.5 0 9 3.5 9 8a9.2 9.2 0 0 1-2 5.3 7.5 7.5 0 0 1 2 5.7z\"></path></svg></span></span></span>, <span class=\"f419a93f12\"><span aria-expanded=\"false\" data-testid=\"distance\">4.7 km from centre</span></span>, <span class=\"f419a93f12\"><button aria-expanded=\"false\" class=\"a83ed08757 c21c56c305 a4c1805887 ab98298258 deab83296e c082d89982 da018e8680\" type=\"button\"><span class=\"e4adce92df\">Show prices</span></button></span>, <span class=\"f419a93f12\"><button aria-expanded=\"false\" aria-label=\"Save the property\" class=\"a83ed08757 c21c56c305 bd3a1c7108 d691166b09 ab98298258 deab83296e fe94449254\" data-testid=\"wishlist-button\" type=\"button\"><span class=\"eedba9e88a\"><span aria-hidden=\"true\" class=\"fcd9eec8fb bf9a32efa5\"><svg viewbox=\"0 0 24 24\" xmlns=\"http://www.w3.org/2000/svg\"><path d=\"m12.541 21.325-9.588-10a4.923 4.923 0 1 1 6.95-6.976l1.567 1.566a.75.75 0 0 0 1.06 0l1.566-1.566a4.923 4.923 0 0 1 6.963 6.962l-9.6 10.014zm-1.082 1.038a.75.75 0 0 0 1.082 0l9.59-10.003a6.42 6.42 0 0 0-.012-9.07 6.423 6.423 0 0 0-9.083-.001L11.47 4.854h1.06l-1.566-1.566a6.423 6.423 0 1 0-9.082 9.086l9.577 9.99z\"></path></svg></span></span></button></span>, <span class=\"f419a93f12\"><div aria-expanded=\"false\" aria-label=\"4 out of 5\" class=\"b3f3c831be\" tabindex=\"0\"><div aria-hidden=\"true\" class=\"a455730030\" data-testid=\"rating-squares\" role=\"img\"><span aria-hidden=\"true\" class=\"fcd9eec8fb d31eda6efc c25361c37f\"><svg viewbox=\"0 0 112 128\" xmlns=\"http://www.w3.org/2000/svg\"><path d=\"M96 8H16A16 16 0 0 0 0 24v96h96a16 16 0 0 0 16-16V24A16 16 0 0 0 96 8M56 88a24 24 0 1 1 24-24 24 24 0 0 1-24 24\"></path></svg></span><span aria-hidden=\"true\" class=\"fcd9eec8fb d31eda6efc c25361c37f\"><svg viewbox=\"0 0 112 128\" xmlns=\"http://www.w3.org/2000/svg\"><path d=\"M96 8H16A16 16 0 0 0 0 24v96h96a16 16 0 0 0 16-16V24A16 16 0 0 0 96 8M56 88a24 24 0 1 1 24-24 24 24 0 0 1-24 24\"></path></svg></span><span aria-hidden=\"true\" class=\"fcd9eec8fb d31eda6efc c25361c37f\"><svg viewbox=\"0 0 112 128\" xmlns=\"http://www.w3.org/2000/svg\"><path d=\"M96 8H16A16 16 0 0 0 0 24v96h96a16 16 0 0 0 16-16V24A16 16 0 0 0 96 8M56 88a24 24 0 1 1 24-24 24 24 0 0 1-24 24\"></path></svg></span><span aria-hidden=\"true\" class=\"fcd9eec8fb d31eda6efc c25361c37f\"><svg viewbox=\"0 0 112 128\" xmlns=\"http://www.w3.org/2000/svg\"><path d=\"M96 8H16A16 16 0 0 0 0 24v96h96a16 16 0 0 0 16-16V24A16 16 0 0 0 96 8M56 88a24 24 0 1 1 24-24 24 24 0 0 1-24 24\"></path></svg></span></div></div></span>, <span class=\"f419a93f12\"><span aria-expanded=\"false\" data-testid=\"preferred-badge\" role=\"button\" tabindex=\"0\"><span aria-label=\"This property is part of our Preferred Plus Programme. It is committed to providing outstanding service and excellent value. It will pay us a higher commission if you make a booking.\" class=\"fcd9eec8fb c2a6770498 b3d142134a c2cc050fb8 e410954d4b\" role=\"img\"><svg viewbox=\"0 0 32 18\" xmlns=\"http://www.w3.org/2000/svg\"><path clip-rule=\"evenodd\" d=\"M0 2.252A2.25 2.25 0 0 1 2.252 0h13.496q.104 0 .204.01.102-.01.205-.01h13.496a2.25 2.25 0 0 1 2.252 2.252v13.496A2.25 2.25 0 0 1 29.653 18H16.157q-.102 0-.204-.01-.101.01-.205.01H2.252A2.25 2.25 0 0 1 0 15.748zm7.335 11.293h4.801c1.413 0 1.413-1.129 1.413-1.129 1.13-.564.564-1.693.564-1.693.848-.847 0-1.694 0-1.694.565-.847 0-1.693-.847-1.693H9.594l.565-1.976c.565-1.693-1.13-2.258-1.694-.282l-1.13 3.387zM3.915 8.46v5.085h2.79V8.46zM21.99 6c0-.433 0-.65.064-.823.105-.284.329-.508.613-.613.173-.064.39-.064.823-.064s.65 0 .823.064c.284.105.509.329.613.613.064.173.064.39.064.823v1.5h1.5c.433 0 .65 0 .823.064.284.105.509.329.613.613.064.173.064.39.064.823s0 .65-.064.823a1.03 1.03 0 0 1-.613.613c-.173.064-.39.064-.823.064h-1.5V12c0 .433 0 .65-.064.823a1.03 1.03 0 0 1-.613.613c-.173.064-.39.064-.823.064s-.65 0-.823-.064a1.03 1.03 0 0 1-.613-.613c-.064-.174-.064-.39-.064-.823v-1.5h-1.5c-.433 0-.65 0-.823-.064a1.03 1.03 0 0 1-.613-.613c-.064-.173-.064-.39-.064-.823s0-.65.064-.823c.105-.284.329-.508.613-.613.173-.064.39-.064.823-.064h1.5z\" fill=\"#FEBB02\" fill-rule=\"evenodd\"></path></svg></span></span></span>, <span class=\"f419a93f12\"><span aria-expanded=\"false\" data-testid=\"distance\">11.3 km from centre</span></span>, <span class=\"f419a93f12\"><button aria-expanded=\"false\" class=\"a83ed08757 c21c56c305 a4c1805887 ab98298258 deab83296e c082d89982 da018e8680\" type=\"button\"><span class=\"e4adce92df\">Show prices</span></button></span>, <span class=\"f419a93f12\"><button aria-expanded=\"false\" aria-label=\"Save the property\" class=\"a83ed08757 c21c56c305 bd3a1c7108 d691166b09 ab98298258 deab83296e fe94449254\" data-testid=\"wishlist-button\" type=\"button\"><span class=\"eedba9e88a\"><span aria-hidden=\"true\" class=\"fcd9eec8fb bf9a32efa5\"><svg viewbox=\"0 0 24 24\" xmlns=\"http://www.w3.org/2000/svg\"><path d=\"m12.541 21.325-9.588-10a4.923 4.923 0 1 1 6.95-6.976l1.567 1.566a.75.75 0 0 0 1.06 0l1.566-1.566a4.923 4.923 0 0 1 6.963 6.962l-9.6 10.014zm-1.082 1.038a.75.75 0 0 0 1.082 0l9.59-10.003a6.42 6.42 0 0 0-.012-9.07 6.423 6.423 0 0 0-9.083-.001L11.47 4.854h1.06l-1.566-1.566a6.423 6.423 0 1 0-9.082 9.086l9.577 9.99z\"></path></svg></span></span></button></span>, <span class=\"f419a93f12\"><div aria-expanded=\"false\" aria-label=\"4 out of 5\" class=\"b3f3c831be\" tabindex=\"0\"><div aria-hidden=\"true\" class=\"a455730030\" data-testid=\"rating-stars\" role=\"img\"><span aria-hidden=\"true\" class=\"fcd9eec8fb d31eda6efc c25361c37f\"><svg viewbox=\"0 0 24 24\" xmlns=\"http://www.w3.org/2000/svg\"><path d=\"M23.555 8.729a1.505 1.505 0 0 0-1.406-.98h-6.087a.5.5 0 0 1-.472-.334l-2.185-6.193a1.5 1.5 0 0 0-2.81 0l-.005.016-2.18 6.177a.5.5 0 0 1-.471.334H1.85A1.5 1.5 0 0 0 .887 10.4l5.184 4.3a.5.5 0 0 1 .155.543l-2.178 6.531a1.5 1.5 0 0 0 2.31 1.684l5.346-3.92a.5.5 0 0 1 .591 0l5.344 3.919a1.5 1.5 0 0 0 2.312-1.683l-2.178-6.535a.5.5 0 0 1 .155-.543l5.194-4.306a1.5 1.5 0 0 0 .433-1.661\"></path></svg></span><span aria-hidden=\"true\" class=\"fcd9eec8fb d31eda6efc c25361c37f\"><svg viewbox=\"0 0 24 24\" xmlns=\"http://www.w3.org/2000/svg\"><path d=\"M23.555 8.729a1.505 1.505 0 0 0-1.406-.98h-6.087a.5.5 0 0 1-.472-.334l-2.185-6.193a1.5 1.5 0 0 0-2.81 0l-.005.016-2.18 6.177a.5.5 0 0 1-.471.334H1.85A1.5 1.5 0 0 0 .887 10.4l5.184 4.3a.5.5 0 0 1 .155.543l-2.178 6.531a1.5 1.5 0 0 0 2.31 1.684l5.346-3.92a.5.5 0 0 1 .591 0l5.344 3.919a1.5 1.5 0 0 0 2.312-1.683l-2.178-6.535a.5.5 0 0 1 .155-.543l5.194-4.306a1.5 1.5 0 0 0 .433-1.661\"></path></svg></span><span aria-hidden=\"true\" class=\"fcd9eec8fb d31eda6efc c25361c37f\"><svg viewbox=\"0 0 24 24\" xmlns=\"http://www.w3.org/2000/svg\"><path d=\"M23.555 8.729a1.505 1.505 0 0 0-1.406-.98h-6.087a.5.5 0 0 1-.472-.334l-2.185-6.193a1.5 1.5 0 0 0-2.81 0l-.005.016-2.18 6.177a.5.5 0 0 1-.471.334H1.85A1.5 1.5 0 0 0 .887 10.4l5.184 4.3a.5.5 0 0 1 .155.543l-2.178 6.531a1.5 1.5 0 0 0 2.31 1.684l5.346-3.92a.5.5 0 0 1 .591 0l5.344 3.919a1.5 1.5 0 0 0 2.312-1.683l-2.178-6.535a.5.5 0 0 1 .155-.543l5.194-4.306a1.5 1.5 0 0 0 .433-1.661\"></path></svg></span><span aria-hidden=\"true\" class=\"fcd9eec8fb d31eda6efc c25361c37f\"><svg viewbox=\"0 0 24 24\" xmlns=\"http://www.w3.org/2000/svg\"><path d=\"M23.555 8.729a1.505 1.505 0 0 0-1.406-.98h-6.087a.5.5 0 0 1-.472-.334l-2.185-6.193a1.5 1.5 0 0 0-2.81 0l-.005.016-2.18 6.177a.5.5 0 0 1-.471.334H1.85A1.5 1.5 0 0 0 .887 10.4l5.184 4.3a.5.5 0 0 1 .155.543l-2.178 6.531a1.5 1.5 0 0 0 2.31 1.684l5.346-3.92a.5.5 0 0 1 .591 0l5.344 3.919a1.5 1.5 0 0 0 2.312-1.683l-2.178-6.535a.5.5 0 0 1 .155-.543l5.194-4.306a1.5 1.5 0 0 0 .433-1.661\"></path></svg></span></div></div></span>, <span class=\"f419a93f12\"><span aria-expanded=\"false\" data-testid=\"preferred-badge\" role=\"button\" tabindex=\"0\"><span aria-label=\"This property is part of our Preferred Partner Programme. It is committed to providing commendable service and good value. It will pay us a higher commission if you make a booking.\" class=\"fcd9eec8fb c2a6770498 c2cc050fb8 e410954d4b\" role=\"img\"><svg height=\"1em\" viewbox=\"0 0 128 128\" width=\"1em\"><path d=\"M112 8H16a8 8 0 0 0-8 8v96a8 8 0 0 0 8 8h96a8 8 0 0 0 8-8V16a8 8 0 0 0-8-8zM48 96H24V58h24zm56-25a8.7 8.7 0 0 1-2 6 8.9 8.9 0 0 1 1 4 6.9 6.9 0 0 1-5 7c-.5 4-4.8 8-9 8H56V58l10.3-23.3a5.4 5.4 0 0 1 10.1 2.7 10.3 10.3 0 0 1-.6 2.7L72 52h23c4.5 0 9 3.5 9 8a9.2 9.2 0 0 1-2 5.3 7.5 7.5 0 0 1 2 5.7z\"></path></svg></span></span></span>, <span class=\"f419a93f12\"><span aria-expanded=\"false\" data-testid=\"distance\">4 km from centre</span></span>, <span class=\"f419a93f12\"><button aria-expanded=\"false\" class=\"a83ed08757 c21c56c305 a4c1805887 ab98298258 deab83296e c082d89982 da018e8680\" type=\"button\"><span class=\"e4adce92df\">Show prices</span></button></span>, <span class=\"f419a93f12\"><button aria-expanded=\"false\" aria-label=\"Save the property\" class=\"a83ed08757 c21c56c305 bd3a1c7108 d691166b09 ab98298258 deab83296e fe94449254\" data-testid=\"wishlist-button\" type=\"button\"><span class=\"eedba9e88a\"><span aria-hidden=\"true\" class=\"fcd9eec8fb bf9a32efa5\"><svg viewbox=\"0 0 24 24\" xmlns=\"http://www.w3.org/2000/svg\"><path d=\"m12.541 21.325-9.588-10a4.923 4.923 0 1 1 6.95-6.976l1.567 1.566a.75.75 0 0 0 1.06 0l1.566-1.566a4.923 4.923 0 0 1 6.963 6.962l-9.6 10.014zm-1.082 1.038a.75.75 0 0 0 1.082 0l9.59-10.003a6.42 6.42 0 0 0-.012-9.07 6.423 6.423 0 0 0-9.083-.001L11.47 4.854h1.06l-1.566-1.566a6.423 6.423 0 1 0-9.082 9.086l9.577 9.99z\"></path></svg></span></span></button></span>, <span class=\"f419a93f12\"><div aria-expanded=\"false\" aria-label=\"3 out of 5\" class=\"b3f3c831be\" tabindex=\"0\"><div aria-hidden=\"true\" class=\"a455730030\" data-testid=\"rating-squares\" role=\"img\"><span aria-hidden=\"true\" class=\"fcd9eec8fb d31eda6efc c25361c37f\"><svg viewbox=\"0 0 112 128\" xmlns=\"http://www.w3.org/2000/svg\"><path d=\"M96 8H16A16 16 0 0 0 0 24v96h96a16 16 0 0 0 16-16V24A16 16 0 0 0 96 8M56 88a24 24 0 1 1 24-24 24 24 0 0 1-24 24\"></path></svg></span><span aria-hidden=\"true\" class=\"fcd9eec8fb d31eda6efc c25361c37f\"><svg viewbox=\"0 0 112 128\" xmlns=\"http://www.w3.org/2000/svg\"><path d=\"M96 8H16A16 16 0 0 0 0 24v96h96a16 16 0 0 0 16-16V24A16 16 0 0 0 96 8M56 88a24 24 0 1 1 24-24 24 24 0 0 1-24 24\"></path></svg></span><span aria-hidden=\"true\" class=\"fcd9eec8fb d31eda6efc c25361c37f\"><svg viewbox=\"0 0 112 128\" xmlns=\"http://www.w3.org/2000/svg\"><path d=\"M96 8H16A16 16 0 0 0 0 24v96h96a16 16 0 0 0 16-16V24A16 16 0 0 0 96 8M56 88a24 24 0 1 1 24-24 24 24 0 0 1-24 24\"></path></svg></span></div></div></span>, <span class=\"f419a93f12\"><span aria-expanded=\"false\" data-testid=\"preferred-badge\" role=\"button\" tabindex=\"0\"><span aria-label=\"This property is part of our Preferred Partner Programme. It is committed to providing commendable service and good value. It will pay us a higher commission if you make a booking.\" class=\"fcd9eec8fb c2a6770498 c2cc050fb8 e410954d4b\" role=\"img\"><svg height=\"1em\" viewbox=\"0 0 128 128\" width=\"1em\"><path d=\"M112 8H16a8 8 0 0 0-8 8v96a8 8 0 0 0 8 8h96a8 8 0 0 0 8-8V16a8 8 0 0 0-8-8zM48 96H24V58h24zm56-25a8.7 8.7 0 0 1-2 6 8.9 8.9 0 0 1 1 4 6.9 6.9 0 0 1-5 7c-.5 4-4.8 8-9 8H56V58l10.3-23.3a5.4 5.4 0 0 1 10.1 2.7 10.3 10.3 0 0 1-.6 2.7L72 52h23c4.5 0 9 3.5 9 8a9.2 9.2 0 0 1-2 5.3 7.5 7.5 0 0 1 2 5.7z\"></path></svg></span></span></span>, <span class=\"f419a93f12\"><span aria-expanded=\"false\" data-testid=\"distance\">16.1 km from centre</span></span>, <span class=\"f419a93f12\"><button aria-expanded=\"false\" class=\"a83ed08757 c21c56c305 a4c1805887 ab98298258 deab83296e c082d89982 da018e8680\" type=\"button\"><span class=\"e4adce92df\">Show prices</span></button></span>, <span class=\"f419a93f12\"><button aria-expanded=\"false\" aria-label=\"Save the property\" class=\"a83ed08757 c21c56c305 bd3a1c7108 d691166b09 ab98298258 deab83296e fe94449254\" data-testid=\"wishlist-button\" type=\"button\"><span class=\"eedba9e88a\"><span aria-hidden=\"true\" class=\"fcd9eec8fb bf9a32efa5\"><svg viewbox=\"0 0 24 24\" xmlns=\"http://www.w3.org/2000/svg\"><path d=\"m12.541 21.325-9.588-10a4.923 4.923 0 1 1 6.95-6.976l1.567 1.566a.75.75 0 0 0 1.06 0l1.566-1.566a4.923 4.923 0 0 1 6.963 6.962l-9.6 10.014zm-1.082 1.038a.75.75 0 0 0 1.082 0l9.59-10.003a6.42 6.42 0 0 0-.012-9.07 6.423 6.423 0 0 0-9.083-.001L11.47 4.854h1.06l-1.566-1.566a6.423 6.423 0 1 0-9.082 9.086l9.577 9.99z\"></path></svg></span></span></button></span>, <span class=\"f419a93f12\"><div aria-expanded=\"false\" aria-label=\"4 out of 5\" class=\"b3f3c831be\" tabindex=\"0\"><div aria-hidden=\"true\" class=\"a455730030\" data-testid=\"rating-stars\" role=\"img\"><span aria-hidden=\"true\" class=\"fcd9eec8fb d31eda6efc c25361c37f\"><svg viewbox=\"0 0 24 24\" xmlns=\"http://www.w3.org/2000/svg\"><path d=\"M23.555 8.729a1.505 1.505 0 0 0-1.406-.98h-6.087a.5.5 0 0 1-.472-.334l-2.185-6.193a1.5 1.5 0 0 0-2.81 0l-.005.016-2.18 6.177a.5.5 0 0 1-.471.334H1.85A1.5 1.5 0 0 0 .887 10.4l5.184 4.3a.5.5 0 0 1 .155.543l-2.178 6.531a1.5 1.5 0 0 0 2.31 1.684l5.346-3.92a.5.5 0 0 1 .591 0l5.344 3.919a1.5 1.5 0 0 0 2.312-1.683l-2.178-6.535a.5.5 0 0 1 .155-.543l5.194-4.306a1.5 1.5 0 0 0 .433-1.661\"></path></svg></span><span aria-hidden=\"true\" class=\"fcd9eec8fb d31eda6efc c25361c37f\"><svg viewbox=\"0 0 24 24\" xmlns=\"http://www.w3.org/2000/svg\"><path d=\"M23.555 8.729a1.505 1.505 0 0 0-1.406-.98h-6.087a.5.5 0 0 1-.472-.334l-2.185-6.193a1.5 1.5 0 0 0-2.81 0l-.005.016-2.18 6.177a.5.5 0 0 1-.471.334H1.85A1.5 1.5 0 0 0 .887 10.4l5.184 4.3a.5.5 0 0 1 .155.543l-2.178 6.531a1.5 1.5 0 0 0 2.31 1.684l5.346-3.92a.5.5 0 0 1 .591 0l5.344 3.919a1.5 1.5 0 0 0 2.312-1.683l-2.178-6.535a.5.5 0 0 1 .155-.543l5.194-4.306a1.5 1.5 0 0 0 .433-1.661\"></path></svg></span><span aria-hidden=\"true\" class=\"fcd9eec8fb d31eda6efc c25361c37f\"><svg viewbox=\"0 0 24 24\" xmlns=\"http://www.w3.org/2000/svg\"><path d=\"M23.555 8.729a1.505 1.505 0 0 0-1.406-.98h-6.087a.5.5 0 0 1-.472-.334l-2.185-6.193a1.5 1.5 0 0 0-2.81 0l-.005.016-2.18 6.177a.5.5 0 0 1-.471.334H1.85A1.5 1.5 0 0 0 .887 10.4l5.184 4.3a.5.5 0 0 1 .155.543l-2.178 6.531a1.5 1.5 0 0 0 2.31 1.684l5.346-3.92a.5.5 0 0 1 .591 0l5.344 3.919a1.5 1.5 0 0 0 2.312-1.683l-2.178-6.535a.5.5 0 0 1 .155-.543l5.194-4.306a1.5 1.5 0 0 0 .433-1.661\"></path></svg></span><span aria-hidden=\"true\" class=\"fcd9eec8fb d31eda6efc c25361c37f\"><svg viewbox=\"0 0 24 24\" xmlns=\"http://www.w3.org/2000/svg\"><path d=\"M23.555 8.729a1.505 1.505 0 0 0-1.406-.98h-6.087a.5.5 0 0 1-.472-.334l-2.185-6.193a1.5 1.5 0 0 0-2.81 0l-.005.016-2.18 6.177a.5.5 0 0 1-.471.334H1.85A1.5 1.5 0 0 0 .887 10.4l5.184 4.3a.5.5 0 0 1 .155.543l-2.178 6.531a1.5 1.5 0 0 0 2.31 1.684l5.346-3.92a.5.5 0 0 1 .591 0l5.344 3.919a1.5 1.5 0 0 0 2.312-1.683l-2.178-6.535a.5.5 0 0 1 .155-.543l5.194-4.306a1.5 1.5 0 0 0 .433-1.661\"></path></svg></span></div></div></span>, <span class=\"f419a93f12\"><span aria-expanded=\"false\" data-testid=\"preferred-badge\" role=\"button\" tabindex=\"0\"><span aria-label=\"This property is part of our Preferred Partner Programme. It is committed to providing commendable service and good value. It will pay us a higher commission if you make a booking.\" class=\"fcd9eec8fb c2a6770498 c2cc050fb8 e410954d4b\" role=\"img\"><svg height=\"1em\" viewbox=\"0 0 128 128\" width=\"1em\"><path d=\"M112 8H16a8 8 0 0 0-8 8v96a8 8 0 0 0 8 8h96a8 8 0 0 0 8-8V16a8 8 0 0 0-8-8zM48 96H24V58h24zm56-25a8.7 8.7 0 0 1-2 6 8.9 8.9 0 0 1 1 4 6.9 6.9 0 0 1-5 7c-.5 4-4.8 8-9 8H56V58l10.3-23.3a5.4 5.4 0 0 1 10.1 2.7 10.3 10.3 0 0 1-.6 2.7L72 52h23c4.5 0 9 3.5 9 8a9.2 9.2 0 0 1-2 5.3 7.5 7.5 0 0 1 2 5.7z\"></path></svg></span></span></span>, <span class=\"f419a93f12\"><span aria-expanded=\"false\" data-testid=\"distance\">5.2 km from centre</span></span>, <span class=\"f419a93f12\"><button aria-expanded=\"false\" class=\"a83ed08757 c21c56c305 a4c1805887 ab98298258 deab83296e c082d89982 da018e8680\" type=\"button\"><span class=\"e4adce92df\">Show prices</span></button></span>, <span class=\"f419a93f12\"><button aria-expanded=\"false\" aria-label=\"Save the property\" class=\"a83ed08757 c21c56c305 bd3a1c7108 d691166b09 ab98298258 deab83296e fe94449254\" data-testid=\"wishlist-button\" type=\"button\"><span class=\"eedba9e88a\"><span aria-hidden=\"true\" class=\"fcd9eec8fb bf9a32efa5\"><svg viewbox=\"0 0 24 24\" xmlns=\"http://www.w3.org/2000/svg\"><path d=\"m12.541 21.325-9.588-10a4.923 4.923 0 1 1 6.95-6.976l1.567 1.566a.75.75 0 0 0 1.06 0l1.566-1.566a4.923 4.923 0 0 1 6.963 6.962l-9.6 10.014zm-1.082 1.038a.75.75 0 0 0 1.082 0l9.59-10.003a6.42 6.42 0 0 0-.012-9.07 6.423 6.423 0 0 0-9.083-.001L11.47 4.854h1.06l-1.566-1.566a6.423 6.423 0 1 0-9.082 9.086l9.577 9.99z\"></path></svg></span></span></button></span>, <span class=\"f419a93f12\"><div aria-expanded=\"false\" aria-label=\"4 out of 5\" class=\"b3f3c831be\" tabindex=\"0\"><div aria-hidden=\"true\" class=\"a455730030\" data-testid=\"rating-stars\" role=\"img\"><span aria-hidden=\"true\" class=\"fcd9eec8fb d31eda6efc c25361c37f\"><svg viewbox=\"0 0 24 24\" xmlns=\"http://www.w3.org/2000/svg\"><path d=\"M23.555 8.729a1.505 1.505 0 0 0-1.406-.98h-6.087a.5.5 0 0 1-.472-.334l-2.185-6.193a1.5 1.5 0 0 0-2.81 0l-.005.016-2.18 6.177a.5.5 0 0 1-.471.334H1.85A1.5 1.5 0 0 0 .887 10.4l5.184 4.3a.5.5 0 0 1 .155.543l-2.178 6.531a1.5 1.5 0 0 0 2.31 1.684l5.346-3.92a.5.5 0 0 1 .591 0l5.344 3.919a1.5 1.5 0 0 0 2.312-1.683l-2.178-6.535a.5.5 0 0 1 .155-.543l5.194-4.306a1.5 1.5 0 0 0 .433-1.661\"></path></svg></span><span aria-hidden=\"true\" class=\"fcd9eec8fb d31eda6efc c25361c37f\"><svg viewbox=\"0 0 24 24\" xmlns=\"http://www.w3.org/2000/svg\"><path d=\"M23.555 8.729a1.505 1.505 0 0 0-1.406-.98h-6.087a.5.5 0 0 1-.472-.334l-2.185-6.193a1.5 1.5 0 0 0-2.81 0l-.005.016-2.18 6.177a.5.5 0 0 1-.471.334H1.85A1.5 1.5 0 0 0 .887 10.4l5.184 4.3a.5.5 0 0 1 .155.543l-2.178 6.531a1.5 1.5 0 0 0 2.31 1.684l5.346-3.92a.5.5 0 0 1 .591 0l5.344 3.919a1.5 1.5 0 0 0 2.312-1.683l-2.178-6.535a.5.5 0 0 1 .155-.543l5.194-4.306a1.5 1.5 0 0 0 .433-1.661\"></path></svg></span><span aria-hidden=\"true\" class=\"fcd9eec8fb d31eda6efc c25361c37f\"><svg viewbox=\"0 0 24 24\" xmlns=\"http://www.w3.org/2000/svg\"><path d=\"M23.555 8.729a1.505 1.505 0 0 0-1.406-.98h-6.087a.5.5 0 0 1-.472-.334l-2.185-6.193a1.5 1.5 0 0 0-2.81 0l-.005.016-2.18 6.177a.5.5 0 0 1-.471.334H1.85A1.5 1.5 0 0 0 .887 10.4l5.184 4.3a.5.5 0 0 1 .155.543l-2.178 6.531a1.5 1.5 0 0 0 2.31 1.684l5.346-3.92a.5.5 0 0 1 .591 0l5.344 3.919a1.5 1.5 0 0 0 2.312-1.683l-2.178-6.535a.5.5 0 0 1 .155-.543l5.194-4.306a1.5 1.5 0 0 0 .433-1.661\"></path></svg></span><span aria-hidden=\"true\" class=\"fcd9eec8fb d31eda6efc c25361c37f\"><svg viewbox=\"0 0 24 24\" xmlns=\"http://www.w3.org/2000/svg\"><path d=\"M23.555 8.729a1.505 1.505 0 0 0-1.406-.98h-6.087a.5.5 0 0 1-.472-.334l-2.185-6.193a1.5 1.5 0 0 0-2.81 0l-.005.016-2.18 6.177a.5.5 0 0 1-.471.334H1.85A1.5 1.5 0 0 0 .887 10.4l5.184 4.3a.5.5 0 0 1 .155.543l-2.178 6.531a1.5 1.5 0 0 0 2.31 1.684l5.346-3.92a.5.5 0 0 1 .591 0l5.344 3.919a1.5 1.5 0 0 0 2.312-1.683l-2.178-6.535a.5.5 0 0 1 .155-.543l5.194-4.306a1.5 1.5 0 0 0 .433-1.661\"></path></svg></span></div></div></span>, <span class=\"f419a93f12\"><span aria-expanded=\"false\" data-testid=\"preferred-badge\" role=\"button\" tabindex=\"0\"><span aria-label=\"This property is part of our Preferred Partner Programme. It is committed to providing commendable service and good value. It will pay us a higher commission if you make a booking.\" class=\"fcd9eec8fb c2a6770498 c2cc050fb8 e410954d4b\" role=\"img\"><svg height=\"1em\" viewbox=\"0 0 128 128\" width=\"1em\"><path d=\"M112 8H16a8 8 0 0 0-8 8v96a8 8 0 0 0 8 8h96a8 8 0 0 0 8-8V16a8 8 0 0 0-8-8zM48 96H24V58h24zm56-25a8.7 8.7 0 0 1-2 6 8.9 8.9 0 0 1 1 4 6.9 6.9 0 0 1-5 7c-.5 4-4.8 8-9 8H56V58l10.3-23.3a5.4 5.4 0 0 1 10.1 2.7 10.3 10.3 0 0 1-.6 2.7L72 52h23c4.5 0 9 3.5 9 8a9.2 9.2 0 0 1-2 5.3 7.5 7.5 0 0 1 2 5.7z\"></path></svg></span></span></span>, <span class=\"f419a93f12\"><span aria-expanded=\"false\" data-testid=\"distance\">9.7 km from centre</span></span>, <span class=\"f419a93f12\"><button aria-expanded=\"false\" class=\"a83ed08757 c21c56c305 a4c1805887 ab98298258 deab83296e c082d89982 da018e8680\" type=\"button\"><span class=\"e4adce92df\">Show prices</span></button></span>, <span class=\"f419a93f12\"><button aria-expanded=\"false\" aria-label=\"Save the property\" class=\"a83ed08757 c21c56c305 bd3a1c7108 d691166b09 ab98298258 deab83296e fe94449254\" data-testid=\"wishlist-button\" type=\"button\"><span class=\"eedba9e88a\"><span aria-hidden=\"true\" class=\"fcd9eec8fb bf9a32efa5\"><svg viewbox=\"0 0 24 24\" xmlns=\"http://www.w3.org/2000/svg\"><path d=\"m12.541 21.325-9.588-10a4.923 4.923 0 1 1 6.95-6.976l1.567 1.566a.75.75 0 0 0 1.06 0l1.566-1.566a4.923 4.923 0 0 1 6.963 6.962l-9.6 10.014zm-1.082 1.038a.75.75 0 0 0 1.082 0l9.59-10.003a6.42 6.42 0 0 0-.012-9.07 6.423 6.423 0 0 0-9.083-.001L11.47 4.854h1.06l-1.566-1.566a6.423 6.423 0 1 0-9.082 9.086l9.577 9.99z\"></path></svg></span></span></button></span>, <span class=\"f419a93f12\"><span aria-expanded=\"false\" data-testid=\"preferred-badge\" role=\"button\" tabindex=\"0\"><span aria-label=\"This property is part of our Preferred Partner Programme. It is committed to providing commendable service and good value. It will pay us a higher commission if you make a booking.\" class=\"fcd9eec8fb c2a6770498 c2cc050fb8 e410954d4b\" role=\"img\"><svg height=\"1em\" viewbox=\"0 0 128 128\" width=\"1em\"><path d=\"M112 8H16a8 8 0 0 0-8 8v96a8 8 0 0 0 8 8h96a8 8 0 0 0 8-8V16a8 8 0 0 0-8-8zM48 96H24V58h24zm56-25a8.7 8.7 0 0 1-2 6 8.9 8.9 0 0 1 1 4 6.9 6.9 0 0 1-5 7c-.5 4-4.8 8-9 8H56V58l10.3-23.3a5.4 5.4 0 0 1 10.1 2.7 10.3 10.3 0 0 1-.6 2.7L72 52h23c4.5 0 9 3.5 9 8a9.2 9.2 0 0 1-2 5.3 7.5 7.5 0 0 1 2 5.7z\"></path></svg></span></span></span>, <span class=\"f419a93f12\"><span aria-expanded=\"false\" data-testid=\"distance\">13.7 km from centre</span></span>, <span class=\"f419a93f12\"><button aria-expanded=\"false\" class=\"a83ed08757 c21c56c305 a4c1805887 ab98298258 deab83296e c082d89982 da018e8680\" type=\"button\"><span class=\"e4adce92df\">Show prices</span></button></span>, <span class=\"f419a93f12\"><button aria-expanded=\"false\" aria-label=\"Save the property\" class=\"a83ed08757 c21c56c305 bd3a1c7108 d691166b09 ab98298258 deab83296e fe94449254\" data-testid=\"wishlist-button\" type=\"button\"><span class=\"eedba9e88a\"><span aria-hidden=\"true\" class=\"fcd9eec8fb bf9a32efa5\"><svg viewbox=\"0 0 24 24\" xmlns=\"http://www.w3.org/2000/svg\"><path d=\"m12.541 21.325-9.588-10a4.923 4.923 0 1 1 6.95-6.976l1.567 1.566a.75.75 0 0 0 1.06 0l1.566-1.566a4.923 4.923 0 0 1 6.963 6.962l-9.6 10.014zm-1.082 1.038a.75.75 0 0 0 1.082 0l9.59-10.003a6.42 6.42 0 0 0-.012-9.07 6.423 6.423 0 0 0-9.083-.001L11.47 4.854h1.06l-1.566-1.566a6.423 6.423 0 1 0-9.082 9.086l9.577 9.99z\"></path></svg></span></span></button></span>, <span class=\"f419a93f12\"><div aria-expanded=\"false\" aria-label=\"4 out of 5\" class=\"b3f3c831be\" tabindex=\"0\"><div aria-hidden=\"true\" class=\"a455730030\" data-testid=\"rating-stars\" role=\"img\"><span aria-hidden=\"true\" class=\"fcd9eec8fb d31eda6efc c25361c37f\"><svg viewbox=\"0 0 24 24\" xmlns=\"http://www.w3.org/2000/svg\"><path d=\"M23.555 8.729a1.505 1.505 0 0 0-1.406-.98h-6.087a.5.5 0 0 1-.472-.334l-2.185-6.193a1.5 1.5 0 0 0-2.81 0l-.005.016-2.18 6.177a.5.5 0 0 1-.471.334H1.85A1.5 1.5 0 0 0 .887 10.4l5.184 4.3a.5.5 0 0 1 .155.543l-2.178 6.531a1.5 1.5 0 0 0 2.31 1.684l5.346-3.92a.5.5 0 0 1 .591 0l5.344 3.919a1.5 1.5 0 0 0 2.312-1.683l-2.178-6.535a.5.5 0 0 1 .155-.543l5.194-4.306a1.5 1.5 0 0 0 .433-1.661\"></path></svg></span><span aria-hidden=\"true\" class=\"fcd9eec8fb d31eda6efc c25361c37f\"><svg viewbox=\"0 0 24 24\" xmlns=\"http://www.w3.org/2000/svg\"><path d=\"M23.555 8.729a1.505 1.505 0 0 0-1.406-.98h-6.087a.5.5 0 0 1-.472-.334l-2.185-6.193a1.5 1.5 0 0 0-2.81 0l-.005.016-2.18 6.177a.5.5 0 0 1-.471.334H1.85A1.5 1.5 0 0 0 .887 10.4l5.184 4.3a.5.5 0 0 1 .155.543l-2.178 6.531a1.5 1.5 0 0 0 2.31 1.684l5.346-3.92a.5.5 0 0 1 .591 0l5.344 3.919a1.5 1.5 0 0 0 2.312-1.683l-2.178-6.535a.5.5 0 0 1 .155-.543l5.194-4.306a1.5 1.5 0 0 0 .433-1.661\"></path></svg></span><span aria-hidden=\"true\" class=\"fcd9eec8fb d31eda6efc c25361c37f\"><svg viewbox=\"0 0 24 24\" xmlns=\"http://www.w3.org/2000/svg\"><path d=\"M23.555 8.729a1.505 1.505 0 0 0-1.406-.98h-6.087a.5.5 0 0 1-.472-.334l-2.185-6.193a1.5 1.5 0 0 0-2.81 0l-.005.016-2.18 6.177a.5.5 0 0 1-.471.334H1.85A1.5 1.5 0 0 0 .887 10.4l5.184 4.3a.5.5 0 0 1 .155.543l-2.178 6.531a1.5 1.5 0 0 0 2.31 1.684l5.346-3.92a.5.5 0 0 1 .591 0l5.344 3.919a1.5 1.5 0 0 0 2.312-1.683l-2.178-6.535a.5.5 0 0 1 .155-.543l5.194-4.306a1.5 1.5 0 0 0 .433-1.661\"></path></svg></span><span aria-hidden=\"true\" class=\"fcd9eec8fb d31eda6efc c25361c37f\"><svg viewbox=\"0 0 24 24\" xmlns=\"http://www.w3.org/2000/svg\"><path d=\"M23.555 8.729a1.505 1.505 0 0 0-1.406-.98h-6.087a.5.5 0 0 1-.472-.334l-2.185-6.193a1.5 1.5 0 0 0-2.81 0l-.005.016-2.18 6.177a.5.5 0 0 1-.471.334H1.85A1.5 1.5 0 0 0 .887 10.4l5.184 4.3a.5.5 0 0 1 .155.543l-2.178 6.531a1.5 1.5 0 0 0 2.31 1.684l5.346-3.92a.5.5 0 0 1 .591 0l5.344 3.919a1.5 1.5 0 0 0 2.312-1.683l-2.178-6.535a.5.5 0 0 1 .155-.543l5.194-4.306a1.5 1.5 0 0 0 .433-1.661\"></path></svg></span></div></div></span>, <span class=\"f419a93f12\"><span aria-expanded=\"false\" data-testid=\"distance\">18.1 km from centre</span></span>, <span class=\"f419a93f12\"><button aria-expanded=\"false\" class=\"a83ed08757 c21c56c305 a4c1805887 ab98298258 deab83296e c082d89982 da018e8680\" type=\"button\"><span class=\"e4adce92df\">Show prices</span></button></span>, <span class=\"f419a93f12\"><button aria-expanded=\"false\" aria-label=\"Save the property\" class=\"a83ed08757 c21c56c305 bd3a1c7108 d691166b09 ab98298258 deab83296e fe94449254\" data-testid=\"wishlist-button\" type=\"button\"><span class=\"eedba9e88a\"><span aria-hidden=\"true\" class=\"fcd9eec8fb bf9a32efa5\"><svg viewbox=\"0 0 24 24\" xmlns=\"http://www.w3.org/2000/svg\"><path d=\"m12.541 21.325-9.588-10a4.923 4.923 0 1 1 6.95-6.976l1.567 1.566a.75.75 0 0 0 1.06 0l1.566-1.566a4.923 4.923 0 0 1 6.963 6.962l-9.6 10.014zm-1.082 1.038a.75.75 0 0 0 1.082 0l9.59-10.003a6.42 6.42 0 0 0-.012-9.07 6.423 6.423 0 0 0-9.083-.001L11.47 4.854h1.06l-1.566-1.566a6.423 6.423 0 1 0-9.082 9.086l9.577 9.99z\"></path></svg></span></span></button></span>, <span class=\"f419a93f12\"><div aria-expanded=\"false\" aria-label=\"3 out of 5\" class=\"b3f3c831be\" tabindex=\"0\"><div aria-hidden=\"true\" class=\"a455730030\" data-testid=\"rating-squares\" role=\"img\"><span aria-hidden=\"true\" class=\"fcd9eec8fb d31eda6efc c25361c37f\"><svg viewbox=\"0 0 112 128\" xmlns=\"http://www.w3.org/2000/svg\"><path d=\"M96 8H16A16 16 0 0 0 0 24v96h96a16 16 0 0 0 16-16V24A16 16 0 0 0 96 8M56 88a24 24 0 1 1 24-24 24 24 0 0 1-24 24\"></path></svg></span><span aria-hidden=\"true\" class=\"fcd9eec8fb d31eda6efc c25361c37f\"><svg viewbox=\"0 0 112 128\" xmlns=\"http://www.w3.org/2000/svg\"><path d=\"M96 8H16A16 16 0 0 0 0 24v96h96a16 16 0 0 0 16-16V24A16 16 0 0 0 96 8M56 88a24 24 0 1 1 24-24 24 24 0 0 1-24 24\"></path></svg></span><span aria-hidden=\"true\" class=\"fcd9eec8fb d31eda6efc c25361c37f\"><svg viewbox=\"0 0 112 128\" xmlns=\"http://www.w3.org/2000/svg\"><path d=\"M96 8H16A16 16 0 0 0 0 24v96h96a16 16 0 0 0 16-16V24A16 16 0 0 0 96 8M56 88a24 24 0 1 1 24-24 24 24 0 0 1-24 24\"></path></svg></span></div></div></span>, <span class=\"f419a93f12\"><span aria-expanded=\"false\" data-testid=\"preferred-badge\" role=\"button\" tabindex=\"0\"><span aria-label=\"This property is part of our Preferred Plus Programme. It is committed to providing outstanding service and excellent value. It will pay us a higher commission if you make a booking.\" class=\"fcd9eec8fb c2a6770498 b3d142134a c2cc050fb8 e410954d4b\" role=\"img\"><svg viewbox=\"0 0 32 18\" xmlns=\"http://www.w3.org/2000/svg\"><path clip-rule=\"evenodd\" d=\"M0 2.252A2.25 2.25 0 0 1 2.252 0h13.496q.104 0 .204.01.102-.01.205-.01h13.496a2.25 2.25 0 0 1 2.252 2.252v13.496A2.25 2.25 0 0 1 29.653 18H16.157q-.102 0-.204-.01-.101.01-.205.01H2.252A2.25 2.25 0 0 1 0 15.748zm7.335 11.293h4.801c1.413 0 1.413-1.129 1.413-1.129 1.13-.564.564-1.693.564-1.693.848-.847 0-1.694 0-1.694.565-.847 0-1.693-.847-1.693H9.594l.565-1.976c.565-1.693-1.13-2.258-1.694-.282l-1.13 3.387zM3.915 8.46v5.085h2.79V8.46zM21.99 6c0-.433 0-.65.064-.823.105-.284.329-.508.613-.613.173-.064.39-.064.823-.064s.65 0 .823.064c.284.105.509.329.613.613.064.173.064.39.064.823v1.5h1.5c.433 0 .65 0 .823.064.284.105.509.329.613.613.064.173.064.39.064.823s0 .65-.064.823a1.03 1.03 0 0 1-.613.613c-.173.064-.39.064-.823.064h-1.5V12c0 .433 0 .65-.064.823a1.03 1.03 0 0 1-.613.613c-.173.064-.39.064-.823.064s-.65 0-.823-.064a1.03 1.03 0 0 1-.613-.613c-.064-.174-.064-.39-.064-.823v-1.5h-1.5c-.433 0-.65 0-.823-.064a1.03 1.03 0 0 1-.613-.613c-.064-.173-.064-.39-.064-.823s0-.65.064-.823c.105-.284.329-.508.613-.613.173-.064.39-.064.823-.064h1.5z\" fill=\"#FEBB02\" fill-rule=\"evenodd\"></path></svg></span></span></span>, <span class=\"f419a93f12\"><span aria-expanded=\"false\" data-testid=\"distance\">12.2 km from centre</span></span>, <span class=\"f419a93f12\"><button aria-expanded=\"false\" class=\"a83ed08757 c21c56c305 a4c1805887 ab98298258 deab83296e c082d89982 da018e8680\" type=\"button\"><span class=\"e4adce92df\">Show prices</span></button></span>, <span class=\"f419a93f12\"><button aria-expanded=\"false\" aria-label=\"Save the property\" class=\"a83ed08757 c21c56c305 bd3a1c7108 d691166b09 ab98298258 deab83296e fe94449254\" data-testid=\"wishlist-button\" type=\"button\"><span class=\"eedba9e88a\"><span aria-hidden=\"true\" class=\"fcd9eec8fb bf9a32efa5\"><svg viewbox=\"0 0 24 24\" xmlns=\"http://www.w3.org/2000/svg\"><path d=\"m12.541 21.325-9.588-10a4.923 4.923 0 1 1 6.95-6.976l1.567 1.566a.75.75 0 0 0 1.06 0l1.566-1.566a4.923 4.923 0 0 1 6.963 6.962l-9.6 10.014zm-1.082 1.038a.75.75 0 0 0 1.082 0l9.59-10.003a6.42 6.42 0 0 0-.012-9.07 6.423 6.423 0 0 0-9.083-.001L11.47 4.854h1.06l-1.566-1.566a6.423 6.423 0 1 0-9.082 9.086l9.577 9.99z\"></path></svg></span></span></button></span>, <span class=\"f419a93f12\"><span aria-expanded=\"false\" data-testid=\"distance\">12 km from centre</span></span>, <span class=\"f419a93f12\"><button aria-expanded=\"false\" class=\"a83ed08757 c21c56c305 a4c1805887 ab98298258 deab83296e c082d89982 da018e8680\" type=\"button\"><span class=\"e4adce92df\">Show prices</span></button></span>, <span class=\"f419a93f12\"><button aria-expanded=\"false\" aria-label=\"Save the property\" class=\"a83ed08757 c21c56c305 bd3a1c7108 d691166b09 ab98298258 deab83296e fe94449254\" data-testid=\"wishlist-button\" type=\"button\"><span class=\"eedba9e88a\"><span aria-hidden=\"true\" class=\"fcd9eec8fb bf9a32efa5\"><svg viewbox=\"0 0 24 24\" xmlns=\"http://www.w3.org/2000/svg\"><path d=\"m12.541 21.325-9.588-10a4.923 4.923 0 1 1 6.95-6.976l1.567 1.566a.75.75 0 0 0 1.06 0l1.566-1.566a4.923 4.923 0 0 1 6.963 6.962l-9.6 10.014zm-1.082 1.038a.75.75 0 0 0 1.082 0l9.59-10.003a6.42 6.42 0 0 0-.012-9.07 6.423 6.423 0 0 0-9.083-.001L11.47 4.854h1.06l-1.566-1.566a6.423 6.423 0 1 0-9.082 9.086l9.577 9.99z\"></path></svg></span></span></button></span>, <span class=\"f419a93f12\"><span aria-expanded=\"false\" data-testid=\"preferred-badge\" role=\"button\" tabindex=\"0\"><span aria-label=\"This property is part of our Preferred Partner Programme. It is committed to providing commendable service and good value. It will pay us a higher commission if you make a booking.\" class=\"fcd9eec8fb c2a6770498 c2cc050fb8 e410954d4b\" role=\"img\"><svg height=\"1em\" viewbox=\"0 0 128 128\" width=\"1em\"><path d=\"M112 8H16a8 8 0 0 0-8 8v96a8 8 0 0 0 8 8h96a8 8 0 0 0 8-8V16a8 8 0 0 0-8-8zM48 96H24V58h24zm56-25a8.7 8.7 0 0 1-2 6 8.9 8.9 0 0 1 1 4 6.9 6.9 0 0 1-5 7c-.5 4-4.8 8-9 8H56V58l10.3-23.3a5.4 5.4 0 0 1 10.1 2.7 10.3 10.3 0 0 1-.6 2.7L72 52h23c4.5 0 9 3.5 9 8a9.2 9.2 0 0 1-2 5.3 7.5 7.5 0 0 1 2 5.7z\"></path></svg></span></span></span>, <span class=\"f419a93f12\"><span aria-expanded=\"false\" data-testid=\"distance\">3.3 km from centre</span></span>, <span class=\"f419a93f12\"><button aria-expanded=\"false\" class=\"a83ed08757 c21c56c305 a4c1805887 ab98298258 deab83296e c082d89982 da018e8680\" type=\"button\"><span class=\"e4adce92df\">Show prices</span></button></span>, <span class=\"f419a93f12\"><button aria-expanded=\"false\" aria-label=\"Save the property\" class=\"a83ed08757 c21c56c305 bd3a1c7108 d691166b09 ab98298258 deab83296e fe94449254\" data-testid=\"wishlist-button\" type=\"button\"><span class=\"eedba9e88a\"><span aria-hidden=\"true\" class=\"fcd9eec8fb bf9a32efa5\"><svg viewbox=\"0 0 24 24\" xmlns=\"http://www.w3.org/2000/svg\"><path d=\"m12.541 21.325-9.588-10a4.923 4.923 0 1 1 6.95-6.976l1.567 1.566a.75.75 0 0 0 1.06 0l1.566-1.566a4.923 4.923 0 0 1 6.963 6.962l-9.6 10.014zm-1.082 1.038a.75.75 0 0 0 1.082 0l9.59-10.003a6.42 6.42 0 0 0-.012-9.07 6.423 6.423 0 0 0-9.083-.001L11.47 4.854h1.06l-1.566-1.566a6.423 6.423 0 1 0-9.082 9.086l9.577 9.99z\"></path></svg></span></span></button></span>, <span class=\"f419a93f12\"><div aria-expanded=\"false\" aria-label=\"3 out of 5\" class=\"b3f3c831be\" tabindex=\"0\"><div aria-hidden=\"true\" class=\"a455730030\" data-testid=\"rating-squares\" role=\"img\"><span aria-hidden=\"true\" class=\"fcd9eec8fb d31eda6efc c25361c37f\"><svg viewbox=\"0 0 112 128\" xmlns=\"http://www.w3.org/2000/svg\"><path d=\"M96 8H16A16 16 0 0 0 0 24v96h96a16 16 0 0 0 16-16V24A16 16 0 0 0 96 8M56 88a24 24 0 1 1 24-24 24 24 0 0 1-24 24\"></path></svg></span><span aria-hidden=\"true\" class=\"fcd9eec8fb d31eda6efc c25361c37f\"><svg viewbox=\"0 0 112 128\" xmlns=\"http://www.w3.org/2000/svg\"><path d=\"M96 8H16A16 16 0 0 0 0 24v96h96a16 16 0 0 0 16-16V24A16 16 0 0 0 96 8M56 88a24 24 0 1 1 24-24 24 24 0 0 1-24 24\"></path></svg></span><span aria-hidden=\"true\" class=\"fcd9eec8fb d31eda6efc c25361c37f\"><svg viewbox=\"0 0 112 128\" xmlns=\"http://www.w3.org/2000/svg\"><path d=\"M96 8H16A16 16 0 0 0 0 24v96h96a16 16 0 0 0 16-16V24A16 16 0 0 0 96 8M56 88a24 24 0 1 1 24-24 24 24 0 0 1-24 24\"></path></svg></span></div></div></span>, <span class=\"f419a93f12\"><span aria-expanded=\"false\" data-testid=\"preferred-badge\" role=\"button\" tabindex=\"0\"><span aria-label=\"This property is part of our Preferred Partner Programme. It is committed to providing commendable service and good value. It will pay us a higher commission if you make a booking.\" class=\"fcd9eec8fb c2a6770498 c2cc050fb8 e410954d4b\" role=\"img\"><svg height=\"1em\" viewbox=\"0 0 128 128\" width=\"1em\"><path d=\"M112 8H16a8 8 0 0 0-8 8v96a8 8 0 0 0 8 8h96a8 8 0 0 0 8-8V16a8 8 0 0 0-8-8zM48 96H24V58h24zm56-25a8.7 8.7 0 0 1-2 6 8.9 8.9 0 0 1 1 4 6.9 6.9 0 0 1-5 7c-.5 4-4.8 8-9 8H56V58l10.3-23.3a5.4 5.4 0 0 1 10.1 2.7 10.3 10.3 0 0 1-.6 2.7L72 52h23c4.5 0 9 3.5 9 8a9.2 9.2 0 0 1-2 5.3 7.5 7.5 0 0 1 2 5.7z\"></path></svg></span></span></span>, <span class=\"f419a93f12\"><span aria-expanded=\"false\" data-testid=\"distance\">8 km from centre</span></span>, <span class=\"f419a93f12\"><button aria-expanded=\"false\" class=\"a83ed08757 c21c56c305 a4c1805887 ab98298258 deab83296e c082d89982 da018e8680\" type=\"button\"><span class=\"e4adce92df\">Show prices</span></button></span>, <span class=\"f419a93f12\"><button aria-expanded=\"false\" aria-label=\"Save the property\" class=\"a83ed08757 c21c56c305 bd3a1c7108 d691166b09 ab98298258 deab83296e fe94449254\" data-testid=\"wishlist-button\" type=\"button\"><span class=\"eedba9e88a\"><span aria-hidden=\"true\" class=\"fcd9eec8fb bf9a32efa5\"><svg viewbox=\"0 0 24 24\" xmlns=\"http://www.w3.org/2000/svg\"><path d=\"m12.541 21.325-9.588-10a4.923 4.923 0 1 1 6.95-6.976l1.567 1.566a.75.75 0 0 0 1.06 0l1.566-1.566a4.923 4.923 0 0 1 6.963 6.962l-9.6 10.014zm-1.082 1.038a.75.75 0 0 0 1.082 0l9.59-10.003a6.42 6.42 0 0 0-.012-9.07 6.423 6.423 0 0 0-9.083-.001L11.47 4.854h1.06l-1.566-1.566a6.423 6.423 0 1 0-9.082 9.086l9.577 9.99z\"></path></svg></span></span></button></span>, <span class=\"f419a93f12\"><span aria-expanded=\"false\" data-testid=\"preferred-badge\" role=\"button\" tabindex=\"0\"><span aria-label=\"This property is part of our Preferred Partner Programme. It is committed to providing commendable service and good value. It will pay us a higher commission if you make a booking.\" class=\"fcd9eec8fb c2a6770498 c2cc050fb8 e410954d4b\" role=\"img\"><svg height=\"1em\" viewbox=\"0 0 128 128\" width=\"1em\"><path d=\"M112 8H16a8 8 0 0 0-8 8v96a8 8 0 0 0 8 8h96a8 8 0 0 0 8-8V16a8 8 0 0 0-8-8zM48 96H24V58h24zm56-25a8.7 8.7 0 0 1-2 6 8.9 8.9 0 0 1 1 4 6.9 6.9 0 0 1-5 7c-.5 4-4.8 8-9 8H56V58l10.3-23.3a5.4 5.4 0 0 1 10.1 2.7 10.3 10.3 0 0 1-.6 2.7L72 52h23c4.5 0 9 3.5 9 8a9.2 9.2 0 0 1-2 5.3 7.5 7.5 0 0 1 2 5.7z\"></path></svg></span></span></span>, <span class=\"f419a93f12\"><span aria-expanded=\"false\" data-testid=\"distance\">16.6 km from centre</span></span>, <span class=\"f419a93f12\"><button aria-expanded=\"false\" class=\"a83ed08757 c21c56c305 a4c1805887 ab98298258 deab83296e c082d89982 da018e8680\" type=\"button\"><span class=\"e4adce92df\">Show prices</span></button></span>]\n"
     ]
    }
   ],
   "source": [
    "driver = webdriver.Chrome()\n",
    "# request the page \n",
    "driver.get(\"https://www.booking.com/searchresults.en-gb.html?ss=Riyadh%2C+Saudi+Arabia&efdco=1&label=en-sa-booking-desktop-UmcGSHJHH5d7CxRJ6pHCYgS652796015661%3Apl%3Ata%3Ap1%3Ap2%3Aac%3Aap%3Aneg%3Afi%3Atikwd-65526620%3Alp9076994%3Ali%3Adec%3Adm&aid=2311236&lang=en-gb&sb=1&src_elem=sb&src=index&dest_id=900040280&dest_type=city&group_adults=2&no_rooms=1&group_children=0\")\n",
    "\n",
    "        # extract the body and parse it\n",
    "soup = BeautifulSoup(driver.page_source, \"html.parser\")\n",
    "Milage = soup.find_all('span',{'class': \"f419a93f12\"})\n",
    "\n",
    "print(Milage)"
   ]
  },
  {
   "cell_type": "code",
   "execution_count": 6,
   "id": "6e8d94c1-0c0a-4d28-a89a-25f9f2e1c330",
   "metadata": {},
   "outputs": [
    {
     "ename": "TimeoutException",
     "evalue": "Message: \nStacktrace:\n\tGetHandleVerifier [0x00007FF6FC031F52+60322]\n\t(No symbol) [0x00007FF6FBFACEC9]\n\t(No symbol) [0x00007FF6FBE67EBA]\n\t(No symbol) [0x00007FF6FBEB7676]\n\t(No symbol) [0x00007FF6FBEB773C]\n\t(No symbol) [0x00007FF6FBEFE967]\n\t(No symbol) [0x00007FF6FBEDC25F]\n\t(No symbol) [0x00007FF6FBEFBC80]\n\t(No symbol) [0x00007FF6FBEDBFC3]\n\t(No symbol) [0x00007FF6FBEA9617]\n\t(No symbol) [0x00007FF6FBEAA211]\n\tGetHandleVerifier [0x00007FF6FC3494AD+3301629]\n\tGetHandleVerifier [0x00007FF6FC3936D3+3605283]\n\tGetHandleVerifier [0x00007FF6FC389450+3563680]\n\tGetHandleVerifier [0x00007FF6FC0E4326+790390]\n\t(No symbol) [0x00007FF6FBFB750F]\n\t(No symbol) [0x00007FF6FBFB3404]\n\t(No symbol) [0x00007FF6FBFB3592]\n\t(No symbol) [0x00007FF6FBFA2F9F]\n\tBaseThreadInitThunk [0x00007FFCE5887344+20]\n\tRtlUserThreadStart [0x00007FFCE75826B1+33]\n",
     "output_type": "error",
     "traceback": [
      "\u001b[1;31m---------------------------------------------------------------------------\u001b[0m",
      "\u001b[1;31mTimeoutException\u001b[0m                          Traceback (most recent call last)",
      "Cell \u001b[1;32mIn[6], line 34\u001b[0m\n\u001b[0;32m     32\u001b[0m \u001b[38;5;66;03m#load more button\u001b[39;00m\n\u001b[0;32m     33\u001b[0m wait \u001b[38;5;241m=\u001b[39m WebDriverWait(driver, \u001b[38;5;241m10\u001b[39m)\n\u001b[1;32m---> 34\u001b[0m load_more_button \u001b[38;5;241m=\u001b[39m \u001b[43mwait\u001b[49m\u001b[38;5;241;43m.\u001b[39;49m\u001b[43muntil\u001b[49m\u001b[43m(\u001b[49m\n\u001b[0;32m     35\u001b[0m \u001b[43m    \u001b[49m\u001b[43mEC\u001b[49m\u001b[38;5;241;43m.\u001b[39;49m\u001b[43melement_to_be_clickable\u001b[49m\u001b[43m(\u001b[49m\u001b[43m(\u001b[49m\u001b[43mBy\u001b[49m\u001b[38;5;241;43m.\u001b[39;49m\u001b[43mXPATH\u001b[49m\u001b[43m,\u001b[49m\u001b[43m \u001b[49m\u001b[38;5;124;43m'\u001b[39;49m\u001b[38;5;124;43m//button[@class=\u001b[39;49m\u001b[38;5;124;43m\"\u001b[39;49m\u001b[38;5;124;43ma83ed08757 c21c56c305 bf0537ecb5 f671049264 deab83296e af7297d90d\u001b[39;49m\u001b[38;5;124;43m\"\u001b[39;49m\u001b[38;5;124;43m]\u001b[39;49m\u001b[38;5;124;43m'\u001b[39;49m\u001b[43m)\u001b[49m\u001b[43m)\u001b[49m\n\u001b[0;32m     36\u001b[0m \u001b[43m\u001b[49m\u001b[43m)\u001b[49m\n\u001b[0;32m     37\u001b[0m \u001b[38;5;66;03m#click the button\u001b[39;00m\n\u001b[0;32m     38\u001b[0m load_more_button\u001b[38;5;241m.\u001b[39mclick()\n",
      "File \u001b[1;32mc:\\Users\\Sulaiman\\AppData\\Local\\Programs\\Python\\Python311\\Lib\\site-packages\\selenium\\webdriver\\support\\wait.py:105\u001b[0m, in \u001b[0;36mWebDriverWait.until\u001b[1;34m(self, method, message)\u001b[0m\n\u001b[0;32m    103\u001b[0m     \u001b[38;5;28;01mif\u001b[39;00m time\u001b[38;5;241m.\u001b[39mmonotonic() \u001b[38;5;241m>\u001b[39m end_time:\n\u001b[0;32m    104\u001b[0m         \u001b[38;5;28;01mbreak\u001b[39;00m\n\u001b[1;32m--> 105\u001b[0m \u001b[38;5;28;01mraise\u001b[39;00m TimeoutException(message, screen, stacktrace)\n",
      "\u001b[1;31mTimeoutException\u001b[0m: Message: \nStacktrace:\n\tGetHandleVerifier [0x00007FF6FC031F52+60322]\n\t(No symbol) [0x00007FF6FBFACEC9]\n\t(No symbol) [0x00007FF6FBE67EBA]\n\t(No symbol) [0x00007FF6FBEB7676]\n\t(No symbol) [0x00007FF6FBEB773C]\n\t(No symbol) [0x00007FF6FBEFE967]\n\t(No symbol) [0x00007FF6FBEDC25F]\n\t(No symbol) [0x00007FF6FBEFBC80]\n\t(No symbol) [0x00007FF6FBEDBFC3]\n\t(No symbol) [0x00007FF6FBEA9617]\n\t(No symbol) [0x00007FF6FBEAA211]\n\tGetHandleVerifier [0x00007FF6FC3494AD+3301629]\n\tGetHandleVerifier [0x00007FF6FC3936D3+3605283]\n\tGetHandleVerifier [0x00007FF6FC389450+3563680]\n\tGetHandleVerifier [0x00007FF6FC0E4326+790390]\n\t(No symbol) [0x00007FF6FBFB750F]\n\t(No symbol) [0x00007FF6FBFB3404]\n\t(No symbol) [0x00007FF6FBFB3592]\n\t(No symbol) [0x00007FF6FBFA2F9F]\n\tBaseThreadInitThunk [0x00007FFCE5887344+20]\n\tRtlUserThreadStart [0x00007FFCE75826B1+33]\n"
     ]
    }
   ],
   "source": [
    "# try 10 pages\n",
    "\n",
    "driver = webdriver.Chrome()\n",
    "url = 'https://www.booking.com/searchresults.en-gb.html?ss=Riyadh%2C+Saudi+Arabia&efdco=1&label=en-sa-booking-desktop-UmcGSHJHH5d7CxRJ6pHCYgS652796015661%3Apl%3Ata%3Ap1%3Ap2%3Aac%3Aap%3Aneg%3Afi%3Atikwd-65526620%3Alp9076994%3Ali%3Adec%3Adm&aid=2311236&lang=en-gb&sb=1&src_elem=sb&src=index&dest_id=900040280&dest_type=city&group_adults=2&no_rooms=1&group_children=0'\n",
    "columns_ = ['Names', 'Prices']\n",
    "df = pd.DataFrame(columns=columns_)\n",
    "                  \n",
    "for i in range(2, 200):\n",
    "\n",
    "    # request the page \n",
    "    driver.get(url)\n",
    "\n",
    "    # extract the body and parse it\n",
    "    soup = BeautifulSoup(driver.page_source, \"html.parser\")\n",
    "\n",
    "    # extrace prices and ars names from page\n",
    "    names = soup.find_all('div',{'class': \"f6431b446c a15b38c233\"})\n",
    "\n",
    "    # clean them\n",
    "    clean_names = []\n",
    "    for n in zip(names):\n",
    "        clean_names.append(n)\n",
    "\n",
    "    # store them \n",
    "    new_rows_df = pd.DataFrame(\n",
    "        {\n",
    "            'Names': clean_names, \n",
    "        })\n",
    "\n",
    "    df = pd.concat([df, new_rows_df], ignore_index=True)\n",
    "\n",
    "    #load more button\n",
    "    wait = WebDriverWait(driver, 10)\n",
    "    load_more_button = wait.until(\n",
    "        EC.element_to_be_clickable((By.XPATH, '//button[@class=\"a83ed08757 c21c56c305 bf0537ecb5 f671049264 deab83296e af7297d90d\"]'))\n",
    "    )\n",
    "    #click the button\n",
    "    load_more_button.click()\n",
    "\n",
    "    #wait for the page to load\n",
    "    #wait.until(EC.invisibility_of_element((By.XPATH, '//div[@class=\"loading-indicator\"]')))\n",
    "driver.quit()"
   ]
  },
  {
   "cell_type": "code",
   "execution_count": null,
   "id": "44012f2f-d981-4de6-855a-ac3f91eb5faa",
   "metadata": {},
   "outputs": [
    {
     "data": {
      "text/html": [
       "<div>\n",
       "<style scoped>\n",
       "    .dataframe tbody tr th:only-of-type {\n",
       "        vertical-align: middle;\n",
       "    }\n",
       "\n",
       "    .dataframe tbody tr th {\n",
       "        vertical-align: top;\n",
       "    }\n",
       "\n",
       "    .dataframe thead th {\n",
       "        text-align: right;\n",
       "    }\n",
       "</style>\n",
       "<table border=\"1\" class=\"dataframe\">\n",
       "  <thead>\n",
       "    <tr style=\"text-align: right;\">\n",
       "      <th></th>\n",
       "      <th>Names</th>\n",
       "      <th>Prices</th>\n",
       "      <th>prices_monthly</th>\n",
       "    </tr>\n",
       "  </thead>\n",
       "  <tbody>\n",
       "    <tr>\n",
       "      <th>0</th>\n",
       "      <td>فورد رينجر Double Cab 2019 دبل</td>\n",
       "      <td>47,900</td>\n",
       "      <td>1,028</td>\n",
       "    </tr>\n",
       "    <tr>\n",
       "      <th>1</th>\n",
       "      <td>ميتسوبيشي L200 DC 4x2 2020</td>\n",
       "      <td>57,000</td>\n",
       "      <td>1,217</td>\n",
       "    </tr>\n",
       "    <tr>\n",
       "      <th>2</th>\n",
       "      <td>نيسان ددسن GL 2016</td>\n",
       "      <td>38,400</td>\n",
       "      <td>1,474</td>\n",
       "    </tr>\n",
       "    <tr>\n",
       "      <th>3</th>\n",
       "      <td>فولكس فاجن تي روك ستايل 2021</td>\n",
       "      <td>69,400</td>\n",
       "      <td>1,382</td>\n",
       "    </tr>\n",
       "    <tr>\n",
       "      <th>4</th>\n",
       "      <td>ام جي HS DEL 2021 دبل</td>\n",
       "      <td>65,000</td>\n",
       "      <td>1,704</td>\n",
       "    </tr>\n",
       "    <tr>\n",
       "      <th>5</th>\n",
       "      <td>هيونداي ستاريا Van 2022</td>\n",
       "      <td>80,500</td>\n",
       "      <td>1,219</td>\n",
       "    </tr>\n",
       "    <tr>\n",
       "      <th>6</th>\n",
       "      <td>فورد اسكايب  2019</td>\n",
       "      <td>57,100</td>\n",
       "      <td>1,580</td>\n",
       "    </tr>\n",
       "    <tr>\n",
       "      <th>7</th>\n",
       "      <td>نيسان التيما S 2022</td>\n",
       "      <td>74,500</td>\n",
       "      <td>947</td>\n",
       "    </tr>\n",
       "    <tr>\n",
       "      <th>8</th>\n",
       "      <td>نيسان سنترا S 2020</td>\n",
       "      <td>44,000</td>\n",
       "      <td>1,175</td>\n",
       "    </tr>\n",
       "    <tr>\n",
       "      <th>9</th>\n",
       "      <td>فاو بيستون تي 77  2021</td>\n",
       "      <td>55,000</td>\n",
       "      <td>1,258</td>\n",
       "    </tr>\n",
       "  </tbody>\n",
       "</table>\n",
       "</div>"
      ],
      "text/plain": [
       "                            Names  Prices prices_monthly\n",
       "0  فورد رينجر Double Cab 2019 دبل  47,900          1,028\n",
       "1     ميتسوبيشي L200 DC 4x2 2020   57,000          1,217\n",
       "2             نيسان ددسن GL 2016   38,400          1,474\n",
       "3   فولكس فاجن تي روك ستايل 2021   69,400          1,382\n",
       "4           ام جي HS DEL 2021 دبل  65,000          1,704\n",
       "5        هيونداي ستاريا Van 2022   80,500          1,219\n",
       "6              فورد اسكايب  2019   57,100          1,580\n",
       "7            نيسان التيما S 2022   74,500            947\n",
       "8             نيسان سنترا S 2020   44,000          1,175\n",
       "9         فاو بيستون تي 77  2021   55,000          1,258"
      ]
     },
     "execution_count": 32,
     "metadata": {},
     "output_type": "execute_result"
    }
   ],
   "source": [
    "df"
   ]
  },
  {
   "cell_type": "code",
   "execution_count": 36,
   "id": "8bd1cde8",
   "metadata": {},
   "outputs": [
    {
     "ename": "KeyboardInterrupt",
     "evalue": "",
     "output_type": "error",
     "traceback": [
      "\u001b[1;31m---------------------------------------------------------------------------\u001b[0m",
      "\u001b[1;31mKeyboardInterrupt\u001b[0m                         Traceback (most recent call last)",
      "Cell \u001b[1;32mIn[36], line 30\u001b[0m\n\u001b[0;32m     27\u001b[0m driver\u001b[38;5;241m.\u001b[39mexecute_script(\u001b[38;5;124m\"\u001b[39m\u001b[38;5;124mwindow.scrollTo(0, document.body.scrollHeight);\u001b[39m\u001b[38;5;124m\"\u001b[39m)\n\u001b[0;32m     29\u001b[0m \u001b[38;5;66;03m# Wait to load the page\u001b[39;00m\n\u001b[1;32m---> 30\u001b[0m time\u001b[38;5;241m.\u001b[39msleep(SCROLL_PAUSE_TIME)\n\u001b[0;32m     32\u001b[0m     \u001b[38;5;66;03m# extract the body and parse it\u001b[39;00m\n\u001b[0;32m     33\u001b[0m soup \u001b[38;5;241m=\u001b[39m BeautifulSoup(driver\u001b[38;5;241m.\u001b[39mpage_source, \u001b[38;5;124m\"\u001b[39m\u001b[38;5;124mhtml.parser\u001b[39m\u001b[38;5;124m\"\u001b[39m)\n",
      "\u001b[1;31mKeyboardInterrupt\u001b[0m: "
     ]
    }
   ],
   "source": [
    "from selenium import webdriver\n",
    "from selenium.webdriver.common.keys import Keys\n",
    "import time\n",
    "from selenium.common.exceptions import NoSuchElementException\n",
    "\n",
    "\n",
    "columns_ = ['Names', 'Prices']\n",
    "df = pd.DataFrame(columns=columns_)\n",
    "\n",
    "# Set up the WebDriver (make sure the path is correct for your system)\n",
    "driver = webdriver.Chrome()\n",
    "\n",
    "# Open a webpage\n",
    "driver.get('https://www.booking.com/searchresults.en-gb.html?ss=Riyadh%2C+Saudi+Arabia&efdco=1&label=en-sa-booking-desktop-UmcGSHJHH5d7CxRJ6pHCYgS652796015661%3Apl%3Ata%3Ap1%3Ap2%3Aac%3Aap%3Aneg%3Afi%3Atikwd-65526620%3Alp9076994%3Ali%3Adec%3Adm&aid=2311236&lang=en-gb&sb=1&src_elem=sb&src=index&dest_id=900040280&dest_type=city&group_adults=2&no_rooms=1&group_children=0')\n",
    "\n",
    "# Scroll down using JavaScript\n",
    "driver.execute_script(\"window.scrollTo(0, document.body.scrollHeight);\")\n",
    "\n",
    "# Alternatively, you can scroll down in steps:\n",
    "SCROLL_PAUSE_TIME = 3  \n",
    "\n",
    "# Get scroll height\n",
    "last_height = driver.execute_script(\"return document.body.scrollHeight\")\n",
    "\n",
    "while True:\n",
    "    # Scroll down to the bottom\n",
    "    driver.execute_script(\"window.scrollTo(0, document.body.scrollHeight);\")\n",
    "\n",
    "    # Wait to load the page\n",
    "    time.sleep(SCROLL_PAUSE_TIME)\n",
    "\n",
    "        # extract the body and parse it\n",
    "    soup = BeautifulSoup(driver.page_source, \"html.parser\")\n",
    "\n",
    "    #extract the data for each page before scrolling\n",
    "    names = soup.find_all('div',{'class': \"f6431b446c a15b38c233\"})\n",
    "\n",
    "    clean_names = []\n",
    "    for element in names:\n",
    "        clean_names.append(element.get_text())\n",
    "\n",
    "    new_rows_df = pd.DataFrame(\n",
    "    {\n",
    "        'Names': clean_names, \n",
    "    })\n",
    "\n",
    "    df = pd.concat([df, new_rows_df], ignore_index=True)\n",
    "\n",
    "\n",
    "    # Calculate new scroll height and compare with the last scroll height\n",
    "    new_height = driver.execute_script(\"return document.body.scrollHeight\")\n",
    "    if new_height == last_height:\n",
    "        try:\n",
    "            # Try to find and click the \"Load More\" button\n",
    "            #load more button\n",
    "            wait = WebDriverWait(driver, 10)\n",
    "            load_more_button = wait.until(\n",
    "                EC.element_to_be_clickable((By.XPATH, '//button[@class=\"a83ed08757 c21c56c305 bf0537ecb5 f671049264 deab83296e af7297d90d\"]'))\n",
    "            )\n",
    "            #click the button\n",
    "            load_more_button.click()\n",
    "            time.sleep(SCROLL_PAUSE_TIME)  # Wait for more content to load\n",
    "        except (NoSuchElementException, AttributeError):\n",
    "            # If no \"Load More\" button is found, break the loop\n",
    "            break\n",
    "\n",
    "    last_height = new_height\n",
    "\n",
    "\n",
    "# Close the WebDriver\n",
    "driver.quit()"
   ]
  },
  {
   "cell_type": "code",
   "execution_count": 37,
   "id": "7d33396f",
   "metadata": {},
   "outputs": [
    {
     "data": {
      "text/plain": [
       "(14228, 2)"
      ]
     },
     "execution_count": 37,
     "metadata": {},
     "output_type": "execute_result"
    }
   ],
   "source": [
    "df.shape"
   ]
  },
  {
   "cell_type": "code",
   "execution_count": 38,
   "id": "70c5d553",
   "metadata": {},
   "outputs": [
    {
     "data": {
      "text/html": [
       "<div>\n",
       "<style scoped>\n",
       "    .dataframe tbody tr th:only-of-type {\n",
       "        vertical-align: middle;\n",
       "    }\n",
       "\n",
       "    .dataframe tbody tr th {\n",
       "        vertical-align: top;\n",
       "    }\n",
       "\n",
       "    .dataframe thead th {\n",
       "        text-align: right;\n",
       "    }\n",
       "</style>\n",
       "<table border=\"1\" class=\"dataframe\">\n",
       "  <thead>\n",
       "    <tr style=\"text-align: right;\">\n",
       "      <th></th>\n",
       "      <th>Names</th>\n",
       "      <th>Prices</th>\n",
       "    </tr>\n",
       "  </thead>\n",
       "  <tbody>\n",
       "    <tr>\n",
       "      <th>0</th>\n",
       "      <td>Novo Hotel</td>\n",
       "      <td>NaN</td>\n",
       "    </tr>\n",
       "  </tbody>\n",
       "</table>\n",
       "</div>"
      ],
      "text/plain": [
       "        Names Prices\n",
       "0  Novo Hotel    NaN"
      ]
     },
     "execution_count": 38,
     "metadata": {},
     "output_type": "execute_result"
    }
   ],
   "source": [
    "df.head(1)"
   ]
  },
  {
   "cell_type": "code",
   "execution_count": 11,
   "id": "38d4d1f1",
   "metadata": {},
   "outputs": [
    {
     "name": "stdout",
     "output_type": "stream",
     "text": [
      "[<div class=\"f6431b446c a15b38c233\" data-testid=\"title\">Novo Hotel</div>, <div class=\"f6431b446c a15b38c233\" data-testid=\"title\">الماسم للأجنحة المخدومة- الملك فهد</div>, <div class=\"f6431b446c a15b38c233\" data-testid=\"title\">شقق سمارت انترى بالملقا</div>, <div class=\"f6431b446c a15b38c233\" data-testid=\"title\">Karim Hotel Riyadh</div>, <div class=\"f6431b446c a15b38c233\" data-testid=\"title\">Business Inn Olaya</div>, <div class=\"f6431b446c a15b38c233\" data-testid=\"title\">Al Anoud Tower Residence</div>, <div class=\"f6431b446c a15b38c233\" data-testid=\"title\">Ramada by Wyndham Hotel Riyadh</div>, <div class=\"f6431b446c a15b38c233\" data-testid=\"title\">نمار هوم للاجنحة المخدومة -طويق</div>, <div class=\"f6431b446c a15b38c233\" data-testid=\"title\">Quiet room 3</div>, <div class=\"f6431b446c a15b38c233\" data-testid=\"title\">Joudyan Olaya Riyadh By Elaf</div>, <div class=\"f6431b446c a15b38c233\" data-testid=\"title\">فندق سما السعوديه</div>, <div class=\"f6431b446c a15b38c233\" data-testid=\"title\">Celin Home Alsahafa - Riyadh City View</div>, <div class=\"f6431b446c a15b38c233\" data-testid=\"title\">Grand Plaza Hotel - Gulf Riyadh</div>, <div class=\"f6431b446c a15b38c233\" data-testid=\"title\">Quiet Rooms 8</div>, <div class=\"f6431b446c a15b38c233\" data-testid=\"title\">Park Inn by Radisson, Riyadh</div>, <div class=\"f6431b446c a15b38c233\" data-testid=\"title\">Executives Hotel / KAFD</div>, <div class=\"f6431b446c a15b38c233\" data-testid=\"title\">Towlan Qurtuba 2</div>, <div class=\"f6431b446c a15b38c233\" data-testid=\"title\">غرف عزاب خاصه لشخص واحد اجار شهري</div>, <div class=\"f6431b446c a15b38c233\" data-testid=\"title\">استديو تصميم فندقي دخوول ذاتي</div>, <div class=\"f6431b446c a15b38c233\" data-testid=\"title\">Arjaan Altakhassusi Hotel Suites</div>, <div class=\"f6431b446c a15b38c233\" data-testid=\"title\">بوابة النخيل للشقق الفندقية</div>, <div class=\"f6431b446c a15b38c233\" data-testid=\"title\">النظافه والجوده</div>, <div class=\"f6431b446c a15b38c233\" data-testid=\"title\">Ramada by Wyndham Riyadh King Fahd Road</div>, <div class=\"f6431b446c a15b38c233\" data-testid=\"title\">Braira Qurtubah</div>, <div class=\"f6431b446c a15b38c233\" data-testid=\"title\">Hyatt Regency Riyadh Olaya</div>, <div class=\"f6431b446c a15b38c233\" data-testid=\"title\">Arto Aparthotel</div>, <div class=\"f6431b446c a15b38c233\" data-testid=\"title\">Cantonal Hotel by Warwick</div>, <div class=\"f6431b446c a15b38c233\" data-testid=\"title\">دلتا بارك للشقق المخدومة DELTA PARK SERVICED APARTMENTs</div>, <div class=\"f6431b446c a15b38c233\" data-testid=\"title\">Amber Hospitality - Al Qairawan</div>, <div class=\"f6431b446c a15b38c233\" data-testid=\"title\">Quiet Rooms 7</div>, <div class=\"f6431b446c a15b38c233\" data-testid=\"title\">Millennia Olaya Hotel</div>, <div class=\"f6431b446c a15b38c233\" data-testid=\"title\">فندق فيرانو</div>, <div class=\"f6431b446c a15b38c233\" data-testid=\"title\">Carawan Al Fahad Hotel</div>, <div class=\"f6431b446c a15b38c233\" data-testid=\"title\">فندق ارجان بارك العزيزية Arjan Park Hotel</div>, <div class=\"f6431b446c a15b38c233\" data-testid=\"title\">علم الفريدة للوحدات السكنية المفروشة Alam Faridah Hotel</div>, <div class=\"f6431b446c a15b38c233\" data-testid=\"title\">Centro Waha by Rotana</div>, <div class=\"f6431b446c a15b38c233\" data-testid=\"title\">Madareem Hotel</div>, <div class=\"f6431b446c a15b38c233\" data-testid=\"title\">Erfad Hotel - Riyadh</div>, <div class=\"f6431b446c a15b38c233\" data-testid=\"title\">Al Mashreq Boutique Hotel</div>, <div class=\"f6431b446c a15b38c233\" data-testid=\"title\">Hyatt Place Riyadh Sulaimania</div>, <div class=\"f6431b446c a15b38c233\" data-testid=\"title\">Centro Olaya by Rotana</div>, <div class=\"f6431b446c a15b38c233\" data-testid=\"title\">شقق دخول ذاتى سمارت حى الملقا</div>, <div class=\"f6431b446c a15b38c233\" data-testid=\"title\">Riyadh Airport Marriott Hotel</div>, <div class=\"f6431b446c a15b38c233\" data-testid=\"title\">Novotel Riyadh Sahafa</div>, <div class=\"f6431b446c a15b38c233\" data-testid=\"title\">Novotel Riyadh Al Anoud</div>, <div class=\"f6431b446c a15b38c233\" data-testid=\"title\">Radisson Blu Hotel, Riyadh</div>, <div class=\"f6431b446c a15b38c233\" data-testid=\"title\">Hilton Garden Inn Riyadh Financial District</div>, <div class=\"f6431b446c a15b38c233\" data-testid=\"title\">فندق أرجان بارك ظهرة لبن Arjan Park Hotel</div>, <div class=\"f6431b446c a15b38c233\" data-testid=\"title\">Towlan Al Rawdah</div>, <div class=\"f6431b446c a15b38c233\" data-testid=\"title\">Alfarhan Panda Alfayha</div>, <div class=\"f6431b446c a15b38c233\" data-testid=\"title\">Executives Hotel - Olaya</div>, <div class=\"f6431b446c a15b38c233\" data-testid=\"title\">Melissa Hotel Riyadh</div>, <div class=\"f6431b446c a15b38c233\" data-testid=\"title\">Radisson Blu Hotel Riyadh Convention and Exhibition Center</div>, <div class=\"f6431b446c a15b38c233\" data-testid=\"title\">Riyadha Home Apartment</div>, <div class=\"f6431b446c a15b38c233\" data-testid=\"title\">Holiday Inn Riyadh Al Qasr, an IHG Hotel</div>, <div class=\"f6431b446c a15b38c233\" data-testid=\"title\">Crowne Plaza Riyadh - RDC Hotel &amp; Convention, an IHG Hotel</div>, <div class=\"f6431b446c a15b38c233\" data-testid=\"title\">Courtyard Riyadh by Marriott Diplomatic Quarter</div>, <div class=\"f6431b446c a15b38c233\" data-testid=\"title\">Courtyard by Marriott Riyadh Olaya</div>, <div class=\"f6431b446c a15b38c233\" data-testid=\"title\">Anan Hotel</div>, <div class=\"f6431b446c a15b38c233\" data-testid=\"title\">Rosh Rayhaan by Rotana</div>, <div class=\"f6431b446c a15b38c233\" data-testid=\"title\">بيت النرجس الخاص</div>, <div class=\"f6431b446c a15b38c233\" data-testid=\"title\">Golden Dune Hotel AlFayhaa</div>, <div class=\"f6431b446c a15b38c233\" data-testid=\"title\">Rafa Hotel Apart</div>, <div class=\"f6431b446c a15b38c233\" data-testid=\"title\">أجنحة الرونق المخدومة</div>, <div class=\"f6431b446c a15b38c233\" data-testid=\"title\">Sanam Hotel Suites - Riyadh</div>, <div class=\"f6431b446c a15b38c233\" data-testid=\"title\">فلل كاسا الفندقية</div>, <div class=\"f6431b446c a15b38c233\" data-testid=\"title\">Braira Al Yarmouk</div>, <div class=\"f6431b446c a15b38c233\" data-testid=\"title\">Warwick Riyadh Al Wezarat</div>, <div class=\"f6431b446c a15b38c233\" data-testid=\"title\">Braira Al Olaya</div>, <div class=\"f6431b446c a15b38c233\" data-testid=\"title\">Meral Crown Hotel</div>, <div class=\"f6431b446c a15b38c233\" data-testid=\"title\">فندق سرر المحمديه الرياض</div>, <div class=\"f6431b446c a15b38c233\" data-testid=\"title\">Hadab Al Sahafa</div>, <div class=\"f6431b446c a15b38c233\" data-testid=\"title\">DAMAC Riyadh - Luxury Apartments</div>, <div class=\"f6431b446c a15b38c233\" data-testid=\"title\">Radisson Hotel Riyadh Airport</div>, <div class=\"f6431b446c a15b38c233\" data-testid=\"title\">رزان 2 لشقق المفروشة</div>]\n"
     ]
    }
   ],
   "source": [
    "print(names)"
   ]
  },
  {
   "cell_type": "code",
   "execution_count": 42,
   "id": "1e7a43cd",
   "metadata": {},
   "outputs": [
    {
     "data": {
      "text/plain": [
       "Names\n",
       "Novo Hotel                                     43\n",
       "Riyadh Airport Marriott Hotel                  43\n",
       "Alfarhan Panda Alfayha                         43\n",
       "Hilton Garden Inn Riyadh Financial District    43\n",
       "Towlan Al Rawdah                               43\n",
       "                                               ..\n",
       "Silent Room 1 By Quiet Rooms                    1\n",
       "شقه مودرن ووصول ذكي                             1\n",
       "Private Suite by Golden Hospitality 93          1\n",
       "أجنحة منازل معالي                               1\n",
       "Goatskynest Riyadh skyline view suites          1\n",
       "Name: count, Length: 598, dtype: int64"
      ]
     },
     "execution_count": 42,
     "metadata": {},
     "output_type": "execute_result"
    }
   ],
   "source": [
    "df['Names'].value_counts()"
   ]
  },
  {
   "cell_type": "code",
   "execution_count": 43,
   "id": "7b0e2657",
   "metadata": {},
   "outputs": [
    {
     "data": {
      "text/plain": [
       "13630"
      ]
     },
     "execution_count": 43,
     "metadata": {},
     "output_type": "execute_result"
    }
   ],
   "source": [
    "df.duplicated().sum()"
   ]
  },
  {
   "cell_type": "code",
   "execution_count": null,
   "id": "3fe715a9",
   "metadata": {},
   "outputs": [],
   "source": []
  }
 ],
 "metadata": {
  "kernelspec": {
   "display_name": "Python 3",
   "language": "python",
   "name": "python3"
  },
  "language_info": {
   "codemirror_mode": {
    "name": "ipython",
    "version": 3
   },
   "file_extension": ".py",
   "mimetype": "text/x-python",
   "name": "python",
   "nbconvert_exporter": "python",
   "pygments_lexer": "ipython3",
   "version": "3.11.4"
  }
 },
 "nbformat": 4,
 "nbformat_minor": 5
}
